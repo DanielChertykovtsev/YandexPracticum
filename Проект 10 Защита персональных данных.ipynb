{
 "cells": [
  {
   "cell_type": "markdown",
   "metadata": {
    "toc": true
   },
   "source": [
    "<h1>Содержание<span class=\"tocSkip\"></span></h1>\n",
    "<div class=\"toc\"><ul class=\"toc-item\"><li><span><a href=\"#Загрузка-данных\" data-toc-modified-id=\"Загрузка-данных-1\"><span class=\"toc-item-num\">1&nbsp;&nbsp;</span>Загрузка данных</a></span></li><li><span><a href=\"#Умножение-матриц\" data-toc-modified-id=\"Умножение-матриц-2\"><span class=\"toc-item-num\">2&nbsp;&nbsp;</span>Умножение матриц</a></span></li><li><span><a href=\"#Алгоритм-преобразования\" data-toc-modified-id=\"Алгоритм-преобразования-3\"><span class=\"toc-item-num\">3&nbsp;&nbsp;</span>Алгоритм преобразования</a></span></li><li><span><a href=\"#Проверка-алгоритма\" data-toc-modified-id=\"Проверка-алгоритма-4\"><span class=\"toc-item-num\">4&nbsp;&nbsp;</span>Проверка алгоритма</a></span></li><li><span><a href=\"#Чек-лист-проверки\" data-toc-modified-id=\"Чек-лист-проверки-5\"><span class=\"toc-item-num\">5&nbsp;&nbsp;</span>Чек-лист проверки</a></span></li></ul></div>"
   ]
  },
  {
   "cell_type": "markdown",
   "metadata": {},
   "source": [
    "# Защита персональных данных клиентов"
   ]
  },
  {
   "cell_type": "markdown",
   "metadata": {},
   "source": [
    "Вам нужно защитить данные клиентов страховой компании «Хоть потоп». Разработайте такой метод преобразования данных, чтобы по ним было сложно восстановить персональную информацию. Обоснуйте корректность его работы.\n",
    "\n",
    "Нужно защитить данные, чтобы при преобразовании качество моделей машинного обучения не ухудшилось. Подбирать наилучшую модель не требуется."
   ]
  },
  {
   "cell_type": "markdown",
   "metadata": {},
   "source": [
    "## Загрузка данных"
   ]
  },
  {
   "cell_type": "code",
   "execution_count": 1,
   "metadata": {},
   "outputs": [],
   "source": [
    "#библиотеки\n",
    "import pandas as pd\n",
    "import numpy as np\n",
    "\n",
    "#модели\n",
    "from sklearn.linear_model import LinearRegression\n",
    "\n",
    "#метрики\n",
    "from sklearn.metrics import r2_score"
   ]
  },
  {
   "cell_type": "code",
   "execution_count": 2,
   "metadata": {},
   "outputs": [
    {
     "data": {
      "text/html": [
       "<div>\n",
       "<style scoped>\n",
       "    .dataframe tbody tr th:only-of-type {\n",
       "        vertical-align: middle;\n",
       "    }\n",
       "\n",
       "    .dataframe tbody tr th {\n",
       "        vertical-align: top;\n",
       "    }\n",
       "\n",
       "    .dataframe thead th {\n",
       "        text-align: right;\n",
       "    }\n",
       "</style>\n",
       "<table border=\"1\" class=\"dataframe\">\n",
       "  <thead>\n",
       "    <tr style=\"text-align: right;\">\n",
       "      <th></th>\n",
       "      <th>Пол</th>\n",
       "      <th>Возраст</th>\n",
       "      <th>Зарплата</th>\n",
       "      <th>Члены семьи</th>\n",
       "      <th>Страховые выплаты</th>\n",
       "    </tr>\n",
       "  </thead>\n",
       "  <tbody>\n",
       "    <tr>\n",
       "      <th>0</th>\n",
       "      <td>1</td>\n",
       "      <td>41.0</td>\n",
       "      <td>49600.0</td>\n",
       "      <td>1</td>\n",
       "      <td>0</td>\n",
       "    </tr>\n",
       "    <tr>\n",
       "      <th>1</th>\n",
       "      <td>0</td>\n",
       "      <td>46.0</td>\n",
       "      <td>38000.0</td>\n",
       "      <td>1</td>\n",
       "      <td>1</td>\n",
       "    </tr>\n",
       "    <tr>\n",
       "      <th>2</th>\n",
       "      <td>0</td>\n",
       "      <td>29.0</td>\n",
       "      <td>21000.0</td>\n",
       "      <td>0</td>\n",
       "      <td>0</td>\n",
       "    </tr>\n",
       "    <tr>\n",
       "      <th>3</th>\n",
       "      <td>0</td>\n",
       "      <td>21.0</td>\n",
       "      <td>41700.0</td>\n",
       "      <td>2</td>\n",
       "      <td>0</td>\n",
       "    </tr>\n",
       "    <tr>\n",
       "      <th>4</th>\n",
       "      <td>1</td>\n",
       "      <td>28.0</td>\n",
       "      <td>26100.0</td>\n",
       "      <td>0</td>\n",
       "      <td>0</td>\n",
       "    </tr>\n",
       "  </tbody>\n",
       "</table>\n",
       "</div>"
      ],
      "text/plain": [
       "   Пол  Возраст  Зарплата  Члены семьи  Страховые выплаты\n",
       "0    1     41.0   49600.0            1                  0\n",
       "1    0     46.0   38000.0            1                  1\n",
       "2    0     29.0   21000.0            0                  0\n",
       "3    0     21.0   41700.0            2                  0\n",
       "4    1     28.0   26100.0            0                  0"
      ]
     },
     "execution_count": 2,
     "metadata": {},
     "output_type": "execute_result"
    }
   ],
   "source": [
    "data = pd.read_csv('/datasets/insurance.csv')\n",
    "data.head()"
   ]
  },
  {
   "cell_type": "code",
   "execution_count": 3,
   "metadata": {},
   "outputs": [
    {
     "name": "stdout",
     "output_type": "stream",
     "text": [
      "<class 'pandas.core.frame.DataFrame'>\n",
      "RangeIndex: 5000 entries, 0 to 4999\n",
      "Data columns (total 5 columns):\n",
      " #   Column             Non-Null Count  Dtype  \n",
      "---  ------             --------------  -----  \n",
      " 0   Пол                5000 non-null   int64  \n",
      " 1   Возраст            5000 non-null   float64\n",
      " 2   Зарплата           5000 non-null   float64\n",
      " 3   Члены семьи        5000 non-null   int64  \n",
      " 4   Страховые выплаты  5000 non-null   int64  \n",
      "dtypes: float64(2), int64(3)\n",
      "memory usage: 195.4 KB\n"
     ]
    }
   ],
   "source": [
    "data.info()"
   ]
  },
  {
   "cell_type": "code",
   "execution_count": 4,
   "metadata": {
    "scrolled": true
   },
   "outputs": [
    {
     "data": {
      "text/html": [
       "<div>\n",
       "<style scoped>\n",
       "    .dataframe tbody tr th:only-of-type {\n",
       "        vertical-align: middle;\n",
       "    }\n",
       "\n",
       "    .dataframe tbody tr th {\n",
       "        vertical-align: top;\n",
       "    }\n",
       "\n",
       "    .dataframe thead th {\n",
       "        text-align: right;\n",
       "    }\n",
       "</style>\n",
       "<table border=\"1\" class=\"dataframe\">\n",
       "  <thead>\n",
       "    <tr style=\"text-align: right;\">\n",
       "      <th></th>\n",
       "      <th>Пол</th>\n",
       "      <th>Возраст</th>\n",
       "      <th>Зарплата</th>\n",
       "      <th>Члены семьи</th>\n",
       "      <th>Страховые выплаты</th>\n",
       "    </tr>\n",
       "  </thead>\n",
       "  <tbody>\n",
       "    <tr>\n",
       "      <th>count</th>\n",
       "      <td>5000.000000</td>\n",
       "      <td>5000.000000</td>\n",
       "      <td>5000.000000</td>\n",
       "      <td>5000.000000</td>\n",
       "      <td>5000.000000</td>\n",
       "    </tr>\n",
       "    <tr>\n",
       "      <th>mean</th>\n",
       "      <td>0.499000</td>\n",
       "      <td>30.952800</td>\n",
       "      <td>39916.360000</td>\n",
       "      <td>1.194200</td>\n",
       "      <td>0.148000</td>\n",
       "    </tr>\n",
       "    <tr>\n",
       "      <th>std</th>\n",
       "      <td>0.500049</td>\n",
       "      <td>8.440807</td>\n",
       "      <td>9900.083569</td>\n",
       "      <td>1.091387</td>\n",
       "      <td>0.463183</td>\n",
       "    </tr>\n",
       "    <tr>\n",
       "      <th>min</th>\n",
       "      <td>0.000000</td>\n",
       "      <td>18.000000</td>\n",
       "      <td>5300.000000</td>\n",
       "      <td>0.000000</td>\n",
       "      <td>0.000000</td>\n",
       "    </tr>\n",
       "    <tr>\n",
       "      <th>25%</th>\n",
       "      <td>0.000000</td>\n",
       "      <td>24.000000</td>\n",
       "      <td>33300.000000</td>\n",
       "      <td>0.000000</td>\n",
       "      <td>0.000000</td>\n",
       "    </tr>\n",
       "    <tr>\n",
       "      <th>50%</th>\n",
       "      <td>0.000000</td>\n",
       "      <td>30.000000</td>\n",
       "      <td>40200.000000</td>\n",
       "      <td>1.000000</td>\n",
       "      <td>0.000000</td>\n",
       "    </tr>\n",
       "    <tr>\n",
       "      <th>75%</th>\n",
       "      <td>1.000000</td>\n",
       "      <td>37.000000</td>\n",
       "      <td>46600.000000</td>\n",
       "      <td>2.000000</td>\n",
       "      <td>0.000000</td>\n",
       "    </tr>\n",
       "    <tr>\n",
       "      <th>max</th>\n",
       "      <td>1.000000</td>\n",
       "      <td>65.000000</td>\n",
       "      <td>79000.000000</td>\n",
       "      <td>6.000000</td>\n",
       "      <td>5.000000</td>\n",
       "    </tr>\n",
       "  </tbody>\n",
       "</table>\n",
       "</div>"
      ],
      "text/plain": [
       "               Пол      Возраст      Зарплата  Члены семьи  Страховые выплаты\n",
       "count  5000.000000  5000.000000   5000.000000  5000.000000        5000.000000\n",
       "mean      0.499000    30.952800  39916.360000     1.194200           0.148000\n",
       "std       0.500049     8.440807   9900.083569     1.091387           0.463183\n",
       "min       0.000000    18.000000   5300.000000     0.000000           0.000000\n",
       "25%       0.000000    24.000000  33300.000000     0.000000           0.000000\n",
       "50%       0.000000    30.000000  40200.000000     1.000000           0.000000\n",
       "75%       1.000000    37.000000  46600.000000     2.000000           0.000000\n",
       "max       1.000000    65.000000  79000.000000     6.000000           5.000000"
      ]
     },
     "execution_count": 4,
     "metadata": {},
     "output_type": "execute_result"
    }
   ],
   "source": [
    "data.describe()"
   ]
  },
  {
   "cell_type": "code",
   "execution_count": 5,
   "metadata": {},
   "outputs": [],
   "source": [
    "features = data.drop('Страховые выплаты',axis=1)\n",
    "features.insert(0,'w0',pd.Series([1]*features.shape[0]))\n",
    "target = data['Страховые выплаты']"
   ]
  },
  {
   "cell_type": "markdown",
   "metadata": {},
   "source": [
    "<b>Вывод по загрузке данных</b></p>\n",
    "Представлены данные по 5000 клиентов.</p> \n",
    "\n",
    "Пропуски, выбросы и заведомо некорректные значения отсутствуют.</p>\n",
    "\n",
    "Предобработка данных не требуется"
   ]
  },
  {
   "cell_type": "markdown",
   "metadata": {},
   "source": [
    "## Умножение матриц"
   ]
  },
  {
   "cell_type": "markdown",
   "metadata": {},
   "source": [
    "Рассмотрим возможность умножения исходной матрицы на обратимую без потери качества работы модели регрессии:"
   ]
  },
  {
   "cell_type": "markdown",
   "metadata": {},
   "source": [
    "Обозначения:\n",
    "\n",
    "- $X$ — матрица признаков (нулевой столбец состоит из единиц)\n",
    "\n",
    "- $y$ — вектор целевого признака\n",
    "\n",
    "- $P$ — матрица, на которую умножаются признаки\n",
    "\n",
    "- $w$ — вектор весов линейной регрессии (нулевой элемент равен сдвигу)"
   ]
  },
  {
   "cell_type": "markdown",
   "metadata": {},
   "source": [
    "Предсказания:\n",
    "\n",
    "$$\n",
    "a = Xw\n",
    "$$\n",
    "\n",
    "Задача обучения:\n",
    "\n",
    "$$\n",
    "w = \\arg\\min_w MSE(Xw, y)\n",
    "$$\n",
    "\n",
    "Формула обучения:\n",
    "\n",
    "$$\n",
    "w = (X^T X)^{-1} X^T y\n",
    "$$"
   ]
  },
  {
   "cell_type": "markdown",
   "metadata": {},
   "source": [
    "**Ответ:** \n",
    "При умножении матрицы признаков на обратимую матрицу результат отработки модели не изменится:\n",
    "$$\n",
    "a`=a\n",
    "$$\n",
    "\n",
    "**Обоснование:** \n",
    "умножим матрицу признаков z на корректирующую матрицу p\n",
    "$$\n",
    "xp = z\n",
    "$$\n",
    "$$\n",
    "w`=(z^Tz)^{-1} z^T y\n",
    "$$\n",
    "$$\n",
    "(z^Tz)^{-1} z^T y = ((xp)^{T}(xp))^{-1} (xp)^{T} y = (p^{T}x^{T}xp)^{-1} p^{T}x^{T} y = (x^{T}x)^{-1}(p^{T}p)^{-1} p^{T}x^{T} y = p^{-1} (x^{T}x)^{-1}(p^{T})^{-1}p^{T}x^{T} y = p^{-1}(x^{T}x)^{-1}x^{T} y = p^{-1}w\n",
    "$$\n",
    "$$\n",
    "a=xw\n",
    "$$\n",
    "$$\n",
    "a`=zw`= xp p^{-1}w=xEw=a\n",
    "$$\n",
    "**Вывод**\n",
    "$$\n",
    "a`=a\n",
    "$$\n",
    "По результату умножения матрицы признаков на обратимую матрицу результат отработки модели не изменяется"
   ]
  },
  {
   "cell_type": "markdown",
   "metadata": {},
   "source": [
    "**Алгоритм**\n"
   ]
  },
  {
   "cell_type": "markdown",
   "metadata": {},
   "source": [
    "в исходной матрице \"признаков\" 5 столбца. Воспользуемся для умножения обратимой матрицей размерностью 5х5:\n",
    "1. Создадим модель на базе библиотеки sklern.LinerRegression()\n",
    "2. Создаем обратимую матрицу средствами Numpy\n",
    "3. Проверяем оборатимость матрицы\n",
    "4. Тестируем отработку обученной модели как на исходной матрице признаков, так и на матрице признаков умноженной на созданную обратимую матрицу.\n",
    "5. Сравниваем результаты оценки полученной средствами r2_score"
   ]
  },
  {
   "cell_type": "markdown",
   "metadata": {},
   "source": [
    "**Обоснование**\n",
    "\n",
    "в пункте 2 приведено доказательство возможности домножения матрицы признаков без потери эффективности использования модели. Таким образом качество предсказания по матрице признаков, умноженной на обратимую будет равно качеству предсказания по исходной матрице."
   ]
  },
  {
   "cell_type": "markdown",
   "metadata": {},
   "source": [
    "## Проверка алгоритма"
   ]
  },
  {
   "cell_type": "code",
   "execution_count": 6,
   "metadata": {
    "scrolled": true
   },
   "outputs": [
    {
     "name": "stdout",
     "output_type": "stream",
     "text": [
      "Reversibility Checked successfully\n",
      "Show the E matrix\n",
      "[[0 0 0 0 0]\n",
      " [0 1 0 0 0]\n",
      " [0 0 1 0 0]\n",
      " [0 0 0 1 0]\n",
      " [0 0 0 0 1]]\n"
     ]
    }
   ],
   "source": [
    "#создаем обратимую матрицу\n",
    "inverse = []\n",
    "P = np.random.normal(size=(features.shape[1], features.shape[1]))\n",
    "#проверяем на обратимость\n",
    "try:\n",
    "    inverse = np.linalg.inv(P)\n",
    "    print('Reversibility Checked successfully')\n",
    "except np.linalg.LinAlgError:\n",
    "    # Not invertible. Skip this one.\n",
    "    pass\n",
    "print('Show the E matrix')\n",
    "#print(np.dot(P,inverse).astype('int64'))\n",
    "print((P@inverse).astype('int64'))"
   ]
  },
  {
   "cell_type": "code",
   "execution_count": 7,
   "metadata": {},
   "outputs": [],
   "source": [
    "model = LinearRegression()"
   ]
  },
  {
   "cell_type": "code",
   "execution_count": 8,
   "metadata": {},
   "outputs": [
    {
     "data": {
      "text/plain": [
       "LinearRegression()"
      ]
     },
     "execution_count": 8,
     "metadata": {},
     "output_type": "execute_result"
    }
   ],
   "source": [
    "model.fit(features,target)"
   ]
  },
  {
   "cell_type": "code",
   "execution_count": 9,
   "metadata": {},
   "outputs": [
    {
     "name": "stdout",
     "output_type": "stream",
     "text": [
      "R2 для первичной матрицы 0.42494550286668\n"
     ]
    }
   ],
   "source": [
    "predictions = model.predict(features)\n",
    "print('R2 для первичной матрицы {}'.format(r2_score(target, predictions)))"
   ]
  },
  {
   "cell_type": "code",
   "execution_count": 10,
   "metadata": {
    "scrolled": true
   },
   "outputs": [
    {
     "name": "stdout",
     "output_type": "stream",
     "text": [
      "R2 для матрицы умноженной на обратимую 0.4249453781096372\n"
     ]
    }
   ],
   "source": [
    "features_new = features@P\n",
    "model.fit(features_new,target)\n",
    "predictions1 = model.predict(features_new)\n",
    "print('R2 для матрицы умноженной на обратимую {}'.format(r2_score(target, predictions1)))"
   ]
  },
  {
   "cell_type": "markdown",
   "metadata": {},
   "source": [
    "<b>Вывод </b> мы осуществили изменение/сделали нечитаемыми исходные данные о клиентах сохранив пригодность их использования для обучения модели линейной регрессии и использования ее для предсказания целевого признака. Метрика R2 сохранилась на прежнем уровне."
   ]
  },
  {
   "cell_type": "code",
   "execution_count": null,
   "metadata": {},
   "outputs": [],
   "source": []
  }
 ],
 "metadata": {
  "ExecuteTimeLog": [
   {
    "duration": 404,
    "start_time": "2022-06-22T07:42:53.785Z"
   },
   {
    "duration": 104,
    "start_time": "2022-06-22T07:43:22.147Z"
   },
   {
    "duration": 39,
    "start_time": "2022-06-22T07:43:29.986Z"
   },
   {
    "duration": 14,
    "start_time": "2022-06-22T07:43:42.467Z"
   },
   {
    "duration": 24,
    "start_time": "2022-06-22T07:43:53.112Z"
   },
   {
    "duration": 57,
    "start_time": "2022-06-23T14:02:28.603Z"
   },
   {
    "duration": 1078,
    "start_time": "2022-06-23T14:02:37.116Z"
   },
   {
    "duration": 87,
    "start_time": "2022-06-23T14:02:38.196Z"
   },
   {
    "duration": 10,
    "start_time": "2022-06-23T14:02:38.285Z"
   },
   {
    "duration": 25,
    "start_time": "2022-06-23T14:02:38.297Z"
   },
   {
    "duration": 106,
    "start_time": "2022-06-23T14:02:38.323Z"
   },
   {
    "duration": 12,
    "start_time": "2022-06-23T14:03:14.362Z"
   },
   {
    "duration": 4,
    "start_time": "2022-06-23T14:03:24.645Z"
   },
   {
    "duration": 24,
    "start_time": "2022-06-23T14:03:31.044Z"
   },
   {
    "duration": 11,
    "start_time": "2022-06-23T14:06:52.022Z"
   },
   {
    "duration": 11,
    "start_time": "2022-06-23T14:07:16.966Z"
   },
   {
    "duration": 13,
    "start_time": "2022-06-23T14:07:28.107Z"
   },
   {
    "duration": 18,
    "start_time": "2022-06-23T14:07:36.986Z"
   },
   {
    "duration": 12,
    "start_time": "2022-06-23T14:07:58.281Z"
   },
   {
    "duration": 15,
    "start_time": "2022-06-23T14:08:34.319Z"
   },
   {
    "duration": 13,
    "start_time": "2022-06-23T14:09:37.496Z"
   },
   {
    "duration": 6,
    "start_time": "2022-06-23T14:10:34.066Z"
   },
   {
    "duration": 3,
    "start_time": "2022-06-23T14:11:13.375Z"
   },
   {
    "duration": 11,
    "start_time": "2022-06-23T14:11:26.920Z"
   },
   {
    "duration": 9,
    "start_time": "2022-06-23T14:35:19.900Z"
   },
   {
    "duration": 6,
    "start_time": "2022-06-23T14:36:04.548Z"
   },
   {
    "duration": 5,
    "start_time": "2022-06-23T14:36:13.104Z"
   },
   {
    "duration": 270,
    "start_time": "2022-06-23T14:40:04.451Z"
   },
   {
    "duration": 12,
    "start_time": "2022-06-23T14:40:19.231Z"
   },
   {
    "duration": 4,
    "start_time": "2022-06-23T14:40:28.665Z"
   },
   {
    "duration": 6,
    "start_time": "2022-06-23T14:41:03.486Z"
   },
   {
    "duration": 6,
    "start_time": "2022-06-23T14:41:38.330Z"
   },
   {
    "duration": 11,
    "start_time": "2022-06-23T14:45:49.862Z"
   },
   {
    "duration": 133,
    "start_time": "2022-06-23T14:46:00.422Z"
   },
   {
    "duration": 6,
    "start_time": "2022-06-23T14:46:20.232Z"
   },
   {
    "duration": 58,
    "start_time": "2022-06-23T14:47:25.188Z"
   },
   {
    "duration": 14,
    "start_time": "2022-06-23T14:47:55.690Z"
   },
   {
    "duration": 6,
    "start_time": "2022-06-23T14:48:16.669Z"
   },
   {
    "duration": 6,
    "start_time": "2022-06-23T14:48:51.893Z"
   },
   {
    "duration": 2,
    "start_time": "2022-06-23T14:49:01.328Z"
   },
   {
    "duration": 7,
    "start_time": "2022-06-23T14:49:06.065Z"
   },
   {
    "duration": 34,
    "start_time": "2022-06-23T14:51:20.728Z"
   },
   {
    "duration": 3,
    "start_time": "2022-06-23T14:52:09.418Z"
   },
   {
    "duration": 30,
    "start_time": "2022-06-23T14:52:09.693Z"
   },
   {
    "duration": 1131,
    "start_time": "2022-06-23T14:52:18.249Z"
   },
   {
    "duration": 38,
    "start_time": "2022-06-23T14:52:19.382Z"
   },
   {
    "duration": 10,
    "start_time": "2022-06-23T14:52:19.422Z"
   },
   {
    "duration": 34,
    "start_time": "2022-06-23T14:52:19.434Z"
   },
   {
    "duration": 8,
    "start_time": "2022-06-23T14:52:19.470Z"
   },
   {
    "duration": 10,
    "start_time": "2022-06-23T14:52:19.480Z"
   },
   {
    "duration": 162,
    "start_time": "2022-06-23T14:52:19.492Z"
   },
   {
    "duration": 19,
    "start_time": "2022-06-23T14:52:19.656Z"
   },
   {
    "duration": 83,
    "start_time": "2022-06-23T14:52:19.677Z"
   },
   {
    "duration": 8,
    "start_time": "2022-06-23T14:54:04.386Z"
   },
   {
    "duration": 8,
    "start_time": "2022-06-23T14:54:26.410Z"
   },
   {
    "duration": 13,
    "start_time": "2022-06-23T14:54:46.026Z"
   },
   {
    "duration": 17,
    "start_time": "2022-06-23T14:55:35.145Z"
   },
   {
    "duration": 10,
    "start_time": "2022-06-23T14:56:27.268Z"
   },
   {
    "duration": 1356,
    "start_time": "2022-06-24T08:30:39.236Z"
   },
   {
    "duration": 107,
    "start_time": "2022-06-24T08:30:40.594Z"
   },
   {
    "duration": 11,
    "start_time": "2022-06-24T08:30:40.703Z"
   },
   {
    "duration": 30,
    "start_time": "2022-06-24T08:30:40.716Z"
   },
   {
    "duration": 9,
    "start_time": "2022-06-24T08:30:40.749Z"
   },
   {
    "duration": 30,
    "start_time": "2022-06-24T08:30:40.761Z"
   },
   {
    "duration": 160,
    "start_time": "2022-06-24T08:30:40.793Z"
   },
   {
    "duration": 26,
    "start_time": "2022-06-24T08:30:40.957Z"
   },
   {
    "duration": 67,
    "start_time": "2022-06-24T08:30:40.985Z"
   },
   {
    "duration": 117,
    "start_time": "2022-06-24T08:30:41.054Z"
   },
   {
    "duration": 56,
    "start_time": "2022-06-28T13:06:12.765Z"
   },
   {
    "duration": 1084,
    "start_time": "2022-06-28T13:07:39.048Z"
   },
   {
    "duration": 95,
    "start_time": "2022-06-28T13:07:40.134Z"
   },
   {
    "duration": 10,
    "start_time": "2022-06-28T13:07:40.231Z"
   },
   {
    "duration": 27,
    "start_time": "2022-06-28T13:07:40.243Z"
   },
   {
    "duration": 6,
    "start_time": "2022-06-28T13:07:40.271Z"
   },
   {
    "duration": 20,
    "start_time": "2022-06-28T13:07:40.279Z"
   },
   {
    "duration": 27,
    "start_time": "2022-06-28T13:07:40.301Z"
   },
   {
    "duration": 102,
    "start_time": "2022-06-28T13:07:40.331Z"
   },
   {
    "duration": 22,
    "start_time": "2022-06-28T13:07:40.434Z"
   },
   {
    "duration": 101,
    "start_time": "2022-06-28T13:07:40.529Z"
   }
  ],
  "kernelspec": {
   "display_name": "Python 3 (ipykernel)",
   "language": "python",
   "name": "python3"
  },
  "language_info": {
   "codemirror_mode": {
    "name": "ipython",
    "version": 3
   },
   "file_extension": ".py",
   "mimetype": "text/x-python",
   "name": "python",
   "nbconvert_exporter": "python",
   "pygments_lexer": "ipython3",
   "version": "3.9.7"
  },
  "toc": {
   "base_numbering": 1,
   "nav_menu": {},
   "number_sections": true,
   "sideBar": true,
   "skip_h1_title": true,
   "title_cell": "Содержание",
   "title_sidebar": "Contents",
   "toc_cell": true,
   "toc_position": {
    "height": "calc(100% - 180px)",
    "left": "10px",
    "top": "150px",
    "width": "249.891px"
   },
   "toc_section_display": true,
   "toc_window_display": true
  }
 },
 "nbformat": 4,
 "nbformat_minor": 2
}
