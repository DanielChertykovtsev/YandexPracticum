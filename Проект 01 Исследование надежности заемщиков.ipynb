{
 "cells": [
  {
   "cell_type": "markdown",
   "id": "51dae8c0",
   "metadata": {},
   "source": [
    "# Исследование надежности заемщиков."
   ]
  },
  {
   "cell_type": "markdown",
   "id": "ffba3986",
   "metadata": {},
   "source": [
    "Вводные данные - обезличенные сведения о заемщиках в разрезе кредитных договоров и информация о своевременности погашения таких договоров.\n",
    "Заказчик - кредитный отдел банка.\n",
    "Задание - определить наличие взаимосвязи семейного положения, уровня дохода, цели кредита на своевременность погашения.\n",
    "Будут проведены следующие работы по обработке данных:"
   ]
  },
  {
   "cell_type": "markdown",
   "id": "978f2022",
   "metadata": {},
   "source": [
    "1. [Обзор данных]\n",
    "2.1 [Заполнение пропусков]\n",
    "2.2 [Проверка данных на аномалии]\n",
    "2.3 [Изменение типов данных]\n",
    "2.4 [Удаление дубликатов]\n",
    "2.5 [Формирование дополнительных датафреймов словарей, декомпозиция исходного датафрейма]\n",
    "2.6-7 [Категоризация данных]"
   ]
  },
  {
   "cell_type": "markdown",
   "id": "2b5e8885",
   "metadata": {},
   "source": [
    "По результатам предобработки данных будет проведен анализ представленных заказчиком гипотез"
   ]
  },
  {
   "cell_type": "markdown",
   "id": "14fccb4d",
   "metadata": {},
   "source": [
    "### Шаг 1. Обзор данных"
   ]
  },
  {
   "cell_type": "code",
   "execution_count": 1,
   "id": "0be6995c",
   "metadata": {},
   "outputs": [
    {
     "name": "stdout",
     "output_type": "stream",
     "text": [
      "<class 'pandas.core.frame.DataFrame'>\n",
      "RangeIndex: 21525 entries, 0 to 21524\n",
      "Data columns (total 12 columns):\n",
      "children            21525 non-null int64\n",
      "days_employed       19351 non-null float64\n",
      "dob_years           21525 non-null int64\n",
      "education           21525 non-null object\n",
      "education_id        21525 non-null int64\n",
      "family_status       21525 non-null object\n",
      "family_status_id    21525 non-null int64\n",
      "gender              21525 non-null object\n",
      "income_type         21525 non-null object\n",
      "debt                21525 non-null int64\n",
      "total_income        19351 non-null float64\n",
      "purpose             21525 non-null object\n",
      "dtypes: float64(2), int64(5), object(5)\n",
      "memory usage: 2.0+ MB\n"
     ]
    }
   ],
   "source": [
    "import pandas as pd\n",
    "data_set = pd.read_csv('/datasets/data.csv')\n",
    "#Посмотрим статистику \n",
    "data_set.info()"
   ]
  },
  {
   "cell_type": "code",
   "execution_count": 2,
   "id": "22ce7d54",
   "metadata": {
    "scrolled": true
   },
   "outputs": [
    {
     "name": "stdout",
     "output_type": "stream",
     "text": [
      "children               0\n",
      "days_employed       2174\n",
      "dob_years              0\n",
      "education              0\n",
      "education_id           0\n",
      "family_status          0\n",
      "family_status_id       0\n",
      "gender                 0\n",
      "income_type            0\n",
      "debt                   0\n",
      "total_income        2174\n",
      "purpose                0\n",
      "dtype: int64\n"
     ]
    },
    {
     "data": {
      "text/plain": [
       "children            2174\n",
       "days_employed          0\n",
       "dob_years           2174\n",
       "education           2174\n",
       "education_id        2174\n",
       "family_status       2174\n",
       "family_status_id    2174\n",
       "gender              2174\n",
       "income_type         2174\n",
       "debt                2174\n",
       "total_income           0\n",
       "purpose             2174\n",
       "dtype: int64"
      ]
     },
     "execution_count": 2,
     "metadata": {},
     "output_type": "execute_result"
    }
   ],
   "source": [
    "print(data_set.isna().sum())#Пропуски встречаются в двух колонках, посчитаем количество строк в которых пропущено хотя бы одно из значений\n",
    "data_set[(pd.isnull(data_set['total_income'])==True)|(pd.isnull(data_set['total_income'])==True)].count()"
   ]
  },
  {
   "cell_type": "markdown",
   "id": "34751e20",
   "metadata": {},
   "source": [
    "Исполнение второго условия показывает, что в строках в которых не заполнено значение \"Стаж работы\"(days_employed) также не заполнено и значение \"совокупный доход\"(total_income). Это подтверждается тем фактом что количество строк в которых хотя бы одно из двух данны занчений пропущено, равно количеству строк в которых пропущены оба."
   ]
  },
  {
   "cell_type": "code",
   "execution_count": 3,
   "id": "cf91101e",
   "metadata": {},
   "outputs": [
    {
     "name": "stdout",
     "output_type": "stream",
     "text": [
      "Пропущено значений в total_income 2174\n",
      "Пропущено значений в days_employed 2174\n",
      "Строк в которых пропущено хоотя бы одно из указанных значений 2174\n",
      "Доля строк с проущенным значением 10.099884%\n"
     ]
    }
   ],
   "source": [
    "print('Пропущено значений в total_income',data_set['total_income'].isna().sum())\n",
    "print('Пропущено значений в days_employed',data_set['days_employed'].isna().sum())\n",
    "print('Строк в которых пропущено хоотя бы одно из указанных значений', len(data_set[(pd.isnull(data_set['total_income'])==True)|(pd.isnull(data_set['total_income'])==True)]))\n",
    "print('Доля строк с проущенным значением','{:0%}'.format(data_set['total_income'].isna().sum()/len(data_set)))"
   ]
  },
  {
   "cell_type": "markdown",
   "id": "d1994779",
   "metadata": {},
   "source": [
    "Очевидно что по какой то причине всегда не заполнялись оба значения - возможно это связано со спецификой отдельного продуктового решения или категории заемщиков. Проверим нет ли очевидных сходств в таких строках."
   ]
  },
  {
   "cell_type": "code",
   "execution_count": 4,
   "id": "ca5d286e",
   "metadata": {
    "scrolled": false
   },
   "outputs": [
    {
     "data": {
      "text/html": [
       "<div>\n",
       "<style scoped>\n",
       "    .dataframe tbody tr th:only-of-type {\n",
       "        vertical-align: middle;\n",
       "    }\n",
       "\n",
       "    .dataframe tbody tr th {\n",
       "        vertical-align: top;\n",
       "    }\n",
       "\n",
       "    .dataframe thead th {\n",
       "        text-align: right;\n",
       "    }\n",
       "</style>\n",
       "<table border=\"1\" class=\"dataframe\">\n",
       "  <thead>\n",
       "    <tr style=\"text-align: right;\">\n",
       "      <th></th>\n",
       "      <th>children</th>\n",
       "      <th>days_employed</th>\n",
       "      <th>dob_years</th>\n",
       "      <th>education</th>\n",
       "      <th>education_id</th>\n",
       "      <th>family_status</th>\n",
       "      <th>family_status_id</th>\n",
       "      <th>gender</th>\n",
       "      <th>income_type</th>\n",
       "      <th>debt</th>\n",
       "      <th>total_income</th>\n",
       "      <th>purpose</th>\n",
       "    </tr>\n",
       "  </thead>\n",
       "  <tbody>\n",
       "    <tr>\n",
       "      <td>12</td>\n",
       "      <td>0</td>\n",
       "      <td>NaN</td>\n",
       "      <td>65</td>\n",
       "      <td>среднее</td>\n",
       "      <td>1</td>\n",
       "      <td>гражданский брак</td>\n",
       "      <td>1</td>\n",
       "      <td>M</td>\n",
       "      <td>пенсионер</td>\n",
       "      <td>0</td>\n",
       "      <td>NaN</td>\n",
       "      <td>сыграть свадьбу</td>\n",
       "    </tr>\n",
       "    <tr>\n",
       "      <td>26</td>\n",
       "      <td>0</td>\n",
       "      <td>NaN</td>\n",
       "      <td>41</td>\n",
       "      <td>среднее</td>\n",
       "      <td>1</td>\n",
       "      <td>женат / замужем</td>\n",
       "      <td>0</td>\n",
       "      <td>M</td>\n",
       "      <td>госслужащий</td>\n",
       "      <td>0</td>\n",
       "      <td>NaN</td>\n",
       "      <td>образование</td>\n",
       "    </tr>\n",
       "    <tr>\n",
       "      <td>29</td>\n",
       "      <td>0</td>\n",
       "      <td>NaN</td>\n",
       "      <td>63</td>\n",
       "      <td>среднее</td>\n",
       "      <td>1</td>\n",
       "      <td>Не женат / не замужем</td>\n",
       "      <td>4</td>\n",
       "      <td>F</td>\n",
       "      <td>пенсионер</td>\n",
       "      <td>0</td>\n",
       "      <td>NaN</td>\n",
       "      <td>строительство жилой недвижимости</td>\n",
       "    </tr>\n",
       "    <tr>\n",
       "      <td>41</td>\n",
       "      <td>0</td>\n",
       "      <td>NaN</td>\n",
       "      <td>50</td>\n",
       "      <td>среднее</td>\n",
       "      <td>1</td>\n",
       "      <td>женат / замужем</td>\n",
       "      <td>0</td>\n",
       "      <td>F</td>\n",
       "      <td>госслужащий</td>\n",
       "      <td>0</td>\n",
       "      <td>NaN</td>\n",
       "      <td>сделка с подержанным автомобилем</td>\n",
       "    </tr>\n",
       "    <tr>\n",
       "      <td>55</td>\n",
       "      <td>0</td>\n",
       "      <td>NaN</td>\n",
       "      <td>54</td>\n",
       "      <td>среднее</td>\n",
       "      <td>1</td>\n",
       "      <td>гражданский брак</td>\n",
       "      <td>1</td>\n",
       "      <td>F</td>\n",
       "      <td>пенсионер</td>\n",
       "      <td>1</td>\n",
       "      <td>NaN</td>\n",
       "      <td>сыграть свадьбу</td>\n",
       "    </tr>\n",
       "    <tr>\n",
       "      <td>65</td>\n",
       "      <td>0</td>\n",
       "      <td>NaN</td>\n",
       "      <td>21</td>\n",
       "      <td>среднее</td>\n",
       "      <td>1</td>\n",
       "      <td>Не женат / не замужем</td>\n",
       "      <td>4</td>\n",
       "      <td>M</td>\n",
       "      <td>компаньон</td>\n",
       "      <td>0</td>\n",
       "      <td>NaN</td>\n",
       "      <td>операции с коммерческой недвижимостью</td>\n",
       "    </tr>\n",
       "    <tr>\n",
       "      <td>67</td>\n",
       "      <td>0</td>\n",
       "      <td>NaN</td>\n",
       "      <td>52</td>\n",
       "      <td>высшее</td>\n",
       "      <td>0</td>\n",
       "      <td>женат / замужем</td>\n",
       "      <td>0</td>\n",
       "      <td>F</td>\n",
       "      <td>пенсионер</td>\n",
       "      <td>0</td>\n",
       "      <td>NaN</td>\n",
       "      <td>покупка жилья для семьи</td>\n",
       "    </tr>\n",
       "    <tr>\n",
       "      <td>72</td>\n",
       "      <td>1</td>\n",
       "      <td>NaN</td>\n",
       "      <td>32</td>\n",
       "      <td>высшее</td>\n",
       "      <td>0</td>\n",
       "      <td>женат / замужем</td>\n",
       "      <td>0</td>\n",
       "      <td>M</td>\n",
       "      <td>госслужащий</td>\n",
       "      <td>0</td>\n",
       "      <td>NaN</td>\n",
       "      <td>операции с коммерческой недвижимостью</td>\n",
       "    </tr>\n",
       "    <tr>\n",
       "      <td>82</td>\n",
       "      <td>2</td>\n",
       "      <td>NaN</td>\n",
       "      <td>50</td>\n",
       "      <td>высшее</td>\n",
       "      <td>0</td>\n",
       "      <td>женат / замужем</td>\n",
       "      <td>0</td>\n",
       "      <td>F</td>\n",
       "      <td>сотрудник</td>\n",
       "      <td>0</td>\n",
       "      <td>NaN</td>\n",
       "      <td>жилье</td>\n",
       "    </tr>\n",
       "    <tr>\n",
       "      <td>83</td>\n",
       "      <td>0</td>\n",
       "      <td>NaN</td>\n",
       "      <td>52</td>\n",
       "      <td>среднее</td>\n",
       "      <td>1</td>\n",
       "      <td>женат / замужем</td>\n",
       "      <td>0</td>\n",
       "      <td>M</td>\n",
       "      <td>сотрудник</td>\n",
       "      <td>0</td>\n",
       "      <td>NaN</td>\n",
       "      <td>жилье</td>\n",
       "    </tr>\n",
       "    <tr>\n",
       "      <td>90</td>\n",
       "      <td>2</td>\n",
       "      <td>NaN</td>\n",
       "      <td>35</td>\n",
       "      <td>высшее</td>\n",
       "      <td>0</td>\n",
       "      <td>женат / замужем</td>\n",
       "      <td>0</td>\n",
       "      <td>F</td>\n",
       "      <td>сотрудник</td>\n",
       "      <td>0</td>\n",
       "      <td>NaN</td>\n",
       "      <td>операции с жильем</td>\n",
       "    </tr>\n",
       "    <tr>\n",
       "      <td>94</td>\n",
       "      <td>1</td>\n",
       "      <td>NaN</td>\n",
       "      <td>34</td>\n",
       "      <td>высшее</td>\n",
       "      <td>0</td>\n",
       "      <td>гражданский брак</td>\n",
       "      <td>1</td>\n",
       "      <td>F</td>\n",
       "      <td>компаньон</td>\n",
       "      <td>0</td>\n",
       "      <td>NaN</td>\n",
       "      <td>на проведение свадьбы</td>\n",
       "    </tr>\n",
       "    <tr>\n",
       "      <td>96</td>\n",
       "      <td>0</td>\n",
       "      <td>NaN</td>\n",
       "      <td>44</td>\n",
       "      <td>СРЕДНЕЕ</td>\n",
       "      <td>1</td>\n",
       "      <td>женат / замужем</td>\n",
       "      <td>0</td>\n",
       "      <td>F</td>\n",
       "      <td>сотрудник</td>\n",
       "      <td>0</td>\n",
       "      <td>NaN</td>\n",
       "      <td>покупка жилой недвижимости</td>\n",
       "    </tr>\n",
       "    <tr>\n",
       "      <td>97</td>\n",
       "      <td>0</td>\n",
       "      <td>NaN</td>\n",
       "      <td>47</td>\n",
       "      <td>высшее</td>\n",
       "      <td>0</td>\n",
       "      <td>женат / замужем</td>\n",
       "      <td>0</td>\n",
       "      <td>F</td>\n",
       "      <td>сотрудник</td>\n",
       "      <td>0</td>\n",
       "      <td>NaN</td>\n",
       "      <td>профильное образование</td>\n",
       "    </tr>\n",
       "    <tr>\n",
       "      <td>120</td>\n",
       "      <td>0</td>\n",
       "      <td>NaN</td>\n",
       "      <td>46</td>\n",
       "      <td>среднее</td>\n",
       "      <td>1</td>\n",
       "      <td>женат / замужем</td>\n",
       "      <td>0</td>\n",
       "      <td>F</td>\n",
       "      <td>сотрудник</td>\n",
       "      <td>0</td>\n",
       "      <td>NaN</td>\n",
       "      <td>высшее образование</td>\n",
       "    </tr>\n",
       "    <tr>\n",
       "      <td>121</td>\n",
       "      <td>0</td>\n",
       "      <td>NaN</td>\n",
       "      <td>29</td>\n",
       "      <td>высшее</td>\n",
       "      <td>0</td>\n",
       "      <td>женат / замужем</td>\n",
       "      <td>0</td>\n",
       "      <td>F</td>\n",
       "      <td>компаньон</td>\n",
       "      <td>0</td>\n",
       "      <td>NaN</td>\n",
       "      <td>автомобиль</td>\n",
       "    </tr>\n",
       "    <tr>\n",
       "      <td>135</td>\n",
       "      <td>0</td>\n",
       "      <td>NaN</td>\n",
       "      <td>27</td>\n",
       "      <td>среднее</td>\n",
       "      <td>1</td>\n",
       "      <td>женат / замужем</td>\n",
       "      <td>0</td>\n",
       "      <td>M</td>\n",
       "      <td>компаньон</td>\n",
       "      <td>0</td>\n",
       "      <td>NaN</td>\n",
       "      <td>жилье</td>\n",
       "    </tr>\n",
       "    <tr>\n",
       "      <td>141</td>\n",
       "      <td>0</td>\n",
       "      <td>NaN</td>\n",
       "      <td>39</td>\n",
       "      <td>среднее</td>\n",
       "      <td>1</td>\n",
       "      <td>гражданский брак</td>\n",
       "      <td>1</td>\n",
       "      <td>M</td>\n",
       "      <td>сотрудник</td>\n",
       "      <td>0</td>\n",
       "      <td>NaN</td>\n",
       "      <td>свадьба</td>\n",
       "    </tr>\n",
       "    <tr>\n",
       "      <td>145</td>\n",
       "      <td>0</td>\n",
       "      <td>NaN</td>\n",
       "      <td>62</td>\n",
       "      <td>среднее</td>\n",
       "      <td>1</td>\n",
       "      <td>женат / замужем</td>\n",
       "      <td>0</td>\n",
       "      <td>M</td>\n",
       "      <td>пенсионер</td>\n",
       "      <td>0</td>\n",
       "      <td>NaN</td>\n",
       "      <td>строительство недвижимости</td>\n",
       "    </tr>\n",
       "    <tr>\n",
       "      <td>174</td>\n",
       "      <td>0</td>\n",
       "      <td>NaN</td>\n",
       "      <td>55</td>\n",
       "      <td>высшее</td>\n",
       "      <td>0</td>\n",
       "      <td>вдовец / вдова</td>\n",
       "      <td>2</td>\n",
       "      <td>F</td>\n",
       "      <td>компаньон</td>\n",
       "      <td>0</td>\n",
       "      <td>NaN</td>\n",
       "      <td>свой автомобиль</td>\n",
       "    </tr>\n",
       "  </tbody>\n",
       "</table>\n",
       "</div>"
      ],
      "text/plain": [
       "     children  days_employed  dob_years education  education_id  \\\n",
       "12          0            NaN         65   среднее             1   \n",
       "26          0            NaN         41   среднее             1   \n",
       "29          0            NaN         63   среднее             1   \n",
       "41          0            NaN         50   среднее             1   \n",
       "55          0            NaN         54   среднее             1   \n",
       "65          0            NaN         21   среднее             1   \n",
       "67          0            NaN         52    высшее             0   \n",
       "72          1            NaN         32    высшее             0   \n",
       "82          2            NaN         50    высшее             0   \n",
       "83          0            NaN         52   среднее             1   \n",
       "90          2            NaN         35    высшее             0   \n",
       "94          1            NaN         34    высшее             0   \n",
       "96          0            NaN         44   СРЕДНЕЕ             1   \n",
       "97          0            NaN         47    высшее             0   \n",
       "120         0            NaN         46   среднее             1   \n",
       "121         0            NaN         29    высшее             0   \n",
       "135         0            NaN         27   среднее             1   \n",
       "141         0            NaN         39   среднее             1   \n",
       "145         0            NaN         62   среднее             1   \n",
       "174         0            NaN         55    высшее             0   \n",
       "\n",
       "             family_status  family_status_id gender  income_type  debt  \\\n",
       "12        гражданский брак                 1      M    пенсионер     0   \n",
       "26         женат / замужем                 0      M  госслужащий     0   \n",
       "29   Не женат / не замужем                 4      F    пенсионер     0   \n",
       "41         женат / замужем                 0      F  госслужащий     0   \n",
       "55        гражданский брак                 1      F    пенсионер     1   \n",
       "65   Не женат / не замужем                 4      M    компаньон     0   \n",
       "67         женат / замужем                 0      F    пенсионер     0   \n",
       "72         женат / замужем                 0      M  госслужащий     0   \n",
       "82         женат / замужем                 0      F    сотрудник     0   \n",
       "83         женат / замужем                 0      M    сотрудник     0   \n",
       "90         женат / замужем                 0      F    сотрудник     0   \n",
       "94        гражданский брак                 1      F    компаньон     0   \n",
       "96         женат / замужем                 0      F    сотрудник     0   \n",
       "97         женат / замужем                 0      F    сотрудник     0   \n",
       "120        женат / замужем                 0      F    сотрудник     0   \n",
       "121        женат / замужем                 0      F    компаньон     0   \n",
       "135        женат / замужем                 0      M    компаньон     0   \n",
       "141       гражданский брак                 1      M    сотрудник     0   \n",
       "145        женат / замужем                 0      M    пенсионер     0   \n",
       "174         вдовец / вдова                 2      F    компаньон     0   \n",
       "\n",
       "     total_income                                purpose  \n",
       "12            NaN                        сыграть свадьбу  \n",
       "26            NaN                            образование  \n",
       "29            NaN       строительство жилой недвижимости  \n",
       "41            NaN       сделка с подержанным автомобилем  \n",
       "55            NaN                        сыграть свадьбу  \n",
       "65            NaN  операции с коммерческой недвижимостью  \n",
       "67            NaN                покупка жилья для семьи  \n",
       "72            NaN  операции с коммерческой недвижимостью  \n",
       "82            NaN                                  жилье  \n",
       "83            NaN                                  жилье  \n",
       "90            NaN                      операции с жильем  \n",
       "94            NaN                  на проведение свадьбы  \n",
       "96            NaN             покупка жилой недвижимости  \n",
       "97            NaN                 профильное образование  \n",
       "120           NaN                     высшее образование  \n",
       "121           NaN                             автомобиль  \n",
       "135           NaN                                  жилье  \n",
       "141           NaN                                свадьба  \n",
       "145           NaN             строительство недвижимости  \n",
       "174           NaN                        свой автомобиль  "
      ]
     },
     "execution_count": 4,
     "metadata": {},
     "output_type": "execute_result"
    }
   ],
   "source": [
    "#Выведем строки в которых есть значения Null, возможно в них есть очевидные сходства:\n",
    "data_set[pd.isnull(data_set['days_employed'])==True].head(20)"
   ]
  },
  {
   "cell_type": "markdown",
   "id": "6cfe1aa1",
   "metadata": {},
   "source": [
    "Вывод по обзору данных: \n",
    "1. К анализу предтавлены данные о 21525 клиентах. В исходных данных имеются пропуски значений. Доля строк с пропусками 10%.\n",
    "2. Пропуски встречаются одновременно в столбцах \"стаж работы\" и \"совокупный доход\" (если пропущено одно значение, то в этой строке пропущено и другое), это может быть связано со спецификой канала продаж из которого поступал клиент. Возможно при продаже в рамках такого канала продаж эта информация не запрашивалась или не фиксировалась. \n",
    "3. Очевидного сходства в строках с пропущенными значениями нет. Есть смысл заполнить эти пропуски медианными значениями.\n",
    "4. Использование среднего значения затруднено крайними, заведомо ошибочными значениями, в частности далее в п. 2.2.2 будет отражена ситуация с наличием в исходных данных значений трудового стажа в 900 и более лет."
   ]
  },
  {
   "cell_type": "markdown",
   "id": "f9ba9e70",
   "metadata": {},
   "source": [
    "### Шаг 2.1 Заполнение пропусков"
   ]
  },
  {
   "cell_type": "code",
   "execution_count": 5,
   "id": "9af93667",
   "metadata": {
    "scrolled": true
   },
   "outputs": [
    {
     "name": "stdout",
     "output_type": "stream",
     "text": [
      "Медианы дохода по видам занятости income_type\n",
      "безработный        131339.751676\n",
      "в декрете           53829.130729\n",
      "госслужащий        150447.935283\n",
      "компаньон          172357.950966\n",
      "пенсионер          118514.486412\n",
      "предприниматель    499163.144947\n",
      "сотрудник          142594.396847\n",
      "студент             98201.625314\n",
      "Name: total_income, dtype: float64\n",
      "\n",
      "Медианы стажа по видам занятости income_type\n",
      "безработный        131339.751676\n",
      "в декрете           53829.130729\n",
      "госслужащий        150447.935283\n",
      "компаньон          172357.950966\n",
      "пенсионер          118514.486412\n",
      "предприниматель    499163.144947\n",
      "сотрудник          142594.396847\n",
      "студент             98201.625314\n",
      "Name: total_income, dtype: float64\n",
      "\n",
      "<class 'pandas.core.frame.DataFrame'>\n",
      "RangeIndex: 21525 entries, 0 to 21524\n",
      "Data columns (total 12 columns):\n",
      "children            21525 non-null int64\n",
      "days_employed       21525 non-null float64\n",
      "dob_years           21525 non-null int64\n",
      "education           21525 non-null object\n",
      "education_id        21525 non-null int64\n",
      "family_status       21525 non-null object\n",
      "family_status_id    21525 non-null int64\n",
      "gender              21525 non-null object\n",
      "income_type         21525 non-null object\n",
      "debt                21525 non-null int64\n",
      "total_income        21525 non-null float64\n",
      "purpose             21525 non-null object\n",
      "dtypes: float64(2), int64(5), object(5)\n",
      "memory usage: 2.0+ MB\n"
     ]
    }
   ],
   "source": [
    "#Заполним ранее выявленные систематические пропуски в столбцах days_employed и total_income\n",
    "data_set['total_income'] = data_set['total_income'].fillna(data_set.groupby('income_type')['total_income'].transform('median'))\n",
    "data_set['days_employed'] = data_set['days_employed'].fillna(data_set.groupby('income_type')['days_employed'].transform('median'))\n",
    "print('Медианы дохода по видам занятости', data_set.groupby('income_type')['total_income'].median())\n",
    "print()\n",
    "print('Медианы стажа по видам занятости', data_set.groupby('income_type')['total_income'].median())\n",
    "print()\n",
    "#Посмотрим статистику \n",
    "data_set.info()"
   ]
  },
  {
   "cell_type": "markdown",
   "id": "c4d2b62f",
   "metadata": {},
   "source": [
    "Нулевые строки устранены."
   ]
  },
  {
   "cell_type": "markdown",
   "id": "2dedc4f2",
   "metadata": {},
   "source": [
    "### Шаг 2.2 Проверка данных на аномалии и исправления."
   ]
  },
  {
   "cell_type": "markdown",
   "id": "9586fbcb",
   "metadata": {},
   "source": [
    "<b>Проверим значения по столбцам на аномалии:\n",
    "\n",
    "<b>2.2.1. Количество детей (children)\n",
    "    "
   ]
  },
  {
   "cell_type": "code",
   "execution_count": 6,
   "id": "014e4904",
   "metadata": {
    "scrolled": true
   },
   "outputs": [
    {
     "data": {
      "text/plain": [
       " 0     14149\n",
       " 1      4818\n",
       " 2      2055\n",
       " 3       330\n",
       " 20       76\n",
       "-1        47\n",
       " 4        41\n",
       " 5         9\n",
       "Name: children, dtype: int64"
      ]
     },
     "execution_count": 6,
     "metadata": {},
     "output_type": "execute_result"
    }
   ],
   "source": [
    "# посчитаем распределение заемщиков по значению количества детей\n",
    "data_set['children'].value_counts()"
   ]
  },
  {
   "cell_type": "markdown",
   "id": "ec6b47fe",
   "metadata": {},
   "source": [
    "Очевидно, что \"20\" и \"-1\" это ошибки ввода, которые следует заменить на \"2\" и \"1\" соответственно.\n",
    "Учитвая незначительное количество итераций, заменим конкретные значения через индексацию .loc"
   ]
  },
  {
   "cell_type": "code",
   "execution_count": 7,
   "id": "7272c1cf",
   "metadata": {},
   "outputs": [
    {
     "data": {
      "text/plain": [
       "0    14149\n",
       "1     4865\n",
       "2     2131\n",
       "3      330\n",
       "4       41\n",
       "5        9\n",
       "Name: children, dtype: int64"
      ]
     },
     "execution_count": 7,
     "metadata": {},
     "output_type": "execute_result"
    }
   ],
   "source": [
    "data_set.loc[data_set['children']==20,'children']=2\n",
    "data_set.loc[data_set['children']==-1,'children']=1\n",
    "data_set['children'].value_counts()"
   ]
  },
  {
   "cell_type": "markdown",
   "id": "7f3fcedd",
   "metadata": {},
   "source": [
    "Некорректные значения по количеству детей устранены"
   ]
  },
  {
   "cell_type": "markdown",
   "id": "6d6f08df",
   "metadata": {},
   "source": [
    "<b> 2.2.2. days_employed (стаж работы)"
   ]
  },
  {
   "cell_type": "code",
   "execution_count": 8,
   "id": "f54c3036",
   "metadata": {},
   "outputs": [
    {
     "data": {
      "text/plain": [
       "16335     -51.0\n",
       "4299      -49.0\n",
       "7329      -46.0\n",
       "17838     -45.0\n",
       "16825     -45.0\n",
       "          ...  \n",
       "4949     1100.0\n",
       "10991    1100.0\n",
       "5716     1100.0\n",
       "10484    1100.0\n",
       "13420    1100.0\n",
       "Name: days_employed, Length: 21525, dtype: float64"
      ]
     },
     "execution_count": 8,
     "metadata": {},
     "output_type": "execute_result"
    }
   ],
   "source": [
    "#Выведем стаж в годах (для удобства) и посмотрим какие встречаются отклонения помимо пропусков:\n",
    "(data_set[pd.isnull(data_set['days_employed'])==False]['days_employed']//365).sort_values()"
   ]
  },
  {
   "cell_type": "code",
   "execution_count": 9,
   "id": "603e8fed",
   "metadata": {
    "scrolled": true
   },
   "outputs": [
    {
     "data": {
      "text/plain": [
       "-6.0          1\n",
       "-5.0         16\n",
       "-4.0        161\n",
       "-3.0        579\n",
       "-2.0       2392\n",
       "-1.0      14518\n",
       " 90.0       147\n",
       " 91.0       187\n",
       " 92.0       174\n",
       " 93.0       193\n",
       " 94.0       164\n",
       " 95.0       180\n",
       " 96.0       156\n",
       " 97.0       183\n",
       " 98.0       170\n",
       " 99.0       162\n",
       " 100.0      589\n",
       " 101.0      186\n",
       " 102.0      203\n",
       " 103.0      149\n",
       " 104.0      154\n",
       " 105.0      170\n",
       " 106.0      157\n",
       " 107.0      164\n",
       " 108.0      194\n",
       " 109.0      161\n",
       " 110.0       15\n",
       "Name: days_employed, dtype: int64"
      ]
     },
     "execution_count": 9,
     "metadata": {},
     "output_type": "execute_result"
    }
   ],
   "source": [
    "#Поделим количество \"дней стажа\" на 3650 или 10 лет целочисленно.\n",
    "#Так мы получим группировку клиентов по стажу в декадах - групп станет меньше и оценить картину можно будет зрительно\n",
    "\n",
    "(data_set['days_employed']//3650).value_counts().sort_index()"
   ]
  },
  {
   "cell_type": "markdown",
   "id": "23ce58db",
   "metadata": {},
   "source": [
    "\"нормальные\" значения стажа хранится в исходной таблице только со знаком \"-\"\n",
    "Со знаком + значения от 900 лет стажа и более, что очевидно явяется некорректными данными.\n",
    "Основной объем значений приходится на \"нормальный\" стаж:\n",
    "менее 10 лет 14931 клиентов (60%), 10-20 лет - 2392 клиентов (10%)\n",
    "все \"выбросы\" значений по стажу это значения от 91 декады до 111 декад (т.е. от 900 лет до 1100 лет)\n"
   ]
  },
  {
   "cell_type": "code",
   "execution_count": 10,
   "id": "f5e1efce",
   "metadata": {
    "scrolled": false
   },
   "outputs": [
    {
     "data": {
      "text/plain": [
       "пенсионер      3856\n",
       "безработный       2\n",
       "Name: income_type, dtype: int64"
      ]
     },
     "execution_count": 10,
     "metadata": {},
     "output_type": "execute_result"
    }
   ],
   "source": [
    "#посчитаем какие виды занятости встречаются в выбросах значений по days_employed, установив фильтр в decades_employed\n",
    "data_set[data_set['days_employed']>0]['income_type'].value_counts()"
   ]
  },
  {
   "cell_type": "code",
   "execution_count": 11,
   "id": "e23af3b2",
   "metadata": {},
   "outputs": [
    {
     "data": {
      "text/plain": [
       "сотрудник          11119\n",
       "компаньон           5085\n",
       "пенсионер           3856\n",
       "госслужащий         1459\n",
       "предприниматель        2\n",
       "безработный            2\n",
       "студент                1\n",
       "в декрете              1\n",
       "Name: income_type, dtype: int64"
      ]
     },
     "execution_count": 11,
     "metadata": {},
     "output_type": "execute_result"
    }
   ],
   "source": [
    "#при этом всего пенсионеров и безработных\n",
    "data_set['income_type'].value_counts()"
   ]
  },
  {
   "cell_type": "markdown",
   "id": "ba79e466",
   "metadata": {},
   "source": [
    "Стаж некорректно заведен по всем безработным и 90% пенсионеров. \n",
    "Возможно по этим категориям клиентов работники банка заводили какое-то \"пустое\" или \"дежурное\" значение, т.к. этого требовала программа, либо по таким случаям происходило искажение сведений при сохранении в общую таблицу.\n",
    "Заменим данные о стаже по таким клиентам на медианное значение"
   ]
  },
  {
   "cell_type": "code",
   "execution_count": 12,
   "id": "d179d6f0",
   "metadata": {},
   "outputs": [
    {
     "data": {
      "text/plain": [
       "-6.0        1\n",
       "-5.0       16\n",
       "-4.0      161\n",
       "-3.0      579\n",
       "-2.0     2392\n",
       "-1.0    14518\n",
       "Name: days_employed, dtype: int64"
      ]
     },
     "execution_count": 12,
     "metadata": {},
     "output_type": "execute_result"
    }
   ],
   "source": [
    "data_set.loc[data_set['days_employed']>0,'days_employed']=(data_set[(data_set['days_employed']<0) & (data_set['income_type']=='пенсионер')]['days_employed'].median())\n",
    "(data_set['days_employed']//3650).value_counts().sort_index()\n"
   ]
  },
  {
   "cell_type": "markdown",
   "id": "af8c607a",
   "metadata": {},
   "source": [
    "<b>2.2.3. dob_years (возраст)"
   ]
  },
  {
   "cell_type": "code",
   "execution_count": 13,
   "id": "3c65688a",
   "metadata": {
    "scrolled": false
   },
   "outputs": [
    {
     "data": {
      "text/plain": [
       "0     101\n",
       "19     14\n",
       "20     51\n",
       "21    111\n",
       "22    183\n",
       "23    254\n",
       "24    264\n",
       "25    357\n",
       "26    408\n",
       "27    493\n",
       "28    503\n",
       "29    545\n",
       "30    540\n",
       "31    560\n",
       "32    510\n",
       "33    581\n",
       "34    603\n",
       "35    617\n",
       "36    555\n",
       "37    537\n",
       "38    598\n",
       "39    573\n",
       "40    609\n",
       "41    607\n",
       "42    597\n",
       "43    513\n",
       "44    547\n",
       "45    497\n",
       "46    475\n",
       "47    480\n",
       "48    538\n",
       "49    508\n",
       "50    514\n",
       "51    448\n",
       "52    484\n",
       "53    459\n",
       "54    479\n",
       "55    443\n",
       "56    487\n",
       "57    460\n",
       "58    461\n",
       "59    444\n",
       "60    377\n",
       "61    355\n",
       "62    352\n",
       "63    269\n",
       "64    265\n",
       "65    194\n",
       "66    183\n",
       "67    167\n",
       "68     99\n",
       "69     85\n",
       "70     65\n",
       "71     58\n",
       "72     33\n",
       "73      8\n",
       "74      6\n",
       "75      1\n",
       "Name: dob_years, dtype: int64"
      ]
     },
     "execution_count": 13,
     "metadata": {},
     "output_type": "execute_result"
    }
   ],
   "source": [
    "data_set['dob_years'].value_counts().sort_index()"
   ]
  },
  {
   "cell_type": "markdown",
   "id": "cbf2ba92",
   "metadata": {},
   "source": [
    "#вызывает сомнение возраст 0. Его следует заменить. Ввиду отсутствия крайних значений. \n",
    "#Можно заменить на средний возраст тех клиентов по которым возраст проставлен. Поскольку возраст по всем клиентам заведен как целое число, \n",
    "#то округлим также и среднее значение, которое мы будем использовать - так сохранится возможность работать с возрастом как с int числом"
   ]
  },
  {
   "cell_type": "code",
   "execution_count": 14,
   "id": "f36f293a",
   "metadata": {
    "scrolled": true
   },
   "outputs": [
    {
     "data": {
      "text/plain": [
       "19     14\n",
       "20     51\n",
       "21    111\n",
       "22    183\n",
       "23    254\n",
       "24    264\n",
       "25    357\n",
       "26    408\n",
       "27    493\n",
       "28    503\n",
       "29    545\n",
       "30    540\n",
       "31    560\n",
       "32    510\n",
       "33    581\n",
       "34    603\n",
       "35    617\n",
       "36    555\n",
       "37    537\n",
       "38    598\n",
       "39    573\n",
       "40    609\n",
       "41    607\n",
       "42    597\n",
       "43    614\n",
       "44    547\n",
       "45    497\n",
       "46    475\n",
       "47    480\n",
       "48    538\n",
       "49    508\n",
       "50    514\n",
       "51    448\n",
       "52    484\n",
       "53    459\n",
       "54    479\n",
       "55    443\n",
       "56    487\n",
       "57    460\n",
       "58    461\n",
       "59    444\n",
       "60    377\n",
       "61    355\n",
       "62    352\n",
       "63    269\n",
       "64    265\n",
       "65    194\n",
       "66    183\n",
       "67    167\n",
       "68     99\n",
       "69     85\n",
       "70     65\n",
       "71     58\n",
       "72     33\n",
       "73      8\n",
       "74      6\n",
       "75      1\n",
       "Name: dob_years, dtype: int64"
      ]
     },
     "execution_count": 14,
     "metadata": {},
     "output_type": "execute_result"
    }
   ],
   "source": [
    "data_set.loc[data_set['dob_years']==0,'dob_years'] = int(data_set[data_set['dob_years']>0]['dob_years'].mean())\n",
    "data_set['dob_years'].value_counts().sort_index()"
   ]
  },
  {
   "cell_type": "markdown",
   "id": "a163c8ac",
   "metadata": {},
   "source": [
    "<b> 2.2.4. education"
   ]
  },
  {
   "cell_type": "code",
   "execution_count": 15,
   "id": "f772ba37",
   "metadata": {},
   "outputs": [
    {
     "data": {
      "text/plain": [
       "среднее                13750\n",
       "высшее                  4718\n",
       "СРЕДНЕЕ                  772\n",
       "Среднее                  711\n",
       "неоконченное высшее      668\n",
       "ВЫСШЕЕ                   274\n",
       "Высшее                   268\n",
       "начальное                250\n",
       "Неоконченное высшее       47\n",
       "НЕОКОНЧЕННОЕ ВЫСШЕЕ       29\n",
       "НАЧАЛЬНОЕ                 17\n",
       "Начальное                 15\n",
       "ученая степень             4\n",
       "УЧЕНАЯ СТЕПЕНЬ             1\n",
       "Ученая степень             1\n",
       "Name: education, dtype: int64"
      ]
     },
     "execution_count": 15,
     "metadata": {},
     "output_type": "execute_result"
    }
   ],
   "source": [
    "#выведем состав значений колонки образование\n",
    "data_set['education'].value_counts()"
   ]
  },
  {
   "cell_type": "markdown",
   "id": "cbdb2172",
   "metadata": {},
   "source": [
    "по колонке education кроме регистра проблем не установлено."
   ]
  },
  {
   "cell_type": "markdown",
   "id": "653bc011",
   "metadata": {},
   "source": [
    "<b>2.2.5. education_id"
   ]
  },
  {
   "cell_type": "code",
   "execution_count": 16,
   "id": "b13efb49",
   "metadata": {
    "scrolled": true
   },
   "outputs": [
    {
     "data": {
      "text/plain": [
       "1    15233\n",
       "0     5260\n",
       "2      744\n",
       "3      282\n",
       "4        6\n",
       "Name: education_id, dtype: int64"
      ]
     },
     "execution_count": 16,
     "metadata": {},
     "output_type": "execute_result"
    }
   ],
   "source": [
    "data_set['education_id'].value_counts()"
   ]
  },
  {
   "cell_type": "markdown",
   "id": "09bf3bca",
   "metadata": {},
   "source": [
    "По колонке Код вида образования (education_id) проблем не установлено"
   ]
  },
  {
   "cell_type": "markdown",
   "id": "c7ec6d24",
   "metadata": {},
   "source": [
    "<b>2.2.6. family_status"
   ]
  },
  {
   "cell_type": "code",
   "execution_count": 17,
   "id": "f2dc8375",
   "metadata": {},
   "outputs": [
    {
     "data": {
      "text/plain": [
       "женат / замужем          12380\n",
       "гражданский брак          4177\n",
       "Не женат / не замужем     2813\n",
       "в разводе                 1195\n",
       "вдовец / вдова             960\n",
       "Name: family_status, dtype: int64"
      ]
     },
     "execution_count": 17,
     "metadata": {},
     "output_type": "execute_result"
    }
   ],
   "source": [
    "data_set['family_status'].value_counts()"
   ]
  },
  {
   "cell_type": "markdown",
   "id": "54331f1e",
   "metadata": {},
   "source": [
    "По колонке family_status проблем не установлено"
   ]
  },
  {
   "cell_type": "markdown",
   "id": "990967d0",
   "metadata": {},
   "source": [
    "<b>2.2.7. family_status_id"
   ]
  },
  {
   "cell_type": "code",
   "execution_count": 18,
   "id": "6b2ebea4",
   "metadata": {},
   "outputs": [
    {
     "data": {
      "text/plain": [
       "0    12380\n",
       "1     4177\n",
       "4     2813\n",
       "3     1195\n",
       "2      960\n",
       "Name: family_status_id, dtype: int64"
      ]
     },
     "execution_count": 18,
     "metadata": {},
     "output_type": "execute_result"
    }
   ],
   "source": [
    "data_set['family_status_id'].value_counts()"
   ]
  },
  {
   "cell_type": "markdown",
   "id": "09f27470",
   "metadata": {},
   "source": [
    "По колонке family_status_id проблем не установлено"
   ]
  },
  {
   "cell_type": "markdown",
   "id": "5ae42df6",
   "metadata": {},
   "source": [
    "<b>2.2.8. gender"
   ]
  },
  {
   "cell_type": "code",
   "execution_count": 19,
   "id": "af03efcb",
   "metadata": {},
   "outputs": [
    {
     "data": {
      "text/plain": [
       "F      14236\n",
       "M       7288\n",
       "XNA        1\n",
       "Name: gender, dtype: int64"
      ]
     },
     "execution_count": 19,
     "metadata": {},
     "output_type": "execute_result"
    }
   ],
   "source": [
    "data_set['gender'].value_counts()"
   ]
  },
  {
   "cell_type": "code",
   "execution_count": 20,
   "id": "897049e5",
   "metadata": {},
   "outputs": [
    {
     "data": {
      "text/plain": [
       "F    14237\n",
       "M     7288\n",
       "Name: gender, dtype: int64"
      ]
     },
     "execution_count": 20,
     "metadata": {},
     "output_type": "execute_result"
    }
   ],
   "source": [
    "# заменим единичный случай значения 'XNA', поскольку такого определения пола не существует, \n",
    "# на \"F\" как наиболее часто стречающийся в таблице\n",
    "data_set.loc[data_set['gender']=='XNA','gender'] = 'F'\n",
    "data_set['gender'].value_counts()"
   ]
  },
  {
   "cell_type": "markdown",
   "id": "abdeaf69",
   "metadata": {},
   "source": [
    "По колонке gender других проблем не установлено."
   ]
  },
  {
   "cell_type": "markdown",
   "id": "323c6046",
   "metadata": {},
   "source": [
    "<b>2.2.9. income_type"
   ]
  },
  {
   "cell_type": "code",
   "execution_count": 21,
   "id": "d6af92da",
   "metadata": {
    "scrolled": true
   },
   "outputs": [
    {
     "data": {
      "text/plain": [
       "сотрудник          11119\n",
       "компаньон           5085\n",
       "пенсионер           3856\n",
       "госслужащий         1459\n",
       "предприниматель        2\n",
       "безработный            2\n",
       "студент                1\n",
       "в декрете              1\n",
       "Name: income_type, dtype: int64"
      ]
     },
     "execution_count": 21,
     "metadata": {},
     "output_type": "execute_result"
    }
   ],
   "source": [
    "data_set['income_type'].value_counts()"
   ]
  },
  {
   "cell_type": "markdown",
   "id": "657fa01d",
   "metadata": {},
   "source": [
    "По колонке income_type проблем не установлено"
   ]
  },
  {
   "cell_type": "markdown",
   "id": "cc63fea5",
   "metadata": {},
   "source": [
    "<b>2.2.10. debt"
   ]
  },
  {
   "cell_type": "code",
   "execution_count": 22,
   "id": "b94cce7c",
   "metadata": {},
   "outputs": [
    {
     "data": {
      "text/plain": [
       "0    19784\n",
       "1     1741\n",
       "Name: debt, dtype: int64"
      ]
     },
     "execution_count": 22,
     "metadata": {},
     "output_type": "execute_result"
    }
   ],
   "source": [
    "data_set['debt'].value_counts()"
   ]
  },
  {
   "cell_type": "markdown",
   "id": "ec5464d1",
   "metadata": {},
   "source": [
    "По колонке debt проблем не установлено"
   ]
  },
  {
   "cell_type": "markdown",
   "id": "57df83c5",
   "metadata": {},
   "source": [
    "<b>2.2.11. total_income"
   ]
  },
  {
   "cell_type": "code",
   "execution_count": 23,
   "id": "bb9b3e8b",
   "metadata": {},
   "outputs": [
    {
     "data": {
      "text/plain": [
       "count    21525.000000\n",
       "mean        16.038467\n",
       "std          9.807547\n",
       "min          2.000000\n",
       "25%         10.000000\n",
       "50%         14.000000\n",
       "75%         19.000000\n",
       "max        226.000000\n",
       "Name: total_income, dtype: float64"
      ]
     },
     "execution_count": 23,
     "metadata": {},
     "output_type": "execute_result"
    }
   ],
   "source": [
    "(data_set['total_income']//10000).describe()"
   ]
  },
  {
   "cell_type": "markdown",
   "id": "a8b67a97",
   "metadata": {},
   "source": [
    "По колонке total_income проблем не установлено"
   ]
  },
  {
   "cell_type": "markdown",
   "id": "b6fc17a1",
   "metadata": {},
   "source": [
    "<b>2.2.12. purpose"
   ]
  },
  {
   "cell_type": "code",
   "execution_count": 24,
   "id": "0782e5f1",
   "metadata": {
    "scrolled": true
   },
   "outputs": [
    {
     "data": {
      "text/plain": [
       "свадьба                                   797\n",
       "на проведение свадьбы                     777\n",
       "сыграть свадьбу                           774\n",
       "операции с недвижимостью                  676\n",
       "покупка коммерческой недвижимости         664\n",
       "операции с жильем                         653\n",
       "покупка жилья для сдачи                   653\n",
       "операции с коммерческой недвижимостью     651\n",
       "жилье                                     647\n",
       "покупка жилья                             647\n",
       "покупка жилья для семьи                   641\n",
       "строительство собственной недвижимости    635\n",
       "недвижимость                              634\n",
       "операции со своей недвижимостью           630\n",
       "строительство жилой недвижимости          626\n",
       "покупка недвижимости                      624\n",
       "покупка своего жилья                      620\n",
       "строительство недвижимости                620\n",
       "ремонт жилью                              612\n",
       "покупка жилой недвижимости                607\n",
       "на покупку своего автомобиля              505\n",
       "заняться высшим образованием              496\n",
       "автомобиль                                495\n",
       "сделка с подержанным автомобилем          489\n",
       "свой автомобиль                           480\n",
       "на покупку подержанного автомобиля        479\n",
       "автомобили                                478\n",
       "на покупку автомобиля                     472\n",
       "приобретение автомобиля                   462\n",
       "дополнительное образование                462\n",
       "сделка с автомобилем                      455\n",
       "высшее образование                        453\n",
       "получение дополнительного образования     447\n",
       "образование                               447\n",
       "получение образования                     443\n",
       "профильное образование                    436\n",
       "получение высшего образования             426\n",
       "заняться образованием                     412\n",
       "Name: purpose, dtype: int64"
      ]
     },
     "execution_count": 24,
     "metadata": {},
     "output_type": "execute_result"
    }
   ],
   "source": [
    "data_set['purpose'].value_counts()"
   ]
  },
  {
   "cell_type": "markdown",
   "id": "478b0105",
   "metadata": {},
   "source": [
    "Нечитаемых и случайных значений сведений о цели кредита не установлено. \n",
    "Данные о цели кредита заведены не стандартизовано, фактчески совпадающие цели кредита указываются по разному."
   ]
  },
  {
   "cell_type": "markdown",
   "id": "3328f16c",
   "metadata": {},
   "source": [
    "### Шаг 2.3. Изменение типов данных."
   ]
  },
  {
   "cell_type": "code",
   "execution_count": 25,
   "id": "f5faf153",
   "metadata": {},
   "outputs": [],
   "source": [
    "#приведем данные о доходе к целому типу\n",
    "try:\n",
    "    data_set['total_income'] = data_set['total_income'].astype('int')\n",
    "except:\n",
    "    print('Данные о доходах содержат нечисловые значения, требуется чекап этапа подготовки данных (битые данные, заполнение пропусков и т.п.)')"
   ]
  },
  {
   "cell_type": "markdown",
   "id": "b502af35",
   "metadata": {},
   "source": [
    "### Шаг 2.4. Удаление дубликатов."
   ]
  },
  {
   "cell_type": "markdown",
   "id": "a2fc470a",
   "metadata": {},
   "source": [
    "Поскольку клиенты в исходных данных не идентифицированы - дедубликация повторяющихся строк нецелесообразна. Повторяющиеся строки могут быть как дублированной информацией, так и информацией о клиентах со сходными параметрами (доход, возраст и т.п.)\n",
    "При этом имеют место:\n",
    "- отмеченная ранее неявная дубликация по цели кредита, требующая категоризации (данная процедура описана далее по проекту).\n",
    "- дубликация данных об образовании заемщиков, вызванная заведением названия уровня образования с разным регистром:"
   ]
  },
  {
   "cell_type": "code",
   "execution_count": 26,
   "id": "8bf2833f",
   "metadata": {},
   "outputs": [
    {
     "data": {
      "text/plain": [
       "среднее                15233\n",
       "высшее                  5260\n",
       "неоконченное высшее      744\n",
       "начальное                282\n",
       "ученая степень             6\n",
       "Name: education, dtype: int64"
      ]
     },
     "execution_count": 26,
     "metadata": {},
     "output_type": "execute_result"
    }
   ],
   "source": [
    "#приведем к нижнему регистру сведения об образовании\n",
    "data_set['education'] = data_set['education'].str.lower()\n",
    "data_set['education'].value_counts()"
   ]
  },
  {
   "cell_type": "code",
   "execution_count": 27,
   "id": "5a3ccd97",
   "metadata": {},
   "outputs": [
    {
     "data": {
      "text/html": [
       "<div>\n",
       "<style scoped>\n",
       "    .dataframe tbody tr th:only-of-type {\n",
       "        vertical-align: middle;\n",
       "    }\n",
       "\n",
       "    .dataframe tbody tr th {\n",
       "        vertical-align: top;\n",
       "    }\n",
       "\n",
       "    .dataframe thead th {\n",
       "        text-align: right;\n",
       "    }\n",
       "</style>\n",
       "<table border=\"1\" class=\"dataframe\">\n",
       "  <thead>\n",
       "    <tr style=\"text-align: right;\">\n",
       "      <th></th>\n",
       "      <th>children</th>\n",
       "      <th>days_employed</th>\n",
       "      <th>dob_years</th>\n",
       "      <th>education</th>\n",
       "      <th>education_id</th>\n",
       "      <th>family_status</th>\n",
       "      <th>family_status_id</th>\n",
       "      <th>gender</th>\n",
       "      <th>income_type</th>\n",
       "      <th>debt</th>\n",
       "      <th>total_income</th>\n",
       "      <th>purpose</th>\n",
       "    </tr>\n",
       "  </thead>\n",
       "  <tbody>\n",
       "    <tr>\n",
       "      <td>0</td>\n",
       "      <td>1</td>\n",
       "      <td>-8437.673028</td>\n",
       "      <td>42</td>\n",
       "      <td>высшее</td>\n",
       "      <td>0</td>\n",
       "      <td>женат / замужем</td>\n",
       "      <td>0</td>\n",
       "      <td>F</td>\n",
       "      <td>сотрудник</td>\n",
       "      <td>0</td>\n",
       "      <td>253875</td>\n",
       "      <td>покупка жилья</td>\n",
       "    </tr>\n",
       "    <tr>\n",
       "      <td>1</td>\n",
       "      <td>1</td>\n",
       "      <td>-4024.803754</td>\n",
       "      <td>36</td>\n",
       "      <td>среднее</td>\n",
       "      <td>1</td>\n",
       "      <td>женат / замужем</td>\n",
       "      <td>0</td>\n",
       "      <td>F</td>\n",
       "      <td>сотрудник</td>\n",
       "      <td>0</td>\n",
       "      <td>112080</td>\n",
       "      <td>приобретение автомобиля</td>\n",
       "    </tr>\n",
       "    <tr>\n",
       "      <td>2</td>\n",
       "      <td>0</td>\n",
       "      <td>-5623.422610</td>\n",
       "      <td>33</td>\n",
       "      <td>среднее</td>\n",
       "      <td>1</td>\n",
       "      <td>женат / замужем</td>\n",
       "      <td>0</td>\n",
       "      <td>M</td>\n",
       "      <td>сотрудник</td>\n",
       "      <td>0</td>\n",
       "      <td>145885</td>\n",
       "      <td>покупка жилья</td>\n",
       "    </tr>\n",
       "    <tr>\n",
       "      <td>3</td>\n",
       "      <td>3</td>\n",
       "      <td>-4124.747207</td>\n",
       "      <td>32</td>\n",
       "      <td>среднее</td>\n",
       "      <td>1</td>\n",
       "      <td>женат / замужем</td>\n",
       "      <td>0</td>\n",
       "      <td>M</td>\n",
       "      <td>сотрудник</td>\n",
       "      <td>0</td>\n",
       "      <td>267628</td>\n",
       "      <td>дополнительное образование</td>\n",
       "    </tr>\n",
       "    <tr>\n",
       "      <td>4</td>\n",
       "      <td>0</td>\n",
       "      <td>NaN</td>\n",
       "      <td>53</td>\n",
       "      <td>среднее</td>\n",
       "      <td>1</td>\n",
       "      <td>гражданский брак</td>\n",
       "      <td>1</td>\n",
       "      <td>F</td>\n",
       "      <td>пенсионер</td>\n",
       "      <td>0</td>\n",
       "      <td>158616</td>\n",
       "      <td>сыграть свадьбу</td>\n",
       "    </tr>\n",
       "    <tr>\n",
       "      <td>...</td>\n",
       "      <td>...</td>\n",
       "      <td>...</td>\n",
       "      <td>...</td>\n",
       "      <td>...</td>\n",
       "      <td>...</td>\n",
       "      <td>...</td>\n",
       "      <td>...</td>\n",
       "      <td>...</td>\n",
       "      <td>...</td>\n",
       "      <td>...</td>\n",
       "      <td>...</td>\n",
       "      <td>...</td>\n",
       "    </tr>\n",
       "    <tr>\n",
       "      <td>21520</td>\n",
       "      <td>1</td>\n",
       "      <td>-4529.316663</td>\n",
       "      <td>43</td>\n",
       "      <td>среднее</td>\n",
       "      <td>1</td>\n",
       "      <td>гражданский брак</td>\n",
       "      <td>1</td>\n",
       "      <td>F</td>\n",
       "      <td>компаньон</td>\n",
       "      <td>0</td>\n",
       "      <td>224791</td>\n",
       "      <td>операции с жильем</td>\n",
       "    </tr>\n",
       "    <tr>\n",
       "      <td>21521</td>\n",
       "      <td>0</td>\n",
       "      <td>NaN</td>\n",
       "      <td>67</td>\n",
       "      <td>среднее</td>\n",
       "      <td>1</td>\n",
       "      <td>женат / замужем</td>\n",
       "      <td>0</td>\n",
       "      <td>F</td>\n",
       "      <td>пенсионер</td>\n",
       "      <td>0</td>\n",
       "      <td>155999</td>\n",
       "      <td>сделка с автомобилем</td>\n",
       "    </tr>\n",
       "    <tr>\n",
       "      <td>21522</td>\n",
       "      <td>1</td>\n",
       "      <td>-2113.346888</td>\n",
       "      <td>38</td>\n",
       "      <td>среднее</td>\n",
       "      <td>1</td>\n",
       "      <td>гражданский брак</td>\n",
       "      <td>1</td>\n",
       "      <td>M</td>\n",
       "      <td>сотрудник</td>\n",
       "      <td>1</td>\n",
       "      <td>89672</td>\n",
       "      <td>недвижимость</td>\n",
       "    </tr>\n",
       "    <tr>\n",
       "      <td>21523</td>\n",
       "      <td>3</td>\n",
       "      <td>-3112.481705</td>\n",
       "      <td>38</td>\n",
       "      <td>среднее</td>\n",
       "      <td>1</td>\n",
       "      <td>женат / замужем</td>\n",
       "      <td>0</td>\n",
       "      <td>M</td>\n",
       "      <td>сотрудник</td>\n",
       "      <td>1</td>\n",
       "      <td>244093</td>\n",
       "      <td>на покупку своего автомобиля</td>\n",
       "    </tr>\n",
       "    <tr>\n",
       "      <td>21524</td>\n",
       "      <td>2</td>\n",
       "      <td>-1984.507589</td>\n",
       "      <td>40</td>\n",
       "      <td>среднее</td>\n",
       "      <td>1</td>\n",
       "      <td>женат / замужем</td>\n",
       "      <td>0</td>\n",
       "      <td>F</td>\n",
       "      <td>сотрудник</td>\n",
       "      <td>0</td>\n",
       "      <td>82047</td>\n",
       "      <td>на покупку автомобиля</td>\n",
       "    </tr>\n",
       "  </tbody>\n",
       "</table>\n",
       "<p>21525 rows × 12 columns</p>\n",
       "</div>"
      ],
      "text/plain": [
       "       children  days_employed  dob_years education  education_id  \\\n",
       "0             1   -8437.673028         42    высшее             0   \n",
       "1             1   -4024.803754         36   среднее             1   \n",
       "2             0   -5623.422610         33   среднее             1   \n",
       "3             3   -4124.747207         32   среднее             1   \n",
       "4             0            NaN         53   среднее             1   \n",
       "...         ...            ...        ...       ...           ...   \n",
       "21520         1   -4529.316663         43   среднее             1   \n",
       "21521         0            NaN         67   среднее             1   \n",
       "21522         1   -2113.346888         38   среднее             1   \n",
       "21523         3   -3112.481705         38   среднее             1   \n",
       "21524         2   -1984.507589         40   среднее             1   \n",
       "\n",
       "          family_status  family_status_id gender income_type  debt  \\\n",
       "0       женат / замужем                 0      F   сотрудник     0   \n",
       "1       женат / замужем                 0      F   сотрудник     0   \n",
       "2       женат / замужем                 0      M   сотрудник     0   \n",
       "3       женат / замужем                 0      M   сотрудник     0   \n",
       "4      гражданский брак                 1      F   пенсионер     0   \n",
       "...                 ...               ...    ...         ...   ...   \n",
       "21520  гражданский брак                 1      F   компаньон     0   \n",
       "21521   женат / замужем                 0      F   пенсионер     0   \n",
       "21522  гражданский брак                 1      M   сотрудник     1   \n",
       "21523   женат / замужем                 0      M   сотрудник     1   \n",
       "21524   женат / замужем                 0      F   сотрудник     0   \n",
       "\n",
       "       total_income                       purpose  \n",
       "0            253875                 покупка жилья  \n",
       "1            112080       приобретение автомобиля  \n",
       "2            145885                 покупка жилья  \n",
       "3            267628    дополнительное образование  \n",
       "4            158616               сыграть свадьбу  \n",
       "...             ...                           ...  \n",
       "21520        224791             операции с жильем  \n",
       "21521        155999          сделка с автомобилем  \n",
       "21522         89672                  недвижимость  \n",
       "21523        244093  на покупку своего автомобиля  \n",
       "21524         82047         на покупку автомобиля  \n",
       "\n",
       "[21525 rows x 12 columns]"
      ]
     },
     "execution_count": 27,
     "metadata": {},
     "output_type": "execute_result"
    }
   ],
   "source": [
    "data_set"
   ]
  },
  {
   "cell_type": "markdown",
   "id": "c62bcd70",
   "metadata": {},
   "source": [
    "### Шаг 2.5. Формирование дополнительных датафреймов словарей, декомпозиция исходного датафрейма."
   ]
  },
  {
   "cell_type": "markdown",
   "id": "c90bf989",
   "metadata": {},
   "source": [
    "Создаем словари education_dict и family_status_dict для обособления строковых значений по образованию и семейному статусу из основной таблицы. Это позволит разгрузить основную таблицу - в ней останутся только ID значений. \n",
    "ID будут отсылать к полному наименованию категории во вновь созданном справочнике.\n",
    "Из исходной таблицы стобцы с полными наименованиями удаляем."
   ]
  },
  {
   "cell_type": "code",
   "execution_count": 28,
   "id": "da026622",
   "metadata": {},
   "outputs": [],
   "source": [
    "try:\n",
    "    education_dict = data_set.loc[:,['education_id','education']]\n",
    "    data_set = data_set.drop('education',axis=1)\n",
    "except:\n",
    "    print('Столбец education уже удалили')\n",
    "education_dict = education_dict.drop_duplicates()"
   ]
  },
  {
   "cell_type": "code",
   "execution_count": 29,
   "id": "d24e360c",
   "metadata": {},
   "outputs": [
    {
     "data": {
      "text/plain": [
       "{0: ['высшее'],\n",
       " 1: ['среднее'],\n",
       " 2: ['неоконченное высшее'],\n",
       " 3: ['начальное'],\n",
       " 4: ['ученая степень']}"
      ]
     },
     "execution_count": 29,
     "metadata": {},
     "output_type": "execute_result"
    }
   ],
   "source": [
    "education_dict = education_dict.set_index('education_id').T.to_dict('list')\n",
    "education_dict"
   ]
  },
  {
   "cell_type": "code",
   "execution_count": 30,
   "id": "89621f66",
   "metadata": {},
   "outputs": [
    {
     "name": "stderr",
     "output_type": "stream",
     "text": [
      "/opt/conda/lib/python3.7/site-packages/ipykernel_launcher.py:7: UserWarning: DataFrame columns are not unique, some columns will be omitted.\n",
      "  import sys\n"
     ]
    },
    {
     "data": {
      "text/plain": [
       "{0: ['женат / замужем'],\n",
       " 1: ['гражданский брак'],\n",
       " 2: ['вдовец / вдова'],\n",
       " 3: ['в разводе'],\n",
       " 4: ['Не женат / не замужем']}"
      ]
     },
     "execution_count": 30,
     "metadata": {},
     "output_type": "execute_result"
    }
   ],
   "source": [
    "try:\n",
    "    family_status_dict = data_set.loc[:,['family_status_id','family_status']]\n",
    "    data_set = data_set.drop('family_status',axis=1)\n",
    "except:\n",
    "    print('Столбец family_status уже удалили')\n",
    "family_status_data = family_status_dict.drop_duplicates()\n",
    "family_status_dict = family_status_dict.set_index('family_status_id').T.to_dict('list')\n",
    "family_status_dict"
   ]
  },
  {
   "cell_type": "markdown",
   "id": "20cbed8a",
   "metadata": {},
   "source": [
    "## Шаг 2.6. Категоризация дохода."
   ]
  },
  {
   "cell_type": "code",
   "execution_count": 31,
   "id": "da967648",
   "metadata": {},
   "outputs": [],
   "source": [
    "#объявляем функцию которая будет раскладывать на категории значение доходов клиентов\n",
    "def func_income_category(total_income):\n",
    "    try:\n",
    "        if total_income <= 30000:\n",
    "            return 'E'\n",
    "        elif 30000<total_income<=50000:\n",
    "            return 'D'\n",
    "        elif 50000<total_income<=200000:\n",
    "            return 'C'\n",
    "        elif 200000<total_income<=1000000:\n",
    "            return 'B'\n",
    "        elif 1000000<total_income:\n",
    "            return 'A'\n",
    "    except:\n",
    "        print('Данные о доходах содержат нечисловые значения, требуется чекап этапа подготовки данных (битые данные, заполнение пропусков и т.п.)')\n",
    "        print('Значение вызвавшее ошибку',total_income)\n",
    "        return ''\n"
   ]
  },
  {
   "cell_type": "markdown",
   "id": "a509895d",
   "metadata": {},
   "source": [
    "Обрабатываем столбец с доходами и заполняем столбец с категориями дохода клиента."
   ]
  },
  {
   "cell_type": "code",
   "execution_count": 32,
   "id": "5d0a1ffd",
   "metadata": {},
   "outputs": [
    {
     "data": {
      "text/plain": [
       "C    16086\n",
       "B     5042\n",
       "D      350\n",
       "A       25\n",
       "E       22\n",
       "Name: total_income_category, dtype: int64"
      ]
     },
     "execution_count": 32,
     "metadata": {},
     "output_type": "execute_result"
    }
   ],
   "source": [
    "data_set['total_income_category'] = data_set['total_income'].apply(func_income_category)\n",
    "data_set['total_income_category'].value_counts()"
   ]
  },
  {
   "cell_type": "markdown",
   "id": "7aa21ce5",
   "metadata": {},
   "source": [
    "### Шаг 2.7. Категоризация целей кредита."
   ]
  },
  {
   "cell_type": "markdown",
   "id": "a5609823",
   "metadata": {},
   "source": [
    "В связи с тем что цель кредита заполнялась нестандартизованно, обработка и группировка данных по признаку purpose/цель кредита невозможна.\n",
    "\n",
    "Осуществим категоризацию значений 'purpose' по следующим категориям:\n",
    "'операции с автомобилем',\n",
    "'операции с недвижимостью',\n",
    "'проведение свадьбы',\n",
    "'получение образования'."
   ]
  },
  {
   "cell_type": "code",
   "execution_count": 33,
   "id": "654a9c54",
   "metadata": {
    "scrolled": true
   },
   "outputs": [
    {
     "data": {
      "text/plain": [
       "операции с недвижимостью    10840\n",
       "операции с автомобилем       4315\n",
       "получение образования        4022\n",
       "проведение свадьбы           2348\n",
       "Name: purpose_category, dtype: int64"
      ]
     },
     "execution_count": 33,
     "metadata": {},
     "output_type": "execute_result"
    }
   ],
   "source": [
    "# понижаю регистр в значениях в столбце purpose\n",
    "data_set['purpose'] = data_set['purpose'].str.lower()\n",
    "# возвращаю формулой категорию цели креда, определяя цель поиском ключа по цели кредита\n",
    "def purpose_category (text_purpose):\n",
    "    try:\n",
    "        if ('жиль' in text_purpose) or ('недвиж' in text_purpose):\n",
    "            return 'операции с недвижимостью'\n",
    "        elif 'автомоб' in text_purpose:\n",
    "            return 'операции с автомобилем'\n",
    "        elif 'свадь' in text_purpose:\n",
    "            return 'проведение свадьбы'\n",
    "        elif 'образов' in text_purpose:\n",
    "            return 'получение образования'\n",
    "        else:\n",
    "            print('Неклассифицируемое значение', text_purpose)\n",
    "            return ''\n",
    "    except:\n",
    "        print(\"ошибка значения\", text_purpose)\n",
    "        return ''\n",
    "#применяю функцию заполняющую стобец с категорией в дата сэте\n",
    "data_set['purpose_category'] = data_set['purpose'].apply(purpose_category)\n",
    "data_set['purpose_category'].value_counts()"
   ]
  },
  {
   "cell_type": "markdown",
   "id": "075a0f5e",
   "metadata": {},
   "source": [
    "### Ответы на вопросы."
   ]
  },
  {
   "cell_type": "markdown",
   "id": "be980bd6",
   "metadata": {},
   "source": [
    "##### Вопрос 1:"
   ]
  },
  {
   "cell_type": "markdown",
   "id": "740760b5",
   "metadata": {},
   "source": [
    "Есть ли зависимость между количеством детей и возвратом кредита в срок?"
   ]
  },
  {
   "cell_type": "code",
   "execution_count": 34,
   "id": "98ce360a",
   "metadata": {
    "scrolled": true
   },
   "outputs": [
    {
     "data": {
      "text/html": [
       "<div>\n",
       "<style scoped>\n",
       "    .dataframe tbody tr th:only-of-type {\n",
       "        vertical-align: middle;\n",
       "    }\n",
       "\n",
       "    .dataframe tbody tr th {\n",
       "        vertical-align: top;\n",
       "    }\n",
       "\n",
       "    .dataframe thead tr th {\n",
       "        text-align: left;\n",
       "    }\n",
       "\n",
       "    .dataframe thead tr:last-of-type th {\n",
       "        text-align: right;\n",
       "    }\n",
       "</style>\n",
       "<table border=\"1\" class=\"dataframe\">\n",
       "  <thead>\n",
       "    <tr>\n",
       "      <th></th>\n",
       "      <th colspan=\"2\" halign=\"left\">debt</th>\n",
       "      <th>group_share_in_total</th>\n",
       "      <th>debt_children_rate</th>\n",
       "      <th>repaid_rate</th>\n",
       "    </tr>\n",
       "    <tr>\n",
       "      <th></th>\n",
       "      <th>count</th>\n",
       "      <th>sum</th>\n",
       "      <th></th>\n",
       "      <th></th>\n",
       "      <th></th>\n",
       "    </tr>\n",
       "    <tr>\n",
       "      <th>children</th>\n",
       "      <th></th>\n",
       "      <th></th>\n",
       "      <th></th>\n",
       "      <th></th>\n",
       "      <th></th>\n",
       "    </tr>\n",
       "  </thead>\n",
       "  <tbody>\n",
       "    <tr>\n",
       "      <td>0</td>\n",
       "      <td>14149</td>\n",
       "      <td>1063</td>\n",
       "      <td>0.657329</td>\n",
       "      <td>0.075129</td>\n",
       "      <td>0.924871</td>\n",
       "    </tr>\n",
       "    <tr>\n",
       "      <td>1</td>\n",
       "      <td>4865</td>\n",
       "      <td>445</td>\n",
       "      <td>0.226016</td>\n",
       "      <td>0.091470</td>\n",
       "      <td>0.908530</td>\n",
       "    </tr>\n",
       "    <tr>\n",
       "      <td>2</td>\n",
       "      <td>2131</td>\n",
       "      <td>202</td>\n",
       "      <td>0.099001</td>\n",
       "      <td>0.094791</td>\n",
       "      <td>0.905209</td>\n",
       "    </tr>\n",
       "    <tr>\n",
       "      <td>3</td>\n",
       "      <td>330</td>\n",
       "      <td>27</td>\n",
       "      <td>0.015331</td>\n",
       "      <td>0.081818</td>\n",
       "      <td>0.918182</td>\n",
       "    </tr>\n",
       "    <tr>\n",
       "      <td>4</td>\n",
       "      <td>41</td>\n",
       "      <td>4</td>\n",
       "      <td>0.001905</td>\n",
       "      <td>0.097561</td>\n",
       "      <td>0.902439</td>\n",
       "    </tr>\n",
       "    <tr>\n",
       "      <td>5</td>\n",
       "      <td>9</td>\n",
       "      <td>0</td>\n",
       "      <td>0.000418</td>\n",
       "      <td>0.000000</td>\n",
       "      <td>1.000000</td>\n",
       "    </tr>\n",
       "  </tbody>\n",
       "</table>\n",
       "</div>"
      ],
      "text/plain": [
       "           debt       group_share_in_total debt_children_rate repaid_rate\n",
       "          count   sum                                                    \n",
       "children                                                                 \n",
       "0         14149  1063             0.657329           0.075129    0.924871\n",
       "1          4865   445             0.226016           0.091470    0.908530\n",
       "2          2131   202             0.099001           0.094791    0.905209\n",
       "3           330    27             0.015331           0.081818    0.918182\n",
       "4            41     4             0.001905           0.097561    0.902439\n",
       "5             9     0             0.000418           0.000000    1.000000"
      ]
     },
     "execution_count": 34,
     "metadata": {},
     "output_type": "execute_result"
    }
   ],
   "source": [
    "#создаю аггрегированную по значению \"количество детей\" таблицу\n",
    "data_set_grouped=data_set.groupby('children').agg({'debt':['count','sum']})\n",
    "#добавляю рассчетные значения \"доля клиентов группы от всех клиентов\", \"среднее значение/вероятность просрочки по группе\", \"вероятность погашения = (1-вероятность просрочи)\"\n",
    "data_set_grouped=data_set_grouped.assign(group_share_in_total = data_set_grouped['debt']['count']/data_set_grouped['debt']['count'].sum(),\\\n",
    "       debt_children_rate=data_set_grouped['debt']['sum']/data_set_grouped['debt']['count'],\\\n",
    "       repaid_rate = 1-data_set_grouped['debt']['sum']/data_set_grouped['debt']['count'])\n",
    "data_set_grouped"
   ]
  },
  {
   "cell_type": "markdown",
   "id": "e9817477",
   "metadata": {},
   "source": [
    "##### Вывод 1:"
   ]
  },
  {
   "cell_type": "markdown",
   "id": "280d8e60",
   "metadata": {},
   "source": [
    "Только заемщики у которых 5 детей не допускали случаев просроченной задолженности. Однако количество таких заемщиков ничтожно в общем объеме (менее 0,1%), представлены такие заемщики в банке вероятно нерепрезентативно относительно общей массы потенциальных клиентов с 5 детьми.\n",
    "Заемщики не имеющие детей имеют наименьшую долю случаев несвоевременного погашения кредитов. \n",
    "При этом заемщики не имеющие детей, а также имеющие одного или двух детей составляют 98% клиентов (66%, 22%, 10% соответственно).\n",
    "Статистика по данным трем группам свидетельствует об обратной корелляции вероятности погашения кредита и количества детей у заемщика - вероятность погашения уменьшается с 92,5 % для заемщиков без детей до 90,8 % и 90,5% у заемщиков с 2 и 3 детьми соответственно.\n"
   ]
  },
  {
   "cell_type": "markdown",
   "id": "16c2991c",
   "metadata": {},
   "source": [
    "## Вопрос 2:"
   ]
  },
  {
   "cell_type": "markdown",
   "id": "ff681f3f",
   "metadata": {},
   "source": [
    "Есть ли зависимость между семейным положением и возвратом кредита в срок?"
   ]
  },
  {
   "cell_type": "code",
   "execution_count": 35,
   "id": "751b39d7",
   "metadata": {
    "scrolled": true
   },
   "outputs": [
    {
     "data": {
      "text/html": [
       "<div>\n",
       "<style scoped>\n",
       "    .dataframe tbody tr th:only-of-type {\n",
       "        vertical-align: middle;\n",
       "    }\n",
       "\n",
       "    .dataframe tbody tr th {\n",
       "        vertical-align: top;\n",
       "    }\n",
       "\n",
       "    .dataframe thead tr th {\n",
       "        text-align: left;\n",
       "    }\n",
       "\n",
       "    .dataframe thead tr:last-of-type th {\n",
       "        text-align: right;\n",
       "    }\n",
       "</style>\n",
       "<table border=\"1\" class=\"dataframe\">\n",
       "  <thead>\n",
       "    <tr>\n",
       "      <th></th>\n",
       "      <th>unpaid_qunatity</th>\n",
       "      <th>total_quantity</th>\n",
       "      <th>unpaid_rate</th>\n",
       "      <th>group_share_in_total</th>\n",
       "      <th>repaid_rate</th>\n",
       "      <th>family_status</th>\n",
       "    </tr>\n",
       "    <tr>\n",
       "      <th></th>\n",
       "      <th></th>\n",
       "      <th></th>\n",
       "      <th></th>\n",
       "      <th></th>\n",
       "      <th></th>\n",
       "      <th></th>\n",
       "    </tr>\n",
       "    <tr>\n",
       "      <th>family_status_id</th>\n",
       "      <th></th>\n",
       "      <th></th>\n",
       "      <th></th>\n",
       "      <th></th>\n",
       "      <th></th>\n",
       "      <th></th>\n",
       "    </tr>\n",
       "  </thead>\n",
       "  <tbody>\n",
       "    <tr>\n",
       "      <td>2</td>\n",
       "      <td>63</td>\n",
       "      <td>960</td>\n",
       "      <td>0.065625</td>\n",
       "      <td>0.044599</td>\n",
       "      <td>0.934375</td>\n",
       "      <td>[вдовец / вдова]</td>\n",
       "    </tr>\n",
       "    <tr>\n",
       "      <td>3</td>\n",
       "      <td>85</td>\n",
       "      <td>1195</td>\n",
       "      <td>0.071130</td>\n",
       "      <td>0.055517</td>\n",
       "      <td>0.928870</td>\n",
       "      <td>[в разводе]</td>\n",
       "    </tr>\n",
       "    <tr>\n",
       "      <td>0</td>\n",
       "      <td>931</td>\n",
       "      <td>12380</td>\n",
       "      <td>0.075202</td>\n",
       "      <td>0.575145</td>\n",
       "      <td>0.924798</td>\n",
       "      <td>[женат / замужем]</td>\n",
       "    </tr>\n",
       "    <tr>\n",
       "      <td>1</td>\n",
       "      <td>388</td>\n",
       "      <td>4177</td>\n",
       "      <td>0.092890</td>\n",
       "      <td>0.194053</td>\n",
       "      <td>0.907110</td>\n",
       "      <td>[гражданский брак]</td>\n",
       "    </tr>\n",
       "    <tr>\n",
       "      <td>4</td>\n",
       "      <td>274</td>\n",
       "      <td>2813</td>\n",
       "      <td>0.097405</td>\n",
       "      <td>0.130685</td>\n",
       "      <td>0.902595</td>\n",
       "      <td>[Не женат / не замужем]</td>\n",
       "    </tr>\n",
       "  </tbody>\n",
       "</table>\n",
       "</div>"
      ],
      "text/plain": [
       "                 unpaid_qunatity total_quantity unpaid_rate  \\\n",
       "                                                              \n",
       "family_status_id                                              \n",
       "2                             63            960    0.065625   \n",
       "3                             85           1195    0.071130   \n",
       "0                            931          12380    0.075202   \n",
       "1                            388           4177    0.092890   \n",
       "4                            274           2813    0.097405   \n",
       "\n",
       "                 group_share_in_total repaid_rate            family_status  \n",
       "                                                                            \n",
       "family_status_id                                                            \n",
       "2                            0.044599    0.934375         [вдовец / вдова]  \n",
       "3                            0.055517    0.928870              [в разводе]  \n",
       "0                            0.575145    0.924798        [женат / замужем]  \n",
       "1                            0.194053    0.907110       [гражданский брак]  \n",
       "4                            0.130685    0.902595  [Не женат / не замужем]  "
      ]
     },
     "execution_count": 35,
     "metadata": {},
     "output_type": "execute_result"
    }
   ],
   "source": [
    "#объявляю функцию которая возвращает столбец с названиями категорий клиентов, соответствующих индексу\n",
    "def status_from_dict(index_id):\n",
    "    new_index = []\n",
    "    for value in index_id:\n",
    "        new_index.append(family_status_dict[value])\n",
    "    return new_index\n",
    "#создаю сводную таблицу и присоединаю к ней стобцы с расчетными значениями\n",
    "family_pivot = data_set.pivot_table(index='family_status_id',values='debt', aggfunc=['sum','count','mean'])\n",
    "family_pivot = family_pivot.assign(group_share_in_total = family_pivot['count']/family_pivot['count'].sum(),\\\n",
    "                                  repaid_rate = 1-family_pivot['mean'])\n",
    "#добавляем названия категорий\n",
    "family_pivot['family_status'] = status_from_dict(family_pivot.index)\n",
    "#сортируем по вероятности погашения\n",
    "family_pivot = family_pivot.sort_values(by=('repaid_rate',''),ascending=False)\n",
    "family_pivot = family_pivot.rename(columns={'debt':'','sum':'unpaid_qunatity','count':'total_quantity','mean':'unpaid_rate'})\n",
    "family_pivot"
   ]
  },
  {
   "cell_type": "markdown",
   "id": "63e72b64",
   "metadata": {},
   "source": [
    "##### Вывод 2:"
   ]
  },
  {
   "cell_type": "markdown",
   "id": "2e929c95",
   "metadata": {},
   "source": [
    "Наибольшая вероятность погашения установлена по заемщикам с социальным статусов \"водвец/вдова\" и \"в разводе\" - 93,4%, 92,8% соответственно. Наименьшая вероятность погашения установлена по группам заемщиков с социальным статусом \"гражданский брак\" и \"не женат/не замужем\". \n",
    "В связи с тем что по своей сути \"гражданский брак\" ближе остальных социальных статусов к статусу \"не женат/не замужем\" можно сделать вывод о том что заемщики не состоящие и не состоявшие в официальном браке чаще нарушают сроки погашения по кредитам.\n"
   ]
  },
  {
   "cell_type": "markdown",
   "id": "a13a8dc7",
   "metadata": {},
   "source": [
    "## Вопрос 3:"
   ]
  },
  {
   "cell_type": "markdown",
   "id": "c217da27",
   "metadata": {},
   "source": [
    "Есть ли зависимость между уровнем дохода и возвратом кредита в срок?"
   ]
  },
  {
   "cell_type": "code",
   "execution_count": 36,
   "id": "c78be314",
   "metadata": {
    "scrolled": true
   },
   "outputs": [
    {
     "data": {
      "text/html": [
       "<div>\n",
       "<style scoped>\n",
       "    .dataframe tbody tr th:only-of-type {\n",
       "        vertical-align: middle;\n",
       "    }\n",
       "\n",
       "    .dataframe tbody tr th {\n",
       "        vertical-align: top;\n",
       "    }\n",
       "\n",
       "    .dataframe thead tr th {\n",
       "        text-align: left;\n",
       "    }\n",
       "\n",
       "    .dataframe thead tr:last-of-type th {\n",
       "        text-align: right;\n",
       "    }\n",
       "</style>\n",
       "<table border=\"1\" class=\"dataframe\">\n",
       "  <thead>\n",
       "    <tr>\n",
       "      <th></th>\n",
       "      <th>unpaid_qunatity</th>\n",
       "      <th>total_quantity</th>\n",
       "      <th>unpaid_rate</th>\n",
       "      <th>group_share_in_total</th>\n",
       "      <th>repaid_rate</th>\n",
       "      <th>family_status</th>\n",
       "    </tr>\n",
       "    <tr>\n",
       "      <th></th>\n",
       "      <th></th>\n",
       "      <th></th>\n",
       "      <th></th>\n",
       "      <th></th>\n",
       "      <th></th>\n",
       "      <th></th>\n",
       "    </tr>\n",
       "    <tr>\n",
       "      <th>total_income_category</th>\n",
       "      <th></th>\n",
       "      <th></th>\n",
       "      <th></th>\n",
       "      <th></th>\n",
       "      <th></th>\n",
       "      <th></th>\n",
       "    </tr>\n",
       "  </thead>\n",
       "  <tbody>\n",
       "    <tr>\n",
       "      <td>D</td>\n",
       "      <td>21</td>\n",
       "      <td>350</td>\n",
       "      <td>0.060000</td>\n",
       "      <td>0.016260</td>\n",
       "      <td>0.940000</td>\n",
       "      <td>200 001 -1000 000</td>\n",
       "    </tr>\n",
       "    <tr>\n",
       "      <td>B</td>\n",
       "      <td>356</td>\n",
       "      <td>5042</td>\n",
       "      <td>0.070607</td>\n",
       "      <td>0.234239</td>\n",
       "      <td>0.929393</td>\n",
       "      <td>30 001 -  50 000</td>\n",
       "    </tr>\n",
       "    <tr>\n",
       "      <td>A</td>\n",
       "      <td>2</td>\n",
       "      <td>25</td>\n",
       "      <td>0.080000</td>\n",
       "      <td>0.001161</td>\n",
       "      <td>0.920000</td>\n",
       "      <td>0 -  30 000</td>\n",
       "    </tr>\n",
       "    <tr>\n",
       "      <td>C</td>\n",
       "      <td>1360</td>\n",
       "      <td>16086</td>\n",
       "      <td>0.084546</td>\n",
       "      <td>0.747317</td>\n",
       "      <td>0.915454</td>\n",
       "      <td>50 001 - 200 000</td>\n",
       "    </tr>\n",
       "    <tr>\n",
       "      <td>E</td>\n",
       "      <td>2</td>\n",
       "      <td>22</td>\n",
       "      <td>0.090909</td>\n",
       "      <td>0.001022</td>\n",
       "      <td>0.909091</td>\n",
       "      <td>1 000 001 -------&gt;</td>\n",
       "    </tr>\n",
       "  </tbody>\n",
       "</table>\n",
       "</div>"
      ],
      "text/plain": [
       "                      unpaid_qunatity total_quantity unpaid_rate  \\\n",
       "                                                                   \n",
       "total_income_category                                              \n",
       "D                                  21            350    0.060000   \n",
       "B                                 356           5042    0.070607   \n",
       "A                                   2             25    0.080000   \n",
       "C                                1360          16086    0.084546   \n",
       "E                                   2             22    0.090909   \n",
       "\n",
       "                      group_share_in_total repaid_rate       family_status  \n",
       "                                                                            \n",
       "total_income_category                                                       \n",
       "D                                 0.016260    0.940000   200 001 -1000 000  \n",
       "B                                 0.234239    0.929393    30 001 -  50 000  \n",
       "A                                 0.001161    0.920000         0 -  30 000  \n",
       "C                                 0.747317    0.915454    50 001 - 200 000  \n",
       "E                                 0.001022    0.909091  1 000 001 ------->  "
      ]
     },
     "execution_count": 36,
     "metadata": {},
     "output_type": "execute_result"
    }
   ],
   "source": [
    "#создаю словарь с названиями интервалов/категорий клиентов по доходам\n",
    "income_dict = {'A':'      0 -  30 000',\n",
    "              'B' :' 30 001 -  50 000',\n",
    "              'C' :' 50 001 - 200 000',\n",
    "              'D' :'200 001 -1000 000',\n",
    "              'E': '1 000 001 ------->'}\n",
    "#объявляю функцию которая возвращает столбец с названиями категорий клиентов, соответствующих переданному индексу\n",
    "def income_from_dict(index_id):\n",
    "    new_index = []\n",
    "    for value in index_id:\n",
    "        new_index.append(income_dict[value])\n",
    "    return new_index\n",
    "#создаю сводную таблицу и присоединаю к ней стобцы с расчетными значениями\n",
    "income_pivot = data_set.pivot_table(index='total_income_category',values='debt', aggfunc=['sum','count','mean'])\n",
    "income_pivot = income_pivot.assign(group_share_in_total = income_pivot['count']/income_pivot['count'].sum(),\\\n",
    "                                  repaid_rate = 1-income_pivot['mean'])\n",
    "#добавляем названия категорий\n",
    "income_pivot['family_status'] = income_from_dict(income_pivot.index)\n",
    "#сортируем по вероятности погашения\n",
    "income_pivot = income_pivot.sort_values(by=('repaid_rate',''),ascending=False)\n",
    "#переименовываем столбцы\n",
    "income_pivot = income_pivot.rename(columns={'debt':'','sum':'unpaid_qunatity','count':'total_quantity','mean':'unpaid_rate'})\n",
    "income_pivot"
   ]
  },
  {
   "cell_type": "markdown",
   "id": "4b7be409",
   "metadata": {},
   "source": [
    "##### Вывод 3:"
   ]
  },
  {
   "cell_type": "markdown",
   "id": "dcb93f35",
   "metadata": {},
   "source": [
    "Наибольшая вероятность погашения приходится на группу клиентов с доходами '30 001-50 000' и '200 001-1 000 000' или 94% и 92,9%.\n",
    "При этом промежуточная по сумме доходов группа клиентов с доходами \"50 001-200 000\" показывает вероятность погашения ниже - на уровне 91,5%\n",
    "Оставшиеся две группы клиентов с доходами \"0-30 000\" и \"1 000 001 и более\" составляют 0,1% от общего числа клиентов (каждая) и не являются показательными ввиду недостаточного объема выборки.\n",
    "Таким образом взаимосвязь между доходами клиентов не подтверждена.  "
   ]
  },
  {
   "cell_type": "markdown",
   "id": "f58d31c7",
   "metadata": {},
   "source": [
    "## Вопрос 4:"
   ]
  },
  {
   "cell_type": "markdown",
   "id": "b75c0d1c",
   "metadata": {},
   "source": [
    "Как разные цели кредита влияют на его возврат в срок?"
   ]
  },
  {
   "cell_type": "code",
   "execution_count": 37,
   "id": "de79cfe9",
   "metadata": {},
   "outputs": [
    {
     "data": {
      "text/html": [
       "<div>\n",
       "<style scoped>\n",
       "    .dataframe tbody tr th:only-of-type {\n",
       "        vertical-align: middle;\n",
       "    }\n",
       "\n",
       "    .dataframe tbody tr th {\n",
       "        vertical-align: top;\n",
       "    }\n",
       "\n",
       "    .dataframe thead tr th {\n",
       "        text-align: left;\n",
       "    }\n",
       "\n",
       "    .dataframe thead tr:last-of-type th {\n",
       "        text-align: right;\n",
       "    }\n",
       "</style>\n",
       "<table border=\"1\" class=\"dataframe\">\n",
       "  <thead>\n",
       "    <tr>\n",
       "      <th></th>\n",
       "      <th>unpaid_qunatity</th>\n",
       "      <th>total_quantity</th>\n",
       "      <th>unpaid_rate</th>\n",
       "      <th>group_share_in_total</th>\n",
       "      <th>repaid_rate</th>\n",
       "    </tr>\n",
       "    <tr>\n",
       "      <th></th>\n",
       "      <th></th>\n",
       "      <th></th>\n",
       "      <th></th>\n",
       "      <th></th>\n",
       "      <th></th>\n",
       "    </tr>\n",
       "    <tr>\n",
       "      <th>purpose_category</th>\n",
       "      <th></th>\n",
       "      <th></th>\n",
       "      <th></th>\n",
       "      <th></th>\n",
       "      <th></th>\n",
       "    </tr>\n",
       "  </thead>\n",
       "  <tbody>\n",
       "    <tr>\n",
       "      <td>операции с недвижимостью</td>\n",
       "      <td>782</td>\n",
       "      <td>10840</td>\n",
       "      <td>0.072140</td>\n",
       "      <td>0.503600</td>\n",
       "      <td>0.927860</td>\n",
       "    </tr>\n",
       "    <tr>\n",
       "      <td>проведение свадьбы</td>\n",
       "      <td>186</td>\n",
       "      <td>2348</td>\n",
       "      <td>0.079216</td>\n",
       "      <td>0.109082</td>\n",
       "      <td>0.920784</td>\n",
       "    </tr>\n",
       "    <tr>\n",
       "      <td>получение образования</td>\n",
       "      <td>370</td>\n",
       "      <td>4022</td>\n",
       "      <td>0.091994</td>\n",
       "      <td>0.186852</td>\n",
       "      <td>0.908006</td>\n",
       "    </tr>\n",
       "    <tr>\n",
       "      <td>операции с автомобилем</td>\n",
       "      <td>403</td>\n",
       "      <td>4315</td>\n",
       "      <td>0.093395</td>\n",
       "      <td>0.200465</td>\n",
       "      <td>0.906605</td>\n",
       "    </tr>\n",
       "  </tbody>\n",
       "</table>\n",
       "</div>"
      ],
      "text/plain": [
       "                         unpaid_qunatity total_quantity unpaid_rate  \\\n",
       "                                                                      \n",
       "purpose_category                                                      \n",
       "операции с недвижимостью             782          10840    0.072140   \n",
       "проведение свадьбы                   186           2348    0.079216   \n",
       "получение образования                370           4022    0.091994   \n",
       "операции с автомобилем               403           4315    0.093395   \n",
       "\n",
       "                         group_share_in_total repaid_rate  \n",
       "                                                           \n",
       "purpose_category                                           \n",
       "операции с недвижимостью             0.503600    0.927860  \n",
       "проведение свадьбы                   0.109082    0.920784  \n",
       "получение образования                0.186852    0.908006  \n",
       "операции с автомобилем               0.200465    0.906605  "
      ]
     },
     "execution_count": 37,
     "metadata": {},
     "output_type": "execute_result"
    }
   ],
   "source": [
    "#создаю сводную таблицу и присоединаю к ней стобцы с расчетными значениями\n",
    "purpose_pivot = data_set.pivot_table(index='purpose_category',values='debt', aggfunc=['sum','count','mean'])\n",
    "purpose_pivot = purpose_pivot.assign(group_share_in_total = purpose_pivot['count']/purpose_pivot['count'].sum(),\\\n",
    "                                  repaid_rate = 1-purpose_pivot['mean'])\n",
    "#сортируем по вероятности погашения\n",
    "purpose_pivot = purpose_pivot.sort_values(by=('repaid_rate',''),ascending=False)\n",
    "#переименовываем столбцы\n",
    "purpose_pivot = purpose_pivot.rename(columns={'debt':'','sum':'unpaid_qunatity','count':'total_quantity','mean':'unpaid_rate'})\n",
    "purpose_pivot"
   ]
  },
  {
   "cell_type": "markdown",
   "id": "16e6eecb",
   "metadata": {},
   "source": [
    "##### Вывод 4:"
   ]
  },
  {
   "cell_type": "markdown",
   "id": "83f94a6f",
   "metadata": {},
   "source": [
    "По результатам анализа установлено, что своевременность возврата кредита выше у кредитов на покупку или иные операции с недвижимостью, а также на проведение свадьбы 92,7% и 92,1%\n",
    "Наихудшее качество погашения кредитов установлено по кредитам на образование и приобретение автотранспорта 90,8% и 90,6% соответственно."
   ]
  },
  {
   "cell_type": "markdown",
   "id": "550c77ff",
   "metadata": {},
   "source": [
    "## Общий вывод:"
   ]
  },
  {
   "cell_type": "markdown",
   "id": "2a8715a5",
   "metadata": {},
   "source": [
    "Для анализа представлены данные по 21,5 тыс. клиентов - заемщиков разного возраста/дохода и целей кредита.\n",
    "Порядка 10% записей не содержали пропуски в сведениях о доходе и стаже. Общие признаки у таких заемщиков отсутствовали. \n",
    "Предположительно эта часть данных получена из канала продаж в котором такая информация не анализировалась \n",
    "при рассмотрении вопроса о выдаче кредита, либо по какой то причине не сохранялась. \n",
    "Например если данные заводились в партнерской CRM."
   ]
  },
  {
   "cell_type": "markdown",
   "id": "46d94181",
   "metadata": {},
   "source": [
    "Необходимо отметить системную проблему некорректных сведений о рабочем стаже по клиентам-пенсионерам. \n",
    "Целесообразно проследить путь который проходят эти данные от клиентского работника до выгрузки, представленной на анализ."
   ]
  },
  {
   "cell_type": "markdown",
   "id": "99c1f403",
   "metadata": {},
   "source": [
    "Анализ данных сформированных по результатам предобработки подтвердил следующие гипотезы\n",
    "    1. Верояность погашения связана с наличием и количеством детей у заемщика - с ростом количества детей \n",
    "    снижается вероятность своевременного погашения кредита.\n",
    "    2. Вероятность погашения ниже для клиентов ранее не обременявших себя официальным браком. Что может свидетельствовать \n",
    "    как об ответственности так в равной степени и о наличии привычки планирования бюджета у людей состоявших в официальном браке.\n",
    "    3. Вероятность погашения не связана с уровнем дохода заемщиков. При этом информация о долговой нагрузке \n",
    "    менее обеспеченных заемщиков из датасета отсутствует. Возможно при предоставлении кредитов учитывалась способность погашения\n",
    "    кредитов что, как следствие выровняло вероятность погашения в разных группах по уровню дохода.\n",
    "    4. Веротность погашения кредитов, использванных на цели приобретения недвижимости и проведение свадьбы выше, чем по\n",
    "    образовательным кредитам и автокредитам."
   ]
  },
  {
   "cell_type": "code",
   "execution_count": null,
   "id": "96c68e78",
   "metadata": {},
   "outputs": [],
   "source": []
  }
 ],
 "metadata": {
  "ExecuteTimeLog": [
   {
    "duration": 617,
    "start_time": "2022-03-10T14:54:06.790Z"
   },
   {
    "duration": 16,
    "start_time": "2022-03-10T14:54:07.409Z"
   },
   {
    "duration": 8,
    "start_time": "2022-03-10T14:54:07.426Z"
   },
   {
    "duration": 22,
    "start_time": "2022-03-10T14:54:07.436Z"
   },
   {
    "duration": 11,
    "start_time": "2022-03-10T14:54:07.459Z"
   },
   {
    "duration": 25,
    "start_time": "2022-03-10T14:54:07.472Z"
   },
   {
    "duration": 15,
    "start_time": "2022-03-10T14:54:07.499Z"
   },
   {
    "duration": 13,
    "start_time": "2022-03-10T14:54:07.515Z"
   },
   {
    "duration": 8,
    "start_time": "2022-03-10T14:54:07.531Z"
   },
   {
    "duration": 16,
    "start_time": "2022-03-10T14:54:07.541Z"
   },
   {
    "duration": 6,
    "start_time": "2022-03-10T14:54:07.558Z"
   },
   {
    "duration": 23,
    "start_time": "2022-03-10T14:54:07.566Z"
   },
   {
    "duration": 16,
    "start_time": "2022-03-10T14:54:07.590Z"
   },
   {
    "duration": 26,
    "start_time": "2022-03-10T14:54:07.607Z"
   },
   {
    "duration": 23,
    "start_time": "2022-03-10T14:54:07.634Z"
   },
   {
    "duration": 21,
    "start_time": "2022-03-10T14:54:07.658Z"
   },
   {
    "duration": 16,
    "start_time": "2022-03-10T14:54:07.681Z"
   },
   {
    "duration": 8,
    "start_time": "2022-03-10T14:54:07.698Z"
   },
   {
    "duration": 26,
    "start_time": "2022-03-10T14:54:07.707Z"
   },
   {
    "duration": 18,
    "start_time": "2022-03-10T14:54:07.734Z"
   },
   {
    "duration": 15,
    "start_time": "2022-03-10T14:54:07.753Z"
   },
   {
    "duration": 23,
    "start_time": "2022-03-10T14:54:07.770Z"
   },
   {
    "duration": 14,
    "start_time": "2022-03-10T14:54:07.794Z"
   },
   {
    "duration": 19,
    "start_time": "2022-03-10T14:54:07.809Z"
   },
   {
    "duration": 22,
    "start_time": "2022-03-10T14:54:07.829Z"
   },
   {
    "duration": 39,
    "start_time": "2022-03-10T14:54:07.852Z"
   },
   {
    "duration": 17,
    "start_time": "2022-03-10T14:54:07.895Z"
   },
   {
    "duration": 18,
    "start_time": "2022-03-10T14:54:07.914Z"
   },
   {
    "duration": 1200,
    "start_time": "2022-03-10T14:54:07.933Z"
   },
   {
    "duration": 3,
    "start_time": "2022-03-10T14:54:09.134Z"
   },
   {
    "duration": 31,
    "start_time": "2022-03-10T14:54:09.138Z"
   },
   {
    "duration": 37,
    "start_time": "2022-03-10T14:54:09.170Z"
   },
   {
    "duration": 26,
    "start_time": "2022-03-10T14:54:09.208Z"
   },
   {
    "duration": 43,
    "start_time": "2022-03-10T14:54:09.235Z"
   },
   {
    "duration": 38,
    "start_time": "2022-03-10T14:54:09.279Z"
   },
   {
    "duration": 33,
    "start_time": "2022-03-10T14:54:09.319Z"
   },
   {
    "duration": 97,
    "start_time": "2022-03-10T14:54:09.354Z"
   },
   {
    "duration": 42,
    "start_time": "2022-03-10T14:54:09.411Z"
   },
   {
    "duration": 38,
    "start_time": "2022-03-10T14:54:09.416Z"
   },
   {
    "duration": 586,
    "start_time": "2022-03-10T15:03:19.452Z"
   },
   {
    "duration": 18,
    "start_time": "2022-03-10T15:03:20.039Z"
   },
   {
    "duration": 7,
    "start_time": "2022-03-10T15:03:20.059Z"
   },
   {
    "duration": 15,
    "start_time": "2022-03-10T15:03:20.068Z"
   },
   {
    "duration": 27,
    "start_time": "2022-03-10T15:03:20.084Z"
   },
   {
    "duration": 5,
    "start_time": "2022-03-10T15:03:20.112Z"
   },
   {
    "duration": 13,
    "start_time": "2022-03-10T15:03:20.118Z"
   },
   {
    "duration": 10,
    "start_time": "2022-03-10T15:03:20.134Z"
   },
   {
    "duration": 8,
    "start_time": "2022-03-10T15:03:20.146Z"
   },
   {
    "duration": 9,
    "start_time": "2022-03-10T15:03:20.155Z"
   },
   {
    "duration": 6,
    "start_time": "2022-03-10T15:03:20.165Z"
   },
   {
    "duration": 39,
    "start_time": "2022-03-10T15:03:20.172Z"
   },
   {
    "duration": 6,
    "start_time": "2022-03-10T15:03:20.212Z"
   },
   {
    "duration": 14,
    "start_time": "2022-03-10T15:03:20.219Z"
   },
   {
    "duration": 6,
    "start_time": "2022-03-10T15:03:20.235Z"
   },
   {
    "duration": 19,
    "start_time": "2022-03-10T15:03:20.242Z"
   },
   {
    "duration": 11,
    "start_time": "2022-03-10T15:03:20.262Z"
   },
   {
    "duration": 5,
    "start_time": "2022-03-10T15:03:20.274Z"
   },
   {
    "duration": 8,
    "start_time": "2022-03-10T15:03:20.281Z"
   },
   {
    "duration": 27,
    "start_time": "2022-03-10T15:03:20.290Z"
   },
   {
    "duration": 6,
    "start_time": "2022-03-10T15:03:20.318Z"
   },
   {
    "duration": 8,
    "start_time": "2022-03-10T15:03:20.325Z"
   },
   {
    "duration": 5,
    "start_time": "2022-03-10T15:03:20.336Z"
   },
   {
    "duration": 7,
    "start_time": "2022-03-10T15:03:20.343Z"
   },
   {
    "duration": 7,
    "start_time": "2022-03-10T15:03:20.351Z"
   },
   {
    "duration": 17,
    "start_time": "2022-03-10T15:03:20.359Z"
   },
   {
    "duration": 30,
    "start_time": "2022-03-10T15:03:20.377Z"
   },
   {
    "duration": 5,
    "start_time": "2022-03-10T15:03:20.408Z"
   },
   {
    "duration": 1176,
    "start_time": "2022-03-10T15:03:20.415Z"
   },
   {
    "duration": 3,
    "start_time": "2022-03-10T15:03:21.593Z"
   },
   {
    "duration": 8,
    "start_time": "2022-03-10T15:03:21.604Z"
   },
   {
    "duration": 28,
    "start_time": "2022-03-10T15:03:21.614Z"
   },
   {
    "duration": 22,
    "start_time": "2022-03-10T15:03:21.644Z"
   },
   {
    "duration": 50,
    "start_time": "2022-03-10T15:03:21.667Z"
   },
   {
    "duration": 36,
    "start_time": "2022-03-10T15:03:21.719Z"
   },
   {
    "duration": 50,
    "start_time": "2022-03-10T15:03:21.757Z"
   },
   {
    "duration": 15,
    "start_time": "2022-03-10T15:04:09.339Z"
   },
   {
    "duration": 623,
    "start_time": "2022-03-10T15:12:13.579Z"
   },
   {
    "duration": 16,
    "start_time": "2022-03-10T15:12:14.204Z"
   },
   {
    "duration": 7,
    "start_time": "2022-03-10T15:12:14.222Z"
   },
   {
    "duration": 16,
    "start_time": "2022-03-10T15:12:14.230Z"
   },
   {
    "duration": 12,
    "start_time": "2022-03-10T15:12:14.247Z"
   },
   {
    "duration": 5,
    "start_time": "2022-03-10T15:12:14.260Z"
   },
   {
    "duration": 10,
    "start_time": "2022-03-10T15:12:14.266Z"
   },
   {
    "duration": 34,
    "start_time": "2022-03-10T15:12:14.278Z"
   },
   {
    "duration": 5,
    "start_time": "2022-03-10T15:12:14.315Z"
   },
   {
    "duration": 6,
    "start_time": "2022-03-10T15:12:14.322Z"
   },
   {
    "duration": 5,
    "start_time": "2022-03-10T15:12:14.329Z"
   },
   {
    "duration": 10,
    "start_time": "2022-03-10T15:12:14.336Z"
   },
   {
    "duration": 5,
    "start_time": "2022-03-10T15:12:14.347Z"
   },
   {
    "duration": 15,
    "start_time": "2022-03-10T15:12:14.353Z"
   },
   {
    "duration": 40,
    "start_time": "2022-03-10T15:12:14.369Z"
   },
   {
    "duration": 6,
    "start_time": "2022-03-10T15:12:14.410Z"
   },
   {
    "duration": 8,
    "start_time": "2022-03-10T15:12:14.418Z"
   },
   {
    "duration": 7,
    "start_time": "2022-03-10T15:12:14.427Z"
   },
   {
    "duration": 7,
    "start_time": "2022-03-10T15:12:14.435Z"
   },
   {
    "duration": 10,
    "start_time": "2022-03-10T15:12:14.443Z"
   },
   {
    "duration": 6,
    "start_time": "2022-03-10T15:12:14.454Z"
   },
   {
    "duration": 7,
    "start_time": "2022-03-10T15:12:14.461Z"
   },
   {
    "duration": 39,
    "start_time": "2022-03-10T15:12:14.469Z"
   },
   {
    "duration": 6,
    "start_time": "2022-03-10T15:12:14.509Z"
   },
   {
    "duration": 5,
    "start_time": "2022-03-10T15:12:14.517Z"
   },
   {
    "duration": 19,
    "start_time": "2022-03-10T15:12:14.523Z"
   },
   {
    "duration": 16,
    "start_time": "2022-03-10T15:12:14.545Z"
   },
   {
    "duration": 9,
    "start_time": "2022-03-10T15:12:14.563Z"
   },
   {
    "duration": 5,
    "start_time": "2022-03-10T15:12:14.573Z"
   },
   {
    "duration": 1200,
    "start_time": "2022-03-10T15:12:14.579Z"
   },
   {
    "duration": 4,
    "start_time": "2022-03-10T15:12:15.780Z"
   },
   {
    "duration": 22,
    "start_time": "2022-03-10T15:12:15.785Z"
   },
   {
    "duration": 28,
    "start_time": "2022-03-10T15:12:15.808Z"
   },
   {
    "duration": 19,
    "start_time": "2022-03-10T15:12:15.837Z"
   },
   {
    "duration": 52,
    "start_time": "2022-03-10T15:12:15.857Z"
   },
   {
    "duration": 36,
    "start_time": "2022-03-10T15:12:15.910Z"
   },
   {
    "duration": 35,
    "start_time": "2022-03-10T15:12:15.947Z"
   },
   {
    "duration": 2894,
    "start_time": "2022-03-11T05:49:15.777Z"
   },
   {
    "duration": -207,
    "start_time": "2022-03-11T05:49:18.881Z"
   },
   {
    "duration": -210,
    "start_time": "2022-03-11T05:49:18.885Z"
   },
   {
    "duration": -213,
    "start_time": "2022-03-11T05:49:18.889Z"
   },
   {
    "duration": -214,
    "start_time": "2022-03-11T05:49:18.891Z"
   },
   {
    "duration": -222,
    "start_time": "2022-03-11T05:49:18.900Z"
   },
   {
    "duration": -264,
    "start_time": "2022-03-11T05:49:18.943Z"
   },
   {
    "duration": -273,
    "start_time": "2022-03-11T05:49:18.953Z"
   },
   {
    "duration": -277,
    "start_time": "2022-03-11T05:49:18.958Z"
   },
   {
    "duration": -284,
    "start_time": "2022-03-11T05:49:18.966Z"
   },
   {
    "duration": -287,
    "start_time": "2022-03-11T05:49:18.970Z"
   },
   {
    "duration": -290,
    "start_time": "2022-03-11T05:49:18.974Z"
   },
   {
    "duration": -297,
    "start_time": "2022-03-11T05:49:18.982Z"
   },
   {
    "duration": -301,
    "start_time": "2022-03-11T05:49:18.987Z"
   },
   {
    "duration": -303,
    "start_time": "2022-03-11T05:49:18.990Z"
   },
   {
    "duration": -310,
    "start_time": "2022-03-11T05:49:18.998Z"
   },
   {
    "duration": -312,
    "start_time": "2022-03-11T05:49:19.001Z"
   },
   {
    "duration": -315,
    "start_time": "2022-03-11T05:49:19.005Z"
   },
   {
    "duration": -372,
    "start_time": "2022-03-11T05:49:19.063Z"
   },
   {
    "duration": -376,
    "start_time": "2022-03-11T05:49:19.068Z"
   },
   {
    "duration": -379,
    "start_time": "2022-03-11T05:49:19.072Z"
   },
   {
    "duration": -392,
    "start_time": "2022-03-11T05:49:19.086Z"
   },
   {
    "duration": -395,
    "start_time": "2022-03-11T05:49:19.090Z"
   },
   {
    "duration": -402,
    "start_time": "2022-03-11T05:49:19.098Z"
   },
   {
    "duration": -405,
    "start_time": "2022-03-11T05:49:19.102Z"
   },
   {
    "duration": -431,
    "start_time": "2022-03-11T05:49:19.129Z"
   },
   {
    "duration": -436,
    "start_time": "2022-03-11T05:49:19.135Z"
   },
   {
    "duration": -437,
    "start_time": "2022-03-11T05:49:19.138Z"
   },
   {
    "duration": -441,
    "start_time": "2022-03-11T05:49:19.143Z"
   },
   {
    "duration": -443,
    "start_time": "2022-03-11T05:49:19.146Z"
   },
   {
    "duration": -444,
    "start_time": "2022-03-11T05:49:19.148Z"
   },
   {
    "duration": -446,
    "start_time": "2022-03-11T05:49:19.151Z"
   },
   {
    "duration": -448,
    "start_time": "2022-03-11T05:49:19.154Z"
   },
   {
    "duration": -451,
    "start_time": "2022-03-11T05:49:19.158Z"
   },
   {
    "duration": -456,
    "start_time": "2022-03-11T05:49:19.164Z"
   },
   {
    "duration": -458,
    "start_time": "2022-03-11T05:49:19.167Z"
   },
   {
    "duration": -460,
    "start_time": "2022-03-11T05:49:19.170Z"
   },
   {
    "duration": 2775,
    "start_time": "2022-03-11T05:51:42.709Z"
   },
   {
    "duration": -24,
    "start_time": "2022-03-11T05:51:45.512Z"
   },
   {
    "duration": -27,
    "start_time": "2022-03-11T05:51:45.516Z"
   },
   {
    "duration": -29,
    "start_time": "2022-03-11T05:51:45.520Z"
   },
   {
    "duration": -32,
    "start_time": "2022-03-11T05:51:45.524Z"
   },
   {
    "duration": -34,
    "start_time": "2022-03-11T05:51:45.527Z"
   },
   {
    "duration": -36,
    "start_time": "2022-03-11T05:51:45.530Z"
   },
   {
    "duration": -37,
    "start_time": "2022-03-11T05:51:45.533Z"
   },
   {
    "duration": -40,
    "start_time": "2022-03-11T05:51:45.537Z"
   },
   {
    "duration": -42,
    "start_time": "2022-03-11T05:51:45.540Z"
   },
   {
    "duration": -44,
    "start_time": "2022-03-11T05:51:45.543Z"
   },
   {
    "duration": -51,
    "start_time": "2022-03-11T05:51:45.552Z"
   },
   {
    "duration": -58,
    "start_time": "2022-03-11T05:51:45.560Z"
   },
   {
    "duration": -61,
    "start_time": "2022-03-11T05:51:45.564Z"
   },
   {
    "duration": -64,
    "start_time": "2022-03-11T05:51:45.568Z"
   },
   {
    "duration": -66,
    "start_time": "2022-03-11T05:51:45.572Z"
   },
   {
    "duration": -69,
    "start_time": "2022-03-11T05:51:45.576Z"
   },
   {
    "duration": -71,
    "start_time": "2022-03-11T05:51:45.579Z"
   },
   {
    "duration": -72,
    "start_time": "2022-03-11T05:51:45.582Z"
   },
   {
    "duration": -74,
    "start_time": "2022-03-11T05:51:45.585Z"
   },
   {
    "duration": -76,
    "start_time": "2022-03-11T05:51:45.588Z"
   },
   {
    "duration": -77,
    "start_time": "2022-03-11T05:51:45.591Z"
   },
   {
    "duration": -79,
    "start_time": "2022-03-11T05:51:45.594Z"
   },
   {
    "duration": -80,
    "start_time": "2022-03-11T05:51:45.596Z"
   },
   {
    "duration": -82,
    "start_time": "2022-03-11T05:51:45.599Z"
   },
   {
    "duration": -88,
    "start_time": "2022-03-11T05:51:45.607Z"
   },
   {
    "duration": -146,
    "start_time": "2022-03-11T05:51:45.666Z"
   },
   {
    "duration": -147,
    "start_time": "2022-03-11T05:51:45.668Z"
   },
   {
    "duration": -148,
    "start_time": "2022-03-11T05:51:45.671Z"
   },
   {
    "duration": -182,
    "start_time": "2022-03-11T05:51:45.706Z"
   },
   {
    "duration": -184,
    "start_time": "2022-03-11T05:51:45.709Z"
   },
   {
    "duration": -184,
    "start_time": "2022-03-11T05:51:45.711Z"
   },
   {
    "duration": -186,
    "start_time": "2022-03-11T05:51:45.714Z"
   },
   {
    "duration": -188,
    "start_time": "2022-03-11T05:51:45.717Z"
   },
   {
    "duration": -190,
    "start_time": "2022-03-11T05:51:45.720Z"
   },
   {
    "duration": -191,
    "start_time": "2022-03-11T05:51:45.723Z"
   },
   {
    "duration": -197,
    "start_time": "2022-03-11T05:51:45.730Z"
   },
   {
    "duration": 3069,
    "start_time": "2022-03-11T08:06:19.890Z"
   },
   {
    "duration": 66,
    "start_time": "2022-03-11T08:06:26.694Z"
   },
   {
    "duration": 682,
    "start_time": "2022-03-11T08:07:35.276Z"
   },
   {
    "duration": 18,
    "start_time": "2022-03-11T08:07:35.960Z"
   },
   {
    "duration": 7,
    "start_time": "2022-03-11T08:07:35.980Z"
   },
   {
    "duration": 25,
    "start_time": "2022-03-11T08:07:35.989Z"
   },
   {
    "duration": 23,
    "start_time": "2022-03-11T08:07:36.015Z"
   },
   {
    "duration": 5,
    "start_time": "2022-03-11T08:07:36.039Z"
   },
   {
    "duration": 19,
    "start_time": "2022-03-11T08:07:36.045Z"
   },
   {
    "duration": 19,
    "start_time": "2022-03-11T08:07:36.066Z"
   },
   {
    "duration": 15,
    "start_time": "2022-03-11T08:07:36.087Z"
   },
   {
    "duration": 10,
    "start_time": "2022-03-11T08:07:36.103Z"
   },
   {
    "duration": 7,
    "start_time": "2022-03-11T08:07:36.114Z"
   },
   {
    "duration": 15,
    "start_time": "2022-03-11T08:07:36.123Z"
   },
   {
    "duration": 6,
    "start_time": "2022-03-11T08:07:36.139Z"
   },
   {
    "duration": 12,
    "start_time": "2022-03-11T08:07:36.146Z"
   },
   {
    "duration": 5,
    "start_time": "2022-03-11T08:07:36.160Z"
   },
   {
    "duration": 35,
    "start_time": "2022-03-11T08:07:36.167Z"
   },
   {
    "duration": 6,
    "start_time": "2022-03-11T08:07:36.204Z"
   },
   {
    "duration": 7,
    "start_time": "2022-03-11T08:07:36.211Z"
   },
   {
    "duration": 11,
    "start_time": "2022-03-11T08:07:36.219Z"
   },
   {
    "duration": 17,
    "start_time": "2022-03-11T08:07:36.232Z"
   },
   {
    "duration": 9,
    "start_time": "2022-03-11T08:07:36.251Z"
   },
   {
    "duration": 8,
    "start_time": "2022-03-11T08:07:36.261Z"
   },
   {
    "duration": 9,
    "start_time": "2022-03-11T08:07:36.272Z"
   },
   {
    "duration": 22,
    "start_time": "2022-03-11T08:07:36.283Z"
   },
   {
    "duration": 5,
    "start_time": "2022-03-11T08:07:36.306Z"
   },
   {
    "duration": 20,
    "start_time": "2022-03-11T08:07:36.312Z"
   },
   {
    "duration": 19,
    "start_time": "2022-03-11T08:07:36.334Z"
   },
   {
    "duration": 12,
    "start_time": "2022-03-11T08:07:36.355Z"
   },
   {
    "duration": 9,
    "start_time": "2022-03-11T08:07:36.368Z"
   },
   {
    "duration": 1236,
    "start_time": "2022-03-11T08:07:36.378Z"
   },
   {
    "duration": 3,
    "start_time": "2022-03-11T08:07:37.616Z"
   },
   {
    "duration": 363,
    "start_time": "2022-03-11T08:07:37.620Z"
   },
   {
    "duration": -28,
    "start_time": "2022-03-11T08:07:38.013Z"
   },
   {
    "duration": -31,
    "start_time": "2022-03-11T08:07:38.018Z"
   },
   {
    "duration": -35,
    "start_time": "2022-03-11T08:07:38.023Z"
   },
   {
    "duration": -44,
    "start_time": "2022-03-11T08:07:38.033Z"
   },
   {
    "duration": -46,
    "start_time": "2022-03-11T08:07:38.037Z"
   },
   {
    "duration": 319,
    "start_time": "2022-03-11T08:07:53.100Z"
   },
   {
    "duration": 346,
    "start_time": "2022-03-11T08:08:01.076Z"
   },
   {
    "duration": 15,
    "start_time": "2022-03-11T08:08:20.395Z"
   },
   {
    "duration": 640,
    "start_time": "2022-03-11T08:08:28.208Z"
   },
   {
    "duration": 17,
    "start_time": "2022-03-11T08:08:28.850Z"
   },
   {
    "duration": 7,
    "start_time": "2022-03-11T08:08:28.868Z"
   },
   {
    "duration": 28,
    "start_time": "2022-03-11T08:08:28.877Z"
   },
   {
    "duration": 22,
    "start_time": "2022-03-11T08:08:28.906Z"
   },
   {
    "duration": 5,
    "start_time": "2022-03-11T08:08:28.929Z"
   },
   {
    "duration": 10,
    "start_time": "2022-03-11T08:08:28.935Z"
   },
   {
    "duration": 10,
    "start_time": "2022-03-11T08:08:28.947Z"
   },
   {
    "duration": 6,
    "start_time": "2022-03-11T08:08:28.959Z"
   },
   {
    "duration": 36,
    "start_time": "2022-03-11T08:08:28.966Z"
   },
   {
    "duration": 6,
    "start_time": "2022-03-11T08:08:29.004Z"
   },
   {
    "duration": 17,
    "start_time": "2022-03-11T08:08:29.012Z"
   },
   {
    "duration": 9,
    "start_time": "2022-03-11T08:08:29.031Z"
   },
   {
    "duration": 14,
    "start_time": "2022-03-11T08:08:29.041Z"
   },
   {
    "duration": 6,
    "start_time": "2022-03-11T08:08:29.057Z"
   },
   {
    "duration": 10,
    "start_time": "2022-03-11T08:08:29.064Z"
   },
   {
    "duration": 6,
    "start_time": "2022-03-11T08:08:29.102Z"
   },
   {
    "duration": 7,
    "start_time": "2022-03-11T08:08:29.109Z"
   },
   {
    "duration": 8,
    "start_time": "2022-03-11T08:08:29.118Z"
   },
   {
    "duration": 13,
    "start_time": "2022-03-11T08:08:29.128Z"
   },
   {
    "duration": 10,
    "start_time": "2022-03-11T08:08:29.142Z"
   },
   {
    "duration": 10,
    "start_time": "2022-03-11T08:08:29.153Z"
   },
   {
    "duration": 9,
    "start_time": "2022-03-11T08:08:29.166Z"
   },
   {
    "duration": 7,
    "start_time": "2022-03-11T08:08:29.176Z"
   },
   {
    "duration": 3,
    "start_time": "2022-03-11T08:08:29.201Z"
   },
   {
    "duration": 19,
    "start_time": "2022-03-11T08:08:29.205Z"
   },
   {
    "duration": 17,
    "start_time": "2022-03-11T08:08:29.225Z"
   },
   {
    "duration": 10,
    "start_time": "2022-03-11T08:08:29.243Z"
   },
   {
    "duration": 7,
    "start_time": "2022-03-11T08:08:29.254Z"
   },
   {
    "duration": 1275,
    "start_time": "2022-03-11T08:08:29.262Z"
   },
   {
    "duration": 4,
    "start_time": "2022-03-11T08:08:30.538Z"
   },
   {
    "duration": 25,
    "start_time": "2022-03-11T08:08:30.543Z"
   },
   {
    "duration": 33,
    "start_time": "2022-03-11T08:08:30.570Z"
   },
   {
    "duration": 24,
    "start_time": "2022-03-11T08:08:30.605Z"
   },
   {
    "duration": 39,
    "start_time": "2022-03-11T08:08:30.631Z"
   },
   {
    "duration": 62,
    "start_time": "2022-03-11T08:08:30.672Z"
   },
   {
    "duration": 43,
    "start_time": "2022-03-11T08:08:30.736Z"
   },
   {
    "duration": 1137,
    "start_time": "2022-03-11T08:51:09.190Z"
   },
   {
    "duration": 29,
    "start_time": "2022-03-11T08:51:10.329Z"
   },
   {
    "duration": 24,
    "start_time": "2022-03-11T08:51:10.361Z"
   },
   {
    "duration": 28,
    "start_time": "2022-03-11T08:51:10.387Z"
   },
   {
    "duration": 65,
    "start_time": "2022-03-11T08:51:10.417Z"
   },
   {
    "duration": 8,
    "start_time": "2022-03-11T08:51:10.484Z"
   },
   {
    "duration": 20,
    "start_time": "2022-03-11T08:51:10.494Z"
   },
   {
    "duration": 18,
    "start_time": "2022-03-11T08:51:10.518Z"
   },
   {
    "duration": 43,
    "start_time": "2022-03-11T08:51:10.540Z"
   },
   {
    "duration": 11,
    "start_time": "2022-03-11T08:51:10.585Z"
   },
   {
    "duration": 10,
    "start_time": "2022-03-11T08:51:10.599Z"
   },
   {
    "duration": 18,
    "start_time": "2022-03-11T08:51:10.612Z"
   },
   {
    "duration": 48,
    "start_time": "2022-03-11T08:51:10.632Z"
   },
   {
    "duration": 21,
    "start_time": "2022-03-11T08:51:10.682Z"
   },
   {
    "duration": 10,
    "start_time": "2022-03-11T08:51:10.705Z"
   },
   {
    "duration": 15,
    "start_time": "2022-03-11T08:51:10.718Z"
   },
   {
    "duration": 43,
    "start_time": "2022-03-11T08:51:10.735Z"
   },
   {
    "duration": 11,
    "start_time": "2022-03-11T08:51:10.780Z"
   },
   {
    "duration": 10,
    "start_time": "2022-03-11T08:51:10.793Z"
   },
   {
    "duration": 16,
    "start_time": "2022-03-11T08:51:10.806Z"
   },
   {
    "duration": 49,
    "start_time": "2022-03-11T08:51:10.824Z"
   },
   {
    "duration": 8,
    "start_time": "2022-03-11T08:51:10.875Z"
   },
   {
    "duration": 18,
    "start_time": "2022-03-11T08:51:10.887Z"
   },
   {
    "duration": 10,
    "start_time": "2022-03-11T08:51:10.908Z"
   },
   {
    "duration": 12,
    "start_time": "2022-03-11T08:51:10.920Z"
   },
   {
    "duration": 53,
    "start_time": "2022-03-11T08:51:10.934Z"
   },
   {
    "duration": 37,
    "start_time": "2022-03-11T08:51:10.991Z"
   },
   {
    "duration": 46,
    "start_time": "2022-03-11T08:51:11.031Z"
   },
   {
    "duration": 10,
    "start_time": "2022-03-11T08:51:11.080Z"
   },
   {
    "duration": 2365,
    "start_time": "2022-03-11T08:51:11.093Z"
   },
   {
    "duration": 14,
    "start_time": "2022-03-11T08:51:13.461Z"
   },
   {
    "duration": 28,
    "start_time": "2022-03-11T08:51:13.477Z"
   },
   {
    "duration": 39,
    "start_time": "2022-03-11T08:51:13.507Z"
   },
   {
    "duration": 56,
    "start_time": "2022-03-11T08:51:13.548Z"
   },
   {
    "duration": 85,
    "start_time": "2022-03-11T08:51:13.606Z"
   },
   {
    "duration": 82,
    "start_time": "2022-03-11T08:51:13.693Z"
   },
   {
    "duration": 66,
    "start_time": "2022-03-11T08:51:13.777Z"
   },
   {
    "duration": 1009,
    "start_time": "2022-03-11T08:52:18.619Z"
   },
   {
    "duration": 28,
    "start_time": "2022-03-11T08:52:19.631Z"
   },
   {
    "duration": 13,
    "start_time": "2022-03-11T08:52:19.673Z"
   },
   {
    "duration": 28,
    "start_time": "2022-03-11T08:52:19.689Z"
   },
   {
    "duration": 64,
    "start_time": "2022-03-11T08:52:19.720Z"
   },
   {
    "duration": 7,
    "start_time": "2022-03-11T08:52:19.786Z"
   },
   {
    "duration": 18,
    "start_time": "2022-03-11T08:52:19.796Z"
   },
   {
    "duration": 17,
    "start_time": "2022-03-11T08:52:19.818Z"
   },
   {
    "duration": 43,
    "start_time": "2022-03-11T08:52:19.838Z"
   },
   {
    "duration": 11,
    "start_time": "2022-03-11T08:52:19.883Z"
   },
   {
    "duration": 9,
    "start_time": "2022-03-11T08:52:19.897Z"
   },
   {
    "duration": 24,
    "start_time": "2022-03-11T08:52:19.909Z"
   },
   {
    "duration": 45,
    "start_time": "2022-03-11T08:52:19.936Z"
   },
   {
    "duration": 23,
    "start_time": "2022-03-11T08:52:19.984Z"
   },
   {
    "duration": 10,
    "start_time": "2022-03-11T08:52:20.010Z"
   },
   {
    "duration": 11,
    "start_time": "2022-03-11T08:52:20.022Z"
   },
   {
    "duration": 44,
    "start_time": "2022-03-11T08:52:20.035Z"
   },
   {
    "duration": 12,
    "start_time": "2022-03-11T08:52:20.081Z"
   },
   {
    "duration": 17,
    "start_time": "2022-03-11T08:52:20.096Z"
   },
   {
    "duration": 22,
    "start_time": "2022-03-11T08:52:20.116Z"
   },
   {
    "duration": 35,
    "start_time": "2022-03-11T08:52:20.141Z"
   },
   {
    "duration": 13,
    "start_time": "2022-03-11T08:52:20.179Z"
   },
   {
    "duration": 12,
    "start_time": "2022-03-11T08:52:20.197Z"
   },
   {
    "duration": 10,
    "start_time": "2022-03-11T08:52:20.212Z"
   },
   {
    "duration": 13,
    "start_time": "2022-03-11T08:52:20.225Z"
   },
   {
    "duration": 55,
    "start_time": "2022-03-11T08:52:20.240Z"
   },
   {
    "duration": 34,
    "start_time": "2022-03-11T08:52:20.297Z"
   },
   {
    "duration": 40,
    "start_time": "2022-03-11T08:52:20.334Z"
   },
   {
    "duration": 9,
    "start_time": "2022-03-11T08:52:20.377Z"
   },
   {
    "duration": 2630,
    "start_time": "2022-03-11T08:52:20.388Z"
   },
   {
    "duration": 6,
    "start_time": "2022-03-11T08:52:23.020Z"
   },
   {
    "duration": 40,
    "start_time": "2022-03-11T08:52:23.028Z"
   },
   {
    "duration": 61,
    "start_time": "2022-03-11T08:52:23.071Z"
   },
   {
    "duration": 45,
    "start_time": "2022-03-11T08:52:23.134Z"
   },
   {
    "duration": 65,
    "start_time": "2022-03-11T08:52:23.182Z"
   },
   {
    "duration": 76,
    "start_time": "2022-03-11T08:52:23.250Z"
   },
   {
    "duration": 85,
    "start_time": "2022-03-11T08:52:23.329Z"
   }
  ],
  "kernelspec": {
   "display_name": "Python 3 (ipykernel)",
   "language": "python",
   "name": "python3"
  },
  "language_info": {
   "codemirror_mode": {
    "name": "ipython",
    "version": 3
   },
   "file_extension": ".py",
   "mimetype": "text/x-python",
   "name": "python",
   "nbconvert_exporter": "python",
   "pygments_lexer": "ipython3",
   "version": "3.9.7"
  },
  "toc": {
   "base_numbering": 1,
   "nav_menu": {},
   "number_sections": true,
   "sideBar": true,
   "skip_h1_title": true,
   "title_cell": "Table of Contents",
   "title_sidebar": "Contents",
   "toc_cell": false,
   "toc_position": {},
   "toc_section_display": true,
   "toc_window_display": false
  }
 },
 "nbformat": 4,
 "nbformat_minor": 5
}
