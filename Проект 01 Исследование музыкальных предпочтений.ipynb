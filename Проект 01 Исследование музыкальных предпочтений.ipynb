{
 "cells": [
  {
   "cell_type": "markdown",
   "metadata": {
    "id": "E0vqbgi9ay0H"
   },
   "source": [
    "# Яндекс.Музыка"
   ]
  },
  {
   "cell_type": "markdown",
   "metadata": {
    "id": "VUC88oWjTJw2"
   },
   "source": [
    "Сравнение Москвы и Петербурга окружено мифами. Например:\n",
    " * Москва — мегаполис, подчинённый жёсткому ритму рабочей недели;\n",
    " * Петербург — культурная столица, со своими вкусами.\n",
    "\n",
    "На данных Яндекс.Музыки вы сравните поведение пользователей двух столиц.\n",
    "\n",
    "**Цель исследования** — проверьте три гипотезы:\n",
    "1. Активность пользователей зависит от дня недели. Причём в Москве и Петербурге это проявляется по-разному.\n",
    "2. В понедельник утром в Москве преобладают одни жанры, а в Петербурге — другие. Так же и вечером пятницы преобладают разные жанры — в зависимости от города. \n",
    "3. Москва и Петербург предпочитают разные жанры музыки. В Москве чаще слушают поп-музыку, в Петербурге — русский рэп.\n",
    "\n",
    "**Ход исследования**\n",
    "\n",
    "Данные о поведении пользователей вы получите из файла `yandex_music_project.csv`. О качестве данных ничего не известно. Поэтому перед проверкой гипотез понадобится обзор данных. \n",
    "\n",
    "Вы проверите данные на ошибки и оцените их влияние на исследование. Затем, на этапе предобработки вы поищете возможность исправить самые критичные ошибки данных.\n",
    " \n",
    "Таким образом, исследование пройдёт в три этапа:\n",
    " 1. Обзор данных.\n",
    " 2. Предобработка данных.\n",
    " 3. Проверка гипотез.\n",
    "\n"
   ]
  },
  {
   "cell_type": "markdown",
   "metadata": {
    "id": "Ml1hmfXC_Zcs"
   },
   "source": [
    "## Обзор данных\n",
    "\n",
    "Составьте первое представление о данных Яндекс.Музыки.\n",
    "\n",
    "\n"
   ]
  },
  {
   "cell_type": "markdown",
   "metadata": {
    "id": "57eAOGIz_Zcs"
   },
   "source": [
    "Основной инструмент аналитика — `pandas`. Импортируйте эту библиотеку."
   ]
  },
  {
   "cell_type": "code",
   "execution_count": 1,
   "metadata": {
    "id": "AXN7PHPN_Zcs"
   },
   "outputs": [],
   "source": [
    "# импорт библиотеки pandas\n",
    "import pandas as pd"
   ]
  },
  {
   "cell_type": "markdown",
   "metadata": {
    "id": "SG23P8tt_Zcs"
   },
   "source": [
    "Прочитайте файл `yandex_music_project.csv` из папки `/datasets` и сохраните его в переменной `df`:"
   ]
  },
  {
   "cell_type": "code",
   "execution_count": 2,
   "metadata": {
    "id": "fFVu7vqh_Zct"
   },
   "outputs": [],
   "source": [
    "# чтение файла с данными и сохранение в df\n",
    "df = pd.read_csv('/datasets/yandex_music_project.csv')"
   ]
  },
  {
   "cell_type": "markdown",
   "metadata": {
    "id": "rDoOMd3uTqnZ"
   },
   "source": [
    "Выведите на экран первые десять строк таблицы:"
   ]
  },
  {
   "cell_type": "code",
   "execution_count": 3,
   "metadata": {
    "id": "oWTVX3gW_Zct"
   },
   "outputs": [
    {
     "data": {
      "text/html": [
       "<div>\n",
       "<style scoped>\n",
       "    .dataframe tbody tr th:only-of-type {\n",
       "        vertical-align: middle;\n",
       "    }\n",
       "\n",
       "    .dataframe tbody tr th {\n",
       "        vertical-align: top;\n",
       "    }\n",
       "\n",
       "    .dataframe thead th {\n",
       "        text-align: right;\n",
       "    }\n",
       "</style>\n",
       "<table border=\"1\" class=\"dataframe\">\n",
       "  <thead>\n",
       "    <tr style=\"text-align: right;\">\n",
       "      <th></th>\n",
       "      <th>userID</th>\n",
       "      <th>Track</th>\n",
       "      <th>artist</th>\n",
       "      <th>genre</th>\n",
       "      <th>City</th>\n",
       "      <th>time</th>\n",
       "      <th>Day</th>\n",
       "    </tr>\n",
       "  </thead>\n",
       "  <tbody>\n",
       "    <tr>\n",
       "      <td>0</td>\n",
       "      <td>FFB692EC</td>\n",
       "      <td>Kamigata To Boots</td>\n",
       "      <td>The Mass Missile</td>\n",
       "      <td>rock</td>\n",
       "      <td>Saint-Petersburg</td>\n",
       "      <td>20:28:33</td>\n",
       "      <td>Wednesday</td>\n",
       "    </tr>\n",
       "    <tr>\n",
       "      <td>1</td>\n",
       "      <td>55204538</td>\n",
       "      <td>Delayed Because of Accident</td>\n",
       "      <td>Andreas Rönnberg</td>\n",
       "      <td>rock</td>\n",
       "      <td>Moscow</td>\n",
       "      <td>14:07:09</td>\n",
       "      <td>Friday</td>\n",
       "    </tr>\n",
       "    <tr>\n",
       "      <td>2</td>\n",
       "      <td>20EC38</td>\n",
       "      <td>Funiculì funiculà</td>\n",
       "      <td>Mario Lanza</td>\n",
       "      <td>pop</td>\n",
       "      <td>Saint-Petersburg</td>\n",
       "      <td>20:58:07</td>\n",
       "      <td>Wednesday</td>\n",
       "    </tr>\n",
       "    <tr>\n",
       "      <td>3</td>\n",
       "      <td>A3DD03C9</td>\n",
       "      <td>Dragons in the Sunset</td>\n",
       "      <td>Fire + Ice</td>\n",
       "      <td>folk</td>\n",
       "      <td>Saint-Petersburg</td>\n",
       "      <td>08:37:09</td>\n",
       "      <td>Monday</td>\n",
       "    </tr>\n",
       "    <tr>\n",
       "      <td>4</td>\n",
       "      <td>E2DC1FAE</td>\n",
       "      <td>Soul People</td>\n",
       "      <td>Space Echo</td>\n",
       "      <td>dance</td>\n",
       "      <td>Moscow</td>\n",
       "      <td>08:34:34</td>\n",
       "      <td>Monday</td>\n",
       "    </tr>\n",
       "    <tr>\n",
       "      <td>5</td>\n",
       "      <td>842029A1</td>\n",
       "      <td>Преданная</td>\n",
       "      <td>IMPERVTOR</td>\n",
       "      <td>rusrap</td>\n",
       "      <td>Saint-Petersburg</td>\n",
       "      <td>13:09:41</td>\n",
       "      <td>Friday</td>\n",
       "    </tr>\n",
       "    <tr>\n",
       "      <td>6</td>\n",
       "      <td>4CB90AA5</td>\n",
       "      <td>True</td>\n",
       "      <td>Roman Messer</td>\n",
       "      <td>dance</td>\n",
       "      <td>Moscow</td>\n",
       "      <td>13:00:07</td>\n",
       "      <td>Wednesday</td>\n",
       "    </tr>\n",
       "    <tr>\n",
       "      <td>7</td>\n",
       "      <td>F03E1C1F</td>\n",
       "      <td>Feeling This Way</td>\n",
       "      <td>Polina Griffith</td>\n",
       "      <td>dance</td>\n",
       "      <td>Moscow</td>\n",
       "      <td>20:47:49</td>\n",
       "      <td>Wednesday</td>\n",
       "    </tr>\n",
       "    <tr>\n",
       "      <td>8</td>\n",
       "      <td>8FA1D3BE</td>\n",
       "      <td>И вновь продолжается бой</td>\n",
       "      <td>NaN</td>\n",
       "      <td>ruspop</td>\n",
       "      <td>Moscow</td>\n",
       "      <td>09:17:40</td>\n",
       "      <td>Friday</td>\n",
       "    </tr>\n",
       "    <tr>\n",
       "      <td>9</td>\n",
       "      <td>E772D5C0</td>\n",
       "      <td>Pessimist</td>\n",
       "      <td>NaN</td>\n",
       "      <td>dance</td>\n",
       "      <td>Saint-Petersburg</td>\n",
       "      <td>21:20:49</td>\n",
       "      <td>Wednesday</td>\n",
       "    </tr>\n",
       "  </tbody>\n",
       "</table>\n",
       "</div>"
      ],
      "text/plain": [
       "     userID                        Track            artist   genre  \\\n",
       "0  FFB692EC            Kamigata To Boots  The Mass Missile    rock   \n",
       "1  55204538  Delayed Because of Accident  Andreas Rönnberg    rock   \n",
       "2    20EC38            Funiculì funiculà       Mario Lanza     pop   \n",
       "3  A3DD03C9        Dragons in the Sunset        Fire + Ice    folk   \n",
       "4  E2DC1FAE                  Soul People        Space Echo   dance   \n",
       "5  842029A1                    Преданная         IMPERVTOR  rusrap   \n",
       "6  4CB90AA5                         True      Roman Messer   dance   \n",
       "7  F03E1C1F             Feeling This Way   Polina Griffith   dance   \n",
       "8  8FA1D3BE     И вновь продолжается бой               NaN  ruspop   \n",
       "9  E772D5C0                    Pessimist               NaN   dance   \n",
       "\n",
       "             City        time        Day  \n",
       "0  Saint-Petersburg  20:28:33  Wednesday  \n",
       "1            Moscow  14:07:09     Friday  \n",
       "2  Saint-Petersburg  20:58:07  Wednesday  \n",
       "3  Saint-Petersburg  08:37:09     Monday  \n",
       "4            Moscow  08:34:34     Monday  \n",
       "5  Saint-Petersburg  13:09:41     Friday  \n",
       "6            Moscow  13:00:07  Wednesday  \n",
       "7            Moscow  20:47:49  Wednesday  \n",
       "8            Moscow  09:17:40     Friday  \n",
       "9  Saint-Petersburg  21:20:49  Wednesday  "
      ]
     },
     "execution_count": 3,
     "metadata": {},
     "output_type": "execute_result"
    }
   ],
   "source": [
    "# получение первых 10 строк таблицы df\n",
    "df.head(10)"
   ]
  },
  {
   "cell_type": "code",
   "execution_count": 4,
   "metadata": {},
   "outputs": [
    {
     "data": {
      "text/html": [
       "<div>\n",
       "<style scoped>\n",
       "    .dataframe tbody tr th:only-of-type {\n",
       "        vertical-align: middle;\n",
       "    }\n",
       "\n",
       "    .dataframe tbody tr th {\n",
       "        vertical-align: top;\n",
       "    }\n",
       "\n",
       "    .dataframe thead th {\n",
       "        text-align: right;\n",
       "    }\n",
       "</style>\n",
       "<table border=\"1\" class=\"dataframe\">\n",
       "  <thead>\n",
       "    <tr style=\"text-align: right;\">\n",
       "      <th></th>\n",
       "      <th>userID</th>\n",
       "      <th>Track</th>\n",
       "      <th>artist</th>\n",
       "      <th>genre</th>\n",
       "      <th>City</th>\n",
       "      <th>time</th>\n",
       "      <th>Day</th>\n",
       "    </tr>\n",
       "  </thead>\n",
       "  <tbody>\n",
       "    <tr>\n",
       "      <td>65074</td>\n",
       "      <td>729CBB09</td>\n",
       "      <td>My Name</td>\n",
       "      <td>McLean</td>\n",
       "      <td>rnb</td>\n",
       "      <td>Moscow</td>\n",
       "      <td>13:32:28</td>\n",
       "      <td>Wednesday</td>\n",
       "    </tr>\n",
       "    <tr>\n",
       "      <td>65075</td>\n",
       "      <td>D08D4A55</td>\n",
       "      <td>Maybe One Day (feat. Black Spade)</td>\n",
       "      <td>Blu &amp; Exile</td>\n",
       "      <td>hip</td>\n",
       "      <td>Saint-Petersburg</td>\n",
       "      <td>10:00:00</td>\n",
       "      <td>Monday</td>\n",
       "    </tr>\n",
       "    <tr>\n",
       "      <td>65076</td>\n",
       "      <td>C5E3A0D5</td>\n",
       "      <td>Jalopiina</td>\n",
       "      <td>NaN</td>\n",
       "      <td>industrial</td>\n",
       "      <td>Moscow</td>\n",
       "      <td>20:09:26</td>\n",
       "      <td>Friday</td>\n",
       "    </tr>\n",
       "    <tr>\n",
       "      <td>65077</td>\n",
       "      <td>321D0506</td>\n",
       "      <td>Freight Train</td>\n",
       "      <td>Chas McDevitt</td>\n",
       "      <td>rock</td>\n",
       "      <td>Moscow</td>\n",
       "      <td>21:43:59</td>\n",
       "      <td>Friday</td>\n",
       "    </tr>\n",
       "    <tr>\n",
       "      <td>65078</td>\n",
       "      <td>3A64EF84</td>\n",
       "      <td>Tell Me Sweet Little Lies</td>\n",
       "      <td>Monica Lopez</td>\n",
       "      <td>country</td>\n",
       "      <td>Moscow</td>\n",
       "      <td>21:59:46</td>\n",
       "      <td>Friday</td>\n",
       "    </tr>\n",
       "  </tbody>\n",
       "</table>\n",
       "</div>"
      ],
      "text/plain": [
       "         userID                              Track         artist       genre  \\\n",
       "65074  729CBB09                            My Name         McLean         rnb   \n",
       "65075  D08D4A55  Maybe One Day (feat. Black Spade)    Blu & Exile         hip   \n",
       "65076  C5E3A0D5                          Jalopiina            NaN  industrial   \n",
       "65077  321D0506                      Freight Train  Chas McDevitt        rock   \n",
       "65078  3A64EF84          Tell Me Sweet Little Lies   Monica Lopez     country   \n",
       "\n",
       "                 City        time        Day  \n",
       "65074            Moscow  13:32:28  Wednesday  \n",
       "65075  Saint-Petersburg  10:00:00     Monday  \n",
       "65076            Moscow  20:09:26     Friday  \n",
       "65077            Moscow  21:43:59     Friday  \n",
       "65078            Moscow  21:59:46     Friday  "
      ]
     },
     "execution_count": 4,
     "metadata": {},
     "output_type": "execute_result"
    }
   ],
   "source": [
    "# Комментарий ревьюера\n",
    "df.tail(5)"
   ]
  },
  {
   "cell_type": "markdown",
   "metadata": {
    "id": "EO73Kwic_Zct"
   },
   "source": [
    "Одной командой получить общую информацию о таблице:"
   ]
  },
  {
   "cell_type": "code",
   "execution_count": 5,
   "metadata": {
    "id": "DSf2kIb-_Zct"
   },
   "outputs": [
    {
     "name": "stdout",
     "output_type": "stream",
     "text": [
      "<class 'pandas.core.frame.DataFrame'>\n",
      "RangeIndex: 65079 entries, 0 to 65078\n",
      "Data columns (total 7 columns):\n",
      "  userID    65079 non-null object\n",
      "Track       63848 non-null object\n",
      "artist      57876 non-null object\n",
      "genre       63881 non-null object\n",
      "  City      65079 non-null object\n",
      "time        65079 non-null object\n",
      "Day         65079 non-null object\n",
      "dtypes: object(7)\n",
      "memory usage: 3.5+ MB\n"
     ]
    }
   ],
   "source": [
    "# получение общей информации о данных в таблице df\n",
    "df.info()"
   ]
  },
  {
   "cell_type": "markdown",
   "metadata": {
    "id": "TaQ2Iwbr_Zct"
   },
   "source": [
    "Итак, в таблице семь столбцов. Тип данных во всех столбцах — `object`.\n",
    "\n",
    "Согласно документации к данным:\n",
    "* `userID` — идентификатор пользователя;\n",
    "* `Track` — название трека;  \n",
    "* `artist` — имя исполнителя;\n",
    "* `genre` — название жанра;\n",
    "* `City` — город пользователя;\n",
    "* `time` — время начала прослушивания;\n",
    "* `Day` — день недели.\n",
    "\n",
    "В названиях колонок видны три нарушения стиля:\n",
    "1. Строчные буквы сочетаются с прописными.\n",
    "2. Встречаются пробелы.\n",
    "3. Не разделены подчеркиваниями части названия (пример: 'userID' вместо 'user_id')\n",
    "\n",
    "\n",
    "Количество значений в столбцах различается. Значит, в данных есть пропущенные значения.\n"
   ]
  },
  {
   "cell_type": "markdown",
   "metadata": {
    "id": "MCB6-dXG_Zct"
   },
   "source": [
    "**Выводы**\n",
    "\n",
    "В каждой строке таблицы — данные о прослушанном треке. Часть колонок описывает саму композицию: название, исполнителя и жанр. Остальные данные рассказывают о пользователе: из какого он города, когда он слушал музыку. \n",
    "\n",
    "Предварительно можно утверждать, что, данных достаточно для проверки гипотез. Но встречаются пропуски в данных, а в названиях колонок — расхождения с хорошим стилем.\n",
    "\n",
    "Чтобы двигаться дальше, нужно устранить проблемы в данных."
   ]
  },
  {
   "cell_type": "markdown",
   "metadata": {
    "id": "SjYF6Ub9_Zct"
   },
   "source": [
    "## Предобработка данных\n",
    "Исправьте стиль в заголовках столбцов, исключите пропуски. Затем проверьте данные на дубликаты."
   ]
  },
  {
   "cell_type": "markdown",
   "metadata": {
    "id": "dIaKXr29_Zct"
   },
   "source": [
    "### Стиль заголовков\n",
    "Выведите на экран названия столбцов:"
   ]
  },
  {
   "cell_type": "code",
   "execution_count": 6,
   "metadata": {
    "id": "oKOTdF_Q_Zct"
   },
   "outputs": [
    {
     "data": {
      "text/plain": [
       "Index(['  userID', 'Track', 'artist', 'genre', '  City  ', 'time', 'Day'], dtype='object')"
      ]
     },
     "execution_count": 6,
     "metadata": {},
     "output_type": "execute_result"
    }
   ],
   "source": [
    "# перечень названий столбцов таблицы df\n",
    "df.columns"
   ]
  },
  {
   "cell_type": "markdown",
   "metadata": {
    "id": "zj5534cv_Zct"
   },
   "source": [
    "Приведите названия в соответствие с хорошим стилем:\n",
    "* несколько слов в названии запишите в «змеином_регистре»,\n",
    "* все символы сделайте строчными,\n",
    "* устраните пробелы.\n",
    "\n",
    "Для этого переименуйте колонки так:\n",
    "* `'  userID'` → `'user_id'`;\n",
    "* `'Track'` → `'track'`;\n",
    "* `'  City  '` → `'city'`;\n",
    "* `'Day'` → `'day'`."
   ]
  },
  {
   "cell_type": "code",
   "execution_count": 7,
   "metadata": {
    "id": "ISlFqs5y_Zct"
   },
   "outputs": [],
   "source": [
    "# переименование столбцов\n",
    "df=df.rename(columns={'  userID':'user_id','Track':'track','  City  ':'city','Day':'day'})"
   ]
  },
  {
   "cell_type": "markdown",
   "metadata": {
    "id": "1dqbh00J_Zct"
   },
   "source": [
    "Проверьте результат. Для этого ещё раз выведите на экран названия столбцов:"
   ]
  },
  {
   "cell_type": "code",
   "execution_count": 8,
   "metadata": {
    "id": "d4NOAmTW_Zct"
   },
   "outputs": [
    {
     "data": {
      "text/plain": [
       "Index(['user_id', 'track', 'artist', 'genre', 'city', 'time', 'day'], dtype='object')"
      ]
     },
     "execution_count": 8,
     "metadata": {},
     "output_type": "execute_result"
    }
   ],
   "source": [
    "# проверка результатов - перечень названий столбцов\n",
    "df.columns"
   ]
  },
  {
   "cell_type": "markdown",
   "metadata": {
    "id": "5ISfbcfY_Zct"
   },
   "source": [
    "### Пропуски значений\n",
    "Сначала посчитайте, сколько в таблице пропущенных значений. Для этого достаточно двух методов `pandas`:"
   ]
  },
  {
   "cell_type": "code",
   "execution_count": 9,
   "metadata": {
    "id": "RskX29qr_Zct"
   },
   "outputs": [
    {
     "data": {
      "text/plain": [
       "user_id       0\n",
       "track      1231\n",
       "artist     7203\n",
       "genre      1198\n",
       "city          0\n",
       "time          0\n",
       "day           0\n",
       "dtype: int64"
      ]
     },
     "execution_count": 9,
     "metadata": {},
     "output_type": "execute_result"
    }
   ],
   "source": [
    "# подсчёт пропусков\n",
    "df.isna().sum()"
   ]
  },
  {
   "cell_type": "markdown",
   "metadata": {
    "id": "qubhgnlO_Zct"
   },
   "source": [
    "Не все пропущенные значения влияют на исследование. Так в `track` и `artist` пропуски не важны для вашей работы. Достаточно заменить их явными обозначениями.\n",
    "\n",
    "Но пропуски в `genre` могут помешать сравнению музыкальных вкусов в Москве и Санкт-Петербурге. На практике было бы правильно установить причину пропусков и восстановить данные. Такой возможности нет в учебном проекте. Придётся:\n",
    "* заполнить и эти пропуски явными обозначениями,\n",
    "* оценить, насколько они повредят расчётам. "
   ]
  },
  {
   "cell_type": "markdown",
   "metadata": {
    "id": "fSv2laPA_Zct"
   },
   "source": [
    "Замените пропущенные значения в столбцах `track`, `artist` и `genre` на строку `'unknown'`. Для этого создайте список `columns_to_replace`, переберите его элементы циклом `for` и для каждого столбца выполните замену пропущенных значений:"
   ]
  },
  {
   "cell_type": "code",
   "execution_count": 10,
   "metadata": {
    "id": "KplB5qWs_Zct"
   },
   "outputs": [],
   "source": [
    "# перебор названий столбцов в цикле и замена пропущенных значений на 'unknown'\n",
    "\n",
    "columns_to_replace = ['track','artist','genre']\n",
    "\n",
    "for _ in columns_to_replace:\n",
    "    df[_] = df[_].fillna('unknown')\n",
    "    "
   ]
  },
  {
   "cell_type": "markdown",
   "metadata": {
    "id": "Ilsm-MZo_Zct"
   },
   "source": [
    "Убедитесь, что в таблице не осталось пропусков. Для этого ещё раз посчитайте пропущенные значения."
   ]
  },
  {
   "cell_type": "code",
   "execution_count": 11,
   "metadata": {
    "id": "Tq4nYRX4_Zct"
   },
   "outputs": [
    {
     "data": {
      "text/plain": [
       "user_id    0\n",
       "track      0\n",
       "artist     0\n",
       "genre      0\n",
       "city       0\n",
       "time       0\n",
       "day        0\n",
       "dtype: int64"
      ]
     },
     "execution_count": 11,
     "metadata": {},
     "output_type": "execute_result"
    }
   ],
   "source": [
    "# подсчёт пропусков\n",
    "df.isna().sum()"
   ]
  },
  {
   "cell_type": "markdown",
   "metadata": {
    "id": "BWKRtBJ3_Zct"
   },
   "source": [
    "### Дубликаты\n",
    "Посчитайте явные дубликаты в таблице одной командой:"
   ]
  },
  {
   "cell_type": "code",
   "execution_count": 12,
   "metadata": {
    "id": "36eES_S0_Zct"
   },
   "outputs": [
    {
     "data": {
      "text/plain": [
       "3826"
      ]
     },
     "execution_count": 12,
     "metadata": {},
     "output_type": "execute_result"
    }
   ],
   "source": [
    "# подсчёт явных дубликатов\n",
    "df.duplicated().sum()"
   ]
  },
  {
   "cell_type": "markdown",
   "metadata": {
    "id": "Ot25h6XR_Zct"
   },
   "source": [
    "Вызовите специальный метод `pandas`, чтобы удалить явные дубликаты:"
   ]
  },
  {
   "cell_type": "code",
   "execution_count": 13,
   "metadata": {
    "id": "exFHq6tt_Zct"
   },
   "outputs": [],
   "source": [
    "# удаление явных дубликатов (с удалением старых индексов и формированием новых)\n",
    "df = df.drop_duplicates().reset_index()"
   ]
  },
  {
   "cell_type": "markdown",
   "metadata": {
    "id": "Im2YwBEG_Zct"
   },
   "source": [
    "Ещё раз посчитайте явные дубликаты в таблице — убедитесь, что полностью от них избавились:"
   ]
  },
  {
   "cell_type": "code",
   "execution_count": 14,
   "metadata": {
    "id": "-8PuNWQ0_Zct"
   },
   "outputs": [
    {
     "data": {
      "text/plain": [
       "0"
      ]
     },
     "execution_count": 14,
     "metadata": {},
     "output_type": "execute_result"
    }
   ],
   "source": [
    "# проверка на отсутствие дубликатов\n",
    "df.duplicated().sum()"
   ]
  },
  {
   "cell_type": "markdown",
   "metadata": {
    "id": "QlFBsxAr_Zct"
   },
   "source": [
    "Теперь избавьтесь от неявных дубликатов в колонке `genre`. Например, название одного и того же жанра может быть записано немного по-разному. Такие ошибки тоже повлияют на результат исследования."
   ]
  },
  {
   "cell_type": "markdown",
   "metadata": {
    "id": "eSjWwsOh_Zct"
   },
   "source": [
    "Выведите на экран список уникальных названий жанров, отсортированный в алфавитном порядке. Для этого:\n",
    "* извлеките нужный столбец датафрейма, \n",
    "* примените к нему метод сортировки,\n",
    "* для отсортированного столбца вызовите метод, который вернёт уникальные значения из столбца."
   ]
  },
  {
   "cell_type": "code",
   "execution_count": 15,
   "metadata": {
    "id": "JIUcqzZN_Zct"
   },
   "outputs": [
    {
     "data": {
      "text/plain": [
       "array(['acid', 'acoustic', 'action', 'adult', 'africa', 'afrikaans',\n",
       "       'alternative', 'alternativepunk', 'ambient', 'americana',\n",
       "       'animated', 'anime', 'arabesk', 'arabic', 'arena',\n",
       "       'argentinetango', 'art', 'audiobook', 'author', 'avantgarde',\n",
       "       'axé', 'baile', 'balkan', 'beats', 'bigroom', 'black', 'bluegrass',\n",
       "       'blues', 'bollywood', 'bossa', 'brazilian', 'breakbeat', 'breaks',\n",
       "       'broadway', 'cantautori', 'cantopop', 'canzone', 'caribbean',\n",
       "       'caucasian', 'celtic', 'chamber', 'chanson', 'children', 'chill',\n",
       "       'chinese', 'choral', 'christian', 'christmas', 'classical',\n",
       "       'classicmetal', 'club', 'colombian', 'comedy', 'conjazz',\n",
       "       'contemporary', 'country', 'cuban', 'dance', 'dancehall',\n",
       "       'dancepop', 'dark', 'death', 'deep', 'deutschrock', 'deutschspr',\n",
       "       'dirty', 'disco', 'dnb', 'documentary', 'downbeat', 'downtempo',\n",
       "       'drum', 'dub', 'dubstep', 'eastern', 'easy', 'electronic',\n",
       "       'electropop', 'emo', 'entehno', 'epicmetal', 'estrada', 'ethnic',\n",
       "       'eurofolk', 'european', 'experimental', 'extrememetal', 'fado',\n",
       "       'fairytail', 'film', 'fitness', 'flamenco', 'folk', 'folklore',\n",
       "       'folkmetal', 'folkrock', 'folktronica', 'forró', 'frankreich',\n",
       "       'französisch', 'french', 'funk', 'future', 'gangsta', 'garage',\n",
       "       'german', 'ghazal', 'gitarre', 'glitch', 'gospel', 'gothic',\n",
       "       'grime', 'grunge', 'gypsy', 'handsup', \"hard'n'heavy\", 'hardcore',\n",
       "       'hardstyle', 'hardtechno', 'hip', 'hip-hop', 'hiphop',\n",
       "       'historisch', 'holiday', 'hop', 'horror', 'house', 'hymn', 'idm',\n",
       "       'independent', 'indian', 'indie', 'indipop', 'industrial',\n",
       "       'inspirational', 'instrumental', 'international', 'irish', 'jam',\n",
       "       'japanese', 'jazz', 'jewish', 'jpop', 'jungle', 'k-pop',\n",
       "       'karadeniz', 'karaoke', 'kayokyoku', 'korean', 'laiko', 'latin',\n",
       "       'latino', 'leftfield', 'local', 'lounge', 'loungeelectronic',\n",
       "       'lovers', 'malaysian', 'mandopop', 'marschmusik', 'meditative',\n",
       "       'mediterranean', 'melodic', 'metal', 'metalcore', 'mexican',\n",
       "       'middle', 'minimal', 'miscellaneous', 'modern', 'mood', 'mpb',\n",
       "       'muslim', 'native', 'neoklassik', 'neue', 'new', 'newage',\n",
       "       'newwave', 'nu', 'nujazz', 'numetal', 'oceania', 'old', 'opera',\n",
       "       'orchestral', 'other', 'piano', 'podcasts', 'pop', 'popdance',\n",
       "       'popelectronic', 'popeurodance', 'poprussian', 'post',\n",
       "       'posthardcore', 'postrock', 'power', 'progmetal', 'progressive',\n",
       "       'psychedelic', 'punjabi', 'punk', 'quebecois', 'ragga', 'ram',\n",
       "       'rancheras', 'rap', 'rave', 'reggae', 'reggaeton', 'regional',\n",
       "       'relax', 'religious', 'retro', 'rhythm', 'rnb', 'rnr', 'rock',\n",
       "       'rockabilly', 'rockalternative', 'rockindie', 'rockother',\n",
       "       'romance', 'roots', 'ruspop', 'rusrap', 'rusrock', 'russian',\n",
       "       'salsa', 'samba', 'scenic', 'schlager', 'self', 'sertanejo',\n",
       "       'shanson', 'shoegazing', 'showtunes', 'singer', 'ska', 'skarock',\n",
       "       'slow', 'smooth', 'soft', 'soul', 'soulful', 'sound', 'soundtrack',\n",
       "       'southern', 'specialty', 'speech', 'spiritual', 'sport',\n",
       "       'stonerrock', 'surf', 'swing', 'synthpop', 'synthrock',\n",
       "       'sängerportrait', 'tango', 'tanzorchester', 'taraftar', 'tatar',\n",
       "       'tech', 'techno', 'teen', 'thrash', 'top', 'traditional',\n",
       "       'tradjazz', 'trance', 'tribal', 'trip', 'triphop', 'tropical',\n",
       "       'türk', 'türkçe', 'ukrrock', 'unknown', 'urban', 'uzbek',\n",
       "       'variété', 'vi', 'videogame', 'vocal', 'western', 'world',\n",
       "       'worldbeat', 'ïîï', 'электроника'], dtype=object)"
      ]
     },
     "execution_count": 15,
     "metadata": {},
     "output_type": "execute_result"
    }
   ],
   "source": [
    "# Просмотр уникальных названий жанров\n",
    "genre_column = df['genre'].sort_values()\n",
    "genre_column = genre_column.unique()\n",
    "genre_column"
   ]
  },
  {
   "cell_type": "markdown",
   "metadata": {
    "id": "qej-Qmuo_Zct"
   },
   "source": [
    "Просмотрите список и найдите неявные дубликаты названия `hiphop`. Это могут быть названия с ошибками или альтернативные названия того же жанра.\n",
    "\n",
    "Вы увидите следующие неявные дубликаты:\n",
    "* *hip*,\n",
    "* *hop*,\n",
    "* *hip-hop*.\n",
    "\n",
    "Чтобы очистить от них таблицу, напишите функцию `replace_wrong_genres()` с двумя параметрами: \n",
    "* `wrong_genres` — список дубликатов,\n",
    "* `correct_genre` — строка с правильным значением.\n",
    "\n",
    "Функция должна исправить колонку `genre` в таблице `df`: заменить каждое значение из списка `wrong_genres` на значение из `correct_genre`."
   ]
  },
  {
   "cell_type": "code",
   "execution_count": 16,
   "metadata": {
    "id": "ErNDkmns_Zct"
   },
   "outputs": [],
   "source": [
    "# Функция для замены неявных дубликатов\n",
    "def replace_wrong_genres(wrong_genres, correct_genre):\n",
    "    for _ in wrong_genres:\n",
    "        df['genre']=df['genre'].replace(_,correct_genre)"
   ]
  },
  {
   "cell_type": "markdown",
   "metadata": {
    "id": "aDoBJxbA_Zct"
   },
   "source": [
    "Вызовите `replace_wrong_genres()` и передайте ей такие аргументы, чтобы она устранила неявные дубликаты: вместо `hip`, `hop` и `hip-hop` в таблице должно быть значение `hiphop`:"
   ]
  },
  {
   "cell_type": "code",
   "execution_count": 17,
   "metadata": {
    "id": "YN5i2hpmSo09"
   },
   "outputs": [],
   "source": [
    "# Устранение неявных дубликатов\n",
    "replace_wrong_genres(['hip', 'hop', 'hip-hop'],'hiphop')"
   ]
  },
  {
   "cell_type": "markdown",
   "metadata": {
    "id": "zQKF16_RG15m"
   },
   "source": [
    "Проверьте, что заменили неправильные названия:\n",
    "\n",
    "*   hip\n",
    "*   hop\n",
    "*   hip-hop\n",
    "\n",
    "Выведите отсортированный список уникальных значений столбца `genre`:"
   ]
  },
  {
   "cell_type": "code",
   "execution_count": 18,
   "metadata": {
    "id": "wvixALnFG15m"
   },
   "outputs": [
    {
     "name": "stdout",
     "output_type": "stream",
     "text": [
      "['acid' 'acoustic' 'action' 'adult' 'africa' 'afrikaans' 'alternative'\n",
      " 'alternativepunk' 'ambient' 'americana' 'animated' 'anime' 'arabesk'\n",
      " 'arabic' 'arena' 'argentinetango' 'art' 'audiobook' 'author' 'avantgarde'\n",
      " 'axé' 'baile' 'balkan' 'beats' 'bigroom' 'black' 'bluegrass' 'blues'\n",
      " 'bollywood' 'bossa' 'brazilian' 'breakbeat' 'breaks' 'broadway'\n",
      " 'cantautori' 'cantopop' 'canzone' 'caribbean' 'caucasian' 'celtic'\n",
      " 'chamber' 'chanson' 'children' 'chill' 'chinese' 'choral' 'christian'\n",
      " 'christmas' 'classical' 'classicmetal' 'club' 'colombian' 'comedy'\n",
      " 'conjazz' 'contemporary' 'country' 'cuban' 'dance' 'dancehall' 'dancepop'\n",
      " 'dark' 'death' 'deep' 'deutschrock' 'deutschspr' 'dirty' 'disco' 'dnb'\n",
      " 'documentary' 'downbeat' 'downtempo' 'drum' 'dub' 'dubstep' 'eastern'\n",
      " 'easy' 'electronic' 'electropop' 'emo' 'entehno' 'epicmetal' 'estrada'\n",
      " 'ethnic' 'eurofolk' 'european' 'experimental' 'extrememetal' 'fado'\n",
      " 'fairytail' 'film' 'fitness' 'flamenco' 'folk' 'folklore' 'folkmetal'\n",
      " 'folkrock' 'folktronica' 'forró' 'frankreich' 'französisch' 'french'\n",
      " 'funk' 'future' 'gangsta' 'garage' 'german' 'ghazal' 'gitarre' 'glitch'\n",
      " 'gospel' 'gothic' 'grime' 'grunge' 'gypsy' 'handsup' \"hard'n'heavy\"\n",
      " 'hardcore' 'hardstyle' 'hardtechno' 'hiphop' 'historisch' 'holiday'\n",
      " 'horror' 'house' 'hymn' 'idm' 'independent' 'indian' 'indie' 'indipop'\n",
      " 'industrial' 'inspirational' 'instrumental' 'international' 'irish' 'jam'\n",
      " 'japanese' 'jazz' 'jewish' 'jpop' 'jungle' 'k-pop' 'karadeniz' 'karaoke'\n",
      " 'kayokyoku' 'korean' 'laiko' 'latin' 'latino' 'leftfield' 'local'\n",
      " 'lounge' 'loungeelectronic' 'lovers' 'malaysian' 'mandopop' 'marschmusik'\n",
      " 'meditative' 'mediterranean' 'melodic' 'metal' 'metalcore' 'mexican'\n",
      " 'middle' 'minimal' 'miscellaneous' 'modern' 'mood' 'mpb' 'muslim'\n",
      " 'native' 'neoklassik' 'neue' 'new' 'newage' 'newwave' 'nu' 'nujazz'\n",
      " 'numetal' 'oceania' 'old' 'opera' 'orchestral' 'other' 'piano' 'podcasts'\n",
      " 'pop' 'popdance' 'popelectronic' 'popeurodance' 'poprussian' 'post'\n",
      " 'posthardcore' 'postrock' 'power' 'progmetal' 'progressive' 'psychedelic'\n",
      " 'punjabi' 'punk' 'quebecois' 'ragga' 'ram' 'rancheras' 'rap' 'rave'\n",
      " 'reggae' 'reggaeton' 'regional' 'relax' 'religious' 'retro' 'rhythm'\n",
      " 'rnb' 'rnr' 'rock' 'rockabilly' 'rockalternative' 'rockindie' 'rockother'\n",
      " 'romance' 'roots' 'ruspop' 'rusrap' 'rusrock' 'russian' 'salsa' 'samba'\n",
      " 'scenic' 'schlager' 'self' 'sertanejo' 'shanson' 'shoegazing' 'showtunes'\n",
      " 'singer' 'ska' 'skarock' 'slow' 'smooth' 'soft' 'soul' 'soulful' 'sound'\n",
      " 'soundtrack' 'southern' 'specialty' 'speech' 'spiritual' 'sport'\n",
      " 'stonerrock' 'surf' 'swing' 'synthpop' 'synthrock' 'sängerportrait'\n",
      " 'tango' 'tanzorchester' 'taraftar' 'tatar' 'tech' 'techno' 'teen'\n",
      " 'thrash' 'top' 'traditional' 'tradjazz' 'trance' 'tribal' 'trip'\n",
      " 'triphop' 'tropical' 'türk' 'türkçe' 'ukrrock' 'unknown' 'urban' 'uzbek'\n",
      " 'variété' 'vi' 'videogame' 'vocal' 'western' 'world' 'worldbeat' 'ïîï'\n",
      " 'электроника']\n"
     ]
    }
   ],
   "source": [
    "# Проверка на неявные дубликаты\n",
    "genre_column = df['genre'].sort_values().unique()\n",
    "print(genre_column)"
   ]
  },
  {
   "cell_type": "markdown",
   "metadata": {
    "id": "jz6a9-7HQUDd"
   },
   "source": [
    "**Выводы**\n",
    "\n",
    "Предобработка обнаружила три проблемы в данных:\n",
    "\n",
    "- нарушения в стиле заголовков,\n",
    "- пропущенные значения,\n",
    "- дубликаты — явные и неявные.\n",
    "\n",
    "Вы исправили заголовки, чтобы упростить работу с таблицей. Без дубликатов исследование станет более точным.\n",
    "\n",
    "Пропущенные значения вы заменили на `'unknown'`. Ещё предстоит увидеть, не повредят ли исследованию пропуски в колонке `genre`.\n",
    "\n",
    "Теперь можно перейти к проверке гипотез. "
   ]
  },
  {
   "cell_type": "markdown",
   "metadata": {
    "id": "WttZHXH0SqKk"
   },
   "source": [
    "## Проверка гипотез"
   ]
  },
  {
   "cell_type": "markdown",
   "metadata": {
    "id": "Im936VVi_Zcu"
   },
   "source": [
    "### Сравнение поведения пользователей двух столиц"
   ]
  },
  {
   "cell_type": "markdown",
   "metadata": {
    "id": "nwt_MuaL_Zcu"
   },
   "source": [
    "Первая гипотеза утверждает, что пользователи по-разному слушают музыку в Москве и Санкт-Петербурге. Проверьте это предположение по данным о трёх днях недели — понедельнике, среде и пятнице. Для этого:\n",
    "\n",
    "* Разделите пользователей Москвы и Санкт-Петербурга\n",
    "* Сравните, сколько треков послушала каждая группа пользователей в понедельник, среду и пятницу.\n"
   ]
  },
  {
   "cell_type": "markdown",
   "metadata": {
    "id": "8Dw_YMmT_Zcu"
   },
   "source": [
    "Для тренировки сначала выполните каждый из расчётов по отдельности. \n",
    "\n",
    "Оцените активность пользователей в каждом городе. Сгруппируйте данные по городу и посчитайте прослушивания в каждой группе.\n",
    "\n"
   ]
  },
  {
   "cell_type": "code",
   "execution_count": 19,
   "metadata": {
    "id": "0_Qs96oh_Zcu"
   },
   "outputs": [
    {
     "name": "stdout",
     "output_type": "stream",
     "text": [
      "В Москве прослушиваний - 42741 доля unknown 1.9863830981961115 %\n",
      "В Петербурге прослушиваний - 18512 доля unknown 1.5017286084701815 %\n"
     ]
    }
   ],
   "source": [
    "# Подсчёт прослушиваний в каждом городе\n",
    "print('В Москве прослушиваний -', df[df['city']=='Moscow']['city'].count(), 'доля unknown', df[(df['city']=='Moscow') & (df['genre']=='unknown')]['city'].count()/df[df['city']=='Moscow']['city'].count()*100,'%')\n",
    "print('В Петербурге прослушиваний -', df[df['city']=='Saint-Petersburg']['city'].count(), 'доля unknown', df[(df['city']=='Saint-Petersburg') & (df['genre']=='unknown')]['city'].count()/df[df['city']=='Saint-Petersburg']['city'].count()*100,'%')"
   ]
  },
  {
   "cell_type": "markdown",
   "metadata": {
    "id": "dzli3w8o_Zcu"
   },
   "source": [
    "В Москве прослушиваний больше, чем в Петербурге. Из этого не следует, что московские пользователи чаще слушают музыку. Просто самих пользователей в Москве больше.\n",
    "\n",
    "Теперь сгруппируйте данные по дню недели и подсчитайте прослушивания в понедельник, среду и пятницу. Учтите, что в данных есть информация только о прослушиваниях только за эти дни.\n"
   ]
  },
  {
   "cell_type": "code",
   "execution_count": 20,
   "metadata": {
    "id": "uZMKjiJz_Zcu"
   },
   "outputs": [
    {
     "data": {
      "text/plain": [
       "day\n",
       "Friday       21840\n",
       "Monday       21354\n",
       "Wednesday    18059\n",
       "Name: city, dtype: int64"
      ]
     },
     "execution_count": 20,
     "metadata": {},
     "output_type": "execute_result"
    }
   ],
   "source": [
    "# Подсчёт прослушиваний в каждый из трёх дней\n",
    "df.groupby('day')['city'].count()"
   ]
  },
  {
   "cell_type": "markdown",
   "metadata": {
    "id": "cC2tNrlL_Zcu"
   },
   "source": [
    "В среднем пользователи из двух городов менее активны по средам. Но картина может измениться, если рассмотреть каждый город в отдельности."
   ]
  },
  {
   "cell_type": "markdown",
   "metadata": {
    "id": "POzs8bGa_Zcu"
   },
   "source": [
    "Вы видели, как работает группировка по городу и по дням недели. Теперь напишите функцию, которая объединит два эти расчёта.\n",
    "\n",
    "Создайте функцию `number_tracks()`, которая посчитает прослушивания для заданного дня и города. Ей понадобятся два параметра:\n",
    "* день недели,\n",
    "* название города.\n",
    "\n",
    "В функции сохраните в переменную строки исходной таблицы, у которых значение:\n",
    "  * в колонке `day` равно параметру `day`,\n",
    "  * в колонке `city` равно параметру `city`.\n",
    "\n",
    "Для этого примените последовательную фильтрацию с логической индексацией.\n",
    "\n",
    "Затем посчитайте значения в столбце `user_id` получившейся таблицы. Результат сохраните в новую переменную. Верните эту переменную из функции."
   ]
  },
  {
   "cell_type": "code",
   "execution_count": 21,
   "metadata": {
    "id": "Nz3GdQB1_Zcu"
   },
   "outputs": [],
   "source": [
    "# <создание функции number_tracks()>\n",
    "# Объявляется функция с двумя параметрами: day, city.\n",
    "def number_tracks(day,city):\n",
    "    track_list = df[(df['city']==city)&(df['day']==day)]\n",
    "# В переменной track_list сохраняются те строки таблицы df, для которых \n",
    "# значение в столбце 'day' равно параметру day и одновременно значение\n",
    "# в столбце 'city' равно параметру city (используйте последовательную фильтрацию\n",
    "# с помощью логической индексации).\n",
    "\n",
    "# В переменной track_list_count сохраняется число значений столбца 'user_id',\n",
    "# рассчитанное методом count() для таблицы track_list.\n",
    "# Функция возвращает число - значение track_list_count.\n",
    "    track_list_count = track_list['user_id'].count()\n",
    "    return track_list_count\n",
    "\n",
    "# Функция для подсчёта прослушиваний для конкретного города и дня.\n",
    "# С помощью последовательной фильтрации с логической индексацией она \n",
    "# сначала получит из исходной таблицы строки с нужным днём,\n",
    "# затем из результата отфильтрует строки с нужным городом,\n",
    "# методом count() посчитает количество значений в колонке user_id. \n",
    "# Это количество функция вернёт в качестве результата\n",
    "peterburg_data = ['Saint-Petersburg']\n",
    "moscow_data = ['Moscow']\n"
   ]
  },
  {
   "cell_type": "markdown",
   "metadata": {
    "id": "ytf7xFrFJQ2r"
   },
   "source": [
    "Вызовите `number_tracks()` шесть раз, меняя значение параметров — так, чтобы получить данные для каждого города в каждый из трёх дней."
   ]
  },
  {
   "cell_type": "code",
   "execution_count": 22,
   "metadata": {
    "id": "rJcRATNQ_Zcu"
   },
   "outputs": [],
   "source": [
    "# количество прослушиваний в Москве по понедельникам\n",
    "moscow_data.append(number_tracks('Monday',\"Moscow\"))"
   ]
  },
  {
   "cell_type": "code",
   "execution_count": 23,
   "metadata": {
    "id": "hq_ncZ5T_Zcu"
   },
   "outputs": [],
   "source": [
    "# количество прослушиваний в Санкт-Петербурге по понедельникамnumber_tracks('Monday',\"Moscow\")\n",
    "peterburg_data.append(number_tracks('Monday','Saint-Petersburg'))"
   ]
  },
  {
   "cell_type": "code",
   "execution_count": 24,
   "metadata": {
    "id": "_NTy2VPU_Zcu"
   },
   "outputs": [],
   "source": [
    "# количество прослушиваний в Москве по средам\n",
    "moscow_data.append(number_tracks('Wednesday',\"Moscow\"))"
   ]
  },
  {
   "cell_type": "code",
   "execution_count": 25,
   "metadata": {
    "id": "j2y3TAwo_Zcu"
   },
   "outputs": [],
   "source": [
    "# количество прослушиваний в Санкт-Петербурге по средам\n",
    "peterburg_data.append(number_tracks('Wednesday','Saint-Petersburg'))"
   ]
  },
  {
   "cell_type": "code",
   "execution_count": 26,
   "metadata": {
    "id": "vYDw5u_K_Zcu"
   },
   "outputs": [],
   "source": [
    "# количество прослушиваний в Москве по пятницам\n",
    "moscow_data.append(number_tracks('Friday',\"Moscow\"))"
   ]
  },
  {
   "cell_type": "code",
   "execution_count": 27,
   "metadata": {
    "id": "8_yzFtW3_Zcu"
   },
   "outputs": [],
   "source": [
    "# количество прослушиваний в Санкт-Петербурге по пятницам\n",
    "peterburg_data.append(number_tracks('Friday','Saint-Petersburg'))"
   ]
  },
  {
   "cell_type": "markdown",
   "metadata": {
    "id": "7QXffbO-_Zcu"
   },
   "source": [
    "Создайте c помощью конструктора `pd.DataFrame` таблицу, где\n",
    "* названия колонок — `['city', 'monday', 'wednesday', 'friday']`;\n",
    "* данные — результаты, которые вы получили с помощью `number_tracks`."
   ]
  },
  {
   "cell_type": "code",
   "execution_count": 28,
   "metadata": {
    "id": "APAcLpOr_Zcu"
   },
   "outputs": [
    {
     "data": {
      "text/html": [
       "<div>\n",
       "<style scoped>\n",
       "    .dataframe tbody tr th:only-of-type {\n",
       "        vertical-align: middle;\n",
       "    }\n",
       "\n",
       "    .dataframe tbody tr th {\n",
       "        vertical-align: top;\n",
       "    }\n",
       "\n",
       "    .dataframe thead th {\n",
       "        text-align: right;\n",
       "    }\n",
       "</style>\n",
       "<table border=\"1\" class=\"dataframe\">\n",
       "  <thead>\n",
       "    <tr style=\"text-align: right;\">\n",
       "      <th></th>\n",
       "      <th>city</th>\n",
       "      <th>monday</th>\n",
       "      <th>wednesday</th>\n",
       "      <th>friday</th>\n",
       "    </tr>\n",
       "  </thead>\n",
       "  <tbody>\n",
       "    <tr>\n",
       "      <td>0</td>\n",
       "      <td>Moscow</td>\n",
       "      <td>15740</td>\n",
       "      <td>11056</td>\n",
       "      <td>15945</td>\n",
       "    </tr>\n",
       "    <tr>\n",
       "      <td>1</td>\n",
       "      <td>Saint-Petersburg</td>\n",
       "      <td>5614</td>\n",
       "      <td>7003</td>\n",
       "      <td>5895</td>\n",
       "    </tr>\n",
       "  </tbody>\n",
       "</table>\n",
       "</div>"
      ],
      "text/plain": [
       "               city  monday  wednesday  friday\n",
       "0            Moscow   15740      11056   15945\n",
       "1  Saint-Petersburg    5614       7003    5895"
      ]
     },
     "execution_count": 28,
     "metadata": {},
     "output_type": "execute_result"
    }
   ],
   "source": [
    "# Таблица с результатами\n",
    "cities_in_days = [moscow_data,peterburg_data]\n",
    "columns = ['city', 'monday', 'wednesday', 'friday']\n",
    "listenings_by_days_cities=pd.DataFrame(columns = columns,data = cities_in_days)\n",
    "listenings_by_days_cities"
   ]
  },
  {
   "cell_type": "markdown",
   "metadata": {
    "id": "-EgPIHYu_Zcu"
   },
   "source": [
    "**Выводы**\n",
    "\n",
    "Данные показывают разницу поведения пользователей:\n",
    "\n",
    "- В Москве пик прослушиваний приходится на понедельник и пятницу, а в среду заметен спад.\n",
    "- В Петербурге, наоборот, больше слушают музыку по средам. Активность в понедельник и пятницу здесь почти в равной мере уступает среде.\n",
    "\n",
    "Значит, данные говорят в пользу первой гипотезы."
   ]
  },
  {
   "cell_type": "markdown",
   "metadata": {
    "id": "atZAxtq4_Zcu"
   },
   "source": [
    "### Музыка в начале и в конце недели"
   ]
  },
  {
   "cell_type": "markdown",
   "metadata": {
    "id": "eXrQqXFH_Zcu"
   },
   "source": [
    "Согласно второй гипотезе, утром в понедельник в Москве преобладают одни жанры, а в Петербурге — другие. Так же и вечером пятницы преобладают разные жанры — в зависимости от города."
   ]
  },
  {
   "cell_type": "markdown",
   "metadata": {
    "id": "S8UcW6Hw_Zcu"
   },
   "source": [
    "Сохраните таблицы с данными в две переменные:\n",
    "* по Москве — в `moscow_general`;\n",
    "* по Санкт-Петербургу — в `spb_general`."
   ]
  },
  {
   "cell_type": "code",
   "execution_count": 29,
   "metadata": {
    "id": "qeaFfM_P_Zcu"
   },
   "outputs": [
    {
     "data": {
      "text/html": [
       "<div>\n",
       "<style scoped>\n",
       "    .dataframe tbody tr th:only-of-type {\n",
       "        vertical-align: middle;\n",
       "    }\n",
       "\n",
       "    .dataframe tbody tr th {\n",
       "        vertical-align: top;\n",
       "    }\n",
       "\n",
       "    .dataframe thead th {\n",
       "        text-align: right;\n",
       "    }\n",
       "</style>\n",
       "<table border=\"1\" class=\"dataframe\">\n",
       "  <thead>\n",
       "    <tr style=\"text-align: right;\">\n",
       "      <th></th>\n",
       "      <th>index</th>\n",
       "      <th>user_id</th>\n",
       "      <th>track</th>\n",
       "      <th>artist</th>\n",
       "      <th>genre</th>\n",
       "      <th>city</th>\n",
       "      <th>time</th>\n",
       "      <th>day</th>\n",
       "    </tr>\n",
       "  </thead>\n",
       "  <tbody>\n",
       "    <tr>\n",
       "      <td>1</td>\n",
       "      <td>1</td>\n",
       "      <td>55204538</td>\n",
       "      <td>Delayed Because of Accident</td>\n",
       "      <td>Andreas Rönnberg</td>\n",
       "      <td>rock</td>\n",
       "      <td>Moscow</td>\n",
       "      <td>14:07:09</td>\n",
       "      <td>Friday</td>\n",
       "    </tr>\n",
       "    <tr>\n",
       "      <td>4</td>\n",
       "      <td>4</td>\n",
       "      <td>E2DC1FAE</td>\n",
       "      <td>Soul People</td>\n",
       "      <td>Space Echo</td>\n",
       "      <td>dance</td>\n",
       "      <td>Moscow</td>\n",
       "      <td>08:34:34</td>\n",
       "      <td>Monday</td>\n",
       "    </tr>\n",
       "    <tr>\n",
       "      <td>6</td>\n",
       "      <td>6</td>\n",
       "      <td>4CB90AA5</td>\n",
       "      <td>True</td>\n",
       "      <td>Roman Messer</td>\n",
       "      <td>dance</td>\n",
       "      <td>Moscow</td>\n",
       "      <td>13:00:07</td>\n",
       "      <td>Wednesday</td>\n",
       "    </tr>\n",
       "    <tr>\n",
       "      <td>7</td>\n",
       "      <td>7</td>\n",
       "      <td>F03E1C1F</td>\n",
       "      <td>Feeling This Way</td>\n",
       "      <td>Polina Griffith</td>\n",
       "      <td>dance</td>\n",
       "      <td>Moscow</td>\n",
       "      <td>20:47:49</td>\n",
       "      <td>Wednesday</td>\n",
       "    </tr>\n",
       "    <tr>\n",
       "      <td>8</td>\n",
       "      <td>8</td>\n",
       "      <td>8FA1D3BE</td>\n",
       "      <td>И вновь продолжается бой</td>\n",
       "      <td>unknown</td>\n",
       "      <td>ruspop</td>\n",
       "      <td>Moscow</td>\n",
       "      <td>09:17:40</td>\n",
       "      <td>Friday</td>\n",
       "    </tr>\n",
       "    <tr>\n",
       "      <td>...</td>\n",
       "      <td>...</td>\n",
       "      <td>...</td>\n",
       "      <td>...</td>\n",
       "      <td>...</td>\n",
       "      <td>...</td>\n",
       "      <td>...</td>\n",
       "      <td>...</td>\n",
       "      <td>...</td>\n",
       "    </tr>\n",
       "    <tr>\n",
       "      <td>61247</td>\n",
       "      <td>65073</td>\n",
       "      <td>83A474E7</td>\n",
       "      <td>I Worship Only What You Bleed</td>\n",
       "      <td>The Black Dahlia Murder</td>\n",
       "      <td>extrememetal</td>\n",
       "      <td>Moscow</td>\n",
       "      <td>21:07:12</td>\n",
       "      <td>Monday</td>\n",
       "    </tr>\n",
       "    <tr>\n",
       "      <td>61248</td>\n",
       "      <td>65074</td>\n",
       "      <td>729CBB09</td>\n",
       "      <td>My Name</td>\n",
       "      <td>McLean</td>\n",
       "      <td>rnb</td>\n",
       "      <td>Moscow</td>\n",
       "      <td>13:32:28</td>\n",
       "      <td>Wednesday</td>\n",
       "    </tr>\n",
       "    <tr>\n",
       "      <td>61250</td>\n",
       "      <td>65076</td>\n",
       "      <td>C5E3A0D5</td>\n",
       "      <td>Jalopiina</td>\n",
       "      <td>unknown</td>\n",
       "      <td>industrial</td>\n",
       "      <td>Moscow</td>\n",
       "      <td>20:09:26</td>\n",
       "      <td>Friday</td>\n",
       "    </tr>\n",
       "    <tr>\n",
       "      <td>61251</td>\n",
       "      <td>65077</td>\n",
       "      <td>321D0506</td>\n",
       "      <td>Freight Train</td>\n",
       "      <td>Chas McDevitt</td>\n",
       "      <td>rock</td>\n",
       "      <td>Moscow</td>\n",
       "      <td>21:43:59</td>\n",
       "      <td>Friday</td>\n",
       "    </tr>\n",
       "    <tr>\n",
       "      <td>61252</td>\n",
       "      <td>65078</td>\n",
       "      <td>3A64EF84</td>\n",
       "      <td>Tell Me Sweet Little Lies</td>\n",
       "      <td>Monica Lopez</td>\n",
       "      <td>country</td>\n",
       "      <td>Moscow</td>\n",
       "      <td>21:59:46</td>\n",
       "      <td>Friday</td>\n",
       "    </tr>\n",
       "  </tbody>\n",
       "</table>\n",
       "<p>42741 rows × 8 columns</p>\n",
       "</div>"
      ],
      "text/plain": [
       "       index   user_id                          track  \\\n",
       "1          1  55204538    Delayed Because of Accident   \n",
       "4          4  E2DC1FAE                    Soul People   \n",
       "6          6  4CB90AA5                           True   \n",
       "7          7  F03E1C1F               Feeling This Way   \n",
       "8          8  8FA1D3BE       И вновь продолжается бой   \n",
       "...      ...       ...                            ...   \n",
       "61247  65073  83A474E7  I Worship Only What You Bleed   \n",
       "61248  65074  729CBB09                        My Name   \n",
       "61250  65076  C5E3A0D5                      Jalopiina   \n",
       "61251  65077  321D0506                  Freight Train   \n",
       "61252  65078  3A64EF84      Tell Me Sweet Little Lies   \n",
       "\n",
       "                        artist         genre    city      time        day  \n",
       "1             Andreas Rönnberg          rock  Moscow  14:07:09     Friday  \n",
       "4                   Space Echo         dance  Moscow  08:34:34     Monday  \n",
       "6                 Roman Messer         dance  Moscow  13:00:07  Wednesday  \n",
       "7              Polina Griffith         dance  Moscow  20:47:49  Wednesday  \n",
       "8                      unknown        ruspop  Moscow  09:17:40     Friday  \n",
       "...                        ...           ...     ...       ...        ...  \n",
       "61247  The Black Dahlia Murder  extrememetal  Moscow  21:07:12     Monday  \n",
       "61248                   McLean           rnb  Moscow  13:32:28  Wednesday  \n",
       "61250                  unknown    industrial  Moscow  20:09:26     Friday  \n",
       "61251            Chas McDevitt          rock  Moscow  21:43:59     Friday  \n",
       "61252             Monica Lopez       country  Moscow  21:59:46     Friday  \n",
       "\n",
       "[42741 rows x 8 columns]"
      ]
     },
     "execution_count": 29,
     "metadata": {},
     "output_type": "execute_result"
    }
   ],
   "source": [
    "# получение таблицы moscow_general из тех строк таблицы df, \n",
    "# для которых значение в столбце 'city' равно 'Moscow'\n",
    "moscow_general = df[df['city']=='Moscow']\n",
    "moscow_general"
   ]
  },
  {
   "cell_type": "code",
   "execution_count": 30,
   "metadata": {
    "id": "ORaVRKto_Zcu"
   },
   "outputs": [
    {
     "data": {
      "text/html": [
       "<div>\n",
       "<style scoped>\n",
       "    .dataframe tbody tr th:only-of-type {\n",
       "        vertical-align: middle;\n",
       "    }\n",
       "\n",
       "    .dataframe tbody tr th {\n",
       "        vertical-align: top;\n",
       "    }\n",
       "\n",
       "    .dataframe thead th {\n",
       "        text-align: right;\n",
       "    }\n",
       "</style>\n",
       "<table border=\"1\" class=\"dataframe\">\n",
       "  <thead>\n",
       "    <tr style=\"text-align: right;\">\n",
       "      <th></th>\n",
       "      <th>index</th>\n",
       "      <th>user_id</th>\n",
       "      <th>track</th>\n",
       "      <th>artist</th>\n",
       "      <th>genre</th>\n",
       "      <th>city</th>\n",
       "      <th>time</th>\n",
       "      <th>day</th>\n",
       "    </tr>\n",
       "  </thead>\n",
       "  <tbody>\n",
       "    <tr>\n",
       "      <td>0</td>\n",
       "      <td>0</td>\n",
       "      <td>FFB692EC</td>\n",
       "      <td>Kamigata To Boots</td>\n",
       "      <td>The Mass Missile</td>\n",
       "      <td>rock</td>\n",
       "      <td>Saint-Petersburg</td>\n",
       "      <td>20:28:33</td>\n",
       "      <td>Wednesday</td>\n",
       "    </tr>\n",
       "    <tr>\n",
       "      <td>2</td>\n",
       "      <td>2</td>\n",
       "      <td>20EC38</td>\n",
       "      <td>Funiculì funiculà</td>\n",
       "      <td>Mario Lanza</td>\n",
       "      <td>pop</td>\n",
       "      <td>Saint-Petersburg</td>\n",
       "      <td>20:58:07</td>\n",
       "      <td>Wednesday</td>\n",
       "    </tr>\n",
       "    <tr>\n",
       "      <td>3</td>\n",
       "      <td>3</td>\n",
       "      <td>A3DD03C9</td>\n",
       "      <td>Dragons in the Sunset</td>\n",
       "      <td>Fire + Ice</td>\n",
       "      <td>folk</td>\n",
       "      <td>Saint-Petersburg</td>\n",
       "      <td>08:37:09</td>\n",
       "      <td>Monday</td>\n",
       "    </tr>\n",
       "    <tr>\n",
       "      <td>5</td>\n",
       "      <td>5</td>\n",
       "      <td>842029A1</td>\n",
       "      <td>Преданная</td>\n",
       "      <td>IMPERVTOR</td>\n",
       "      <td>rusrap</td>\n",
       "      <td>Saint-Petersburg</td>\n",
       "      <td>13:09:41</td>\n",
       "      <td>Friday</td>\n",
       "    </tr>\n",
       "    <tr>\n",
       "      <td>9</td>\n",
       "      <td>9</td>\n",
       "      <td>E772D5C0</td>\n",
       "      <td>Pessimist</td>\n",
       "      <td>unknown</td>\n",
       "      <td>dance</td>\n",
       "      <td>Saint-Petersburg</td>\n",
       "      <td>21:20:49</td>\n",
       "      <td>Wednesday</td>\n",
       "    </tr>\n",
       "    <tr>\n",
       "      <td>...</td>\n",
       "      <td>...</td>\n",
       "      <td>...</td>\n",
       "      <td>...</td>\n",
       "      <td>...</td>\n",
       "      <td>...</td>\n",
       "      <td>...</td>\n",
       "      <td>...</td>\n",
       "      <td>...</td>\n",
       "    </tr>\n",
       "    <tr>\n",
       "      <td>61239</td>\n",
       "      <td>65063</td>\n",
       "      <td>D94F810B</td>\n",
       "      <td>Theme from the Walking Dead</td>\n",
       "      <td>Proyecto Halloween</td>\n",
       "      <td>film</td>\n",
       "      <td>Saint-Petersburg</td>\n",
       "      <td>21:14:40</td>\n",
       "      <td>Monday</td>\n",
       "    </tr>\n",
       "    <tr>\n",
       "      <td>61240</td>\n",
       "      <td>65064</td>\n",
       "      <td>BC8EC5CF</td>\n",
       "      <td>Red Lips: Gta (Rover Rework)</td>\n",
       "      <td>Rover</td>\n",
       "      <td>electronic</td>\n",
       "      <td>Saint-Petersburg</td>\n",
       "      <td>21:06:50</td>\n",
       "      <td>Monday</td>\n",
       "    </tr>\n",
       "    <tr>\n",
       "      <td>61241</td>\n",
       "      <td>65065</td>\n",
       "      <td>29E04611</td>\n",
       "      <td>Bre Petrunko</td>\n",
       "      <td>Perunika Trio</td>\n",
       "      <td>world</td>\n",
       "      <td>Saint-Petersburg</td>\n",
       "      <td>13:56:00</td>\n",
       "      <td>Monday</td>\n",
       "    </tr>\n",
       "    <tr>\n",
       "      <td>61242</td>\n",
       "      <td>65066</td>\n",
       "      <td>1B91C621</td>\n",
       "      <td>(Hello) Cloud Mountain</td>\n",
       "      <td>sleepmakeswaves</td>\n",
       "      <td>postrock</td>\n",
       "      <td>Saint-Petersburg</td>\n",
       "      <td>09:22:13</td>\n",
       "      <td>Monday</td>\n",
       "    </tr>\n",
       "    <tr>\n",
       "      <td>61249</td>\n",
       "      <td>65075</td>\n",
       "      <td>D08D4A55</td>\n",
       "      <td>Maybe One Day (feat. Black Spade)</td>\n",
       "      <td>Blu &amp; Exile</td>\n",
       "      <td>hiphop</td>\n",
       "      <td>Saint-Petersburg</td>\n",
       "      <td>10:00:00</td>\n",
       "      <td>Monday</td>\n",
       "    </tr>\n",
       "  </tbody>\n",
       "</table>\n",
       "<p>18512 rows × 8 columns</p>\n",
       "</div>"
      ],
      "text/plain": [
       "       index   user_id                              track              artist  \\\n",
       "0          0  FFB692EC                  Kamigata To Boots    The Mass Missile   \n",
       "2          2    20EC38                  Funiculì funiculà         Mario Lanza   \n",
       "3          3  A3DD03C9              Dragons in the Sunset          Fire + Ice   \n",
       "5          5  842029A1                          Преданная           IMPERVTOR   \n",
       "9          9  E772D5C0                          Pessimist             unknown   \n",
       "...      ...       ...                                ...                 ...   \n",
       "61239  65063  D94F810B        Theme from the Walking Dead  Proyecto Halloween   \n",
       "61240  65064  BC8EC5CF       Red Lips: Gta (Rover Rework)               Rover   \n",
       "61241  65065  29E04611                       Bre Petrunko       Perunika Trio   \n",
       "61242  65066  1B91C621             (Hello) Cloud Mountain     sleepmakeswaves   \n",
       "61249  65075  D08D4A55  Maybe One Day (feat. Black Spade)         Blu & Exile   \n",
       "\n",
       "            genre              city      time        day  \n",
       "0            rock  Saint-Petersburg  20:28:33  Wednesday  \n",
       "2             pop  Saint-Petersburg  20:58:07  Wednesday  \n",
       "3            folk  Saint-Petersburg  08:37:09     Monday  \n",
       "5          rusrap  Saint-Petersburg  13:09:41     Friday  \n",
       "9           dance  Saint-Petersburg  21:20:49  Wednesday  \n",
       "...           ...               ...       ...        ...  \n",
       "61239        film  Saint-Petersburg  21:14:40     Monday  \n",
       "61240  electronic  Saint-Petersburg  21:06:50     Monday  \n",
       "61241       world  Saint-Petersburg  13:56:00     Monday  \n",
       "61242    postrock  Saint-Petersburg  09:22:13     Monday  \n",
       "61249      hiphop  Saint-Petersburg  10:00:00     Monday  \n",
       "\n",
       "[18512 rows x 8 columns]"
      ]
     },
     "execution_count": 30,
     "metadata": {},
     "output_type": "execute_result"
    }
   ],
   "source": [
    "# получение таблицы spb_general из тех строк таблицы df,\n",
    "# для которых значение в столбце 'city' равно 'Saint-Petersburg'\n",
    "spb_general = df[df['city']=='Saint-Petersburg']\n",
    "spb_general"
   ]
  },
  {
   "cell_type": "markdown",
   "metadata": {
    "id": "MEJV-CX2_Zcu"
   },
   "source": [
    "Создайте функцию `genre_weekday()` с четырьмя параметрами:\n",
    "* таблица (датафрейм) с данными,\n",
    "* день недели,\n",
    "* начальная временная метка в формате 'hh:mm', \n",
    "* последняя временная метка в формате 'hh:mm'.\n",
    "\n",
    "Функция должна вернуть информацию о топ-10 жанров тех треков, которые прослушивали в указанный день, в промежутке между двумя отметками времени."
   ]
  },
  {
   "cell_type": "code",
   "execution_count": 31,
   "metadata": {
    "id": "laJT9BYl_Zcu"
   },
   "outputs": [],
   "source": [
    "# Объявление функции genre_weekday() с параметрами table, day, time1, time2,\n",
    "def genre_weekday(table, day, time1, time2):\n",
    "# которая возвращает информацию о самых популярных жанрах в указанный день в\n",
    "# заданное время:\n",
    "# 1) в переменную genre_df сохраняются те строки переданного датафрейма table, для\n",
    "#    которых одновременно:\n",
    "#    - значение в столбце day равно значению аргумента day\n",
    "#    - значение в столбце time больше значения аргумента time1\n",
    "#    - значение в столбце time меньше значения аргумента time2\n",
    "\n",
    "    \n",
    "#    Используйте последовательную фильтрацию с помощью логической индексации.\n",
    "# последовательная это вроде вот:\n",
    "    table = table[table['day']==day]\n",
    "    table = table[table['time']>time1]\n",
    "    table = table[table['time']<time2]\n",
    "# 2) сгруппировать датафрейм genre_df по столбцу genre, взять один из его\n",
    "#    столбцов и посчитать методом count() количество записей для каждого из\n",
    "#    присутствующих жанров, получившийся Series записать в переменную\n",
    "#    genre_df_count\n",
    "    genre_df_count = table.groupby('genre')['day'].count()\n",
    "# 3) отсортировать genre_df_count по убыванию встречаемости и сохранить\n",
    "#    в переменную genre_df_sorted\n",
    "    genre_df_sorted = genre_df_count.sort_values(ascending = False)\n",
    "# 4) вернуть Series из 10 первых значений genre_df_sorted, это будут топ-10\n",
    "#    популярных жанров (в указанный день, в заданное время)\n",
    "    return genre_df_sorted[:10]\n"
   ]
  },
  {
   "cell_type": "markdown",
   "metadata": {
    "id": "la2s2_PF_Zcu"
   },
   "source": [
    "Cравните результаты функции `genre_weekday()` для Москвы и Санкт-Петербурга в понедельник утром (с 7:00 до 11:00) и в пятницу вечером (с 17:00 до 23:00):"
   ]
  },
  {
   "cell_type": "code",
   "execution_count": 32,
   "metadata": {
    "id": "yz7itPUQ_Zcu"
   },
   "outputs": [
    {
     "data": {
      "text/html": [
       "<div>\n",
       "<style scoped>\n",
       "    .dataframe tbody tr th:only-of-type {\n",
       "        vertical-align: middle;\n",
       "    }\n",
       "\n",
       "    .dataframe tbody tr th {\n",
       "        vertical-align: top;\n",
       "    }\n",
       "\n",
       "    .dataframe thead th {\n",
       "        text-align: right;\n",
       "    }\n",
       "</style>\n",
       "<table border=\"1\" class=\"dataframe\">\n",
       "  <thead>\n",
       "    <tr style=\"text-align: right;\">\n",
       "      <th></th>\n",
       "      <th>day</th>\n",
       "    </tr>\n",
       "    <tr>\n",
       "      <th>genre</th>\n",
       "      <th></th>\n",
       "    </tr>\n",
       "  </thead>\n",
       "  <tbody>\n",
       "    <tr>\n",
       "      <td>pop</td>\n",
       "      <td>781</td>\n",
       "    </tr>\n",
       "    <tr>\n",
       "      <td>dance</td>\n",
       "      <td>549</td>\n",
       "    </tr>\n",
       "    <tr>\n",
       "      <td>electronic</td>\n",
       "      <td>480</td>\n",
       "    </tr>\n",
       "    <tr>\n",
       "      <td>rock</td>\n",
       "      <td>474</td>\n",
       "    </tr>\n",
       "    <tr>\n",
       "      <td>hiphop</td>\n",
       "      <td>286</td>\n",
       "    </tr>\n",
       "    <tr>\n",
       "      <td>ruspop</td>\n",
       "      <td>186</td>\n",
       "    </tr>\n",
       "    <tr>\n",
       "      <td>world</td>\n",
       "      <td>181</td>\n",
       "    </tr>\n",
       "    <tr>\n",
       "      <td>rusrap</td>\n",
       "      <td>175</td>\n",
       "    </tr>\n",
       "    <tr>\n",
       "      <td>alternative</td>\n",
       "      <td>164</td>\n",
       "    </tr>\n",
       "    <tr>\n",
       "      <td>unknown</td>\n",
       "      <td>161</td>\n",
       "    </tr>\n",
       "  </tbody>\n",
       "</table>\n",
       "</div>"
      ],
      "text/plain": [
       "             day\n",
       "genre           \n",
       "pop          781\n",
       "dance        549\n",
       "electronic   480\n",
       "rock         474\n",
       "hiphop       286\n",
       "ruspop       186\n",
       "world        181\n",
       "rusrap       175\n",
       "alternative  164\n",
       "unknown      161"
      ]
     },
     "execution_count": 32,
     "metadata": {},
     "output_type": "execute_result"
    }
   ],
   "source": [
    "# вызов функции для утра понедельника в Москве (вместо df — таблица moscow_general)\n",
    "# объекты, хранящие время, являются строками и сравниваются как строки\n",
    "# пример вызова: genre_weekday(moscow_general, 'Monday', '07:00', '11:00')\n",
    "genre_and_count=genre_weekday(moscow_general, 'Monday', '07:00', '11:00')\n",
    "#Создаем таблицу сравнения Понедельник-Птяница/Москва-Петербург - 'table_day_city_count'\n",
    "table_day_city_count = pd.DataFrame()\n",
    "#Создаем/обуляем и наполняем таблицу с результатам подсчета \"за день по одному городу\" - \"one_day_city_count\"\n",
    "one_day_city_count = pd.DataFrame()\n",
    "one_day_city_count['Жанр']=genre_and_count.index\n",
    "one_day_city_count['Москва-Понедельник']=genre_and_count.values\n",
    "#Присоединяем результаты за день к общей таблице сравнения \n",
    "table_day_city_count = pd.concat([table_day_city_count, one_day_city_count],sort=False).reset_index(drop = True)\n",
    "# Выводим результаты за день.\n",
    "genre_and_count = pd.DataFrame(genre_and_count)\n",
    "genre_and_count"
   ]
  },
  {
   "cell_type": "code",
   "execution_count": 33,
   "metadata": {
    "id": "kwUcHPdy_Zcu"
   },
   "outputs": [
    {
     "data": {
      "text/html": [
       "<div>\n",
       "<style scoped>\n",
       "    .dataframe tbody tr th:only-of-type {\n",
       "        vertical-align: middle;\n",
       "    }\n",
       "\n",
       "    .dataframe tbody tr th {\n",
       "        vertical-align: top;\n",
       "    }\n",
       "\n",
       "    .dataframe thead th {\n",
       "        text-align: right;\n",
       "    }\n",
       "</style>\n",
       "<table border=\"1\" class=\"dataframe\">\n",
       "  <thead>\n",
       "    <tr style=\"text-align: right;\">\n",
       "      <th></th>\n",
       "      <th>day</th>\n",
       "    </tr>\n",
       "    <tr>\n",
       "      <th>genre</th>\n",
       "      <th></th>\n",
       "    </tr>\n",
       "  </thead>\n",
       "  <tbody>\n",
       "    <tr>\n",
       "      <td>pop</td>\n",
       "      <td>218</td>\n",
       "    </tr>\n",
       "    <tr>\n",
       "      <td>dance</td>\n",
       "      <td>182</td>\n",
       "    </tr>\n",
       "    <tr>\n",
       "      <td>rock</td>\n",
       "      <td>162</td>\n",
       "    </tr>\n",
       "    <tr>\n",
       "      <td>electronic</td>\n",
       "      <td>147</td>\n",
       "    </tr>\n",
       "    <tr>\n",
       "      <td>hiphop</td>\n",
       "      <td>80</td>\n",
       "    </tr>\n",
       "    <tr>\n",
       "      <td>ruspop</td>\n",
       "      <td>64</td>\n",
       "    </tr>\n",
       "    <tr>\n",
       "      <td>alternative</td>\n",
       "      <td>58</td>\n",
       "    </tr>\n",
       "    <tr>\n",
       "      <td>rusrap</td>\n",
       "      <td>55</td>\n",
       "    </tr>\n",
       "    <tr>\n",
       "      <td>jazz</td>\n",
       "      <td>44</td>\n",
       "    </tr>\n",
       "    <tr>\n",
       "      <td>classical</td>\n",
       "      <td>40</td>\n",
       "    </tr>\n",
       "  </tbody>\n",
       "</table>\n",
       "</div>"
      ],
      "text/plain": [
       "             day\n",
       "genre           \n",
       "pop          218\n",
       "dance        182\n",
       "rock         162\n",
       "electronic   147\n",
       "hiphop        80\n",
       "ruspop        64\n",
       "alternative   58\n",
       "rusrap        55\n",
       "jazz          44\n",
       "classical     40"
      ]
     },
     "execution_count": 33,
     "metadata": {},
     "output_type": "execute_result"
    }
   ],
   "source": [
    "# вызов функции для утра понедельника в Петербурге (вместо df — таблица spb_general)\n",
    "genre_and_count=genre_weekday(spb_general, 'Monday', '07:00', '11:00')\n",
    "#Создаем/обуляем и наполняем таблицу с результатам подсчета \"за день по одному городу\" - \"one_day_city_count\"\n",
    "one_day_city_count = pd.DataFrame()\n",
    "one_day_city_count['Жанр']=genre_and_count.index\n",
    "one_day_city_count['Петербург-Понедельник']=genre_and_count.values\n",
    "#Присоединяем результаты за день к общей таблице сравнения \n",
    "table_day_city_count = pd.concat([table_day_city_count, one_day_city_count],sort=False).reset_index(drop = True)\n",
    "# Выводим результаты за день.\n",
    "genre_and_count = pd.DataFrame(genre_and_count)\n",
    "genre_and_count"
   ]
  },
  {
   "cell_type": "code",
   "execution_count": 34,
   "metadata": {
    "id": "EzXVRE1o_Zcu",
    "scrolled": true
   },
   "outputs": [
    {
     "data": {
      "text/html": [
       "<div>\n",
       "<style scoped>\n",
       "    .dataframe tbody tr th:only-of-type {\n",
       "        vertical-align: middle;\n",
       "    }\n",
       "\n",
       "    .dataframe tbody tr th {\n",
       "        vertical-align: top;\n",
       "    }\n",
       "\n",
       "    .dataframe thead th {\n",
       "        text-align: right;\n",
       "    }\n",
       "</style>\n",
       "<table border=\"1\" class=\"dataframe\">\n",
       "  <thead>\n",
       "    <tr style=\"text-align: right;\">\n",
       "      <th></th>\n",
       "      <th>day</th>\n",
       "    </tr>\n",
       "    <tr>\n",
       "      <th>genre</th>\n",
       "      <th></th>\n",
       "    </tr>\n",
       "  </thead>\n",
       "  <tbody>\n",
       "    <tr>\n",
       "      <td>pop</td>\n",
       "      <td>713</td>\n",
       "    </tr>\n",
       "    <tr>\n",
       "      <td>rock</td>\n",
       "      <td>517</td>\n",
       "    </tr>\n",
       "    <tr>\n",
       "      <td>dance</td>\n",
       "      <td>495</td>\n",
       "    </tr>\n",
       "    <tr>\n",
       "      <td>electronic</td>\n",
       "      <td>482</td>\n",
       "    </tr>\n",
       "    <tr>\n",
       "      <td>hiphop</td>\n",
       "      <td>273</td>\n",
       "    </tr>\n",
       "    <tr>\n",
       "      <td>world</td>\n",
       "      <td>208</td>\n",
       "    </tr>\n",
       "    <tr>\n",
       "      <td>ruspop</td>\n",
       "      <td>170</td>\n",
       "    </tr>\n",
       "    <tr>\n",
       "      <td>alternative</td>\n",
       "      <td>163</td>\n",
       "    </tr>\n",
       "    <tr>\n",
       "      <td>classical</td>\n",
       "      <td>163</td>\n",
       "    </tr>\n",
       "    <tr>\n",
       "      <td>rusrap</td>\n",
       "      <td>142</td>\n",
       "    </tr>\n",
       "  </tbody>\n",
       "</table>\n",
       "</div>"
      ],
      "text/plain": [
       "             day\n",
       "genre           \n",
       "pop          713\n",
       "rock         517\n",
       "dance        495\n",
       "electronic   482\n",
       "hiphop       273\n",
       "world        208\n",
       "ruspop       170\n",
       "alternative  163\n",
       "classical    163\n",
       "rusrap       142"
      ]
     },
     "execution_count": 34,
     "metadata": {},
     "output_type": "execute_result"
    }
   ],
   "source": [
    "# вызов функции для вечера пятницы в Москве\n",
    "genre_and_count=genre_weekday(moscow_general, 'Friday', '17:00', '23:00') \n",
    "#проверил, с 17:00 до 20:00 значений в исходных данных ни по Москве ни по Санкт-Петербургу нет.\n",
    "\n",
    "#Создаем/обуляем и наполняем таблицу с результатам подсчета \"за день по одному городу\" - \"one_day_city_count\"\n",
    "one_day_city_count = pd.DataFrame()\n",
    "one_day_city_count['Жанр']=genre_and_count.index\n",
    "one_day_city_count['Москва-Пятница']=genre_and_count.values\n",
    "#Присоединяем результаты за день к общей таблице сравнения \n",
    "table_day_city_count = pd.concat([table_day_city_count, one_day_city_count],sort=False).reset_index(drop = True)\n",
    "# Выводим результаты за день.\n",
    "genre_and_count = pd.DataFrame(genre_and_count)\n",
    "genre_and_count"
   ]
  },
  {
   "cell_type": "code",
   "execution_count": 35,
   "metadata": {
    "id": "JZaEKu5v_Zcu"
   },
   "outputs": [
    {
     "data": {
      "text/html": [
       "<div>\n",
       "<style scoped>\n",
       "    .dataframe tbody tr th:only-of-type {\n",
       "        vertical-align: middle;\n",
       "    }\n",
       "\n",
       "    .dataframe tbody tr th {\n",
       "        vertical-align: top;\n",
       "    }\n",
       "\n",
       "    .dataframe thead th {\n",
       "        text-align: right;\n",
       "    }\n",
       "</style>\n",
       "<table border=\"1\" class=\"dataframe\">\n",
       "  <thead>\n",
       "    <tr style=\"text-align: right;\">\n",
       "      <th></th>\n",
       "      <th>day</th>\n",
       "    </tr>\n",
       "    <tr>\n",
       "      <th>genre</th>\n",
       "      <th></th>\n",
       "    </tr>\n",
       "  </thead>\n",
       "  <tbody>\n",
       "    <tr>\n",
       "      <td>pop</td>\n",
       "      <td>256</td>\n",
       "    </tr>\n",
       "    <tr>\n",
       "      <td>rock</td>\n",
       "      <td>216</td>\n",
       "    </tr>\n",
       "    <tr>\n",
       "      <td>electronic</td>\n",
       "      <td>216</td>\n",
       "    </tr>\n",
       "    <tr>\n",
       "      <td>dance</td>\n",
       "      <td>210</td>\n",
       "    </tr>\n",
       "    <tr>\n",
       "      <td>hiphop</td>\n",
       "      <td>97</td>\n",
       "    </tr>\n",
       "    <tr>\n",
       "      <td>alternative</td>\n",
       "      <td>63</td>\n",
       "    </tr>\n",
       "    <tr>\n",
       "      <td>jazz</td>\n",
       "      <td>61</td>\n",
       "    </tr>\n",
       "    <tr>\n",
       "      <td>classical</td>\n",
       "      <td>60</td>\n",
       "    </tr>\n",
       "    <tr>\n",
       "      <td>rusrap</td>\n",
       "      <td>59</td>\n",
       "    </tr>\n",
       "    <tr>\n",
       "      <td>world</td>\n",
       "      <td>54</td>\n",
       "    </tr>\n",
       "  </tbody>\n",
       "</table>\n",
       "</div>"
      ],
      "text/plain": [
       "             day\n",
       "genre           \n",
       "pop          256\n",
       "rock         216\n",
       "electronic   216\n",
       "dance        210\n",
       "hiphop        97\n",
       "alternative   63\n",
       "jazz          61\n",
       "classical     60\n",
       "rusrap        59\n",
       "world         54"
      ]
     },
     "metadata": {},
     "output_type": "display_data"
    },
    {
     "data": {
      "text/html": [
       "<div>\n",
       "<style scoped>\n",
       "    .dataframe tbody tr th:only-of-type {\n",
       "        vertical-align: middle;\n",
       "    }\n",
       "\n",
       "    .dataframe tbody tr th {\n",
       "        vertical-align: top;\n",
       "    }\n",
       "\n",
       "    .dataframe thead th {\n",
       "        text-align: right;\n",
       "    }\n",
       "</style>\n",
       "<table border=\"1\" class=\"dataframe\">\n",
       "  <thead>\n",
       "    <tr style=\"text-align: right;\">\n",
       "      <th></th>\n",
       "      <th>Москва-Понедельник</th>\n",
       "      <th>Петербург-Понедельник</th>\n",
       "      <th>Москва-Пятница</th>\n",
       "      <th>Петербург-Пятница</th>\n",
       "    </tr>\n",
       "    <tr>\n",
       "      <th>Жанр</th>\n",
       "      <th></th>\n",
       "      <th></th>\n",
       "      <th></th>\n",
       "      <th></th>\n",
       "    </tr>\n",
       "  </thead>\n",
       "  <tbody>\n",
       "    <tr>\n",
       "      <td>alternative</td>\n",
       "      <td>164.0</td>\n",
       "      <td>58.0</td>\n",
       "      <td>163.0</td>\n",
       "      <td>63.0</td>\n",
       "    </tr>\n",
       "    <tr>\n",
       "      <td>classical</td>\n",
       "      <td>0.0</td>\n",
       "      <td>40.0</td>\n",
       "      <td>163.0</td>\n",
       "      <td>60.0</td>\n",
       "    </tr>\n",
       "    <tr>\n",
       "      <td>dance</td>\n",
       "      <td>549.0</td>\n",
       "      <td>182.0</td>\n",
       "      <td>495.0</td>\n",
       "      <td>210.0</td>\n",
       "    </tr>\n",
       "    <tr>\n",
       "      <td>electronic</td>\n",
       "      <td>480.0</td>\n",
       "      <td>147.0</td>\n",
       "      <td>482.0</td>\n",
       "      <td>216.0</td>\n",
       "    </tr>\n",
       "    <tr>\n",
       "      <td>hiphop</td>\n",
       "      <td>286.0</td>\n",
       "      <td>80.0</td>\n",
       "      <td>273.0</td>\n",
       "      <td>97.0</td>\n",
       "    </tr>\n",
       "    <tr>\n",
       "      <td>jazz</td>\n",
       "      <td>0.0</td>\n",
       "      <td>44.0</td>\n",
       "      <td>0.0</td>\n",
       "      <td>61.0</td>\n",
       "    </tr>\n",
       "    <tr>\n",
       "      <td>pop</td>\n",
       "      <td>781.0</td>\n",
       "      <td>218.0</td>\n",
       "      <td>713.0</td>\n",
       "      <td>256.0</td>\n",
       "    </tr>\n",
       "    <tr>\n",
       "      <td>rock</td>\n",
       "      <td>474.0</td>\n",
       "      <td>162.0</td>\n",
       "      <td>517.0</td>\n",
       "      <td>216.0</td>\n",
       "    </tr>\n",
       "    <tr>\n",
       "      <td>ruspop</td>\n",
       "      <td>186.0</td>\n",
       "      <td>64.0</td>\n",
       "      <td>170.0</td>\n",
       "      <td>0.0</td>\n",
       "    </tr>\n",
       "    <tr>\n",
       "      <td>rusrap</td>\n",
       "      <td>175.0</td>\n",
       "      <td>55.0</td>\n",
       "      <td>142.0</td>\n",
       "      <td>59.0</td>\n",
       "    </tr>\n",
       "    <tr>\n",
       "      <td>unknown</td>\n",
       "      <td>161.0</td>\n",
       "      <td>0.0</td>\n",
       "      <td>0.0</td>\n",
       "      <td>0.0</td>\n",
       "    </tr>\n",
       "    <tr>\n",
       "      <td>world</td>\n",
       "      <td>181.0</td>\n",
       "      <td>0.0</td>\n",
       "      <td>208.0</td>\n",
       "      <td>54.0</td>\n",
       "    </tr>\n",
       "  </tbody>\n",
       "</table>\n",
       "</div>"
      ],
      "text/plain": [
       "             Москва-Понедельник  Петербург-Понедельник  Москва-Пятница  \\\n",
       "Жанр                                                                     \n",
       "alternative               164.0                   58.0           163.0   \n",
       "classical                   0.0                   40.0           163.0   \n",
       "dance                     549.0                  182.0           495.0   \n",
       "electronic                480.0                  147.0           482.0   \n",
       "hiphop                    286.0                   80.0           273.0   \n",
       "jazz                        0.0                   44.0             0.0   \n",
       "pop                       781.0                  218.0           713.0   \n",
       "rock                      474.0                  162.0           517.0   \n",
       "ruspop                    186.0                   64.0           170.0   \n",
       "rusrap                    175.0                   55.0           142.0   \n",
       "unknown                   161.0                    0.0             0.0   \n",
       "world                     181.0                    0.0           208.0   \n",
       "\n",
       "             Петербург-Пятница  \n",
       "Жанр                            \n",
       "alternative               63.0  \n",
       "classical                 60.0  \n",
       "dance                    210.0  \n",
       "electronic               216.0  \n",
       "hiphop                    97.0  \n",
       "jazz                      61.0  \n",
       "pop                      256.0  \n",
       "rock                     216.0  \n",
       "ruspop                     0.0  \n",
       "rusrap                    59.0  \n",
       "unknown                    0.0  \n",
       "world                     54.0  "
      ]
     },
     "execution_count": 35,
     "metadata": {},
     "output_type": "execute_result"
    }
   ],
   "source": [
    "# вызов функции для вечера пятницы в Петербурге\n",
    "genre_and_count=genre_weekday(spb_general, 'Friday', '17:00', '23:00')\n",
    "#Создаем/обуляем и наполняем таблицу с результатам подсчета \"за день по одному городу\" - \"one_day_city_count\"\n",
    "one_day_city_count = pd.DataFrame()\n",
    "one_day_city_count['Жанр']=genre_and_count.index\n",
    "one_day_city_count['Петербург-Пятница']=genre_and_count.values\n",
    "#Присоединяем результаты за день к общей таблице сравнения \n",
    "table_day_city_count = pd.concat([table_day_city_count, one_day_city_count],sort=False).reset_index(drop = True)\n",
    "# Выводим результаты за день.\n",
    "genre_and_count = pd.DataFrame(genre_and_count)\n",
    "display(genre_and_count)\n",
    "#Выводим общую таблицу\n",
    "table_day_city_count.groupby('Жанр').sum()"
   ]
  },
  {
   "cell_type": "markdown",
   "metadata": {
    "id": "wrCe4MNX_Zcu"
   },
   "source": [
    "**Выводы**\n",
    "\n",
    "Если сравнить топ-10 жанров в понедельник утром, можно сделать такие выводы:\n",
    "\n",
    "1. В Москве и Петербурге слушают похожую музыку. Единственное отличие — только в московский рейтинг вошел жанр “world”, и только в петербургский рейтинг вошли жанры — джаз, классика.\n",
    "\n",
    "2. В Москве пропущенных значений оказалось так много, что значение `'unknown'` заняло десятое место среди самых популярных жанров. Значит, пропущенные значения занимают существенную долю в данных и угрожают достоверности исследования.\n",
    "\n",
    "Вечер пятницы не меняет эту картину. Некоторые жанры поднимаются немного выше, другие спускаются, но в целом топ-10 остаётся тем же самым.\n",
    "\n",
    "Таким образом, вторая гипотеза подтвердилась лишь частично:\n",
    "* Пользователи слушают похожую музыку в начале недели и в конце.\n",
    "* Разница между Москвой и Петербургом не слишком выражена. В Москве чаще слушают русскую популярную музыку, в Петербурге — джаз.\n",
    "\n",
    "Однако пропуски в данных ставят под сомнение этот результат. В Москве их так много, что рейтинг топ-10 мог бы выглядеть иначе, если бы не утерянные  данные о жанрах."
   ]
  },
  {
   "cell_type": "markdown",
   "metadata": {
    "id": "JolODAqr_Zcu"
   },
   "source": [
    "### Жанровые предпочтения в Москве и Петербурге\n",
    "\n",
    "Гипотеза: Петербург — столица рэпа, музыку этого жанра там слушают чаще, чем в Москве.  А Москва — город контрастов, в котором, тем не менее, преобладает поп-музыка."
   ]
  },
  {
   "cell_type": "markdown",
   "metadata": {
    "id": "DlegSvaT_Zcu"
   },
   "source": [
    "Сгруппируйте таблицу `moscow_general` по жанру и посчитайте прослушивания треков каждого жанра методом `count()`. Затем отсортируйте результат в порядке убывания и сохраните его в таблице `moscow_genres`."
   ]
  },
  {
   "cell_type": "code",
   "execution_count": 36,
   "metadata": {
    "id": "r19lIPke_Zcu"
   },
   "outputs": [],
   "source": [
    "# одной строкой: группировка таблицы moscow_general по столбцу 'genre', \n",
    "# подсчёт числа значений 'genre' в этой группировке методом count(), \n",
    "# сортировка получившегося Series в порядке убывания и сохранение в moscow_genres\n",
    "moscow_genres = moscow_general.groupby('genre')['genre'].count().sort_values(ascending=False)\n",
    "\n",
    "# создаем таблицу для сравнения количества/интенсивности прослушивания по городам\n",
    "\n",
    "one_city_count = pd.DataFrame()\n",
    "one_city_count['Жанр МСК']=moscow_genres.head(10).index\n",
    "one_city_count['Кол-во МСК']=moscow_genres.head(10).values\n",
    "#считаем долю прослушиваний всего от количества прослушиваний по городу:\n",
    "one_city_count['Доля по МСК']= list(map(lambda x: '%2.2f%%' % (x / moscow_genres.sum()*100),one_city_count['Кол-во МСК']))"
   ]
  },
  {
   "cell_type": "markdown",
   "metadata": {
    "id": "6kMuomxTiIr8"
   },
   "source": [
    "Выведите на экран первые десять строк `moscow_genres`:"
   ]
  },
  {
   "cell_type": "code",
   "execution_count": 37,
   "metadata": {
    "id": "WhCSooF8_Zcv"
   },
   "outputs": [
    {
     "data": {
      "text/plain": [
       "genre\n",
       "pop            5892\n",
       "dance          4435\n",
       "rock           3965\n",
       "electronic     3786\n",
       "hiphop         2096\n",
       "classical      1616\n",
       "world          1432\n",
       "alternative    1379\n",
       "ruspop         1372\n",
       "rusrap         1161\n",
       "Name: genre, dtype: int64"
      ]
     },
     "metadata": {},
     "output_type": "display_data"
    },
    {
     "data": {
      "text/plain": [
       "'Доля первых трех по популярности жанров - 33.43861865655928 %'"
      ]
     },
     "metadata": {},
     "output_type": "display_data"
    }
   ],
   "source": [
    "# просмотр первых 10 строк moscow_genres\n",
    "display(moscow_genres.head(10))\n",
    "# немного контрольной статистики\n",
    "display('Доля первых трех по популярности жанров - ' + str(moscow_genres.head(3).sum()/moscow_genres.sum()*100)+' %')"
   ]
  },
  {
   "cell_type": "markdown",
   "metadata": {
    "id": "cnPG2vnN_Zcv"
   },
   "source": [
    "Теперь повторите то же и для Петербурга.\n",
    "\n",
    "Сгруппируйте таблицу `spb_general` по жанру. Посчитайте прослушивания треков каждого жанра. Результат отсортируйте в порядке убывания и сохраните в таблице `spb_genres`:\n"
   ]
  },
  {
   "cell_type": "code",
   "execution_count": 38,
   "metadata": {
    "id": "gluLIpE7_Zcv"
   },
   "outputs": [],
   "source": [
    "# одной строкой: группировка таблицы spb_general по столбцу 'genre', \n",
    "# подсчёт числа значений 'genre' в этой группировке методом count(), \n",
    "# сортировка получившегося Series в порядке убывания и сохранение в spb_genres\n",
    "spb_genres = spb_general.groupby('genre')['genre'].count().sort_values(ascending=False)\n",
    "\n",
    "#Продолжаем наполнять таблицу для сравнения статистики по городам\n",
    "one_city_count['Жанр СПб']=spb_genres.head(10).index\n",
    "one_city_count['Кол-во СПб']=spb_genres.head(10).values\n",
    "#считаем долю прослушиваний всего от количества прослушиваний по городу:\n",
    "one_city_count['Доля по СПб']= list(map(lambda x: '%2.2f%%' % (x / spb_genres.sum()*100),one_city_count['Кол-во СПб']))\n",
    "\n"
   ]
  },
  {
   "cell_type": "markdown",
   "metadata": {
    "id": "5Doha_ODgyQ8"
   },
   "source": [
    "\n",
    "Выведите на экран первые десять строк `spb_genres`:"
   ]
  },
  {
   "cell_type": "code",
   "execution_count": 39,
   "metadata": {
    "id": "uaGJHjVU_Zcv"
   },
   "outputs": [
    {
     "data": {
      "text/plain": [
       "genre\n",
       "pop            2431\n",
       "dance          1932\n",
       "rock           1879\n",
       "electronic     1736\n",
       "hiphop          960\n",
       "alternative     649\n",
       "classical       646\n",
       "rusrap          564\n",
       "ruspop          538\n",
       "world           515\n",
       "Name: genre, dtype: int64"
      ]
     },
     "metadata": {},
     "output_type": "display_data"
    },
    {
     "data": {
      "text/plain": [
       "'Доля первых трех по популярности жанров - 33.71866897147796 %'"
      ]
     },
     "metadata": {},
     "output_type": "display_data"
    }
   ],
   "source": [
    "# просмотр первых 10 строк spb_genres\n",
    "display(spb_genres.head(10))\n",
    "display('Доля первых трех по популярности жанров - ' + str(spb_genres.head(3).sum()/spb_genres.sum()*100)+' %')"
   ]
  },
  {
   "cell_type": "code",
   "execution_count": 40,
   "metadata": {},
   "outputs": [
    {
     "data": {
      "text/html": [
       "<div>\n",
       "<style scoped>\n",
       "    .dataframe tbody tr th:only-of-type {\n",
       "        vertical-align: middle;\n",
       "    }\n",
       "\n",
       "    .dataframe tbody tr th {\n",
       "        vertical-align: top;\n",
       "    }\n",
       "\n",
       "    .dataframe thead th {\n",
       "        text-align: right;\n",
       "    }\n",
       "</style>\n",
       "<table border=\"1\" class=\"dataframe\">\n",
       "  <thead>\n",
       "    <tr style=\"text-align: right;\">\n",
       "      <th></th>\n",
       "      <th>Жанр МСК</th>\n",
       "      <th>Кол-во МСК</th>\n",
       "      <th>Доля по МСК</th>\n",
       "      <th>Жанр СПб</th>\n",
       "      <th>Кол-во СПб</th>\n",
       "      <th>Доля по СПб</th>\n",
       "    </tr>\n",
       "  </thead>\n",
       "  <tbody>\n",
       "    <tr>\n",
       "      <td>0</td>\n",
       "      <td>pop</td>\n",
       "      <td>5892</td>\n",
       "      <td>13.79%</td>\n",
       "      <td>pop</td>\n",
       "      <td>2431</td>\n",
       "      <td>13.13%</td>\n",
       "    </tr>\n",
       "    <tr>\n",
       "      <td>1</td>\n",
       "      <td>dance</td>\n",
       "      <td>4435</td>\n",
       "      <td>10.38%</td>\n",
       "      <td>dance</td>\n",
       "      <td>1932</td>\n",
       "      <td>10.44%</td>\n",
       "    </tr>\n",
       "    <tr>\n",
       "      <td>2</td>\n",
       "      <td>rock</td>\n",
       "      <td>3965</td>\n",
       "      <td>9.28%</td>\n",
       "      <td>rock</td>\n",
       "      <td>1879</td>\n",
       "      <td>10.15%</td>\n",
       "    </tr>\n",
       "    <tr>\n",
       "      <td>3</td>\n",
       "      <td>electronic</td>\n",
       "      <td>3786</td>\n",
       "      <td>8.86%</td>\n",
       "      <td>electronic</td>\n",
       "      <td>1736</td>\n",
       "      <td>9.38%</td>\n",
       "    </tr>\n",
       "    <tr>\n",
       "      <td>4</td>\n",
       "      <td>hiphop</td>\n",
       "      <td>2096</td>\n",
       "      <td>4.90%</td>\n",
       "      <td>hiphop</td>\n",
       "      <td>960</td>\n",
       "      <td>5.19%</td>\n",
       "    </tr>\n",
       "    <tr>\n",
       "      <td>5</td>\n",
       "      <td>classical</td>\n",
       "      <td>1616</td>\n",
       "      <td>3.78%</td>\n",
       "      <td>alternative</td>\n",
       "      <td>649</td>\n",
       "      <td>3.51%</td>\n",
       "    </tr>\n",
       "    <tr>\n",
       "      <td>6</td>\n",
       "      <td>world</td>\n",
       "      <td>1432</td>\n",
       "      <td>3.35%</td>\n",
       "      <td>classical</td>\n",
       "      <td>646</td>\n",
       "      <td>3.49%</td>\n",
       "    </tr>\n",
       "    <tr>\n",
       "      <td>7</td>\n",
       "      <td>alternative</td>\n",
       "      <td>1379</td>\n",
       "      <td>3.23%</td>\n",
       "      <td>rusrap</td>\n",
       "      <td>564</td>\n",
       "      <td>3.05%</td>\n",
       "    </tr>\n",
       "    <tr>\n",
       "      <td>8</td>\n",
       "      <td>ruspop</td>\n",
       "      <td>1372</td>\n",
       "      <td>3.21%</td>\n",
       "      <td>ruspop</td>\n",
       "      <td>538</td>\n",
       "      <td>2.91%</td>\n",
       "    </tr>\n",
       "    <tr>\n",
       "      <td>9</td>\n",
       "      <td>rusrap</td>\n",
       "      <td>1161</td>\n",
       "      <td>2.72%</td>\n",
       "      <td>world</td>\n",
       "      <td>515</td>\n",
       "      <td>2.78%</td>\n",
       "    </tr>\n",
       "  </tbody>\n",
       "</table>\n",
       "</div>"
      ],
      "text/plain": [
       "      Жанр МСК  Кол-во МСК Доля по МСК     Жанр СПб  Кол-во СПб Доля по СПб\n",
       "0          pop        5892      13.79%          pop        2431      13.13%\n",
       "1        dance        4435      10.38%        dance        1932      10.44%\n",
       "2         rock        3965       9.28%         rock        1879      10.15%\n",
       "3   electronic        3786       8.86%   electronic        1736       9.38%\n",
       "4       hiphop        2096       4.90%       hiphop         960       5.19%\n",
       "5    classical        1616       3.78%  alternative         649       3.51%\n",
       "6        world        1432       3.35%    classical         646       3.49%\n",
       "7  alternative        1379       3.23%       rusrap         564       3.05%\n",
       "8       ruspop        1372       3.21%       ruspop         538       2.91%\n",
       "9       rusrap        1161       2.72%        world         515       2.78%"
      ]
     },
     "execution_count": 40,
     "metadata": {},
     "output_type": "execute_result"
    }
   ],
   "source": [
    "# выводим общую статистику по городам.\n",
    "one_city_count"
   ]
  },
  {
   "cell_type": "markdown",
   "metadata": {
    "id": "RY51YJYu_Zcv"
   },
   "source": [
    "**Выводы**"
   ]
  },
  {
   "cell_type": "markdown",
   "metadata": {
    "id": "nVhnJEm__Zcv"
   },
   "source": [
    "Гипотеза частично подтвердилась:\n",
    "* Поп-музыка, танцевальная ('dance') и рок — самые популярные жанры как в Москве, так и в Петербурге (33% всех прослушиваний). Более того, в топ-10 жанров встречается близкий жанр — русская популярная музыка.\n",
    "* Вопреки ожиданиям, рэп одинаково популярен в Москве и Петербурге. \n"
   ]
  },
  {
   "cell_type": "markdown",
   "metadata": {
    "id": "ykKQ0N65_Zcv"
   },
   "source": [
    "## Итоги исследования"
   ]
  },
  {
   "cell_type": "markdown",
   "metadata": {
    "id": "tjUwbHb3_Zcv"
   },
   "source": [
    "Вы проверили три гипотезы и установили:\n",
    "\n",
    "1. День недели по-разному влияет на активность пользователей в Москве и Петербурге. \n",
    "\n",
    "Первая гипотеза полностью подтвердилась.\n",
    "\n",
    "2. Музыкальные предпочтения не сильно меняются в течение недели — будь то Москва или Петербург. Небольшие различия заметны в начале недели, по понедельникам:\n",
    "* в Москве слушают музыку жанра “world” и \"classic\" чаще чем в Петербурге\n",
    "* в Петербурге чаще слушают \"alternative\" и русских исполнителей.\n",
    "\n",
    "Таким образом, вторая гипотеза подтвердилась лишь отчасти. Этот результат мог оказаться иным, если бы не пропуски в данных.\n",
    "\n",
    "3. Во вкусах пользователей Москвы и Петербурга больше общего чем различий. Вопреки ожиданиям, предпочтения жанров в Петербурге напоминают московские.\n",
    "\n",
    "Третья гипотеза не подтвердилась. Если различия в предпочтениях и существуют, на основной массе пользователей они незаметны.\n",
    "\n",
    "**На практике исследования содержат проверки статистических гипотез.**\n",
    "Из данных одного сервиса не всегда можно сделать вывод о всех жителях города.\n",
    "Проверки статистических гипотез покажут, насколько они достоверны, исходя из имеющихся данных. \n",
    "С методами проверок гипотез вы ещё познакомитесь в следующих темах."
   ]
  }
 ],
 "metadata": {
  "ExecuteTimeLog": [
   {
    "duration": 556,
    "start_time": "2022-02-08T20:53:39.237Z"
   },
   {
    "duration": 144,
    "start_time": "2022-02-08T20:54:22.868Z"
   },
   {
    "duration": 8,
    "start_time": "2022-02-08T20:54:42.344Z"
   },
   {
    "duration": 15,
    "start_time": "2022-02-08T20:54:55.235Z"
   },
   {
    "duration": 3,
    "start_time": "2022-02-08T21:04:27.202Z"
   },
   {
    "duration": 31,
    "start_time": "2022-02-08T21:08:51.621Z"
   },
   {
    "duration": 3,
    "start_time": "2022-02-08T21:09:23.608Z"
   },
   {
    "duration": 30,
    "start_time": "2022-02-08T21:09:32.522Z"
   },
   {
    "duration": 3,
    "start_time": "2022-02-08T21:09:53.674Z"
   },
   {
    "duration": 3,
    "start_time": "2022-02-08T21:10:15.250Z"
   },
   {
    "duration": 24,
    "start_time": "2022-02-08T21:10:23.027Z"
   },
   {
    "duration": 18,
    "start_time": "2022-02-08T21:10:45.294Z"
   },
   {
    "duration": 4,
    "start_time": "2022-02-08T21:10:48.052Z"
   },
   {
    "duration": 255,
    "start_time": "2022-02-08T21:11:27.094Z"
   },
   {
    "duration": 37,
    "start_time": "2022-02-08T21:12:24.146Z"
   },
   {
    "duration": 35,
    "start_time": "2022-02-08T21:12:32.523Z"
   },
   {
    "duration": 22,
    "start_time": "2022-02-08T21:12:37.675Z"
   },
   {
    "duration": 17,
    "start_time": "2022-02-08T21:12:56.926Z"
   },
   {
    "duration": 3,
    "start_time": "2022-02-08T21:12:59.853Z"
   },
   {
    "duration": 14,
    "start_time": "2022-02-08T21:13:08.067Z"
   },
   {
    "duration": 4,
    "start_time": "2022-02-08T21:13:10.431Z"
   },
   {
    "duration": 22,
    "start_time": "2022-02-08T21:13:13.886Z"
   },
   {
    "duration": 4,
    "start_time": "2022-02-08T21:14:47.285Z"
   },
   {
    "duration": 4,
    "start_time": "2022-02-08T21:16:54.817Z"
   },
   {
    "duration": 18,
    "start_time": "2022-02-08T21:20:05.564Z"
   },
   {
    "duration": 21,
    "start_time": "2022-02-08T21:20:20.393Z"
   },
   {
    "duration": 17,
    "start_time": "2022-02-08T21:20:43.917Z"
   },
   {
    "duration": 23,
    "start_time": "2022-02-08T21:20:45.803Z"
   },
   {
    "duration": 60,
    "start_time": "2022-02-08T21:21:23.877Z"
   },
   {
    "duration": 73,
    "start_time": "2022-02-08T21:22:21.361Z"
   },
   {
    "duration": 61,
    "start_time": "2022-02-08T21:33:07.200Z"
   },
   {
    "duration": 57,
    "start_time": "2022-02-08T21:33:44.567Z"
   },
   {
    "duration": 5,
    "start_time": "2022-02-08T21:40:56.527Z"
   },
   {
    "duration": 7,
    "start_time": "2022-02-08T21:41:20.495Z"
   },
   {
    "duration": 233,
    "start_time": "2022-02-08T21:41:51.618Z"
   },
   {
    "duration": 40,
    "start_time": "2022-02-08T21:44:49.156Z"
   },
   {
    "duration": 212,
    "start_time": "2022-02-08T21:47:46.350Z"
   },
   {
    "duration": 241,
    "start_time": "2022-02-08T21:48:38.074Z"
   },
   {
    "duration": 40,
    "start_time": "2022-02-08T21:48:51.842Z"
   },
   {
    "duration": 42,
    "start_time": "2022-02-08T21:49:44.080Z"
   },
   {
    "duration": 253,
    "start_time": "2022-02-08T21:50:11.338Z"
   },
   {
    "duration": 39,
    "start_time": "2022-02-08T21:52:19.693Z"
   },
   {
    "duration": 39,
    "start_time": "2022-02-08T21:52:42.010Z"
   },
   {
    "duration": 37,
    "start_time": "2022-02-08T21:52:51.003Z"
   },
   {
    "duration": 42,
    "start_time": "2022-02-08T21:53:00.439Z"
   },
   {
    "duration": 217,
    "start_time": "2022-02-08T21:53:32.097Z"
   },
   {
    "duration": 39,
    "start_time": "2022-02-08T21:53:47.631Z"
   },
   {
    "duration": 38,
    "start_time": "2022-02-08T21:54:48.621Z"
   },
   {
    "duration": 187,
    "start_time": "2022-02-08T22:02:49.529Z"
   },
   {
    "duration": 3,
    "start_time": "2022-02-08T22:02:57.082Z"
   },
   {
    "duration": 356,
    "start_time": "2022-02-08T22:02:59.531Z"
   },
   {
    "duration": 3,
    "start_time": "2022-02-08T22:03:47.839Z"
   },
   {
    "duration": 373,
    "start_time": "2022-02-08T22:03:50.123Z"
   },
   {
    "duration": 3,
    "start_time": "2022-02-08T22:05:33.271Z"
   },
   {
    "duration": 375,
    "start_time": "2022-02-08T22:05:35.393Z"
   },
   {
    "duration": 5,
    "start_time": "2022-02-08T22:06:11.015Z"
   },
   {
    "duration": 11,
    "start_time": "2022-02-08T22:06:13.244Z"
   },
   {
    "duration": -908,
    "start_time": "2022-02-08T22:07:31.702Z"
   },
   {
    "duration": 3,
    "start_time": "2022-02-08T22:07:40.091Z"
   },
   {
    "duration": 4733,
    "start_time": "2022-02-08T22:07:42.476Z"
   },
   {
    "duration": 10,
    "start_time": "2022-02-08T22:08:06.151Z"
   },
   {
    "duration": 38,
    "start_time": "2022-02-08T22:09:09.157Z"
   },
   {
    "duration": 40,
    "start_time": "2022-02-08T22:09:22.086Z"
   },
   {
    "duration": 333,
    "start_time": "2022-02-09T19:02:06.422Z"
   },
   {
    "duration": 326,
    "start_time": "2022-02-09T19:03:10.508Z"
   },
   {
    "duration": 325,
    "start_time": "2022-02-09T19:03:25.764Z"
   },
   {
    "duration": 586,
    "start_time": "2022-02-09T19:03:41.491Z"
   },
   {
    "duration": 126,
    "start_time": "2022-02-09T19:03:42.551Z"
   },
   {
    "duration": 15,
    "start_time": "2022-02-09T19:03:43.453Z"
   },
   {
    "duration": 3,
    "start_time": "2022-02-09T19:03:44.729Z"
   },
   {
    "duration": 4,
    "start_time": "2022-02-09T19:03:46.512Z"
   },
   {
    "duration": 18,
    "start_time": "2022-02-09T19:03:47.726Z"
   },
   {
    "duration": 3,
    "start_time": "2022-02-09T19:03:48.713Z"
   },
   {
    "duration": 20,
    "start_time": "2022-02-09T19:03:50.656Z"
   },
   {
    "duration": 15,
    "start_time": "2022-02-09T19:03:51.867Z"
   },
   {
    "duration": 21,
    "start_time": "2022-02-09T19:03:52.950Z"
   },
   {
    "duration": 55,
    "start_time": "2022-02-09T19:03:54.376Z"
   },
   {
    "duration": 64,
    "start_time": "2022-02-09T19:03:55.465Z"
   },
   {
    "duration": 48,
    "start_time": "2022-02-09T19:03:56.301Z"
   },
   {
    "duration": 35,
    "start_time": "2022-02-09T19:03:57.559Z"
   },
   {
    "duration": 3,
    "start_time": "2022-02-09T19:04:00.587Z"
   },
   {
    "duration": 9,
    "start_time": "2022-02-09T19:04:02.766Z"
   },
   {
    "duration": 36,
    "start_time": "2022-02-09T19:04:04.289Z"
   },
   {
    "duration": 339,
    "start_time": "2022-02-09T19:04:08.277Z"
   },
   {
    "duration": 25,
    "start_time": "2022-02-09T19:04:36.309Z"
   },
   {
    "duration": 14,
    "start_time": "2022-02-09T19:05:02.952Z"
   },
   {
    "duration": 20,
    "start_time": "2022-02-09T19:07:33.909Z"
   },
   {
    "duration": 22,
    "start_time": "2022-02-09T19:09:00.823Z"
   },
   {
    "duration": 18,
    "start_time": "2022-02-09T19:09:09.100Z"
   },
   {
    "duration": 21,
    "start_time": "2022-02-09T19:09:14.117Z"
   },
   {
    "duration": 115,
    "start_time": "2022-02-09T19:14:44.017Z"
   },
   {
    "duration": 1261,
    "start_time": "2022-02-09T19:15:05.105Z"
   },
   {
    "duration": 28,
    "start_time": "2022-02-09T19:15:21.377Z"
   },
   {
    "duration": 36,
    "start_time": "2022-02-09T19:15:49.084Z"
   },
   {
    "duration": 39,
    "start_time": "2022-02-09T19:16:06.402Z"
   },
   {
    "duration": 54,
    "start_time": "2022-02-09T19:16:37.259Z"
   },
   {
    "duration": 51,
    "start_time": "2022-02-09T19:17:05.241Z"
   },
   {
    "duration": 322,
    "start_time": "2022-02-09T19:19:11.120Z"
   },
   {
    "duration": 648,
    "start_time": "2022-02-09T19:20:16.902Z"
   },
   {
    "duration": 29,
    "start_time": "2022-02-09T19:20:31.729Z"
   },
   {
    "duration": 12,
    "start_time": "2022-02-09T19:20:48.202Z"
   },
   {
    "duration": 9,
    "start_time": "2022-02-09T19:21:17.228Z"
   },
   {
    "duration": 3,
    "start_time": "2022-02-09T20:28:33.011Z"
   },
   {
    "duration": 36,
    "start_time": "2022-02-09T20:42:15.354Z"
   },
   {
    "duration": 47,
    "start_time": "2022-02-09T20:42:19.595Z"
   },
   {
    "duration": 8,
    "start_time": "2022-02-09T20:42:23.594Z"
   },
   {
    "duration": 3,
    "start_time": "2022-02-09T20:43:18.059Z"
   },
   {
    "duration": 4,
    "start_time": "2022-02-09T20:43:24.392Z"
   },
   {
    "duration": 3,
    "start_time": "2022-02-09T20:43:33.075Z"
   },
   {
    "duration": 2,
    "start_time": "2022-02-09T20:43:34.551Z"
   },
   {
    "duration": 2,
    "start_time": "2022-02-09T20:43:34.744Z"
   },
   {
    "duration": 2,
    "start_time": "2022-02-09T20:43:34.939Z"
   },
   {
    "duration": 2,
    "start_time": "2022-02-09T20:43:35.137Z"
   },
   {
    "duration": 2,
    "start_time": "2022-02-09T20:43:35.610Z"
   },
   {
    "duration": 2,
    "start_time": "2022-02-09T20:43:35.966Z"
   },
   {
    "duration": 2,
    "start_time": "2022-02-09T20:43:37.797Z"
   },
   {
    "duration": 11,
    "start_time": "2022-02-09T20:44:22.559Z"
   },
   {
    "duration": 14,
    "start_time": "2022-02-09T20:44:49.650Z"
   },
   {
    "duration": 11,
    "start_time": "2022-02-09T20:44:58.958Z"
   },
   {
    "duration": 22,
    "start_time": "2022-02-09T20:45:39.048Z"
   },
   {
    "duration": 11,
    "start_time": "2022-02-09T20:46:26.620Z"
   },
   {
    "duration": 12,
    "start_time": "2022-02-09T20:47:34.578Z"
   },
   {
    "duration": 16,
    "start_time": "2022-02-09T20:47:41.584Z"
   },
   {
    "duration": 17,
    "start_time": "2022-02-09T20:48:05.910Z"
   },
   {
    "duration": 3,
    "start_time": "2022-02-09T20:50:40.155Z"
   },
   {
    "duration": -877,
    "start_time": "2022-02-09T20:51:41.356Z"
   },
   {
    "duration": 8163,
    "start_time": "2022-02-09T20:51:57.089Z"
   },
   {
    "duration": 12,
    "start_time": "2022-02-09T20:52:45.128Z"
   },
   {
    "duration": 11,
    "start_time": "2022-02-09T20:53:02.748Z"
   },
   {
    "duration": 2,
    "start_time": "2022-02-09T20:53:05.151Z"
   },
   {
    "duration": 2,
    "start_time": "2022-02-09T20:53:05.359Z"
   },
   {
    "duration": 2,
    "start_time": "2022-02-09T20:53:05.534Z"
   },
   {
    "duration": 2,
    "start_time": "2022-02-09T20:53:05.714Z"
   },
   {
    "duration": 2,
    "start_time": "2022-02-09T20:53:05.886Z"
   },
   {
    "duration": 12,
    "start_time": "2022-02-09T20:54:15.170Z"
   },
   {
    "duration": 12,
    "start_time": "2022-02-09T20:54:29.011Z"
   },
   {
    "duration": 12,
    "start_time": "2022-02-09T20:54:53.420Z"
   },
   {
    "duration": 12,
    "start_time": "2022-02-09T20:55:16.176Z"
   },
   {
    "duration": 16,
    "start_time": "2022-02-09T20:56:45.909Z"
   },
   {
    "duration": 15,
    "start_time": "2022-02-09T20:57:16.372Z"
   },
   {
    "duration": 19,
    "start_time": "2022-02-09T20:57:27.479Z"
   },
   {
    "duration": 17,
    "start_time": "2022-02-09T20:57:38.102Z"
   },
   {
    "duration": 614,
    "start_time": "2022-02-10T17:40:45.336Z"
   },
   {
    "duration": 142,
    "start_time": "2022-02-10T17:40:45.952Z"
   },
   {
    "duration": 17,
    "start_time": "2022-02-10T17:40:46.096Z"
   },
   {
    "duration": 4,
    "start_time": "2022-02-10T17:40:46.115Z"
   },
   {
    "duration": 31,
    "start_time": "2022-02-10T17:40:46.121Z"
   },
   {
    "duration": 37,
    "start_time": "2022-02-10T17:40:46.154Z"
   },
   {
    "duration": 17,
    "start_time": "2022-02-10T17:40:46.193Z"
   },
   {
    "duration": 39,
    "start_time": "2022-02-10T17:40:46.213Z"
   },
   {
    "duration": 27,
    "start_time": "2022-02-10T17:40:46.255Z"
   },
   {
    "duration": 44,
    "start_time": "2022-02-10T17:40:46.284Z"
   },
   {
    "duration": 65,
    "start_time": "2022-02-10T17:40:46.330Z"
   },
   {
    "duration": 76,
    "start_time": "2022-02-10T17:40:46.397Z"
   },
   {
    "duration": 67,
    "start_time": "2022-02-10T17:40:46.475Z"
   },
   {
    "duration": 43,
    "start_time": "2022-02-10T17:40:46.544Z"
   },
   {
    "duration": 3,
    "start_time": "2022-02-10T17:40:46.598Z"
   },
   {
    "duration": 37,
    "start_time": "2022-02-10T17:40:46.603Z"
   },
   {
    "duration": 57,
    "start_time": "2022-02-10T17:40:46.642Z"
   },
   {
    "duration": 73,
    "start_time": "2022-02-10T17:40:46.701Z"
   },
   {
    "duration": 9,
    "start_time": "2022-02-10T17:40:46.775Z"
   },
   {
    "duration": 39,
    "start_time": "2022-02-10T17:40:46.786Z"
   },
   {
    "duration": 11,
    "start_time": "2022-02-10T17:40:46.827Z"
   },
   {
    "duration": 20,
    "start_time": "2022-02-10T17:40:46.839Z"
   },
   {
    "duration": 6,
    "start_time": "2022-02-10T17:40:46.862Z"
   },
   {
    "duration": 18,
    "start_time": "2022-02-10T17:40:46.869Z"
   },
   {
    "duration": 21,
    "start_time": "2022-02-10T17:40:46.888Z"
   },
   {
    "duration": 8,
    "start_time": "2022-02-10T17:40:46.910Z"
   },
   {
    "duration": 6,
    "start_time": "2022-02-10T17:40:46.919Z"
   },
   {
    "duration": 23,
    "start_time": "2022-02-10T17:40:46.927Z"
   },
   {
    "duration": 5,
    "start_time": "2022-02-10T17:40:46.952Z"
   },
   {
    "duration": 9,
    "start_time": "2022-02-10T17:40:46.959Z"
   },
   {
    "duration": 35,
    "start_time": "2022-02-10T17:40:46.970Z"
   },
   {
    "duration": 13,
    "start_time": "2022-02-10T17:40:47.007Z"
   },
   {
    "duration": 33,
    "start_time": "2022-02-10T17:40:47.022Z"
   },
   {
    "duration": 22,
    "start_time": "2022-02-10T17:40:47.057Z"
   },
   {
    "duration": 17,
    "start_time": "2022-02-10T17:40:47.080Z"
   },
   {
    "duration": 9,
    "start_time": "2022-02-10T17:40:47.098Z"
   },
   {
    "duration": 9,
    "start_time": "2022-02-10T17:40:47.109Z"
   },
   {
    "duration": 12,
    "start_time": "2022-02-10T17:40:47.120Z"
   },
   {
    "duration": 3,
    "start_time": "2022-02-10T18:00:14.667Z"
   },
   {
    "duration": 16,
    "start_time": "2022-02-10T18:01:07.230Z"
   },
   {
    "duration": 4,
    "start_time": "2022-02-10T18:01:15.174Z"
   },
   {
    "duration": 19,
    "start_time": "2022-02-10T18:01:16.448Z"
   },
   {
    "duration": 362,
    "start_time": "2022-02-10T18:06:55.892Z"
   },
   {
    "duration": 5,
    "start_time": "2022-02-10T18:07:16.858Z"
   },
   {
    "duration": 6,
    "start_time": "2022-02-10T18:07:27.566Z"
   },
   {
    "duration": 9,
    "start_time": "2022-02-10T18:07:35.542Z"
   },
   {
    "duration": 279,
    "start_time": "2022-02-10T18:13:26.054Z"
   },
   {
    "duration": 269,
    "start_time": "2022-02-10T18:13:52.272Z"
   },
   {
    "duration": 683,
    "start_time": "2022-02-10T18:14:21.711Z"
   },
   {
    "duration": 148,
    "start_time": "2022-02-10T18:14:22.396Z"
   },
   {
    "duration": 18,
    "start_time": "2022-02-10T18:14:22.549Z"
   },
   {
    "duration": 17,
    "start_time": "2022-02-10T18:14:22.569Z"
   },
   {
    "duration": 8,
    "start_time": "2022-02-10T18:14:22.588Z"
   },
   {
    "duration": 32,
    "start_time": "2022-02-10T18:14:22.598Z"
   },
   {
    "duration": 5,
    "start_time": "2022-02-10T18:14:22.632Z"
   },
   {
    "duration": 29,
    "start_time": "2022-02-10T18:14:22.640Z"
   },
   {
    "duration": 30,
    "start_time": "2022-02-10T18:14:22.672Z"
   },
   {
    "duration": 24,
    "start_time": "2022-02-10T18:14:22.703Z"
   },
   {
    "duration": 84,
    "start_time": "2022-02-10T18:14:22.729Z"
   },
   {
    "duration": 85,
    "start_time": "2022-02-10T18:14:22.815Z"
   },
   {
    "duration": 58,
    "start_time": "2022-02-10T18:14:22.902Z"
   },
   {
    "duration": 56,
    "start_time": "2022-02-10T18:14:22.961Z"
   },
   {
    "duration": 3,
    "start_time": "2022-02-10T18:14:23.019Z"
   },
   {
    "duration": 11,
    "start_time": "2022-02-10T18:14:23.025Z"
   },
   {
    "duration": 67,
    "start_time": "2022-02-10T18:14:23.038Z"
   },
   {
    "duration": 62,
    "start_time": "2022-02-10T18:14:23.107Z"
   },
   {
    "duration": 32,
    "start_time": "2022-02-10T18:14:23.171Z"
   },
   {
    "duration": 4,
    "start_time": "2022-02-10T18:14:23.205Z"
   },
   {
    "duration": 22,
    "start_time": "2022-02-10T18:14:23.210Z"
   },
   {
    "duration": 14,
    "start_time": "2022-02-10T18:14:23.234Z"
   },
   {
    "duration": 15,
    "start_time": "2022-02-10T18:14:23.250Z"
   },
   {
    "duration": 43,
    "start_time": "2022-02-10T18:14:23.266Z"
   },
   {
    "duration": 17,
    "start_time": "2022-02-10T18:14:23.311Z"
   },
   {
    "duration": 14,
    "start_time": "2022-02-10T18:14:23.331Z"
   },
   {
    "duration": 5,
    "start_time": "2022-02-10T18:14:23.347Z"
   },
   {
    "duration": 5,
    "start_time": "2022-02-10T18:14:23.354Z"
   },
   {
    "duration": 38,
    "start_time": "2022-02-10T18:14:23.361Z"
   },
   {
    "duration": 5,
    "start_time": "2022-02-10T18:14:23.400Z"
   },
   {
    "duration": 8,
    "start_time": "2022-02-10T18:14:23.407Z"
   },
   {
    "duration": 6,
    "start_time": "2022-02-10T18:14:23.416Z"
   },
   {
    "duration": 10,
    "start_time": "2022-02-10T18:14:23.424Z"
   },
   {
    "duration": 7,
    "start_time": "2022-02-10T18:14:23.436Z"
   },
   {
    "duration": 5,
    "start_time": "2022-02-10T18:14:23.444Z"
   },
   {
    "duration": 5,
    "start_time": "2022-02-10T18:14:23.451Z"
   },
   {
    "duration": 5,
    "start_time": "2022-02-10T18:14:23.458Z"
   },
   {
    "duration": 5,
    "start_time": "2022-02-10T18:14:23.465Z"
   },
   {
    "duration": 5,
    "start_time": "2022-02-10T18:14:33.160Z"
   },
   {
    "duration": 8,
    "start_time": "2022-02-10T18:14:42.920Z"
   },
   {
    "duration": 6,
    "start_time": "2022-02-10T18:15:11.578Z"
   },
   {
    "duration": 9,
    "start_time": "2022-02-10T18:15:36.128Z"
   },
   {
    "duration": 325,
    "start_time": "2022-02-10T18:16:58.874Z"
   },
   {
    "duration": 263,
    "start_time": "2022-02-10T18:17:08.710Z"
   },
   {
    "duration": 282,
    "start_time": "2022-02-10T18:17:13.045Z"
   },
   {
    "duration": 285,
    "start_time": "2022-02-10T18:17:32.398Z"
   },
   {
    "duration": 266,
    "start_time": "2022-02-10T18:18:17.840Z"
   },
   {
    "duration": 295,
    "start_time": "2022-02-10T18:18:26.993Z"
   },
   {
    "duration": 15,
    "start_time": "2022-02-10T18:18:29.011Z"
   },
   {
    "duration": 257,
    "start_time": "2022-02-10T18:18:30.965Z"
   },
   {
    "duration": 24,
    "start_time": "2022-02-10T18:18:46.827Z"
   },
   {
    "duration": 21,
    "start_time": "2022-02-10T18:18:47.325Z"
   },
   {
    "duration": 23,
    "start_time": "2022-02-10T18:18:47.739Z"
   },
   {
    "duration": 21,
    "start_time": "2022-02-10T18:18:48.094Z"
   },
   {
    "duration": 16,
    "start_time": "2022-02-10T18:18:48.647Z"
   },
   {
    "duration": 14,
    "start_time": "2022-02-10T18:18:49.792Z"
   },
   {
    "duration": 285,
    "start_time": "2022-02-10T18:18:51.417Z"
   },
   {
    "duration": 605,
    "start_time": "2022-02-10T18:18:59.857Z"
   },
   {
    "duration": 159,
    "start_time": "2022-02-10T18:19:00.465Z"
   },
   {
    "duration": 19,
    "start_time": "2022-02-10T18:19:00.629Z"
   },
   {
    "duration": 3,
    "start_time": "2022-02-10T18:19:00.650Z"
   },
   {
    "duration": 17,
    "start_time": "2022-02-10T18:19:00.655Z"
   },
   {
    "duration": 38,
    "start_time": "2022-02-10T18:19:00.674Z"
   },
   {
    "duration": 4,
    "start_time": "2022-02-10T18:19:00.716Z"
   },
   {
    "duration": 38,
    "start_time": "2022-02-10T18:19:00.722Z"
   },
   {
    "duration": 37,
    "start_time": "2022-02-10T18:19:00.763Z"
   },
   {
    "duration": 24,
    "start_time": "2022-02-10T18:19:00.802Z"
   },
   {
    "duration": 77,
    "start_time": "2022-02-10T18:19:00.828Z"
   },
   {
    "duration": 77,
    "start_time": "2022-02-10T18:19:00.907Z"
   },
   {
    "duration": 74,
    "start_time": "2022-02-10T18:19:00.985Z"
   },
   {
    "duration": 57,
    "start_time": "2022-02-10T18:19:01.061Z"
   },
   {
    "duration": 3,
    "start_time": "2022-02-10T18:19:01.120Z"
   },
   {
    "duration": 14,
    "start_time": "2022-02-10T18:19:01.125Z"
   },
   {
    "duration": 65,
    "start_time": "2022-02-10T18:19:01.141Z"
   },
   {
    "duration": 65,
    "start_time": "2022-02-10T18:19:01.208Z"
   },
   {
    "duration": 31,
    "start_time": "2022-02-10T18:19:01.275Z"
   },
   {
    "duration": 3,
    "start_time": "2022-02-10T18:19:01.308Z"
   },
   {
    "duration": 27,
    "start_time": "2022-02-10T18:19:01.313Z"
   },
   {
    "duration": 15,
    "start_time": "2022-02-10T18:19:01.344Z"
   },
   {
    "duration": 44,
    "start_time": "2022-02-10T18:19:01.361Z"
   },
   {
    "duration": 15,
    "start_time": "2022-02-10T18:19:01.407Z"
   },
   {
    "duration": 17,
    "start_time": "2022-02-10T18:19:01.424Z"
   },
   {
    "duration": 15,
    "start_time": "2022-02-10T18:19:01.443Z"
   },
   {
    "duration": 38,
    "start_time": "2022-02-10T18:19:01.460Z"
   },
   {
    "duration": 2,
    "start_time": "2022-02-10T18:19:01.501Z"
   },
   {
    "duration": 10,
    "start_time": "2022-02-10T18:19:01.505Z"
   },
   {
    "duration": 7,
    "start_time": "2022-02-10T18:19:01.517Z"
   },
   {
    "duration": 9,
    "start_time": "2022-02-10T18:19:01.526Z"
   },
   {
    "duration": 14,
    "start_time": "2022-02-10T18:19:01.537Z"
   },
   {
    "duration": 17,
    "start_time": "2022-02-10T18:19:01.553Z"
   },
   {
    "duration": 9,
    "start_time": "2022-02-10T18:19:01.572Z"
   },
   {
    "duration": 22,
    "start_time": "2022-02-10T18:19:01.583Z"
   },
   {
    "duration": 13,
    "start_time": "2022-02-10T18:19:01.607Z"
   },
   {
    "duration": 9,
    "start_time": "2022-02-10T18:19:01.622Z"
   },
   {
    "duration": 8,
    "start_time": "2022-02-10T18:19:01.633Z"
   },
   {
    "duration": 13,
    "start_time": "2022-02-10T19:13:18.038Z"
   },
   {
    "duration": 11,
    "start_time": "2022-02-10T19:13:18.545Z"
   },
   {
    "duration": 600,
    "start_time": "2022-02-10T19:13:27.306Z"
   },
   {
    "duration": 145,
    "start_time": "2022-02-10T19:13:27.908Z"
   },
   {
    "duration": 18,
    "start_time": "2022-02-10T19:13:28.055Z"
   },
   {
    "duration": 15,
    "start_time": "2022-02-10T19:13:28.075Z"
   },
   {
    "duration": 9,
    "start_time": "2022-02-10T19:13:28.092Z"
   },
   {
    "duration": 27,
    "start_time": "2022-02-10T19:13:28.102Z"
   },
   {
    "duration": 14,
    "start_time": "2022-02-10T19:13:28.131Z"
   },
   {
    "duration": 31,
    "start_time": "2022-02-10T19:13:28.148Z"
   },
   {
    "duration": 21,
    "start_time": "2022-02-10T19:13:28.181Z"
   },
   {
    "duration": 25,
    "start_time": "2022-02-10T19:13:28.203Z"
   },
   {
    "duration": 75,
    "start_time": "2022-02-10T19:13:28.229Z"
   },
   {
    "duration": 77,
    "start_time": "2022-02-10T19:13:28.306Z"
   },
   {
    "duration": 69,
    "start_time": "2022-02-10T19:13:28.384Z"
   },
   {
    "duration": 56,
    "start_time": "2022-02-10T19:13:28.455Z"
   },
   {
    "duration": 10,
    "start_time": "2022-02-10T19:13:28.513Z"
   },
   {
    "duration": 20,
    "start_time": "2022-02-10T19:13:28.526Z"
   },
   {
    "duration": 53,
    "start_time": "2022-02-10T19:13:28.548Z"
   },
   {
    "duration": 64,
    "start_time": "2022-02-10T19:13:28.603Z"
   },
   {
    "duration": 32,
    "start_time": "2022-02-10T19:13:28.669Z"
   },
   {
    "duration": 3,
    "start_time": "2022-02-10T19:13:28.704Z"
   },
   {
    "duration": 22,
    "start_time": "2022-02-10T19:13:28.709Z"
   },
   {
    "duration": 15,
    "start_time": "2022-02-10T19:13:28.733Z"
   },
   {
    "duration": 16,
    "start_time": "2022-02-10T19:13:28.751Z"
   },
   {
    "duration": 34,
    "start_time": "2022-02-10T19:13:28.769Z"
   },
   {
    "duration": 18,
    "start_time": "2022-02-10T19:13:28.805Z"
   },
   {
    "duration": 13,
    "start_time": "2022-02-10T19:13:28.825Z"
   },
   {
    "duration": 11,
    "start_time": "2022-02-10T19:13:28.840Z"
   },
   {
    "duration": 15,
    "start_time": "2022-02-10T19:13:28.852Z"
   },
   {
    "duration": 31,
    "start_time": "2022-02-10T19:13:28.870Z"
   },
   {
    "duration": 2,
    "start_time": "2022-02-10T19:13:28.903Z"
   },
   {
    "duration": 7,
    "start_time": "2022-02-10T19:13:28.907Z"
   },
   {
    "duration": 5,
    "start_time": "2022-02-10T19:13:28.916Z"
   },
   {
    "duration": 9,
    "start_time": "2022-02-10T19:13:28.922Z"
   },
   {
    "duration": 6,
    "start_time": "2022-02-10T19:13:28.933Z"
   },
   {
    "duration": 8,
    "start_time": "2022-02-10T19:13:28.941Z"
   },
   {
    "duration": 6,
    "start_time": "2022-02-10T19:13:28.951Z"
   },
   {
    "duration": 7,
    "start_time": "2022-02-10T19:13:28.959Z"
   },
   {
    "duration": 7,
    "start_time": "2022-02-10T19:13:28.968Z"
   },
   {
    "duration": 15,
    "start_time": "2022-02-10T21:26:45.768Z"
   },
   {
    "duration": 94,
    "start_time": "2022-02-10T21:28:17.305Z"
   },
   {
    "duration": 311,
    "start_time": "2022-02-10T21:28:25.484Z"
   },
   {
    "duration": 259,
    "start_time": "2022-02-10T21:28:30.903Z"
   },
   {
    "duration": 15,
    "start_time": "2022-02-10T21:28:45.785Z"
   },
   {
    "duration": 14,
    "start_time": "2022-02-10T21:29:27.756Z"
   },
   {
    "duration": 21,
    "start_time": "2022-02-10T21:30:55.014Z"
   },
   {
    "duration": 4,
    "start_time": "2022-02-10T21:31:01.850Z"
   },
   {
    "duration": 21,
    "start_time": "2022-02-10T21:31:05.443Z"
   },
   {
    "duration": 14,
    "start_time": "2022-02-10T21:31:17.373Z"
   },
   {
    "duration": 21,
    "start_time": "2022-02-10T21:31:37.111Z"
   },
   {
    "duration": 14,
    "start_time": "2022-02-10T21:31:38.866Z"
   },
   {
    "duration": 19,
    "start_time": "2022-02-10T21:31:48.359Z"
   },
   {
    "duration": 101,
    "start_time": "2022-02-10T21:32:04.508Z"
   },
   {
    "duration": 20,
    "start_time": "2022-02-10T21:32:16.910Z"
   },
   {
    "duration": 20,
    "start_time": "2022-02-10T21:32:22.874Z"
   },
   {
    "duration": 20,
    "start_time": "2022-02-10T21:32:27.087Z"
   },
   {
    "duration": 20,
    "start_time": "2022-02-10T21:32:31.938Z"
   },
   {
    "duration": 20,
    "start_time": "2022-02-10T21:32:37.439Z"
   },
   {
    "duration": 19,
    "start_time": "2022-02-10T21:32:42.121Z"
   },
   {
    "duration": 20,
    "start_time": "2022-02-10T21:32:46.155Z"
   },
   {
    "duration": 18,
    "start_time": "2022-02-10T21:32:52.695Z"
   },
   {
    "duration": 20,
    "start_time": "2022-02-10T21:32:56.810Z"
   },
   {
    "duration": 20,
    "start_time": "2022-02-10T21:33:00.242Z"
   },
   {
    "duration": 20,
    "start_time": "2022-02-10T21:33:03.677Z"
   },
   {
    "duration": 14,
    "start_time": "2022-02-10T21:33:13.652Z"
   },
   {
    "duration": 14,
    "start_time": "2022-02-10T21:33:17.024Z"
   },
   {
    "duration": 13,
    "start_time": "2022-02-10T21:33:24.064Z"
   },
   {
    "duration": 14,
    "start_time": "2022-02-10T21:33:26.874Z"
   },
   {
    "duration": 12,
    "start_time": "2022-02-10T21:34:09.647Z"
   },
   {
    "duration": 17,
    "start_time": "2022-02-10T21:34:11.830Z"
   },
   {
    "duration": 21,
    "start_time": "2022-02-10T21:34:20.387Z"
   },
   {
    "duration": 18,
    "start_time": "2022-02-10T21:34:23.915Z"
   },
   {
    "duration": 17,
    "start_time": "2022-02-10T21:34:26.872Z"
   },
   {
    "duration": 18,
    "start_time": "2022-02-10T21:34:40.862Z"
   },
   {
    "duration": 18,
    "start_time": "2022-02-10T21:34:43.533Z"
   },
   {
    "duration": 19,
    "start_time": "2022-02-10T21:34:52.580Z"
   },
   {
    "duration": 14,
    "start_time": "2022-02-10T21:35:00.284Z"
   },
   {
    "duration": 13,
    "start_time": "2022-02-10T21:35:09.571Z"
   },
   {
    "duration": 17,
    "start_time": "2022-02-10T21:35:14.460Z"
   },
   {
    "duration": 340,
    "start_time": "2022-02-12T05:20:56.445Z"
   },
   {
    "duration": 777,
    "start_time": "2022-02-12T05:21:05.938Z"
   },
   {
    "duration": 182,
    "start_time": "2022-02-12T05:21:06.718Z"
   },
   {
    "duration": 25,
    "start_time": "2022-02-12T05:21:06.903Z"
   },
   {
    "duration": 4,
    "start_time": "2022-02-12T05:21:06.930Z"
   },
   {
    "duration": 14,
    "start_time": "2022-02-12T05:21:06.936Z"
   },
   {
    "duration": 30,
    "start_time": "2022-02-12T05:21:06.952Z"
   },
   {
    "duration": 5,
    "start_time": "2022-02-12T05:21:06.984Z"
   },
   {
    "duration": 29,
    "start_time": "2022-02-12T05:21:07.025Z"
   },
   {
    "duration": 34,
    "start_time": "2022-02-12T05:21:07.058Z"
   },
   {
    "duration": 68,
    "start_time": "2022-02-12T05:21:07.096Z"
   },
   {
    "duration": 135,
    "start_time": "2022-02-12T05:21:07.167Z"
   },
   {
    "duration": 147,
    "start_time": "2022-02-12T05:21:07.305Z"
   },
   {
    "duration": 124,
    "start_time": "2022-02-12T05:21:07.455Z"
   },
   {
    "duration": 73,
    "start_time": "2022-02-12T05:21:07.582Z"
   },
   {
    "duration": 6,
    "start_time": "2022-02-12T05:21:07.658Z"
   },
   {
    "duration": 22,
    "start_time": "2022-02-12T05:21:07.666Z"
   },
   {
    "duration": 76,
    "start_time": "2022-02-12T05:21:07.691Z"
   },
   {
    "duration": 101,
    "start_time": "2022-02-12T05:21:07.770Z"
   },
   {
    "duration": 12,
    "start_time": "2022-02-12T05:21:07.873Z"
   },
   {
    "duration": 4,
    "start_time": "2022-02-12T05:21:07.888Z"
   },
   {
    "duration": 45,
    "start_time": "2022-02-12T05:21:07.895Z"
   },
   {
    "duration": 26,
    "start_time": "2022-02-12T05:21:07.943Z"
   },
   {
    "duration": 22,
    "start_time": "2022-02-12T05:21:07.974Z"
   },
   {
    "duration": 36,
    "start_time": "2022-02-12T05:21:07.999Z"
   },
   {
    "duration": 22,
    "start_time": "2022-02-12T05:21:08.038Z"
   },
   {
    "duration": 15,
    "start_time": "2022-02-12T05:21:08.063Z"
   },
   {
    "duration": 16,
    "start_time": "2022-02-12T05:21:08.081Z"
   },
   {
    "duration": 16,
    "start_time": "2022-02-12T05:21:08.124Z"
   },
   {
    "duration": 23,
    "start_time": "2022-02-12T05:21:08.142Z"
   },
   {
    "duration": 9,
    "start_time": "2022-02-12T05:21:08.168Z"
   },
   {
    "duration": 79,
    "start_time": "2022-02-12T05:21:08.180Z"
   },
   {
    "duration": 27,
    "start_time": "2022-02-12T05:21:08.262Z"
   },
   {
    "duration": 48,
    "start_time": "2022-02-12T05:21:08.292Z"
   },
   {
    "duration": 17,
    "start_time": "2022-02-12T05:21:08.342Z"
   },
   {
    "duration": 3,
    "start_time": "2022-02-12T05:21:08.361Z"
   },
   {
    "duration": 5,
    "start_time": "2022-02-12T05:21:08.366Z"
   },
   {
    "duration": 5,
    "start_time": "2022-02-12T05:21:08.374Z"
   },
   {
    "duration": 7,
    "start_time": "2022-02-12T05:21:08.423Z"
   },
   {
    "duration": 17,
    "start_time": "2022-02-12T05:21:35.692Z"
   },
   {
    "duration": 22,
    "start_time": "2022-02-12T05:21:48.028Z"
   },
   {
    "duration": 32,
    "start_time": "2022-02-12T05:21:52.734Z"
   },
   {
    "duration": 24,
    "start_time": "2022-02-12T05:22:15.281Z"
   },
   {
    "duration": 19,
    "start_time": "2022-02-12T05:22:26.760Z"
   },
   {
    "duration": 33,
    "start_time": "2022-02-12T05:48:23.898Z"
   },
   {
    "duration": 418,
    "start_time": "2022-02-12T05:49:19.148Z"
   },
   {
    "duration": 23,
    "start_time": "2022-02-12T05:49:29.336Z"
   },
   {
    "duration": 99,
    "start_time": "2022-02-12T05:49:35.399Z"
   },
   {
    "duration": 24,
    "start_time": "2022-02-12T05:49:43.475Z"
   },
   {
    "duration": -50,
    "start_time": "2022-02-12T05:50:04.642Z"
   },
   {
    "duration": 26,
    "start_time": "2022-02-12T05:50:08.211Z"
   },
   {
    "duration": 25,
    "start_time": "2022-02-12T05:52:32.757Z"
   },
   {
    "duration": 172,
    "start_time": "2022-02-12T05:57:29.419Z"
   },
   {
    "duration": 341,
    "start_time": "2022-02-12T05:57:37.125Z"
   },
   {
    "duration": 26,
    "start_time": "2022-02-12T05:57:51.098Z"
   },
   {
    "duration": 42,
    "start_time": "2022-02-12T05:57:54.202Z"
   },
   {
    "duration": 27,
    "start_time": "2022-02-12T05:58:06.467Z"
   },
   {
    "duration": 43,
    "start_time": "2022-02-12T05:58:31.157Z"
   },
   {
    "duration": 37,
    "start_time": "2022-02-12T06:02:44.408Z"
   },
   {
    "duration": 38,
    "start_time": "2022-02-12T06:06:51.984Z"
   },
   {
    "duration": 25,
    "start_time": "2022-02-12T06:07:09.087Z"
   },
   {
    "duration": 25,
    "start_time": "2022-02-12T06:07:23.631Z"
   },
   {
    "duration": 343,
    "start_time": "2022-02-12T06:09:08.869Z"
   },
   {
    "duration": 302,
    "start_time": "2022-02-12T06:09:44.601Z"
   },
   {
    "duration": 310,
    "start_time": "2022-02-12T06:09:53.873Z"
   },
   {
    "duration": 359,
    "start_time": "2022-02-12T06:10:14.055Z"
   },
   {
    "duration": 33,
    "start_time": "2022-02-12T06:11:41.349Z"
   },
   {
    "duration": 33,
    "start_time": "2022-02-12T06:12:22.634Z"
   },
   {
    "duration": 573,
    "start_time": "2022-02-12T06:13:00.088Z"
   },
   {
    "duration": 27,
    "start_time": "2022-02-12T06:13:31.270Z"
   },
   {
    "duration": 311,
    "start_time": "2022-02-12T06:14:13.103Z"
   },
   {
    "duration": 300,
    "start_time": "2022-02-12T06:14:53.412Z"
   },
   {
    "duration": 380,
    "start_time": "2022-02-12T06:15:24.925Z"
   },
   {
    "duration": 40,
    "start_time": "2022-02-12T06:15:38.122Z"
   },
   {
    "duration": 344,
    "start_time": "2022-02-12T06:16:35.459Z"
   },
   {
    "duration": 30,
    "start_time": "2022-02-12T06:18:02.140Z"
   },
   {
    "duration": 25,
    "start_time": "2022-02-12T06:18:27.028Z"
   },
   {
    "duration": 26,
    "start_time": "2022-02-12T06:18:37.774Z"
   },
   {
    "duration": 316,
    "start_time": "2022-02-12T06:20:29.644Z"
   },
   {
    "duration": 28,
    "start_time": "2022-02-12T06:21:22.727Z"
   },
   {
    "duration": 37,
    "start_time": "2022-02-12T06:21:36.528Z"
   },
   {
    "duration": 37,
    "start_time": "2022-02-12T06:21:58.833Z"
   },
   {
    "duration": 210,
    "start_time": "2022-02-12T06:25:38.206Z"
   },
   {
    "duration": 35,
    "start_time": "2022-02-12T06:25:50.122Z"
   },
   {
    "duration": 38,
    "start_time": "2022-02-12T06:26:53.600Z"
   },
   {
    "duration": 36,
    "start_time": "2022-02-12T06:27:07.069Z"
   },
   {
    "duration": 39,
    "start_time": "2022-02-12T06:27:25.970Z"
   },
   {
    "duration": 455,
    "start_time": "2022-02-12T06:27:50.805Z"
   },
   {
    "duration": 38,
    "start_time": "2022-02-12T06:27:54.856Z"
   },
   {
    "duration": 44,
    "start_time": "2022-02-12T06:30:50.896Z"
   },
   {
    "duration": 47,
    "start_time": "2022-02-12T06:31:33.704Z"
   },
   {
    "duration": 35,
    "start_time": "2022-02-12T06:32:15.642Z"
   },
   {
    "duration": 22,
    "start_time": "2022-02-12T06:33:07.891Z"
   },
   {
    "duration": 28,
    "start_time": "2022-02-12T06:33:25.999Z"
   },
   {
    "duration": 63,
    "start_time": "2022-02-12T06:33:45.445Z"
   },
   {
    "duration": 23,
    "start_time": "2022-02-12T06:33:49.950Z"
   },
   {
    "duration": 35,
    "start_time": "2022-02-12T06:35:35.970Z"
   },
   {
    "duration": 36,
    "start_time": "2022-02-12T06:36:24.485Z"
   },
   {
    "duration": 424,
    "start_time": "2022-02-12T06:36:40.758Z"
   },
   {
    "duration": 42,
    "start_time": "2022-02-12T06:36:51.145Z"
   },
   {
    "duration": 41,
    "start_time": "2022-02-12T06:37:29.840Z"
   },
   {
    "duration": 30,
    "start_time": "2022-02-12T06:37:31.925Z"
   },
   {
    "duration": 43,
    "start_time": "2022-02-12T06:37:38.598Z"
   },
   {
    "duration": 35,
    "start_time": "2022-02-12T06:37:59.469Z"
   },
   {
    "duration": 37,
    "start_time": "2022-02-12T06:39:38.523Z"
   },
   {
    "duration": 350,
    "start_time": "2022-02-12T06:40:16.443Z"
   },
   {
    "duration": 32,
    "start_time": "2022-02-12T06:41:06.592Z"
   },
   {
    "duration": 40,
    "start_time": "2022-02-12T06:42:11.308Z"
   },
   {
    "duration": 765,
    "start_time": "2022-02-12T06:45:00.969Z"
   },
   {
    "duration": 180,
    "start_time": "2022-02-12T06:45:01.737Z"
   },
   {
    "duration": 33,
    "start_time": "2022-02-12T06:45:01.920Z"
   },
   {
    "duration": 4,
    "start_time": "2022-02-12T06:45:01.957Z"
   },
   {
    "duration": 8,
    "start_time": "2022-02-12T06:45:01.964Z"
   },
   {
    "duration": 69,
    "start_time": "2022-02-12T06:45:01.975Z"
   },
   {
    "duration": 5,
    "start_time": "2022-02-12T06:45:02.047Z"
   },
   {
    "duration": 37,
    "start_time": "2022-02-12T06:45:02.056Z"
   },
   {
    "duration": 54,
    "start_time": "2022-02-12T06:45:02.096Z"
   },
   {
    "duration": 29,
    "start_time": "2022-02-12T06:45:02.152Z"
   },
   {
    "duration": 108,
    "start_time": "2022-02-12T06:45:02.184Z"
   },
   {
    "duration": 117,
    "start_time": "2022-02-12T06:45:02.295Z"
   },
   {
    "duration": 84,
    "start_time": "2022-02-12T06:45:02.415Z"
   },
   {
    "duration": 77,
    "start_time": "2022-02-12T06:45:02.502Z"
   },
   {
    "duration": 4,
    "start_time": "2022-02-12T06:45:02.582Z"
   },
   {
    "duration": 41,
    "start_time": "2022-02-12T06:45:02.588Z"
   },
   {
    "duration": 69,
    "start_time": "2022-02-12T06:45:02.632Z"
   },
   {
    "duration": 100,
    "start_time": "2022-02-12T06:45:02.704Z"
   },
   {
    "duration": 29,
    "start_time": "2022-02-12T06:45:02.806Z"
   },
   {
    "duration": 6,
    "start_time": "2022-02-12T06:45:02.838Z"
   },
   {
    "duration": 24,
    "start_time": "2022-02-12T06:45:02.848Z"
   },
   {
    "duration": 17,
    "start_time": "2022-02-12T06:45:02.874Z"
   },
   {
    "duration": 50,
    "start_time": "2022-02-12T06:45:02.896Z"
   },
   {
    "duration": 17,
    "start_time": "2022-02-12T06:45:02.949Z"
   },
   {
    "duration": 18,
    "start_time": "2022-02-12T06:45:02.969Z"
   },
   {
    "duration": 41,
    "start_time": "2022-02-12T06:45:02.990Z"
   },
   {
    "duration": 26,
    "start_time": "2022-02-12T06:45:03.033Z"
   },
   {
    "duration": 15,
    "start_time": "2022-02-12T06:45:03.061Z"
   },
   {
    "duration": 11,
    "start_time": "2022-02-12T06:45:03.078Z"
   },
   {
    "duration": 5,
    "start_time": "2022-02-12T06:45:03.091Z"
   },
   {
    "duration": 79,
    "start_time": "2022-02-12T06:45:03.099Z"
   },
   {
    "duration": 63,
    "start_time": "2022-02-12T06:45:03.181Z"
   },
   {
    "duration": 34,
    "start_time": "2022-02-12T06:45:03.247Z"
   },
   {
    "duration": 72,
    "start_time": "2022-02-12T06:45:03.284Z"
   },
   {
    "duration": 3,
    "start_time": "2022-02-12T06:45:03.361Z"
   },
   {
    "duration": 4,
    "start_time": "2022-02-12T06:45:03.367Z"
   },
   {
    "duration": 4,
    "start_time": "2022-02-12T06:45:03.374Z"
   },
   {
    "duration": 4,
    "start_time": "2022-02-12T06:45:03.381Z"
   },
   {
    "duration": 34,
    "start_time": "2022-02-12T06:45:18.336Z"
   },
   {
    "duration": 927,
    "start_time": "2022-02-12T06:48:14.015Z"
   },
   {
    "duration": 245,
    "start_time": "2022-02-12T06:48:14.945Z"
   },
   {
    "duration": 52,
    "start_time": "2022-02-12T06:48:15.195Z"
   },
   {
    "duration": 4,
    "start_time": "2022-02-12T06:48:15.252Z"
   },
   {
    "duration": 8,
    "start_time": "2022-02-12T06:48:15.259Z"
   },
   {
    "duration": 61,
    "start_time": "2022-02-12T06:48:15.270Z"
   },
   {
    "duration": 7,
    "start_time": "2022-02-12T06:48:15.334Z"
   },
   {
    "duration": 33,
    "start_time": "2022-02-12T06:48:15.345Z"
   },
   {
    "duration": 54,
    "start_time": "2022-02-12T06:48:15.382Z"
   },
   {
    "duration": 28,
    "start_time": "2022-02-12T06:48:15.439Z"
   },
   {
    "duration": 127,
    "start_time": "2022-02-12T06:48:15.470Z"
   },
   {
    "duration": 129,
    "start_time": "2022-02-12T06:48:15.600Z"
   },
   {
    "duration": 98,
    "start_time": "2022-02-12T06:48:15.732Z"
   },
   {
    "duration": 65,
    "start_time": "2022-02-12T06:48:15.832Z"
   },
   {
    "duration": 5,
    "start_time": "2022-02-12T06:48:15.900Z"
   },
   {
    "duration": 16,
    "start_time": "2022-02-12T06:48:15.922Z"
   },
   {
    "duration": 116,
    "start_time": "2022-02-12T06:48:15.941Z"
   },
   {
    "duration": 82,
    "start_time": "2022-02-12T06:48:16.060Z"
   },
   {
    "duration": 13,
    "start_time": "2022-02-12T06:48:16.145Z"
   },
   {
    "duration": 5,
    "start_time": "2022-02-12T06:48:16.160Z"
   },
   {
    "duration": 32,
    "start_time": "2022-02-12T06:48:16.167Z"
   },
   {
    "duration": 42,
    "start_time": "2022-02-12T06:48:16.201Z"
   },
   {
    "duration": 19,
    "start_time": "2022-02-12T06:48:16.248Z"
   },
   {
    "duration": 17,
    "start_time": "2022-02-12T06:48:16.271Z"
   },
   {
    "duration": 47,
    "start_time": "2022-02-12T06:48:16.291Z"
   },
   {
    "duration": 17,
    "start_time": "2022-02-12T06:48:16.341Z"
   },
   {
    "duration": 11,
    "start_time": "2022-02-12T06:48:16.361Z"
   },
   {
    "duration": 16,
    "start_time": "2022-02-12T06:48:16.375Z"
   },
   {
    "duration": 51,
    "start_time": "2022-02-12T06:48:16.393Z"
   },
   {
    "duration": 5,
    "start_time": "2022-02-12T06:48:16.447Z"
   },
   {
    "duration": 37,
    "start_time": "2022-02-12T06:48:16.454Z"
   },
   {
    "duration": 59,
    "start_time": "2022-02-12T06:48:16.494Z"
   },
   {
    "duration": 40,
    "start_time": "2022-02-12T06:48:16.555Z"
   },
   {
    "duration": 57,
    "start_time": "2022-02-12T06:48:16.597Z"
   },
   {
    "duration": 3,
    "start_time": "2022-02-12T06:48:16.657Z"
   },
   {
    "duration": 10,
    "start_time": "2022-02-12T06:48:16.662Z"
   },
   {
    "duration": 5,
    "start_time": "2022-02-12T06:48:16.674Z"
   },
   {
    "duration": 9,
    "start_time": "2022-02-12T06:48:16.728Z"
   },
   {
    "duration": 33,
    "start_time": "2022-02-12T06:50:30.236Z"
   },
   {
    "duration": 426,
    "start_time": "2022-02-12T06:51:11.890Z"
   },
   {
    "duration": 38,
    "start_time": "2022-02-12T06:51:21.896Z"
   },
   {
    "duration": 34,
    "start_time": "2022-02-12T06:51:39.744Z"
   },
   {
    "duration": 30,
    "start_time": "2022-02-12T06:51:54.165Z"
   },
   {
    "duration": 728,
    "start_time": "2022-02-12T06:59:14.680Z"
   },
   {
    "duration": 185,
    "start_time": "2022-02-12T06:59:15.411Z"
   },
   {
    "duration": 31,
    "start_time": "2022-02-12T06:59:15.599Z"
   },
   {
    "duration": 14,
    "start_time": "2022-02-12T06:59:15.633Z"
   },
   {
    "duration": 12,
    "start_time": "2022-02-12T06:59:15.650Z"
   },
   {
    "duration": 38,
    "start_time": "2022-02-12T06:59:15.664Z"
   },
   {
    "duration": 19,
    "start_time": "2022-02-12T06:59:15.705Z"
   },
   {
    "duration": 45,
    "start_time": "2022-02-12T06:59:15.729Z"
   },
   {
    "duration": 22,
    "start_time": "2022-02-12T06:59:15.777Z"
   },
   {
    "duration": 34,
    "start_time": "2022-02-12T06:59:15.824Z"
   },
   {
    "duration": 106,
    "start_time": "2022-02-12T06:59:15.861Z"
   },
   {
    "duration": 178,
    "start_time": "2022-02-12T06:59:15.971Z"
   },
   {
    "duration": 95,
    "start_time": "2022-02-12T06:59:16.151Z"
   },
   {
    "duration": 57,
    "start_time": "2022-02-12T06:59:16.248Z"
   },
   {
    "duration": 6,
    "start_time": "2022-02-12T06:59:16.323Z"
   },
   {
    "duration": 25,
    "start_time": "2022-02-12T06:59:16.335Z"
   },
   {
    "duration": 67,
    "start_time": "2022-02-12T06:59:16.363Z"
   },
   {
    "duration": 102,
    "start_time": "2022-02-12T06:59:16.433Z"
   },
   {
    "duration": 16,
    "start_time": "2022-02-12T06:59:16.537Z"
   },
   {
    "duration": 5,
    "start_time": "2022-02-12T06:59:16.555Z"
   },
   {
    "duration": 22,
    "start_time": "2022-02-12T06:59:16.562Z"
   },
   {
    "duration": 36,
    "start_time": "2022-02-12T06:59:16.587Z"
   },
   {
    "duration": 18,
    "start_time": "2022-02-12T06:59:16.636Z"
   },
   {
    "duration": 16,
    "start_time": "2022-02-12T06:59:16.656Z"
   },
   {
    "duration": 19,
    "start_time": "2022-02-12T06:59:16.674Z"
   },
   {
    "duration": 49,
    "start_time": "2022-02-12T06:59:16.695Z"
   },
   {
    "duration": 16,
    "start_time": "2022-02-12T06:59:16.747Z"
   },
   {
    "duration": 16,
    "start_time": "2022-02-12T06:59:16.766Z"
   },
   {
    "duration": 43,
    "start_time": "2022-02-12T06:59:16.784Z"
   },
   {
    "duration": 6,
    "start_time": "2022-02-12T06:59:16.834Z"
   },
   {
    "duration": 61,
    "start_time": "2022-02-12T06:59:16.843Z"
   },
   {
    "duration": 53,
    "start_time": "2022-02-12T06:59:16.907Z"
   },
   {
    "duration": 35,
    "start_time": "2022-02-12T06:59:16.963Z"
   },
   {
    "duration": 65,
    "start_time": "2022-02-12T06:59:17.000Z"
   },
   {
    "duration": 3,
    "start_time": "2022-02-12T06:59:17.067Z"
   },
   {
    "duration": 6,
    "start_time": "2022-02-12T06:59:17.072Z"
   },
   {
    "duration": 6,
    "start_time": "2022-02-12T06:59:17.081Z"
   },
   {
    "duration": 33,
    "start_time": "2022-02-12T06:59:17.090Z"
   },
   {
    "duration": 40,
    "start_time": "2022-02-12T07:01:55.409Z"
   },
   {
    "duration": 44,
    "start_time": "2022-02-12T07:06:31.422Z"
   },
   {
    "duration": 776,
    "start_time": "2022-02-12T07:56:16.536Z"
   },
   {
    "duration": 188,
    "start_time": "2022-02-12T07:56:17.315Z"
   },
   {
    "duration": 34,
    "start_time": "2022-02-12T07:56:17.507Z"
   },
   {
    "duration": 4,
    "start_time": "2022-02-12T07:56:17.544Z"
   },
   {
    "duration": 7,
    "start_time": "2022-02-12T07:56:17.550Z"
   },
   {
    "duration": 70,
    "start_time": "2022-02-12T07:56:17.560Z"
   },
   {
    "duration": 5,
    "start_time": "2022-02-12T07:56:17.633Z"
   },
   {
    "duration": 43,
    "start_time": "2022-02-12T07:56:17.641Z"
   },
   {
    "duration": 48,
    "start_time": "2022-02-12T07:56:17.691Z"
   },
   {
    "duration": 29,
    "start_time": "2022-02-12T07:56:17.743Z"
   },
   {
    "duration": 102,
    "start_time": "2022-02-12T07:56:17.774Z"
   },
   {
    "duration": 128,
    "start_time": "2022-02-12T07:56:17.879Z"
   },
   {
    "duration": 89,
    "start_time": "2022-02-12T07:56:18.010Z"
   },
   {
    "duration": 81,
    "start_time": "2022-02-12T07:56:18.101Z"
   },
   {
    "duration": 5,
    "start_time": "2022-02-12T07:56:18.185Z"
   },
   {
    "duration": 42,
    "start_time": "2022-02-12T07:56:18.193Z"
   },
   {
    "duration": 82,
    "start_time": "2022-02-12T07:56:18.241Z"
   },
   {
    "duration": 80,
    "start_time": "2022-02-12T07:56:18.328Z"
   },
   {
    "duration": 17,
    "start_time": "2022-02-12T07:56:18.429Z"
   },
   {
    "duration": 6,
    "start_time": "2022-02-12T07:56:18.449Z"
   },
   {
    "duration": 23,
    "start_time": "2022-02-12T07:56:18.457Z"
   },
   {
    "duration": 52,
    "start_time": "2022-02-12T07:56:18.484Z"
   },
   {
    "duration": 22,
    "start_time": "2022-02-12T07:56:18.540Z"
   },
   {
    "duration": 18,
    "start_time": "2022-02-12T07:56:18.564Z"
   },
   {
    "duration": 48,
    "start_time": "2022-02-12T07:56:18.584Z"
   },
   {
    "duration": 20,
    "start_time": "2022-02-12T07:56:18.634Z"
   },
   {
    "duration": 12,
    "start_time": "2022-02-12T07:56:18.659Z"
   },
   {
    "duration": 15,
    "start_time": "2022-02-12T07:56:18.674Z"
   },
   {
    "duration": 38,
    "start_time": "2022-02-12T07:56:18.692Z"
   },
   {
    "duration": 8,
    "start_time": "2022-02-12T07:56:18.737Z"
   },
   {
    "duration": 36,
    "start_time": "2022-02-12T07:56:18.747Z"
   },
   {
    "duration": 62,
    "start_time": "2022-02-12T07:56:18.785Z"
   },
   {
    "duration": 43,
    "start_time": "2022-02-12T07:56:18.850Z"
   },
   {
    "duration": 63,
    "start_time": "2022-02-12T07:56:18.896Z"
   },
   {
    "duration": 3,
    "start_time": "2022-02-12T07:56:18.962Z"
   },
   {
    "duration": 6,
    "start_time": "2022-02-12T07:56:18.967Z"
   },
   {
    "duration": 5,
    "start_time": "2022-02-12T07:56:18.975Z"
   },
   {
    "duration": 6,
    "start_time": "2022-02-12T07:56:18.982Z"
   },
   {
    "duration": 590,
    "start_time": "2022-02-12T18:05:11.065Z"
   },
   {
    "duration": 117,
    "start_time": "2022-02-12T18:05:11.657Z"
   },
   {
    "duration": 15,
    "start_time": "2022-02-12T18:05:11.775Z"
   },
   {
    "duration": 5,
    "start_time": "2022-02-12T18:05:11.792Z"
   },
   {
    "duration": 8,
    "start_time": "2022-02-12T18:05:11.798Z"
   },
   {
    "duration": 24,
    "start_time": "2022-02-12T18:05:11.807Z"
   },
   {
    "duration": 3,
    "start_time": "2022-02-12T18:05:11.833Z"
   },
   {
    "duration": 21,
    "start_time": "2022-02-12T18:05:11.838Z"
   },
   {
    "duration": 16,
    "start_time": "2022-02-12T18:05:11.862Z"
   },
   {
    "duration": 18,
    "start_time": "2022-02-12T18:05:11.880Z"
   },
   {
    "duration": 71,
    "start_time": "2022-02-12T18:05:11.899Z"
   },
   {
    "duration": 67,
    "start_time": "2022-02-12T18:05:11.971Z"
   },
   {
    "duration": 45,
    "start_time": "2022-02-12T18:05:12.039Z"
   },
   {
    "duration": 43,
    "start_time": "2022-02-12T18:05:12.086Z"
   },
   {
    "duration": 2,
    "start_time": "2022-02-12T18:05:12.130Z"
   },
   {
    "duration": 9,
    "start_time": "2022-02-12T18:05:12.134Z"
   },
   {
    "duration": 34,
    "start_time": "2022-02-12T18:05:12.144Z"
   },
   {
    "duration": 68,
    "start_time": "2022-02-12T18:05:12.179Z"
   },
   {
    "duration": 7,
    "start_time": "2022-02-12T18:05:12.249Z"
   },
   {
    "duration": 3,
    "start_time": "2022-02-12T18:05:12.258Z"
   },
   {
    "duration": 15,
    "start_time": "2022-02-12T18:05:12.262Z"
   },
   {
    "duration": 10,
    "start_time": "2022-02-12T18:05:12.278Z"
   },
   {
    "duration": 12,
    "start_time": "2022-02-12T18:05:12.291Z"
   },
   {
    "duration": 11,
    "start_time": "2022-02-12T18:05:12.326Z"
   },
   {
    "duration": 12,
    "start_time": "2022-02-12T18:05:12.339Z"
   },
   {
    "duration": 11,
    "start_time": "2022-02-12T18:05:12.352Z"
   },
   {
    "duration": 6,
    "start_time": "2022-02-12T18:05:12.365Z"
   },
   {
    "duration": 10,
    "start_time": "2022-02-12T18:05:12.373Z"
   },
   {
    "duration": 9,
    "start_time": "2022-02-12T18:05:12.385Z"
   },
   {
    "duration": 3,
    "start_time": "2022-02-12T18:05:12.395Z"
   },
   {
    "duration": 21,
    "start_time": "2022-02-12T18:05:12.427Z"
   },
   {
    "duration": 15,
    "start_time": "2022-02-12T18:05:12.450Z"
   },
   {
    "duration": 19,
    "start_time": "2022-02-12T18:05:12.467Z"
   },
   {
    "duration": 46,
    "start_time": "2022-02-12T18:05:12.487Z"
   },
   {
    "duration": 2,
    "start_time": "2022-02-12T18:05:12.534Z"
   },
   {
    "duration": 5,
    "start_time": "2022-02-12T18:05:12.538Z"
   },
   {
    "duration": 4,
    "start_time": "2022-02-12T18:05:12.544Z"
   },
   {
    "duration": 5,
    "start_time": "2022-02-12T18:05:12.549Z"
   },
   {
    "duration": 477,
    "start_time": "2022-02-12T18:05:34.851Z"
   },
   {
    "duration": 312,
    "start_time": "2022-02-12T18:06:22.432Z"
   },
   {
    "duration": 3,
    "start_time": "2022-02-12T18:06:28.240Z"
   },
   {
    "duration": 3,
    "start_time": "2022-02-12T18:07:31.045Z"
   },
   {
    "duration": 345,
    "start_time": "2022-02-12T18:07:38.820Z"
   },
   {
    "duration": 380,
    "start_time": "2022-02-12T18:13:37.880Z"
   },
   {
    "duration": 344,
    "start_time": "2022-02-12T18:15:11.777Z"
   },
   {
    "duration": 8,
    "start_time": "2022-02-12T18:15:47.994Z"
   },
   {
    "duration": 10,
    "start_time": "2022-02-12T18:16:11.495Z"
   },
   {
    "duration": 4,
    "start_time": "2022-02-12T18:16:39.771Z"
   },
   {
    "duration": 5,
    "start_time": "2022-02-12T18:30:09.616Z"
   },
   {
    "duration": 4,
    "start_time": "2022-02-12T18:30:38.055Z"
   },
   {
    "duration": 6,
    "start_time": "2022-02-12T18:34:54.891Z"
   },
   {
    "duration": 7,
    "start_time": "2022-02-12T18:35:16.865Z"
   },
   {
    "duration": 2989,
    "start_time": "2022-02-12T18:35:26.689Z"
   },
   {
    "duration": 667,
    "start_time": "2022-02-12T18:35:43.981Z"
   },
   {
    "duration": 6,
    "start_time": "2022-02-12T18:35:51.530Z"
   },
   {
    "duration": 257,
    "start_time": "2022-02-12T18:36:26.408Z"
   },
   {
    "duration": 304,
    "start_time": "2022-02-12T18:36:32.757Z"
   },
   {
    "duration": 108,
    "start_time": "2022-02-12T18:36:46.726Z"
   },
   {
    "duration": 113,
    "start_time": "2022-02-12T18:36:52.303Z"
   },
   {
    "duration": 7,
    "start_time": "2022-02-12T18:37:07.395Z"
   },
   {
    "duration": 7,
    "start_time": "2022-02-12T18:37:43.014Z"
   },
   {
    "duration": 6,
    "start_time": "2022-02-12T20:00:10.095Z"
   },
   {
    "duration": 8,
    "start_time": "2022-02-12T20:00:16.044Z"
   },
   {
    "duration": 10,
    "start_time": "2022-02-12T20:00:20.443Z"
   },
   {
    "duration": 6,
    "start_time": "2022-02-12T20:00:25.569Z"
   },
   {
    "duration": 8,
    "start_time": "2022-02-12T20:00:44.623Z"
   },
   {
    "duration": 330,
    "start_time": "2022-02-12T20:01:02.986Z"
   },
   {
    "duration": 1365,
    "start_time": "2022-02-12T20:01:15.266Z"
   },
   {
    "duration": 6,
    "start_time": "2022-02-12T20:01:27.503Z"
   },
   {
    "duration": 7,
    "start_time": "2022-02-12T20:01:45.156Z"
   },
   {
    "duration": 6,
    "start_time": "2022-02-12T20:02:06.366Z"
   },
   {
    "duration": 6,
    "start_time": "2022-02-12T20:02:14.886Z"
   },
   {
    "duration": 6,
    "start_time": "2022-02-12T20:02:21.518Z"
   },
   {
    "duration": 6,
    "start_time": "2022-02-12T20:02:26.271Z"
   },
   {
    "duration": 6,
    "start_time": "2022-02-12T20:02:30.509Z"
   },
   {
    "duration": 11,
    "start_time": "2022-02-12T20:09:43.894Z"
   },
   {
    "duration": 369,
    "start_time": "2022-02-12T20:10:55.988Z"
   },
   {
    "duration": 11,
    "start_time": "2022-02-12T20:11:01.898Z"
   },
   {
    "duration": 10,
    "start_time": "2022-02-12T20:11:55.649Z"
   },
   {
    "duration": 13,
    "start_time": "2022-02-12T20:17:33.736Z"
   },
   {
    "duration": 18,
    "start_time": "2022-02-12T20:17:51.698Z"
   },
   {
    "duration": 19,
    "start_time": "2022-02-12T20:19:09.773Z"
   },
   {
    "duration": 18,
    "start_time": "2022-02-12T20:19:20.763Z"
   },
   {
    "duration": 18,
    "start_time": "2022-02-12T20:19:53.611Z"
   },
   {
    "duration": 5,
    "start_time": "2022-02-12T20:19:54.760Z"
   },
   {
    "duration": 18,
    "start_time": "2022-02-12T20:20:01.512Z"
   },
   {
    "duration": 18,
    "start_time": "2022-02-12T20:20:12.654Z"
   },
   {
    "duration": 19,
    "start_time": "2022-02-12T20:20:35.818Z"
   },
   {
    "duration": 21,
    "start_time": "2022-02-12T20:21:11.839Z"
   },
   {
    "duration": 21,
    "start_time": "2022-02-12T20:21:28.194Z"
   },
   {
    "duration": 18,
    "start_time": "2022-02-12T20:22:29.058Z"
   },
   {
    "duration": 18,
    "start_time": "2022-02-12T20:22:44.538Z"
   },
   {
    "duration": 18,
    "start_time": "2022-02-12T20:23:26.561Z"
   },
   {
    "duration": 17,
    "start_time": "2022-02-12T20:24:12.811Z"
   },
   {
    "duration": 30,
    "start_time": "2022-02-12T20:24:26.338Z"
   },
   {
    "duration": 27,
    "start_time": "2022-02-12T20:24:34.165Z"
   },
   {
    "duration": 320,
    "start_time": "2022-02-12T20:25:31.567Z"
   },
   {
    "duration": 16,
    "start_time": "2022-02-12T20:25:45.065Z"
   },
   {
    "duration": 15,
    "start_time": "2022-02-12T20:26:03.643Z"
   },
   {
    "duration": 15,
    "start_time": "2022-02-12T20:26:57.232Z"
   },
   {
    "duration": 23,
    "start_time": "2022-02-12T20:27:48.738Z"
   },
   {
    "duration": 32,
    "start_time": "2022-02-12T20:28:19.256Z"
   },
   {
    "duration": 39,
    "start_time": "2022-02-12T20:28:43.986Z"
   },
   {
    "duration": 7,
    "start_time": "2022-02-12T20:28:47.226Z"
   },
   {
    "duration": 596,
    "start_time": "2022-02-12T20:29:00.819Z"
   },
   {
    "duration": 125,
    "start_time": "2022-02-12T20:29:01.417Z"
   },
   {
    "duration": 14,
    "start_time": "2022-02-12T20:29:01.544Z"
   },
   {
    "duration": 4,
    "start_time": "2022-02-12T20:29:01.560Z"
   },
   {
    "duration": 5,
    "start_time": "2022-02-12T20:29:01.566Z"
   },
   {
    "duration": 20,
    "start_time": "2022-02-12T20:29:01.573Z"
   },
   {
    "duration": 3,
    "start_time": "2022-02-12T20:29:01.594Z"
   },
   {
    "duration": 42,
    "start_time": "2022-02-12T20:29:01.599Z"
   },
   {
    "duration": 17,
    "start_time": "2022-02-12T20:29:01.643Z"
   },
   {
    "duration": 19,
    "start_time": "2022-02-12T20:29:01.661Z"
   },
   {
    "duration": 72,
    "start_time": "2022-02-12T20:29:01.681Z"
   },
   {
    "duration": 64,
    "start_time": "2022-02-12T20:29:01.754Z"
   },
   {
    "duration": 54,
    "start_time": "2022-02-12T20:29:01.827Z"
   },
   {
    "duration": 48,
    "start_time": "2022-02-12T20:29:01.883Z"
   },
   {
    "duration": 2,
    "start_time": "2022-02-12T20:29:01.933Z"
   },
   {
    "duration": 13,
    "start_time": "2022-02-12T20:29:01.936Z"
   },
   {
    "duration": 37,
    "start_time": "2022-02-12T20:29:01.950Z"
   },
   {
    "duration": 72,
    "start_time": "2022-02-12T20:29:01.988Z"
   },
   {
    "duration": 8,
    "start_time": "2022-02-12T20:29:02.062Z"
   },
   {
    "duration": 4,
    "start_time": "2022-02-12T20:29:02.071Z"
   },
   {
    "duration": 19,
    "start_time": "2022-02-12T20:29:02.076Z"
   },
   {
    "duration": 12,
    "start_time": "2022-02-12T20:29:02.097Z"
   },
   {
    "duration": 14,
    "start_time": "2022-02-12T20:29:02.129Z"
   },
   {
    "duration": 12,
    "start_time": "2022-02-12T20:29:02.145Z"
   },
   {
    "duration": 14,
    "start_time": "2022-02-12T20:29:02.159Z"
   },
   {
    "duration": 13,
    "start_time": "2022-02-12T20:29:02.175Z"
   },
   {
    "duration": 39,
    "start_time": "2022-02-12T20:29:02.189Z"
   },
   {
    "duration": 9,
    "start_time": "2022-02-12T20:29:02.229Z"
   },
   {
    "duration": 7,
    "start_time": "2022-02-12T20:29:02.240Z"
   },
   {
    "duration": 3,
    "start_time": "2022-02-12T20:29:02.249Z"
   },
   {
    "duration": 23,
    "start_time": "2022-02-12T20:29:02.254Z"
   },
   {
    "duration": 16,
    "start_time": "2022-02-12T20:29:02.279Z"
   },
   {
    "duration": 44,
    "start_time": "2022-02-12T20:29:02.296Z"
   },
   {
    "duration": 22,
    "start_time": "2022-02-12T20:29:02.341Z"
   },
   {
    "duration": 14,
    "start_time": "2022-02-12T20:29:02.365Z"
   },
   {
    "duration": 5,
    "start_time": "2022-02-12T20:29:02.380Z"
   },
   {
    "duration": 51,
    "start_time": "2022-02-12T20:29:02.387Z"
   },
   {
    "duration": 5,
    "start_time": "2022-02-12T20:29:02.439Z"
   },
   {
    "duration": 23,
    "start_time": "2022-02-12T20:29:46.727Z"
   },
   {
    "duration": 370,
    "start_time": "2022-02-12T20:31:12.478Z"
   },
   {
    "duration": 24,
    "start_time": "2022-02-12T20:31:18.813Z"
   },
   {
    "duration": 723,
    "start_time": "2022-02-13T04:51:45.035Z"
   },
   {
    "duration": 838,
    "start_time": "2022-02-13T04:52:10.047Z"
   },
   {
    "duration": 184,
    "start_time": "2022-02-13T04:52:10.888Z"
   },
   {
    "duration": 26,
    "start_time": "2022-02-13T04:52:11.075Z"
   },
   {
    "duration": 21,
    "start_time": "2022-02-13T04:52:11.105Z"
   },
   {
    "duration": 15,
    "start_time": "2022-02-13T04:52:11.128Z"
   },
   {
    "duration": 48,
    "start_time": "2022-02-13T04:52:11.147Z"
   },
   {
    "duration": 26,
    "start_time": "2022-02-13T04:52:11.199Z"
   },
   {
    "duration": 41,
    "start_time": "2022-02-13T04:52:11.230Z"
   },
   {
    "duration": 23,
    "start_time": "2022-02-13T04:52:11.274Z"
   },
   {
    "duration": 53,
    "start_time": "2022-02-13T04:52:11.300Z"
   },
   {
    "duration": 112,
    "start_time": "2022-02-13T04:52:11.356Z"
   },
   {
    "duration": 118,
    "start_time": "2022-02-13T04:52:11.471Z"
   },
   {
    "duration": 96,
    "start_time": "2022-02-13T04:52:11.592Z"
   },
   {
    "duration": 70,
    "start_time": "2022-02-13T04:52:11.691Z"
   },
   {
    "duration": 4,
    "start_time": "2022-02-13T04:52:11.764Z"
   },
   {
    "duration": 17,
    "start_time": "2022-02-13T04:52:11.771Z"
   },
   {
    "duration": 82,
    "start_time": "2022-02-13T04:52:11.791Z"
   },
   {
    "duration": 103,
    "start_time": "2022-02-13T04:52:11.876Z"
   },
   {
    "duration": 15,
    "start_time": "2022-02-13T04:52:11.982Z"
   },
   {
    "duration": 26,
    "start_time": "2022-02-13T04:52:12.000Z"
   },
   {
    "duration": 21,
    "start_time": "2022-02-13T04:52:12.040Z"
   },
   {
    "duration": 16,
    "start_time": "2022-02-13T04:52:12.064Z"
   },
   {
    "duration": 43,
    "start_time": "2022-02-13T04:52:12.085Z"
   },
   {
    "duration": 19,
    "start_time": "2022-02-13T04:52:12.131Z"
   },
   {
    "duration": 21,
    "start_time": "2022-02-13T04:52:12.152Z"
   },
   {
    "duration": 50,
    "start_time": "2022-02-13T04:52:12.175Z"
   },
   {
    "duration": 14,
    "start_time": "2022-02-13T04:52:12.228Z"
   },
   {
    "duration": 27,
    "start_time": "2022-02-13T04:52:12.245Z"
   },
   {
    "duration": 11,
    "start_time": "2022-02-13T04:52:12.274Z"
   },
   {
    "duration": 6,
    "start_time": "2022-02-13T04:52:12.287Z"
   },
   {
    "duration": 65,
    "start_time": "2022-02-13T04:52:12.296Z"
   },
   {
    "duration": 28,
    "start_time": "2022-02-13T04:52:12.364Z"
   },
   {
    "duration": 57,
    "start_time": "2022-02-13T04:52:12.394Z"
   },
   {
    "duration": 71,
    "start_time": "2022-02-13T04:52:12.454Z"
   },
   {
    "duration": 20,
    "start_time": "2022-02-13T04:52:12.527Z"
   },
   {
    "duration": 10,
    "start_time": "2022-02-13T04:52:12.550Z"
   },
   {
    "duration": 60,
    "start_time": "2022-02-13T04:52:12.563Z"
   },
   {
    "duration": 12,
    "start_time": "2022-02-13T04:52:12.626Z"
   },
   {
    "duration": 15,
    "start_time": "2022-02-13T04:54:10.505Z"
   },
   {
    "duration": 1044,
    "start_time": "2022-02-13T05:00:20.412Z"
   },
   {
    "duration": 447,
    "start_time": "2022-02-13T05:00:21.461Z"
   },
   {
    "duration": 31,
    "start_time": "2022-02-13T05:00:21.911Z"
   },
   {
    "duration": 13,
    "start_time": "2022-02-13T05:00:21.946Z"
   },
   {
    "duration": 16,
    "start_time": "2022-02-13T05:00:21.961Z"
   },
   {
    "duration": 30,
    "start_time": "2022-02-13T05:00:21.980Z"
   },
   {
    "duration": 20,
    "start_time": "2022-02-13T05:00:22.013Z"
   },
   {
    "duration": 43,
    "start_time": "2022-02-13T05:00:22.037Z"
   },
   {
    "duration": 45,
    "start_time": "2022-02-13T05:00:22.084Z"
   },
   {
    "duration": 37,
    "start_time": "2022-02-13T05:00:22.134Z"
   },
   {
    "duration": 106,
    "start_time": "2022-02-13T05:00:22.174Z"
   },
   {
    "duration": 118,
    "start_time": "2022-02-13T05:00:22.282Z"
   },
   {
    "duration": 98,
    "start_time": "2022-02-13T05:00:22.403Z"
   },
   {
    "duration": 80,
    "start_time": "2022-02-13T05:00:22.504Z"
   },
   {
    "duration": 4,
    "start_time": "2022-02-13T05:00:22.586Z"
   },
   {
    "duration": 40,
    "start_time": "2022-02-13T05:00:22.592Z"
   },
   {
    "duration": 73,
    "start_time": "2022-02-13T05:00:22.635Z"
   },
   {
    "duration": 91,
    "start_time": "2022-02-13T05:00:22.711Z"
   },
   {
    "duration": 25,
    "start_time": "2022-02-13T05:00:22.805Z"
   },
   {
    "duration": 7,
    "start_time": "2022-02-13T05:00:22.832Z"
   },
   {
    "duration": 41,
    "start_time": "2022-02-13T05:00:22.842Z"
   },
   {
    "duration": 19,
    "start_time": "2022-02-13T05:00:22.886Z"
   },
   {
    "duration": 26,
    "start_time": "2022-02-13T05:00:22.925Z"
   },
   {
    "duration": 21,
    "start_time": "2022-02-13T05:00:22.954Z"
   },
   {
    "duration": 53,
    "start_time": "2022-02-13T05:00:22.978Z"
   },
   {
    "duration": 22,
    "start_time": "2022-02-13T05:00:23.034Z"
   },
   {
    "duration": 39,
    "start_time": "2022-02-13T05:00:23.059Z"
   },
   {
    "duration": 22,
    "start_time": "2022-02-13T05:00:23.100Z"
   },
   {
    "duration": 30,
    "start_time": "2022-02-13T05:00:23.125Z"
   },
   {
    "duration": 6,
    "start_time": "2022-02-13T05:00:23.158Z"
   },
   {
    "duration": 52,
    "start_time": "2022-02-13T05:00:23.166Z"
   },
   {
    "duration": 36,
    "start_time": "2022-02-13T05:00:23.220Z"
   },
   {
    "duration": 39,
    "start_time": "2022-02-13T05:00:23.259Z"
   },
   {
    "duration": 58,
    "start_time": "2022-02-13T05:00:23.301Z"
   },
   {
    "duration": 18,
    "start_time": "2022-02-13T05:00:23.361Z"
   },
   {
    "duration": 22,
    "start_time": "2022-02-13T05:00:23.381Z"
   },
   {
    "duration": 24,
    "start_time": "2022-02-13T05:00:23.426Z"
   },
   {
    "duration": 8,
    "start_time": "2022-02-13T05:00:23.453Z"
   },
   {
    "duration": 18,
    "start_time": "2022-02-13T05:00:23.464Z"
   },
   {
    "duration": 771,
    "start_time": "2022-02-13T12:02:36.954Z"
   },
   {
    "duration": 182,
    "start_time": "2022-02-13T12:02:37.728Z"
   },
   {
    "duration": 27,
    "start_time": "2022-02-13T12:02:37.913Z"
   },
   {
    "duration": 3,
    "start_time": "2022-02-13T12:02:37.943Z"
   },
   {
    "duration": 8,
    "start_time": "2022-02-13T12:02:37.948Z"
   },
   {
    "duration": 30,
    "start_time": "2022-02-13T12:02:37.958Z"
   },
   {
    "duration": 5,
    "start_time": "2022-02-13T12:02:38.022Z"
   },
   {
    "duration": 31,
    "start_time": "2022-02-13T12:02:38.032Z"
   },
   {
    "duration": 58,
    "start_time": "2022-02-13T12:02:38.066Z"
   },
   {
    "duration": 44,
    "start_time": "2022-02-13T12:02:38.127Z"
   },
   {
    "duration": 129,
    "start_time": "2022-02-13T12:02:38.175Z"
   },
   {
    "duration": 108,
    "start_time": "2022-02-13T12:02:38.306Z"
   },
   {
    "duration": 85,
    "start_time": "2022-02-13T12:02:38.417Z"
   },
   {
    "duration": 75,
    "start_time": "2022-02-13T12:02:38.504Z"
   },
   {
    "duration": 5,
    "start_time": "2022-02-13T12:02:38.582Z"
   },
   {
    "duration": 38,
    "start_time": "2022-02-13T12:02:38.590Z"
   },
   {
    "duration": 108,
    "start_time": "2022-02-13T12:02:38.631Z"
   },
   {
    "duration": 87,
    "start_time": "2022-02-13T12:02:38.741Z"
   },
   {
    "duration": 12,
    "start_time": "2022-02-13T12:02:38.831Z"
   },
   {
    "duration": 6,
    "start_time": "2022-02-13T12:02:38.846Z"
   },
   {
    "duration": 22,
    "start_time": "2022-02-13T12:02:38.855Z"
   },
   {
    "duration": 50,
    "start_time": "2022-02-13T12:02:38.881Z"
   },
   {
    "duration": 26,
    "start_time": "2022-02-13T12:02:38.937Z"
   },
   {
    "duration": 31,
    "start_time": "2022-02-13T12:02:38.967Z"
   },
   {
    "duration": 29,
    "start_time": "2022-02-13T12:02:39.001Z"
   },
   {
    "duration": 20,
    "start_time": "2022-02-13T12:02:39.033Z"
   },
   {
    "duration": 22,
    "start_time": "2022-02-13T12:02:39.055Z"
   },
   {
    "duration": 28,
    "start_time": "2022-02-13T12:02:39.079Z"
   },
   {
    "duration": 14,
    "start_time": "2022-02-13T12:02:39.109Z"
   },
   {
    "duration": 5,
    "start_time": "2022-02-13T12:02:39.126Z"
   },
   {
    "duration": 41,
    "start_time": "2022-02-13T12:02:39.133Z"
   },
   {
    "duration": 53,
    "start_time": "2022-02-13T12:02:39.177Z"
   },
   {
    "duration": 34,
    "start_time": "2022-02-13T12:02:39.232Z"
   },
   {
    "duration": 67,
    "start_time": "2022-02-13T12:02:39.268Z"
   },
   {
    "duration": 21,
    "start_time": "2022-02-13T12:02:39.338Z"
   },
   {
    "duration": 10,
    "start_time": "2022-02-13T12:02:39.362Z"
   },
   {
    "duration": 761,
    "start_time": "2022-02-13T12:02:39.375Z"
   },
   {
    "duration": 178,
    "start_time": "2022-02-13T12:02:39.962Z"
   },
   {
    "duration": 175,
    "start_time": "2022-02-13T12:02:39.968Z"
   },
   {
    "duration": 20,
    "start_time": "2022-02-13T12:04:28.777Z"
   },
   {
    "duration": 28,
    "start_time": "2022-02-13T12:04:45.354Z"
   },
   {
    "duration": 469,
    "start_time": "2022-02-13T12:04:56.691Z"
   },
   {
    "duration": 28,
    "start_time": "2022-02-13T12:05:21.511Z"
   },
   {
    "duration": 886,
    "start_time": "2022-02-13T12:08:57.034Z"
   },
   {
    "duration": 185,
    "start_time": "2022-02-13T12:08:57.922Z"
   },
   {
    "duration": 33,
    "start_time": "2022-02-13T12:08:58.112Z"
   },
   {
    "duration": 3,
    "start_time": "2022-02-13T12:08:58.148Z"
   },
   {
    "duration": 11,
    "start_time": "2022-02-13T12:08:58.153Z"
   },
   {
    "duration": 71,
    "start_time": "2022-02-13T12:08:58.167Z"
   },
   {
    "duration": 6,
    "start_time": "2022-02-13T12:08:58.242Z"
   },
   {
    "duration": 34,
    "start_time": "2022-02-13T12:08:58.254Z"
   },
   {
    "duration": 49,
    "start_time": "2022-02-13T12:08:58.293Z"
   },
   {
    "duration": 30,
    "start_time": "2022-02-13T12:08:58.345Z"
   },
   {
    "duration": 179,
    "start_time": "2022-02-13T12:08:58.378Z"
   },
   {
    "duration": 129,
    "start_time": "2022-02-13T12:08:58.560Z"
   },
   {
    "duration": 117,
    "start_time": "2022-02-13T12:08:58.692Z"
   },
   {
    "duration": 64,
    "start_time": "2022-02-13T12:08:58.812Z"
   },
   {
    "duration": 4,
    "start_time": "2022-02-13T12:08:58.878Z"
   },
   {
    "duration": 39,
    "start_time": "2022-02-13T12:08:58.884Z"
   },
   {
    "duration": 56,
    "start_time": "2022-02-13T12:08:58.925Z"
   },
   {
    "duration": 94,
    "start_time": "2022-02-13T12:08:58.983Z"
   },
   {
    "duration": 13,
    "start_time": "2022-02-13T12:08:59.079Z"
   },
   {
    "duration": 13,
    "start_time": "2022-02-13T12:08:59.095Z"
   },
   {
    "duration": 20,
    "start_time": "2022-02-13T12:08:59.123Z"
   },
   {
    "duration": 18,
    "start_time": "2022-02-13T12:08:59.146Z"
   },
   {
    "duration": 17,
    "start_time": "2022-02-13T12:08:59.170Z"
   },
   {
    "duration": 40,
    "start_time": "2022-02-13T12:08:59.190Z"
   },
   {
    "duration": 20,
    "start_time": "2022-02-13T12:08:59.233Z"
   },
   {
    "duration": 16,
    "start_time": "2022-02-13T12:08:59.255Z"
   },
   {
    "duration": 12,
    "start_time": "2022-02-13T12:08:59.273Z"
   },
   {
    "duration": 17,
    "start_time": "2022-02-13T12:08:59.323Z"
   },
   {
    "duration": 12,
    "start_time": "2022-02-13T12:08:59.342Z"
   },
   {
    "duration": 7,
    "start_time": "2022-02-13T12:08:59.357Z"
   },
   {
    "duration": 75,
    "start_time": "2022-02-13T12:08:59.367Z"
   },
   {
    "duration": 42,
    "start_time": "2022-02-13T12:08:59.445Z"
   },
   {
    "duration": 70,
    "start_time": "2022-02-13T12:08:59.490Z"
   },
   {
    "duration": 69,
    "start_time": "2022-02-13T12:08:59.563Z"
   },
   {
    "duration": 7476,
    "start_time": "2022-02-13T12:08:59.635Z"
   },
   {
    "duration": -42,
    "start_time": "2022-02-13T12:09:07.156Z"
   },
   {
    "duration": -53,
    "start_time": "2022-02-13T12:09:07.169Z"
   },
   {
    "duration": -64,
    "start_time": "2022-02-13T12:09:07.182Z"
   },
   {
    "duration": -71,
    "start_time": "2022-02-13T12:09:07.191Z"
   },
   {
    "duration": 10,
    "start_time": "2022-02-13T12:09:13.960Z"
   },
   {
    "duration": 486,
    "start_time": "2022-02-13T12:10:31.809Z"
   },
   {
    "duration": 7559,
    "start_time": "2022-02-13T12:10:59.410Z"
   },
   {
    "duration": 14,
    "start_time": "2022-02-13T12:11:27.661Z"
   },
   {
    "duration": 15,
    "start_time": "2022-02-13T12:11:35.917Z"
   },
   {
    "duration": 290,
    "start_time": "2022-02-13T12:12:05.744Z"
   },
   {
    "duration": 19,
    "start_time": "2022-02-13T12:12:23.104Z"
   },
   {
    "duration": 10,
    "start_time": "2022-02-13T12:12:26.016Z"
   },
   {
    "duration": 14,
    "start_time": "2022-02-13T12:12:27.923Z"
   },
   {
    "duration": 9,
    "start_time": "2022-02-13T12:12:28.922Z"
   },
   {
    "duration": 13,
    "start_time": "2022-02-13T12:12:30.761Z"
   },
   {
    "duration": 890,
    "start_time": "2022-02-13T12:16:04.871Z"
   },
   {
    "duration": 255,
    "start_time": "2022-02-13T12:16:05.765Z"
   },
   {
    "duration": 37,
    "start_time": "2022-02-13T12:16:06.026Z"
   },
   {
    "duration": 11,
    "start_time": "2022-02-13T12:16:06.066Z"
   },
   {
    "duration": 11,
    "start_time": "2022-02-13T12:16:06.080Z"
   },
   {
    "duration": 58,
    "start_time": "2022-02-13T12:16:06.094Z"
   },
   {
    "duration": 12,
    "start_time": "2022-02-13T12:16:06.155Z"
   },
   {
    "duration": 39,
    "start_time": "2022-02-13T12:16:06.171Z"
   },
   {
    "duration": 25,
    "start_time": "2022-02-13T12:16:06.225Z"
   },
   {
    "duration": 37,
    "start_time": "2022-02-13T12:16:06.252Z"
   },
   {
    "duration": 112,
    "start_time": "2022-02-13T12:16:06.292Z"
   },
   {
    "duration": 104,
    "start_time": "2022-02-13T12:16:06.407Z"
   },
   {
    "duration": 93,
    "start_time": "2022-02-13T12:16:06.513Z"
   },
   {
    "duration": 67,
    "start_time": "2022-02-13T12:16:06.609Z"
   },
   {
    "duration": 4,
    "start_time": "2022-02-13T12:16:06.678Z"
   },
   {
    "duration": 39,
    "start_time": "2022-02-13T12:16:06.685Z"
   },
   {
    "duration": 59,
    "start_time": "2022-02-13T12:16:06.727Z"
   },
   {
    "duration": 92,
    "start_time": "2022-02-13T12:16:06.788Z"
   },
   {
    "duration": 13,
    "start_time": "2022-02-13T12:16:06.882Z"
   },
   {
    "duration": 5,
    "start_time": "2022-02-13T12:16:06.923Z"
   },
   {
    "duration": 25,
    "start_time": "2022-02-13T12:16:06.930Z"
   },
   {
    "duration": 17,
    "start_time": "2022-02-13T12:16:06.958Z"
   },
   {
    "duration": 64,
    "start_time": "2022-02-13T12:16:06.980Z"
   },
   {
    "duration": 21,
    "start_time": "2022-02-13T12:16:07.049Z"
   },
   {
    "duration": 20,
    "start_time": "2022-02-13T12:16:07.072Z"
   },
   {
    "duration": 43,
    "start_time": "2022-02-13T12:16:07.095Z"
   },
   {
    "duration": 12,
    "start_time": "2022-02-13T12:16:07.141Z"
   },
   {
    "duration": 15,
    "start_time": "2022-02-13T12:16:07.156Z"
   },
   {
    "duration": 11,
    "start_time": "2022-02-13T12:16:07.174Z"
   },
   {
    "duration": 8,
    "start_time": "2022-02-13T12:16:07.226Z"
   },
   {
    "duration": 38,
    "start_time": "2022-02-13T12:16:07.237Z"
   },
   {
    "duration": 58,
    "start_time": "2022-02-13T12:16:07.278Z"
   },
   {
    "duration": 34,
    "start_time": "2022-02-13T12:16:07.339Z"
   },
   {
    "duration": 68,
    "start_time": "2022-02-13T12:16:07.375Z"
   },
   {
    "duration": 17,
    "start_time": "2022-02-13T12:16:07.445Z"
   },
   {
    "duration": 14,
    "start_time": "2022-02-13T12:16:07.465Z"
   },
   {
    "duration": 45,
    "start_time": "2022-02-13T12:16:07.481Z"
   },
   {
    "duration": 8,
    "start_time": "2022-02-13T12:16:07.529Z"
   },
   {
    "duration": 14,
    "start_time": "2022-02-13T12:16:07.539Z"
   },
   {
    "duration": 549,
    "start_time": "2022-02-19T11:24:04.497Z"
   },
   {
    "duration": 129,
    "start_time": "2022-02-19T11:24:05.048Z"
   },
   {
    "duration": 14,
    "start_time": "2022-02-19T11:24:05.179Z"
   },
   {
    "duration": 4,
    "start_time": "2022-02-19T11:24:05.195Z"
   },
   {
    "duration": 6,
    "start_time": "2022-02-19T11:24:05.200Z"
   },
   {
    "duration": 38,
    "start_time": "2022-02-19T11:24:05.208Z"
   },
   {
    "duration": 3,
    "start_time": "2022-02-19T11:24:05.248Z"
   },
   {
    "duration": 23,
    "start_time": "2022-02-19T11:24:05.253Z"
   },
   {
    "duration": 24,
    "start_time": "2022-02-19T11:24:05.278Z"
   },
   {
    "duration": 20,
    "start_time": "2022-02-19T11:24:05.303Z"
   },
   {
    "duration": 64,
    "start_time": "2022-02-19T11:24:05.324Z"
   },
   {
    "duration": 66,
    "start_time": "2022-02-19T11:24:05.389Z"
   },
   {
    "duration": 47,
    "start_time": "2022-02-19T11:24:05.457Z"
   },
   {
    "duration": 48,
    "start_time": "2022-02-19T11:24:05.505Z"
   },
   {
    "duration": 2,
    "start_time": "2022-02-19T11:24:05.555Z"
   },
   {
    "duration": 9,
    "start_time": "2022-02-19T11:24:05.559Z"
   },
   {
    "duration": 36,
    "start_time": "2022-02-19T11:24:05.569Z"
   },
   {
    "duration": 71,
    "start_time": "2022-02-19T11:24:05.606Z"
   },
   {
    "duration": 8,
    "start_time": "2022-02-19T11:24:05.679Z"
   },
   {
    "duration": 4,
    "start_time": "2022-02-19T11:24:05.688Z"
   },
   {
    "duration": 16,
    "start_time": "2022-02-19T11:24:05.693Z"
   },
   {
    "duration": 11,
    "start_time": "2022-02-19T11:24:05.711Z"
   },
   {
    "duration": 28,
    "start_time": "2022-02-19T11:24:05.724Z"
   },
   {
    "duration": 11,
    "start_time": "2022-02-19T11:24:05.754Z"
   },
   {
    "duration": 17,
    "start_time": "2022-02-19T11:24:05.766Z"
   },
   {
    "duration": 10,
    "start_time": "2022-02-19T11:24:05.785Z"
   },
   {
    "duration": 7,
    "start_time": "2022-02-19T11:24:05.797Z"
   },
   {
    "duration": 11,
    "start_time": "2022-02-19T11:24:05.806Z"
   },
   {
    "duration": 28,
    "start_time": "2022-02-19T11:24:05.818Z"
   },
   {
    "duration": 3,
    "start_time": "2022-02-19T11:24:05.848Z"
   },
   {
    "duration": 26,
    "start_time": "2022-02-19T11:24:05.853Z"
   },
   {
    "duration": 17,
    "start_time": "2022-02-19T11:24:05.880Z"
   },
   {
    "duration": 19,
    "start_time": "2022-02-19T11:24:05.899Z"
   },
   {
    "duration": 44,
    "start_time": "2022-02-19T11:24:05.920Z"
   },
   {
    "duration": 10,
    "start_time": "2022-02-19T11:24:05.966Z"
   },
   {
    "duration": 5,
    "start_time": "2022-02-19T11:24:05.978Z"
   },
   {
    "duration": 12,
    "start_time": "2022-02-19T11:24:05.985Z"
   },
   {
    "duration": 6,
    "start_time": "2022-02-19T11:24:05.998Z"
   },
   {
    "duration": 41,
    "start_time": "2022-02-19T11:24:06.005Z"
   },
   {
    "duration": 9,
    "start_time": "2022-02-19T11:27:02.351Z"
   },
   {
    "duration": 15,
    "start_time": "2022-02-19T11:39:43.420Z"
   },
   {
    "duration": 12,
    "start_time": "2022-02-19T11:39:48.008Z"
   },
   {
    "duration": 622,
    "start_time": "2022-02-19T20:28:25.104Z"
   },
   {
    "duration": 162,
    "start_time": "2022-02-19T20:28:26.401Z"
   },
   {
    "duration": 19,
    "start_time": "2022-02-19T20:28:28.977Z"
   },
   {
    "duration": 10,
    "start_time": "2022-02-19T20:28:31.129Z"
   },
   {
    "duration": 26,
    "start_time": "2022-02-19T20:28:32.419Z"
   },
   {
    "duration": 90,
    "start_time": "2022-02-19T20:30:15.935Z"
   },
   {
    "duration": 97,
    "start_time": "2022-02-19T20:30:20.655Z"
   },
   {
    "duration": 93,
    "start_time": "2022-02-19T20:30:24.091Z"
   },
   {
    "duration": 85,
    "start_time": "2022-02-19T20:32:13.527Z"
   },
   {
    "duration": 93,
    "start_time": "2022-02-19T20:32:18.609Z"
   },
   {
    "duration": 94,
    "start_time": "2022-02-19T20:32:34.692Z"
   },
   {
    "duration": 135,
    "start_time": "2022-02-19T20:32:47.166Z"
   },
   {
    "duration": 88,
    "start_time": "2022-02-19T20:32:52.073Z"
   },
   {
    "duration": 86,
    "start_time": "2022-02-19T20:33:24.013Z"
   },
   {
    "duration": 34,
    "start_time": "2022-02-19T20:34:09.762Z"
   },
   {
    "duration": 4,
    "start_time": "2022-02-19T20:43:56.359Z"
   },
   {
    "duration": 4,
    "start_time": "2022-02-19T20:44:03.254Z"
   },
   {
    "duration": 47,
    "start_time": "2022-02-19T20:49:44.981Z"
   },
   {
    "duration": 338,
    "start_time": "2022-02-19T20:56:07.391Z"
   },
   {
    "duration": 650,
    "start_time": "2022-02-19T20:56:32.413Z"
   },
   {
    "duration": 167,
    "start_time": "2022-02-19T20:56:33.065Z"
   },
   {
    "duration": 20,
    "start_time": "2022-02-19T20:56:33.235Z"
   },
   {
    "duration": 32,
    "start_time": "2022-02-19T20:56:33.258Z"
   },
   {
    "duration": 32,
    "start_time": "2022-02-19T20:56:33.292Z"
   },
   {
    "duration": 5,
    "start_time": "2022-02-19T20:56:33.326Z"
   },
   {
    "duration": 44,
    "start_time": "2022-02-19T20:56:33.333Z"
   },
   {
    "duration": 16,
    "start_time": "2022-02-19T20:56:33.382Z"
   },
   {
    "duration": 33,
    "start_time": "2022-02-19T20:56:33.400Z"
   },
   {
    "duration": 45,
    "start_time": "2022-02-19T20:56:33.435Z"
   },
   {
    "duration": 31,
    "start_time": "2022-02-19T20:56:33.483Z"
   },
   {
    "duration": 83,
    "start_time": "2022-02-19T20:56:33.515Z"
   },
   {
    "duration": 90,
    "start_time": "2022-02-19T20:56:33.599Z"
   },
   {
    "duration": 65,
    "start_time": "2022-02-19T20:56:33.692Z"
   },
   {
    "duration": 52,
    "start_time": "2022-02-19T20:56:33.770Z"
   },
   {
    "duration": 3,
    "start_time": "2022-02-19T20:56:33.824Z"
   },
   {
    "duration": 13,
    "start_time": "2022-02-19T20:56:33.828Z"
   },
   {
    "duration": 67,
    "start_time": "2022-02-19T20:56:33.843Z"
   },
   {
    "duration": 90,
    "start_time": "2022-02-19T20:56:33.912Z"
   },
   {
    "duration": 13,
    "start_time": "2022-02-19T20:56:34.005Z"
   },
   {
    "duration": 3,
    "start_time": "2022-02-19T20:56:34.020Z"
   },
   {
    "duration": 24,
    "start_time": "2022-02-19T20:56:34.025Z"
   },
   {
    "duration": 35,
    "start_time": "2022-02-19T20:56:34.053Z"
   },
   {
    "duration": 16,
    "start_time": "2022-02-19T20:56:34.091Z"
   },
   {
    "duration": 14,
    "start_time": "2022-02-19T20:56:34.109Z"
   },
   {
    "duration": 17,
    "start_time": "2022-02-19T20:56:34.124Z"
   },
   {
    "duration": 20,
    "start_time": "2022-02-19T20:56:34.169Z"
   },
   {
    "duration": 11,
    "start_time": "2022-02-19T20:56:34.191Z"
   },
   {
    "duration": 15,
    "start_time": "2022-02-19T20:56:34.204Z"
   },
   {
    "duration": 8,
    "start_time": "2022-02-19T20:56:34.221Z"
   },
   {
    "duration": 4,
    "start_time": "2022-02-19T20:56:34.231Z"
   },
   {
    "duration": 62,
    "start_time": "2022-02-19T20:56:34.237Z"
   },
   {
    "duration": 20,
    "start_time": "2022-02-19T20:56:34.301Z"
   },
   {
    "duration": 57,
    "start_time": "2022-02-19T20:56:34.323Z"
   },
   {
    "duration": 32,
    "start_time": "2022-02-19T20:56:34.383Z"
   },
   {
    "duration": 13,
    "start_time": "2022-02-19T20:56:34.417Z"
   },
   {
    "duration": 7,
    "start_time": "2022-02-19T20:56:34.431Z"
   },
   {
    "duration": 38,
    "start_time": "2022-02-19T20:56:34.440Z"
   },
   {
    "duration": 10,
    "start_time": "2022-02-19T20:56:34.481Z"
   },
   {
    "duration": 14,
    "start_time": "2022-02-19T20:56:34.493Z"
   },
   {
    "duration": 13,
    "start_time": "2022-02-19T20:57:33.278Z"
   },
   {
    "duration": 21,
    "start_time": "2022-02-19T20:58:30.209Z"
   },
   {
    "duration": 26,
    "start_time": "2022-02-19T20:58:33.640Z"
   },
   {
    "duration": 699,
    "start_time": "2022-02-19T21:05:59.834Z"
   },
   {
    "duration": 160,
    "start_time": "2022-02-19T21:06:00.536Z"
   },
   {
    "duration": 19,
    "start_time": "2022-02-19T21:06:00.698Z"
   },
   {
    "duration": 14,
    "start_time": "2022-02-19T21:06:00.719Z"
   },
   {
    "duration": 45,
    "start_time": "2022-02-19T21:06:00.735Z"
   },
   {
    "duration": 12,
    "start_time": "2022-02-19T21:06:00.782Z"
   },
   {
    "duration": 33,
    "start_time": "2022-02-19T21:06:00.796Z"
   },
   {
    "duration": 7,
    "start_time": "2022-02-19T21:06:00.833Z"
   },
   {
    "duration": 48,
    "start_time": "2022-02-19T21:06:00.842Z"
   },
   {
    "duration": 24,
    "start_time": "2022-02-19T21:06:00.893Z"
   },
   {
    "duration": 26,
    "start_time": "2022-02-19T21:06:00.919Z"
   },
   {
    "duration": 86,
    "start_time": "2022-02-19T21:06:00.946Z"
   },
   {
    "duration": 100,
    "start_time": "2022-02-19T21:06:01.034Z"
   },
   {
    "duration": 76,
    "start_time": "2022-02-19T21:06:01.136Z"
   },
   {
    "duration": 61,
    "start_time": "2022-02-19T21:06:01.214Z"
   },
   {
    "duration": 6,
    "start_time": "2022-02-19T21:06:01.278Z"
   },
   {
    "duration": 15,
    "start_time": "2022-02-19T21:06:01.288Z"
   },
   {
    "duration": 64,
    "start_time": "2022-02-19T21:06:01.306Z"
   },
   {
    "duration": 73,
    "start_time": "2022-02-19T21:06:01.372Z"
   },
   {
    "duration": 32,
    "start_time": "2022-02-19T21:06:01.447Z"
   },
   {
    "duration": 9,
    "start_time": "2022-02-19T21:06:01.482Z"
   },
   {
    "duration": 22,
    "start_time": "2022-02-19T21:06:01.494Z"
   },
   {
    "duration": 15,
    "start_time": "2022-02-19T21:06:01.520Z"
   },
   {
    "duration": 48,
    "start_time": "2022-02-19T21:06:01.537Z"
   },
   {
    "duration": 18,
    "start_time": "2022-02-19T21:06:01.587Z"
   },
   {
    "duration": 29,
    "start_time": "2022-02-19T21:06:01.607Z"
   },
   {
    "duration": 16,
    "start_time": "2022-02-19T21:06:01.638Z"
   },
   {
    "duration": 25,
    "start_time": "2022-02-19T21:06:01.656Z"
   },
   {
    "duration": 32,
    "start_time": "2022-02-19T21:06:01.683Z"
   },
   {
    "duration": 25,
    "start_time": "2022-02-19T21:06:01.717Z"
   },
   {
    "duration": 28,
    "start_time": "2022-02-19T21:06:01.744Z"
   },
   {
    "duration": 35,
    "start_time": "2022-02-19T21:06:01.778Z"
   },
   {
    "duration": 24,
    "start_time": "2022-02-19T21:06:01.815Z"
   },
   {
    "duration": 64,
    "start_time": "2022-02-19T21:06:01.841Z"
   },
   {
    "duration": 35,
    "start_time": "2022-02-19T21:06:01.907Z"
   },
   {
    "duration": 40,
    "start_time": "2022-02-19T21:06:01.945Z"
   },
   {
    "duration": 10,
    "start_time": "2022-02-19T21:06:01.991Z"
   },
   {
    "duration": 22,
    "start_time": "2022-02-19T21:06:02.003Z"
   },
   {
    "duration": 8,
    "start_time": "2022-02-19T21:06:02.027Z"
   },
   {
    "duration": 38,
    "start_time": "2022-02-19T21:06:02.036Z"
   },
   {
    "duration": 11,
    "start_time": "2022-02-19T21:07:07.561Z"
   },
   {
    "duration": 29,
    "start_time": "2022-02-19T21:07:52.050Z"
   },
   {
    "duration": 28,
    "start_time": "2022-02-19T21:07:59.476Z"
   },
   {
    "duration": 27,
    "start_time": "2022-02-19T21:08:06.732Z"
   },
   {
    "duration": 39,
    "start_time": "2022-02-19T21:08:13.791Z"
   },
   {
    "duration": 3,
    "start_time": "2022-02-19T21:24:13.457Z"
   },
   {
    "duration": 4,
    "start_time": "2022-02-19T21:24:16.284Z"
   },
   {
    "duration": 29,
    "start_time": "2022-02-19T21:24:53.475Z"
   },
   {
    "duration": 26,
    "start_time": "2022-02-19T21:25:11.802Z"
   },
   {
    "duration": 5,
    "start_time": "2022-02-19T21:25:54.144Z"
   },
   {
    "duration": 9,
    "start_time": "2022-02-19T21:26:03.991Z"
   },
   {
    "duration": 100,
    "start_time": "2022-02-19T21:29:07.239Z"
   },
   {
    "duration": 624,
    "start_time": "2022-02-19T21:44:36.304Z"
   },
   {
    "duration": 165,
    "start_time": "2022-02-19T21:44:36.930Z"
   },
   {
    "duration": 19,
    "start_time": "2022-02-19T21:44:37.097Z"
   },
   {
    "duration": 20,
    "start_time": "2022-02-19T21:44:37.118Z"
   },
   {
    "duration": 47,
    "start_time": "2022-02-19T21:44:37.139Z"
   },
   {
    "duration": 11,
    "start_time": "2022-02-19T21:44:37.188Z"
   },
   {
    "duration": 25,
    "start_time": "2022-02-19T21:44:37.201Z"
   },
   {
    "duration": 6,
    "start_time": "2022-02-19T21:44:37.229Z"
   },
   {
    "duration": 38,
    "start_time": "2022-02-19T21:44:37.238Z"
   },
   {
    "duration": 26,
    "start_time": "2022-02-19T21:44:37.278Z"
   },
   {
    "duration": 27,
    "start_time": "2022-02-19T21:44:37.306Z"
   },
   {
    "duration": 86,
    "start_time": "2022-02-19T21:44:37.335Z"
   },
   {
    "duration": 88,
    "start_time": "2022-02-19T21:44:37.423Z"
   },
   {
    "duration": 63,
    "start_time": "2022-02-19T21:44:37.512Z"
   },
   {
    "duration": 48,
    "start_time": "2022-02-19T21:44:37.577Z"
   },
   {
    "duration": 14,
    "start_time": "2022-02-19T21:44:37.627Z"
   },
   {
    "duration": 17,
    "start_time": "2022-02-19T21:44:37.643Z"
   },
   {
    "duration": 55,
    "start_time": "2022-02-19T21:44:37.662Z"
   },
   {
    "duration": 80,
    "start_time": "2022-02-19T21:44:37.718Z"
   },
   {
    "duration": 11,
    "start_time": "2022-02-19T21:44:37.800Z"
   },
   {
    "duration": 6,
    "start_time": "2022-02-19T21:44:37.813Z"
   },
   {
    "duration": 46,
    "start_time": "2022-02-19T21:44:37.821Z"
   },
   {
    "duration": 19,
    "start_time": "2022-02-19T21:44:37.872Z"
   },
   {
    "duration": 33,
    "start_time": "2022-02-19T21:44:37.893Z"
   },
   {
    "duration": 27,
    "start_time": "2022-02-19T21:44:37.928Z"
   },
   {
    "duration": 34,
    "start_time": "2022-02-19T21:44:37.957Z"
   },
   {
    "duration": 23,
    "start_time": "2022-02-19T21:44:37.992Z"
   },
   {
    "duration": 26,
    "start_time": "2022-02-19T21:44:38.017Z"
   },
   {
    "duration": 34,
    "start_time": "2022-02-19T21:44:38.045Z"
   },
   {
    "duration": 25,
    "start_time": "2022-02-19T21:44:38.082Z"
   },
   {
    "duration": 8,
    "start_time": "2022-02-19T21:44:38.109Z"
   },
   {
    "duration": 44,
    "start_time": "2022-02-19T21:44:38.119Z"
   },
   {
    "duration": 26,
    "start_time": "2022-02-19T21:44:38.165Z"
   },
   {
    "duration": 27,
    "start_time": "2022-02-19T21:44:38.193Z"
   },
   {
    "duration": 28,
    "start_time": "2022-02-19T21:44:38.221Z"
   },
   {
    "duration": 18,
    "start_time": "2022-02-19T21:44:38.269Z"
   },
   {
    "duration": 7,
    "start_time": "2022-02-19T21:44:38.289Z"
   },
   {
    "duration": 21,
    "start_time": "2022-02-19T21:44:38.298Z"
   },
   {
    "duration": 26,
    "start_time": "2022-02-19T21:44:38.321Z"
   },
   {
    "duration": 16,
    "start_time": "2022-02-19T21:44:38.348Z"
   },
   {
    "duration": 5,
    "start_time": "2022-02-19T21:47:15.175Z"
   },
   {
    "duration": 616,
    "start_time": "2022-02-19T21:47:22.109Z"
   },
   {
    "duration": 155,
    "start_time": "2022-02-19T21:47:22.727Z"
   },
   {
    "duration": 18,
    "start_time": "2022-02-19T21:47:22.884Z"
   },
   {
    "duration": 32,
    "start_time": "2022-02-19T21:47:22.904Z"
   },
   {
    "duration": 51,
    "start_time": "2022-02-19T21:47:22.938Z"
   },
   {
    "duration": 27,
    "start_time": "2022-02-19T21:47:22.991Z"
   },
   {
    "duration": 31,
    "start_time": "2022-02-19T21:47:23.020Z"
   },
   {
    "duration": 28,
    "start_time": "2022-02-19T21:47:23.054Z"
   },
   {
    "duration": 46,
    "start_time": "2022-02-19T21:47:23.084Z"
   },
   {
    "duration": 20,
    "start_time": "2022-02-19T21:47:23.132Z"
   },
   {
    "duration": 31,
    "start_time": "2022-02-19T21:47:23.154Z"
   },
   {
    "duration": 76,
    "start_time": "2022-02-19T21:47:23.187Z"
   },
   {
    "duration": 80,
    "start_time": "2022-02-19T21:47:23.265Z"
   },
   {
    "duration": 70,
    "start_time": "2022-02-19T21:47:23.348Z"
   },
   {
    "duration": 58,
    "start_time": "2022-02-19T21:47:23.419Z"
   },
   {
    "duration": 3,
    "start_time": "2022-02-19T21:47:23.479Z"
   },
   {
    "duration": 16,
    "start_time": "2022-02-19T21:47:23.484Z"
   },
   {
    "duration": 67,
    "start_time": "2022-02-19T21:47:23.502Z"
   },
   {
    "duration": 66,
    "start_time": "2022-02-19T21:47:23.572Z"
   },
   {
    "duration": 30,
    "start_time": "2022-02-19T21:47:23.640Z"
   },
   {
    "duration": 4,
    "start_time": "2022-02-19T21:47:23.673Z"
   },
   {
    "duration": 26,
    "start_time": "2022-02-19T21:47:23.679Z"
   },
   {
    "duration": 17,
    "start_time": "2022-02-19T21:47:23.710Z"
   },
   {
    "duration": 18,
    "start_time": "2022-02-19T21:47:23.729Z"
   },
   {
    "duration": 28,
    "start_time": "2022-02-19T21:47:23.749Z"
   },
   {
    "duration": 16,
    "start_time": "2022-02-19T21:47:23.779Z"
   },
   {
    "duration": 15,
    "start_time": "2022-02-19T21:47:23.797Z"
   },
   {
    "duration": 8,
    "start_time": "2022-02-19T21:47:23.814Z"
   },
   {
    "duration": 56,
    "start_time": "2022-02-19T21:47:23.824Z"
   },
   {
    "duration": 19,
    "start_time": "2022-02-19T21:47:23.882Z"
   },
   {
    "duration": 4,
    "start_time": "2022-02-19T21:47:23.903Z"
   },
   {
    "duration": 37,
    "start_time": "2022-02-19T21:47:23.909Z"
   },
   {
    "duration": 41,
    "start_time": "2022-02-19T21:47:23.948Z"
   },
   {
    "duration": 27,
    "start_time": "2022-02-19T21:47:23.991Z"
   },
   {
    "duration": 62,
    "start_time": "2022-02-19T21:47:24.020Z"
   },
   {
    "duration": 15,
    "start_time": "2022-02-19T21:47:24.084Z"
   },
   {
    "duration": 8,
    "start_time": "2022-02-19T21:47:24.101Z"
   },
   {
    "duration": 11,
    "start_time": "2022-02-19T21:47:24.111Z"
   },
   {
    "duration": 7,
    "start_time": "2022-02-19T21:47:24.123Z"
   },
   {
    "duration": 45,
    "start_time": "2022-02-19T21:47:24.132Z"
   },
   {
    "duration": 558,
    "start_time": "2022-02-19T23:33:05.600Z"
   },
   {
    "duration": 126,
    "start_time": "2022-02-19T23:33:06.160Z"
   },
   {
    "duration": 14,
    "start_time": "2022-02-19T23:33:06.288Z"
   },
   {
    "duration": 11,
    "start_time": "2022-02-19T23:33:06.303Z"
   },
   {
    "duration": 23,
    "start_time": "2022-02-19T23:33:06.315Z"
   },
   {
    "duration": 8,
    "start_time": "2022-02-19T23:33:06.340Z"
   },
   {
    "duration": 18,
    "start_time": "2022-02-19T23:33:06.349Z"
   },
   {
    "duration": 3,
    "start_time": "2022-02-19T23:33:06.369Z"
   },
   {
    "duration": 21,
    "start_time": "2022-02-19T23:33:06.374Z"
   },
   {
    "duration": 15,
    "start_time": "2022-02-19T23:33:06.396Z"
   },
   {
    "duration": 43,
    "start_time": "2022-02-19T23:33:06.412Z"
   },
   {
    "duration": 53,
    "start_time": "2022-02-19T23:33:06.456Z"
   },
   {
    "duration": 74,
    "start_time": "2022-02-19T23:33:06.511Z"
   },
   {
    "duration": 47,
    "start_time": "2022-02-19T23:33:06.587Z"
   },
   {
    "duration": 45,
    "start_time": "2022-02-19T23:33:06.636Z"
   },
   {
    "duration": 3,
    "start_time": "2022-02-19T23:33:06.682Z"
   },
   {
    "duration": 14,
    "start_time": "2022-02-19T23:33:06.687Z"
   },
   {
    "duration": 44,
    "start_time": "2022-02-19T23:33:06.702Z"
   },
   {
    "duration": 49,
    "start_time": "2022-02-19T23:33:06.747Z"
   },
   {
    "duration": 8,
    "start_time": "2022-02-19T23:33:06.798Z"
   },
   {
    "duration": 3,
    "start_time": "2022-02-19T23:33:06.808Z"
   },
   {
    "duration": 38,
    "start_time": "2022-02-19T23:33:06.813Z"
   },
   {
    "duration": 11,
    "start_time": "2022-02-19T23:33:06.855Z"
   },
   {
    "duration": 13,
    "start_time": "2022-02-19T23:33:06.867Z"
   },
   {
    "duration": 10,
    "start_time": "2022-02-19T23:33:06.881Z"
   },
   {
    "duration": 13,
    "start_time": "2022-02-19T23:33:06.893Z"
   },
   {
    "duration": 11,
    "start_time": "2022-02-19T23:33:06.908Z"
   },
   {
    "duration": 27,
    "start_time": "2022-02-19T23:33:06.921Z"
   },
   {
    "duration": 19,
    "start_time": "2022-02-19T23:33:06.949Z"
   },
   {
    "duration": 16,
    "start_time": "2022-02-19T23:33:06.969Z"
   },
   {
    "duration": 3,
    "start_time": "2022-02-19T23:33:06.987Z"
   },
   {
    "duration": 26,
    "start_time": "2022-02-19T23:33:06.991Z"
   },
   {
    "duration": 41,
    "start_time": "2022-02-19T23:33:07.018Z"
   },
   {
    "duration": 20,
    "start_time": "2022-02-19T23:33:07.060Z"
   },
   {
    "duration": 24,
    "start_time": "2022-02-19T23:33:07.082Z"
   },
   {
    "duration": 10,
    "start_time": "2022-02-19T23:33:07.107Z"
   },
   {
    "duration": 29,
    "start_time": "2022-02-19T23:33:07.119Z"
   },
   {
    "duration": 11,
    "start_time": "2022-02-19T23:33:07.149Z"
   },
   {
    "duration": 5,
    "start_time": "2022-02-19T23:33:07.162Z"
   },
   {
    "duration": 11,
    "start_time": "2022-02-19T23:33:07.168Z"
   }
  ],
  "colab": {
   "collapsed_sections": [
    "E0vqbgi9ay0H",
    "VUC88oWjTJw2"
   ],
   "name": "yandex_music_project_2021.2.ipynb",
   "provenance": []
  },
  "kernelspec": {
   "display_name": "Python 3 (ipykernel)",
   "language": "python",
   "name": "python3"
  },
  "language_info": {
   "codemirror_mode": {
    "name": "ipython",
    "version": 3
   },
   "file_extension": ".py",
   "mimetype": "text/x-python",
   "name": "python",
   "nbconvert_exporter": "python",
   "pygments_lexer": "ipython3",
   "version": "3.9.7"
  },
  "toc": {
   "base_numbering": 1,
   "nav_menu": {},
   "number_sections": true,
   "sideBar": true,
   "skip_h1_title": true,
   "title_cell": "Table of Contents",
   "title_sidebar": "Contents",
   "toc_cell": false,
   "toc_position": {},
   "toc_section_display": true,
   "toc_window_display": true
  }
 },
 "nbformat": 4,
 "nbformat_minor": 1
}
