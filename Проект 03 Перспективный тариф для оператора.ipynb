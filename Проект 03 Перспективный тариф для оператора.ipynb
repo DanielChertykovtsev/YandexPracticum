{
 "cells": [
  {
   "cell_type": "markdown",
   "id": "5fa4a358",
   "metadata": {},
   "source": [
    "# Проект \"Определение перспективного тарифа для телеком-компании\""
   ]
  },
  {
   "cell_type": "markdown",
   "id": "6045fdb2",
   "metadata": {},
   "source": [
    "## Описание проекта"
   ]
  },
  {
   "cell_type": "markdown",
   "id": "e3b90c47",
   "metadata": {},
   "source": [
    "Представлены сведения компании мобильной связи о предоставленных услугах.\n",
    "Статистика представлена в разрезе одновременно клиентов и сеансов связи (звонки, сообщения, интернет).\n",
    "Представлена также информация по клиентам.\n",
    "Заданием предусмотрена аггрегация и вычисление сведений об использовании услуг каждым клиентом в разрезе месяцев.\n",
    "На основании таких сведений предусмотрена проверка гипотез:\n",
    "- средняя выручка пользователей тарифов «Ультра» и «Смарт» различаются;\n",
    "- средняя выручка пользователей из Москвы отличается от выручки пользователей из других регионов."
   ]
  },
  {
   "cell_type": "markdown",
   "id": "2c209adc",
   "metadata": {},
   "source": [
    "<h1>Содержание<span class=\"tocSkip\"></span></h1>\n",
    "<div class=\"toc\">\n",
    "    <ul class=\"toc-item\"><li><span><a href=\"#Изучение-данных-из-файла\" data-toc-modified-id=\"Изучение-данных-из-файла-1\"><span class=\"toc-item-num\">1&nbsp;&nbsp;</span>Изучение данных из файла</a></span>\n",
    "    <ul class=\"toc-item\"><li><span><a href=\"#Вывод-по-результатам-изучения-данных\" data-toc-modified-id=\"Вывод по результатам изучения данных-1.1\"><span class=\"toc-item-num\">1.1&nbsp;&nbsp;</span>Вывод по результатам изучения данных</a></span></li></ul></li>\n",
    "    <li><span><a href=\"#Предобработка-данных\" data-toc-modified-id=\"Предобработка-данных-2\"><span class=\"toc-item-num\">2&nbsp;&nbsp;</span>Предобработка данных</a></span></li>\n",
    "    <li><span><a href=\"#Расчёты-и-добавление-результатов-в-таблицу\" data-toc-modified-id=\"Расчёты-и-добавление-результатов-в-таблицу-3.1\"><span class=\"toc-item-num\">3&nbsp;&nbsp;</span>Расчёты и добавление результатов в таблицу</a></span>\n",
    "     <ul class=\"toc-item\"><li><span><a href=\"#Вывод-по-результатам-расчета-и-добавления-данных\" data-toc-modified-id=\"Вывод по результатам расчета и добавления данных-3.1\"><span class=\"toc-item-num\">3.1&nbsp;&nbsp;</span>Вывод по результатам расчета и добавления данных</a></span></li></ul></li>\n",
    "    <li><span><a href=\"#Исследовательский-анализ-данных\" data-toc-modified-id=\"Исследовательский-анализ-данных-4\"><span class=\"toc-item-num\">4&nbsp;&nbsp;</span>Исследовательский анализ данных</a></span></li>\n",
    "        <ul class=\"toc-item\"><li><span><a href=\"#Вывод-по-исследовательскому-анализу\" data-toc-modified-id=\"Вывод по исследовательскому анализу-4.1\"><span class=\"toc-item-num\">4.1&nbsp;&nbsp;</span>Вывод по исследовательскому анализу</a></span></li></ul>\n",
    "    <li><span><a href=\"#Проверка-гипотез\" data-toc-modified-id=\"Проверка-гипотез-5\"><span class=\"toc-item-num\">5&nbsp;&nbsp;</span>Проверка гипотез</a></span></li>\n",
    "        <ul class=\"toc-item\"><li><span><a href=\"#Вывод-по-проверке-гипотез\" data-toc-modified-id=\"Вывод по проверке гипотез -5.1\"><span class=\"toc-item-num\">5.1&nbsp;&nbsp;</span>Вывод по проверке гипотез</a></span></li></ul>\n",
    "        <li><span><a href=\"#Общий-вывод\" data-toc-modified-id=\"Общий-вывод-6\"><span class=\"toc-item-num\">6&nbsp;&nbsp;</span>Общий вывод</a></span></li></ul></div>"
   ]
  },
  {
   "cell_type": "markdown",
   "id": "1eae0412",
   "metadata": {},
   "source": [
    "## Изучение данных из файла"
   ]
  },
  {
   "cell_type": "code",
   "execution_count": 1,
   "id": "d689c636",
   "metadata": {
    "scrolled": true
   },
   "outputs": [],
   "source": [
    "import pandas as pd\n",
    "import numpy as np\n",
    "import matplotlib.pyplot as plt\n",
    "import math"
   ]
  },
  {
   "cell_type": "code",
   "execution_count": 2,
   "id": "7aa5f8af",
   "metadata": {},
   "outputs": [
    {
     "name": "stdout",
     "output_type": "stream",
     "text": [
      "<class 'pandas.core.frame.DataFrame'>\n",
      "RangeIndex: 202607 entries, 0 to 202606\n",
      "Data columns (total 4 columns):\n",
      " #   Column     Non-Null Count   Dtype  \n",
      "---  ------     --------------   -----  \n",
      " 0   id         202607 non-null  object \n",
      " 1   call_date  202607 non-null  object \n",
      " 2   duration   202607 non-null  float64\n",
      " 3   user_id    202607 non-null  int64  \n",
      "dtypes: float64(1), int64(1), object(2)\n",
      "memory usage: 6.2+ MB\n"
     ]
    },
    {
     "data": {
      "text/html": [
       "<div>\n",
       "<style scoped>\n",
       "    .dataframe tbody tr th:only-of-type {\n",
       "        vertical-align: middle;\n",
       "    }\n",
       "\n",
       "    .dataframe tbody tr th {\n",
       "        vertical-align: top;\n",
       "    }\n",
       "\n",
       "    .dataframe thead th {\n",
       "        text-align: right;\n",
       "    }\n",
       "</style>\n",
       "<table border=\"1\" class=\"dataframe\">\n",
       "  <thead>\n",
       "    <tr style=\"text-align: right;\">\n",
       "      <th></th>\n",
       "      <th>id</th>\n",
       "      <th>call_date</th>\n",
       "      <th>duration</th>\n",
       "      <th>user_id</th>\n",
       "    </tr>\n",
       "  </thead>\n",
       "  <tbody>\n",
       "    <tr>\n",
       "      <th>0</th>\n",
       "      <td>1000_0</td>\n",
       "      <td>2018-07-25</td>\n",
       "      <td>0.00</td>\n",
       "      <td>1000</td>\n",
       "    </tr>\n",
       "    <tr>\n",
       "      <th>1</th>\n",
       "      <td>1000_1</td>\n",
       "      <td>2018-08-17</td>\n",
       "      <td>0.00</td>\n",
       "      <td>1000</td>\n",
       "    </tr>\n",
       "    <tr>\n",
       "      <th>2</th>\n",
       "      <td>1000_2</td>\n",
       "      <td>2018-06-11</td>\n",
       "      <td>2.85</td>\n",
       "      <td>1000</td>\n",
       "    </tr>\n",
       "    <tr>\n",
       "      <th>3</th>\n",
       "      <td>1000_3</td>\n",
       "      <td>2018-09-21</td>\n",
       "      <td>13.80</td>\n",
       "      <td>1000</td>\n",
       "    </tr>\n",
       "    <tr>\n",
       "      <th>4</th>\n",
       "      <td>1000_4</td>\n",
       "      <td>2018-12-15</td>\n",
       "      <td>5.18</td>\n",
       "      <td>1000</td>\n",
       "    </tr>\n",
       "  </tbody>\n",
       "</table>\n",
       "</div>"
      ],
      "text/plain": [
       "       id   call_date  duration  user_id\n",
       "0  1000_0  2018-07-25      0.00     1000\n",
       "1  1000_1  2018-08-17      0.00     1000\n",
       "2  1000_2  2018-06-11      2.85     1000\n",
       "3  1000_3  2018-09-21     13.80     1000\n",
       "4  1000_4  2018-12-15      5.18     1000"
      ]
     },
     "execution_count": 2,
     "metadata": {},
     "output_type": "execute_result"
    }
   ],
   "source": [
    "cls_set = pd.read_csv('/datasets/calls.csv')\n",
    "cls_set.info()\n",
    "cls_set.head()"
   ]
  },
  {
   "cell_type": "code",
   "execution_count": 3,
   "id": "bce2d498",
   "metadata": {},
   "outputs": [
    {
     "name": "stdout",
     "output_type": "stream",
     "text": [
      "<class 'pandas.core.frame.DataFrame'>\n",
      "RangeIndex: 149396 entries, 0 to 149395\n",
      "Data columns (total 5 columns):\n",
      " #   Column        Non-Null Count   Dtype  \n",
      "---  ------        --------------   -----  \n",
      " 0   Unnamed: 0    149396 non-null  int64  \n",
      " 1   id            149396 non-null  object \n",
      " 2   mb_used       149396 non-null  float64\n",
      " 3   session_date  149396 non-null  object \n",
      " 4   user_id       149396 non-null  int64  \n",
      "dtypes: float64(1), int64(2), object(2)\n",
      "memory usage: 5.7+ MB\n"
     ]
    },
    {
     "data": {
      "text/html": [
       "<div>\n",
       "<style scoped>\n",
       "    .dataframe tbody tr th:only-of-type {\n",
       "        vertical-align: middle;\n",
       "    }\n",
       "\n",
       "    .dataframe tbody tr th {\n",
       "        vertical-align: top;\n",
       "    }\n",
       "\n",
       "    .dataframe thead th {\n",
       "        text-align: right;\n",
       "    }\n",
       "</style>\n",
       "<table border=\"1\" class=\"dataframe\">\n",
       "  <thead>\n",
       "    <tr style=\"text-align: right;\">\n",
       "      <th></th>\n",
       "      <th>Unnamed: 0</th>\n",
       "      <th>id</th>\n",
       "      <th>mb_used</th>\n",
       "      <th>session_date</th>\n",
       "      <th>user_id</th>\n",
       "    </tr>\n",
       "  </thead>\n",
       "  <tbody>\n",
       "    <tr>\n",
       "      <th>0</th>\n",
       "      <td>0</td>\n",
       "      <td>1000_0</td>\n",
       "      <td>112.95</td>\n",
       "      <td>2018-11-25</td>\n",
       "      <td>1000</td>\n",
       "    </tr>\n",
       "    <tr>\n",
       "      <th>1</th>\n",
       "      <td>1</td>\n",
       "      <td>1000_1</td>\n",
       "      <td>1052.81</td>\n",
       "      <td>2018-09-07</td>\n",
       "      <td>1000</td>\n",
       "    </tr>\n",
       "    <tr>\n",
       "      <th>2</th>\n",
       "      <td>2</td>\n",
       "      <td>1000_2</td>\n",
       "      <td>1197.26</td>\n",
       "      <td>2018-06-25</td>\n",
       "      <td>1000</td>\n",
       "    </tr>\n",
       "    <tr>\n",
       "      <th>3</th>\n",
       "      <td>3</td>\n",
       "      <td>1000_3</td>\n",
       "      <td>550.27</td>\n",
       "      <td>2018-08-22</td>\n",
       "      <td>1000</td>\n",
       "    </tr>\n",
       "    <tr>\n",
       "      <th>4</th>\n",
       "      <td>4</td>\n",
       "      <td>1000_4</td>\n",
       "      <td>302.56</td>\n",
       "      <td>2018-09-24</td>\n",
       "      <td>1000</td>\n",
       "    </tr>\n",
       "  </tbody>\n",
       "</table>\n",
       "</div>"
      ],
      "text/plain": [
       "   Unnamed: 0      id  mb_used session_date  user_id\n",
       "0           0  1000_0   112.95   2018-11-25     1000\n",
       "1           1  1000_1  1052.81   2018-09-07     1000\n",
       "2           2  1000_2  1197.26   2018-06-25     1000\n",
       "3           3  1000_3   550.27   2018-08-22     1000\n",
       "4           4  1000_4   302.56   2018-09-24     1000"
      ]
     },
     "execution_count": 3,
     "metadata": {},
     "output_type": "execute_result"
    }
   ],
   "source": [
    "int_set = pd.read_csv('/datasets/internet.csv')\n",
    "int_set.info()\n",
    "int_set.head()"
   ]
  },
  {
   "cell_type": "code",
   "execution_count": 4,
   "id": "4f71ae9b",
   "metadata": {},
   "outputs": [
    {
     "name": "stdout",
     "output_type": "stream",
     "text": [
      "<class 'pandas.core.frame.DataFrame'>\n",
      "RangeIndex: 123036 entries, 0 to 123035\n",
      "Data columns (total 3 columns):\n",
      " #   Column        Non-Null Count   Dtype \n",
      "---  ------        --------------   ----- \n",
      " 0   id            123036 non-null  object\n",
      " 1   message_date  123036 non-null  object\n",
      " 2   user_id       123036 non-null  int64 \n",
      "dtypes: int64(1), object(2)\n",
      "memory usage: 2.8+ MB\n"
     ]
    },
    {
     "data": {
      "text/html": [
       "<div>\n",
       "<style scoped>\n",
       "    .dataframe tbody tr th:only-of-type {\n",
       "        vertical-align: middle;\n",
       "    }\n",
       "\n",
       "    .dataframe tbody tr th {\n",
       "        vertical-align: top;\n",
       "    }\n",
       "\n",
       "    .dataframe thead th {\n",
       "        text-align: right;\n",
       "    }\n",
       "</style>\n",
       "<table border=\"1\" class=\"dataframe\">\n",
       "  <thead>\n",
       "    <tr style=\"text-align: right;\">\n",
       "      <th></th>\n",
       "      <th>id</th>\n",
       "      <th>message_date</th>\n",
       "      <th>user_id</th>\n",
       "    </tr>\n",
       "  </thead>\n",
       "  <tbody>\n",
       "    <tr>\n",
       "      <th>0</th>\n",
       "      <td>1000_0</td>\n",
       "      <td>2018-06-27</td>\n",
       "      <td>1000</td>\n",
       "    </tr>\n",
       "    <tr>\n",
       "      <th>1</th>\n",
       "      <td>1000_1</td>\n",
       "      <td>2018-10-08</td>\n",
       "      <td>1000</td>\n",
       "    </tr>\n",
       "    <tr>\n",
       "      <th>2</th>\n",
       "      <td>1000_2</td>\n",
       "      <td>2018-08-04</td>\n",
       "      <td>1000</td>\n",
       "    </tr>\n",
       "    <tr>\n",
       "      <th>3</th>\n",
       "      <td>1000_3</td>\n",
       "      <td>2018-06-16</td>\n",
       "      <td>1000</td>\n",
       "    </tr>\n",
       "    <tr>\n",
       "      <th>4</th>\n",
       "      <td>1000_4</td>\n",
       "      <td>2018-12-05</td>\n",
       "      <td>1000</td>\n",
       "    </tr>\n",
       "  </tbody>\n",
       "</table>\n",
       "</div>"
      ],
      "text/plain": [
       "       id message_date  user_id\n",
       "0  1000_0   2018-06-27     1000\n",
       "1  1000_1   2018-10-08     1000\n",
       "2  1000_2   2018-08-04     1000\n",
       "3  1000_3   2018-06-16     1000\n",
       "4  1000_4   2018-12-05     1000"
      ]
     },
     "execution_count": 4,
     "metadata": {},
     "output_type": "execute_result"
    }
   ],
   "source": [
    "msg_set = pd.read_csv('/datasets/messages.csv')\n",
    "msg_set.info()\n",
    "msg_set.head()"
   ]
  },
  {
   "cell_type": "code",
   "execution_count": 5,
   "id": "1144363e",
   "metadata": {},
   "outputs": [
    {
     "name": "stdout",
     "output_type": "stream",
     "text": [
      "<class 'pandas.core.frame.DataFrame'>\n",
      "RangeIndex: 2 entries, 0 to 1\n",
      "Data columns (total 8 columns):\n",
      " #   Column                 Non-Null Count  Dtype \n",
      "---  ------                 --------------  ----- \n",
      " 0   messages_included      2 non-null      int64 \n",
      " 1   mb_per_month_included  2 non-null      int64 \n",
      " 2   minutes_included       2 non-null      int64 \n",
      " 3   rub_monthly_fee        2 non-null      int64 \n",
      " 4   rub_per_gb             2 non-null      int64 \n",
      " 5   rub_per_message        2 non-null      int64 \n",
      " 6   rub_per_minute         2 non-null      int64 \n",
      " 7   tariff_name            2 non-null      object\n",
      "dtypes: int64(7), object(1)\n",
      "memory usage: 256.0+ bytes\n"
     ]
    },
    {
     "data": {
      "text/html": [
       "<div>\n",
       "<style scoped>\n",
       "    .dataframe tbody tr th:only-of-type {\n",
       "        vertical-align: middle;\n",
       "    }\n",
       "\n",
       "    .dataframe tbody tr th {\n",
       "        vertical-align: top;\n",
       "    }\n",
       "\n",
       "    .dataframe thead th {\n",
       "        text-align: right;\n",
       "    }\n",
       "</style>\n",
       "<table border=\"1\" class=\"dataframe\">\n",
       "  <thead>\n",
       "    <tr style=\"text-align: right;\">\n",
       "      <th></th>\n",
       "      <th>messages_included</th>\n",
       "      <th>mb_per_month_included</th>\n",
       "      <th>minutes_included</th>\n",
       "      <th>rub_monthly_fee</th>\n",
       "      <th>rub_per_gb</th>\n",
       "      <th>rub_per_message</th>\n",
       "      <th>rub_per_minute</th>\n",
       "      <th>tariff_name</th>\n",
       "    </tr>\n",
       "  </thead>\n",
       "  <tbody>\n",
       "    <tr>\n",
       "      <th>0</th>\n",
       "      <td>50</td>\n",
       "      <td>15360</td>\n",
       "      <td>500</td>\n",
       "      <td>550</td>\n",
       "      <td>200</td>\n",
       "      <td>3</td>\n",
       "      <td>3</td>\n",
       "      <td>smart</td>\n",
       "    </tr>\n",
       "    <tr>\n",
       "      <th>1</th>\n",
       "      <td>1000</td>\n",
       "      <td>30720</td>\n",
       "      <td>3000</td>\n",
       "      <td>1950</td>\n",
       "      <td>150</td>\n",
       "      <td>1</td>\n",
       "      <td>1</td>\n",
       "      <td>ultra</td>\n",
       "    </tr>\n",
       "  </tbody>\n",
       "</table>\n",
       "</div>"
      ],
      "text/plain": [
       "   messages_included  mb_per_month_included  minutes_included  \\\n",
       "0                 50                  15360               500   \n",
       "1               1000                  30720              3000   \n",
       "\n",
       "   rub_monthly_fee  rub_per_gb  rub_per_message  rub_per_minute tariff_name  \n",
       "0              550         200                3               3       smart  \n",
       "1             1950         150                1               1       ultra  "
      ]
     },
     "execution_count": 5,
     "metadata": {},
     "output_type": "execute_result"
    }
   ],
   "source": [
    "trf_set = pd.read_csv('/datasets/tariffs.csv')\n",
    "trf_set.info()\n",
    "trf_set.head()"
   ]
  },
  {
   "cell_type": "code",
   "execution_count": 6,
   "id": "f0c91db8",
   "metadata": {
    "scrolled": false
   },
   "outputs": [
    {
     "name": "stdout",
     "output_type": "stream",
     "text": [
      "<class 'pandas.core.frame.DataFrame'>\n",
      "RangeIndex: 500 entries, 0 to 499\n",
      "Data columns (total 8 columns):\n",
      " #   Column      Non-Null Count  Dtype \n",
      "---  ------      --------------  ----- \n",
      " 0   user_id     500 non-null    int64 \n",
      " 1   age         500 non-null    int64 \n",
      " 2   churn_date  38 non-null     object\n",
      " 3   city        500 non-null    object\n",
      " 4   first_name  500 non-null    object\n",
      " 5   last_name   500 non-null    object\n",
      " 6   reg_date    500 non-null    object\n",
      " 7   tariff      500 non-null    object\n",
      "dtypes: int64(2), object(6)\n",
      "memory usage: 31.4+ KB\n"
     ]
    },
    {
     "data": {
      "text/html": [
       "<div>\n",
       "<style scoped>\n",
       "    .dataframe tbody tr th:only-of-type {\n",
       "        vertical-align: middle;\n",
       "    }\n",
       "\n",
       "    .dataframe tbody tr th {\n",
       "        vertical-align: top;\n",
       "    }\n",
       "\n",
       "    .dataframe thead th {\n",
       "        text-align: right;\n",
       "    }\n",
       "</style>\n",
       "<table border=\"1\" class=\"dataframe\">\n",
       "  <thead>\n",
       "    <tr style=\"text-align: right;\">\n",
       "      <th></th>\n",
       "      <th>user_id</th>\n",
       "      <th>age</th>\n",
       "      <th>churn_date</th>\n",
       "      <th>city</th>\n",
       "      <th>first_name</th>\n",
       "      <th>last_name</th>\n",
       "      <th>reg_date</th>\n",
       "      <th>tariff</th>\n",
       "    </tr>\n",
       "  </thead>\n",
       "  <tbody>\n",
       "    <tr>\n",
       "      <th>0</th>\n",
       "      <td>1000</td>\n",
       "      <td>52</td>\n",
       "      <td>NaN</td>\n",
       "      <td>Краснодар</td>\n",
       "      <td>Рафаил</td>\n",
       "      <td>Верещагин</td>\n",
       "      <td>2018-05-25</td>\n",
       "      <td>ultra</td>\n",
       "    </tr>\n",
       "    <tr>\n",
       "      <th>1</th>\n",
       "      <td>1001</td>\n",
       "      <td>41</td>\n",
       "      <td>NaN</td>\n",
       "      <td>Москва</td>\n",
       "      <td>Иван</td>\n",
       "      <td>Ежов</td>\n",
       "      <td>2018-11-01</td>\n",
       "      <td>smart</td>\n",
       "    </tr>\n",
       "    <tr>\n",
       "      <th>2</th>\n",
       "      <td>1002</td>\n",
       "      <td>59</td>\n",
       "      <td>NaN</td>\n",
       "      <td>Стерлитамак</td>\n",
       "      <td>Евгений</td>\n",
       "      <td>Абрамович</td>\n",
       "      <td>2018-06-17</td>\n",
       "      <td>smart</td>\n",
       "    </tr>\n",
       "    <tr>\n",
       "      <th>3</th>\n",
       "      <td>1003</td>\n",
       "      <td>23</td>\n",
       "      <td>NaN</td>\n",
       "      <td>Москва</td>\n",
       "      <td>Белла</td>\n",
       "      <td>Белякова</td>\n",
       "      <td>2018-08-17</td>\n",
       "      <td>ultra</td>\n",
       "    </tr>\n",
       "    <tr>\n",
       "      <th>4</th>\n",
       "      <td>1004</td>\n",
       "      <td>68</td>\n",
       "      <td>NaN</td>\n",
       "      <td>Новокузнецк</td>\n",
       "      <td>Татьяна</td>\n",
       "      <td>Авдеенко</td>\n",
       "      <td>2018-05-14</td>\n",
       "      <td>ultra</td>\n",
       "    </tr>\n",
       "  </tbody>\n",
       "</table>\n",
       "</div>"
      ],
      "text/plain": [
       "   user_id  age churn_date         city first_name  last_name    reg_date  \\\n",
       "0     1000   52        NaN    Краснодар     Рафаил  Верещагин  2018-05-25   \n",
       "1     1001   41        NaN       Москва       Иван       Ежов  2018-11-01   \n",
       "2     1002   59        NaN  Стерлитамак    Евгений  Абрамович  2018-06-17   \n",
       "3     1003   23        NaN       Москва      Белла   Белякова  2018-08-17   \n",
       "4     1004   68        NaN  Новокузнецк    Татьяна   Авдеенко  2018-05-14   \n",
       "\n",
       "  tariff  \n",
       "0  ultra  \n",
       "1  smart  \n",
       "2  smart  \n",
       "3  ultra  \n",
       "4  ultra  "
      ]
     },
     "execution_count": 6,
     "metadata": {},
     "output_type": "execute_result"
    }
   ],
   "source": [
    "usr_set = pd.read_csv('/datasets/users.csv')\n",
    "usr_set.info()\n",
    "usr_set.head()"
   ]
  },
  {
   "cell_type": "markdown",
   "id": "ca160b5d",
   "metadata": {},
   "source": [
    "### Вывод по результатам изучения данных\n",
    "Все представленные данные удалось прочитать. Значения дат в таблицах целесообразно преобразовать в значение типа datetime. \n",
    "Так эти значения будет проще группировать и категорировать"
   ]
  },
  {
   "cell_type": "markdown",
   "id": "deec85ca",
   "metadata": {},
   "source": [
    "## Предобработка данных"
   ]
  },
  {
   "cell_type": "code",
   "execution_count": 7,
   "id": "8dd6a7e2",
   "metadata": {},
   "outputs": [],
   "source": [
    "#Преобразуем в соответствующий формат ячейки, которые фактически содержат дату\n",
    "cls_set['call_date']=pd.DatetimeIndex(cls_set['call_date'])\n",
    "int_set['session_date']=pd.DatetimeIndex(int_set['session_date'])\n",
    "msg_set['message_date']=pd.DatetimeIndex(msg_set['message_date'])\n",
    "usr_set['reg_date']=pd.DatetimeIndex(usr_set['reg_date'])\n",
    "usr_set['churn_date']=pd.DatetimeIndex(usr_set['churn_date'])"
   ]
  },
  {
   "cell_type": "code",
   "execution_count": 8,
   "id": "00ff1d80",
   "metadata": {},
   "outputs": [
    {
     "data": {
      "text/html": [
       "<div>\n",
       "<style scoped>\n",
       "    .dataframe tbody tr th:only-of-type {\n",
       "        vertical-align: middle;\n",
       "    }\n",
       "\n",
       "    .dataframe tbody tr th {\n",
       "        vertical-align: top;\n",
       "    }\n",
       "\n",
       "    .dataframe thead th {\n",
       "        text-align: right;\n",
       "    }\n",
       "</style>\n",
       "<table border=\"1\" class=\"dataframe\">\n",
       "  <thead>\n",
       "    <tr style=\"text-align: right;\">\n",
       "      <th></th>\n",
       "      <th>user_id</th>\n",
       "      <th>month_start</th>\n",
       "      <th>calls_sum</th>\n",
       "      <th>calls_qty</th>\n",
       "    </tr>\n",
       "  </thead>\n",
       "  <tbody>\n",
       "    <tr>\n",
       "      <th>0</th>\n",
       "      <td>1000</td>\n",
       "      <td>2018-05-01</td>\n",
       "      <td>159.0</td>\n",
       "      <td>22.0</td>\n",
       "    </tr>\n",
       "    <tr>\n",
       "      <th>1</th>\n",
       "      <td>1000</td>\n",
       "      <td>2018-06-01</td>\n",
       "      <td>172.0</td>\n",
       "      <td>43.0</td>\n",
       "    </tr>\n",
       "    <tr>\n",
       "      <th>2</th>\n",
       "      <td>1000</td>\n",
       "      <td>2018-07-01</td>\n",
       "      <td>340.0</td>\n",
       "      <td>47.0</td>\n",
       "    </tr>\n",
       "    <tr>\n",
       "      <th>3</th>\n",
       "      <td>1000</td>\n",
       "      <td>2018-08-01</td>\n",
       "      <td>408.0</td>\n",
       "      <td>52.0</td>\n",
       "    </tr>\n",
       "    <tr>\n",
       "      <th>4</th>\n",
       "      <td>1000</td>\n",
       "      <td>2018-09-01</td>\n",
       "      <td>466.0</td>\n",
       "      <td>58.0</td>\n",
       "    </tr>\n",
       "  </tbody>\n",
       "</table>\n",
       "</div>"
      ],
      "text/plain": [
       "   user_id month_start  calls_sum  calls_qty\n",
       "0     1000  2018-05-01      159.0       22.0\n",
       "1     1000  2018-06-01      172.0       43.0\n",
       "2     1000  2018-07-01      340.0       47.0\n",
       "3     1000  2018-08-01      408.0       52.0\n",
       "4     1000  2018-09-01      466.0       58.0"
      ]
     },
     "metadata": {},
     "output_type": "display_data"
    }
   ],
   "source": [
    "#получим сумму минут звонков, предварительно округлив в большую сторону.\n",
    "cls_grp=cls_set.groupby(['user_id',pd.Grouper(freq='MS',key='call_date')]).agg(calls_sum=('duration', lambda x:sum(np.ceil(x))),calls_qty=('duration',lambda y:y.count())).reset_index()\n",
    "cls_grp.rename(columns={'call_date':'month_start'},inplace=True)\n",
    "display(cls_grp.head())"
   ]
  },
  {
   "cell_type": "code",
   "execution_count": 9,
   "id": "cbda507d",
   "metadata": {},
   "outputs": [
    {
     "data": {
      "text/html": [
       "<div>\n",
       "<style scoped>\n",
       "    .dataframe tbody tr th:only-of-type {\n",
       "        vertical-align: middle;\n",
       "    }\n",
       "\n",
       "    .dataframe tbody tr th {\n",
       "        vertical-align: top;\n",
       "    }\n",
       "\n",
       "    .dataframe thead th {\n",
       "        text-align: right;\n",
       "    }\n",
       "</style>\n",
       "<table border=\"1\" class=\"dataframe\">\n",
       "  <thead>\n",
       "    <tr style=\"text-align: right;\">\n",
       "      <th></th>\n",
       "      <th>user_id</th>\n",
       "      <th>month_start</th>\n",
       "      <th>gb_round</th>\n",
       "    </tr>\n",
       "  </thead>\n",
       "  <tbody>\n",
       "    <tr>\n",
       "      <th>0</th>\n",
       "      <td>1000</td>\n",
       "      <td>2018-05-01</td>\n",
       "      <td>3.0</td>\n",
       "    </tr>\n",
       "    <tr>\n",
       "      <th>1</th>\n",
       "      <td>1000</td>\n",
       "      <td>2018-06-01</td>\n",
       "      <td>23.0</td>\n",
       "    </tr>\n",
       "    <tr>\n",
       "      <th>2</th>\n",
       "      <td>1000</td>\n",
       "      <td>2018-07-01</td>\n",
       "      <td>14.0</td>\n",
       "    </tr>\n",
       "    <tr>\n",
       "      <th>3</th>\n",
       "      <td>1000</td>\n",
       "      <td>2018-08-01</td>\n",
       "      <td>14.0</td>\n",
       "    </tr>\n",
       "    <tr>\n",
       "      <th>4</th>\n",
       "      <td>1000</td>\n",
       "      <td>2018-09-01</td>\n",
       "      <td>15.0</td>\n",
       "    </tr>\n",
       "  </tbody>\n",
       "</table>\n",
       "</div>"
      ],
      "text/plain": [
       "   user_id month_start  gb_round\n",
       "0     1000  2018-05-01       3.0\n",
       "1     1000  2018-06-01      23.0\n",
       "2     1000  2018-07-01      14.0\n",
       "3     1000  2018-08-01      14.0\n",
       "4     1000  2018-09-01      15.0"
      ]
     },
     "execution_count": 9,
     "metadata": {},
     "output_type": "execute_result"
    }
   ],
   "source": [
    "int_grp=int_set.groupby(['user_id',pd.Grouper(freq='MS',key='session_date')]).agg(gb_round=('mb_used', lambda x:np.ceil(sum(x/1024)))).reset_index()\n",
    "int_grp.rename(columns={'session_date':'month_start'},inplace=True)\n",
    "int_grp.head()"
   ]
  },
  {
   "cell_type": "code",
   "execution_count": 10,
   "id": "95a10dee",
   "metadata": {},
   "outputs": [
    {
     "data": {
      "text/html": [
       "<div>\n",
       "<style scoped>\n",
       "    .dataframe tbody tr th:only-of-type {\n",
       "        vertical-align: middle;\n",
       "    }\n",
       "\n",
       "    .dataframe tbody tr th {\n",
       "        vertical-align: top;\n",
       "    }\n",
       "\n",
       "    .dataframe thead th {\n",
       "        text-align: right;\n",
       "    }\n",
       "</style>\n",
       "<table border=\"1\" class=\"dataframe\">\n",
       "  <thead>\n",
       "    <tr style=\"text-align: right;\">\n",
       "      <th></th>\n",
       "      <th>user_id</th>\n",
       "      <th>month_start</th>\n",
       "      <th>calls_sum</th>\n",
       "      <th>calls_qty</th>\n",
       "      <th>gb_round</th>\n",
       "    </tr>\n",
       "  </thead>\n",
       "  <tbody>\n",
       "    <tr>\n",
       "      <th>0</th>\n",
       "      <td>1000</td>\n",
       "      <td>2018-05-01</td>\n",
       "      <td>159.0</td>\n",
       "      <td>22.0</td>\n",
       "      <td>3.0</td>\n",
       "    </tr>\n",
       "    <tr>\n",
       "      <th>1</th>\n",
       "      <td>1000</td>\n",
       "      <td>2018-06-01</td>\n",
       "      <td>172.0</td>\n",
       "      <td>43.0</td>\n",
       "      <td>23.0</td>\n",
       "    </tr>\n",
       "    <tr>\n",
       "      <th>2</th>\n",
       "      <td>1000</td>\n",
       "      <td>2018-07-01</td>\n",
       "      <td>340.0</td>\n",
       "      <td>47.0</td>\n",
       "      <td>14.0</td>\n",
       "    </tr>\n",
       "    <tr>\n",
       "      <th>3</th>\n",
       "      <td>1000</td>\n",
       "      <td>2018-08-01</td>\n",
       "      <td>408.0</td>\n",
       "      <td>52.0</td>\n",
       "      <td>14.0</td>\n",
       "    </tr>\n",
       "    <tr>\n",
       "      <th>4</th>\n",
       "      <td>1000</td>\n",
       "      <td>2018-09-01</td>\n",
       "      <td>466.0</td>\n",
       "      <td>58.0</td>\n",
       "      <td>15.0</td>\n",
       "    </tr>\n",
       "  </tbody>\n",
       "</table>\n",
       "</div>"
      ],
      "text/plain": [
       "   user_id month_start  calls_sum  calls_qty  gb_round\n",
       "0     1000  2018-05-01      159.0       22.0       3.0\n",
       "1     1000  2018-06-01      172.0       43.0      23.0\n",
       "2     1000  2018-07-01      340.0       47.0      14.0\n",
       "3     1000  2018-08-01      408.0       52.0      14.0\n",
       "4     1000  2018-09-01      466.0       58.0      15.0"
      ]
     },
     "execution_count": 10,
     "metadata": {},
     "output_type": "execute_result"
    }
   ],
   "source": [
    "all_use = pd.merge(cls_grp, int_grp, how='outer',left_on=('user_id','month_start'), right_on=('user_id','month_start'))\n",
    "all_use.head()"
   ]
  },
  {
   "cell_type": "code",
   "execution_count": 11,
   "id": "8fbc8aa4",
   "metadata": {},
   "outputs": [
    {
     "data": {
      "text/html": [
       "<div>\n",
       "<style scoped>\n",
       "    .dataframe tbody tr th:only-of-type {\n",
       "        vertical-align: middle;\n",
       "    }\n",
       "\n",
       "    .dataframe tbody tr th {\n",
       "        vertical-align: top;\n",
       "    }\n",
       "\n",
       "    .dataframe thead th {\n",
       "        text-align: right;\n",
       "    }\n",
       "</style>\n",
       "<table border=\"1\" class=\"dataframe\">\n",
       "  <thead>\n",
       "    <tr style=\"text-align: right;\">\n",
       "      <th></th>\n",
       "      <th>user_id</th>\n",
       "      <th>month_start</th>\n",
       "      <th>msg_qty</th>\n",
       "    </tr>\n",
       "  </thead>\n",
       "  <tbody>\n",
       "    <tr>\n",
       "      <th>0</th>\n",
       "      <td>1000</td>\n",
       "      <td>2018-05-01</td>\n",
       "      <td>22</td>\n",
       "    </tr>\n",
       "    <tr>\n",
       "      <th>1</th>\n",
       "      <td>1000</td>\n",
       "      <td>2018-06-01</td>\n",
       "      <td>60</td>\n",
       "    </tr>\n",
       "    <tr>\n",
       "      <th>2</th>\n",
       "      <td>1000</td>\n",
       "      <td>2018-07-01</td>\n",
       "      <td>75</td>\n",
       "    </tr>\n",
       "    <tr>\n",
       "      <th>3</th>\n",
       "      <td>1000</td>\n",
       "      <td>2018-08-01</td>\n",
       "      <td>81</td>\n",
       "    </tr>\n",
       "    <tr>\n",
       "      <th>4</th>\n",
       "      <td>1000</td>\n",
       "      <td>2018-09-01</td>\n",
       "      <td>57</td>\n",
       "    </tr>\n",
       "  </tbody>\n",
       "</table>\n",
       "</div>"
      ],
      "text/plain": [
       "   user_id month_start  msg_qty\n",
       "0     1000  2018-05-01       22\n",
       "1     1000  2018-06-01       60\n",
       "2     1000  2018-07-01       75\n",
       "3     1000  2018-08-01       81\n",
       "4     1000  2018-09-01       57"
      ]
     },
     "execution_count": 11,
     "metadata": {},
     "output_type": "execute_result"
    }
   ],
   "source": [
    "msg_grp = msg_set.groupby(['user_id',pd.Grouper(freq='MS',key='message_date')]).agg({'id':'count'}).reset_index()\n",
    "msg_grp.rename(columns={'id':'msg_qty','message_date':'month_start'},inplace=True)\n",
    "msg_grp.head()"
   ]
  },
  {
   "cell_type": "code",
   "execution_count": 12,
   "id": "44359081",
   "metadata": {
    "scrolled": true
   },
   "outputs": [
    {
     "data": {
      "text/html": [
       "<div>\n",
       "<style scoped>\n",
       "    .dataframe tbody tr th:only-of-type {\n",
       "        vertical-align: middle;\n",
       "    }\n",
       "\n",
       "    .dataframe tbody tr th {\n",
       "        vertical-align: top;\n",
       "    }\n",
       "\n",
       "    .dataframe thead th {\n",
       "        text-align: right;\n",
       "    }\n",
       "</style>\n",
       "<table border=\"1\" class=\"dataframe\">\n",
       "  <thead>\n",
       "    <tr style=\"text-align: right;\">\n",
       "      <th></th>\n",
       "      <th>user_id</th>\n",
       "      <th>month_start</th>\n",
       "      <th>calls_sum</th>\n",
       "      <th>calls_qty</th>\n",
       "      <th>gb_round</th>\n",
       "      <th>msg_qty</th>\n",
       "    </tr>\n",
       "  </thead>\n",
       "  <tbody>\n",
       "    <tr>\n",
       "      <th>0</th>\n",
       "      <td>1000</td>\n",
       "      <td>2018-05-01</td>\n",
       "      <td>159.0</td>\n",
       "      <td>22.0</td>\n",
       "      <td>3.0</td>\n",
       "      <td>22.0</td>\n",
       "    </tr>\n",
       "    <tr>\n",
       "      <th>1</th>\n",
       "      <td>1000</td>\n",
       "      <td>2018-06-01</td>\n",
       "      <td>172.0</td>\n",
       "      <td>43.0</td>\n",
       "      <td>23.0</td>\n",
       "      <td>60.0</td>\n",
       "    </tr>\n",
       "    <tr>\n",
       "      <th>2</th>\n",
       "      <td>1000</td>\n",
       "      <td>2018-07-01</td>\n",
       "      <td>340.0</td>\n",
       "      <td>47.0</td>\n",
       "      <td>14.0</td>\n",
       "      <td>75.0</td>\n",
       "    </tr>\n",
       "    <tr>\n",
       "      <th>3</th>\n",
       "      <td>1000</td>\n",
       "      <td>2018-08-01</td>\n",
       "      <td>408.0</td>\n",
       "      <td>52.0</td>\n",
       "      <td>14.0</td>\n",
       "      <td>81.0</td>\n",
       "    </tr>\n",
       "    <tr>\n",
       "      <th>4</th>\n",
       "      <td>1000</td>\n",
       "      <td>2018-09-01</td>\n",
       "      <td>466.0</td>\n",
       "      <td>58.0</td>\n",
       "      <td>15.0</td>\n",
       "      <td>57.0</td>\n",
       "    </tr>\n",
       "  </tbody>\n",
       "</table>\n",
       "</div>"
      ],
      "text/plain": [
       "   user_id month_start  calls_sum  calls_qty  gb_round  msg_qty\n",
       "0     1000  2018-05-01      159.0       22.0       3.0     22.0\n",
       "1     1000  2018-06-01      172.0       43.0      23.0     60.0\n",
       "2     1000  2018-07-01      340.0       47.0      14.0     75.0\n",
       "3     1000  2018-08-01      408.0       52.0      14.0     81.0\n",
       "4     1000  2018-09-01      466.0       58.0      15.0     57.0"
      ]
     },
     "execution_count": 12,
     "metadata": {},
     "output_type": "execute_result"
    }
   ],
   "source": [
    "all_use = pd.merge(all_use, msg_grp, how='outer',on=('user_id','month_start'))\n",
    "all_use.head()"
   ]
  },
  {
   "cell_type": "markdown",
   "id": "326ff463",
   "metadata": {},
   "source": [
    "создадим таблицу с выручкой по клиентам-месяцам. \n",
    "В такой таблице мы получим записи за все месяцы, в т.ч. в которых клиенты не пользовались мобильной связью.\n",
    "в этом случае в таблице будет только абон.плата\n",
    "посчитаем месяц начала и конца обслуживания - \n",
    "для клиентов у которых окончание обслужвиания не заполнено, проставим месяц окончания - 12"
   ]
  },
  {
   "cell_type": "code",
   "execution_count": 13,
   "id": "d2798ce1",
   "metadata": {},
   "outputs": [],
   "source": [
    "\n",
    "user_revenue = pd.DataFrame(columns=['user_id','month','tariff','tariff_fee'])\n",
    "\n",
    "\n",
    "usr_set['month_start']=pd.DatetimeIndex(usr_set['reg_date']).month.astype(int)\n",
    "usr_set['month_end']=pd.DatetimeIndex(usr_set['churn_date']).month.fillna(12).astype(int)\n",
    "for ind, row in usr_set.iterrows():\n",
    "    #Запустим цикл по значениям от первого до последнего месяца обслуживания и проставим абонентску плату. \n",
    "    #так мы создадим строки таблицы для услуг клиентам за каждый месяц действия договора:\n",
    "    for i in range(row['month_start'],row['month_end']+1):\n",
    "        #создаем лямбда функцию для присваивания значения стоимости тарифа\n",
    "        tariff_fee = lambda x:550 if x=='smart' else 1950\n",
    "        new_row = (row['user_id'],i,row['tariff'],tariff_fee(row['tariff']))\n",
    "        user_revenue.loc[len(user_revenue)+1]=new_row"
   ]
  },
  {
   "cell_type": "code",
   "execution_count": 14,
   "id": "f3397ddb",
   "metadata": {},
   "outputs": [
    {
     "data": {
      "text/html": [
       "<div>\n",
       "<style scoped>\n",
       "    .dataframe tbody tr th:only-of-type {\n",
       "        vertical-align: middle;\n",
       "    }\n",
       "\n",
       "    .dataframe tbody tr th {\n",
       "        vertical-align: top;\n",
       "    }\n",
       "\n",
       "    .dataframe thead th {\n",
       "        text-align: right;\n",
       "    }\n",
       "</style>\n",
       "<table border=\"1\" class=\"dataframe\">\n",
       "  <thead>\n",
       "    <tr style=\"text-align: right;\">\n",
       "      <th></th>\n",
       "      <th>user_id</th>\n",
       "      <th>month</th>\n",
       "      <th>tariff</th>\n",
       "      <th>tariff_fee</th>\n",
       "    </tr>\n",
       "  </thead>\n",
       "  <tbody>\n",
       "    <tr>\n",
       "      <th>1</th>\n",
       "      <td>1000</td>\n",
       "      <td>5</td>\n",
       "      <td>ultra</td>\n",
       "      <td>1950</td>\n",
       "    </tr>\n",
       "    <tr>\n",
       "      <th>2</th>\n",
       "      <td>1000</td>\n",
       "      <td>6</td>\n",
       "      <td>ultra</td>\n",
       "      <td>1950</td>\n",
       "    </tr>\n",
       "    <tr>\n",
       "      <th>3</th>\n",
       "      <td>1000</td>\n",
       "      <td>7</td>\n",
       "      <td>ultra</td>\n",
       "      <td>1950</td>\n",
       "    </tr>\n",
       "    <tr>\n",
       "      <th>4</th>\n",
       "      <td>1000</td>\n",
       "      <td>8</td>\n",
       "      <td>ultra</td>\n",
       "      <td>1950</td>\n",
       "    </tr>\n",
       "    <tr>\n",
       "      <th>5</th>\n",
       "      <td>1000</td>\n",
       "      <td>9</td>\n",
       "      <td>ultra</td>\n",
       "      <td>1950</td>\n",
       "    </tr>\n",
       "    <tr>\n",
       "      <th>6</th>\n",
       "      <td>1000</td>\n",
       "      <td>10</td>\n",
       "      <td>ultra</td>\n",
       "      <td>1950</td>\n",
       "    </tr>\n",
       "    <tr>\n",
       "      <th>7</th>\n",
       "      <td>1000</td>\n",
       "      <td>11</td>\n",
       "      <td>ultra</td>\n",
       "      <td>1950</td>\n",
       "    </tr>\n",
       "    <tr>\n",
       "      <th>8</th>\n",
       "      <td>1000</td>\n",
       "      <td>12</td>\n",
       "      <td>ultra</td>\n",
       "      <td>1950</td>\n",
       "    </tr>\n",
       "    <tr>\n",
       "      <th>9</th>\n",
       "      <td>1001</td>\n",
       "      <td>11</td>\n",
       "      <td>smart</td>\n",
       "      <td>550</td>\n",
       "    </tr>\n",
       "    <tr>\n",
       "      <th>10</th>\n",
       "      <td>1001</td>\n",
       "      <td>12</td>\n",
       "      <td>smart</td>\n",
       "      <td>550</td>\n",
       "    </tr>\n",
       "    <tr>\n",
       "      <th>11</th>\n",
       "      <td>1002</td>\n",
       "      <td>6</td>\n",
       "      <td>smart</td>\n",
       "      <td>550</td>\n",
       "    </tr>\n",
       "    <tr>\n",
       "      <th>12</th>\n",
       "      <td>1002</td>\n",
       "      <td>7</td>\n",
       "      <td>smart</td>\n",
       "      <td>550</td>\n",
       "    </tr>\n",
       "    <tr>\n",
       "      <th>13</th>\n",
       "      <td>1002</td>\n",
       "      <td>8</td>\n",
       "      <td>smart</td>\n",
       "      <td>550</td>\n",
       "    </tr>\n",
       "    <tr>\n",
       "      <th>14</th>\n",
       "      <td>1002</td>\n",
       "      <td>9</td>\n",
       "      <td>smart</td>\n",
       "      <td>550</td>\n",
       "    </tr>\n",
       "    <tr>\n",
       "      <th>15</th>\n",
       "      <td>1002</td>\n",
       "      <td>10</td>\n",
       "      <td>smart</td>\n",
       "      <td>550</td>\n",
       "    </tr>\n",
       "    <tr>\n",
       "      <th>16</th>\n",
       "      <td>1002</td>\n",
       "      <td>11</td>\n",
       "      <td>smart</td>\n",
       "      <td>550</td>\n",
       "    </tr>\n",
       "    <tr>\n",
       "      <th>17</th>\n",
       "      <td>1002</td>\n",
       "      <td>12</td>\n",
       "      <td>smart</td>\n",
       "      <td>550</td>\n",
       "    </tr>\n",
       "    <tr>\n",
       "      <th>18</th>\n",
       "      <td>1003</td>\n",
       "      <td>8</td>\n",
       "      <td>ultra</td>\n",
       "      <td>1950</td>\n",
       "    </tr>\n",
       "    <tr>\n",
       "      <th>19</th>\n",
       "      <td>1003</td>\n",
       "      <td>9</td>\n",
       "      <td>ultra</td>\n",
       "      <td>1950</td>\n",
       "    </tr>\n",
       "    <tr>\n",
       "      <th>20</th>\n",
       "      <td>1003</td>\n",
       "      <td>10</td>\n",
       "      <td>ultra</td>\n",
       "      <td>1950</td>\n",
       "    </tr>\n",
       "  </tbody>\n",
       "</table>\n",
       "</div>"
      ],
      "text/plain": [
       "   user_id month tariff tariff_fee\n",
       "1     1000     5  ultra       1950\n",
       "2     1000     6  ultra       1950\n",
       "3     1000     7  ultra       1950\n",
       "4     1000     8  ultra       1950\n",
       "5     1000     9  ultra       1950\n",
       "6     1000    10  ultra       1950\n",
       "7     1000    11  ultra       1950\n",
       "8     1000    12  ultra       1950\n",
       "9     1001    11  smart        550\n",
       "10    1001    12  smart        550\n",
       "11    1002     6  smart        550\n",
       "12    1002     7  smart        550\n",
       "13    1002     8  smart        550\n",
       "14    1002     9  smart        550\n",
       "15    1002    10  smart        550\n",
       "16    1002    11  smart        550\n",
       "17    1002    12  smart        550\n",
       "18    1003     8  ultra       1950\n",
       "19    1003     9  ultra       1950\n",
       "20    1003    10  ultra       1950"
      ]
     },
     "execution_count": 14,
     "metadata": {},
     "output_type": "execute_result"
    }
   ],
   "source": [
    "user_revenue.head(20)"
   ]
  },
  {
   "cell_type": "code",
   "execution_count": 15,
   "id": "e923bc00",
   "metadata": {
    "scrolled": true
   },
   "outputs": [
    {
     "data": {
      "text/html": [
       "<div>\n",
       "<style scoped>\n",
       "    .dataframe tbody tr th:only-of-type {\n",
       "        vertical-align: middle;\n",
       "    }\n",
       "\n",
       "    .dataframe tbody tr th {\n",
       "        vertical-align: top;\n",
       "    }\n",
       "\n",
       "    .dataframe thead th {\n",
       "        text-align: right;\n",
       "    }\n",
       "</style>\n",
       "<table border=\"1\" class=\"dataframe\">\n",
       "  <thead>\n",
       "    <tr style=\"text-align: right;\">\n",
       "      <th></th>\n",
       "      <th>user_id</th>\n",
       "      <th>month</th>\n",
       "      <th>tariff</th>\n",
       "      <th>tariff_fee</th>\n",
       "      <th>calls_sum</th>\n",
       "      <th>calls_qty</th>\n",
       "      <th>gb_round</th>\n",
       "      <th>msg_qty</th>\n",
       "    </tr>\n",
       "  </thead>\n",
       "  <tbody>\n",
       "    <tr>\n",
       "      <th>0</th>\n",
       "      <td>1000</td>\n",
       "      <td>5</td>\n",
       "      <td>ultra</td>\n",
       "      <td>1950</td>\n",
       "      <td>159.0</td>\n",
       "      <td>22.0</td>\n",
       "      <td>3.0</td>\n",
       "      <td>22.0</td>\n",
       "    </tr>\n",
       "    <tr>\n",
       "      <th>1</th>\n",
       "      <td>1000</td>\n",
       "      <td>6</td>\n",
       "      <td>ultra</td>\n",
       "      <td>1950</td>\n",
       "      <td>172.0</td>\n",
       "      <td>43.0</td>\n",
       "      <td>23.0</td>\n",
       "      <td>60.0</td>\n",
       "    </tr>\n",
       "    <tr>\n",
       "      <th>2</th>\n",
       "      <td>1000</td>\n",
       "      <td>7</td>\n",
       "      <td>ultra</td>\n",
       "      <td>1950</td>\n",
       "      <td>340.0</td>\n",
       "      <td>47.0</td>\n",
       "      <td>14.0</td>\n",
       "      <td>75.0</td>\n",
       "    </tr>\n",
       "    <tr>\n",
       "      <th>3</th>\n",
       "      <td>1000</td>\n",
       "      <td>8</td>\n",
       "      <td>ultra</td>\n",
       "      <td>1950</td>\n",
       "      <td>408.0</td>\n",
       "      <td>52.0</td>\n",
       "      <td>14.0</td>\n",
       "      <td>81.0</td>\n",
       "    </tr>\n",
       "    <tr>\n",
       "      <th>4</th>\n",
       "      <td>1000</td>\n",
       "      <td>9</td>\n",
       "      <td>ultra</td>\n",
       "      <td>1950</td>\n",
       "      <td>466.0</td>\n",
       "      <td>58.0</td>\n",
       "      <td>15.0</td>\n",
       "      <td>57.0</td>\n",
       "    </tr>\n",
       "  </tbody>\n",
       "</table>\n",
       "</div>"
      ],
      "text/plain": [
       "  user_id month tariff tariff_fee  calls_sum  calls_qty  gb_round  msg_qty\n",
       "0    1000     5  ultra       1950      159.0       22.0       3.0     22.0\n",
       "1    1000     6  ultra       1950      172.0       43.0      23.0     60.0\n",
       "2    1000     7  ultra       1950      340.0       47.0      14.0     75.0\n",
       "3    1000     8  ultra       1950      408.0       52.0      14.0     81.0\n",
       "4    1000     9  ultra       1950      466.0       58.0      15.0     57.0"
      ]
     },
     "execution_count": 15,
     "metadata": {},
     "output_type": "execute_result"
    }
   ],
   "source": [
    "all_use['month'] = pd.DatetimeIndex(all_use['month_start']).month.astype(int)\n",
    "all_use=all_use.drop('month_start',axis=1)\n",
    "user_revenue = pd.merge(user_revenue,all_use,how='left',on=('user_id','month'))\n",
    "user_revenue.head()"
   ]
  },
  {
   "cell_type": "markdown",
   "id": "b0ae32d6",
   "metadata": {},
   "source": [
    "Проверим строки по которым услуг не было установлено вообще:"
   ]
  },
  {
   "cell_type": "code",
   "execution_count": 16,
   "id": "39e0fffc",
   "metadata": {
    "scrolled": false
   },
   "outputs": [
    {
     "data": {
      "text/html": [
       "<div>\n",
       "<style scoped>\n",
       "    .dataframe tbody tr th:only-of-type {\n",
       "        vertical-align: middle;\n",
       "    }\n",
       "\n",
       "    .dataframe tbody tr th {\n",
       "        vertical-align: top;\n",
       "    }\n",
       "\n",
       "    .dataframe thead th {\n",
       "        text-align: right;\n",
       "    }\n",
       "</style>\n",
       "<table border=\"1\" class=\"dataframe\">\n",
       "  <thead>\n",
       "    <tr style=\"text-align: right;\">\n",
       "      <th></th>\n",
       "      <th>user_id</th>\n",
       "      <th>month</th>\n",
       "      <th>tariff</th>\n",
       "      <th>tariff_fee</th>\n",
       "      <th>calls_sum</th>\n",
       "      <th>calls_qty</th>\n",
       "      <th>gb_round</th>\n",
       "      <th>msg_qty</th>\n",
       "    </tr>\n",
       "  </thead>\n",
       "  <tbody>\n",
       "    <tr>\n",
       "      <th>827</th>\n",
       "      <td>1128</td>\n",
       "      <td>12</td>\n",
       "      <td>ultra</td>\n",
       "      <td>1950</td>\n",
       "      <td>NaN</td>\n",
       "      <td>NaN</td>\n",
       "      <td>NaN</td>\n",
       "      <td>NaN</td>\n",
       "    </tr>\n",
       "    <tr>\n",
       "      <th>2335</th>\n",
       "      <td>1371</td>\n",
       "      <td>12</td>\n",
       "      <td>smart</td>\n",
       "      <td>550</td>\n",
       "      <td>NaN</td>\n",
       "      <td>NaN</td>\n",
       "      <td>NaN</td>\n",
       "      <td>NaN</td>\n",
       "    </tr>\n",
       "  </tbody>\n",
       "</table>\n",
       "</div>"
      ],
      "text/plain": [
       "     user_id month tariff tariff_fee  calls_sum  calls_qty  gb_round  msg_qty\n",
       "827     1128    12  ultra       1950        NaN        NaN       NaN      NaN\n",
       "2335    1371    12  smart        550        NaN        NaN       NaN      NaN"
      ]
     },
     "execution_count": 16,
     "metadata": {},
     "output_type": "execute_result"
    }
   ],
   "source": [
    "user_revenue.query('calls_sum.isna() and calls_qty.isna() and gb_round.isna() and msg_qty.isna()',engine='python').head()"
   ]
  },
  {
   "cell_type": "markdown",
   "id": "23752ac9",
   "metadata": {},
   "source": [
    "Всего две записи по 2м клиентам по которым отсутствует объем оказанных услуг. Посмотрим данные по этим клиентам:"
   ]
  },
  {
   "cell_type": "code",
   "execution_count": 17,
   "id": "25ea3a6d",
   "metadata": {
    "scrolled": false
   },
   "outputs": [
    {
     "data": {
      "text/html": [
       "<div>\n",
       "<style scoped>\n",
       "    .dataframe tbody tr th:only-of-type {\n",
       "        vertical-align: middle;\n",
       "    }\n",
       "\n",
       "    .dataframe tbody tr th {\n",
       "        vertical-align: top;\n",
       "    }\n",
       "\n",
       "    .dataframe thead th {\n",
       "        text-align: right;\n",
       "    }\n",
       "</style>\n",
       "<table border=\"1\" class=\"dataframe\">\n",
       "  <thead>\n",
       "    <tr style=\"text-align: right;\">\n",
       "      <th></th>\n",
       "      <th>user_id</th>\n",
       "      <th>age</th>\n",
       "      <th>churn_date</th>\n",
       "      <th>city</th>\n",
       "      <th>first_name</th>\n",
       "      <th>last_name</th>\n",
       "      <th>reg_date</th>\n",
       "      <th>tariff</th>\n",
       "      <th>month_start</th>\n",
       "      <th>month_end</th>\n",
       "    </tr>\n",
       "  </thead>\n",
       "  <tbody>\n",
       "    <tr>\n",
       "      <th>128</th>\n",
       "      <td>1128</td>\n",
       "      <td>51</td>\n",
       "      <td>2018-12-23</td>\n",
       "      <td>Волжский</td>\n",
       "      <td>Ксения</td>\n",
       "      <td>Агаева</td>\n",
       "      <td>2018-12-15</td>\n",
       "      <td>ultra</td>\n",
       "      <td>12</td>\n",
       "      <td>12</td>\n",
       "    </tr>\n",
       "    <tr>\n",
       "      <th>371</th>\n",
       "      <td>1371</td>\n",
       "      <td>50</td>\n",
       "      <td>2018-12-30</td>\n",
       "      <td>Омск</td>\n",
       "      <td>Ириней</td>\n",
       "      <td>Трофимов</td>\n",
       "      <td>2018-12-25</td>\n",
       "      <td>smart</td>\n",
       "      <td>12</td>\n",
       "      <td>12</td>\n",
       "    </tr>\n",
       "  </tbody>\n",
       "</table>\n",
       "</div>"
      ],
      "text/plain": [
       "     user_id  age churn_date      city first_name last_name   reg_date tariff  \\\n",
       "128     1128   51 2018-12-23  Волжский     Ксения    Агаева 2018-12-15  ultra   \n",
       "371     1371   50 2018-12-30      Омск     Ириней  Трофимов 2018-12-25  smart   \n",
       "\n",
       "     month_start  month_end  \n",
       "128           12         12  \n",
       "371           12         12  "
      ]
     },
     "execution_count": 17,
     "metadata": {},
     "output_type": "execute_result"
    }
   ],
   "source": [
    "usr_set.query('user_id==1128 or user_id==1371')"
   ]
  },
  {
   "cell_type": "markdown",
   "id": "6aed69b8",
   "metadata": {},
   "source": [
    "Установлено 2 клиента подключившиеся в последнем месяце анализируемого периода. По данным клиентам не зафиксировано использование услуг связи (звонки, сеансы интернета, сообщения) однако по данным клиентам будет выручка в части абонентской платы."
   ]
  },
  {
   "cell_type": "code",
   "execution_count": 18,
   "id": "68176790",
   "metadata": {},
   "outputs": [],
   "source": [
    "#в таблице остались пропущенные значения в столбцах с объемом потребленных услуг. Они соответствуют нулевому потреблению:\n",
    "#для удобства рассчетов заменим пустые значения на 0.\n",
    "user_revenue = user_revenue.fillna(0).reset_index()"
   ]
  },
  {
   "cell_type": "markdown",
   "id": "e55e87e6",
   "metadata": {},
   "source": [
    "## Расчёты и добавление результатов в таблицу"
   ]
  },
  {
   "cell_type": "markdown",
   "id": "0152e979",
   "metadata": {},
   "source": [
    "Посчитаем дополнительный доход от превышения клиентами пакета услуг, включенных в абонентскую плату. \n",
    "Для этого вычтем из суммы использованных услуг за месяц сумму включенную в абонентску плату. \n",
    "Отбросим отрицательное значение (возведем в квадрат и извлечем корень) и умножим на стоимость услуги."
   ]
  },
  {
   "cell_type": "code",
   "execution_count": 19,
   "id": "c2ee4ae0",
   "metadata": {},
   "outputs": [],
   "source": [
    "user_revenue['revenue_calls']=np.nan\n",
    "user_revenue['revenue_traffic']=np.nan\n",
    "user_revenue['revenue_messages']=np.nan\n",
    "for index, row in trf_set.iterrows():\n",
    "    user_revenue.loc[user_revenue.tariff==row['tariff_name'],'revenue_calls']=(((user_revenue[user_revenue.tariff==row['tariff_name']]['calls_sum']-row['minutes_included'])*(user_revenue[user_revenue.tariff==row['tariff_name']]['calls_sum']-row['minutes_included']))**(1/2)+(user_revenue[user_revenue.tariff==row['tariff_name']]['calls_sum']-row['minutes_included']))/2*row['rub_per_minute']\n",
    "    user_revenue.loc[user_revenue.tariff==row['tariff_name'],'revenue_traffic']=(((user_revenue[user_revenue.tariff==row['tariff_name']]['gb_round']-row['mb_per_month_included']/1024)*(user_revenue[user_revenue.tariff==row['tariff_name']]['gb_round']-row['mb_per_month_included']/1024))**(1/2)+(user_revenue[user_revenue.tariff==row['tariff_name']]['gb_round']-row['mb_per_month_included']/1024))/2*row['rub_per_gb']\n",
    "    user_revenue.loc[user_revenue.tariff==row['tariff_name'],'revenue_messages']=(((user_revenue[user_revenue.tariff==row['tariff_name']]['msg_qty']-row['messages_included'])*(user_revenue[user_revenue.tariff==row['tariff_name']]['msg_qty']-row['messages_included']))**(1/2)+(user_revenue[user_revenue.tariff==row['tariff_name']]['msg_qty']-row['messages_included']))/2*row['rub_per_message']"
   ]
  },
  {
   "cell_type": "code",
   "execution_count": 20,
   "id": "c2caf38c",
   "metadata": {},
   "outputs": [
    {
     "data": {
      "text/html": [
       "<div>\n",
       "<style scoped>\n",
       "    .dataframe tbody tr th:only-of-type {\n",
       "        vertical-align: middle;\n",
       "    }\n",
       "\n",
       "    .dataframe tbody tr th {\n",
       "        vertical-align: top;\n",
       "    }\n",
       "\n",
       "    .dataframe thead th {\n",
       "        text-align: right;\n",
       "    }\n",
       "</style>\n",
       "<table border=\"1\" class=\"dataframe\">\n",
       "  <thead>\n",
       "    <tr style=\"text-align: right;\">\n",
       "      <th></th>\n",
       "      <th>index</th>\n",
       "      <th>user_id</th>\n",
       "      <th>month</th>\n",
       "      <th>tariff</th>\n",
       "      <th>tariff_fee</th>\n",
       "      <th>calls_sum</th>\n",
       "      <th>calls_qty</th>\n",
       "      <th>gb_round</th>\n",
       "      <th>msg_qty</th>\n",
       "      <th>revenue_calls</th>\n",
       "      <th>revenue_traffic</th>\n",
       "      <th>revenue_messages</th>\n",
       "    </tr>\n",
       "  </thead>\n",
       "  <tbody>\n",
       "    <tr>\n",
       "      <th>0</th>\n",
       "      <td>0</td>\n",
       "      <td>1000</td>\n",
       "      <td>5</td>\n",
       "      <td>ultra</td>\n",
       "      <td>1950</td>\n",
       "      <td>159.0</td>\n",
       "      <td>22.0</td>\n",
       "      <td>3.0</td>\n",
       "      <td>22.0</td>\n",
       "      <td>0.0</td>\n",
       "      <td>0.0</td>\n",
       "      <td>0.0</td>\n",
       "    </tr>\n",
       "    <tr>\n",
       "      <th>1</th>\n",
       "      <td>1</td>\n",
       "      <td>1000</td>\n",
       "      <td>6</td>\n",
       "      <td>ultra</td>\n",
       "      <td>1950</td>\n",
       "      <td>172.0</td>\n",
       "      <td>43.0</td>\n",
       "      <td>23.0</td>\n",
       "      <td>60.0</td>\n",
       "      <td>0.0</td>\n",
       "      <td>0.0</td>\n",
       "      <td>0.0</td>\n",
       "    </tr>\n",
       "    <tr>\n",
       "      <th>2</th>\n",
       "      <td>2</td>\n",
       "      <td>1000</td>\n",
       "      <td>7</td>\n",
       "      <td>ultra</td>\n",
       "      <td>1950</td>\n",
       "      <td>340.0</td>\n",
       "      <td>47.0</td>\n",
       "      <td>14.0</td>\n",
       "      <td>75.0</td>\n",
       "      <td>0.0</td>\n",
       "      <td>0.0</td>\n",
       "      <td>0.0</td>\n",
       "    </tr>\n",
       "    <tr>\n",
       "      <th>3</th>\n",
       "      <td>3</td>\n",
       "      <td>1000</td>\n",
       "      <td>8</td>\n",
       "      <td>ultra</td>\n",
       "      <td>1950</td>\n",
       "      <td>408.0</td>\n",
       "      <td>52.0</td>\n",
       "      <td>14.0</td>\n",
       "      <td>81.0</td>\n",
       "      <td>0.0</td>\n",
       "      <td>0.0</td>\n",
       "      <td>0.0</td>\n",
       "    </tr>\n",
       "    <tr>\n",
       "      <th>4</th>\n",
       "      <td>4</td>\n",
       "      <td>1000</td>\n",
       "      <td>9</td>\n",
       "      <td>ultra</td>\n",
       "      <td>1950</td>\n",
       "      <td>466.0</td>\n",
       "      <td>58.0</td>\n",
       "      <td>15.0</td>\n",
       "      <td>57.0</td>\n",
       "      <td>0.0</td>\n",
       "      <td>0.0</td>\n",
       "      <td>0.0</td>\n",
       "    </tr>\n",
       "  </tbody>\n",
       "</table>\n",
       "</div>"
      ],
      "text/plain": [
       "   index  user_id  month tariff  tariff_fee  calls_sum  calls_qty  gb_round  \\\n",
       "0      0     1000      5  ultra        1950      159.0       22.0       3.0   \n",
       "1      1     1000      6  ultra        1950      172.0       43.0      23.0   \n",
       "2      2     1000      7  ultra        1950      340.0       47.0      14.0   \n",
       "3      3     1000      8  ultra        1950      408.0       52.0      14.0   \n",
       "4      4     1000      9  ultra        1950      466.0       58.0      15.0   \n",
       "\n",
       "   msg_qty  revenue_calls  revenue_traffic  revenue_messages  \n",
       "0     22.0            0.0              0.0               0.0  \n",
       "1     60.0            0.0              0.0               0.0  \n",
       "2     75.0            0.0              0.0               0.0  \n",
       "3     81.0            0.0              0.0               0.0  \n",
       "4     57.0            0.0              0.0               0.0  "
      ]
     },
     "execution_count": 20,
     "metadata": {},
     "output_type": "execute_result"
    }
   ],
   "source": [
    "user_revenue.head()"
   ]
  },
  {
   "cell_type": "code",
   "execution_count": 21,
   "id": "af428191",
   "metadata": {},
   "outputs": [],
   "source": [
    "user_revenue['total_revenue']=user_revenue['tariff_fee']+user_revenue['revenue_calls']+user_revenue['revenue_traffic']+user_revenue['revenue_messages']"
   ]
  },
  {
   "cell_type": "code",
   "execution_count": 22,
   "id": "57620991",
   "metadata": {
    "scrolled": false
   },
   "outputs": [
    {
     "data": {
      "text/html": [
       "<div>\n",
       "<style scoped>\n",
       "    .dataframe tbody tr th:only-of-type {\n",
       "        vertical-align: middle;\n",
       "    }\n",
       "\n",
       "    .dataframe tbody tr th {\n",
       "        vertical-align: top;\n",
       "    }\n",
       "\n",
       "    .dataframe thead th {\n",
       "        text-align: right;\n",
       "    }\n",
       "</style>\n",
       "<table border=\"1\" class=\"dataframe\">\n",
       "  <thead>\n",
       "    <tr style=\"text-align: right;\">\n",
       "      <th></th>\n",
       "      <th>index</th>\n",
       "      <th>user_id</th>\n",
       "      <th>month</th>\n",
       "      <th>tariff</th>\n",
       "      <th>tariff_fee</th>\n",
       "      <th>calls_sum</th>\n",
       "      <th>calls_qty</th>\n",
       "      <th>gb_round</th>\n",
       "      <th>msg_qty</th>\n",
       "      <th>revenue_calls</th>\n",
       "      <th>revenue_traffic</th>\n",
       "      <th>revenue_messages</th>\n",
       "      <th>total_revenue</th>\n",
       "    </tr>\n",
       "  </thead>\n",
       "  <tbody>\n",
       "    <tr>\n",
       "      <th>0</th>\n",
       "      <td>0</td>\n",
       "      <td>1000</td>\n",
       "      <td>5</td>\n",
       "      <td>ultra</td>\n",
       "      <td>1950</td>\n",
       "      <td>159.0</td>\n",
       "      <td>22.0</td>\n",
       "      <td>3.0</td>\n",
       "      <td>22.0</td>\n",
       "      <td>0.0</td>\n",
       "      <td>0.0</td>\n",
       "      <td>0.0</td>\n",
       "      <td>1950.0</td>\n",
       "    </tr>\n",
       "    <tr>\n",
       "      <th>1</th>\n",
       "      <td>1</td>\n",
       "      <td>1000</td>\n",
       "      <td>6</td>\n",
       "      <td>ultra</td>\n",
       "      <td>1950</td>\n",
       "      <td>172.0</td>\n",
       "      <td>43.0</td>\n",
       "      <td>23.0</td>\n",
       "      <td>60.0</td>\n",
       "      <td>0.0</td>\n",
       "      <td>0.0</td>\n",
       "      <td>0.0</td>\n",
       "      <td>1950.0</td>\n",
       "    </tr>\n",
       "    <tr>\n",
       "      <th>2</th>\n",
       "      <td>2</td>\n",
       "      <td>1000</td>\n",
       "      <td>7</td>\n",
       "      <td>ultra</td>\n",
       "      <td>1950</td>\n",
       "      <td>340.0</td>\n",
       "      <td>47.0</td>\n",
       "      <td>14.0</td>\n",
       "      <td>75.0</td>\n",
       "      <td>0.0</td>\n",
       "      <td>0.0</td>\n",
       "      <td>0.0</td>\n",
       "      <td>1950.0</td>\n",
       "    </tr>\n",
       "    <tr>\n",
       "      <th>3</th>\n",
       "      <td>3</td>\n",
       "      <td>1000</td>\n",
       "      <td>8</td>\n",
       "      <td>ultra</td>\n",
       "      <td>1950</td>\n",
       "      <td>408.0</td>\n",
       "      <td>52.0</td>\n",
       "      <td>14.0</td>\n",
       "      <td>81.0</td>\n",
       "      <td>0.0</td>\n",
       "      <td>0.0</td>\n",
       "      <td>0.0</td>\n",
       "      <td>1950.0</td>\n",
       "    </tr>\n",
       "    <tr>\n",
       "      <th>4</th>\n",
       "      <td>4</td>\n",
       "      <td>1000</td>\n",
       "      <td>9</td>\n",
       "      <td>ultra</td>\n",
       "      <td>1950</td>\n",
       "      <td>466.0</td>\n",
       "      <td>58.0</td>\n",
       "      <td>15.0</td>\n",
       "      <td>57.0</td>\n",
       "      <td>0.0</td>\n",
       "      <td>0.0</td>\n",
       "      <td>0.0</td>\n",
       "      <td>1950.0</td>\n",
       "    </tr>\n",
       "  </tbody>\n",
       "</table>\n",
       "</div>"
      ],
      "text/plain": [
       "   index  user_id  month tariff  tariff_fee  calls_sum  calls_qty  gb_round  \\\n",
       "0      0     1000      5  ultra        1950      159.0       22.0       3.0   \n",
       "1      1     1000      6  ultra        1950      172.0       43.0      23.0   \n",
       "2      2     1000      7  ultra        1950      340.0       47.0      14.0   \n",
       "3      3     1000      8  ultra        1950      408.0       52.0      14.0   \n",
       "4      4     1000      9  ultra        1950      466.0       58.0      15.0   \n",
       "\n",
       "   msg_qty  revenue_calls  revenue_traffic  revenue_messages  total_revenue  \n",
       "0     22.0            0.0              0.0               0.0         1950.0  \n",
       "1     60.0            0.0              0.0               0.0         1950.0  \n",
       "2     75.0            0.0              0.0               0.0         1950.0  \n",
       "3     81.0            0.0              0.0               0.0         1950.0  \n",
       "4     57.0            0.0              0.0               0.0         1950.0  "
      ]
     },
     "execution_count": 22,
     "metadata": {},
     "output_type": "execute_result"
    }
   ],
   "source": [
    "user_revenue.head()"
   ]
  },
  {
   "cell_type": "markdown",
   "id": "349e2902",
   "metadata": {},
   "source": [
    "### Вывод по результатам расчета и добавления данных\n",
    "Посчитано по каждому клиенту за каждый месяц нахождения на обслуживании: использование услуг и выручка формирующаяся как за счет абонентской платы так и за счет услуг, превышающих объем услуг, включенных в абонентскую плату.</p>\n",
    "Проблемы на данном этапе не установлены."
   ]
  },
  {
   "cell_type": "markdown",
   "id": "1a780491",
   "metadata": {},
   "source": [
    "## Исследовательский анализ данных"
   ]
  },
  {
   "cell_type": "markdown",
   "id": "88a6f8fc",
   "metadata": {},
   "source": [
    "Посчитаем среднемесячные значения пользования услугами и выручки по каждому клиенту и выведем гистограммы распределения клиентов по активности использования услуг/приносимой выручке в разрезе тарифов."
   ]
  },
  {
   "cell_type": "code",
   "execution_count": 23,
   "id": "b75614bc",
   "metadata": {
    "scrolled": false
   },
   "outputs": [
    {
     "data": {
      "image/png": "[encoded data removed]",
      "text/plain": [
       "<Figure size 1080x360 with 1 Axes>"
      ]
     },
     "metadata": {
      "needs_background": "light"
     },
     "output_type": "display_data"
    },
    {
     "data": {
      "image/png": "[encoded data removed]",
      "text/plain": [
       "<Figure size 1080x360 with 1 Axes>"
      ]
     },
     "metadata": {
      "needs_background": "light"
     },
     "output_type": "display_data"
    },
    {
     "data": {
      "image/png": "[encoded data removed]",
      "text/plain": [
       "<Figure size 1080x360 with 1 Axes>"
      ]
     },
     "metadata": {
      "needs_background": "light"
     },
     "output_type": "display_data"
    },
    {
     "data": {
      "image/png": "[encoded data removed]",
      "text/plain": [
       "<Figure size 1080x360 with 1 Axes>"
      ]
     },
     "metadata": {
      "needs_background": "light"
     },
     "output_type": "display_data"
    },
    {
     "data": {
      "image/png": "[encoded data removed]",
      "text/plain": [
       "<Figure size 1080x360 with 1 Axes>"
      ]
     },
     "metadata": {
      "needs_background": "light"
     },
     "output_type": "display_data"
    },
    {
     "data": {
      "image/png": "[encoded data removed]",
      "text/plain": [
       "<Figure size 1080x360 with 1 Axes>"
      ]
     },
     "metadata": {
      "needs_background": "light"
     },
     "output_type": "display_data"
    },
    {
     "data": {
      "image/png": "[encoded data removed]",
      "text/plain": [
       "<Figure size 1080x360 with 1 Axes>"
      ]
     },
     "metadata": {
      "needs_background": "light"
     },
     "output_type": "display_data"
    },
    {
     "data": {
      "image/png": "[encoded data removed]",
      "text/plain": [
       "<Figure size 1080x360 with 1 Axes>"
      ]
     },
     "metadata": {
      "needs_background": "light"
     },
     "output_type": "display_data"
    }
   ],
   "source": [
    "columns_print = ['calls_sum','calls_qty','gb_round','msg_qty','revenue_calls','revenue_traffic','revenue_messages','total_revenue']\n",
    "pokazately_table = pd.DataFrame(columns = columns_print)\n",
    "pokazately_table.insert(0,'tariff', ['ultra','smart','in general'])\n",
    "for i in columns_print:\n",
    "    user_revenue[user_revenue['tariff']=='ultra'].groupby('user_id')[i].mean().hist(figsize=(15,5),alpha=0.5,bins=20)\n",
    "    user_revenue[user_revenue['tariff']=='smart'].groupby('user_id')[i].mean().hist(figsize=(15,5),alpha=0.5,bins=20)\n",
    "    plt.title(i)\n",
    "    plt.legend(['ultra','smart'])\n",
    "    plt.show()\n",
    "    pokazately_table.loc[0,i]=user_revenue[user_revenue['tariff']=='ultra'][i].mean()\n",
    "    pokazately_table.loc[1,i]=user_revenue[user_revenue['tariff']=='smart'][i].mean()\n",
    "    pokazately_table.loc[2,i]=user_revenue[i].mean()"
   ]
  },
  {
   "cell_type": "code",
   "execution_count": 24,
   "id": "bd37499b",
   "metadata": {},
   "outputs": [
    {
     "data": {
      "text/html": [
       "<div>\n",
       "<style scoped>\n",
       "    .dataframe tbody tr th:only-of-type {\n",
       "        vertical-align: middle;\n",
       "    }\n",
       "\n",
       "    .dataframe tbody tr th {\n",
       "        vertical-align: top;\n",
       "    }\n",
       "\n",
       "    .dataframe thead th {\n",
       "        text-align: right;\n",
       "    }\n",
       "</style>\n",
       "<table border=\"1\" class=\"dataframe\">\n",
       "  <thead>\n",
       "    <tr style=\"text-align: right;\">\n",
       "      <th></th>\n",
       "      <th>tariff</th>\n",
       "      <th>calls_sum</th>\n",
       "      <th>calls_qty</th>\n",
       "      <th>gb_round</th>\n",
       "      <th>msg_qty</th>\n",
       "      <th>revenue_calls</th>\n",
       "      <th>revenue_traffic</th>\n",
       "      <th>revenue_messages</th>\n",
       "      <th>total_revenue</th>\n",
       "    </tr>\n",
       "  </thead>\n",
       "  <tbody>\n",
       "    <tr>\n",
       "      <th>0</th>\n",
       "      <td>ultra</td>\n",
       "      <td>526.09</td>\n",
       "      <td>73.32</td>\n",
       "      <td>19.47</td>\n",
       "      <td>49.31</td>\n",
       "      <td>0.00</td>\n",
       "      <td>120.03</td>\n",
       "      <td>0.00</td>\n",
       "      <td>2070.03</td>\n",
       "    </tr>\n",
       "    <tr>\n",
       "      <th>1</th>\n",
       "      <td>smart</td>\n",
       "      <td>417.75</td>\n",
       "      <td>58.44</td>\n",
       "      <td>16.32</td>\n",
       "      <td>33.37</td>\n",
       "      <td>124.76</td>\n",
       "      <td>597.49</td>\n",
       "      <td>17.39</td>\n",
       "      <td>1289.64</td>\n",
       "    </tr>\n",
       "    <tr>\n",
       "      <th>2</th>\n",
       "      <td>in general</td>\n",
       "      <td>450.96</td>\n",
       "      <td>63.00</td>\n",
       "      <td>17.29</td>\n",
       "      <td>38.26</td>\n",
       "      <td>86.51</td>\n",
       "      <td>451.10</td>\n",
       "      <td>12.06</td>\n",
       "      <td>1528.90</td>\n",
       "    </tr>\n",
       "  </tbody>\n",
       "</table>\n",
       "</div>"
      ],
      "text/plain": [
       "       tariff  calls_sum  calls_qty  gb_round  msg_qty  revenue_calls  \\\n",
       "0       ultra     526.09      73.32     19.47    49.31           0.00   \n",
       "1       smart     417.75      58.44     16.32    33.37         124.76   \n",
       "2  in general     450.96      63.00     17.29    38.26          86.51   \n",
       "\n",
       "   revenue_traffic  revenue_messages  total_revenue  \n",
       "0           120.03              0.00        2070.03  \n",
       "1           597.49             17.39        1289.64  \n",
       "2           451.10             12.06        1528.90  "
      ]
     },
     "execution_count": 24,
     "metadata": {},
     "output_type": "execute_result"
    }
   ],
   "source": [
    "pokazately_table.loc[:,'calls_sum':'total_revenue'] = pokazately_table.loc[:,'calls_sum':'total_revenue'].astype(float)\n",
    "pokazately_table = pokazately_table.round(2)\n",
    "pokazately_table"
   ]
  },
  {
   "cell_type": "markdown",
   "id": "f295d06f",
   "metadata": {},
   "source": [
    "Посчитаем статистические метрики по каждому показателю:"
   ]
  },
  {
   "cell_type": "code",
   "execution_count": 25,
   "id": "9893d7b0",
   "metadata": {},
   "outputs": [],
   "source": [
    "columns_anlz = ['calls_sum','calls_qty','gb_round','msg_qty']\n",
    "anlz_table = pokazately_table.loc[:,'tariff':'msg_qty']\n",
    "for i in columns_anlz:\n",
    "    position = list(anlz_table.columns).index(i)\n",
    "    anlz_table.insert(position+1,(i+'_disp'),[np.var(user_revenue[user_revenue['tariff']=='ultra'][i]),np.var(user_revenue[user_revenue['tariff']=='smart'][i]),np.var(user_revenue[i])])\n",
    "    anlz_table.insert(position+1,(i+'_std'),np.nan)\n",
    "    anlz_table[i+'_std'] = np.sqrt(anlz_table[i+'_disp'])\n",
    "    "
   ]
  },
  {
   "cell_type": "code",
   "execution_count": 26,
   "id": "2dae646e",
   "metadata": {
    "scrolled": false
   },
   "outputs": [
    {
     "data": {
      "text/html": [
       "<div>\n",
       "<style scoped>\n",
       "    .dataframe tbody tr th:only-of-type {\n",
       "        vertical-align: middle;\n",
       "    }\n",
       "\n",
       "    .dataframe tbody tr th {\n",
       "        vertical-align: top;\n",
       "    }\n",
       "\n",
       "    .dataframe thead th {\n",
       "        text-align: right;\n",
       "    }\n",
       "</style>\n",
       "<table border=\"1\" class=\"dataframe\">\n",
       "  <thead>\n",
       "    <tr style=\"text-align: right;\">\n",
       "      <th></th>\n",
       "      <th>tariff</th>\n",
       "      <th>calls_sum</th>\n",
       "      <th>calls_sum_std</th>\n",
       "      <th>calls_sum_disp</th>\n",
       "      <th>calls_qty</th>\n",
       "      <th>calls_qty_std</th>\n",
       "      <th>calls_qty_disp</th>\n",
       "      <th>gb_round</th>\n",
       "      <th>gb_round_std</th>\n",
       "      <th>gb_round_disp</th>\n",
       "      <th>msg_qty</th>\n",
       "      <th>msg_qty_std</th>\n",
       "      <th>msg_qty_disp</th>\n",
       "    </tr>\n",
       "  </thead>\n",
       "  <tbody>\n",
       "    <tr>\n",
       "      <th>0</th>\n",
       "      <td>ultra</td>\n",
       "      <td>526.09</td>\n",
       "      <td>317.73</td>\n",
       "      <td>100950.01</td>\n",
       "      <td>73.32</td>\n",
       "      <td>43.93</td>\n",
       "      <td>1930.24</td>\n",
       "      <td>19.47</td>\n",
       "      <td>9.86</td>\n",
       "      <td>97.28</td>\n",
       "      <td>49.31</td>\n",
       "      <td>47.78</td>\n",
       "      <td>2283.10</td>\n",
       "    </tr>\n",
       "    <tr>\n",
       "      <th>1</th>\n",
       "      <td>smart</td>\n",
       "      <td>417.75</td>\n",
       "      <td>190.43</td>\n",
       "      <td>36265.12</td>\n",
       "      <td>58.44</td>\n",
       "      <td>25.96</td>\n",
       "      <td>673.80</td>\n",
       "      <td>16.32</td>\n",
       "      <td>5.75</td>\n",
       "      <td>33.12</td>\n",
       "      <td>33.37</td>\n",
       "      <td>28.22</td>\n",
       "      <td>796.60</td>\n",
       "    </tr>\n",
       "    <tr>\n",
       "      <th>2</th>\n",
       "      <td>in general</td>\n",
       "      <td>450.96</td>\n",
       "      <td>242.06</td>\n",
       "      <td>58592.40</td>\n",
       "      <td>63.00</td>\n",
       "      <td>33.26</td>\n",
       "      <td>1106.10</td>\n",
       "      <td>17.29</td>\n",
       "      <td>7.41</td>\n",
       "      <td>54.90</td>\n",
       "      <td>38.26</td>\n",
       "      <td>36.14</td>\n",
       "      <td>1306.39</td>\n",
       "    </tr>\n",
       "  </tbody>\n",
       "</table>\n",
       "</div>"
      ],
      "text/plain": [
       "       tariff  calls_sum  calls_sum_std  calls_sum_disp  calls_qty  \\\n",
       "0       ultra     526.09         317.73       100950.01      73.32   \n",
       "1       smart     417.75         190.43        36265.12      58.44   \n",
       "2  in general     450.96         242.06        58592.40      63.00   \n",
       "\n",
       "   calls_qty_std  calls_qty_disp  gb_round  gb_round_std  gb_round_disp  \\\n",
       "0          43.93         1930.24     19.47          9.86          97.28   \n",
       "1          25.96          673.80     16.32          5.75          33.12   \n",
       "2          33.26         1106.10     17.29          7.41          54.90   \n",
       "\n",
       "   msg_qty  msg_qty_std  msg_qty_disp  \n",
       "0    49.31        47.78       2283.10  \n",
       "1    33.37        28.22        796.60  \n",
       "2    38.26        36.14       1306.39  "
      ]
     },
     "execution_count": 26,
     "metadata": {},
     "output_type": "execute_result"
    }
   ],
   "source": [
    "anlz_table = anlz_table.round(2)\n",
    "anlz_table.head()"
   ]
  },
  {
   "cell_type": "markdown",
   "id": "409f21d3",
   "metadata": {},
   "source": [
    "### Вывод по исследовательскому анализу\n",
    "Анализ графиков и средних значений показывает:\n",
    "1. отсутствие очевидных выбросов;\n",
    "2. количество звонков осуществляемых на тарифе smart находится в пике на уровне предельного значения (400-500 минут в месяц), по тарифу ultra пиковое значение приходится на 400-800 минут в месяц.\n",
    "Это может свидетельствовать о том что 500 минут установленные на тарифе smart несколько меньше оптимального значения и таким образом заставляют клиентов поджиматься по достижению лимита по тарифу.\n",
    "При этом максимально доступный объем бесплатных звоноков на тарифе ultra остается невыбранным. При 3000 доступных минут, в редких случаях используется более 1000 минут.\n",
    "Клиенты у которых среднемсячное использование звонков превышет 1200 минут - отсутствуют.\n",
    "3. количество звонков на тарифе smart также нарастет до определенного предела (в 70 звонков) и резко снижается, что подтверждает \n",
    "что клиенты на данном тарифе поджимаются по использованию звонков при выходе за пределы включенного пакета услуг. \n",
    "Кроме того поминутная тарификация приводит к определенному ограничению на количество возможных звонков в течение месяца. Т.к. многие звонки превышают 1 минуту, \n",
    "при этом короткие звонки существенно меньше минуты (10-20 секунд) нецелесообразны, т.к. тарифицируются как 1 минута.\n",
    "Количество звонков на тарифе ultra также имеет пик, однако неявно выраженный, что вызвано  большим запасом по включенным в тариф минутам. Клиенты не ограничивают себя, как следствие распределение шире.\n",
    "5. Количество клиентов отправляющих много сообщений на тарифе смарт снижается c ростом количества сообщений и сводится к 0 на уровне в 100 сообщений в месяц. На тарифе ultra снижение количества клиентов отправляющих много сообщений не имеет такой резкой корелляции с ростом количества сообщений,\n",
    "при этом в среднем никто из клиентов тарифа Ultra не использует включенные в тариф 1000 сообщений (максимальное среднее не превышает 200 сообщений)\n",
    "Таким образом среднемесячное количество сообщений на тарифе Ultra ограничено отсутствием потребности в количестве сообщений свыше 200. На тарифе Smart, платность сообщении свыше 50-ти очевидно является причиной равномерного снижения использования сообщений уже до границы в 100 сообщений. Однако очевидно что стоимость сообщений не приводит к резкому отказу при превышении лимита бесплатных сообщений. Таким образом количество необходимых клиентам сообщений находится в пределах 100-200 сообщений в месяц.\n",
    "6. Клиенты превышают установленные ограничения траффика как на тарифе Smart таки и Ultra. \n",
    "При этом на тарифе Smart установленного лимита очевидно недостаточно, что приводит к концентрации потребления клиентами траффика в районе лимита бесплатного использования. На тарифе Ultra большая часть клиентов равномерно распределена по интенсивности использовани траффика в пределах от 5 до 30 gb. По превышению лимита в 30 гб количество клиентов сходит на нет.\n",
    "Таким образом лимит трафика в 30 гб  вполной мере удовлетворяет большую часть клиентов, при этом в целом не является избыточным.\n",
    "6. Данные о доходах также показывают что на тарифе ultra количество звонков и сообщений включенных в тариф превышает потребности клиентов\n",
    "доходы от звонков и сообщений сверх тарифа в анализируемом периоде отстутсвуют. \n",
    "Имеется незначительный доход от превышения ограничения по траффику передачи данных.\n",
    "На тарифе smart клиенты регулярно превышают как ограничения по звонкам, так и по траффику передачи данных, \n",
    "что сказывается на существенно больших сборах за услуги, превышающие обхем включенный в абонентскую плату.\n",
    "Значения дисперсии и стандартного отклонения по тарифам utra и smart подтверждают ранее сделанные выводы - разброс в объеме используемых услуг на тарифе ultra существенно больше, что вероятно связано с завышенными знаениями пакетов услуг, включенных в абонентску плату.\n",
    "При этом на тарифе smart объемы услуг, включенные в абонентскую плату находятся в пределах максимальной потребности, что существенно соrращает распределение значений т.к. ограничивает распределение сверх лимита."
   ]
  },
  {
   "cell_type": "markdown",
   "id": "2569d18d",
   "metadata": {},
   "source": [
    "## Проверка гипотез"
   ]
  },
  {
   "cell_type": "markdown",
   "id": "7c25da7d",
   "metadata": {},
   "source": [
    "<b>Гипотеза 1</b> \"средняя выручка пользователей тарифов «Ультра» и «Смарт» различаются\".\n",
    "Рассчитаем средние значения выручки для указанных тарифов:"
   ]
  },
  {
   "cell_type": "code",
   "execution_count": 27,
   "id": "c4af37ad",
   "metadata": {},
   "outputs": [
    {
     "name": "stdout",
     "output_type": "stream",
     "text": [
      "среднее знаение выручки для клиента на тарифе ultra 2070.03\n",
      "среднее знаение выручки для клиента на тарифе smart 1289.64\n"
     ]
    }
   ],
   "source": [
    "print('среднее знаение выручки для клиента на тарифе ultra', round(user_revenue[user_revenue['tariff']=='ultra']['total_revenue'].mean(),2))\n",
    "print('среднее знаение выручки для клиента на тарифе smart', round(user_revenue[user_revenue['tariff']=='smart']['total_revenue'].mean(),2))"
   ]
  },
  {
   "cell_type": "markdown",
   "id": "21509178",
   "metadata": {},
   "source": [
    "Посчитаем количество клиентов для каждого тарифа чтобы оценить споставимость данных для статистического анализа:"
   ]
  },
  {
   "cell_type": "code",
   "execution_count": 28,
   "id": "cd239aaa",
   "metadata": {},
   "outputs": [
    {
     "name": "stdout",
     "output_type": "stream",
     "text": [
      "количество клиентов с тарифом ultra = 149\n",
      "количество клиентов с тарифом smart = 351\n"
     ]
    }
   ],
   "source": [
    "print('количество клиентов с тарифом ultra =', len(usr_set[usr_set.tariff=='ultra']))\n",
    "print('количество клиентов с тарифом smart =', len(usr_set[usr_set.tariff=='smart']))"
   ]
  },
  {
   "cell_type": "code",
   "execution_count": 29,
   "id": "32e44736",
   "metadata": {},
   "outputs": [
    {
     "name": "stdout",
     "output_type": "stream",
     "text": [
      "Значение дисперсии для выборки по тарифам ultra и smart составило соответственно - 141244.32 669430.44\n"
     ]
    }
   ],
   "source": [
    "print('Значение дисперсии для выборки по тарифам ultra и smart составило соответственно -',round(np.var(user_revenue[user_revenue['tariff']=='ultra']['total_revenue']),2),round(np.var(user_revenue[user_revenue['tariff']=='smart']['total_revenue']),2))"
   ]
  },
  {
   "cell_type": "markdown",
   "id": "32706b4b",
   "metadata": {},
   "source": [
    "В качестве 0 гипотезы возьмем среднее значение по выборке для тарифа smart и проведем ttest для этой величины по выборке для тарифа ultra.\n",
    "Гипотеза о неравенстве выручки на тарифах будет принята в случае вроятности получения средней выручки для тарифа ultra равной средней выручке для тарифа smart менее 5% (alpha = 0.05).\n",
    "Учитывая существенное различие дисперсии для выборок указываем соответствующий параметр equal_var = False"
   ]
  },
  {
   "cell_type": "code",
   "execution_count": 30,
   "id": "8d121bf5",
   "metadata": {},
   "outputs": [
    {
     "name": "stdout",
     "output_type": "stream",
     "text": [
      "Гипотеза о неравенстве выручки для клиентов на разных тарифах принимается:\n",
      "вероятность совпадения средних значений выручки составила  1.927011394420941e-250\n",
      "\n"
     ]
    }
   ],
   "source": [
    "from scipy import stats as st\n",
    "alpha = 0.05\n",
    "results = st.ttest_ind(user_revenue[user_revenue['tariff']=='ultra']['total_revenue'],user_revenue[user_revenue['tariff']=='smart']['total_revenue'],equal_var=False).pvalue\n",
    "if results < alpha:\n",
    "    print('Гипотеза о неравенстве выручки для клиентов на разных тарифах принимается:')\n",
    "    print('вероятность совпадения средних значений выручки составила ', results)\n",
    "else:\n",
    "    print('Гипотеза о неравенстве выручки для клиентов на разных тарифах отклоняется:')\n",
    "    print('вероятность совпадения средних значений выручки составила ', results)\n",
    "\n",
    "print()"
   ]
  },
  {
   "cell_type": "markdown",
   "id": "8364a28c",
   "metadata": {},
   "source": [
    "<b>Гипотеза 2</b> средняя выручка пользователей из Москвы отличается от выручки пользователей из других регионов\n",
    "Посчитаем количество клиентов из Москвы и из других регионов:"
   ]
  },
  {
   "cell_type": "code",
   "execution_count": 31,
   "id": "fb3a3600",
   "metadata": {},
   "outputs": [
    {
     "name": "stdout",
     "output_type": "stream",
     "text": [
      "Количество клиентов из г. Москва = 99\n",
      "Количество клиентов из других городов = 401\n"
     ]
    }
   ],
   "source": [
    "print('Количество клиентов из г. Москва =',len(usr_set[usr_set['city']=='Москва']))\n",
    "print('Количество клиентов из других городов =',len(usr_set[usr_set['city']!='Москва']))"
   ]
  },
  {
   "cell_type": "markdown",
   "id": "56840240",
   "metadata": {},
   "source": [
    "Предлагается взять в выборку всех клиентов из г. Москва ввиду относительно небольшого их количества, а также всех клиентов из других городов, т.к. с учетом небольшого количества клиентов из каждого города формирование репрезентативной выборки может быть проблематично.\n",
    "В качестве 0 гипотезы возьмем среднее значение по выборке для города Москва и проведем ttest для этой величины по значениям для прочих городов.\n",
    "Гипотеза о неравенстве выручки на тарифах будет принята если значение вроятности получения средней выручки для прочих городов равной выручке для клиентов из г. Москва менее 5% (alpha = 0.05).\n",
    "Учитывая существенное различие дисперсии для выборок указываем соответствующий параметр equal_var = False"
   ]
  },
  {
   "cell_type": "code",
   "execution_count": 32,
   "id": "8e7f4d1b",
   "metadata": {},
   "outputs": [
    {
     "data": {
      "text/html": [
       "<div>\n",
       "<style scoped>\n",
       "    .dataframe tbody tr th:only-of-type {\n",
       "        vertical-align: middle;\n",
       "    }\n",
       "\n",
       "    .dataframe tbody tr th {\n",
       "        vertical-align: top;\n",
       "    }\n",
       "\n",
       "    .dataframe thead th {\n",
       "        text-align: right;\n",
       "    }\n",
       "</style>\n",
       "<table border=\"1\" class=\"dataframe\">\n",
       "  <thead>\n",
       "    <tr style=\"text-align: right;\">\n",
       "      <th></th>\n",
       "      <th>user_id</th>\n",
       "      <th>city</th>\n",
       "      <th>total_revenue</th>\n",
       "    </tr>\n",
       "  </thead>\n",
       "  <tbody>\n",
       "    <tr>\n",
       "      <th>0</th>\n",
       "      <td>1000</td>\n",
       "      <td>Краснодар</td>\n",
       "      <td>1950.0</td>\n",
       "    </tr>\n",
       "    <tr>\n",
       "      <th>1</th>\n",
       "      <td>1000</td>\n",
       "      <td>Краснодар</td>\n",
       "      <td>1950.0</td>\n",
       "    </tr>\n",
       "    <tr>\n",
       "      <th>2</th>\n",
       "      <td>1000</td>\n",
       "      <td>Краснодар</td>\n",
       "      <td>1950.0</td>\n",
       "    </tr>\n",
       "    <tr>\n",
       "      <th>3</th>\n",
       "      <td>1000</td>\n",
       "      <td>Краснодар</td>\n",
       "      <td>1950.0</td>\n",
       "    </tr>\n",
       "    <tr>\n",
       "      <th>4</th>\n",
       "      <td>1000</td>\n",
       "      <td>Краснодар</td>\n",
       "      <td>1950.0</td>\n",
       "    </tr>\n",
       "  </tbody>\n",
       "</table>\n",
       "</div>"
      ],
      "text/plain": [
       "   user_id       city  total_revenue\n",
       "0     1000  Краснодар         1950.0\n",
       "1     1000  Краснодар         1950.0\n",
       "2     1000  Краснодар         1950.0\n",
       "3     1000  Краснодар         1950.0\n",
       "4     1000  Краснодар         1950.0"
      ]
     },
     "execution_count": 32,
     "metadata": {},
     "output_type": "execute_result"
    }
   ],
   "source": [
    "city_user = user_revenue.loc[:,('user_id','total_revenue')]\n",
    "city_user = pd.merge(city_user,usr_set,on='user_id')[['user_id','city','total_revenue']]\n",
    "city_user.head()"
   ]
  },
  {
   "cell_type": "code",
   "execution_count": 33,
   "id": "5c38566c",
   "metadata": {},
   "outputs": [
    {
     "name": "stdout",
     "output_type": "stream",
     "text": [
      "Значение дисперсии для выборки по г. Москва и всем остальным составило соответственно - 564710.71 653818.49\n"
     ]
    }
   ],
   "source": [
    "print('Значение дисперсии для выборки по г. Москва и всем остальным составило соответственно -',round(np.var(city_user[city_user['city']=='Москва']['total_revenue']),2),round(np.var(city_user[city_user['city']!='Москва']['total_revenue']),2))"
   ]
  },
  {
   "cell_type": "markdown",
   "id": "d6d9be4e",
   "metadata": {},
   "source": [
    "Учитывая разность дисперсии и несоответствие объемов выборки указываем соовтетствующий параметр  equal_var = False."
   ]
  },
  {
   "cell_type": "code",
   "execution_count": 34,
   "id": "c938d698",
   "metadata": {},
   "outputs": [
    {
     "name": "stdout",
     "output_type": "stream",
     "text": [
      "Гипотеза о неравенстве средней выручки для клиентов из г. Москва и других городов отклоняется:\n",
      "вероятность совпадения средних значений выручки составила  0.5216952110000278\n"
     ]
    }
   ],
   "source": [
    "alpha = 0.05\n",
    "results = st.ttest_ind(city_user[city_user['city']=='Москва']['total_revenue'],city_user[city_user['city']!='Москва']['total_revenue'],equal_var=False).pvalue\n",
    "if results < alpha:\n",
    "    print('Гипотеза о неравенстве средней выручки для клиентов из г. Москва и других городов принимается:')\n",
    "    print('вероятность совпадения средних значений выручки составила ', results)\n",
    "else:\n",
    "    print('Гипотеза о неравенстве средней выручки для клиентов из г. Москва и других городов отклоняется:')\n",
    "    print('вероятность совпадения средних значений выручки составила ', results)\n"
   ]
  },
  {
   "cell_type": "markdown",
   "id": "fe103fc3",
   "metadata": {},
   "source": [
    "### Вывод по проверке гипотез"
   ]
  },
  {
   "cell_type": "markdown",
   "id": "9e510aaf",
   "metadata": {},
   "source": [
    "Зависимость выручки от тарифа обслуживания клиентов подтвердилась. Для анализа представлена достаточно большая выборка, позволяющая сделать такой вывод.\n",
    "Зависимость выручки от города проживания клиента не подтвердилась, очевидно сумма расходов на связь не является достаточно критичной для жителей как г. Москва так и регионов и не оказывает принципиального влияния на долю пользователей активно пользующихся услугами свыше установленного лимита, либо приобретающими тариф Ultra."
   ]
  },
  {
   "cell_type": "markdown",
   "id": "35ad3cf1",
   "metadata": {},
   "source": [
    "### Общий вывод"
   ]
  },
  {
   "cell_type": "markdown",
   "id": "2e6e1ff3",
   "metadata": {},
   "source": [
    "1. В представленных для анализа данных не выявлены системные ошибки и/или очевидные выбросы.\n",
    "2. Установлены объемы необходимых клиентам услуг. Они в целом совпадают на разных тарифах:\n",
    "    звонки 400-800 минут\n",
    "    траффик до 30 гб\n",
    "    сообщения до 200.\n",
    "3. ввиду стоимостных ограничений клиенты более экономичного тарифа smart вынуждены ограничивать себя по достижению:\n",
    "    лимита звонков в 500 минут, лимита траффика в 15 гигабайт. \n",
    "    Наблюдаются пиковые значения использования услуг на границе этих лимитов\n",
    "4. Подтверждена зависимость выручки от тарифа обслуживания - выручка от клиентов на тарифе Ultra выше клиентов на тарифе Smart (2070 руб/мес против 1289 руб/мес).\n",
    "5. Не подтверждена зависимость выручки от города проживания клиента. \n",
    "Выручка по клиентам в г. Москва в целом соответствует выручке по клиентам в других регионах.</p>\n",
    "</p>С учетом установленных зависимостей можно сделать вывод о преимуществе для компании продвижения тарифа Ultra как более доходного (приносящего большую выручку), вне зависимости от региона обслуживания. При этом включенные в тариф Ultra предоплаченные пакеты услуг в полной мере обеспечивают потребности клиентов."
   ]
  },
  {
   "cell_type": "code",
   "execution_count": null,
   "id": "05253071",
   "metadata": {},
   "outputs": [],
   "source": []
  }
 ],
 "metadata": {
  "ExecuteTimeLog": [
   {
    "duration": 694,
    "start_time": "2022-04-14T19:11:21.065Z"
   },
   {
    "duration": 226,
    "start_time": "2022-04-14T19:11:21.761Z"
   },
   {
    "duration": 135,
    "start_time": "2022-04-14T19:11:21.989Z"
   },
   {
    "duration": 102,
    "start_time": "2022-04-14T19:11:22.126Z"
   },
   {
    "duration": 25,
    "start_time": "2022-04-14T19:11:22.230Z"
   },
   {
    "duration": 27,
    "start_time": "2022-04-14T19:11:22.256Z"
   },
   {
    "duration": 88,
    "start_time": "2022-04-14T19:11:22.284Z"
   },
   {
    "duration": 509,
    "start_time": "2022-04-14T19:11:22.374Z"
   },
   {
    "duration": 427,
    "start_time": "2022-04-14T19:11:22.886Z"
   },
   {
    "duration": 16,
    "start_time": "2022-04-14T19:11:23.316Z"
   },
   {
    "duration": 77,
    "start_time": "2022-04-14T19:11:23.333Z"
   },
   {
    "duration": 36,
    "start_time": "2022-04-14T19:11:23.412Z"
   },
   {
    "duration": 8948,
    "start_time": "2022-04-14T19:11:23.450Z"
   },
   {
    "duration": 9,
    "start_time": "2022-04-14T19:11:32.400Z"
   },
   {
    "duration": 30,
    "start_time": "2022-04-14T19:11:32.411Z"
   },
   {
    "duration": 14,
    "start_time": "2022-04-14T19:11:32.443Z"
   },
   {
    "duration": 14,
    "start_time": "2022-04-14T19:11:32.459Z"
   },
   {
    "duration": 7,
    "start_time": "2022-04-14T19:11:32.475Z"
   },
   {
    "duration": 62,
    "start_time": "2022-04-14T19:11:32.483Z"
   },
   {
    "duration": 16,
    "start_time": "2022-04-14T19:11:32.547Z"
   },
   {
    "duration": 7,
    "start_time": "2022-04-14T19:11:32.565Z"
   },
   {
    "duration": 17,
    "start_time": "2022-04-14T19:11:32.574Z"
   },
   {
    "duration": 2224,
    "start_time": "2022-04-14T19:11:32.593Z"
   },
   {
    "duration": 31,
    "start_time": "2022-04-14T19:11:34.818Z"
   },
   {
    "duration": 20,
    "start_time": "2022-04-14T19:11:34.850Z"
   },
   {
    "duration": 16,
    "start_time": "2022-04-14T19:11:34.872Z"
   },
   {
    "duration": 8,
    "start_time": "2022-04-14T19:11:34.890Z"
   },
   {
    "duration": 11,
    "start_time": "2022-04-14T19:11:34.931Z"
   },
   {
    "duration": 18,
    "start_time": "2022-04-14T19:11:34.945Z"
   },
   {
    "duration": 6,
    "start_time": "2022-04-14T19:11:34.965Z"
   },
   {
    "duration": 437,
    "start_time": "2022-04-14T19:11:34.972Z"
   },
   {
    "duration": 19,
    "start_time": "2022-04-14T19:11:35.411Z"
   },
   {
    "duration": 25,
    "start_time": "2022-04-14T19:11:35.432Z"
   },
   {
    "duration": 6,
    "start_time": "2022-04-14T19:11:35.459Z"
   },
   {
    "duration": 8,
    "start_time": "2022-04-14T19:11:35.466Z"
   },
   {
    "duration": 132,
    "start_time": "2022-04-14T19:11:35.476Z"
   },
   {
    "duration": 15,
    "start_time": "2022-04-14T19:23:38.461Z"
   },
   {
    "duration": 10,
    "start_time": "2022-04-14T19:40:44.499Z"
   },
   {
    "duration": 9,
    "start_time": "2022-04-14T19:41:35.483Z"
   },
   {
    "duration": 618,
    "start_time": "2022-04-14T19:54:37.438Z"
   },
   {
    "duration": 158,
    "start_time": "2022-04-14T19:54:38.057Z"
   },
   {
    "duration": 130,
    "start_time": "2022-04-14T19:54:38.217Z"
   },
   {
    "duration": 92,
    "start_time": "2022-04-14T19:54:38.348Z"
   },
   {
    "duration": 20,
    "start_time": "2022-04-14T19:54:38.442Z"
   },
   {
    "duration": 26,
    "start_time": "2022-04-14T19:54:38.464Z"
   },
   {
    "duration": 79,
    "start_time": "2022-04-14T19:54:38.491Z"
   },
   {
    "duration": 439,
    "start_time": "2022-04-14T19:54:38.571Z"
   },
   {
    "duration": 410,
    "start_time": "2022-04-14T19:54:39.011Z"
   },
   {
    "duration": 13,
    "start_time": "2022-04-14T19:54:39.423Z"
   },
   {
    "duration": 72,
    "start_time": "2022-04-14T19:54:39.437Z"
   },
   {
    "duration": 23,
    "start_time": "2022-04-14T19:54:39.511Z"
   },
   {
    "duration": 7748,
    "start_time": "2022-04-14T19:54:39.535Z"
   },
   {
    "duration": 8,
    "start_time": "2022-04-14T19:54:47.286Z"
   },
   {
    "duration": 28,
    "start_time": "2022-04-14T19:54:47.296Z"
   },
   {
    "duration": 15,
    "start_time": "2022-04-14T19:54:47.325Z"
   },
   {
    "duration": 11,
    "start_time": "2022-04-14T19:54:47.342Z"
   },
   {
    "duration": 6,
    "start_time": "2022-04-14T19:54:47.355Z"
   },
   {
    "duration": 30,
    "start_time": "2022-04-14T19:54:47.363Z"
   },
   {
    "duration": 31,
    "start_time": "2022-04-14T19:54:47.395Z"
   },
   {
    "duration": 5,
    "start_time": "2022-04-14T19:54:47.428Z"
   },
   {
    "duration": 15,
    "start_time": "2022-04-14T19:54:47.435Z"
   },
   {
    "duration": 1586,
    "start_time": "2022-04-14T19:54:47.452Z"
   },
   {
    "duration": 17,
    "start_time": "2022-04-14T19:54:49.039Z"
   },
   {
    "duration": 19,
    "start_time": "2022-04-14T19:54:49.057Z"
   },
   {
    "duration": 14,
    "start_time": "2022-04-14T19:54:49.077Z"
   },
   {
    "duration": 32,
    "start_time": "2022-04-14T19:54:49.093Z"
   },
   {
    "duration": 4,
    "start_time": "2022-04-14T19:54:49.127Z"
   },
   {
    "duration": 16,
    "start_time": "2022-04-14T19:54:49.133Z"
   },
   {
    "duration": 5,
    "start_time": "2022-04-14T19:54:49.150Z"
   },
   {
    "duration": 353,
    "start_time": "2022-04-14T19:54:49.156Z"
   },
   {
    "duration": 5,
    "start_time": "2022-04-14T19:54:49.510Z"
   },
   {
    "duration": 21,
    "start_time": "2022-04-14T19:54:49.517Z"
   },
   {
    "duration": 5,
    "start_time": "2022-04-14T19:54:49.540Z"
   },
   {
    "duration": 7,
    "start_time": "2022-04-14T19:54:49.547Z"
   },
   {
    "duration": 140,
    "start_time": "2022-04-14T19:54:49.555Z"
   },
   {
    "duration": 687,
    "start_time": "2022-04-15T17:18:51.069Z"
   },
   {
    "duration": 182,
    "start_time": "2022-04-15T17:18:51.758Z"
   },
   {
    "duration": 142,
    "start_time": "2022-04-15T17:18:51.941Z"
   },
   {
    "duration": 96,
    "start_time": "2022-04-15T17:18:52.085Z"
   },
   {
    "duration": 25,
    "start_time": "2022-04-15T17:18:52.182Z"
   },
   {
    "duration": 37,
    "start_time": "2022-04-15T17:18:52.208Z"
   },
   {
    "duration": 73,
    "start_time": "2022-04-15T17:18:52.246Z"
   },
   {
    "duration": 421,
    "start_time": "2022-04-15T17:18:52.320Z"
   },
   {
    "duration": 375,
    "start_time": "2022-04-15T17:18:52.742Z"
   },
   {
    "duration": 13,
    "start_time": "2022-04-15T17:18:53.120Z"
   },
   {
    "duration": 89,
    "start_time": "2022-04-15T17:18:53.134Z"
   },
   {
    "duration": 13,
    "start_time": "2022-04-15T17:18:53.225Z"
   },
   {
    "duration": 7863,
    "start_time": "2022-04-15T17:18:53.240Z"
   },
   {
    "duration": 9,
    "start_time": "2022-04-15T17:19:01.105Z"
   },
   {
    "duration": 20,
    "start_time": "2022-04-15T17:19:01.115Z"
   },
   {
    "duration": 15,
    "start_time": "2022-04-15T17:19:01.137Z"
   },
   {
    "duration": 16,
    "start_time": "2022-04-15T17:19:01.154Z"
   },
   {
    "duration": 30,
    "start_time": "2022-04-15T17:19:01.171Z"
   },
   {
    "duration": 32,
    "start_time": "2022-04-15T17:19:01.203Z"
   },
   {
    "duration": 12,
    "start_time": "2022-04-15T17:19:01.237Z"
   },
   {
    "duration": 24,
    "start_time": "2022-04-15T17:19:01.251Z"
   },
   {
    "duration": 35,
    "start_time": "2022-04-15T17:19:01.277Z"
   },
   {
    "duration": 1505,
    "start_time": "2022-04-15T17:19:01.314Z"
   },
   {
    "duration": 15,
    "start_time": "2022-04-15T17:19:02.821Z"
   },
   {
    "duration": 20,
    "start_time": "2022-04-15T17:19:02.837Z"
   },
   {
    "duration": 15,
    "start_time": "2022-04-15T17:19:02.859Z"
   },
   {
    "duration": 7,
    "start_time": "2022-04-15T17:19:02.899Z"
   },
   {
    "duration": 8,
    "start_time": "2022-04-15T17:19:02.909Z"
   },
   {
    "duration": 11,
    "start_time": "2022-04-15T17:19:02.918Z"
   },
   {
    "duration": 362,
    "start_time": "2022-04-15T17:19:02.930Z"
   },
   {
    "duration": 8,
    "start_time": "2022-04-15T17:19:03.294Z"
   },
   {
    "duration": 44,
    "start_time": "2022-04-15T17:19:03.304Z"
   },
   {
    "duration": 6,
    "start_time": "2022-04-15T17:19:03.349Z"
   },
   {
    "duration": 6,
    "start_time": "2022-04-15T17:19:03.357Z"
   },
   {
    "duration": 1563,
    "start_time": "2022-04-16T15:12:16.416Z"
   },
   {
    "duration": 305,
    "start_time": "2022-04-16T15:12:17.983Z"
   },
   {
    "duration": 248,
    "start_time": "2022-04-16T15:12:18.290Z"
   },
   {
    "duration": 152,
    "start_time": "2022-04-16T15:12:18.541Z"
   },
   {
    "duration": 43,
    "start_time": "2022-04-16T15:12:18.698Z"
   },
   {
    "duration": 40,
    "start_time": "2022-04-16T15:12:18.743Z"
   },
   {
    "duration": 141,
    "start_time": "2022-04-16T15:12:18.786Z"
   },
   {
    "duration": 885,
    "start_time": "2022-04-16T15:12:18.930Z"
   },
   {
    "duration": 781,
    "start_time": "2022-04-16T15:12:19.825Z"
   },
   {
    "duration": 31,
    "start_time": "2022-04-16T15:12:20.608Z"
   },
   {
    "duration": 109,
    "start_time": "2022-04-16T15:12:20.641Z"
   },
   {
    "duration": 22,
    "start_time": "2022-04-16T15:12:20.752Z"
   },
   {
    "duration": 14659,
    "start_time": "2022-04-16T15:12:20.777Z"
   },
   {
    "duration": 15,
    "start_time": "2022-04-16T15:12:35.440Z"
   },
   {
    "duration": 41,
    "start_time": "2022-04-16T15:12:35.456Z"
   },
   {
    "duration": 40,
    "start_time": "2022-04-16T15:12:35.499Z"
   },
   {
    "duration": 19,
    "start_time": "2022-04-16T15:12:35.541Z"
   },
   {
    "duration": 10,
    "start_time": "2022-04-16T15:12:35.562Z"
   },
   {
    "duration": 84,
    "start_time": "2022-04-16T15:12:35.574Z"
   },
   {
    "duration": 19,
    "start_time": "2022-04-16T15:12:35.661Z"
   },
   {
    "duration": 14,
    "start_time": "2022-04-16T15:12:35.682Z"
   },
   {
    "duration": 37,
    "start_time": "2022-04-16T15:12:35.698Z"
   },
   {
    "duration": 3188,
    "start_time": "2022-04-16T15:12:35.737Z"
   },
   {
    "duration": 28,
    "start_time": "2022-04-16T15:12:38.928Z"
   },
   {
    "duration": 48,
    "start_time": "2022-04-16T15:12:38.958Z"
   },
   {
    "duration": 43,
    "start_time": "2022-04-16T15:12:39.008Z"
   },
   {
    "duration": 14,
    "start_time": "2022-04-16T15:12:39.054Z"
   },
   {
    "duration": 10,
    "start_time": "2022-04-16T15:12:39.071Z"
   },
   {
    "duration": 44,
    "start_time": "2022-04-16T15:12:39.084Z"
   },
   {
    "duration": 583,
    "start_time": "2022-04-16T15:12:39.130Z"
   },
   {
    "duration": 14,
    "start_time": "2022-04-16T15:12:39.715Z"
   },
   {
    "duration": 50,
    "start_time": "2022-04-16T15:12:39.731Z"
   },
   {
    "duration": 12,
    "start_time": "2022-04-16T15:12:39.783Z"
   },
   {
    "duration": 43,
    "start_time": "2022-04-16T15:12:39.797Z"
   },
   {
    "duration": 811,
    "start_time": "2022-04-16T15:26:09.348Z"
   },
   {
    "duration": 244,
    "start_time": "2022-04-16T15:26:10.161Z"
   },
   {
    "duration": 204,
    "start_time": "2022-04-16T15:26:10.407Z"
   },
   {
    "duration": 145,
    "start_time": "2022-04-16T15:26:10.613Z"
   },
   {
    "duration": 30,
    "start_time": "2022-04-16T15:26:10.760Z"
   },
   {
    "duration": 51,
    "start_time": "2022-04-16T15:26:10.792Z"
   },
   {
    "duration": 127,
    "start_time": "2022-04-16T15:26:10.845Z"
   },
   {
    "duration": 994,
    "start_time": "2022-04-16T15:26:10.974Z"
   },
   {
    "duration": 890,
    "start_time": "2022-04-16T15:26:11.970Z"
   },
   {
    "duration": 22,
    "start_time": "2022-04-16T15:26:12.864Z"
   },
   {
    "duration": 119,
    "start_time": "2022-04-16T15:26:12.889Z"
   },
   {
    "duration": 29,
    "start_time": "2022-04-16T15:26:13.010Z"
   },
   {
    "duration": 15041,
    "start_time": "2022-04-16T15:26:13.041Z"
   },
   {
    "duration": 14,
    "start_time": "2022-04-16T15:26:28.084Z"
   },
   {
    "duration": 47,
    "start_time": "2022-04-16T15:26:28.100Z"
   },
   {
    "duration": 25,
    "start_time": "2022-04-16T15:26:28.149Z"
   },
   {
    "duration": 21,
    "start_time": "2022-04-16T15:26:28.176Z"
   },
   {
    "duration": 34,
    "start_time": "2022-04-16T15:26:28.199Z"
   },
   {
    "duration": 53,
    "start_time": "2022-04-16T15:26:28.235Z"
   },
   {
    "duration": 36,
    "start_time": "2022-04-16T15:26:28.290Z"
   },
   {
    "duration": 7,
    "start_time": "2022-04-16T15:26:28.328Z"
   },
   {
    "duration": 26,
    "start_time": "2022-04-16T15:26:28.337Z"
   },
   {
    "duration": 3051,
    "start_time": "2022-04-16T15:26:28.365Z"
   },
   {
    "duration": 35,
    "start_time": "2022-04-16T15:26:31.427Z"
   },
   {
    "duration": 25,
    "start_time": "2022-04-16T15:26:31.465Z"
   },
   {
    "duration": 60,
    "start_time": "2022-04-16T15:26:31.493Z"
   },
   {
    "duration": 19,
    "start_time": "2022-04-16T15:26:31.556Z"
   },
   {
    "duration": 126,
    "start_time": "2022-04-16T15:26:31.579Z"
   },
   {
    "duration": 37,
    "start_time": "2022-04-16T15:26:31.707Z"
   },
   {
    "duration": 555,
    "start_time": "2022-04-16T15:26:31.746Z"
   },
   {
    "duration": 8,
    "start_time": "2022-04-16T15:26:32.303Z"
   },
   {
    "duration": 43,
    "start_time": "2022-04-16T15:26:32.313Z"
   },
   {
    "duration": 11,
    "start_time": "2022-04-16T15:26:32.358Z"
   },
   {
    "duration": 50,
    "start_time": "2022-04-16T15:26:32.372Z"
   },
   {
    "duration": 870,
    "start_time": "2022-04-16T15:32:39.003Z"
   },
   {
    "duration": 241,
    "start_time": "2022-04-16T15:32:39.876Z"
   },
   {
    "duration": 213,
    "start_time": "2022-04-16T15:32:40.119Z"
   },
   {
    "duration": 150,
    "start_time": "2022-04-16T15:32:40.335Z"
   },
   {
    "duration": 43,
    "start_time": "2022-04-16T15:32:40.488Z"
   },
   {
    "duration": 39,
    "start_time": "2022-04-16T15:32:40.533Z"
   },
   {
    "duration": 132,
    "start_time": "2022-04-16T15:32:40.575Z"
   },
   {
    "duration": 847,
    "start_time": "2022-04-16T15:32:40.709Z"
   },
   {
    "duration": 759,
    "start_time": "2022-04-16T15:32:41.559Z"
   },
   {
    "duration": 31,
    "start_time": "2022-04-16T15:32:42.323Z"
   },
   {
    "duration": 159,
    "start_time": "2022-04-16T15:32:42.357Z"
   },
   {
    "duration": 34,
    "start_time": "2022-04-16T15:32:42.519Z"
   },
   {
    "duration": 21750,
    "start_time": "2022-04-16T15:32:42.556Z"
   },
   {
    "duration": 29,
    "start_time": "2022-04-16T15:33:04.309Z"
   },
   {
    "duration": 41,
    "start_time": "2022-04-16T15:33:04.340Z"
   },
   {
    "duration": 58,
    "start_time": "2022-04-16T15:33:04.384Z"
   },
   {
    "duration": 27,
    "start_time": "2022-04-16T15:33:04.445Z"
   },
   {
    "duration": 17,
    "start_time": "2022-04-16T15:33:04.475Z"
   },
   {
    "duration": 81,
    "start_time": "2022-04-16T15:33:04.494Z"
   },
   {
    "duration": 20,
    "start_time": "2022-04-16T15:33:04.577Z"
   },
   {
    "duration": 35,
    "start_time": "2022-04-16T15:33:04.599Z"
   },
   {
    "duration": 27,
    "start_time": "2022-04-16T15:33:04.636Z"
   },
   {
    "duration": 3010,
    "start_time": "2022-04-16T15:33:04.665Z"
   },
   {
    "duration": 47,
    "start_time": "2022-04-16T15:33:07.677Z"
   },
   {
    "duration": 28,
    "start_time": "2022-04-16T15:33:07.727Z"
   },
   {
    "duration": 27,
    "start_time": "2022-04-16T15:33:07.758Z"
   },
   {
    "duration": 43,
    "start_time": "2022-04-16T15:33:07.787Z"
   },
   {
    "duration": 8,
    "start_time": "2022-04-16T15:33:07.835Z"
   },
   {
    "duration": 15,
    "start_time": "2022-04-16T15:33:07.846Z"
   },
   {
    "duration": 562,
    "start_time": "2022-04-16T15:33:07.863Z"
   },
   {
    "duration": 7,
    "start_time": "2022-04-16T15:33:08.428Z"
   },
   {
    "duration": 24,
    "start_time": "2022-04-16T15:33:08.437Z"
   },
   {
    "duration": 10,
    "start_time": "2022-04-16T15:33:08.463Z"
   },
   {
    "duration": 49,
    "start_time": "2022-04-16T15:33:08.475Z"
   }
  ],
  "kernelspec": {
   "display_name": "Python 3 (ipykernel)",
   "language": "python",
   "name": "python3"
  },
  "language_info": {
   "codemirror_mode": {
    "name": "ipython",
    "version": 3
   },
   "file_extension": ".py",
   "mimetype": "text/x-python",
   "name": "python",
   "nbconvert_exporter": "python",
   "pygments_lexer": "ipython3",
   "version": "3.9.7"
  },
  "toc": {
   "base_numbering": 1,
   "nav_menu": {},
   "number_sections": true,
   "sideBar": true,
   "skip_h1_title": true,
   "title_cell": "Table of Contents",
   "title_sidebar": "Contents",
   "toc_cell": false,
   "toc_position": {},
   "toc_section_display": true,
   "toc_window_display": true
  }
 },
 "nbformat": 4,
 "nbformat_minor": 5
}
