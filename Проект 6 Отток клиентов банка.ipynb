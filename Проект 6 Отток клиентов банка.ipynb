{
 "cells": [
  {
   "cell_type": "markdown",
   "metadata": {},
   "source": [
    "<div style=\"background: #C0C0C0; padding: 5px; border: 1px solid black; border-radius: 5px;\">\n",
    "    <font color='black'><u><b>КОММЕНТАРИЙ РЕВЬЮЕРА</b></u></font><br />\n",
    "    <br />\n",
    "    Привет, Даниэль! Меня зовут Кирилл Киселев.<br />\n",
    "        На этом проекте я буду ревьюером. Предлагаю общаться на \"ты\". Если так будет неудобно, пожалуйста, дай знать.<br />\n",
    "        <br />\n",
    "        Моя цель - помочь тебе освоиться в новой профессии и научиться применять полученные знания максимально эффективно. Не стесняйся спрашивать, если что-то непонятно. Вместе проще разобраться с любыми вопросами.<br />\n",
    "        <br />\n",
    "В проекте тебе встретятся мои комментарии к коду и выводам. Пожалуйста, не удаляй их, так будет удобнее вести общение.<br />\n",
    "        Ниже приведены примеры оформления моих комментариев:<br />\n",
    "</div>"
   ]
  },
  {
   "cell_type": "markdown",
   "metadata": {},
   "source": [
    "<div class=\"alert alert-success\" style=\"border-color: green; border-radius: 5px\">\n",
    "    <p><u><b>✅ КОММЕНТАРИЙ РЕВЬЮЕРА</b></u></p>\n",
    "    <p>Таким образом оформляется комментарий, означающий что пункт выполнен без ошибок.</p>\n",
    "</div>"
   ]
  },
  {
   "cell_type": "markdown",
   "metadata": {},
   "source": [
    "<div class=\"alert alert-warning\" style=\"border-color: orange; border-radius: 5px\">\n",
    "    <p><u><b>⚠️ КОММЕНТАРИЙ РЕВЬЮЕРА</b></u></p>\n",
    "    <p>Таким образом оформляется комментарий, означающий что в пункте есть некритичные недочеты.</p>\n",
    "</div>"
   ]
  },
  {
   "cell_type": "markdown",
   "metadata": {},
   "source": [
    "<div class=\"alert alert-danger\" style=\"border-color: #8B0000; border-radius: 5px\">\n",
    "    <p><u><b>❌ КОММЕНТАРИЙ РЕВЬЮЕРА</b></u></p>\n",
    "    <p>Таким образом оформляется комментарий, означающий что в пункте есть критичные недочеты, требующие исправления.</p>\n",
    "</div>"
   ]
  },
  {
   "cell_type": "markdown",
   "metadata": {},
   "source": [
    "<div style=\"background: #B0E0E6; padding: 5px; border: 1px solid SteelBlue; border-radius: 5px;\">\n",
    "    <font color='4682B4'><u><b>КОММЕНТАРИЙ СТУДЕНТА</b></u></font>\n",
    "    <br />\n",
    "    <font color='4682B4'>Буду очень признателен, если ты тоже оформишь свои комментарии и вопросы ко мне с прменением цветовой разметки. Например, так.</font>\n",
    "</div>"
   ]
  },
  {
   "cell_type": "markdown",
   "metadata": {
    "toc": true
   },
   "source": [
    "<h1>Содержание<span class=\"tocSkip\"></span></h1>\n",
    "<div class=\"toc\"><ul class=\"toc-item\"><li><span><a href=\"#Подготовка-данных\" data-toc-modified-id=\"Подготовка-данных-1\"><span class=\"toc-item-num\">1&nbsp;&nbsp;</span>Подготовка данных</a></span></li><li><span><a href=\"#Исследование-задачи\" data-toc-modified-id=\"Исследование-задачи-2\"><span class=\"toc-item-num\">2&nbsp;&nbsp;</span>Исследование задачи</a></span><ul class=\"toc-item\"><li><span><a href=\"#Выбор-модели-для-выполнения-задачи\" data-toc-modified-id=\"Выбор-модели-для-выполнения-задачи-2.1\"><span class=\"toc-item-num\">2.1&nbsp;&nbsp;</span>Выбор модели для выполнения задачи</a></span></li><li><span><a href=\"#Настройка-гиперпараметров-модели-RandomForest-посредством-функций-GridSearchCv-и-RandomizedSearchCV\" data-toc-modified-id=\"Настройка-гиперпараметров-модели-RandomForest-посредством-функций-GridSearchCv-и-RandomizedSearchCV-2.2\"><span class=\"toc-item-num\">2.2&nbsp;&nbsp;</span>Настройка гиперпараметров модели RandomForest посредством функций GridSearchCv и RandomizedSearchCV</a></span></li></ul></li><li><span><a href=\"#Борьба-с-дисбалансом\" data-toc-modified-id=\"Борьба-с-дисбалансом-3\"><span class=\"toc-item-num\">3&nbsp;&nbsp;</span>Борьба с дисбалансом</a></span><ul class=\"toc-item\"><li><span><a href=\"#Подбор-гиперпараметров-на-выборке-с-устраненным-дисбалансом\" data-toc-modified-id=\"Подбор-гиперпараметров-на-выборке-с-устраненным-дисбалансом-3.1\"><span class=\"toc-item-num\">3.1&nbsp;&nbsp;</span>Подбор гиперпараметров на выборке с устраненным дисбалансом</a></span></li></ul></li><li><span><a href=\"#Тестирование-модели\" data-toc-modified-id=\"Тестирование-модели-4\"><span class=\"toc-item-num\">4&nbsp;&nbsp;</span>Тестирование модели</a></span></li><li><span><a href=\"#Вывод\" data-toc-modified-id=\"Вывод-5\"><span class=\"toc-item-num\">5&nbsp;&nbsp;</span>Вывод</a></span></li><li><span><a href=\"#Чек-лист-готовности-проекта\" data-toc-modified-id=\"Чек-лист-готовности-проекта-6\"><span class=\"toc-item-num\">6&nbsp;&nbsp;</span>Чек-лист готовности проекта</a></span></li></ul></div>"
   ]
  },
  {
   "cell_type": "markdown",
   "metadata": {},
   "source": [
    "# Отток клиентов"
   ]
  },
  {
   "cell_type": "markdown",
   "metadata": {},
   "source": [
    "Из «Бета-Банка» стали уходить клиенты. Каждый месяц. Немного, но заметно. Банковские маркетологи посчитали: сохранять текущих клиентов дешевле, чем привлекать новых.\n",
    "\n",
    "Нужно спрогнозировать, уйдёт клиент из банка в ближайшее время или нет. Вам предоставлены исторические данные о поведении клиентов и расторжении договоров с банком. \n",
    "\n",
    "Постройте модель с предельно большим значением *F1*-меры. Чтобы сдать проект успешно, нужно довести метрику до 0.59. Проверьте *F1*-меру на тестовой выборке самостоятельно.\n",
    "\n",
    "Дополнительно измеряйте *AUC-ROC*, сравнивайте её значение с *F1*-мерой.\n",
    "\n",
    "Источник данных: [https://www.kaggle.com/barelydedicated/bank-customer-churn-modeling](https://www.kaggle.com/barelydedicated/bank-customer-churn-modeling)"
   ]
  },
  {
   "cell_type": "code",
   "execution_count": 1,
   "metadata": {},
   "outputs": [],
   "source": [
    "import pandas as pd\n",
    "import numpy as np\n",
    "import seaborn as sns\n",
    "import matplotlib.pyplot as plt\n",
    "\n",
    "from sklearn.model_selection import train_test_split\n",
    "from sklearn.utils import shuffle\n",
    "from sklearn.preprocessing import StandardScaler\n",
    "\n",
    "from sklearn.model_selection import RandomizedSearchCV\n",
    "from sklearn.model_selection import GridSearchCV\n",
    "\n",
    "from sklearn.metrics import f1_score\n",
    "from sklearn.metrics import roc_auc_score\n",
    "\n",
    "from sklearn.linear_model import LogisticRegression\n",
    "from sklearn.tree import DecisionTreeClassifier\n",
    "from sklearn.ensemble import RandomForestClassifier"
   ]
  },
  {
   "cell_type": "markdown",
   "metadata": {},
   "source": [
    "## Подготовка данных"
   ]
  },
  {
   "cell_type": "code",
   "execution_count": 2,
   "metadata": {},
   "outputs": [
    {
     "data": {
      "text/html": [
       "<div>\n",
       "<style scoped>\n",
       "    .dataframe tbody tr th:only-of-type {\n",
       "        vertical-align: middle;\n",
       "    }\n",
       "\n",
       "    .dataframe tbody tr th {\n",
       "        vertical-align: top;\n",
       "    }\n",
       "\n",
       "    .dataframe thead th {\n",
       "        text-align: right;\n",
       "    }\n",
       "</style>\n",
       "<table border=\"1\" class=\"dataframe\">\n",
       "  <thead>\n",
       "    <tr style=\"text-align: right;\">\n",
       "      <th></th>\n",
       "      <th>RowNumber</th>\n",
       "      <th>CustomerId</th>\n",
       "      <th>Surname</th>\n",
       "      <th>CreditScore</th>\n",
       "      <th>Geography</th>\n",
       "      <th>Gender</th>\n",
       "      <th>Age</th>\n",
       "      <th>Tenure</th>\n",
       "      <th>Balance</th>\n",
       "      <th>NumOfProducts</th>\n",
       "      <th>HasCrCard</th>\n",
       "      <th>IsActiveMember</th>\n",
       "      <th>EstimatedSalary</th>\n",
       "      <th>Exited</th>\n",
       "    </tr>\n",
       "  </thead>\n",
       "  <tbody>\n",
       "    <tr>\n",
       "      <th>0</th>\n",
       "      <td>1</td>\n",
       "      <td>15634602</td>\n",
       "      <td>Hargrave</td>\n",
       "      <td>619</td>\n",
       "      <td>France</td>\n",
       "      <td>Female</td>\n",
       "      <td>42</td>\n",
       "      <td>2.0</td>\n",
       "      <td>0.00</td>\n",
       "      <td>1</td>\n",
       "      <td>1</td>\n",
       "      <td>1</td>\n",
       "      <td>101348.88</td>\n",
       "      <td>1</td>\n",
       "    </tr>\n",
       "    <tr>\n",
       "      <th>1</th>\n",
       "      <td>2</td>\n",
       "      <td>15647311</td>\n",
       "      <td>Hill</td>\n",
       "      <td>608</td>\n",
       "      <td>Spain</td>\n",
       "      <td>Female</td>\n",
       "      <td>41</td>\n",
       "      <td>1.0</td>\n",
       "      <td>83807.86</td>\n",
       "      <td>1</td>\n",
       "      <td>0</td>\n",
       "      <td>1</td>\n",
       "      <td>112542.58</td>\n",
       "      <td>0</td>\n",
       "    </tr>\n",
       "    <tr>\n",
       "      <th>2</th>\n",
       "      <td>3</td>\n",
       "      <td>15619304</td>\n",
       "      <td>Onio</td>\n",
       "      <td>502</td>\n",
       "      <td>France</td>\n",
       "      <td>Female</td>\n",
       "      <td>42</td>\n",
       "      <td>8.0</td>\n",
       "      <td>159660.80</td>\n",
       "      <td>3</td>\n",
       "      <td>1</td>\n",
       "      <td>0</td>\n",
       "      <td>113931.57</td>\n",
       "      <td>1</td>\n",
       "    </tr>\n",
       "    <tr>\n",
       "      <th>3</th>\n",
       "      <td>4</td>\n",
       "      <td>15701354</td>\n",
       "      <td>Boni</td>\n",
       "      <td>699</td>\n",
       "      <td>France</td>\n",
       "      <td>Female</td>\n",
       "      <td>39</td>\n",
       "      <td>1.0</td>\n",
       "      <td>0.00</td>\n",
       "      <td>2</td>\n",
       "      <td>0</td>\n",
       "      <td>0</td>\n",
       "      <td>93826.63</td>\n",
       "      <td>0</td>\n",
       "    </tr>\n",
       "    <tr>\n",
       "      <th>4</th>\n",
       "      <td>5</td>\n",
       "      <td>15737888</td>\n",
       "      <td>Mitchell</td>\n",
       "      <td>850</td>\n",
       "      <td>Spain</td>\n",
       "      <td>Female</td>\n",
       "      <td>43</td>\n",
       "      <td>2.0</td>\n",
       "      <td>125510.82</td>\n",
       "      <td>1</td>\n",
       "      <td>1</td>\n",
       "      <td>1</td>\n",
       "      <td>79084.10</td>\n",
       "      <td>0</td>\n",
       "    </tr>\n",
       "  </tbody>\n",
       "</table>\n",
       "</div>"
      ],
      "text/plain": [
       "   RowNumber  CustomerId   Surname  CreditScore Geography  Gender  Age  \\\n",
       "0          1    15634602  Hargrave          619    France  Female   42   \n",
       "1          2    15647311      Hill          608     Spain  Female   41   \n",
       "2          3    15619304      Onio          502    France  Female   42   \n",
       "3          4    15701354      Boni          699    France  Female   39   \n",
       "4          5    15737888  Mitchell          850     Spain  Female   43   \n",
       "\n",
       "   Tenure    Balance  NumOfProducts  HasCrCard  IsActiveMember  \\\n",
       "0     2.0       0.00              1          1               1   \n",
       "1     1.0   83807.86              1          0               1   \n",
       "2     8.0  159660.80              3          1               0   \n",
       "3     1.0       0.00              2          0               0   \n",
       "4     2.0  125510.82              1          1               1   \n",
       "\n",
       "   EstimatedSalary  Exited  \n",
       "0        101348.88       1  \n",
       "1        112542.58       0  \n",
       "2        113931.57       1  \n",
       "3         93826.63       0  \n",
       "4         79084.10       0  "
      ]
     },
     "execution_count": 2,
     "metadata": {},
     "output_type": "execute_result"
    }
   ],
   "source": [
    "data = pd.read_csv('/datasets/Churn.csv')\n",
    "data.head()"
   ]
  },
  {
   "cell_type": "code",
   "execution_count": 3,
   "metadata": {},
   "outputs": [],
   "source": [
    "data.columns = ['row_number','customer_id','surname','credit_score','geography','gender','age','tenure','balance','num_of_products','has_cr_card','is_active_member','estimated_salary','exited']"
   ]
  },
  {
   "cell_type": "code",
   "execution_count": 4,
   "metadata": {},
   "outputs": [
    {
     "name": "stdout",
     "output_type": "stream",
     "text": [
      "<class 'pandas.core.frame.DataFrame'>\n",
      "RangeIndex: 10000 entries, 0 to 9999\n",
      "Data columns (total 14 columns):\n",
      " #   Column            Non-Null Count  Dtype  \n",
      "---  ------            --------------  -----  \n",
      " 0   row_number        10000 non-null  int64  \n",
      " 1   customer_id       10000 non-null  int64  \n",
      " 2   surname           10000 non-null  object \n",
      " 3   credit_score      10000 non-null  int64  \n",
      " 4   geography         10000 non-null  object \n",
      " 5   gender            10000 non-null  object \n",
      " 6   age               10000 non-null  int64  \n",
      " 7   tenure            9091 non-null   float64\n",
      " 8   balance           10000 non-null  float64\n",
      " 9   num_of_products   10000 non-null  int64  \n",
      " 10  has_cr_card       10000 non-null  int64  \n",
      " 11  is_active_member  10000 non-null  int64  \n",
      " 12  estimated_salary  10000 non-null  float64\n",
      " 13  exited            10000 non-null  int64  \n",
      "dtypes: float64(3), int64(8), object(3)\n",
      "memory usage: 1.1+ MB\n"
     ]
    }
   ],
   "source": [
    "data.info()"
   ]
  },
  {
   "cell_type": "code",
   "execution_count": 5,
   "metadata": {},
   "outputs": [
    {
     "data": {
      "text/html": [
       "<div>\n",
       "<style scoped>\n",
       "    .dataframe tbody tr th:only-of-type {\n",
       "        vertical-align: middle;\n",
       "    }\n",
       "\n",
       "    .dataframe tbody tr th {\n",
       "        vertical-align: top;\n",
       "    }\n",
       "\n",
       "    .dataframe thead th {\n",
       "        text-align: right;\n",
       "    }\n",
       "</style>\n",
       "<table border=\"1\" class=\"dataframe\">\n",
       "  <thead>\n",
       "    <tr style=\"text-align: right;\">\n",
       "      <th></th>\n",
       "      <th>row_number</th>\n",
       "      <th>customer_id</th>\n",
       "      <th>credit_score</th>\n",
       "      <th>age</th>\n",
       "      <th>tenure</th>\n",
       "      <th>balance</th>\n",
       "      <th>num_of_products</th>\n",
       "      <th>has_cr_card</th>\n",
       "      <th>is_active_member</th>\n",
       "      <th>estimated_salary</th>\n",
       "      <th>exited</th>\n",
       "    </tr>\n",
       "  </thead>\n",
       "  <tbody>\n",
       "    <tr>\n",
       "      <th>count</th>\n",
       "      <td>10000.00000</td>\n",
       "      <td>1.000000e+04</td>\n",
       "      <td>10000.000000</td>\n",
       "      <td>10000.000000</td>\n",
       "      <td>9091.000000</td>\n",
       "      <td>10000.000000</td>\n",
       "      <td>10000.000000</td>\n",
       "      <td>10000.00000</td>\n",
       "      <td>10000.000000</td>\n",
       "      <td>10000.000000</td>\n",
       "      <td>10000.000000</td>\n",
       "    </tr>\n",
       "    <tr>\n",
       "      <th>mean</th>\n",
       "      <td>5000.50000</td>\n",
       "      <td>1.569094e+07</td>\n",
       "      <td>650.528800</td>\n",
       "      <td>38.921800</td>\n",
       "      <td>4.997690</td>\n",
       "      <td>76485.889288</td>\n",
       "      <td>1.530200</td>\n",
       "      <td>0.70550</td>\n",
       "      <td>0.515100</td>\n",
       "      <td>100090.239881</td>\n",
       "      <td>0.203700</td>\n",
       "    </tr>\n",
       "    <tr>\n",
       "      <th>std</th>\n",
       "      <td>2886.89568</td>\n",
       "      <td>7.193619e+04</td>\n",
       "      <td>96.653299</td>\n",
       "      <td>10.487806</td>\n",
       "      <td>2.894723</td>\n",
       "      <td>62397.405202</td>\n",
       "      <td>0.581654</td>\n",
       "      <td>0.45584</td>\n",
       "      <td>0.499797</td>\n",
       "      <td>57510.492818</td>\n",
       "      <td>0.402769</td>\n",
       "    </tr>\n",
       "    <tr>\n",
       "      <th>min</th>\n",
       "      <td>1.00000</td>\n",
       "      <td>1.556570e+07</td>\n",
       "      <td>350.000000</td>\n",
       "      <td>18.000000</td>\n",
       "      <td>0.000000</td>\n",
       "      <td>0.000000</td>\n",
       "      <td>1.000000</td>\n",
       "      <td>0.00000</td>\n",
       "      <td>0.000000</td>\n",
       "      <td>11.580000</td>\n",
       "      <td>0.000000</td>\n",
       "    </tr>\n",
       "    <tr>\n",
       "      <th>25%</th>\n",
       "      <td>2500.75000</td>\n",
       "      <td>1.562853e+07</td>\n",
       "      <td>584.000000</td>\n",
       "      <td>32.000000</td>\n",
       "      <td>2.000000</td>\n",
       "      <td>0.000000</td>\n",
       "      <td>1.000000</td>\n",
       "      <td>0.00000</td>\n",
       "      <td>0.000000</td>\n",
       "      <td>51002.110000</td>\n",
       "      <td>0.000000</td>\n",
       "    </tr>\n",
       "    <tr>\n",
       "      <th>50%</th>\n",
       "      <td>5000.50000</td>\n",
       "      <td>1.569074e+07</td>\n",
       "      <td>652.000000</td>\n",
       "      <td>37.000000</td>\n",
       "      <td>5.000000</td>\n",
       "      <td>97198.540000</td>\n",
       "      <td>1.000000</td>\n",
       "      <td>1.00000</td>\n",
       "      <td>1.000000</td>\n",
       "      <td>100193.915000</td>\n",
       "      <td>0.000000</td>\n",
       "    </tr>\n",
       "    <tr>\n",
       "      <th>75%</th>\n",
       "      <td>7500.25000</td>\n",
       "      <td>1.575323e+07</td>\n",
       "      <td>718.000000</td>\n",
       "      <td>44.000000</td>\n",
       "      <td>7.000000</td>\n",
       "      <td>127644.240000</td>\n",
       "      <td>2.000000</td>\n",
       "      <td>1.00000</td>\n",
       "      <td>1.000000</td>\n",
       "      <td>149388.247500</td>\n",
       "      <td>0.000000</td>\n",
       "    </tr>\n",
       "    <tr>\n",
       "      <th>max</th>\n",
       "      <td>10000.00000</td>\n",
       "      <td>1.581569e+07</td>\n",
       "      <td>850.000000</td>\n",
       "      <td>92.000000</td>\n",
       "      <td>10.000000</td>\n",
       "      <td>250898.090000</td>\n",
       "      <td>4.000000</td>\n",
       "      <td>1.00000</td>\n",
       "      <td>1.000000</td>\n",
       "      <td>199992.480000</td>\n",
       "      <td>1.000000</td>\n",
       "    </tr>\n",
       "  </tbody>\n",
       "</table>\n",
       "</div>"
      ],
      "text/plain": [
       "        row_number   customer_id  credit_score           age       tenure  \\\n",
       "count  10000.00000  1.000000e+04  10000.000000  10000.000000  9091.000000   \n",
       "mean    5000.50000  1.569094e+07    650.528800     38.921800     4.997690   \n",
       "std     2886.89568  7.193619e+04     96.653299     10.487806     2.894723   \n",
       "min        1.00000  1.556570e+07    350.000000     18.000000     0.000000   \n",
       "25%     2500.75000  1.562853e+07    584.000000     32.000000     2.000000   \n",
       "50%     5000.50000  1.569074e+07    652.000000     37.000000     5.000000   \n",
       "75%     7500.25000  1.575323e+07    718.000000     44.000000     7.000000   \n",
       "max    10000.00000  1.581569e+07    850.000000     92.000000    10.000000   \n",
       "\n",
       "             balance  num_of_products  has_cr_card  is_active_member  \\\n",
       "count   10000.000000     10000.000000  10000.00000      10000.000000   \n",
       "mean    76485.889288         1.530200      0.70550          0.515100   \n",
       "std     62397.405202         0.581654      0.45584          0.499797   \n",
       "min         0.000000         1.000000      0.00000          0.000000   \n",
       "25%         0.000000         1.000000      0.00000          0.000000   \n",
       "50%     97198.540000         1.000000      1.00000          1.000000   \n",
       "75%    127644.240000         2.000000      1.00000          1.000000   \n",
       "max    250898.090000         4.000000      1.00000          1.000000   \n",
       "\n",
       "       estimated_salary        exited  \n",
       "count      10000.000000  10000.000000  \n",
       "mean      100090.239881      0.203700  \n",
       "std        57510.492818      0.402769  \n",
       "min           11.580000      0.000000  \n",
       "25%        51002.110000      0.000000  \n",
       "50%       100193.915000      0.000000  \n",
       "75%       149388.247500      0.000000  \n",
       "max       199992.480000      1.000000  "
      ]
     },
     "execution_count": 5,
     "metadata": {},
     "output_type": "execute_result"
    }
   ],
   "source": [
    "data.describe()"
   ]
  },
  {
   "cell_type": "code",
   "execution_count": 6,
   "metadata": {
    "scrolled": true
   },
   "outputs": [
    {
     "data": {
      "text/html": [
       "<div>\n",
       "<style scoped>\n",
       "    .dataframe tbody tr th:only-of-type {\n",
       "        vertical-align: middle;\n",
       "    }\n",
       "\n",
       "    .dataframe tbody tr th {\n",
       "        vertical-align: top;\n",
       "    }\n",
       "\n",
       "    .dataframe thead th {\n",
       "        text-align: right;\n",
       "    }\n",
       "</style>\n",
       "<table border=\"1\" class=\"dataframe\">\n",
       "  <thead>\n",
       "    <tr style=\"text-align: right;\">\n",
       "      <th></th>\n",
       "      <th>row_number</th>\n",
       "      <th>customer_id</th>\n",
       "      <th>surname</th>\n",
       "      <th>credit_score</th>\n",
       "      <th>geography</th>\n",
       "      <th>gender</th>\n",
       "      <th>age</th>\n",
       "      <th>tenure</th>\n",
       "      <th>balance</th>\n",
       "      <th>num_of_products</th>\n",
       "      <th>has_cr_card</th>\n",
       "      <th>is_active_member</th>\n",
       "      <th>estimated_salary</th>\n",
       "      <th>exited</th>\n",
       "    </tr>\n",
       "  </thead>\n",
       "  <tbody>\n",
       "    <tr>\n",
       "      <th>30</th>\n",
       "      <td>31</td>\n",
       "      <td>15589475</td>\n",
       "      <td>Azikiwe</td>\n",
       "      <td>591</td>\n",
       "      <td>Spain</td>\n",
       "      <td>Female</td>\n",
       "      <td>39</td>\n",
       "      <td>NaN</td>\n",
       "      <td>0.00</td>\n",
       "      <td>3</td>\n",
       "      <td>1</td>\n",
       "      <td>0</td>\n",
       "      <td>140469.38</td>\n",
       "      <td>1</td>\n",
       "    </tr>\n",
       "    <tr>\n",
       "      <th>48</th>\n",
       "      <td>49</td>\n",
       "      <td>15766205</td>\n",
       "      <td>Yin</td>\n",
       "      <td>550</td>\n",
       "      <td>Germany</td>\n",
       "      <td>Male</td>\n",
       "      <td>38</td>\n",
       "      <td>NaN</td>\n",
       "      <td>103391.38</td>\n",
       "      <td>1</td>\n",
       "      <td>0</td>\n",
       "      <td>1</td>\n",
       "      <td>90878.13</td>\n",
       "      <td>0</td>\n",
       "    </tr>\n",
       "    <tr>\n",
       "      <th>51</th>\n",
       "      <td>52</td>\n",
       "      <td>15768193</td>\n",
       "      <td>Trevisani</td>\n",
       "      <td>585</td>\n",
       "      <td>Germany</td>\n",
       "      <td>Male</td>\n",
       "      <td>36</td>\n",
       "      <td>NaN</td>\n",
       "      <td>146050.97</td>\n",
       "      <td>2</td>\n",
       "      <td>0</td>\n",
       "      <td>0</td>\n",
       "      <td>86424.57</td>\n",
       "      <td>0</td>\n",
       "    </tr>\n",
       "    <tr>\n",
       "      <th>53</th>\n",
       "      <td>54</td>\n",
       "      <td>15702298</td>\n",
       "      <td>Parkhill</td>\n",
       "      <td>655</td>\n",
       "      <td>Germany</td>\n",
       "      <td>Male</td>\n",
       "      <td>41</td>\n",
       "      <td>NaN</td>\n",
       "      <td>125561.97</td>\n",
       "      <td>1</td>\n",
       "      <td>0</td>\n",
       "      <td>0</td>\n",
       "      <td>164040.94</td>\n",
       "      <td>1</td>\n",
       "    </tr>\n",
       "    <tr>\n",
       "      <th>60</th>\n",
       "      <td>61</td>\n",
       "      <td>15651280</td>\n",
       "      <td>Hunter</td>\n",
       "      <td>742</td>\n",
       "      <td>Germany</td>\n",
       "      <td>Male</td>\n",
       "      <td>35</td>\n",
       "      <td>NaN</td>\n",
       "      <td>136857.00</td>\n",
       "      <td>1</td>\n",
       "      <td>0</td>\n",
       "      <td>0</td>\n",
       "      <td>84509.57</td>\n",
       "      <td>0</td>\n",
       "    </tr>\n",
       "  </tbody>\n",
       "</table>\n",
       "</div>"
      ],
      "text/plain": [
       "    row_number  customer_id    surname  credit_score geography  gender  age  \\\n",
       "30          31     15589475    Azikiwe           591     Spain  Female   39   \n",
       "48          49     15766205        Yin           550   Germany    Male   38   \n",
       "51          52     15768193  Trevisani           585   Germany    Male   36   \n",
       "53          54     15702298   Parkhill           655   Germany    Male   41   \n",
       "60          61     15651280     Hunter           742   Germany    Male   35   \n",
       "\n",
       "    tenure    balance  num_of_products  has_cr_card  is_active_member  \\\n",
       "30     NaN       0.00                3            1                 0   \n",
       "48     NaN  103391.38                1            0                 1   \n",
       "51     NaN  146050.97                2            0                 0   \n",
       "53     NaN  125561.97                1            0                 0   \n",
       "60     NaN  136857.00                1            0                 0   \n",
       "\n",
       "    estimated_salary  exited  \n",
       "30         140469.38       1  \n",
       "48          90878.13       0  \n",
       "51          86424.57       0  \n",
       "53         164040.94       1  \n",
       "60          84509.57       0  "
      ]
     },
     "execution_count": 6,
     "metadata": {},
     "output_type": "execute_result"
    }
   ],
   "source": [
    "data[data.tenure.isna()].head()"
   ]
  },
  {
   "cell_type": "code",
   "execution_count": 7,
   "metadata": {},
   "outputs": [
    {
     "data": {
      "text/html": [
       "<div>\n",
       "<style scoped>\n",
       "    .dataframe tbody tr th:only-of-type {\n",
       "        vertical-align: middle;\n",
       "    }\n",
       "\n",
       "    .dataframe tbody tr th {\n",
       "        vertical-align: top;\n",
       "    }\n",
       "\n",
       "    .dataframe thead th {\n",
       "        text-align: right;\n",
       "    }\n",
       "</style>\n",
       "<table border=\"1\" class=\"dataframe\">\n",
       "  <thead>\n",
       "    <tr style=\"text-align: right;\">\n",
       "      <th></th>\n",
       "      <th>row_number</th>\n",
       "      <th>customer_id</th>\n",
       "      <th>surname</th>\n",
       "      <th>credit_score</th>\n",
       "      <th>geography</th>\n",
       "      <th>gender</th>\n",
       "      <th>age</th>\n",
       "      <th>tenure</th>\n",
       "      <th>balance</th>\n",
       "      <th>num_of_products</th>\n",
       "      <th>has_cr_card</th>\n",
       "      <th>is_active_member</th>\n",
       "      <th>estimated_salary</th>\n",
       "      <th>exited</th>\n",
       "    </tr>\n",
       "  </thead>\n",
       "  <tbody>\n",
       "    <tr>\n",
       "      <th>9944</th>\n",
       "      <td>9945</td>\n",
       "      <td>15703923</td>\n",
       "      <td>Cameron</td>\n",
       "      <td>744</td>\n",
       "      <td>Germany</td>\n",
       "      <td>Male</td>\n",
       "      <td>41</td>\n",
       "      <td>NaN</td>\n",
       "      <td>190409.34</td>\n",
       "      <td>2</td>\n",
       "      <td>1</td>\n",
       "      <td>1</td>\n",
       "      <td>138361.48</td>\n",
       "      <td>0</td>\n",
       "    </tr>\n",
       "    <tr>\n",
       "      <th>9956</th>\n",
       "      <td>9957</td>\n",
       "      <td>15707861</td>\n",
       "      <td>Nucci</td>\n",
       "      <td>520</td>\n",
       "      <td>France</td>\n",
       "      <td>Female</td>\n",
       "      <td>46</td>\n",
       "      <td>NaN</td>\n",
       "      <td>85216.61</td>\n",
       "      <td>1</td>\n",
       "      <td>1</td>\n",
       "      <td>0</td>\n",
       "      <td>117369.52</td>\n",
       "      <td>1</td>\n",
       "    </tr>\n",
       "    <tr>\n",
       "      <th>9964</th>\n",
       "      <td>9965</td>\n",
       "      <td>15642785</td>\n",
       "      <td>Douglas</td>\n",
       "      <td>479</td>\n",
       "      <td>France</td>\n",
       "      <td>Male</td>\n",
       "      <td>34</td>\n",
       "      <td>NaN</td>\n",
       "      <td>117593.48</td>\n",
       "      <td>2</td>\n",
       "      <td>0</td>\n",
       "      <td>0</td>\n",
       "      <td>113308.29</td>\n",
       "      <td>0</td>\n",
       "    </tr>\n",
       "    <tr>\n",
       "      <th>9985</th>\n",
       "      <td>9986</td>\n",
       "      <td>15586914</td>\n",
       "      <td>Nepean</td>\n",
       "      <td>659</td>\n",
       "      <td>France</td>\n",
       "      <td>Male</td>\n",
       "      <td>36</td>\n",
       "      <td>NaN</td>\n",
       "      <td>123841.49</td>\n",
       "      <td>2</td>\n",
       "      <td>1</td>\n",
       "      <td>0</td>\n",
       "      <td>96833.00</td>\n",
       "      <td>0</td>\n",
       "    </tr>\n",
       "    <tr>\n",
       "      <th>9999</th>\n",
       "      <td>10000</td>\n",
       "      <td>15628319</td>\n",
       "      <td>Walker</td>\n",
       "      <td>792</td>\n",
       "      <td>France</td>\n",
       "      <td>Female</td>\n",
       "      <td>28</td>\n",
       "      <td>NaN</td>\n",
       "      <td>130142.79</td>\n",
       "      <td>1</td>\n",
       "      <td>1</td>\n",
       "      <td>0</td>\n",
       "      <td>38190.78</td>\n",
       "      <td>0</td>\n",
       "    </tr>\n",
       "  </tbody>\n",
       "</table>\n",
       "</div>"
      ],
      "text/plain": [
       "      row_number  customer_id  surname  credit_score geography  gender  age  \\\n",
       "9944        9945     15703923  Cameron           744   Germany    Male   41   \n",
       "9956        9957     15707861    Nucci           520    France  Female   46   \n",
       "9964        9965     15642785  Douglas           479    France    Male   34   \n",
       "9985        9986     15586914   Nepean           659    France    Male   36   \n",
       "9999       10000     15628319   Walker           792    France  Female   28   \n",
       "\n",
       "      tenure    balance  num_of_products  has_cr_card  is_active_member  \\\n",
       "9944     NaN  190409.34                2            1                 1   \n",
       "9956     NaN   85216.61                1            1                 0   \n",
       "9964     NaN  117593.48                2            0                 0   \n",
       "9985     NaN  123841.49                2            1                 0   \n",
       "9999     NaN  130142.79                1            1                 0   \n",
       "\n",
       "      estimated_salary  exited  \n",
       "9944         138361.48       0  \n",
       "9956         117369.52       1  \n",
       "9964         113308.29       0  \n",
       "9985          96833.00       0  \n",
       "9999          38190.78       0  "
      ]
     },
     "execution_count": 7,
     "metadata": {},
     "output_type": "execute_result"
    }
   ],
   "source": [
    "data[data.tenure.isna()].tail()"
   ]
  },
  {
   "cell_type": "markdown",
   "metadata": {},
   "source": [
    "Очевидное сходство по клиентам, по которым пропущено значение tenure отсутствует. Предлагается заполнить его медианным значением, т.к. данный столбец будет использоваться при обучении моделей и пропуски недопустимы."
   ]
  },
  {
   "cell_type": "code",
   "execution_count": 8,
   "metadata": {},
   "outputs": [],
   "source": [
    "data.loc[data.tenure.isna(),'tenure']=data.loc[data.tenure.isna()==False,'tenure'].median()"
   ]
  },
  {
   "cell_type": "markdown",
   "metadata": {},
   "source": [
    "Проверим разброс значений по таким категориальным полям как geography, gender, а также рассмотрим клиентов с околонулевыми значениями balance и estimated_salary "
   ]
  },
  {
   "cell_type": "code",
   "execution_count": 9,
   "metadata": {},
   "outputs": [
    {
     "data": {
      "text/plain": [
       "France     5014\n",
       "Germany    2509\n",
       "Spain      2477\n",
       "Name: geography, dtype: int64"
      ]
     },
     "execution_count": 9,
     "metadata": {},
     "output_type": "execute_result"
    }
   ],
   "source": [
    "data['geography'].value_counts()"
   ]
  },
  {
   "cell_type": "code",
   "execution_count": 10,
   "metadata": {},
   "outputs": [
    {
     "data": {
      "text/plain": [
       "Male      5457\n",
       "Female    4543\n",
       "Name: gender, dtype: int64"
      ]
     },
     "execution_count": 10,
     "metadata": {},
     "output_type": "execute_result"
    }
   ],
   "source": [
    "data['gender'].value_counts()"
   ]
  },
  {
   "cell_type": "code",
   "execution_count": 11,
   "metadata": {},
   "outputs": [
    {
     "data": {
      "text/html": [
       "<div>\n",
       "<style scoped>\n",
       "    .dataframe tbody tr th:only-of-type {\n",
       "        vertical-align: middle;\n",
       "    }\n",
       "\n",
       "    .dataframe tbody tr th {\n",
       "        vertical-align: top;\n",
       "    }\n",
       "\n",
       "    .dataframe thead th {\n",
       "        text-align: right;\n",
       "    }\n",
       "</style>\n",
       "<table border=\"1\" class=\"dataframe\">\n",
       "  <thead>\n",
       "    <tr style=\"text-align: right;\">\n",
       "      <th></th>\n",
       "      <th>row_number</th>\n",
       "      <th>customer_id</th>\n",
       "      <th>surname</th>\n",
       "      <th>credit_score</th>\n",
       "      <th>geography</th>\n",
       "      <th>gender</th>\n",
       "      <th>age</th>\n",
       "      <th>tenure</th>\n",
       "      <th>balance</th>\n",
       "      <th>num_of_products</th>\n",
       "      <th>has_cr_card</th>\n",
       "      <th>is_active_member</th>\n",
       "      <th>estimated_salary</th>\n",
       "      <th>exited</th>\n",
       "    </tr>\n",
       "  </thead>\n",
       "  <tbody>\n",
       "    <tr>\n",
       "      <th>6463</th>\n",
       "      <td>6464</td>\n",
       "      <td>15637411</td>\n",
       "      <td>Tochukwu</td>\n",
       "      <td>749</td>\n",
       "      <td>France</td>\n",
       "      <td>Male</td>\n",
       "      <td>30</td>\n",
       "      <td>1.0</td>\n",
       "      <td>0.0</td>\n",
       "      <td>2</td>\n",
       "      <td>0</td>\n",
       "      <td>1</td>\n",
       "      <td>126551.65</td>\n",
       "      <td>0</td>\n",
       "    </tr>\n",
       "    <tr>\n",
       "      <th>34</th>\n",
       "      <td>35</td>\n",
       "      <td>15732963</td>\n",
       "      <td>Clements</td>\n",
       "      <td>722</td>\n",
       "      <td>Spain</td>\n",
       "      <td>Female</td>\n",
       "      <td>29</td>\n",
       "      <td>9.0</td>\n",
       "      <td>0.0</td>\n",
       "      <td>2</td>\n",
       "      <td>1</td>\n",
       "      <td>1</td>\n",
       "      <td>142033.07</td>\n",
       "      <td>0</td>\n",
       "    </tr>\n",
       "    <tr>\n",
       "      <th>1357</th>\n",
       "      <td>1358</td>\n",
       "      <td>15746326</td>\n",
       "      <td>Fields</td>\n",
       "      <td>591</td>\n",
       "      <td>France</td>\n",
       "      <td>Male</td>\n",
       "      <td>43</td>\n",
       "      <td>3.0</td>\n",
       "      <td>0.0</td>\n",
       "      <td>2</td>\n",
       "      <td>0</td>\n",
       "      <td>1</td>\n",
       "      <td>198926.36</td>\n",
       "      <td>0</td>\n",
       "    </tr>\n",
       "    <tr>\n",
       "      <th>379</th>\n",
       "      <td>380</td>\n",
       "      <td>15629677</td>\n",
       "      <td>Distefano</td>\n",
       "      <td>687</td>\n",
       "      <td>Spain</td>\n",
       "      <td>Female</td>\n",
       "      <td>39</td>\n",
       "      <td>2.0</td>\n",
       "      <td>0.0</td>\n",
       "      <td>3</td>\n",
       "      <td>0</td>\n",
       "      <td>0</td>\n",
       "      <td>188150.60</td>\n",
       "      <td>1</td>\n",
       "    </tr>\n",
       "    <tr>\n",
       "      <th>6732</th>\n",
       "      <td>6733</td>\n",
       "      <td>15718588</td>\n",
       "      <td>Meng</td>\n",
       "      <td>548</td>\n",
       "      <td>France</td>\n",
       "      <td>Female</td>\n",
       "      <td>37</td>\n",
       "      <td>5.0</td>\n",
       "      <td>0.0</td>\n",
       "      <td>2</td>\n",
       "      <td>0</td>\n",
       "      <td>0</td>\n",
       "      <td>98029.58</td>\n",
       "      <td>0</td>\n",
       "    </tr>\n",
       "    <tr>\n",
       "      <th>6772</th>\n",
       "      <td>6773</td>\n",
       "      <td>15652700</td>\n",
       "      <td>Ritchie</td>\n",
       "      <td>539</td>\n",
       "      <td>France</td>\n",
       "      <td>Male</td>\n",
       "      <td>39</td>\n",
       "      <td>6.0</td>\n",
       "      <td>0.0</td>\n",
       "      <td>2</td>\n",
       "      <td>1</td>\n",
       "      <td>1</td>\n",
       "      <td>86767.48</td>\n",
       "      <td>0</td>\n",
       "    </tr>\n",
       "    <tr>\n",
       "      <th>4513</th>\n",
       "      <td>4514</td>\n",
       "      <td>15722212</td>\n",
       "      <td>Edmondstone</td>\n",
       "      <td>696</td>\n",
       "      <td>France</td>\n",
       "      <td>Female</td>\n",
       "      <td>41</td>\n",
       "      <td>8.0</td>\n",
       "      <td>0.0</td>\n",
       "      <td>2</td>\n",
       "      <td>0</td>\n",
       "      <td>0</td>\n",
       "      <td>28276.83</td>\n",
       "      <td>0</td>\n",
       "    </tr>\n",
       "    <tr>\n",
       "      <th>2112</th>\n",
       "      <td>2113</td>\n",
       "      <td>15631201</td>\n",
       "      <td>Hill</td>\n",
       "      <td>472</td>\n",
       "      <td>Spain</td>\n",
       "      <td>Female</td>\n",
       "      <td>28</td>\n",
       "      <td>4.0</td>\n",
       "      <td>0.0</td>\n",
       "      <td>2</td>\n",
       "      <td>1</td>\n",
       "      <td>0</td>\n",
       "      <td>1801.77</td>\n",
       "      <td>0</td>\n",
       "    </tr>\n",
       "    <tr>\n",
       "      <th>6277</th>\n",
       "      <td>6278</td>\n",
       "      <td>15697391</td>\n",
       "      <td>Argyle</td>\n",
       "      <td>604</td>\n",
       "      <td>Spain</td>\n",
       "      <td>Female</td>\n",
       "      <td>34</td>\n",
       "      <td>3.0</td>\n",
       "      <td>0.0</td>\n",
       "      <td>2</td>\n",
       "      <td>1</td>\n",
       "      <td>0</td>\n",
       "      <td>38587.70</td>\n",
       "      <td>0</td>\n",
       "    </tr>\n",
       "    <tr>\n",
       "      <th>5969</th>\n",
       "      <td>5970</td>\n",
       "      <td>15579714</td>\n",
       "      <td>Pan</td>\n",
       "      <td>542</td>\n",
       "      <td>France</td>\n",
       "      <td>Female</td>\n",
       "      <td>29</td>\n",
       "      <td>7.0</td>\n",
       "      <td>0.0</td>\n",
       "      <td>2</td>\n",
       "      <td>0</td>\n",
       "      <td>1</td>\n",
       "      <td>196651.72</td>\n",
       "      <td>0</td>\n",
       "    </tr>\n",
       "  </tbody>\n",
       "</table>\n",
       "</div>"
      ],
      "text/plain": [
       "      row_number  customer_id      surname  credit_score geography  gender  \\\n",
       "6463        6464     15637411     Tochukwu           749    France    Male   \n",
       "34            35     15732963     Clements           722     Spain  Female   \n",
       "1357        1358     15746326       Fields           591    France    Male   \n",
       "379          380     15629677    Distefano           687     Spain  Female   \n",
       "6732        6733     15718588         Meng           548    France  Female   \n",
       "6772        6773     15652700      Ritchie           539    France    Male   \n",
       "4513        4514     15722212  Edmondstone           696    France  Female   \n",
       "2112        2113     15631201         Hill           472     Spain  Female   \n",
       "6277        6278     15697391       Argyle           604     Spain  Female   \n",
       "5969        5970     15579714          Pan           542    France  Female   \n",
       "\n",
       "      age  tenure  balance  num_of_products  has_cr_card  is_active_member  \\\n",
       "6463   30     1.0      0.0                2            0                 1   \n",
       "34     29     9.0      0.0                2            1                 1   \n",
       "1357   43     3.0      0.0                2            0                 1   \n",
       "379    39     2.0      0.0                3            0                 0   \n",
       "6732   37     5.0      0.0                2            0                 0   \n",
       "6772   39     6.0      0.0                2            1                 1   \n",
       "4513   41     8.0      0.0                2            0                 0   \n",
       "2112   28     4.0      0.0                2            1                 0   \n",
       "6277   34     3.0      0.0                2            1                 0   \n",
       "5969   29     7.0      0.0                2            0                 1   \n",
       "\n",
       "      estimated_salary  exited  \n",
       "6463         126551.65       0  \n",
       "34           142033.07       0  \n",
       "1357         198926.36       0  \n",
       "379          188150.60       1  \n",
       "6732          98029.58       0  \n",
       "6772          86767.48       0  \n",
       "4513          28276.83       0  \n",
       "2112           1801.77       0  \n",
       "6277          38587.70       0  \n",
       "5969         196651.72       0  "
      ]
     },
     "execution_count": 11,
     "metadata": {},
     "output_type": "execute_result"
    }
   ],
   "source": [
    "data[data.balance==0].sort_values(by='row_number',ascending=True).sample(10)"
   ]
  },
  {
   "cell_type": "code",
   "execution_count": 12,
   "metadata": {
    "scrolled": true
   },
   "outputs": [
    {
     "data": {
      "text/html": [
       "<div>\n",
       "<style scoped>\n",
       "    .dataframe tbody tr th:only-of-type {\n",
       "        vertical-align: middle;\n",
       "    }\n",
       "\n",
       "    .dataframe tbody tr th {\n",
       "        vertical-align: top;\n",
       "    }\n",
       "\n",
       "    .dataframe thead th {\n",
       "        text-align: right;\n",
       "    }\n",
       "</style>\n",
       "<table border=\"1\" class=\"dataframe\">\n",
       "  <thead>\n",
       "    <tr style=\"text-align: right;\">\n",
       "      <th></th>\n",
       "      <th>row_number</th>\n",
       "      <th>customer_id</th>\n",
       "      <th>surname</th>\n",
       "      <th>credit_score</th>\n",
       "      <th>geography</th>\n",
       "      <th>gender</th>\n",
       "      <th>age</th>\n",
       "      <th>tenure</th>\n",
       "      <th>balance</th>\n",
       "      <th>num_of_products</th>\n",
       "      <th>has_cr_card</th>\n",
       "      <th>is_active_member</th>\n",
       "      <th>estimated_salary</th>\n",
       "      <th>exited</th>\n",
       "    </tr>\n",
       "  </thead>\n",
       "  <tbody>\n",
       "    <tr>\n",
       "      <th>2362</th>\n",
       "      <td>2363</td>\n",
       "      <td>15791053</td>\n",
       "      <td>Lucciano</td>\n",
       "      <td>709</td>\n",
       "      <td>Germany</td>\n",
       "      <td>Male</td>\n",
       "      <td>45</td>\n",
       "      <td>4.0</td>\n",
       "      <td>122917.71</td>\n",
       "      <td>1</td>\n",
       "      <td>1</td>\n",
       "      <td>1</td>\n",
       "      <td>11.58</td>\n",
       "      <td>1</td>\n",
       "    </tr>\n",
       "    <tr>\n",
       "      <th>9647</th>\n",
       "      <td>9648</td>\n",
       "      <td>15679693</td>\n",
       "      <td>Walker</td>\n",
       "      <td>625</td>\n",
       "      <td>France</td>\n",
       "      <td>Male</td>\n",
       "      <td>31</td>\n",
       "      <td>5.0</td>\n",
       "      <td>0.00</td>\n",
       "      <td>2</td>\n",
       "      <td>0</td>\n",
       "      <td>1</td>\n",
       "      <td>90.07</td>\n",
       "      <td>0</td>\n",
       "    </tr>\n",
       "    <tr>\n",
       "      <th>9010</th>\n",
       "      <td>9011</td>\n",
       "      <td>15786463</td>\n",
       "      <td>Hsing</td>\n",
       "      <td>645</td>\n",
       "      <td>Germany</td>\n",
       "      <td>Female</td>\n",
       "      <td>59</td>\n",
       "      <td>8.0</td>\n",
       "      <td>121669.93</td>\n",
       "      <td>2</td>\n",
       "      <td>0</td>\n",
       "      <td>0</td>\n",
       "      <td>91.75</td>\n",
       "      <td>1</td>\n",
       "    </tr>\n",
       "    <tr>\n",
       "      <th>5548</th>\n",
       "      <td>5549</td>\n",
       "      <td>15639662</td>\n",
       "      <td>Phillips</td>\n",
       "      <td>710</td>\n",
       "      <td>France</td>\n",
       "      <td>Male</td>\n",
       "      <td>38</td>\n",
       "      <td>2.0</td>\n",
       "      <td>0.00</td>\n",
       "      <td>2</td>\n",
       "      <td>1</td>\n",
       "      <td>0</td>\n",
       "      <td>96.27</td>\n",
       "      <td>0</td>\n",
       "    </tr>\n",
       "    <tr>\n",
       "      <th>4989</th>\n",
       "      <td>4990</td>\n",
       "      <td>15602851</td>\n",
       "      <td>Ozioma</td>\n",
       "      <td>629</td>\n",
       "      <td>France</td>\n",
       "      <td>Male</td>\n",
       "      <td>40</td>\n",
       "      <td>5.0</td>\n",
       "      <td>0.00</td>\n",
       "      <td>1</td>\n",
       "      <td>1</td>\n",
       "      <td>0</td>\n",
       "      <td>106.67</td>\n",
       "      <td>0</td>\n",
       "    </tr>\n",
       "    <tr>\n",
       "      <th>7565</th>\n",
       "      <td>7566</td>\n",
       "      <td>15623369</td>\n",
       "      <td>Clifton</td>\n",
       "      <td>708</td>\n",
       "      <td>France</td>\n",
       "      <td>Male</td>\n",
       "      <td>52</td>\n",
       "      <td>10.0</td>\n",
       "      <td>105355.81</td>\n",
       "      <td>1</td>\n",
       "      <td>1</td>\n",
       "      <td>0</td>\n",
       "      <td>123.07</td>\n",
       "      <td>1</td>\n",
       "    </tr>\n",
       "    <tr>\n",
       "      <th>2498</th>\n",
       "      <td>2499</td>\n",
       "      <td>15648735</td>\n",
       "      <td>Cashin</td>\n",
       "      <td>718</td>\n",
       "      <td>France</td>\n",
       "      <td>Male</td>\n",
       "      <td>37</td>\n",
       "      <td>8.0</td>\n",
       "      <td>0.00</td>\n",
       "      <td>2</td>\n",
       "      <td>1</td>\n",
       "      <td>1</td>\n",
       "      <td>142.81</td>\n",
       "      <td>0</td>\n",
       "    </tr>\n",
       "    <tr>\n",
       "      <th>8722</th>\n",
       "      <td>8723</td>\n",
       "      <td>15718667</td>\n",
       "      <td>T'ien</td>\n",
       "      <td>621</td>\n",
       "      <td>France</td>\n",
       "      <td>Male</td>\n",
       "      <td>35</td>\n",
       "      <td>7.0</td>\n",
       "      <td>87619.29</td>\n",
       "      <td>1</td>\n",
       "      <td>1</td>\n",
       "      <td>0</td>\n",
       "      <td>143.34</td>\n",
       "      <td>0</td>\n",
       "    </tr>\n",
       "    <tr>\n",
       "      <th>4774</th>\n",
       "      <td>4775</td>\n",
       "      <td>15640421</td>\n",
       "      <td>Conway</td>\n",
       "      <td>811</td>\n",
       "      <td>France</td>\n",
       "      <td>Female</td>\n",
       "      <td>35</td>\n",
       "      <td>7.0</td>\n",
       "      <td>0.00</td>\n",
       "      <td>1</td>\n",
       "      <td>1</td>\n",
       "      <td>1</td>\n",
       "      <td>178.19</td>\n",
       "      <td>0</td>\n",
       "    </tr>\n",
       "    <tr>\n",
       "      <th>1451</th>\n",
       "      <td>1452</td>\n",
       "      <td>15684198</td>\n",
       "      <td>McDonald</td>\n",
       "      <td>551</td>\n",
       "      <td>France</td>\n",
       "      <td>Female</td>\n",
       "      <td>38</td>\n",
       "      <td>10.0</td>\n",
       "      <td>0.00</td>\n",
       "      <td>2</td>\n",
       "      <td>1</td>\n",
       "      <td>1</td>\n",
       "      <td>216.27</td>\n",
       "      <td>0</td>\n",
       "    </tr>\n",
       "  </tbody>\n",
       "</table>\n",
       "</div>"
      ],
      "text/plain": [
       "      row_number  customer_id   surname  credit_score geography  gender  age  \\\n",
       "2362        2363     15791053  Lucciano           709   Germany    Male   45   \n",
       "9647        9648     15679693    Walker           625    France    Male   31   \n",
       "9010        9011     15786463     Hsing           645   Germany  Female   59   \n",
       "5548        5549     15639662  Phillips           710    France    Male   38   \n",
       "4989        4990     15602851    Ozioma           629    France    Male   40   \n",
       "7565        7566     15623369   Clifton           708    France    Male   52   \n",
       "2498        2499     15648735    Cashin           718    France    Male   37   \n",
       "8722        8723     15718667     T'ien           621    France    Male   35   \n",
       "4774        4775     15640421    Conway           811    France  Female   35   \n",
       "1451        1452     15684198  McDonald           551    France  Female   38   \n",
       "\n",
       "      tenure    balance  num_of_products  has_cr_card  is_active_member  \\\n",
       "2362     4.0  122917.71                1            1                 1   \n",
       "9647     5.0       0.00                2            0                 1   \n",
       "9010     8.0  121669.93                2            0                 0   \n",
       "5548     2.0       0.00                2            1                 0   \n",
       "4989     5.0       0.00                1            1                 0   \n",
       "7565    10.0  105355.81                1            1                 0   \n",
       "2498     8.0       0.00                2            1                 1   \n",
       "8722     7.0   87619.29                1            1                 0   \n",
       "4774     7.0       0.00                1            1                 1   \n",
       "1451    10.0       0.00                2            1                 1   \n",
       "\n",
       "      estimated_salary  exited  \n",
       "2362             11.58       1  \n",
       "9647             90.07       0  \n",
       "9010             91.75       1  \n",
       "5548             96.27       0  \n",
       "4989            106.67       0  \n",
       "7565            123.07       1  \n",
       "2498            142.81       0  \n",
       "8722            143.34       0  \n",
       "4774            178.19       0  \n",
       "1451            216.27       0  "
      ]
     },
     "execution_count": 12,
     "metadata": {},
     "output_type": "execute_result"
    }
   ],
   "source": [
    "data.sort_values(by='estimated_salary', ascending=True).head(10)"
   ]
  },
  {
   "cell_type": "code",
   "execution_count": 13,
   "metadata": {},
   "outputs": [],
   "source": [
    "#sns.pairplot(data.loc[:,('credit_score','geography','age','tenure','balance','num_of_products','has_cr_card','is_active_member','estimated_salary')],hue='geography')"
   ]
  },
  {
   "cell_type": "markdown",
   "metadata": {},
   "source": [
    "Диаграммы распределения показвают отсутствие коллинеарности по каким либо признакам. Данные распределены равномерно, заведомо выпадающие области отсутствуют."
   ]
  },
  {
   "cell_type": "markdown",
   "metadata": {},
   "source": [
    "Часть сведений содержащихся в исходных данных не несет информации для обучения модели, эти поля предлагается убрать сформировав датасет без \"лишних полей\""
   ]
  },
  {
   "cell_type": "code",
   "execution_count": 14,
   "metadata": {
    "scrolled": true
   },
   "outputs": [
    {
     "data": {
      "text/html": [
       "<div>\n",
       "<style scoped>\n",
       "    .dataframe tbody tr th:only-of-type {\n",
       "        vertical-align: middle;\n",
       "    }\n",
       "\n",
       "    .dataframe tbody tr th {\n",
       "        vertical-align: top;\n",
       "    }\n",
       "\n",
       "    .dataframe thead th {\n",
       "        text-align: right;\n",
       "    }\n",
       "</style>\n",
       "<table border=\"1\" class=\"dataframe\">\n",
       "  <thead>\n",
       "    <tr style=\"text-align: right;\">\n",
       "      <th></th>\n",
       "      <th>credit_score</th>\n",
       "      <th>geography</th>\n",
       "      <th>gender</th>\n",
       "      <th>age</th>\n",
       "      <th>tenure</th>\n",
       "      <th>balance</th>\n",
       "      <th>num_of_products</th>\n",
       "      <th>has_cr_card</th>\n",
       "      <th>is_active_member</th>\n",
       "      <th>estimated_salary</th>\n",
       "      <th>exited</th>\n",
       "    </tr>\n",
       "  </thead>\n",
       "  <tbody>\n",
       "    <tr>\n",
       "      <th>0</th>\n",
       "      <td>619</td>\n",
       "      <td>France</td>\n",
       "      <td>Female</td>\n",
       "      <td>42</td>\n",
       "      <td>2.0</td>\n",
       "      <td>0.00</td>\n",
       "      <td>1</td>\n",
       "      <td>1</td>\n",
       "      <td>1</td>\n",
       "      <td>101348.88</td>\n",
       "      <td>1</td>\n",
       "    </tr>\n",
       "    <tr>\n",
       "      <th>1</th>\n",
       "      <td>608</td>\n",
       "      <td>Spain</td>\n",
       "      <td>Female</td>\n",
       "      <td>41</td>\n",
       "      <td>1.0</td>\n",
       "      <td>83807.86</td>\n",
       "      <td>1</td>\n",
       "      <td>0</td>\n",
       "      <td>1</td>\n",
       "      <td>112542.58</td>\n",
       "      <td>0</td>\n",
       "    </tr>\n",
       "    <tr>\n",
       "      <th>2</th>\n",
       "      <td>502</td>\n",
       "      <td>France</td>\n",
       "      <td>Female</td>\n",
       "      <td>42</td>\n",
       "      <td>8.0</td>\n",
       "      <td>159660.80</td>\n",
       "      <td>3</td>\n",
       "      <td>1</td>\n",
       "      <td>0</td>\n",
       "      <td>113931.57</td>\n",
       "      <td>1</td>\n",
       "    </tr>\n",
       "    <tr>\n",
       "      <th>3</th>\n",
       "      <td>699</td>\n",
       "      <td>France</td>\n",
       "      <td>Female</td>\n",
       "      <td>39</td>\n",
       "      <td>1.0</td>\n",
       "      <td>0.00</td>\n",
       "      <td>2</td>\n",
       "      <td>0</td>\n",
       "      <td>0</td>\n",
       "      <td>93826.63</td>\n",
       "      <td>0</td>\n",
       "    </tr>\n",
       "    <tr>\n",
       "      <th>4</th>\n",
       "      <td>850</td>\n",
       "      <td>Spain</td>\n",
       "      <td>Female</td>\n",
       "      <td>43</td>\n",
       "      <td>2.0</td>\n",
       "      <td>125510.82</td>\n",
       "      <td>1</td>\n",
       "      <td>1</td>\n",
       "      <td>1</td>\n",
       "      <td>79084.10</td>\n",
       "      <td>0</td>\n",
       "    </tr>\n",
       "  </tbody>\n",
       "</table>\n",
       "</div>"
      ],
      "text/plain": [
       "   credit_score geography  gender  age  tenure    balance  num_of_products  \\\n",
       "0           619    France  Female   42     2.0       0.00                1   \n",
       "1           608     Spain  Female   41     1.0   83807.86                1   \n",
       "2           502    France  Female   42     8.0  159660.80                3   \n",
       "3           699    France  Female   39     1.0       0.00                2   \n",
       "4           850     Spain  Female   43     2.0  125510.82                1   \n",
       "\n",
       "   has_cr_card  is_active_member  estimated_salary  exited  \n",
       "0            1                 1         101348.88       1  \n",
       "1            0                 1         112542.58       0  \n",
       "2            1                 0         113931.57       1  \n",
       "3            0                 0          93826.63       0  \n",
       "4            1                 1          79084.10       0  "
      ]
     },
     "execution_count": 14,
     "metadata": {},
     "output_type": "execute_result"
    }
   ],
   "source": [
    "data_learn = data.drop(['row_number','customer_id','surname'],axis=1)\n",
    "data_learn.head()"
   ]
  },
  {
   "cell_type": "markdown",
   "metadata": {},
   "source": [
    "Часть полей требуют категоризации для возможности их использования для обучения моделей (Geography, Gender):"
   ]
  },
  {
   "cell_type": "code",
   "execution_count": 15,
   "metadata": {},
   "outputs": [],
   "source": [
    "data_learn = pd.get_dummies(data_learn,drop_first=True)"
   ]
  },
  {
   "cell_type": "code",
   "execution_count": 16,
   "metadata": {
    "scrolled": true
   },
   "outputs": [
    {
     "data": {
      "text/html": [
       "<div>\n",
       "<style scoped>\n",
       "    .dataframe tbody tr th:only-of-type {\n",
       "        vertical-align: middle;\n",
       "    }\n",
       "\n",
       "    .dataframe tbody tr th {\n",
       "        vertical-align: top;\n",
       "    }\n",
       "\n",
       "    .dataframe thead th {\n",
       "        text-align: right;\n",
       "    }\n",
       "</style>\n",
       "<table border=\"1\" class=\"dataframe\">\n",
       "  <thead>\n",
       "    <tr style=\"text-align: right;\">\n",
       "      <th></th>\n",
       "      <th>credit_score</th>\n",
       "      <th>age</th>\n",
       "      <th>tenure</th>\n",
       "      <th>balance</th>\n",
       "      <th>num_of_products</th>\n",
       "      <th>has_cr_card</th>\n",
       "      <th>is_active_member</th>\n",
       "      <th>estimated_salary</th>\n",
       "      <th>exited</th>\n",
       "      <th>geography_Germany</th>\n",
       "      <th>geography_Spain</th>\n",
       "      <th>gender_Male</th>\n",
       "    </tr>\n",
       "  </thead>\n",
       "  <tbody>\n",
       "    <tr>\n",
       "      <th>0</th>\n",
       "      <td>619</td>\n",
       "      <td>42</td>\n",
       "      <td>2.0</td>\n",
       "      <td>0.00</td>\n",
       "      <td>1</td>\n",
       "      <td>1</td>\n",
       "      <td>1</td>\n",
       "      <td>101348.88</td>\n",
       "      <td>1</td>\n",
       "      <td>0</td>\n",
       "      <td>0</td>\n",
       "      <td>0</td>\n",
       "    </tr>\n",
       "    <tr>\n",
       "      <th>1</th>\n",
       "      <td>608</td>\n",
       "      <td>41</td>\n",
       "      <td>1.0</td>\n",
       "      <td>83807.86</td>\n",
       "      <td>1</td>\n",
       "      <td>0</td>\n",
       "      <td>1</td>\n",
       "      <td>112542.58</td>\n",
       "      <td>0</td>\n",
       "      <td>0</td>\n",
       "      <td>1</td>\n",
       "      <td>0</td>\n",
       "    </tr>\n",
       "    <tr>\n",
       "      <th>2</th>\n",
       "      <td>502</td>\n",
       "      <td>42</td>\n",
       "      <td>8.0</td>\n",
       "      <td>159660.80</td>\n",
       "      <td>3</td>\n",
       "      <td>1</td>\n",
       "      <td>0</td>\n",
       "      <td>113931.57</td>\n",
       "      <td>1</td>\n",
       "      <td>0</td>\n",
       "      <td>0</td>\n",
       "      <td>0</td>\n",
       "    </tr>\n",
       "    <tr>\n",
       "      <th>3</th>\n",
       "      <td>699</td>\n",
       "      <td>39</td>\n",
       "      <td>1.0</td>\n",
       "      <td>0.00</td>\n",
       "      <td>2</td>\n",
       "      <td>0</td>\n",
       "      <td>0</td>\n",
       "      <td>93826.63</td>\n",
       "      <td>0</td>\n",
       "      <td>0</td>\n",
       "      <td>0</td>\n",
       "      <td>0</td>\n",
       "    </tr>\n",
       "    <tr>\n",
       "      <th>4</th>\n",
       "      <td>850</td>\n",
       "      <td>43</td>\n",
       "      <td>2.0</td>\n",
       "      <td>125510.82</td>\n",
       "      <td>1</td>\n",
       "      <td>1</td>\n",
       "      <td>1</td>\n",
       "      <td>79084.10</td>\n",
       "      <td>0</td>\n",
       "      <td>0</td>\n",
       "      <td>1</td>\n",
       "      <td>0</td>\n",
       "    </tr>\n",
       "  </tbody>\n",
       "</table>\n",
       "</div>"
      ],
      "text/plain": [
       "   credit_score  age  tenure    balance  num_of_products  has_cr_card  \\\n",
       "0           619   42     2.0       0.00                1            1   \n",
       "1           608   41     1.0   83807.86                1            0   \n",
       "2           502   42     8.0  159660.80                3            1   \n",
       "3           699   39     1.0       0.00                2            0   \n",
       "4           850   43     2.0  125510.82                1            1   \n",
       "\n",
       "   is_active_member  estimated_salary  exited  geography_Germany  \\\n",
       "0                 1         101348.88       1                  0   \n",
       "1                 1         112542.58       0                  0   \n",
       "2                 0         113931.57       1                  0   \n",
       "3                 0          93826.63       0                  0   \n",
       "4                 1          79084.10       0                  0   \n",
       "\n",
       "   geography_Spain  gender_Male  \n",
       "0                0            0  \n",
       "1                1            0  \n",
       "2                0            0  \n",
       "3                0            0  \n",
       "4                1            0  "
      ]
     },
     "execution_count": 16,
     "metadata": {},
     "output_type": "execute_result"
    }
   ],
   "source": [
    "data_learn.head()"
   ]
  },
  {
   "cell_type": "markdown",
   "metadata": {},
   "source": [
    "<b>Вывод по импорту и подготовке данных</b></p>\n",
    "1. Заказчиком представлены данные об истории обслуживания по 10000 клиентов Банка.\n",
    "Данные в целом заполнены корректно, очевидных выбросов или неверных значений согласно describe нет. Имеются пропущенные значения в поле tenure (срок нахождения клиента на обслуживании в годах), такие данные отсутствуют по 809 (8%) клиентов. При этом очевидного сходства между такими клиентам нет, встречаются как ушедшие так и продолжающие обслуживаться.\n",
    "Согласно describe тажке установлено что доля клиентов ушедших с обслуживания составляет в статистике 20,3% (mean() по полю Exited), таким образом очевидно что в дальнейшем возможно понадобятся дополнительные действия связанные с дисбалансом даных.\n",
    "2. Проведена подготовка данных - убраны сведения не характеризующие клиента (код клиента, фамилия), а также проведено кодирование категориальных признаков (пол, страна проживания). По полю tenure (срок обслуживания клиента в годах) пропуски заполнены медианным значением."
   ]
  },
  {
   "cell_type": "markdown",
   "metadata": {},
   "source": [
    "<div class=\"alert alert-warning\" style=\"border-color: orange; border-radius: 5px\">\n",
    "    <p><u><b>⚠️ КОММЕНТАРИЙ РЕВЬЮЕРА v.1</b></u></p>\n",
    "    <p>Данные загружены, отлично.</p>\n",
    "    <p>Хорошо, что применяешь метод <code>.head()</code> таким образом в тетрадку не будет загружен весь датасет, объем которого может быть огромным. Давай договомся использовать метод <code>.head()</code> везде, где ты печатаешь выборки.</p>\n",
    "    <p>Методы <code>.info()</code> и <code>.describe()</code> также обязательны к применению в таких задачах, с их помощью можно получить первые инсайты.</p>\n",
    "    <p>Заполнение пропусков медианой - хорошая идея. Удаление столбцов, кодирование категориальных признаков выполнены верно. К разделению на выборки и масштабированию признаков тоже нет вопросов!</p>\n",
    "</div>"
   ]
  },
  {
   "cell_type": "markdown",
   "metadata": {},
   "source": [
    "<div style=\"background: #B0E0E6; padding: 5px; border: 1px solid SteelBlue; border-radius: 5px;\">\n",
    "    <font color='4682B4'><u><b>КОММЕНТАРИЙ СТУДЕНТА</b></u></font>\n",
    "    <br />\n",
    "    <font color='4682B4'>.head() дополнил, там где нехватало. </p>\n",
    "    .info()  & .describe() использованы </font>\n",
    "</div>"
   ]
  },
  {
   "cell_type": "markdown",
   "metadata": {},
   "source": [
    "<div class=\"alert alert-success\" style=\"border-color: green; border-radius: 5px\">\n",
    "    <p><u><b>✅ КОММЕНТАРИЙ РЕВЬЮЕРА v.2</b></u></p>\n",
    "    <p>Очень хорошо.</p>\n",
    "</div>"
   ]
  },
  {
   "cell_type": "markdown",
   "metadata": {},
   "source": [
    "## Исследование задачи"
   ]
  },
  {
   "cell_type": "markdown",
   "metadata": {},
   "source": [
    "Предварительный анализ показал дисбаланс классов связанный с несоответствием в представленных данных доли клиентов прекративших и продолжающих обслуживание (20% и 80% соответственно), а также существенное превышение доли клиентов из франции над клиентами из других регионов (соотношение 2:1:1).\n",
    "Первый фактор следует дополнительно исследовать на влияние на качетсво обучаемых моделей, второй фактор очевидно при наличии влияния на вывод будет оценен моделями самостоятельно.\n"
   ]
  },
  {
   "cell_type": "code",
   "execution_count": 17,
   "metadata": {},
   "outputs": [],
   "source": [
    "#формируем выборку, создадим обучающую, валидационную и тестовую выборки в соотношении 60/20/20%\n",
    "features = data_learn.drop('exited',axis=1)\n",
    "target=data_learn['exited']"
   ]
  },
  {
   "cell_type": "code",
   "execution_count": 18,
   "metadata": {},
   "outputs": [],
   "source": [
    "features_train,features_test,target_train,target_test = train_test_split(features,target,test_size=0.2,random_state=12345)"
   ]
  },
  {
   "cell_type": "code",
   "execution_count": 19,
   "metadata": {},
   "outputs": [],
   "source": [
    "#features_train, features_valid, target_train, target_valid = train_test_split(features_train,target_train,test_size=0.25,random_state=12345)"
   ]
  },
  {
   "cell_type": "code",
   "execution_count": 20,
   "metadata": {},
   "outputs": [
    {
     "name": "stderr",
     "output_type": "stream",
     "text": [
      "/opt/conda/lib/python3.9/site-packages/pandas/core/indexing.py:1738: SettingWithCopyWarning: \n",
      "A value is trying to be set on a copy of a slice from a DataFrame.\n",
      "Try using .loc[row_indexer,col_indexer] = value instead\n",
      "\n",
      "See the caveats in the documentation: https://pandas.pydata.org/pandas-docs/stable/user_guide/indexing.html#returning-a-view-versus-a-copy\n",
      "  self._setitem_single_column(loc, value[:, i].tolist(), pi)\n",
      "/opt/conda/lib/python3.9/site-packages/pandas/core/indexing.py:1738: SettingWithCopyWarning: \n",
      "A value is trying to be set on a copy of a slice from a DataFrame.\n",
      "Try using .loc[row_indexer,col_indexer] = value instead\n",
      "\n",
      "See the caveats in the documentation: https://pandas.pydata.org/pandas-docs/stable/user_guide/indexing.html#returning-a-view-versus-a-copy\n",
      "  self._setitem_single_column(loc, value[:, i].tolist(), pi)\n"
     ]
    }
   ],
   "source": [
    "#применим стандартизацию\n",
    "scaler = StandardScaler()\n",
    "\n",
    "numeric = ['credit_score', 'age', 'balance', 'num_of_products', 'estimated_salary', 'tenure']\n",
    "\n",
    "scaler.fit(features_train[numeric])\n",
    "\n",
    "features_train.loc[:,(numeric)] = scaler.transform(features_train.loc[:,(numeric)])\n",
    "features_test.loc[:,(numeric)] = scaler.transform(features_test.loc[:,(numeric)])"
   ]
  },
  {
   "cell_type": "markdown",
   "metadata": {},
   "source": [
    "<div class=\"alert alert-danger\" style=\"border-color: #8B0000; border-radius: 5px\">\n",
    "    <p><u><b>❌ КОММЕНТАРИЙ РЕВЬЮЕРА v.1</b></u></p>\n",
    "    <p>Правильно, что применяешь масшатбирование! Но его необходимо производить после разбиения датасета на выборки. Алгоритм такой:</p>\n",
    "    <ol>\n",
    "        <li>Разбиваешь выборки в нужном соотношении.</li>\n",
    "        <li>Обучаешь <code>StandardScaler()</code> на обучающей выборке.</li>\n",
    "        <li>Масштабируешь все выборки.</li>\n",
    "    </ol>\n",
    "    <p>Так ты сможешь избежать утечки данных. И модель не потеряет в качестве на новых данных, когда они появятся.</p>\n",
    "    <p>Еще один момент, далее для подбора гиперпараметров ты используешь RandomizedSearchCV. В этот метод уже включена кросс-валидация, как думаешь нужна нам будет валидационная выборка? Или можем ее не выделять и оставить на подбор гиперпараметров больше данных? У RandomizedSearchCV есть прекрасные атрибуты best_estimator_, best_score_ и best_params_, с помщью которых можно получить резульаты кросс-валидации.</p>\n",
    "</div>"
   ]
  },
  {
   "cell_type": "markdown",
   "metadata": {},
   "source": [
    "<div style=\"background: #B0E0E6; padding: 5px; border: 1px solid SteelBlue; border-radius: 5px;\">\n",
    "    <font color='4682B4'><u><b>КОММЕНТАРИЙ СТУДЕНТА</b></u></font>\n",
    "    <br />\n",
    "    <font color='4682B4'> от валидационной выборки избавился </p>\n",
    "    выполнение масштабирования поставил после разделения выборок  </font>\n",
    "</div>"
   ]
  },
  {
   "cell_type": "markdown",
   "metadata": {},
   "source": [
    "<div class=\"alert alert-success\" style=\"border-color: green; border-radius: 5px\">\n",
    "    <p><u><b>✅ КОММЕНТАРИЙ РЕВЬЮЕРА v.2</b></u></p>\n",
    "    <p>Теперь верно! Я немного поправил твой код где ты трансформируешь выборки.</p>\n",
    "</div>"
   ]
  },
  {
   "attachments": {
    "image.png": {
     "image/png": "[encoded data removed]"
    }
   },
   "cell_type": "markdown",
   "metadata": {},
   "source": [
    "![image.png](attachment:image.png)"
   ]
  },
  {
   "attachments": {
    "image.png": {
     "image/png": "[encoded data removed]"
    }
   },
   "cell_type": "markdown",
   "metadata": {},
   "source": [
    "![image.png](attachment:image.png)"
   ]
  },
  {
   "cell_type": "markdown",
   "metadata": {},
   "source": [
    "<div style=\"background: #B0E0E6; padding: 5px; border: 1px solid SteelBlue; border-radius: 5px;\">\n",
    "    <font color='4682B4'><u><b>КОММЕНТАРИЙ СТУДЕНТА</b></u></font>\n",
    "    <br />\n",
    "    <font color='4682B4'> у меня так не проходит, пришлось восстановить  </font>\n",
    "</div>"
   ]
  },
  {
   "cell_type": "code",
   "execution_count": 21,
   "metadata": {},
   "outputs": [
    {
     "name": "stdout",
     "output_type": "stream",
     "text": [
      "Баланс целевых значений по тренировочной выборке\n",
      "0    0.79875\n",
      "1    0.20125\n",
      "Name: exited, dtype: float64\n",
      "Баланс целевых значений по тестовой выборке\n",
      "0    0.7865\n",
      "1    0.2135\n",
      "Name: exited, dtype: float64\n"
     ]
    }
   ],
   "source": [
    "#рассмотрим дисбаланс по выборкам\n",
    "print('Баланс целевых значений по тренировочной выборке')\n",
    "print(target_train.value_counts(normalize=True))\n",
    "print('Баланс целевых значений по тестовой выборке')\n",
    "print(target_test.value_counts(normalize=True))"
   ]
  },
  {
   "cell_type": "markdown",
   "metadata": {},
   "source": [
    "<div class=\"alert alert-danger\" style=\"border-color: #8B0000; border-radius: 5px\">\n",
    "    <p><u><b>❌ КОММЕНТАРИЙ РЕВЬЮЕРА v.1</b></u></p>\n",
    "    <p>Давай напишем код исследования баланса следующим образом <code>data['exited'].value_counts(normalize=True)</code> так мы сразу увидим дисбаланс в долях.</p>\n",
    "    <p>Дополнительно для наглядности можно построить график;)</p>\n",
    "</div>"
   ]
  },
  {
   "cell_type": "markdown",
   "metadata": {},
   "source": [
    "<div style=\"background: #B0E0E6; padding: 5px; border: 1px solid SteelBlue; border-radius: 5px;\">\n",
    "    <font color='4682B4'><u><b>КОММЕНТАРИЙ СТУДЕНТА</b></u></font>\n",
    "    <br />\n",
    "    <font color='4682B4'> добавил комментарии и наглядный расчет дисбаланса </p>\n",
    "      </font>\n",
    "</div>"
   ]
  },
  {
   "cell_type": "markdown",
   "metadata": {},
   "source": [
    "<div class=\"alert alert-success\" style=\"border-color: green; border-radius: 5px\">\n",
    "    <p><u><b>✅ КОММЕНТАРИЙ РЕВЬЮЕРА v.2</b></u></p>\n",
    "    <p>Отлично, на мой взгляд, в долях всегда нагляднее!</p>\n",
    "</div>"
   ]
  },
  {
   "cell_type": "markdown",
   "metadata": {},
   "source": [
    "### Выбор модели для выполнения задачи"
   ]
  },
  {
   "cell_type": "code",
   "execution_count": 22,
   "metadata": {},
   "outputs": [
    {
     "name": "stdout",
     "output_type": "stream",
     "text": [
      "F1= 0.2857142857142857\n",
      "ROC-AUC= 0.7575583879607725\n"
     ]
    }
   ],
   "source": [
    "model_regre = LogisticRegression(random_state=12345,solver='liblinear')\n",
    "model_regre.fit(features_train, target_train)\n",
    "predictions_test = model_regre.predict(features_test)\n",
    "\n",
    "probabilities_test = model_regre.predict_proba(features_test)\n",
    "probabilities_one_test = probabilities_test[:, 1]\n",
    "print('F1=',f1_score(target_test,predictions_test))\n",
    "print('ROC-AUC=',roc_auc_score(target_test,probabilities_one_test))"
   ]
  },
  {
   "cell_type": "code",
   "execution_count": 23,
   "metadata": {},
   "outputs": [
    {
     "name": "stdout",
     "output_type": "stream",
     "text": [
      "F1= 0.5091743119266056\n",
      "ROC-AUC= 0.6890694997997533\n"
     ]
    }
   ],
   "source": [
    "model_tree = DecisionTreeClassifier(random_state=12345)\n",
    "model_tree.fit(features_train,target_train)\n",
    "predictions_test = model_tree.predict(features_test)\n",
    "\n",
    "probabilities_test = model_tree.predict_proba(features_test)\n",
    "probabilities_one_test = probabilities_test[:, 1]\n",
    "print('F1=',f1_score(target_test,predictions_test))\n",
    "print('ROC-AUC=',roc_auc_score(target_test,probabilities_one_test))"
   ]
  },
  {
   "cell_type": "markdown",
   "metadata": {},
   "source": [
    "Значения F1-меры не достигают целевых значений."
   ]
  },
  {
   "cell_type": "markdown",
   "metadata": {},
   "source": [
    "<b>Вывод по логистической регрессии</b></p>\n",
    "Использование Логистической регрессии показывает невысокие значения метрик в силу отсутствия заметной линейной связи между свойствами и целевым признаком."
   ]
  },
  {
   "cell_type": "code",
   "execution_count": 24,
   "metadata": {},
   "outputs": [
    {
     "name": "stdout",
     "output_type": "stream",
     "text": [
      "F1= 0.5672082717872968\n",
      "ROC-AUC= 0.8550585033446434\n",
      "Accuracy on train_data (overeducation) 1.0\n"
     ]
    }
   ],
   "source": [
    "model_forest = RandomForestClassifier(random_state=12345)\n",
    "model_forest.fit(features_train,target_train)\n",
    "predictions_test = model_forest.predict(features_test)\n",
    "\n",
    "probabilities_test = model_forest.predict_proba(features_test)\n",
    "probabilities_one_test = probabilities_test[:, 1]\n",
    "print('F1=',f1_score(target_test,predictions_test))\n",
    "print('ROC-AUC=',roc_auc_score(target_test,probabilities_one_test))\n",
    "print('Accuracy on train_data (overeducation)',model_forest.score(features_train,target_train))"
   ]
  },
  {
   "cell_type": "markdown",
   "metadata": {},
   "source": [
    "<b>Вывод по выбору модели</b> Очевидно, что наиболее подходящей моделью является \"случайный лес\". Однако значения accuracy на учебной выборке показывают переобучение. При этом применение корректировки дисбаланса для линейной регрессии привело к существенному улучшению показателей, для дерева решений/случайного леса к незначительному (на уровне погрешности) ухудшению.\n",
    "Целесообразно осуществить настройку гиперпараметров для исключения переобучения и возможно улучшения показателей F1 и ROC-AUC, при одновременном устранении дисбаланса, что также может повысить показатели модели."
   ]
  },
  {
   "cell_type": "markdown",
   "metadata": {},
   "source": [
    "<div class=\"alert alert-danger\" style=\"border-color: #8B0000; border-radius: 5px\">\n",
    "    <p><u><b>❌ КОММЕНТАРИЙ РЕВЬЮЕРА v.1</b></u></p>\n",
    "    <p>Здесь для качественного эксперимента стоит подобрать гиперпараметры моделей. Так можно добиться повышения качества их работы. Вдруг дисбаланс не так страшен?</p>\n",
    "</div>"
   ]
  },
  {
   "cell_type": "markdown",
   "metadata": {},
   "source": [
    "<div style=\"background: #B0E0E6; padding: 5px; border: 1px solid SteelBlue; border-radius: 5px;\">\n",
    "    <font color='4682B4'><u><b>КОММЕНТАРИЙ СТУДЕНТА</b></u></font>\n",
    "    <br />\n",
    "    <font color='4682B4'> добавил ниже подбор гиперпараметров\n",
    "</div>"
   ]
  },
  {
   "cell_type": "markdown",
   "metadata": {},
   "source": [
    "<div class=\"alert alert-success\" style=\"border-color: green; border-radius: 5px\">\n",
    "    <p><u><b>✅ КОММЕНТАРИЙ РЕВЬЮЕРА v.2</b></u></p>\n",
    "    <p>Сейчас проверю)</p>\n",
    "</div>"
   ]
  },
  {
   "cell_type": "markdown",
   "metadata": {},
   "source": [
    "### Настройка гиперпараметров модели RandomForest посредством функций GridSearchCv и RandomizedSearchCV"
   ]
  },
  {
   "cell_type": "markdown",
   "metadata": {},
   "source": [
    "<b>RandomizedSearchCV</b>"
   ]
  },
  {
   "cell_type": "markdown",
   "metadata": {},
   "source": [
    "Предлагается запустить подбор следующих гиперпараметров:\n",
    "- n_estimators — число «деревьев» в «случайном лесу».\n",
    "- max_features — число признаков для выбора расщепления (указывается не число а функция используемая моделью для определения такого числа признаков \"на ходу\")\n",
    "- max_depth — максимальная глубина деревьев.\n",
    "- min_samples_split — минимальное число объектов, необходимое для того, чтобы узел дерева мог бы \n",
    "расщепиться.\n",
    "- min_samples_leaf — минимальное число объектов в листьях.</p>\n",
    "\n",
    "Для выполнения подбора по каждому из параметров создадим диапазон значений по которым будет осуществляться подборка"
   ]
  },
  {
   "cell_type": "code",
   "execution_count": 25,
   "metadata": {},
   "outputs": [],
   "source": [
    "n_estimators = [int(x) for x in np.linspace(start = 100, stop = 400, num = 10)]\n",
    "max_features = ['log2', 'sqrt'] \n",
    "max_depth = [int(x) for x in np.linspace(start = 1, stop = 15, num = 15)]\n",
    "min_samples_split = [int(x) for x in np.linspace(start = 2, stop = 20, num = 10)]\n",
    "min_samples_leaf = [int(x) for x in np.linspace(start = 2, stop = 20, num = 10)]\n",
    "bootstrap = [True, False]"
   ]
  },
  {
   "cell_type": "code",
   "execution_count": 26,
   "metadata": {},
   "outputs": [],
   "source": [
    "#собираем созданные параметры в один словарь для передачи функции RandomizedSearchCV\n",
    "param_dist = {'n_estimators': n_estimators,\n",
    "              'max_features': max_features,\n",
    "              'max_depth': max_depth,\n",
    "              'min_samples_split': min_samples_split,\n",
    "              'min_samples_leaf': min_samples_leaf,\n",
    "              'bootstrap': bootstrap}"
   ]
  },
  {
   "cell_type": "code",
   "execution_count": 27,
   "metadata": {},
   "outputs": [],
   "source": [
    "#создаем функцию подбора с нашими параметрами\n",
    "model_forest_tune = RandomForestClassifier(random_state=12345)\n",
    "rs = RandomizedSearchCV(model_forest_tune, param_dist, n_iter = 300, #колиество итераций поиска \n",
    "                        scoring='f1', \n",
    "                        cv = 3, #количество кросс валидаций\n",
    "                        verbose = 1, #характеризует объем выводимой моделью информации\n",
    "                        n_jobs=1, random_state=12345)\n",
    "#При значениях параметров n_iter = 300 и cv = 3, мы создадим 900 RandomForest-моделей, \n",
    "#случайно выбирая комбинации представленных выше гиперпараметров."
   ]
  },
  {
   "cell_type": "markdown",
   "metadata": {},
   "source": [
    "<div class=\"alert alert-danger\" style=\"border-color: #8B0000; border-radius: 5px\">\n",
    "    <p><u><b>❌ КОММЕНТАРИЙ РЕВЬЮЕРА v.1</b></u></p>\n",
    "    <p>По результатам работы RandomizedSearchCV можно также получить лучшее значение метрики, указанной в качестве скоринга например так: scoring='f1'. При таком условии RandomizedSearchCV будет ориентировться именно на эту метрику.</p>\n",
    "</div>"
   ]
  },
  {
   "cell_type": "markdown",
   "metadata": {},
   "source": [
    "<div style=\"background: #B0E0E6; padding: 5px; border: 1px solid SteelBlue; border-radius: 5px;\">\n",
    "    <font color='4682B4'><u><b>КОММЕНТАРИЙ СТУДЕНТА</b></u></font>\n",
    "    <br />\n",
    "    <font color='4682B4'> добавил параметр scoring='f1' </p>\n",
    "      </font>\n",
    "</div>"
   ]
  },
  {
   "cell_type": "code",
   "execution_count": 28,
   "metadata": {
    "scrolled": true
   },
   "outputs": [
    {
     "name": "stdout",
     "output_type": "stream",
     "text": [
      "Fitting 3 folds for each of 300 candidates, totalling 900 fits\n"
     ]
    },
    {
     "data": {
      "text/plain": [
       "{'n_estimators': 266,\n",
       " 'min_samples_split': 6,\n",
       " 'min_samples_leaf': 2,\n",
       " 'max_features': 'sqrt',\n",
       " 'max_depth': 15,\n",
       " 'bootstrap': True}"
      ]
     },
     "execution_count": 28,
     "metadata": {},
     "output_type": "execute_result"
    }
   ],
   "source": [
    "rs.fit(features_train, target_train)\n",
    "rs.best_params_"
   ]
  },
  {
   "cell_type": "code",
   "execution_count": 29,
   "metadata": {
    "scrolled": false
   },
   "outputs": [
    {
     "name": "stdout",
     "output_type": "stream",
     "text": [
      "F1= 0.556547619047619\n",
      "ROC-AUC= 0.8586212595154472\n",
      "Accuracy on train_data (overeducation) 0.967375\n",
      "Accuracy on test_data (overeducation) 0.851\n"
     ]
    }
   ],
   "source": [
    "#проверим метрики на полученных результатах RandomSearch\n",
    "model_forest2 = RandomForestClassifier(random_state=12345,n_estimators = 266,\n",
    "                                       min_samples_split = 6,\n",
    "                                       min_samples_leaf = 2,\n",
    "                                      max_features='sqrt', max_depth=15\n",
    "                                      ,bootstrap=False)\n",
    "model_forest2.fit(features_train, target_train)\n",
    "predictions_2 = model_forest2.predict(features_test)\n",
    "probabilities_2 = model_forest2.predict_proba(features_test)\n",
    "probabilities_one_2 = probabilities_2[:, 1]\n",
    "\n",
    "print('F1=',f1_score(target_test,predictions_2))\n",
    "print('ROC-AUC=',roc_auc_score(target_test,probabilities_one_2))\n",
    "print('Accuracy on train_data (overeducation)',model_forest2.score(features_train,target_train))\n",
    "print('Accuracy on test_data (overeducation)',model_forest2.score(features_test,target_test))"
   ]
  },
  {
   "cell_type": "markdown",
   "metadata": {},
   "source": [
    "На основных рекомендованных по результатам RandomSearch мы имеем по прежнему переобучение и достаточно низкое значение f1-меры. Предлагается снизить значения max_depth в диапазон от 4 до 9 для дальнейшего поиска. такое количество будет соответствовать количеству признаков и предотвратит переобучение. "
   ]
  },
  {
   "cell_type": "code",
   "execution_count": 30,
   "metadata": {
    "scrolled": false
   },
   "outputs": [
    {
     "name": "stdout",
     "output_type": "stream",
     "text": [
      "F1= 0.5672082717872968\n",
      "ROC-AUC= 0.866973562949718\n",
      "Accuracy on train_data (overeducation) 0.87625\n",
      "Accuracy on test_data (overeducation) 0.851\n"
     ]
    }
   ],
   "source": [
    "model_forest2 = RandomForestClassifier(random_state=12345,n_estimators = 366,\n",
    "                                       min_samples_split = 4,\n",
    "                                       min_samples_leaf = 2,\n",
    "                                      max_features='sqrt', max_depth=7\n",
    "                                      ,bootstrap=False)\n",
    "model_forest2.fit(features_train, target_train)\n",
    "predictions_2 = model_forest2.predict(features_test)\n",
    "probabilities_2 = model_forest2.predict_proba(features_test)\n",
    "probabilities_one_2 = probabilities_2[:, 1]\n",
    "\n",
    "print('F1=',f1_score(target_test,predictions_test))\n",
    "print('ROC-AUC=',roc_auc_score(target_test,probabilities_one_2))\n",
    "print('Accuracy on train_data (overeducation)',model_forest2.score(features_train,target_train))\n",
    "print('Accuracy on test_data (overeducation)',model_forest2.score(features_test,target_test))"
   ]
  },
  {
   "cell_type": "markdown",
   "metadata": {},
   "source": [
    "<div class=\"alert alert-warning\" style=\"border-color: orange; border-radius: 5px\">\n",
    "    <p><u><b>⚠️ КОММЕНТАРИЙ РЕВЬЮЕРА v.1</b></u></p>\n",
    "    <p>Не обязательно было проводить тестирование полученной модели. Можно было просто вызвать лучшее значение метрики после RandomizedSearchCV. Пример ниже.</p>\n",
    "</div>"
   ]
  },
  {
   "cell_type": "markdown",
   "metadata": {},
   "source": [
    "<div style=\"background: #B0E0E6; padding: 5px; border: 1px solid SteelBlue; border-radius: 5px;\">\n",
    "    <font color='4682B4'><u><b>КОММЕНТАРИЙ СТУДЕНТА</b></u></font>\n",
    "    <br />\n",
    "    <font color='4682B4'> а переобучение и roc-auc? </p>\n",
    "      </font>\n",
    "</div>"
   ]
  },
  {
   "cell_type": "code",
   "execution_count": 31,
   "metadata": {},
   "outputs": [
    {
     "data": {
      "text/plain": [
       "0.5731319353521812"
      ]
     },
     "execution_count": 31,
     "metadata": {},
     "output_type": "execute_result"
    }
   ],
   "source": [
    "rs.best_score_"
   ]
  },
  {
   "cell_type": "markdown",
   "metadata": {},
   "source": [
    "Предварительная проверка показывает положительные изменения метрик по результатам подбора гиперпараметров. \n",
    "Проанализируем влияние гиперпараметров на показатели модели:"
   ]
  },
  {
   "cell_type": "code",
   "execution_count": 32,
   "metadata": {},
   "outputs": [
    {
     "data": {
      "text/html": [
       "<div>\n",
       "<style scoped>\n",
       "    .dataframe tbody tr th:only-of-type {\n",
       "        vertical-align: middle;\n",
       "    }\n",
       "\n",
       "    .dataframe tbody tr th {\n",
       "        vertical-align: top;\n",
       "    }\n",
       "\n",
       "    .dataframe thead th {\n",
       "        text-align: right;\n",
       "    }\n",
       "</style>\n",
       "<table border=\"1\" class=\"dataframe\">\n",
       "  <thead>\n",
       "    <tr style=\"text-align: right;\">\n",
       "      <th></th>\n",
       "      <th>param_n_estimators</th>\n",
       "      <th>param_min_samples_split</th>\n",
       "      <th>param_min_samples_leaf</th>\n",
       "      <th>param_max_features</th>\n",
       "      <th>param_max_depth</th>\n",
       "      <th>param_bootstrap</th>\n",
       "      <th>mean_test_score</th>\n",
       "      <th>rank_test_score</th>\n",
       "    </tr>\n",
       "  </thead>\n",
       "  <tbody>\n",
       "    <tr>\n",
       "      <th>0</th>\n",
       "      <td>266</td>\n",
       "      <td>6</td>\n",
       "      <td>2</td>\n",
       "      <td>sqrt</td>\n",
       "      <td>15</td>\n",
       "      <td>True</td>\n",
       "      <td>0.573132</td>\n",
       "      <td>1</td>\n",
       "    </tr>\n",
       "    <tr>\n",
       "      <th>1</th>\n",
       "      <td>266</td>\n",
       "      <td>8</td>\n",
       "      <td>2</td>\n",
       "      <td>sqrt</td>\n",
       "      <td>11</td>\n",
       "      <td>False</td>\n",
       "      <td>0.572226</td>\n",
       "      <td>2</td>\n",
       "    </tr>\n",
       "    <tr>\n",
       "      <th>2</th>\n",
       "      <td>366</td>\n",
       "      <td>4</td>\n",
       "      <td>2</td>\n",
       "      <td>sqrt</td>\n",
       "      <td>15</td>\n",
       "      <td>False</td>\n",
       "      <td>0.572152</td>\n",
       "      <td>3</td>\n",
       "    </tr>\n",
       "    <tr>\n",
       "      <th>3</th>\n",
       "      <td>100</td>\n",
       "      <td>10</td>\n",
       "      <td>2</td>\n",
       "      <td>log2</td>\n",
       "      <td>14</td>\n",
       "      <td>False</td>\n",
       "      <td>0.572007</td>\n",
       "      <td>4</td>\n",
       "    </tr>\n",
       "    <tr>\n",
       "      <th>4</th>\n",
       "      <td>233</td>\n",
       "      <td>12</td>\n",
       "      <td>2</td>\n",
       "      <td>sqrt</td>\n",
       "      <td>11</td>\n",
       "      <td>True</td>\n",
       "      <td>0.571631</td>\n",
       "      <td>5</td>\n",
       "    </tr>\n",
       "    <tr>\n",
       "      <th>5</th>\n",
       "      <td>233</td>\n",
       "      <td>10</td>\n",
       "      <td>2</td>\n",
       "      <td>log2</td>\n",
       "      <td>11</td>\n",
       "      <td>False</td>\n",
       "      <td>0.571168</td>\n",
       "      <td>6</td>\n",
       "    </tr>\n",
       "    <tr>\n",
       "      <th>6</th>\n",
       "      <td>200</td>\n",
       "      <td>6</td>\n",
       "      <td>4</td>\n",
       "      <td>sqrt</td>\n",
       "      <td>13</td>\n",
       "      <td>False</td>\n",
       "      <td>0.571153</td>\n",
       "      <td>7</td>\n",
       "    </tr>\n",
       "    <tr>\n",
       "      <th>7</th>\n",
       "      <td>400</td>\n",
       "      <td>6</td>\n",
       "      <td>2</td>\n",
       "      <td>sqrt</td>\n",
       "      <td>14</td>\n",
       "      <td>True</td>\n",
       "      <td>0.570856</td>\n",
       "      <td>8</td>\n",
       "    </tr>\n",
       "    <tr>\n",
       "      <th>8</th>\n",
       "      <td>166</td>\n",
       "      <td>6</td>\n",
       "      <td>8</td>\n",
       "      <td>log2</td>\n",
       "      <td>11</td>\n",
       "      <td>False</td>\n",
       "      <td>0.570148</td>\n",
       "      <td>9</td>\n",
       "    </tr>\n",
       "    <tr>\n",
       "      <th>9</th>\n",
       "      <td>300</td>\n",
       "      <td>18</td>\n",
       "      <td>2</td>\n",
       "      <td>log2</td>\n",
       "      <td>12</td>\n",
       "      <td>False</td>\n",
       "      <td>0.570133</td>\n",
       "      <td>10</td>\n",
       "    </tr>\n",
       "  </tbody>\n",
       "</table>\n",
       "</div>"
      ],
      "text/plain": [
       "  param_n_estimators param_min_samples_split param_min_samples_leaf  \\\n",
       "0                266                       6                      2   \n",
       "1                266                       8                      2   \n",
       "2                366                       4                      2   \n",
       "3                100                      10                      2   \n",
       "4                233                      12                      2   \n",
       "5                233                      10                      2   \n",
       "6                200                       6                      4   \n",
       "7                400                       6                      2   \n",
       "8                166                       6                      8   \n",
       "9                300                      18                      2   \n",
       "\n",
       "  param_max_features param_max_depth param_bootstrap  mean_test_score  \\\n",
       "0               sqrt              15            True         0.573132   \n",
       "1               sqrt              11           False         0.572226   \n",
       "2               sqrt              15           False         0.572152   \n",
       "3               log2              14           False         0.572007   \n",
       "4               sqrt              11            True         0.571631   \n",
       "5               log2              11           False         0.571168   \n",
       "6               sqrt              13           False         0.571153   \n",
       "7               sqrt              14            True         0.570856   \n",
       "8               log2              11           False         0.570148   \n",
       "9               log2              12           False         0.570133   \n",
       "\n",
       "   rank_test_score  \n",
       "0                1  \n",
       "1                2  \n",
       "2                3  \n",
       "3                4  \n",
       "4                5  \n",
       "5                6  \n",
       "6                7  \n",
       "7                8  \n",
       "8                9  \n",
       "9               10  "
      ]
     },
     "execution_count": 32,
     "metadata": {},
     "output_type": "execute_result"
    }
   ],
   "source": [
    "#выгрузим данные по использованным гиперпараметрам\n",
    "search_data = pd.DataFrame(rs.cv_results_).sort_values('rank_test_score').reset_index(drop=True)\n",
    "search_data = search_data.drop([\n",
    "            'mean_fit_time', \n",
    "            'std_fit_time',\n",
    "            'mean_score_time',\n",
    "            'std_score_time', \n",
    "            'params', \n",
    "            'split0_test_score', \n",
    "            'split1_test_score', \n",
    "            'split2_test_score', \n",
    "            'std_test_score'],\n",
    "            axis=1)\n",
    "search_data.head(10)"
   ]
  },
  {
   "cell_type": "code",
   "execution_count": 33,
   "metadata": {
    "scrolled": false
   },
   "outputs": [
    {
     "data": {
      "image/png": "[encoded data removed]",
      "text/plain": [
       "<Figure size 1080x1800 with 6 Axes>"
      ]
     },
     "metadata": {
      "needs_background": "light"
     },
     "output_type": "display_data"
    }
   ],
   "source": [
    "fig, axs = plt.subplots(ncols=2, nrows=3)\n",
    "sns.set(style=\"whitegrid\", color_codes=True, font_scale = 2)\n",
    "fig.set_size_inches(15,25)\n",
    "sns.barplot(x='param_n_estimators', y='mean_test_score', data=search_data, ax=axs[0,0], color='lightgrey')\n",
    "#axs[0,0].set_ylim([.76,.84]) \n",
    "axs[0,0].set_title(label = 'n_estimators', size=30, weight='bold')\n",
    "axs[0,0].set_xticklabels(axs[0,0].get_xticklabels(),rotation = 30)\n",
    "axs[0,0].set_xlabel('')\n",
    "sns.barplot(x='param_min_samples_split', y='mean_test_score', data=search_data, ax=axs[0,1], color='coral')\n",
    "axs[0,1].set_ylim([.3,.6])\n",
    "axs[0,1].set_title(label = 'min_samples_split', size=30, weight='bold')\n",
    "axs[0,1].set_xlabel('')\n",
    "sns.barplot(x='param_min_samples_leaf', y='mean_test_score', data=search_data, ax=axs[1,0], color='lightgreen')\n",
    "axs[1,0].set_ylim([.3,.6])\n",
    "axs[1,0].set_title(label = 'min_samples_leaf', size=30, weight='bold')\n",
    "axs[1,0].set_xlabel('')\n",
    "sns.barplot(x='param_max_features', y='mean_test_score', data=search_data, ax=axs[1,1], color='wheat')\n",
    "#axs[1,1].set_ylim([.76,.84])\n",
    "axs[1,1].set_title(label = 'max_features', size=30, weight='bold')\n",
    "axs[1,1].set_xlabel('')\n",
    "sns.barplot(x='param_max_depth', y='mean_test_score', data=search_data, ax=axs[2,0], color='lightpink')\n",
    "#axs[2,0].set_ylim([.72,.88])\n",
    "axs[2,0].set_title(label = 'max_depth', size=30, weight='bold')\n",
    "axs[2,0].set_xlabel('')\n",
    "sns.barplot(x='param_bootstrap',y='mean_test_score', data=search_data, ax=axs[2,1], color='skyblue')\n",
    "#axs[2,1].set_ylim([.78,.82])\n",
    "axs[2,1].set_title(label = 'bootstrap', size=30, weight='bold')\n",
    "axs[2,1].set_xlabel('')\n",
    "\n",
    "plt.show()"
   ]
  },
  {
   "cell_type": "markdown",
   "metadata": {},
   "source": [
    "<div class=\"alert alert-success\" style=\"border-color: green; border-radius: 5px\">\n",
    "    <p><u><b>✅ КОММЕНТАРИЙ РЕВЬЮЕРА v.1</b></u></p>\n",
    "    <p>О, графики классные молодец!</p>\n",
    "</div>"
   ]
  },
  {
   "cell_type": "markdown",
   "metadata": {},
   "source": [
    "<b>GridSearchCV</b>"
   ]
  },
  {
   "cell_type": "markdown",
   "metadata": {},
   "source": [
    "В точках получивших наивысшие оценки следует провести более детальный поиск средствами GridSearchCV:"
   ]
  },
  {
   "cell_type": "code",
   "execution_count": 34,
   "metadata": {
    "scrolled": false
   },
   "outputs": [
    {
     "name": "stdout",
     "output_type": "stream",
     "text": [
      "Fitting 3 folds for each of 81 candidates, totalling 243 fits\n"
     ]
    },
    {
     "data": {
      "text/plain": [
       "{'bootstrap': True,\n",
       " 'max_depth': 8,\n",
       " 'max_features': 'sqrt',\n",
       " 'min_samples_leaf': 2,\n",
       " 'min_samples_split': 14,\n",
       " 'n_estimators': 366}"
      ]
     },
     "execution_count": 34,
     "metadata": {},
     "output_type": "execute_result"
    }
   ],
   "source": [
    "n_estimators = [133,266,366]\n",
    "max_features = ['sqrt']\n",
    "max_depth = [6,7,8]\n",
    "min_samples_split = [6,8,14]\n",
    "min_samples_leaf = [2,8,16]# 5-возьмем из параметров найденных ранее перебором\n",
    "bootstrap = [True]\n",
    "param_grid = {'n_estimators': n_estimators,\n",
    "               'max_features': max_features,\n",
    "               'max_depth': max_depth,\n",
    "               'min_samples_split': min_samples_split,\n",
    "               'min_samples_leaf': min_samples_leaf,\n",
    "               'bootstrap': bootstrap}\n",
    "gs = GridSearchCV(model_forest_tune, param_grid, cv = 3, verbose = 1, n_jobs=1, scoring='f1')\n",
    "gs.fit(features_train, target_train)\n",
    "model_forest_cv = gs.best_estimator_\n",
    "gs.best_params_"
   ]
  },
  {
   "cell_type": "markdown",
   "metadata": {},
   "source": [
    "<div class=\"alert alert-danger\" style=\"border-color: #8B0000; border-radius: 5px\">\n",
    "    <p><u><b>❌ КОММЕНТАРИЙ РЕВЬЮЕРА v.1</b></u></p>\n",
    "    <p>По результатам работы GridSearchCV можно также получить лучшее значение метрики, указанной в качестве скоринга например так: scoring='f1'. При таком условии GridSearchCV будет ориентировться именно на эту метрику.</p>\n",
    "</div>"
   ]
  },
  {
   "cell_type": "markdown",
   "metadata": {},
   "source": [
    "<div style=\"background: #B0E0E6; padding: 5px; border: 1px solid SteelBlue; border-radius: 5px;\">\n",
    "    <font color='4682B4'><u><b>КОММЕНТАРИЙ СТУДЕНТА</b></u></font>\n",
    "    <br />\n",
    "    <font color='4682B4'> добавил параметр scoring='f1' </p>\n",
    "      </font>\n",
    "</div>"
   ]
  },
  {
   "cell_type": "markdown",
   "metadata": {},
   "source": [
    "<div class=\"alert alert-success\" style=\"border-color: green; border-radius: 5px\">\n",
    "    <p><u><b>✅ КОММЕНТАРИЙ РЕВЬЮЕРА v.2</b></u></p>\n",
    "    <p>Отлично!</p>\n",
    "</div>"
   ]
  },
  {
   "cell_type": "markdown",
   "metadata": {},
   "source": [
    "Проверим метрики модели на гиперпараметрах подобранных методом GridSearchCV"
   ]
  },
  {
   "cell_type": "code",
   "execution_count": 35,
   "metadata": {
    "scrolled": false
   },
   "outputs": [
    {
     "name": "stdout",
     "output_type": "stream",
     "text": [
      "F1= 0.5377358490566038\n",
      "ROC-AUC= 0.870109026591888\n",
      "Accuracy on train_data (overeducation) 0.881125\n",
      "Accuracy on valid_data (overeducation) 0.853\n"
     ]
    }
   ],
   "source": [
    "model_forest3 = RandomForestClassifier(random_state=12345,n_estimators = 366,\n",
    "                                       min_samples_split = 14,\n",
    "                                       min_samples_leaf = 2,\n",
    "                                      max_features='sqrt', max_depth=8\n",
    "                                      ,bootstrap=False)\n",
    "model_forest3.fit(features_train, target_train)\n",
    "predictions_3 = model_forest3.predict(features_test)\n",
    "probabilities_3 = model_forest3.predict_proba(features_test)\n",
    "probabilities_one_3 = probabilities_3[:, 1]\n",
    "\n",
    "print('F1=',f1_score(target_test,predictions_3))\n",
    "print('ROC-AUC=',roc_auc_score(target_test,probabilities_one_3))\n",
    "print('Accuracy on train_data (overeducation)',model_forest3.score(features_train,target_train))\n",
    "print('Accuracy on valid_data (overeducation)',model_forest3.score(features_test,target_test))"
   ]
  },
  {
   "cell_type": "markdown",
   "metadata": {},
   "source": [
    "<b>Вывод по подбору гиперпараметров</b> по результатам подбора гиперпараметров достигнуто: </p> значение f1-меры - 0.537 при значении ROC-AUC - 0.870 и отсутствии признаков переобучения - accuracy на тренировочной выборке - 0.088</p>\n",
    "При этом ранее значения были достигнуты f1-0.567, ROC-AUC - 0.867 и accuracy на тренировочной выборке - 1.0</p>\n",
    "таким образом подбор гиперпараметров не позволил достичь установленного значения метрик. Возможно требуется устранение дисбалланса."
   ]
  },
  {
   "cell_type": "markdown",
   "metadata": {},
   "source": [
    "<div class=\"alert alert-success\" style=\"border-color: green; border-radius: 5px\">\n",
    "    <p><u><b>✅ КОММЕНТАРИЙ РЕВЬЮЕРА v.1</b></u></p>\n",
    "    <p>В целом эксперименты очень крутые молодец.</p>\n",
    "</div>"
   ]
  },
  {
   "cell_type": "markdown",
   "metadata": {},
   "source": [
    "## Борьба с дисбалансом"
   ]
  },
  {
   "cell_type": "markdown",
   "metadata": {},
   "source": [
    "Предварительный анализ показал дисбаланс классов связанный с несоответствием в представленных данных доли клиентов прекративших и продолжающих обслуживание (20% и 80% соответственно). Ввиду относительно небольшой выборки, предлагается не использовать DownSampling, ограничиться UpSampling и увеличить количество объектов по уходящим клиентам. Также проверить эффективность для данных задания применения весовы коэффициентов и изменения порога."
   ]
  },
  {
   "cell_type": "markdown",
   "metadata": {},
   "source": [
    "<b>Применение весовых коэффициентов</b>"
   ]
  },
  {
   "cell_type": "code",
   "execution_count": 36,
   "metadata": {},
   "outputs": [
    {
     "name": "stdout",
     "output_type": "stream",
     "text": [
      "F1= 0.5020990764063813\n",
      "ROC-AUC= 0.7635747263169022\n"
     ]
    }
   ],
   "source": [
    "model_regre = LogisticRegression(random_state=12345,solver='liblinear',class_weight='balanced')\n",
    "model_regre.fit(features_train, target_train)\n",
    "predictions = model_regre.predict(features_test)\n",
    "\n",
    "probabilities = model_regre.predict_proba(features_test)\n",
    "probabilities_one = probabilities[:, 1]\n",
    "print('F1=',f1_score(target_test,predictions))\n",
    "print('ROC-AUC=',roc_auc_score(target_test,probabilities_one))"
   ]
  },
  {
   "cell_type": "code",
   "execution_count": 37,
   "metadata": {
    "scrolled": false
   },
   "outputs": [
    {
     "name": "stdout",
     "output_type": "stream",
     "text": [
      "F1= 0.5029940119760478\n",
      "ROC-AUC= 0.6829645764071994\n",
      "Accuracy 1.0\n"
     ]
    }
   ],
   "source": [
    "model_tree = DecisionTreeClassifier(random_state=12345, class_weight='balanced')\n",
    "model_tree.fit(features_train,target_train)\n",
    "predictions = model_tree.predict(features_test)\n",
    "\n",
    "probabilities = model_tree.predict_proba(features_test)\n",
    "probabilities_one = probabilities[:, 1]\n",
    "print('F1=',f1_score(target_test,predictions))\n",
    "print('ROC-AUC=',roc_auc_score(target_test,probabilities_one))\n",
    "print('Accuracy',model_tree.score(features_train,target_train))"
   ]
  },
  {
   "cell_type": "code",
   "execution_count": 38,
   "metadata": {},
   "outputs": [
    {
     "name": "stdout",
     "output_type": "stream",
     "text": [
      "F1= 0.6289682539682541\n",
      "ROC-AUC= 0.8686589118779879\n",
      "Accuracy on train_data (overeducation) 0.8415\n"
     ]
    }
   ],
   "source": [
    "#проверим работу случайного леса с автоматической подстройкой под дисбаланс class_weight=\"balanced\"\n",
    "model_forest = RandomForestClassifier(random_state=12345,n_estimators = 366,\n",
    "                                       min_samples_split = 14,\n",
    "                                       min_samples_leaf = 2,\n",
    "                                      max_features='sqrt', max_depth=8\n",
    "                                      ,bootstrap=False, class_weight='balanced')\n",
    "model_forest.fit(features_train,target_train)\n",
    "predictions = model_forest.predict(features_test)\n",
    "\n",
    "probabilities = model_forest.predict_proba(features_test)\n",
    "probabilities_one = probabilities[:, 1]\n",
    "\n",
    "print('F1=',f1_score(target_test,predictions))\n",
    "print('ROC-AUC=',roc_auc_score(target_test,probabilities_one))\n",
    "print('Accuracy on train_data (overeducation)',model_forest.score(features_train,target_train))"
   ]
  },
  {
   "cell_type": "markdown",
   "metadata": {},
   "source": [
    "Применение весовых коэффициентов не дало необходимого улучшения на модели Линейная регрессия, ухудшила (незначительно) показатели Дерева решений, и позволила выйти на необходимый уровень (f1>0.59) по модели Случайного леса достигнув f1=0,629 "
   ]
  },
  {
   "cell_type": "markdown",
   "metadata": {},
   "source": [
    "<b>Изменение порога</b>"
   ]
  },
  {
   "cell_type": "markdown",
   "metadata": {},
   "source": [
    "<div class=\"alert alert-danger\" style=\"border-color: #8B0000; border-radius: 5px\">\n",
    "    <p><u><b>❌ КОММЕНТАРИЙ РЕВЬЮЕРА v.1</b></u></p>\n",
    "    <p>Здесь тоже стоит подобрать гиперпараметры моделей. Так эксперимент будет выполнен качественно. А вот ислледование по изменению порога я бы не стал использовать.</p>\n",
    "</div>"
   ]
  },
  {
   "cell_type": "markdown",
   "metadata": {},
   "source": [
    "<div style=\"background: #B0E0E6; padding: 5px; border: 1px solid SteelBlue; border-radius: 5px;\">\n",
    "    <font color='4682B4'><u><b>КОММЕНТАРИЙ СТУДЕНТА</b></u></font>\n",
    "    <br />\n",
    "    <font color='4682B4'> убрал исследование изменения порога </p>\n",
    "      </font>\n",
    "</div>"
   ]
  },
  {
   "cell_type": "markdown",
   "metadata": {},
   "source": [
    "<div class=\"alert alert-success\" style=\"border-color: green; border-radius: 5px\">\n",
    "    <p><u><b>✅ КОММЕНТАРИЙ РЕВЬЮЕРА v.1</b></u></p>\n",
    "    <p>Да, они немного перегружали исследование))</p>\n",
    "</div>"
   ]
  },
  {
   "cell_type": "markdown",
   "metadata": {},
   "source": [
    "<b>Апсемплинг</b>"
   ]
  },
  {
   "cell_type": "code",
   "execution_count": 39,
   "metadata": {},
   "outputs": [],
   "source": [
    "#создаем функцию сэмплирования\n",
    "def upsample(features, targets, ratio):\n",
    "    features_zero = features[targets==0]\n",
    "    features_ones = features[targets==1]\n",
    "    target_zero = targets[targets==0]\n",
    "    target_ones = targets[targets==1]\n",
    "    features_multiple = pd.concat([features_zero]+[features_ones]*ratio)\n",
    "    target_multiple = pd.concat([target_zero]+[target_ones]*ratio)\n",
    "    #перемешиваем полученный массив значений\n",
    "    features_multiple, target_multiple = shuffle(\n",
    "        features_multiple, target_multiple, random_state=12345)\n",
    "    return features_multiple, target_multiple"
   ]
  },
  {
   "cell_type": "code",
   "execution_count": 40,
   "metadata": {},
   "outputs": [
    {
     "name": "stdout",
     "output_type": "stream",
     "text": [
      "Доля объектов - клиентов прекративших обслуживание в сформированной учебной выборке 0.5019485580670304\n"
     ]
    },
    {
     "data": {
      "text/html": [
       "<div>\n",
       "<style scoped>\n",
       "    .dataframe tbody tr th:only-of-type {\n",
       "        vertical-align: middle;\n",
       "    }\n",
       "\n",
       "    .dataframe tbody tr th {\n",
       "        vertical-align: top;\n",
       "    }\n",
       "\n",
       "    .dataframe thead th {\n",
       "        text-align: right;\n",
       "    }\n",
       "</style>\n",
       "<table border=\"1\" class=\"dataframe\">\n",
       "  <thead>\n",
       "    <tr style=\"text-align: right;\">\n",
       "      <th></th>\n",
       "      <th>credit_score</th>\n",
       "      <th>age</th>\n",
       "      <th>tenure</th>\n",
       "      <th>balance</th>\n",
       "      <th>num_of_products</th>\n",
       "      <th>has_cr_card</th>\n",
       "      <th>is_active_member</th>\n",
       "      <th>estimated_salary</th>\n",
       "      <th>geography_Germany</th>\n",
       "      <th>geography_Spain</th>\n",
       "      <th>gender_Male</th>\n",
       "    </tr>\n",
       "  </thead>\n",
       "  <tbody>\n",
       "    <tr>\n",
       "      <th>3683</th>\n",
       "      <td>-0.772591</td>\n",
       "      <td>1.247608</td>\n",
       "      <td>1.447547</td>\n",
       "      <td>1.505952</td>\n",
       "      <td>0.811234</td>\n",
       "      <td>0</td>\n",
       "      <td>0</td>\n",
       "      <td>0.836331</td>\n",
       "      <td>0</td>\n",
       "      <td>0</td>\n",
       "      <td>0</td>\n",
       "    </tr>\n",
       "    <tr>\n",
       "      <th>21</th>\n",
       "      <td>-0.152753</td>\n",
       "      <td>-0.654125</td>\n",
       "      <td>1.084549</td>\n",
       "      <td>-1.220083</td>\n",
       "      <td>0.811234</td>\n",
       "      <td>1</td>\n",
       "      <td>0</td>\n",
       "      <td>0.664211</td>\n",
       "      <td>0</td>\n",
       "      <td>1</td>\n",
       "      <td>0</td>\n",
       "    </tr>\n",
       "    <tr>\n",
       "      <th>1111</th>\n",
       "      <td>1.882383</td>\n",
       "      <td>1.913215</td>\n",
       "      <td>-1.456441</td>\n",
       "      <td>0.875418</td>\n",
       "      <td>-0.899779</td>\n",
       "      <td>1</td>\n",
       "      <td>1</td>\n",
       "      <td>-1.206378</td>\n",
       "      <td>1</td>\n",
       "      <td>0</td>\n",
       "      <td>1</td>\n",
       "    </tr>\n",
       "    <tr>\n",
       "      <th>6314</th>\n",
       "      <td>1.996020</td>\n",
       "      <td>0.201655</td>\n",
       "      <td>1.810546</td>\n",
       "      <td>0.002098</td>\n",
       "      <td>-0.899779</td>\n",
       "      <td>1</td>\n",
       "      <td>1</td>\n",
       "      <td>0.709655</td>\n",
       "      <td>0</td>\n",
       "      <td>0</td>\n",
       "      <td>0</td>\n",
       "    </tr>\n",
       "    <tr>\n",
       "      <th>404</th>\n",
       "      <td>0.353449</td>\n",
       "      <td>-1.509905</td>\n",
       "      <td>1.084549</td>\n",
       "      <td>-1.220083</td>\n",
       "      <td>0.811234</td>\n",
       "      <td>1</td>\n",
       "      <td>1</td>\n",
       "      <td>0.207697</td>\n",
       "      <td>0</td>\n",
       "      <td>0</td>\n",
       "      <td>1</td>\n",
       "    </tr>\n",
       "  </tbody>\n",
       "</table>\n",
       "</div>"
      ],
      "text/plain": [
       "      credit_score       age    tenure   balance  num_of_products  \\\n",
       "3683     -0.772591  1.247608  1.447547  1.505952         0.811234   \n",
       "21       -0.152753 -0.654125  1.084549 -1.220083         0.811234   \n",
       "1111      1.882383  1.913215 -1.456441  0.875418        -0.899779   \n",
       "6314      1.996020  0.201655  1.810546  0.002098        -0.899779   \n",
       "404       0.353449 -1.509905  1.084549 -1.220083         0.811234   \n",
       "\n",
       "      has_cr_card  is_active_member  estimated_salary  geography_Germany  \\\n",
       "3683            0                 0          0.836331                  0   \n",
       "21              1                 0          0.664211                  0   \n",
       "1111            1                 1         -1.206378                  1   \n",
       "6314            1                 1          0.709655                  0   \n",
       "404             1                 1          0.207697                  0   \n",
       "\n",
       "      geography_Spain  gender_Male  \n",
       "3683                0            0  \n",
       "21                  1            0  \n",
       "1111                0            1  \n",
       "6314                0            0  \n",
       "404                 0            1  "
      ]
     },
     "metadata": {},
     "output_type": "display_data"
    },
    {
     "data": {
      "text/plain": [
       "3683    1\n",
       "21      0\n",
       "1111    1\n",
       "6314    1\n",
       "404     0\n",
       "       ..\n",
       "5686    1\n",
       "4526    0\n",
       "229     0\n",
       "3744    1\n",
       "4682    0\n",
       "Name: exited, Length: 12830, dtype: int64"
      ]
     },
     "execution_count": 40,
     "metadata": {},
     "output_type": "execute_result"
    }
   ],
   "source": [
    "#зададим коэффициент апсэмплинга\n",
    "ratio_upsample = 4\n",
    "features_train_up, target_train_up = upsample(features_train,target_train, ratio_upsample)\n",
    "print('Доля объектов - клиентов прекративших обслуживание в сформированной учебной выборке',target_train_up.mean())\n",
    "display(features_train_up.head())\n",
    "target_train_up"
   ]
  },
  {
   "cell_type": "markdown",
   "metadata": {},
   "source": [
    "<div class=\"alert alert-success\" style=\"border-color: green; border-radius: 5px\">\n",
    "    <p><u><b>✅ КОММЕНТАРИЙ РЕВЬЮЕРА v.1</b></u></p>\n",
    "    <p>Функция есть! Коэффициент repeat подобран верно, молодец.</p>\n",
    "    <p>Хорошо, что  проверяешь результат работы функции.</p>\n",
    "</div>"
   ]
  },
  {
   "cell_type": "code",
   "execution_count": 41,
   "metadata": {},
   "outputs": [],
   "source": [
    "#проведем upsample для валидационной выборки\n",
    "#features_valid_up, target_valid_up = upsample(features_valid,target_valid, ratio_upsample)\n"
   ]
  },
  {
   "cell_type": "markdown",
   "metadata": {},
   "source": [
    "<div class=\"alert alert-danger\" style=\"border-color: #8B0000; border-radius: 5px\">\n",
    "    <p><u><b>❌ КОММЕНТАРИЙ РЕВЬЮЕРА v.1</b></u></p>\n",
    "    <p>А вот валидационную выборку увеличивать смысла нет.</p>\n",
    "    <p>Тем более, что ее можно не выделять при использовании RandomizedSearchCV.</p>\n",
    "</div>"
   ]
  },
  {
   "cell_type": "markdown",
   "metadata": {},
   "source": [
    "<div style=\"background: #B0E0E6; padding: 5px; border: 1px solid SteelBlue; border-radius: 5px;\">\n",
    "    <font color='4682B4'><u><b>КОММЕНТАРИЙ СТУДЕНТА</b></u></font>\n",
    "    <br />\n",
    "    <font color='4682B4'> убрал валидационную выборку из проекта </p>\n",
    "      </font>\n",
    "</div>"
   ]
  },
  {
   "cell_type": "markdown",
   "metadata": {},
   "source": [
    "<div class=\"alert alert-success\" style=\"border-color: green; border-radius: 5px\">\n",
    "    <p><u><b>✅ КОММЕНТАРИЙ РЕВЬЮЕРА v.2</b></u></p>\n",
    "    <p>Cool!</p>\n",
    "</div>"
   ]
  },
  {
   "cell_type": "markdown",
   "metadata": {},
   "source": [
    "<b>Вывод по работе с дисбалансом</b> \n",
    "По результатам мультипликации достигнуто соотношение в выборке клиентов прекративших обслуживание и клиентов продолжающих обслуживание как 49/51."
   ]
  },
  {
   "cell_type": "markdown",
   "metadata": {},
   "source": [
    "<div class=\"alert alert-danger\" style=\"border-color: #8B0000; border-radius: 5px\">\n",
    "    <p><u><b>❌ КОММЕНТАРИЙ РЕВЬЮЕРА v.2</b></u></p>\n",
    "    <p>Так, подожди. Выборку мы увеличили.</p>\n",
    "    <p>Теперь нужно заново подобрать гиперпараметры)) Исправь пожалуйста.</p>\n",
    "</div>"
   ]
  },
  {
   "cell_type": "markdown",
   "metadata": {},
   "source": [
    "<div style=\"background: #B0E0E6; padding: 5px; border: 1px solid SteelBlue; border-radius: 5px;\">\n",
    "    <font color='4682B4'><u><b>КОММЕНТАРИЙ СТУДЕНТА</b></u></font>\n",
    "    <br />\n",
    "    <font color='4682B4'> подбор гиперпараметров фактически скопировал сюда, но только без старых комментариев, т.к. вроде все устранено там было </p>\n",
    "      </font>\n",
    "</div>"
   ]
  },
  {
   "cell_type": "markdown",
   "metadata": {},
   "source": [
    "### Подбор гиперпараметров на выборке с устраненным дисбалансом"
   ]
  },
  {
   "cell_type": "code",
   "execution_count": 42,
   "metadata": {},
   "outputs": [],
   "source": [
    "n_estimators = [int(x) for x in np.linspace(start = 100, stop = 400, num = 10)]\n",
    "max_features = ['log2', 'sqrt'] \n",
    "max_depth = [int(x) for x in np.linspace(start = 1, stop = 15, num = 15)]\n",
    "min_samples_split = [int(x) for x in np.linspace(start = 2, stop = 20, num = 10)]\n",
    "min_samples_leaf = [int(x) for x in np.linspace(start = 2, stop = 20, num = 10)]\n",
    "bootstrap = [True, False]"
   ]
  },
  {
   "cell_type": "code",
   "execution_count": 43,
   "metadata": {},
   "outputs": [],
   "source": [
    "#собираем созданные параметры в один словарь для передачи функции RandomizedSearchCV\n",
    "param_dist = {'n_estimators': n_estimators,\n",
    "              'max_features': max_features,\n",
    "              'max_depth': max_depth,\n",
    "              'min_samples_split': min_samples_split,\n",
    "              'min_samples_leaf': min_samples_leaf,\n",
    "              'bootstrap': bootstrap}"
   ]
  },
  {
   "cell_type": "code",
   "execution_count": 44,
   "metadata": {},
   "outputs": [],
   "source": [
    "#создаем функцию подбора с нашими параметрами\n",
    "model_forest_tune = RandomForestClassifier(random_state=12345)\n",
    "rs = RandomizedSearchCV(model_forest_tune, param_dist, n_iter = 300, #колиество итераций поиска \n",
    "                        scoring='f1', \n",
    "                        cv = 3, #количество кросс валидаций\n",
    "                        verbose = 1, #характеризует объем выводимой моделью информации\n",
    "                        n_jobs=1, random_state=12345)\n",
    "#При значениях параметров n_iter = 300 и cv = 3, мы создадим 900 RandomForest-моделей, \n",
    "#случайно выбирая комбинации представленных выше гиперпараметров."
   ]
  },
  {
   "cell_type": "code",
   "execution_count": 45,
   "metadata": {
    "scrolled": true
   },
   "outputs": [
    {
     "name": "stdout",
     "output_type": "stream",
     "text": [
      "Fitting 3 folds for each of 300 candidates, totalling 900 fits\n"
     ]
    },
    {
     "data": {
      "text/plain": [
       "{'n_estimators': 366,\n",
       " 'min_samples_split': 4,\n",
       " 'min_samples_leaf': 2,\n",
       " 'max_features': 'sqrt',\n",
       " 'max_depth': 15,\n",
       " 'bootstrap': False}"
      ]
     },
     "execution_count": 45,
     "metadata": {},
     "output_type": "execute_result"
    }
   ],
   "source": [
    "rs.fit(features_train_up, target_train_up)\n",
    "rs.best_params_"
   ]
  },
  {
   "cell_type": "code",
   "execution_count": 46,
   "metadata": {
    "scrolled": false
   },
   "outputs": [
    {
     "name": "stdout",
     "output_type": "stream",
     "text": [
      "F1= 0.608695652173913\n",
      "ROC-AUC= 0.8559383984123178\n",
      "Accuracy on train_data (overeducation) 0.9951675759937646\n",
      "Accuracy on test_data (overeducation) 0.847\n"
     ]
    }
   ],
   "source": [
    "#проверим метрики на полученных результатах RandomSearch\n",
    "model_forest2 = RandomForestClassifier(random_state=12345,n_estimators = 366,\n",
    "                                       min_samples_split = 4,\n",
    "                                       min_samples_leaf = 2,\n",
    "                                      max_features='sqrt', max_depth=15\n",
    "                                      ,bootstrap=False)\n",
    "model_forest2.fit(features_train_up, target_train_up)\n",
    "predictions_2 = model_forest2.predict(features_test)\n",
    "probabilities_2 = model_forest2.predict_proba(features_test)\n",
    "probabilities_one_2 = probabilities_2[:, 1]\n",
    "\n",
    "print('F1=',f1_score(target_test,predictions_2))\n",
    "print('ROC-AUC=',roc_auc_score(target_test,probabilities_one_2))\n",
    "print('Accuracy on train_data (overeducation)',model_forest2.score(features_train_up,target_train_up))\n",
    "print('Accuracy on test_data (overeducation)',model_forest2.score(features_test,target_test))"
   ]
  },
  {
   "cell_type": "markdown",
   "metadata": {},
   "source": [
    "На основных рекомендованных по результатам RandomSearch мы имеем достаточное значение f1-меры (0.6086>0.59) но высокое значение accuracy на учебной выборке (0,995) свидетельствуещеее о переобучени. Предлагается снизить значения max_depth в диапазон от 4 до 9 для дальнейшего поиска. такое количество будет соответствовать количеству признаков и предотвратит переобучение. "
   ]
  },
  {
   "cell_type": "code",
   "execution_count": 47,
   "metadata": {
    "scrolled": false
   },
   "outputs": [
    {
     "name": "stdout",
     "output_type": "stream",
     "text": [
      "F1= 0.5672082717872968\n",
      "ROC-AUC= 0.8656053335636047\n",
      "Accuracy on train_data (overeducation) 0.8854247856586126\n",
      "Accuracy on test_data (overeducation) 0.831\n"
     ]
    }
   ],
   "source": [
    "model_forest2 = RandomForestClassifier(random_state=12345,n_estimators = 366,\n",
    "                                       min_samples_split = 4,\n",
    "                                       min_samples_leaf = 2,\n",
    "                                      max_features='sqrt', max_depth=10\n",
    "                                      ,bootstrap=False)\n",
    "model_forest2.fit(features_train_up, target_train_up)\n",
    "predictions_2 = model_forest2.predict(features_test)\n",
    "probabilities_2 = model_forest2.predict_proba(features_test)\n",
    "probabilities_one_2 = probabilities_2[:, 1]\n",
    "\n",
    "print('F1=',f1_score(target_test,predictions_test))\n",
    "print('ROC-AUC=',roc_auc_score(target_test,probabilities_one_2))\n",
    "print('Accuracy on train_data (overeducation)',model_forest2.score(features_train_up,target_train_up))\n",
    "print('Accuracy on test_data (overeducation)',model_forest2.score(features_test,target_test))"
   ]
  },
  {
   "cell_type": "markdown",
   "metadata": {},
   "source": [
    "Предварительная проверка показывает положительные изменения метрик по результатам подбора гиперпараметров:</p>\n",
    "f1-мера = 0.567 против 0,537 до устранения дисбаланса.\n",
    "Проанализируем влияние гиперпараметров на показатели модели:"
   ]
  },
  {
   "cell_type": "code",
   "execution_count": 48,
   "metadata": {},
   "outputs": [
    {
     "data": {
      "text/html": [
       "<div>\n",
       "<style scoped>\n",
       "    .dataframe tbody tr th:only-of-type {\n",
       "        vertical-align: middle;\n",
       "    }\n",
       "\n",
       "    .dataframe tbody tr th {\n",
       "        vertical-align: top;\n",
       "    }\n",
       "\n",
       "    .dataframe thead th {\n",
       "        text-align: right;\n",
       "    }\n",
       "</style>\n",
       "<table border=\"1\" class=\"dataframe\">\n",
       "  <thead>\n",
       "    <tr style=\"text-align: right;\">\n",
       "      <th></th>\n",
       "      <th>param_n_estimators</th>\n",
       "      <th>param_min_samples_split</th>\n",
       "      <th>param_min_samples_leaf</th>\n",
       "      <th>param_max_features</th>\n",
       "      <th>param_max_depth</th>\n",
       "      <th>param_bootstrap</th>\n",
       "      <th>mean_test_score</th>\n",
       "      <th>rank_test_score</th>\n",
       "    </tr>\n",
       "  </thead>\n",
       "  <tbody>\n",
       "    <tr>\n",
       "      <th>0</th>\n",
       "      <td>366</td>\n",
       "      <td>4</td>\n",
       "      <td>2</td>\n",
       "      <td>sqrt</td>\n",
       "      <td>15</td>\n",
       "      <td>False</td>\n",
       "      <td>0.937893</td>\n",
       "      <td>1</td>\n",
       "    </tr>\n",
       "    <tr>\n",
       "      <th>1</th>\n",
       "      <td>266</td>\n",
       "      <td>2</td>\n",
       "      <td>2</td>\n",
       "      <td>log2</td>\n",
       "      <td>15</td>\n",
       "      <td>True</td>\n",
       "      <td>0.919800</td>\n",
       "      <td>2</td>\n",
       "    </tr>\n",
       "    <tr>\n",
       "      <th>2</th>\n",
       "      <td>300</td>\n",
       "      <td>4</td>\n",
       "      <td>2</td>\n",
       "      <td>sqrt</td>\n",
       "      <td>15</td>\n",
       "      <td>True</td>\n",
       "      <td>0.919457</td>\n",
       "      <td>3</td>\n",
       "    </tr>\n",
       "    <tr>\n",
       "      <th>3</th>\n",
       "      <td>100</td>\n",
       "      <td>10</td>\n",
       "      <td>2</td>\n",
       "      <td>log2</td>\n",
       "      <td>14</td>\n",
       "      <td>False</td>\n",
       "      <td>0.916086</td>\n",
       "      <td>4</td>\n",
       "    </tr>\n",
       "    <tr>\n",
       "      <th>4</th>\n",
       "      <td>266</td>\n",
       "      <td>6</td>\n",
       "      <td>2</td>\n",
       "      <td>sqrt</td>\n",
       "      <td>15</td>\n",
       "      <td>True</td>\n",
       "      <td>0.914742</td>\n",
       "      <td>5</td>\n",
       "    </tr>\n",
       "    <tr>\n",
       "      <th>5</th>\n",
       "      <td>133</td>\n",
       "      <td>12</td>\n",
       "      <td>4</td>\n",
       "      <td>sqrt</td>\n",
       "      <td>15</td>\n",
       "      <td>False</td>\n",
       "      <td>0.905835</td>\n",
       "      <td>6</td>\n",
       "    </tr>\n",
       "    <tr>\n",
       "      <th>6</th>\n",
       "      <td>400</td>\n",
       "      <td>6</td>\n",
       "      <td>2</td>\n",
       "      <td>sqrt</td>\n",
       "      <td>14</td>\n",
       "      <td>True</td>\n",
       "      <td>0.904549</td>\n",
       "      <td>7</td>\n",
       "    </tr>\n",
       "    <tr>\n",
       "      <th>7</th>\n",
       "      <td>200</td>\n",
       "      <td>6</td>\n",
       "      <td>4</td>\n",
       "      <td>sqrt</td>\n",
       "      <td>13</td>\n",
       "      <td>False</td>\n",
       "      <td>0.896921</td>\n",
       "      <td>8</td>\n",
       "    </tr>\n",
       "    <tr>\n",
       "      <th>8</th>\n",
       "      <td>300</td>\n",
       "      <td>6</td>\n",
       "      <td>6</td>\n",
       "      <td>log2</td>\n",
       "      <td>15</td>\n",
       "      <td>False</td>\n",
       "      <td>0.894974</td>\n",
       "      <td>9</td>\n",
       "    </tr>\n",
       "    <tr>\n",
       "      <th>9</th>\n",
       "      <td>133</td>\n",
       "      <td>4</td>\n",
       "      <td>6</td>\n",
       "      <td>sqrt</td>\n",
       "      <td>15</td>\n",
       "      <td>False</td>\n",
       "      <td>0.894309</td>\n",
       "      <td>10</td>\n",
       "    </tr>\n",
       "  </tbody>\n",
       "</table>\n",
       "</div>"
      ],
      "text/plain": [
       "  param_n_estimators param_min_samples_split param_min_samples_leaf  \\\n",
       "0                366                       4                      2   \n",
       "1                266                       2                      2   \n",
       "2                300                       4                      2   \n",
       "3                100                      10                      2   \n",
       "4                266                       6                      2   \n",
       "5                133                      12                      4   \n",
       "6                400                       6                      2   \n",
       "7                200                       6                      4   \n",
       "8                300                       6                      6   \n",
       "9                133                       4                      6   \n",
       "\n",
       "  param_max_features param_max_depth param_bootstrap  mean_test_score  \\\n",
       "0               sqrt              15           False         0.937893   \n",
       "1               log2              15            True         0.919800   \n",
       "2               sqrt              15            True         0.919457   \n",
       "3               log2              14           False         0.916086   \n",
       "4               sqrt              15            True         0.914742   \n",
       "5               sqrt              15           False         0.905835   \n",
       "6               sqrt              14            True         0.904549   \n",
       "7               sqrt              13           False         0.896921   \n",
       "8               log2              15           False         0.894974   \n",
       "9               sqrt              15           False         0.894309   \n",
       "\n",
       "   rank_test_score  \n",
       "0                1  \n",
       "1                2  \n",
       "2                3  \n",
       "3                4  \n",
       "4                5  \n",
       "5                6  \n",
       "6                7  \n",
       "7                8  \n",
       "8                9  \n",
       "9               10  "
      ]
     },
     "execution_count": 48,
     "metadata": {},
     "output_type": "execute_result"
    }
   ],
   "source": [
    "#выгрузим данные по использованным гиперпараметрам\n",
    "search_data = pd.DataFrame(rs.cv_results_).sort_values('rank_test_score').reset_index(drop=True)\n",
    "search_data = search_data.drop([\n",
    "            'mean_fit_time', \n",
    "            'std_fit_time',\n",
    "            'mean_score_time',\n",
    "            'std_score_time', \n",
    "            'params', \n",
    "            'split0_test_score', \n",
    "            'split1_test_score', \n",
    "            'split2_test_score', \n",
    "            'std_test_score'],\n",
    "            axis=1)\n",
    "search_data.head(10)"
   ]
  },
  {
   "cell_type": "code",
   "execution_count": 49,
   "metadata": {
    "scrolled": false
   },
   "outputs": [
    {
     "data": {
      "image/png": "[encoded data removed]",
      "text/plain": [
       "<Figure size 1080x1800 with 6 Axes>"
      ]
     },
     "metadata": {},
     "output_type": "display_data"
    }
   ],
   "source": [
    "fig, axs = plt.subplots(ncols=2, nrows=3)\n",
    "sns.set(style=\"whitegrid\", color_codes=True, font_scale = 2)\n",
    "fig.set_size_inches(15,25)\n",
    "sns.barplot(x='param_n_estimators', y='mean_test_score', data=search_data, ax=axs[0,0], color='lightgrey')\n",
    "axs[0,0].set_ylim([.76,.84]) \n",
    "axs[0,0].set_title(label = 'n_estimators', size=30, weight='bold')\n",
    "axs[0,0].set_xticklabels(axs[0,0].get_xticklabels(),rotation = 30)\n",
    "axs[0,0].set_xlabel('')\n",
    "sns.barplot(x='param_min_samples_split', y='mean_test_score', data=search_data, ax=axs[0,1], color='coral')\n",
    "axs[0,1].set_ylim([.73,.86])\n",
    "axs[0,1].set_title(label = 'min_samples_split', size=30, weight='bold')\n",
    "axs[0,1].set_xlabel('')\n",
    "sns.barplot(x='param_min_samples_leaf', y='mean_test_score', data=search_data, ax=axs[1,0], color='lightgreen')\n",
    "axs[1,0].set_ylim([.73,.86])\n",
    "axs[1,0].set_title(label = 'min_samples_leaf', size=30, weight='bold')\n",
    "axs[1,0].set_xlabel('')\n",
    "sns.barplot(x='param_max_features', y='mean_test_score', data=search_data, ax=axs[1,1], color='wheat')\n",
    "axs[1,1].set_ylim([.7,.9])\n",
    "axs[1,1].set_title(label = 'max_features', size=30, weight='bold')\n",
    "axs[1,1].set_xlabel('')\n",
    "sns.barplot(x='param_max_depth', y='mean_test_score', data=search_data, ax=axs[2,0], color='lightpink')\n",
    "axs[2,0].set_ylim([.72,.88])\n",
    "axs[2,0].set_title(label = 'max_depth', size=30, weight='bold')\n",
    "axs[2,0].set_xlabel('')\n",
    "sns.barplot(x='param_bootstrap',y='mean_test_score', data=search_data, ax=axs[2,1], color='skyblue')\n",
    "axs[2,1].set_ylim([.79,.8])\n",
    "axs[2,1].set_title(label = 'bootstrap', size=30, weight='bold')\n",
    "axs[2,1].set_xlabel('')\n",
    "\n",
    "plt.show()"
   ]
  },
  {
   "cell_type": "markdown",
   "metadata": {},
   "source": [
    "<b>GridSearchCV</b>"
   ]
  },
  {
   "cell_type": "markdown",
   "metadata": {},
   "source": [
    "В точках получивших наивысшие оценки следует провести более детальный поиск средствами GridSearchCV:"
   ]
  },
  {
   "cell_type": "code",
   "execution_count": 50,
   "metadata": {
    "scrolled": false
   },
   "outputs": [
    {
     "name": "stdout",
     "output_type": "stream",
     "text": [
      "Fitting 3 folds for each of 108 candidates, totalling 324 fits\n"
     ]
    },
    {
     "data": {
      "text/plain": [
       "{'bootstrap': True,\n",
       " 'max_depth': 8,\n",
       " 'max_features': 'sqrt',\n",
       " 'min_samples_leaf': 2,\n",
       " 'min_samples_split': 6,\n",
       " 'n_estimators': 266}"
      ]
     },
     "execution_count": 50,
     "metadata": {},
     "output_type": "execute_result"
    }
   ],
   "source": [
    "n_estimators = [100,133,266,366]\n",
    "max_features = ['sqrt']\n",
    "max_depth = [6,7,8]\n",
    "min_samples_split = [6,8,12]\n",
    "min_samples_leaf = [2,6,8]# 5-возьмем из параметров найденных ранее перебором\n",
    "bootstrap = [True]\n",
    "param_grid = {'n_estimators': n_estimators,\n",
    "               'max_features': max_features,\n",
    "               'max_depth': max_depth,\n",
    "               'min_samples_split': min_samples_split,\n",
    "               'min_samples_leaf': min_samples_leaf,\n",
    "               'bootstrap': bootstrap}\n",
    "gs = GridSearchCV(model_forest_tune, param_grid, cv = 3, verbose = 1, n_jobs=1, scoring='f1')\n",
    "gs.fit(features_train_up, target_train_up)\n",
    "model_forest_cv = gs.best_estimator_\n",
    "gs.best_params_"
   ]
  },
  {
   "cell_type": "markdown",
   "metadata": {},
   "source": [
    "По результатам отработки GridSearchCV получены значения на основании которых следует провести тестирование модели."
   ]
  },
  {
   "cell_type": "markdown",
   "metadata": {},
   "source": [
    "<div class=\"alert alert-success\" style=\"border-color: green; border-radius: 5px\">\n",
    "    <p><u><b>✅ КОММЕНТАРИЙ РЕВЬЮЕРА v.3</b></u></p>\n",
    "    <p>Теперь хорошо!</p>\n",
    "</div>"
   ]
  },
  {
   "cell_type": "markdown",
   "metadata": {},
   "source": [
    "## Тестирование модели"
   ]
  },
  {
   "cell_type": "markdown",
   "metadata": {},
   "source": [
    "Модель полученная до увеличения выборки не показала достаточно высоких значений метрик. Проверим на тестовой выборке модель, гиперпараметры которой подобраны на основании увеличенной выборки"
   ]
  },
  {
   "cell_type": "code",
   "execution_count": 51,
   "metadata": {
    "scrolled": false
   },
   "outputs": [
    {
     "name": "stdout",
     "output_type": "stream",
     "text": [
      "F1= 0.6293706293706294\n",
      "ROC-AUC= 0.867240062471061\n",
      "Accuracy on train_data (overeducation) 0.8304754481683554\n",
      "Accuracy on valid_data (overeducation) 0.8145\n"
     ]
    }
   ],
   "source": [
    "model_forest3 = RandomForestClassifier(random_state=12345,n_estimators = 266,\n",
    "                                       min_samples_split = 6,\n",
    "                                       min_samples_leaf = 2,\n",
    "                                      max_features='sqrt', max_depth=8\n",
    "                                      ,bootstrap=False)\n",
    "model_forest3.fit(features_train_up, target_train_up)\n",
    "predictions_3 = model_forest3.predict(features_test)\n",
    "probabilities_3 = model_forest3.predict_proba(features_test)\n",
    "probabilities_one_3 = probabilities_3[:, 1]\n",
    "\n",
    "print('F1=',f1_score(target_test,predictions_3))\n",
    "print('ROC-AUC=',roc_auc_score(target_test,probabilities_one_3))\n",
    "print('Accuracy on train_data (overeducation)',model_forest3.score(features_train_up,target_train_up))\n",
    "print('Accuracy on valid_data (overeducation)',model_forest3.score(features_test,target_test))"
   ]
  },
  {
   "cell_type": "markdown",
   "metadata": {},
   "source": [
    "<b>Вывод по подбору гиперпараметров</b> по результатам подбора гиперпараметров достигнуто: </p> значение f1-меры - 0.629 (что лучше требуемого 0,59) при значении ROC-AUC - 0.867 и отсутствии признаков переобучения - accuracy на тренировочной выборке - 0.830</p>\n",
    "При этом ранее значения были достигнуты f1-0.537, ROC-AUC - 0.870 и accuracy на тренировочной выборке - 0,881</p>\n",
    "таким образом подбор гиперпараметров на увеличенной выборке позволил достичь установленного значения метрик."
   ]
  },
  {
   "cell_type": "markdown",
   "metadata": {},
   "source": [
    "<div class=\"alert alert-danger\" style=\"border-color: #8B0000; border-radius: 5px\">\n",
    "    <p><u><b>❌ КОММЕНТАРИЙ РЕВЬЮЕРА v.1</b></u></p>\n",
    "    <p>Тестирвоание модели лучшей проведено. Но тестовую выборку увеличивать (баланировать) совершенно ни к чему))</p>\n",
    "</div>"
   ]
  },
  {
   "cell_type": "markdown",
   "metadata": {},
   "source": [
    "<div style=\"background: #B0E0E6; padding: 5px; border: 1px solid SteelBlue; border-radius: 5px;\">\n",
    "    <font color='4682B4'><u><b>КОММЕНТАРИЙ СТУДЕНТА</b></u></font>\n",
    "    <br />\n",
    "    <font color='4682B4'> балансирование выборки убрал </p>\n",
    "      </font>\n",
    "</div>"
   ]
  },
  {
   "cell_type": "markdown",
   "metadata": {},
   "source": [
    "<div class=\"alert alert-danger\" style=\"border-color: #8B0000; border-radius: 5px\">\n",
    "    <p><u><b>❌ КОММЕНТАРИЙ РЕВЬЮЕРА v.2</b></u></p>\n",
    "    <p>Тестирование проведено, здесь нужно дождаться результатов работы моделей на увеличенной выборке, и протестировать именно лучшую моедль.</p>\n",
    "</div>"
   ]
  },
  {
   "cell_type": "markdown",
   "metadata": {},
   "source": [
    "<div style=\"background: #B0E0E6; padding: 5px; border: 1px solid SteelBlue; border-radius: 5px;\">\n",
    "    <font color='4682B4'><u><b>КОММЕНТАРИЙ СТУДЕНТА</b></u></font>\n",
    "    <br />\n",
    "    <font color='4682B4'> сделал </p>\n",
    "      </font>\n",
    "</div>"
   ]
  },
  {
   "cell_type": "markdown",
   "metadata": {},
   "source": [
    "<div class=\"alert alert-success\" style=\"border-color: green; border-radius: 5px\">\n",
    "    <p><u><b>✅ КОММЕНТАРИЙ РЕВЬЮЕРА v.3</b></u></p>\n",
    "    <p>Класс! Теперь все хорошо.</p>\n",
    "</div>"
   ]
  },
  {
   "cell_type": "markdown",
   "metadata": {},
   "source": [
    "## Вывод"
   ]
  },
  {
   "cell_type": "markdown",
   "metadata": {},
   "source": [
    "Проанализированы представленные заказчиком данные о 10000 клиентов Банка:\n",
    "1. Некорректные данные не установлены\n",
    "2. Установлены пропуски по параметру \"срок обслуживания\" - tenure. Данные пропуски заполнены медианным значениям\n",
    "3. Проведено категорирование соответствующих признаков (Geography, Gender)\n",
    "4. Проверена работа моделей на датасете. Проведен подбор гиперпараметров. Целевые значения метрик не достигнуты. Установлено что оптимальной моделью является RandomForestClassifier\n",
    "5. Установлен дисбалланс классов и проведена работа по его устранению.\n",
    "6. По результатам устранения дисбалланса, переобученная модель RandomForestClassifier показала на тестовой выборке значение f1 = 0.629 что превышает целевое значение в 0,59.\n",
    "7. Признаков переобучения на полученной модели не установлено, accuracy на учебном датасете составила 0.83, при 0,82 на тестовом датасете."
   ]
  },
  {
   "cell_type": "markdown",
   "metadata": {},
   "source": [
    "<div class=\"alert alert-danger\" style=\"border-color: #8B0000; border-radius: 5px\">\n",
    "    <p><u><b>❌ КОММЕНТАРИЙ РЕВЬЮЕРА v.1</b></u></p>\n",
    "    <p>Давай здесь напишем вывод о проделанной работе типа \"исходнные данные - что следали - что получили\".</p>\n",
    "</div>"
   ]
  },
  {
   "cell_type": "markdown",
   "metadata": {},
   "source": [
    "<div style=\"background: #B0E0E6; padding: 5px; border: 1px solid SteelBlue; border-radius: 5px;\">\n",
    "    <font color='4682B4'><u><b>КОММЕНТАРИЙ СТУДЕНТА</b></u></font>\n",
    "    <br />\n",
    "    <font color='4682B4'> добавил вывод </p>\n",
    "      </font>\n",
    "</div>"
   ]
  },
  {
   "cell_type": "markdown",
   "metadata": {},
   "source": [
    "<div class=\"alert alert-success\" style=\"border-color: green; border-radius: 5px\">\n",
    "    <p><u><b>✅ КОММЕНТАРИЙ РЕВЬЮЕРА v.2</b></u></p>\n",
    "    <p>Отлично! Вывод нужен всегда.</p>\n",
    "</div>"
   ]
  },
  {
   "cell_type": "markdown",
   "metadata": {},
   "source": [
    "## Чек-лист готовности проекта"
   ]
  },
  {
   "cell_type": "markdown",
   "metadata": {},
   "source": [
    "Поставьте 'x' в выполненных пунктах. Далее нажмите Shift+Enter."
   ]
  },
  {
   "cell_type": "markdown",
   "metadata": {},
   "source": [
    "- [x]  Jupyter Notebook открыт\n",
    "- [ ]  Весь код выполняется без ошибок\n",
    "- [ ]  Ячейки с кодом расположены в порядке исполнения\n",
    "- [ ]  Выполнен шаг 1: данные подготовлены\n",
    "- [ ]  Выполнен шаг 2: задача исследована\n",
    "    - [ ]  Исследован баланс классов\n",
    "    - [ ]  Изучены модели без учёта дисбаланса\n",
    "    - [ ]  Написаны выводы по результатам исследования\n",
    "- [ ]  Выполнен шаг 3: учтён дисбаланс\n",
    "    - [ ]  Применено несколько способов борьбы с дисбалансом\n",
    "    - [ ]  Написаны выводы по результатам исследования\n",
    "- [ ]  Выполнен шаг 4: проведено тестирование\n",
    "- [ ]  Удалось достичь *F1*-меры не менее 0.59\n",
    "- [ ]  Исследована метрика *AUC-ROC*"
   ]
  },
  {
   "cell_type": "markdown",
   "metadata": {},
   "source": [
    "<div class=\"alert alert-danger\" style=\"border-color: #8B0000; border-radius: 5px\">\n",
    "    <p><u><b>❌ КОММЕНТАРИЙ РЕВЬЮЕРА v.1</b></u></p>\n",
    "    <p>Даниэль, это супер крутой проект. Видно, что ты старался и очень системно подошел к работе. Осталось немного. Думаю, тебе не составит труда исправить замечания и вернуть мне тетредку на повторную проверку! Я постарался подробное описать замечания. Если возникнут вопросы задавай;)</p>\n",
    "    <p>Успехов!</p>\n",
    "</div>"
   ]
  },
  {
   "cell_type": "markdown",
   "metadata": {},
   "source": [
    "<div style=\"background: #B0E0E6; padding: 5px; border: 1px solid SteelBlue; border-radius: 5px;\">\n",
    "    <font color='4682B4'><u><b>КОММЕНТАРИЙ СТУДЕНТА</b></u></font>\n",
    "    <br />\n",
    "    <font color='4682B4'> Спасибо! Постарался все доделать и как смог проверил сам. </p>\n",
    "      </font>\n",
    "</div>"
   ]
  },
  {
   "cell_type": "markdown",
   "metadata": {},
   "source": [
    "<div class=\"alert alert-danger\" style=\"border-color: #8B0000; border-radius: 5px\">\n",
    "    <p><u><b>❌ КОММЕНТАРИЙ РЕВЬЮЕРА v.2</b></u></p>\n",
    "    <p>Даниэель, эта работа уже близка к победе. Осталось фактически одно замечание - провести эксперименты на увеличенной выборке. Поправь, пожалуйста недочеты, указанные в моих комментариях и присылай работу на проверку.</p>\n",
    "    <p>Да пребудет с тобой сила)</p>"
   ]
  },
  {
   "cell_type": "markdown",
   "metadata": {},
   "source": [
    "<div style=\"background: #B0E0E6; padding: 5px; border: 1px solid SteelBlue; border-radius: 5px;\">\n",
    "    <font color='4682B4'><u><b>КОММЕНТАРИЙ СТУДЕНТА</b></u></font>\n",
    "    <br />\n",
    "    <font color='4682B4'> Что то в час пик (после работы) терминальный юпитер висит конечно. Но выбора нет. Проект просчитан, результат, как мне показалось, соответствует требованиям. </p>\n",
    "      </font>\n",
    "</div>"
   ]
  },
  {
   "cell_type": "markdown",
   "metadata": {},
   "source": [
    "<div class=\"alert alert-success\" style=\"border-color: green; border-radius: 5px\">\n",
    "    <p><u><b>✅ КОММЕНТАРИЙ РЕВЬЮЕРА v.3</b></u></p>\n",
    "    <p>Даниэль, мы добрались до зачета по всем пунктам, замечаний больше нет. Ты молодец!</p>\n",
    "    <p>Надеюсь тебя посетило то классное чувство профессиональной прокачки по ходу решения.</p>\n",
    "    <p>Желаю не останавливаться на пути к поставленной цели. Успехов!</p>\n",
    "</div>"
   ]
  },
  {
   "cell_type": "code",
   "execution_count": null,
   "metadata": {},
   "outputs": [],
   "source": []
  }
 ],
 "metadata": {
  "ExecuteTimeLog": [
   {
    "duration": 72,
    "start_time": "2022-05-10T18:38:44.173Z"
   },
   {
    "duration": 482,
    "start_time": "2022-05-10T18:38:49.731Z"
   },
   {
    "duration": 50,
    "start_time": "2022-05-10T18:38:50.963Z"
   },
   {
    "duration": 59,
    "start_time": "2022-05-10T18:38:58.628Z"
   },
   {
    "duration": 20,
    "start_time": "2022-05-10T18:39:10.783Z"
   },
   {
    "duration": 64,
    "start_time": "2022-05-10T18:39:32.583Z"
   },
   {
    "duration": 43,
    "start_time": "2022-05-10T19:08:31.027Z"
   },
   {
    "duration": 19,
    "start_time": "2022-05-10T19:08:40.486Z"
   },
   {
    "duration": 25,
    "start_time": "2022-05-10T19:09:10.227Z"
   },
   {
    "duration": 27,
    "start_time": "2022-05-10T19:14:31.837Z"
   },
   {
    "duration": 24,
    "start_time": "2022-05-10T19:15:13.205Z"
   },
   {
    "duration": 34,
    "start_time": "2022-05-10T19:15:41.922Z"
   },
   {
    "duration": 27,
    "start_time": "2022-05-10T19:16:16.285Z"
   },
   {
    "duration": 38,
    "start_time": "2022-05-10T19:16:28.838Z"
   },
   {
    "duration": 22,
    "start_time": "2022-05-10T19:19:52.232Z"
   },
   {
    "duration": 23,
    "start_time": "2022-05-10T19:20:04.949Z"
   },
   {
    "duration": 60,
    "start_time": "2022-05-11T16:38:47.016Z"
   },
   {
    "duration": 446,
    "start_time": "2022-05-11T16:38:54.829Z"
   },
   {
    "duration": 47,
    "start_time": "2022-05-11T16:38:55.277Z"
   },
   {
    "duration": 23,
    "start_time": "2022-05-11T16:38:55.326Z"
   },
   {
    "duration": 53,
    "start_time": "2022-05-11T16:38:55.352Z"
   },
   {
    "duration": 14,
    "start_time": "2022-05-11T16:38:55.407Z"
   },
   {
    "duration": 24,
    "start_time": "2022-05-11T16:38:55.435Z"
   },
   {
    "duration": 8,
    "start_time": "2022-05-11T16:38:55.461Z"
   },
   {
    "duration": 7,
    "start_time": "2022-05-11T16:39:31.100Z"
   },
   {
    "duration": 22,
    "start_time": "2022-05-11T16:41:38.430Z"
   },
   {
    "duration": 18,
    "start_time": "2022-05-11T16:41:44.163Z"
   },
   {
    "duration": 33,
    "start_time": "2022-05-11T16:42:05.118Z"
   },
   {
    "duration": 27,
    "start_time": "2022-05-11T16:42:29.859Z"
   },
   {
    "duration": 26,
    "start_time": "2022-05-11T16:43:24.577Z"
   },
   {
    "duration": 19,
    "start_time": "2022-05-11T16:43:59.196Z"
   },
   {
    "duration": 24,
    "start_time": "2022-05-11T16:45:03.127Z"
   },
   {
    "duration": 24,
    "start_time": "2022-05-11T16:46:31.085Z"
   },
   {
    "duration": 24,
    "start_time": "2022-05-11T16:46:41.390Z"
   },
   {
    "duration": 29,
    "start_time": "2022-05-11T16:47:10.627Z"
   },
   {
    "duration": 74,
    "start_time": "2022-05-11T22:55:50.047Z"
   },
   {
    "duration": 480,
    "start_time": "2022-05-11T22:55:56.948Z"
   },
   {
    "duration": 58,
    "start_time": "2022-05-11T22:55:57.431Z"
   },
   {
    "duration": 25,
    "start_time": "2022-05-11T22:55:57.491Z"
   },
   {
    "duration": 54,
    "start_time": "2022-05-11T22:55:57.519Z"
   },
   {
    "duration": 31,
    "start_time": "2022-05-11T22:55:57.592Z"
   },
   {
    "duration": 21,
    "start_time": "2022-05-11T22:55:57.625Z"
   },
   {
    "duration": 8,
    "start_time": "2022-05-11T22:55:57.648Z"
   },
   {
    "duration": 42,
    "start_time": "2022-05-11T22:55:57.659Z"
   },
   {
    "duration": 30,
    "start_time": "2022-05-11T22:55:57.704Z"
   },
   {
    "duration": 23,
    "start_time": "2022-05-11T22:55:57.737Z"
   },
   {
    "duration": 1354,
    "start_time": "2022-05-11T22:58:48.511Z"
   },
   {
    "duration": 107831,
    "start_time": "2022-05-11T22:59:28.815Z"
   },
   {
    "duration": 3030,
    "start_time": "2022-05-11T23:04:28.571Z"
   },
   {
    "duration": 57420,
    "start_time": "2022-05-11T23:08:51.347Z"
   },
   {
    "duration": 3,
    "start_time": "2022-05-11T23:46:31.013Z"
   },
   {
    "duration": 169,
    "start_time": "2022-05-11T23:58:44.542Z"
   },
   {
    "duration": 8,
    "start_time": "2022-05-11T23:59:06.189Z"
   },
   {
    "duration": 35,
    "start_time": "2022-05-11T23:59:17.517Z"
   },
   {
    "duration": 16,
    "start_time": "2022-05-12T00:05:33.218Z"
   },
   {
    "duration": 27,
    "start_time": "2022-05-12T00:05:49.706Z"
   },
   {
    "duration": 1945,
    "start_time": "2022-05-12T20:39:01.368Z"
   },
   {
    "duration": 55,
    "start_time": "2022-05-12T20:39:05.711Z"
   },
   {
    "duration": 870,
    "start_time": "2022-05-12T20:39:07.906Z"
   },
   {
    "duration": 3,
    "start_time": "2022-05-12T20:39:45.747Z"
   },
   {
    "duration": 25,
    "start_time": "2022-05-12T20:39:48.141Z"
   },
   {
    "duration": 50,
    "start_time": "2022-05-12T20:39:52.001Z"
   },
   {
    "duration": 15,
    "start_time": "2022-05-12T20:39:56.391Z"
   },
   {
    "duration": 18,
    "start_time": "2022-05-12T20:40:00.876Z"
   },
   {
    "duration": 19,
    "start_time": "2022-05-12T20:40:05.184Z"
   },
   {
    "duration": 7,
    "start_time": "2022-05-12T20:40:31.532Z"
   },
   {
    "duration": 6,
    "start_time": "2022-05-12T20:40:34.298Z"
   },
   {
    "duration": 23,
    "start_time": "2022-05-12T20:40:44.158Z"
   },
   {
    "duration": 16,
    "start_time": "2022-05-12T20:40:53.411Z"
   },
   {
    "duration": 3,
    "start_time": "2022-05-12T20:41:11.001Z"
   },
   {
    "duration": 13,
    "start_time": "2022-05-12T20:41:12.427Z"
   },
   {
    "duration": 49,
    "start_time": "2022-05-12T20:41:16.948Z"
   },
   {
    "duration": 14,
    "start_time": "2022-05-12T20:41:18.075Z"
   },
   {
    "duration": 21,
    "start_time": "2022-05-12T20:41:19.262Z"
   },
   {
    "duration": 9,
    "start_time": "2022-05-12T20:41:21.303Z"
   },
   {
    "duration": 9,
    "start_time": "2022-05-12T20:41:22.140Z"
   },
   {
    "duration": 18,
    "start_time": "2022-05-12T20:41:23.163Z"
   },
   {
    "duration": 16,
    "start_time": "2022-05-12T20:41:24.351Z"
   },
   {
    "duration": 19,
    "start_time": "2022-05-12T20:41:51.342Z"
   },
   {
    "duration": 11,
    "start_time": "2022-05-12T20:41:58.629Z"
   },
   {
    "duration": 18,
    "start_time": "2022-05-12T20:41:59.383Z"
   },
   {
    "duration": 5,
    "start_time": "2022-05-12T20:42:18.262Z"
   },
   {
    "duration": 6,
    "start_time": "2022-05-12T20:43:39.950Z"
   },
   {
    "duration": 6,
    "start_time": "2022-05-12T20:44:44.953Z"
   },
   {
    "duration": 1916,
    "start_time": "2022-05-12T20:46:33.417Z"
   },
   {
    "duration": 3,
    "start_time": "2022-05-12T20:46:52.490Z"
   },
   {
    "duration": 4,
    "start_time": "2022-05-12T20:47:04.175Z"
   },
   {
    "duration": 5,
    "start_time": "2022-05-12T20:47:20.671Z"
   },
   {
    "duration": 6,
    "start_time": "2022-05-12T20:49:25.172Z"
   },
   {
    "duration": 5,
    "start_time": "2022-05-12T20:49:44.648Z"
   },
   {
    "duration": 6,
    "start_time": "2022-05-12T20:50:21.964Z"
   },
   {
    "duration": 7,
    "start_time": "2022-05-12T20:50:27.956Z"
   },
   {
    "duration": 28,
    "start_time": "2022-05-12T21:10:48.154Z"
   },
   {
    "duration": 5,
    "start_time": "2022-05-12T21:17:50.208Z"
   },
   {
    "duration": 6,
    "start_time": "2022-05-12T21:17:51.207Z"
   },
   {
    "duration": 6,
    "start_time": "2022-05-12T21:17:52.395Z"
   },
   {
    "duration": 5,
    "start_time": "2022-05-12T21:17:53.801Z"
   },
   {
    "duration": 17,
    "start_time": "2022-05-12T21:18:02.704Z"
   },
   {
    "duration": 19,
    "start_time": "2022-05-12T21:18:28.773Z"
   },
   {
    "duration": 7,
    "start_time": "2022-05-12T21:23:35.350Z"
   },
   {
    "duration": 6,
    "start_time": "2022-05-12T21:23:38.968Z"
   },
   {
    "duration": 6,
    "start_time": "2022-05-12T21:23:41.697Z"
   },
   {
    "duration": 18,
    "start_time": "2022-05-12T21:23:42.812Z"
   },
   {
    "duration": 16,
    "start_time": "2022-05-12T21:23:47.131Z"
   },
   {
    "duration": 17,
    "start_time": "2022-05-12T21:23:52.026Z"
   },
   {
    "duration": 6219,
    "start_time": "2022-05-12T21:24:51.162Z"
   },
   {
    "duration": 41543,
    "start_time": "2022-05-12T21:25:04.785Z"
   },
   {
    "duration": 8,
    "start_time": "2022-05-12T21:26:29.151Z"
   },
   {
    "duration": 29,
    "start_time": "2022-05-12T21:26:31.261Z"
   },
   {
    "duration": 32,
    "start_time": "2022-05-12T21:26:40.707Z"
   },
   {
    "duration": 17,
    "start_time": "2022-05-12T21:26:45.611Z"
   },
   {
    "duration": 27,
    "start_time": "2022-05-12T21:26:46.931Z"
   },
   {
    "duration": 6,
    "start_time": "2022-05-12T21:26:57.119Z"
   },
   {
    "duration": 6,
    "start_time": "2022-05-12T21:26:57.627Z"
   },
   {
    "duration": 7,
    "start_time": "2022-05-12T21:26:58.063Z"
   },
   {
    "duration": 5,
    "start_time": "2022-05-12T21:26:58.616Z"
   },
   {
    "duration": 30,
    "start_time": "2022-05-12T21:27:01.053Z"
   },
   {
    "duration": 169,
    "start_time": "2022-05-12T21:27:03.420Z"
   },
   {
    "duration": 20,
    "start_time": "2022-05-12T21:28:11.721Z"
   },
   {
    "duration": 17,
    "start_time": "2022-05-12T21:29:57.100Z"
   },
   {
    "duration": 4,
    "start_time": "2022-05-12T21:32:34.567Z"
   },
   {
    "duration": 16,
    "start_time": "2022-05-12T21:34:40.573Z"
   },
   {
    "duration": 4,
    "start_time": "2022-05-12T21:35:46.440Z"
   },
   {
    "duration": 67,
    "start_time": "2022-05-12T21:35:55.902Z"
   },
   {
    "duration": 570,
    "start_time": "2022-05-12T21:36:19.902Z"
   },
   {
    "duration": 600,
    "start_time": "2022-05-12T21:59:44.869Z"
   },
   {
    "duration": 10,
    "start_time": "2022-05-12T22:07:44.527Z"
   },
   {
    "duration": 43,
    "start_time": "2022-05-12T22:08:07.088Z"
   },
   {
    "duration": 1473,
    "start_time": "2022-05-12T22:08:58.198Z"
   },
   {
    "duration": 60,
    "start_time": "2022-05-12T22:09:00.541Z"
   },
   {
    "duration": 10,
    "start_time": "2022-05-12T22:19:59.212Z"
   },
   {
    "duration": 792,
    "start_time": "2022-05-12T22:20:17.018Z"
   },
   {
    "duration": 52,
    "start_time": "2022-05-17T19:33:23.836Z"
   },
   {
    "duration": 1402,
    "start_time": "2022-05-17T19:33:41.032Z"
   },
   {
    "duration": 76,
    "start_time": "2022-05-17T19:33:42.437Z"
   },
   {
    "duration": 4,
    "start_time": "2022-05-17T19:33:42.514Z"
   },
   {
    "duration": 19,
    "start_time": "2022-05-17T19:33:42.520Z"
   },
   {
    "duration": 39,
    "start_time": "2022-05-17T19:33:42.541Z"
   },
   {
    "duration": 19,
    "start_time": "2022-05-17T19:33:42.581Z"
   },
   {
    "duration": 11,
    "start_time": "2022-05-17T19:33:42.602Z"
   },
   {
    "duration": 8,
    "start_time": "2022-05-17T19:33:42.614Z"
   },
   {
    "duration": 6,
    "start_time": "2022-05-17T19:33:42.623Z"
   },
   {
    "duration": 15,
    "start_time": "2022-05-17T19:33:42.631Z"
   },
   {
    "duration": 17,
    "start_time": "2022-05-17T19:33:42.647Z"
   },
   {
    "duration": 38,
    "start_time": "2022-05-17T19:33:42.665Z"
   },
   {
    "duration": 34299,
    "start_time": "2022-05-17T19:33:42.705Z"
   },
   {
    "duration": 18,
    "start_time": "2022-05-17T19:34:17.006Z"
   },
   {
    "duration": 11,
    "start_time": "2022-05-17T19:34:17.026Z"
   },
   {
    "duration": 21,
    "start_time": "2022-05-17T19:34:17.038Z"
   },
   {
    "duration": 35,
    "start_time": "2022-05-17T19:34:17.061Z"
   },
   {
    "duration": 5,
    "start_time": "2022-05-17T19:34:17.098Z"
   },
   {
    "duration": 6,
    "start_time": "2022-05-17T19:34:17.104Z"
   },
   {
    "duration": 7,
    "start_time": "2022-05-17T19:34:17.111Z"
   },
   {
    "duration": 16,
    "start_time": "2022-05-17T19:34:17.120Z"
   },
   {
    "duration": 457,
    "start_time": "2022-05-17T19:34:17.138Z"
   },
   {
    "duration": 127,
    "start_time": "2022-05-17T19:34:17.597Z"
   },
   {
    "duration": 759,
    "start_time": "2022-05-17T19:34:17.725Z"
   },
   {
    "duration": 113,
    "start_time": "2022-05-17T19:34:18.486Z"
   },
   {
    "duration": 112,
    "start_time": "2022-05-17T19:35:23.548Z"
   },
   {
    "duration": 123,
    "start_time": "2022-05-17T20:04:38.536Z"
   },
   {
    "duration": 4,
    "start_time": "2022-05-17T20:05:19.030Z"
   },
   {
    "duration": 12,
    "start_time": "2022-05-17T20:05:24.349Z"
   },
   {
    "duration": 20,
    "start_time": "2022-05-17T20:06:21.777Z"
   },
   {
    "duration": 19,
    "start_time": "2022-05-17T20:06:55.544Z"
   },
   {
    "duration": 23,
    "start_time": "2022-05-17T20:07:14.228Z"
   },
   {
    "duration": 27,
    "start_time": "2022-05-17T20:07:22.990Z"
   },
   {
    "duration": 24,
    "start_time": "2022-05-17T20:08:18.344Z"
   },
   {
    "duration": 35,
    "start_time": "2022-05-17T20:08:29.501Z"
   },
   {
    "duration": 26,
    "start_time": "2022-05-17T20:09:26.354Z"
   },
   {
    "duration": 21,
    "start_time": "2022-05-17T20:10:49.906Z"
   },
   {
    "duration": 1221,
    "start_time": "2022-05-17T20:12:55.191Z"
   },
   {
    "duration": 40,
    "start_time": "2022-05-17T20:12:56.414Z"
   },
   {
    "duration": 3,
    "start_time": "2022-05-17T20:12:56.455Z"
   },
   {
    "duration": 14,
    "start_time": "2022-05-17T20:12:56.460Z"
   },
   {
    "duration": 38,
    "start_time": "2022-05-17T20:12:56.475Z"
   },
   {
    "duration": 12,
    "start_time": "2022-05-17T20:12:56.514Z"
   },
   {
    "duration": 11,
    "start_time": "2022-05-17T20:12:56.527Z"
   },
   {
    "duration": 5,
    "start_time": "2022-05-17T20:12:56.540Z"
   },
   {
    "duration": 4,
    "start_time": "2022-05-17T20:12:56.547Z"
   },
   {
    "duration": 7,
    "start_time": "2022-05-17T20:12:56.554Z"
   },
   {
    "duration": 44,
    "start_time": "2022-05-17T20:12:56.563Z"
   },
   {
    "duration": 14,
    "start_time": "2022-05-17T20:12:56.609Z"
   },
   {
    "duration": 33701,
    "start_time": "2022-05-17T20:12:56.624Z"
   },
   {
    "duration": 20,
    "start_time": "2022-05-17T20:13:30.326Z"
   },
   {
    "duration": 13,
    "start_time": "2022-05-17T20:13:30.347Z"
   },
   {
    "duration": 33,
    "start_time": "2022-05-17T20:13:30.362Z"
   },
   {
    "duration": 6,
    "start_time": "2022-05-17T20:13:30.396Z"
   },
   {
    "duration": 7,
    "start_time": "2022-05-17T20:13:30.404Z"
   },
   {
    "duration": 11,
    "start_time": "2022-05-17T20:13:30.413Z"
   },
   {
    "duration": 10,
    "start_time": "2022-05-17T20:13:30.425Z"
   },
   {
    "duration": 36,
    "start_time": "2022-05-17T20:13:30.437Z"
   },
   {
    "duration": 628,
    "start_time": "2022-05-17T20:13:30.475Z"
   },
   {
    "duration": 130,
    "start_time": "2022-05-17T20:13:31.195Z"
   },
   {
    "duration": 742,
    "start_time": "2022-05-17T20:13:31.327Z"
   },
   {
    "duration": 111,
    "start_time": "2022-05-17T20:13:32.071Z"
   },
   {
    "duration": 143,
    "start_time": "2022-05-17T20:13:32.184Z"
   },
   {
    "duration": 0,
    "start_time": "2022-05-17T20:13:32.328Z"
   },
   {
    "duration": 5,
    "start_time": "2022-05-17T20:14:13.669Z"
   },
   {
    "duration": 14,
    "start_time": "2022-05-17T20:14:29.200Z"
   },
   {
    "duration": 23,
    "start_time": "2022-05-17T20:16:04.899Z"
   },
   {
    "duration": 888,
    "start_time": "2022-05-17T20:16:21.973Z"
   },
   {
    "duration": 970,
    "start_time": "2022-05-17T20:16:54.699Z"
   },
   {
    "duration": 22,
    "start_time": "2022-05-17T20:17:12.911Z"
   },
   {
    "duration": 956,
    "start_time": "2022-05-17T20:18:32.633Z"
   },
   {
    "duration": 1421,
    "start_time": "2022-05-18T18:41:26.611Z"
   },
   {
    "duration": 168,
    "start_time": "2022-05-18T18:41:28.033Z"
   },
   {
    "duration": 4,
    "start_time": "2022-05-18T18:41:28.203Z"
   },
   {
    "duration": 16,
    "start_time": "2022-05-18T18:41:28.210Z"
   },
   {
    "duration": 57,
    "start_time": "2022-05-18T18:41:28.229Z"
   },
   {
    "duration": 12,
    "start_time": "2022-05-18T18:41:28.288Z"
   },
   {
    "duration": 16,
    "start_time": "2022-05-18T18:41:28.302Z"
   },
   {
    "duration": 10,
    "start_time": "2022-05-18T18:41:28.320Z"
   },
   {
    "duration": 6,
    "start_time": "2022-05-18T18:41:28.332Z"
   },
   {
    "duration": 9,
    "start_time": "2022-05-18T18:41:28.340Z"
   },
   {
    "duration": 42,
    "start_time": "2022-05-18T18:41:28.350Z"
   },
   {
    "duration": 16,
    "start_time": "2022-05-18T18:41:28.393Z"
   },
   {
    "duration": 36663,
    "start_time": "2022-05-18T18:41:28.410Z"
   },
   {
    "duration": 20,
    "start_time": "2022-05-18T18:42:05.075Z"
   },
   {
    "duration": 11,
    "start_time": "2022-05-18T18:42:05.097Z"
   },
   {
    "duration": 17,
    "start_time": "2022-05-18T18:42:05.110Z"
   },
   {
    "duration": 5,
    "start_time": "2022-05-18T18:42:05.175Z"
   },
   {
    "duration": 7,
    "start_time": "2022-05-18T18:42:05.182Z"
   },
   {
    "duration": 5,
    "start_time": "2022-05-18T18:42:05.190Z"
   },
   {
    "duration": 7,
    "start_time": "2022-05-18T18:42:05.196Z"
   },
   {
    "duration": 19,
    "start_time": "2022-05-18T18:42:05.204Z"
   },
   {
    "duration": 759,
    "start_time": "2022-05-18T18:42:05.224Z"
   },
   {
    "duration": 118,
    "start_time": "2022-05-18T18:42:06.075Z"
   },
   {
    "duration": 793,
    "start_time": "2022-05-18T18:42:06.194Z"
   },
   {
    "duration": 120,
    "start_time": "2022-05-18T18:42:06.989Z"
   },
   {
    "duration": 122,
    "start_time": "2022-05-18T18:42:07.111Z"
   },
   {
    "duration": 0,
    "start_time": "2022-05-18T18:42:07.234Z"
   },
   {
    "duration": 43,
    "start_time": "2022-05-18T18:43:42.927Z"
   },
   {
    "duration": 1153,
    "start_time": "2022-05-18T18:44:00.109Z"
   },
   {
    "duration": 49,
    "start_time": "2022-05-18T18:48:20.688Z"
   },
   {
    "duration": 1075,
    "start_time": "2022-05-18T18:49:05.380Z"
   },
   {
    "duration": 993,
    "start_time": "2022-05-18T18:49:27.847Z"
   },
   {
    "duration": 177,
    "start_time": "2022-05-18T18:49:58.846Z"
   },
   {
    "duration": 123,
    "start_time": "2022-05-18T18:55:20.155Z"
   },
   {
    "duration": 39,
    "start_time": "2022-05-18T18:55:26.913Z"
   },
   {
    "duration": 155,
    "start_time": "2022-05-18T18:57:59.746Z"
   },
   {
    "duration": 65,
    "start_time": "2022-05-18T18:58:01.854Z"
   },
   {
    "duration": 55,
    "start_time": "2022-05-18T20:40:01.458Z"
   },
   {
    "duration": 1022,
    "start_time": "2022-05-18T20:40:02.287Z"
   },
   {
    "duration": 374,
    "start_time": "2022-05-18T20:49:44.833Z"
   },
   {
    "duration": 39,
    "start_time": "2022-05-18T20:58:40.996Z"
   },
   {
    "duration": 6,
    "start_time": "2022-05-18T20:58:52.984Z"
   },
   {
    "duration": 100,
    "start_time": "2022-05-22T10:35:30.155Z"
   },
   {
    "duration": 1859,
    "start_time": "2022-05-22T10:35:39.881Z"
   },
   {
    "duration": 93,
    "start_time": "2022-05-22T10:35:41.742Z"
   },
   {
    "duration": 6,
    "start_time": "2022-05-22T10:35:41.840Z"
   },
   {
    "duration": 25,
    "start_time": "2022-05-22T10:35:41.854Z"
   },
   {
    "duration": 56,
    "start_time": "2022-05-22T10:35:41.882Z"
   },
   {
    "duration": 29,
    "start_time": "2022-05-22T10:35:41.941Z"
   },
   {
    "duration": 22,
    "start_time": "2022-05-22T10:35:41.974Z"
   },
   {
    "duration": 10,
    "start_time": "2022-05-22T10:35:41.998Z"
   },
   {
    "duration": 11,
    "start_time": "2022-05-22T10:35:42.010Z"
   },
   {
    "duration": 20,
    "start_time": "2022-05-22T10:35:42.026Z"
   },
   {
    "duration": 33,
    "start_time": "2022-05-22T10:35:42.048Z"
   },
   {
    "duration": 21,
    "start_time": "2022-05-22T10:35:42.083Z"
   },
   {
    "duration": 6,
    "start_time": "2022-05-22T10:35:42.108Z"
   },
   {
    "duration": 41,
    "start_time": "2022-05-22T10:35:42.116Z"
   },
   {
    "duration": 21,
    "start_time": "2022-05-22T10:35:42.163Z"
   },
   {
    "duration": 24,
    "start_time": "2022-05-22T10:35:42.186Z"
   },
   {
    "duration": 6,
    "start_time": "2022-05-22T10:35:42.211Z"
   },
   {
    "duration": 36,
    "start_time": "2022-05-22T10:35:42.220Z"
   },
   {
    "duration": 15,
    "start_time": "2022-05-22T10:35:42.258Z"
   },
   {
    "duration": 8,
    "start_time": "2022-05-22T10:35:42.275Z"
   },
   {
    "duration": 12,
    "start_time": "2022-05-22T10:35:42.284Z"
   },
   {
    "duration": 146,
    "start_time": "2022-05-22T10:35:42.298Z"
   },
   {
    "duration": 130,
    "start_time": "2022-05-22T10:35:42.448Z"
   },
   {
    "duration": 950,
    "start_time": "2022-05-22T10:35:42.579Z"
   },
   {
    "duration": 115,
    "start_time": "2022-05-22T10:35:43.540Z"
   },
   {
    "duration": 156,
    "start_time": "2022-05-22T10:35:43.662Z"
   },
   {
    "duration": 1054,
    "start_time": "2022-05-22T10:35:43.827Z"
   },
   {
    "duration": 85,
    "start_time": "2022-05-22T10:35:44.884Z"
   },
   {
    "duration": 6,
    "start_time": "2022-05-22T10:35:44.971Z"
   },
   {
    "duration": 31,
    "start_time": "2022-05-22T10:35:44.979Z"
   },
   {
    "duration": 41,
    "start_time": "2022-05-22T10:35:45.032Z"
   },
   {
    "duration": 1686,
    "start_time": "2022-05-22T10:35:45.075Z"
   },
   {
    "duration": 277,
    "start_time": "2022-05-22T10:35:46.763Z"
   },
   {
    "duration": 6,
    "start_time": "2022-05-22T10:56:43.393Z"
   },
   {
    "duration": 8,
    "start_time": "2022-05-22T11:06:37.062Z"
   },
   {
    "duration": 4,
    "start_time": "2022-05-22T11:06:51.356Z"
   },
   {
    "duration": 4,
    "start_time": "2022-05-22T11:07:58.364Z"
   },
   {
    "duration": 1444335,
    "start_time": "2022-05-22T11:09:27.162Z"
   },
   {
    "duration": 5549,
    "start_time": "2022-05-22T11:43:22.816Z"
   },
   {
    "duration": 2894,
    "start_time": "2022-05-22T11:43:48.408Z"
   },
   {
    "duration": 4696,
    "start_time": "2022-05-22T11:44:02.858Z"
   },
   {
    "duration": 4186,
    "start_time": "2022-05-22T11:44:29.105Z"
   },
   {
    "duration": 4105,
    "start_time": "2022-05-22T11:44:44.384Z"
   },
   {
    "duration": 5573,
    "start_time": "2022-05-22T11:44:54.801Z"
   },
   {
    "duration": 3617,
    "start_time": "2022-05-22T11:45:05.486Z"
   },
   {
    "duration": 5804,
    "start_time": "2022-05-22T11:45:21.301Z"
   },
   {
    "duration": 2937,
    "start_time": "2022-05-22T11:45:35.546Z"
   },
   {
    "duration": 3464,
    "start_time": "2022-05-22T11:45:43.906Z"
   },
   {
    "duration": 5569,
    "start_time": "2022-05-22T11:46:42.267Z"
   },
   {
    "duration": 3910,
    "start_time": "2022-05-22T11:51:57.318Z"
   },
   {
    "duration": 3590,
    "start_time": "2022-05-22T11:52:23.345Z"
   },
   {
    "duration": 131,
    "start_time": "2022-05-22T11:54:00.639Z"
   },
   {
    "duration": 186,
    "start_time": "2022-05-22T11:55:01.399Z"
   },
   {
    "duration": 3481,
    "start_time": "2022-05-22T11:56:47.457Z"
   },
   {
    "duration": 5685,
    "start_time": "2022-05-22T11:57:02.977Z"
   },
   {
    "duration": 3743,
    "start_time": "2022-05-22T11:57:15.379Z"
   },
   {
    "duration": 159,
    "start_time": "2022-05-22T11:57:26.260Z"
   },
   {
    "duration": 21,
    "start_time": "2022-05-22T12:00:33.055Z"
   },
   {
    "duration": 3053,
    "start_time": "2022-05-22T12:00:48.894Z"
   },
   {
    "duration": 2011,
    "start_time": "2022-05-22T12:01:21.784Z"
   },
   {
    "duration": 2042,
    "start_time": "2022-05-22T12:02:54.355Z"
   },
   {
    "duration": 2279,
    "start_time": "2022-05-22T12:03:07.358Z"
   },
   {
    "duration": 2165,
    "start_time": "2022-05-22T12:03:29.964Z"
   },
   {
    "duration": 23,
    "start_time": "2022-05-22T12:06:15.870Z"
   },
   {
    "duration": 126,
    "start_time": "2022-05-22T12:09:44.557Z"
   },
   {
    "duration": 554455,
    "start_time": "2022-05-22T12:10:23.711Z"
   },
   {
    "duration": 4836,
    "start_time": "2022-05-22T12:30:49.175Z"
   },
   {
    "duration": 3788,
    "start_time": "2022-05-22T12:31:36.778Z"
   },
   {
    "duration": 3647,
    "start_time": "2022-05-22T12:33:47.755Z"
   },
   {
    "duration": 128,
    "start_time": "2022-05-22T12:35:09.051Z"
   },
   {
    "duration": 4330,
    "start_time": "2022-05-22T12:38:54.903Z"
   },
   {
    "duration": 127,
    "start_time": "2022-05-22T12:39:02.383Z"
   },
   {
    "duration": 2803,
    "start_time": "2022-05-22T12:40:27.856Z"
   },
   {
    "duration": 3337,
    "start_time": "2022-05-22T12:40:36.446Z"
   },
   {
    "duration": 4025,
    "start_time": "2022-05-22T12:40:59.851Z"
   },
   {
    "duration": 4344,
    "start_time": "2022-05-22T12:41:11.360Z"
   },
   {
    "duration": 3947,
    "start_time": "2022-05-22T12:41:20.196Z"
   },
   {
    "duration": 3944,
    "start_time": "2022-05-22T12:49:51.115Z"
   },
   {
    "duration": 121,
    "start_time": "2022-05-22T12:50:23.680Z"
   },
   {
    "duration": 10,
    "start_time": "2022-05-22T12:50:50.216Z"
   },
   {
    "duration": 297,
    "start_time": "2022-05-22T12:51:51.668Z"
   },
   {
    "duration": 551,
    "start_time": "2022-05-22T12:52:30.462Z"
   },
   {
    "duration": 1458,
    "start_time": "2022-05-22T12:53:05.778Z"
   },
   {
    "duration": 79,
    "start_time": "2022-05-22T12:53:07.238Z"
   },
   {
    "duration": 4,
    "start_time": "2022-05-22T12:53:07.319Z"
   },
   {
    "duration": 39,
    "start_time": "2022-05-22T12:53:07.326Z"
   },
   {
    "duration": 43,
    "start_time": "2022-05-22T12:53:07.367Z"
   },
   {
    "duration": 26,
    "start_time": "2022-05-22T12:53:07.411Z"
   },
   {
    "duration": 37,
    "start_time": "2022-05-22T12:53:07.439Z"
   },
   {
    "duration": 7,
    "start_time": "2022-05-22T12:53:07.477Z"
   },
   {
    "duration": 8,
    "start_time": "2022-05-22T12:53:07.486Z"
   },
   {
    "duration": 11,
    "start_time": "2022-05-22T12:53:07.497Z"
   },
   {
    "duration": 29,
    "start_time": "2022-05-22T12:53:07.509Z"
   },
   {
    "duration": 19,
    "start_time": "2022-05-22T12:53:07.540Z"
   },
   {
    "duration": 3,
    "start_time": "2022-05-22T12:53:07.560Z"
   },
   {
    "duration": 25,
    "start_time": "2022-05-22T12:53:07.565Z"
   },
   {
    "duration": 16,
    "start_time": "2022-05-22T12:53:07.592Z"
   },
   {
    "duration": 35,
    "start_time": "2022-05-22T12:53:07.610Z"
   },
   {
    "duration": 15,
    "start_time": "2022-05-22T12:53:07.648Z"
   },
   {
    "duration": 22,
    "start_time": "2022-05-22T12:53:07.665Z"
   },
   {
    "duration": 7,
    "start_time": "2022-05-22T12:53:07.689Z"
   },
   {
    "duration": 9,
    "start_time": "2022-05-22T12:53:07.698Z"
   },
   {
    "duration": 28,
    "start_time": "2022-05-22T12:53:07.708Z"
   },
   {
    "duration": 33,
    "start_time": "2022-05-22T12:53:07.744Z"
   },
   {
    "duration": 118,
    "start_time": "2022-05-22T12:53:07.833Z"
   },
   {
    "duration": 871,
    "start_time": "2022-05-22T12:53:07.954Z"
   },
   {
    "duration": 118,
    "start_time": "2022-05-22T12:53:08.827Z"
   },
   {
    "duration": 139,
    "start_time": "2022-05-22T12:53:08.949Z"
   },
   {
    "duration": 874,
    "start_time": "2022-05-22T12:53:09.090Z"
   },
   {
    "duration": 79,
    "start_time": "2022-05-22T12:53:09.968Z"
   },
   {
    "duration": 5,
    "start_time": "2022-05-22T12:53:10.050Z"
   },
   {
    "duration": 34,
    "start_time": "2022-05-22T12:53:10.057Z"
   },
   {
    "duration": 35,
    "start_time": "2022-05-22T12:53:10.095Z"
   },
   {
    "duration": 1332,
    "start_time": "2022-05-22T12:53:10.136Z"
   },
   {
    "duration": 201,
    "start_time": "2022-05-22T12:53:11.470Z"
   },
   {
    "duration": 4,
    "start_time": "2022-05-22T12:53:11.673Z"
   },
   {
    "duration": 13,
    "start_time": "2022-05-22T12:53:11.679Z"
   },
   {
    "duration": 9,
    "start_time": "2022-05-22T12:53:11.694Z"
   },
   {
    "duration": 9,
    "start_time": "2022-05-22T12:53:11.704Z"
   },
   {
    "duration": 1307,
    "start_time": "2022-05-22T13:04:36.755Z"
   },
   {
    "duration": 43,
    "start_time": "2022-05-22T13:04:38.064Z"
   },
   {
    "duration": 4,
    "start_time": "2022-05-22T13:04:38.109Z"
   },
   {
    "duration": 24,
    "start_time": "2022-05-22T13:04:38.115Z"
   },
   {
    "duration": 49,
    "start_time": "2022-05-22T13:04:38.142Z"
   },
   {
    "duration": 14,
    "start_time": "2022-05-22T13:04:38.192Z"
   },
   {
    "duration": 32,
    "start_time": "2022-05-22T13:04:38.208Z"
   },
   {
    "duration": 9,
    "start_time": "2022-05-22T13:04:38.245Z"
   },
   {
    "duration": 14,
    "start_time": "2022-05-22T13:04:38.255Z"
   },
   {
    "duration": 25,
    "start_time": "2022-05-22T13:04:38.272Z"
   },
   {
    "duration": 38,
    "start_time": "2022-05-22T13:04:38.299Z"
   },
   {
    "duration": 18,
    "start_time": "2022-05-22T13:04:38.341Z"
   },
   {
    "duration": 4,
    "start_time": "2022-05-22T13:04:38.360Z"
   },
   {
    "duration": 24,
    "start_time": "2022-05-22T13:04:38.366Z"
   },
   {
    "duration": 17,
    "start_time": "2022-05-22T13:04:38.392Z"
   },
   {
    "duration": 30,
    "start_time": "2022-05-22T13:04:38.411Z"
   },
   {
    "duration": 9,
    "start_time": "2022-05-22T13:04:38.444Z"
   },
   {
    "duration": 22,
    "start_time": "2022-05-22T13:04:38.455Z"
   },
   {
    "duration": 6,
    "start_time": "2022-05-22T13:04:38.478Z"
   },
   {
    "duration": 11,
    "start_time": "2022-05-22T13:04:38.486Z"
   },
   {
    "duration": 10,
    "start_time": "2022-05-22T13:04:38.499Z"
   },
   {
    "duration": 51,
    "start_time": "2022-05-22T13:04:38.511Z"
   },
   {
    "duration": 191,
    "start_time": "2022-05-22T13:04:38.564Z"
   },
   {
    "duration": 850,
    "start_time": "2022-05-22T13:04:38.758Z"
   },
   {
    "duration": 38,
    "start_time": "2022-05-22T13:04:39.609Z"
   },
   {
    "duration": 198,
    "start_time": "2022-05-22T13:04:39.649Z"
   },
   {
    "duration": 817,
    "start_time": "2022-05-22T13:04:39.849Z"
   },
   {
    "duration": 71,
    "start_time": "2022-05-22T13:04:40.670Z"
   },
   {
    "duration": 5,
    "start_time": "2022-05-22T13:04:40.743Z"
   },
   {
    "duration": 34,
    "start_time": "2022-05-22T13:04:40.750Z"
   },
   {
    "duration": 24,
    "start_time": "2022-05-22T13:04:40.785Z"
   },
   {
    "duration": 1288,
    "start_time": "2022-05-22T13:04:40.810Z"
   },
   {
    "duration": 201,
    "start_time": "2022-05-22T13:04:42.100Z"
   },
   {
    "duration": 5,
    "start_time": "2022-05-22T13:04:42.303Z"
   },
   {
    "duration": 23,
    "start_time": "2022-05-22T13:04:42.310Z"
   },
   {
    "duration": 17,
    "start_time": "2022-05-22T13:04:42.336Z"
   },
   {
    "duration": 8,
    "start_time": "2022-05-22T13:04:42.355Z"
   },
   {
    "duration": 1235386,
    "start_time": "2022-05-22T13:04:42.365Z"
   },
   {
    "duration": 5505,
    "start_time": "2022-05-22T13:25:17.753Z"
   },
   {
    "duration": 3623,
    "start_time": "2022-05-22T13:25:23.260Z"
   },
   {
    "duration": 150,
    "start_time": "2022-05-22T13:25:26.887Z"
   },
   {
    "duration": 17,
    "start_time": "2022-05-22T13:25:27.046Z"
   },
   {
    "duration": 3122,
    "start_time": "2022-05-22T13:25:27.065Z"
   },
   {
    "duration": 395570,
    "start_time": "2022-05-22T13:25:30.189Z"
   },
   {
    "duration": 4376,
    "start_time": "2022-05-22T13:32:05.761Z"
   },
   {
    "duration": 169,
    "start_time": "2022-05-22T13:32:10.139Z"
   },
   {
    "duration": 173,
    "start_time": "2022-05-22T13:32:10.311Z"
   },
   {
    "duration": 795,
    "start_time": "2022-05-22T13:33:12.100Z"
   },
   {
    "duration": 807,
    "start_time": "2022-05-22T13:35:11.767Z"
   },
   {
    "duration": 967,
    "start_time": "2022-05-22T13:36:11.055Z"
   },
   {
    "duration": 1267,
    "start_time": "2022-05-23T12:06:12.453Z"
   },
   {
    "duration": 41,
    "start_time": "2022-05-23T12:06:13.722Z"
   },
   {
    "duration": 3,
    "start_time": "2022-05-23T12:06:13.765Z"
   },
   {
    "duration": 15,
    "start_time": "2022-05-23T12:06:13.770Z"
   },
   {
    "duration": 43,
    "start_time": "2022-05-23T12:06:13.786Z"
   },
   {
    "duration": 31,
    "start_time": "2022-05-23T12:06:13.831Z"
   },
   {
    "duration": 15,
    "start_time": "2022-05-23T12:06:13.864Z"
   },
   {
    "duration": 13,
    "start_time": "2022-05-23T12:06:13.881Z"
   },
   {
    "duration": 10,
    "start_time": "2022-05-23T12:06:13.896Z"
   },
   {
    "duration": 8,
    "start_time": "2022-05-23T12:06:13.909Z"
   },
   {
    "duration": 40,
    "start_time": "2022-05-23T12:06:13.918Z"
   },
   {
    "duration": 16,
    "start_time": "2022-05-23T12:06:13.960Z"
   },
   {
    "duration": 2,
    "start_time": "2022-05-23T12:06:13.978Z"
   },
   {
    "duration": 23,
    "start_time": "2022-05-23T12:06:13.981Z"
   },
   {
    "duration": 10,
    "start_time": "2022-05-23T12:06:14.005Z"
   },
   {
    "duration": 51,
    "start_time": "2022-05-23T12:06:14.016Z"
   },
   {
    "duration": 6,
    "start_time": "2022-05-23T12:06:14.068Z"
   },
   {
    "duration": 22,
    "start_time": "2022-05-23T12:06:14.076Z"
   },
   {
    "duration": 5,
    "start_time": "2022-05-23T12:06:14.100Z"
   },
   {
    "duration": 11,
    "start_time": "2022-05-23T12:06:14.106Z"
   },
   {
    "duration": 35,
    "start_time": "2022-05-23T12:06:14.118Z"
   },
   {
    "duration": 98,
    "start_time": "2022-05-23T12:06:14.155Z"
   },
   {
    "duration": 122,
    "start_time": "2022-05-23T12:06:14.254Z"
   },
   {
    "duration": 865,
    "start_time": "2022-05-23T12:06:14.378Z"
   },
   {
    "duration": 112,
    "start_time": "2022-05-23T12:06:15.245Z"
   },
   {
    "duration": 138,
    "start_time": "2022-05-23T12:06:15.361Z"
   },
   {
    "duration": 879,
    "start_time": "2022-05-23T12:06:15.503Z"
   },
   {
    "duration": 72,
    "start_time": "2022-05-23T12:06:16.385Z"
   },
   {
    "duration": 3,
    "start_time": "2022-05-23T12:06:16.459Z"
   },
   {
    "duration": 24,
    "start_time": "2022-05-23T12:06:16.464Z"
   },
   {
    "duration": 18,
    "start_time": "2022-05-23T12:06:16.490Z"
   },
   {
    "duration": 1293,
    "start_time": "2022-05-23T12:06:16.509Z"
   },
   {
    "duration": 194,
    "start_time": "2022-05-23T12:06:17.804Z"
   },
   {
    "duration": 4,
    "start_time": "2022-05-23T12:06:17.999Z"
   },
   {
    "duration": 8,
    "start_time": "2022-05-23T12:06:18.004Z"
   },
   {
    "duration": 10,
    "start_time": "2022-05-23T12:06:18.014Z"
   },
   {
    "duration": 8,
    "start_time": "2022-05-23T12:06:18.026Z"
   },
   {
    "duration": 1226886,
    "start_time": "2022-05-23T12:06:18.035Z"
   },
   {
    "duration": 5547,
    "start_time": "2022-05-23T12:26:44.923Z"
   },
   {
    "duration": 3577,
    "start_time": "2022-05-23T12:26:50.472Z"
   },
   {
    "duration": 133,
    "start_time": "2022-05-23T12:26:54.052Z"
   },
   {
    "duration": 16,
    "start_time": "2022-05-23T12:26:54.187Z"
   },
   {
    "duration": 3142,
    "start_time": "2022-05-23T12:26:54.204Z"
   },
   {
    "duration": 392718,
    "start_time": "2022-05-23T12:26:57.352Z"
   },
   {
    "duration": 4111,
    "start_time": "2022-05-23T12:33:30.072Z"
   },
   {
    "duration": 131,
    "start_time": "2022-05-23T12:33:34.185Z"
   },
   {
    "duration": 839,
    "start_time": "2022-05-23T12:33:34.318Z"
   },
   {
    "duration": 1006,
    "start_time": "2022-05-23T12:33:35.159Z"
   },
   {
    "duration": 52,
    "start_time": "2022-05-23T12:37:31.138Z"
   },
   {
    "duration": 1775,
    "start_time": "2022-05-23T16:54:01.762Z"
   },
   {
    "duration": 94,
    "start_time": "2022-05-23T16:54:06.432Z"
   },
   {
    "duration": 3,
    "start_time": "2022-05-23T16:54:08.163Z"
   },
   {
    "duration": 19,
    "start_time": "2022-05-23T16:54:09.279Z"
   },
   {
    "duration": 39,
    "start_time": "2022-05-23T16:54:13.740Z"
   },
   {
    "duration": 15,
    "start_time": "2022-05-23T16:54:14.797Z"
   },
   {
    "duration": 13,
    "start_time": "2022-05-23T16:54:18.263Z"
   },
   {
    "duration": 6,
    "start_time": "2022-05-23T16:54:20.755Z"
   },
   {
    "duration": 8,
    "start_time": "2022-05-23T16:54:22.794Z"
   },
   {
    "duration": 6,
    "start_time": "2022-05-23T16:54:23.738Z"
   },
   {
    "duration": 18,
    "start_time": "2022-05-23T16:54:24.663Z"
   },
   {
    "duration": 20,
    "start_time": "2022-05-23T16:54:25.364Z"
   },
   {
    "duration": 2,
    "start_time": "2022-05-23T16:54:57.636Z"
   },
   {
    "duration": 15,
    "start_time": "2022-05-23T16:55:00.245Z"
   },
   {
    "duration": 17,
    "start_time": "2022-05-23T16:55:09.144Z"
   },
   {
    "duration": 13,
    "start_time": "2022-05-23T16:55:12.762Z"
   },
   {
    "duration": 11,
    "start_time": "2022-05-23T16:55:13.707Z"
   },
   {
    "duration": 6,
    "start_time": "2022-05-23T16:55:21.061Z"
   },
   {
    "duration": 8,
    "start_time": "2022-05-23T16:55:21.899Z"
   },
   {
    "duration": 3,
    "start_time": "2022-05-23T16:55:24.173Z"
   },
   {
    "duration": 35,
    "start_time": "2022-05-23T16:55:25.466Z"
   },
   {
    "duration": 64,
    "start_time": "2022-05-23T16:56:24.391Z"
   },
   {
    "duration": 33,
    "start_time": "2022-05-23T16:56:42.768Z"
   },
   {
    "duration": 30,
    "start_time": "2022-05-23T16:56:58.583Z"
   },
   {
    "duration": 23,
    "start_time": "2022-05-23T16:57:08.260Z"
   },
   {
    "duration": 34,
    "start_time": "2022-05-23T16:57:27.602Z"
   },
   {
    "duration": 24,
    "start_time": "2022-05-23T16:57:32.238Z"
   },
   {
    "duration": 32,
    "start_time": "2022-05-23T16:58:00.164Z"
   },
   {
    "duration": 27,
    "start_time": "2022-05-23T16:58:17.974Z"
   },
   {
    "duration": 30,
    "start_time": "2022-05-23T16:59:01.968Z"
   },
   {
    "duration": 8,
    "start_time": "2022-05-23T16:59:54.527Z"
   },
   {
    "duration": 7,
    "start_time": "2022-05-23T17:00:52.480Z"
   },
   {
    "duration": 8,
    "start_time": "2022-05-23T17:01:16.550Z"
   },
   {
    "duration": 28,
    "start_time": "2022-05-23T17:03:04.434Z"
   },
   {
    "duration": 73,
    "start_time": "2022-05-23T17:03:15.852Z"
   },
   {
    "duration": 33,
    "start_time": "2022-05-23T17:03:24.308Z"
   },
   {
    "duration": 68,
    "start_time": "2022-05-23T17:04:15.558Z"
   },
   {
    "duration": 1426,
    "start_time": "2022-05-23T17:05:40.062Z"
   },
   {
    "duration": 1414,
    "start_time": "2022-05-23T17:56:05.910Z"
   },
   {
    "duration": 59,
    "start_time": "2022-05-23T17:56:07.326Z"
   },
   {
    "duration": 3,
    "start_time": "2022-05-23T17:56:07.388Z"
   },
   {
    "duration": 23,
    "start_time": "2022-05-23T17:56:07.393Z"
   },
   {
    "duration": 48,
    "start_time": "2022-05-23T17:56:07.419Z"
   },
   {
    "duration": 24,
    "start_time": "2022-05-23T17:56:07.469Z"
   },
   {
    "duration": 29,
    "start_time": "2022-05-23T17:56:07.496Z"
   },
   {
    "duration": 10,
    "start_time": "2022-05-23T17:56:07.526Z"
   },
   {
    "duration": 14,
    "start_time": "2022-05-23T17:56:07.538Z"
   },
   {
    "duration": 15,
    "start_time": "2022-05-23T17:56:07.554Z"
   },
   {
    "duration": 46,
    "start_time": "2022-05-23T17:56:07.571Z"
   },
   {
    "duration": 19,
    "start_time": "2022-05-23T17:56:07.623Z"
   },
   {
    "duration": 3,
    "start_time": "2022-05-23T17:56:07.644Z"
   },
   {
    "duration": 22,
    "start_time": "2022-05-23T17:56:07.650Z"
   },
   {
    "duration": 16,
    "start_time": "2022-05-23T17:56:07.674Z"
   },
   {
    "duration": 39,
    "start_time": "2022-05-23T17:56:07.692Z"
   },
   {
    "duration": 14,
    "start_time": "2022-05-23T17:56:07.734Z"
   },
   {
    "duration": 8,
    "start_time": "2022-05-23T17:56:07.750Z"
   },
   {
    "duration": 8,
    "start_time": "2022-05-23T17:56:07.760Z"
   },
   {
    "duration": 57,
    "start_time": "2022-05-23T17:56:07.771Z"
   },
   {
    "duration": 8,
    "start_time": "2022-05-23T17:56:07.830Z"
   },
   {
    "duration": 190,
    "start_time": "2022-05-23T17:56:07.840Z"
   },
   {
    "duration": 136,
    "start_time": "2022-05-23T17:56:08.033Z"
   },
   {
    "duration": 1268,
    "start_time": "2022-05-23T17:56:08.171Z"
   },
   {
    "duration": 5,
    "start_time": "2022-05-23T17:56:09.441Z"
   },
   {
    "duration": 13,
    "start_time": "2022-05-23T17:56:09.447Z"
   },
   {
    "duration": 8,
    "start_time": "2022-05-23T17:56:09.462Z"
   },
   {
    "duration": 0,
    "start_time": "2022-05-23T17:56:09.472Z"
   },
   {
    "duration": 0,
    "start_time": "2022-05-23T17:56:09.473Z"
   },
   {
    "duration": 0,
    "start_time": "2022-05-23T17:56:09.475Z"
   },
   {
    "duration": 0,
    "start_time": "2022-05-23T17:56:09.476Z"
   },
   {
    "duration": 0,
    "start_time": "2022-05-23T17:56:09.476Z"
   },
   {
    "duration": 0,
    "start_time": "2022-05-23T17:56:09.478Z"
   },
   {
    "duration": 0,
    "start_time": "2022-05-23T17:56:09.479Z"
   },
   {
    "duration": 0,
    "start_time": "2022-05-23T17:56:09.481Z"
   },
   {
    "duration": 0,
    "start_time": "2022-05-23T17:56:09.482Z"
   },
   {
    "duration": 0,
    "start_time": "2022-05-23T17:56:09.483Z"
   },
   {
    "duration": 0,
    "start_time": "2022-05-23T17:56:09.484Z"
   },
   {
    "duration": 0,
    "start_time": "2022-05-23T17:56:09.485Z"
   },
   {
    "duration": 0,
    "start_time": "2022-05-23T17:56:09.486Z"
   },
   {
    "duration": 0,
    "start_time": "2022-05-23T17:56:09.487Z"
   },
   {
    "duration": 0,
    "start_time": "2022-05-23T17:56:09.488Z"
   },
   {
    "duration": 0,
    "start_time": "2022-05-23T17:56:09.524Z"
   },
   {
    "duration": 1509,
    "start_time": "2022-05-23T18:35:42.292Z"
   },
   {
    "duration": 54,
    "start_time": "2022-05-23T18:35:43.803Z"
   },
   {
    "duration": 3,
    "start_time": "2022-05-23T18:35:43.859Z"
   },
   {
    "duration": 14,
    "start_time": "2022-05-23T18:35:43.865Z"
   },
   {
    "duration": 56,
    "start_time": "2022-05-23T18:35:43.881Z"
   },
   {
    "duration": 16,
    "start_time": "2022-05-23T18:35:43.939Z"
   },
   {
    "duration": 51,
    "start_time": "2022-05-23T18:35:43.957Z"
   },
   {
    "duration": 8,
    "start_time": "2022-05-23T18:35:44.010Z"
   },
   {
    "duration": 11,
    "start_time": "2022-05-23T18:35:44.020Z"
   },
   {
    "duration": 14,
    "start_time": "2022-05-23T18:35:44.033Z"
   },
   {
    "duration": 21,
    "start_time": "2022-05-23T18:35:44.049Z"
   },
   {
    "duration": 25,
    "start_time": "2022-05-23T18:35:44.072Z"
   },
   {
    "duration": 3,
    "start_time": "2022-05-23T18:35:44.100Z"
   },
   {
    "duration": 16,
    "start_time": "2022-05-23T18:35:44.122Z"
   },
   {
    "duration": 24,
    "start_time": "2022-05-23T18:35:44.140Z"
   },
   {
    "duration": 17,
    "start_time": "2022-05-23T18:35:44.166Z"
   },
   {
    "duration": 6,
    "start_time": "2022-05-23T18:35:44.184Z"
   },
   {
    "duration": 6,
    "start_time": "2022-05-23T18:35:44.191Z"
   },
   {
    "duration": 3,
    "start_time": "2022-05-23T18:35:44.222Z"
   },
   {
    "duration": 30,
    "start_time": "2022-05-23T18:35:44.227Z"
   },
   {
    "duration": 7,
    "start_time": "2022-05-23T18:35:44.259Z"
   },
   {
    "duration": 64,
    "start_time": "2022-05-23T18:35:44.267Z"
   },
   {
    "duration": 222,
    "start_time": "2022-05-23T18:35:44.335Z"
   },
   {
    "duration": 1159,
    "start_time": "2022-05-23T18:35:44.559Z"
   },
   {
    "duration": 8,
    "start_time": "2022-05-23T18:35:45.720Z"
   },
   {
    "duration": 22,
    "start_time": "2022-05-23T18:35:45.730Z"
   },
   {
    "duration": 26,
    "start_time": "2022-05-23T18:35:45.754Z"
   },
   {
    "duration": 0,
    "start_time": "2022-05-23T18:35:45.783Z"
   },
   {
    "duration": 0,
    "start_time": "2022-05-23T18:35:45.785Z"
   },
   {
    "duration": 0,
    "start_time": "2022-05-23T18:35:45.787Z"
   },
   {
    "duration": 0,
    "start_time": "2022-05-23T18:35:45.788Z"
   },
   {
    "duration": 0,
    "start_time": "2022-05-23T18:35:45.790Z"
   },
   {
    "duration": 0,
    "start_time": "2022-05-23T18:35:45.791Z"
   },
   {
    "duration": 0,
    "start_time": "2022-05-23T18:35:45.793Z"
   },
   {
    "duration": 0,
    "start_time": "2022-05-23T18:35:45.794Z"
   },
   {
    "duration": 0,
    "start_time": "2022-05-23T18:35:45.796Z"
   },
   {
    "duration": 0,
    "start_time": "2022-05-23T18:35:45.797Z"
   },
   {
    "duration": 0,
    "start_time": "2022-05-23T18:35:45.798Z"
   },
   {
    "duration": 0,
    "start_time": "2022-05-23T18:35:45.800Z"
   },
   {
    "duration": 0,
    "start_time": "2022-05-23T18:35:45.803Z"
   },
   {
    "duration": 0,
    "start_time": "2022-05-23T18:35:45.804Z"
   },
   {
    "duration": 0,
    "start_time": "2022-05-23T18:35:45.806Z"
   },
   {
    "duration": 0,
    "start_time": "2022-05-23T18:35:45.807Z"
   },
   {
    "duration": 33,
    "start_time": "2022-05-23T18:37:10.435Z"
   },
   {
    "duration": 27,
    "start_time": "2022-05-23T18:37:59.280Z"
   },
   {
    "duration": 24,
    "start_time": "2022-05-23T18:38:07.354Z"
   },
   {
    "duration": 23,
    "start_time": "2022-05-23T18:38:13.784Z"
   },
   {
    "duration": 73,
    "start_time": "2022-05-23T18:38:32.699Z"
   },
   {
    "duration": 32,
    "start_time": "2022-05-23T18:42:30.927Z"
   },
   {
    "duration": 19,
    "start_time": "2022-05-23T18:42:42.263Z"
   },
   {
    "duration": 24,
    "start_time": "2022-05-23T18:42:56.719Z"
   },
   {
    "duration": 26,
    "start_time": "2022-05-23T18:43:15.707Z"
   },
   {
    "duration": 4,
    "start_time": "2022-05-23T18:45:07.411Z"
   },
   {
    "duration": 3,
    "start_time": "2022-05-23T18:45:35.261Z"
   },
   {
    "duration": 1130889,
    "start_time": "2022-05-23T18:45:42.416Z"
   },
   {
    "duration": 1378,
    "start_time": "2022-05-23T19:19:51.897Z"
   },
   {
    "duration": 52,
    "start_time": "2022-05-23T19:19:53.277Z"
   },
   {
    "duration": 3,
    "start_time": "2022-05-23T19:19:53.331Z"
   },
   {
    "duration": 16,
    "start_time": "2022-05-23T19:19:53.335Z"
   },
   {
    "duration": 40,
    "start_time": "2022-05-23T19:19:53.352Z"
   },
   {
    "duration": 35,
    "start_time": "2022-05-23T19:19:53.393Z"
   },
   {
    "duration": 15,
    "start_time": "2022-05-23T19:19:53.430Z"
   },
   {
    "duration": 7,
    "start_time": "2022-05-23T19:19:53.447Z"
   },
   {
    "duration": 6,
    "start_time": "2022-05-23T19:19:53.455Z"
   },
   {
    "duration": 8,
    "start_time": "2022-05-23T19:19:53.463Z"
   },
   {
    "duration": 25,
    "start_time": "2022-05-23T19:19:53.472Z"
   },
   {
    "duration": 40,
    "start_time": "2022-05-23T19:19:53.498Z"
   },
   {
    "duration": 2,
    "start_time": "2022-05-23T19:19:53.539Z"
   },
   {
    "duration": 19,
    "start_time": "2022-05-23T19:19:53.543Z"
   },
   {
    "duration": 14,
    "start_time": "2022-05-23T19:19:53.564Z"
   },
   {
    "duration": 14,
    "start_time": "2022-05-23T19:19:53.580Z"
   },
   {
    "duration": 28,
    "start_time": "2022-05-23T19:19:53.595Z"
   },
   {
    "duration": 6,
    "start_time": "2022-05-23T19:19:53.625Z"
   },
   {
    "duration": 6,
    "start_time": "2022-05-23T19:19:53.633Z"
   },
   {
    "duration": 28,
    "start_time": "2022-05-23T19:19:53.640Z"
   },
   {
    "duration": 6,
    "start_time": "2022-05-23T19:19:53.670Z"
   },
   {
    "duration": 148,
    "start_time": "2022-05-23T19:19:53.677Z"
   },
   {
    "duration": 147,
    "start_time": "2022-05-23T19:19:53.826Z"
   },
   {
    "duration": 1129,
    "start_time": "2022-05-23T19:19:53.974Z"
   },
   {
    "duration": 5,
    "start_time": "2022-05-23T19:19:55.105Z"
   },
   {
    "duration": 6,
    "start_time": "2022-05-23T19:19:55.112Z"
   },
   {
    "duration": 5,
    "start_time": "2022-05-23T19:19:55.123Z"
   },
   {
    "duration": 1098595,
    "start_time": "2022-05-23T19:19:55.132Z"
   },
   {
    "duration": 4856,
    "start_time": "2022-05-23T19:38:13.729Z"
   },
   {
    "duration": 0,
    "start_time": "2022-05-23T19:38:18.586Z"
   },
   {
    "duration": 0,
    "start_time": "2022-05-23T19:38:18.588Z"
   },
   {
    "duration": 0,
    "start_time": "2022-05-23T19:38:18.589Z"
   },
   {
    "duration": 0,
    "start_time": "2022-05-23T19:38:18.590Z"
   },
   {
    "duration": 0,
    "start_time": "2022-05-23T19:38:18.591Z"
   },
   {
    "duration": 0,
    "start_time": "2022-05-23T19:38:18.592Z"
   },
   {
    "duration": 0,
    "start_time": "2022-05-23T19:38:18.593Z"
   },
   {
    "duration": 0,
    "start_time": "2022-05-23T19:38:18.594Z"
   },
   {
    "duration": 0,
    "start_time": "2022-05-23T19:38:18.596Z"
   },
   {
    "duration": 0,
    "start_time": "2022-05-23T19:38:18.597Z"
   },
   {
    "duration": 0,
    "start_time": "2022-05-23T19:38:18.598Z"
   },
   {
    "duration": 0,
    "start_time": "2022-05-23T19:38:18.623Z"
   },
   {
    "duration": 0,
    "start_time": "2022-05-23T19:38:18.625Z"
   },
   {
    "duration": 0,
    "start_time": "2022-05-23T19:38:18.626Z"
   },
   {
    "duration": 3348,
    "start_time": "2022-05-23T19:39:41.922Z"
   },
   {
    "duration": 3951,
    "start_time": "2022-05-23T19:40:15.999Z"
   },
   {
    "duration": 2713,
    "start_time": "2022-05-23T19:40:46.386Z"
   },
   {
    "duration": 3309,
    "start_time": "2022-05-23T19:41:00.771Z"
   },
   {
    "duration": 18,
    "start_time": "2022-05-23T19:41:22.162Z"
   },
   {
    "duration": 2713,
    "start_time": "2022-05-23T19:41:31.267Z"
   },
   {
    "duration": 2108,
    "start_time": "2022-05-23T19:42:00.778Z"
   },
   {
    "duration": 1997,
    "start_time": "2022-05-23T19:43:18.511Z"
   },
   {
    "duration": 2080,
    "start_time": "2022-05-23T19:43:45.655Z"
   },
   {
    "duration": 269732,
    "start_time": "2022-05-23T19:44:56.300Z"
   },
   {
    "duration": 2991,
    "start_time": "2022-05-23T19:56:47.098Z"
   },
   {
    "duration": 3462,
    "start_time": "2022-05-23T19:57:17.402Z"
   },
   {
    "duration": 31,
    "start_time": "2022-05-23T20:03:04.160Z"
   },
   {
    "duration": 109,
    "start_time": "2022-05-23T20:04:20.714Z"
   },
   {
    "duration": 56,
    "start_time": "2022-05-23T20:05:17.833Z"
   },
   {
    "duration": 1057,
    "start_time": "2022-05-23T20:06:48.485Z"
   },
   {
    "duration": 12,
    "start_time": "2022-05-23T20:07:18.286Z"
   },
   {
    "duration": 4,
    "start_time": "2022-05-23T20:07:49.317Z"
   },
   {
    "duration": 23,
    "start_time": "2022-05-23T20:07:50.083Z"
   },
   {
    "duration": 2,
    "start_time": "2022-05-23T20:07:59.167Z"
   },
   {
    "duration": 1624,
    "start_time": "2022-05-23T20:10:41.131Z"
   },
   {
    "duration": 3481,
    "start_time": "2022-05-23T20:14:12.625Z"
   },
   {
    "duration": 5,
    "start_time": "2022-05-23T20:14:36.340Z"
   },
   {
    "duration": 24,
    "start_time": "2022-05-23T20:14:40.764Z"
   },
   {
    "duration": 5,
    "start_time": "2022-05-23T20:18:02.161Z"
   },
   {
    "duration": 26,
    "start_time": "2022-05-23T20:18:03.369Z"
   },
   {
    "duration": 2,
    "start_time": "2022-05-23T20:18:07.454Z"
   },
   {
    "duration": 763,
    "start_time": "2022-05-23T20:19:46.556Z"
   },
   {
    "duration": 1434,
    "start_time": "2022-05-23T20:50:14.746Z"
   },
   {
    "duration": 64,
    "start_time": "2022-05-23T20:50:16.183Z"
   },
   {
    "duration": 3,
    "start_time": "2022-05-23T20:50:16.249Z"
   },
   {
    "duration": 16,
    "start_time": "2022-05-23T20:50:16.254Z"
   },
   {
    "duration": 62,
    "start_time": "2022-05-23T20:50:16.272Z"
   },
   {
    "duration": 14,
    "start_time": "2022-05-23T20:50:16.337Z"
   },
   {
    "duration": 14,
    "start_time": "2022-05-23T20:50:16.353Z"
   },
   {
    "duration": 7,
    "start_time": "2022-05-23T20:50:16.368Z"
   },
   {
    "duration": 10,
    "start_time": "2022-05-23T20:50:16.377Z"
   },
   {
    "duration": 38,
    "start_time": "2022-05-23T20:50:16.389Z"
   },
   {
    "duration": 24,
    "start_time": "2022-05-23T20:50:16.430Z"
   },
   {
    "duration": 15,
    "start_time": "2022-05-23T20:50:16.455Z"
   },
   {
    "duration": 2,
    "start_time": "2022-05-23T20:50:16.472Z"
   },
   {
    "duration": 17,
    "start_time": "2022-05-23T20:50:16.475Z"
   },
   {
    "duration": 45,
    "start_time": "2022-05-23T20:50:16.493Z"
   },
   {
    "duration": 15,
    "start_time": "2022-05-23T20:50:16.540Z"
   },
   {
    "duration": 8,
    "start_time": "2022-05-23T20:50:16.557Z"
   },
   {
    "duration": 7,
    "start_time": "2022-05-23T20:50:16.567Z"
   },
   {
    "duration": 2,
    "start_time": "2022-05-23T20:50:16.576Z"
   },
   {
    "duration": 66,
    "start_time": "2022-05-23T20:50:16.580Z"
   },
   {
    "duration": 7,
    "start_time": "2022-05-23T20:50:16.648Z"
   },
   {
    "duration": 75,
    "start_time": "2022-05-23T20:50:16.657Z"
   },
   {
    "duration": 144,
    "start_time": "2022-05-23T20:50:16.735Z"
   },
   {
    "duration": 1279,
    "start_time": "2022-05-23T20:50:16.881Z"
   },
   {
    "duration": 5,
    "start_time": "2022-05-23T20:50:18.161Z"
   },
   {
    "duration": 8,
    "start_time": "2022-05-23T20:50:18.167Z"
   },
   {
    "duration": 6,
    "start_time": "2022-05-23T20:50:18.176Z"
   },
   {
    "duration": 1084102,
    "start_time": "2022-05-23T20:50:18.185Z"
   },
   {
    "duration": 3834,
    "start_time": "2022-05-23T21:08:22.289Z"
   },
   {
    "duration": 3273,
    "start_time": "2022-05-23T21:08:26.125Z"
   },
   {
    "duration": 23,
    "start_time": "2022-05-23T21:08:29.400Z"
   },
   {
    "duration": 2691,
    "start_time": "2022-05-23T21:08:29.424Z"
   },
   {
    "duration": 262341,
    "start_time": "2022-05-23T21:08:32.117Z"
   },
   {
    "duration": 3447,
    "start_time": "2022-05-23T21:12:54.460Z"
   },
   {
    "duration": 42,
    "start_time": "2022-05-23T21:12:57.908Z"
   },
   {
    "duration": 138,
    "start_time": "2022-05-23T21:12:58.025Z"
   },
   {
    "duration": 3529,
    "start_time": "2022-05-23T21:12:58.164Z"
   },
   {
    "duration": 4,
    "start_time": "2022-05-23T21:13:01.695Z"
   },
   {
    "duration": 43,
    "start_time": "2022-05-23T21:13:01.701Z"
   },
   {
    "duration": 11,
    "start_time": "2022-05-23T21:13:01.746Z"
   },
   {
    "duration": 754,
    "start_time": "2022-05-23T21:13:01.759Z"
   },
   {
    "duration": 1494,
    "start_time": "2022-05-24T02:27:55.492Z"
   },
   {
    "duration": 109,
    "start_time": "2022-05-24T02:27:56.987Z"
   },
   {
    "duration": 2,
    "start_time": "2022-05-24T02:27:57.098Z"
   },
   {
    "duration": 15,
    "start_time": "2022-05-24T02:27:57.102Z"
   },
   {
    "duration": 40,
    "start_time": "2022-05-24T02:27:57.119Z"
   },
   {
    "duration": 13,
    "start_time": "2022-05-24T02:27:57.161Z"
   },
   {
    "duration": 12,
    "start_time": "2022-05-24T02:27:57.175Z"
   },
   {
    "duration": 8,
    "start_time": "2022-05-24T02:27:57.189Z"
   },
   {
    "duration": 29,
    "start_time": "2022-05-24T02:27:57.199Z"
   },
   {
    "duration": 8,
    "start_time": "2022-05-24T02:27:57.232Z"
   },
   {
    "duration": 39,
    "start_time": "2022-05-24T02:27:57.241Z"
   },
   {
    "duration": 19,
    "start_time": "2022-05-24T02:27:57.282Z"
   },
   {
    "duration": 11,
    "start_time": "2022-05-24T02:27:57.303Z"
   },
   {
    "duration": 26,
    "start_time": "2022-05-24T02:27:57.315Z"
   },
   {
    "duration": 14,
    "start_time": "2022-05-24T02:27:57.343Z"
   },
   {
    "duration": 12,
    "start_time": "2022-05-24T02:27:57.359Z"
   },
   {
    "duration": 7,
    "start_time": "2022-05-24T02:27:57.372Z"
   },
   {
    "duration": 9,
    "start_time": "2022-05-24T02:27:57.381Z"
   },
   {
    "duration": 7,
    "start_time": "2022-05-24T02:27:57.392Z"
   },
   {
    "duration": 47,
    "start_time": "2022-05-24T02:27:57.401Z"
   },
   {
    "duration": 8,
    "start_time": "2022-05-24T02:27:57.451Z"
   },
   {
    "duration": 72,
    "start_time": "2022-05-24T02:27:57.461Z"
   },
   {
    "duration": 125,
    "start_time": "2022-05-24T02:27:57.535Z"
   },
   {
    "duration": 1062,
    "start_time": "2022-05-24T02:27:57.662Z"
   },
   {
    "duration": 5,
    "start_time": "2022-05-24T02:27:58.727Z"
   },
   {
    "duration": 8,
    "start_time": "2022-05-24T02:27:58.733Z"
   },
   {
    "duration": 11,
    "start_time": "2022-05-24T02:27:58.742Z"
   },
   {
    "duration": 1047090,
    "start_time": "2022-05-24T02:27:58.755Z"
   },
   {
    "duration": 3894,
    "start_time": "2022-05-24T02:45:25.848Z"
   },
   {
    "duration": 3328,
    "start_time": "2022-05-24T02:45:29.745Z"
   },
   {
    "duration": 15,
    "start_time": "2022-05-24T02:45:33.075Z"
   },
   {
    "duration": 2792,
    "start_time": "2022-05-24T02:45:33.091Z"
   },
   {
    "duration": 276410,
    "start_time": "2022-05-24T02:45:35.884Z"
   },
   {
    "duration": 4270,
    "start_time": "2022-05-24T02:50:12.295Z"
   },
   {
    "duration": 74,
    "start_time": "2022-05-24T02:50:16.571Z"
   },
   {
    "duration": 164,
    "start_time": "2022-05-24T02:50:16.649Z"
   },
   {
    "duration": 4264,
    "start_time": "2022-05-24T02:50:16.814Z"
   },
   {
    "duration": 5,
    "start_time": "2022-05-24T02:50:21.080Z"
   },
   {
    "duration": 28,
    "start_time": "2022-05-24T02:50:21.087Z"
   },
   {
    "duration": 3,
    "start_time": "2022-05-24T02:50:21.128Z"
   },
   {
    "duration": 927,
    "start_time": "2022-05-24T02:50:21.133Z"
   },
   {
    "duration": 120,
    "start_time": "2022-05-24T03:10:26.770Z"
   },
   {
    "duration": 6,
    "start_time": "2022-05-24T03:10:36.125Z"
   },
   {
    "duration": 1606,
    "start_time": "2022-05-24T16:13:43.413Z"
   },
   {
    "duration": 119,
    "start_time": "2022-05-24T16:13:45.021Z"
   },
   {
    "duration": 3,
    "start_time": "2022-05-24T16:13:45.143Z"
   },
   {
    "duration": 22,
    "start_time": "2022-05-24T16:13:45.148Z"
   },
   {
    "duration": 45,
    "start_time": "2022-05-24T16:13:45.175Z"
   },
   {
    "duration": 13,
    "start_time": "2022-05-24T16:13:45.222Z"
   },
   {
    "duration": 18,
    "start_time": "2022-05-24T16:13:45.237Z"
   },
   {
    "duration": 10,
    "start_time": "2022-05-24T16:13:45.266Z"
   },
   {
    "duration": 29,
    "start_time": "2022-05-24T16:13:45.278Z"
   },
   {
    "duration": 8,
    "start_time": "2022-05-24T16:13:45.309Z"
   },
   {
    "duration": 21,
    "start_time": "2022-05-24T16:13:45.318Z"
   },
   {
    "duration": 27,
    "start_time": "2022-05-24T16:13:45.341Z"
   },
   {
    "duration": 3,
    "start_time": "2022-05-24T16:13:45.369Z"
   },
   {
    "duration": 22,
    "start_time": "2022-05-24T16:13:45.377Z"
   },
   {
    "duration": 16,
    "start_time": "2022-05-24T16:13:45.402Z"
   },
   {
    "duration": 16,
    "start_time": "2022-05-24T16:13:45.421Z"
   },
   {
    "duration": 29,
    "start_time": "2022-05-24T16:13:45.439Z"
   },
   {
    "duration": 16,
    "start_time": "2022-05-24T16:13:45.469Z"
   },
   {
    "duration": 15,
    "start_time": "2022-05-24T16:13:45.486Z"
   },
   {
    "duration": 141,
    "start_time": "2022-05-24T16:13:45.503Z"
   },
   {
    "duration": 0,
    "start_time": "2022-05-24T16:13:45.647Z"
   },
   {
    "duration": 0,
    "start_time": "2022-05-24T16:13:45.648Z"
   },
   {
    "duration": 0,
    "start_time": "2022-05-24T16:13:45.649Z"
   },
   {
    "duration": 0,
    "start_time": "2022-05-24T16:13:45.650Z"
   },
   {
    "duration": 0,
    "start_time": "2022-05-24T16:13:45.651Z"
   },
   {
    "duration": 0,
    "start_time": "2022-05-24T16:13:45.652Z"
   },
   {
    "duration": 0,
    "start_time": "2022-05-24T16:13:45.666Z"
   },
   {
    "duration": 0,
    "start_time": "2022-05-24T16:13:45.667Z"
   },
   {
    "duration": 0,
    "start_time": "2022-05-24T16:13:45.668Z"
   },
   {
    "duration": 0,
    "start_time": "2022-05-24T16:13:45.669Z"
   },
   {
    "duration": 0,
    "start_time": "2022-05-24T16:13:45.670Z"
   },
   {
    "duration": 0,
    "start_time": "2022-05-24T16:13:45.671Z"
   },
   {
    "duration": 0,
    "start_time": "2022-05-24T16:13:45.671Z"
   },
   {
    "duration": 0,
    "start_time": "2022-05-24T16:13:45.672Z"
   },
   {
    "duration": 0,
    "start_time": "2022-05-24T16:13:45.673Z"
   },
   {
    "duration": 0,
    "start_time": "2022-05-24T16:13:45.674Z"
   },
   {
    "duration": 0,
    "start_time": "2022-05-24T16:13:45.675Z"
   },
   {
    "duration": 0,
    "start_time": "2022-05-24T16:13:45.676Z"
   },
   {
    "duration": 0,
    "start_time": "2022-05-24T16:13:45.677Z"
   },
   {
    "duration": 0,
    "start_time": "2022-05-24T16:13:45.678Z"
   },
   {
    "duration": 0,
    "start_time": "2022-05-24T16:13:45.679Z"
   },
   {
    "duration": 0,
    "start_time": "2022-05-24T16:13:45.680Z"
   },
   {
    "duration": 0,
    "start_time": "2022-05-24T16:13:45.681Z"
   },
   {
    "duration": 0,
    "start_time": "2022-05-24T16:13:45.682Z"
   },
   {
    "duration": 0,
    "start_time": "2022-05-24T16:13:45.683Z"
   },
   {
    "duration": 0,
    "start_time": "2022-05-24T16:13:45.684Z"
   },
   {
    "duration": 0,
    "start_time": "2022-05-24T16:13:45.685Z"
   },
   {
    "duration": 1,
    "start_time": "2022-05-24T16:13:45.685Z"
   },
   {
    "duration": 0,
    "start_time": "2022-05-24T16:13:45.686Z"
   },
   {
    "duration": 0,
    "start_time": "2022-05-24T16:13:45.688Z"
   },
   {
    "duration": 0,
    "start_time": "2022-05-24T16:13:45.689Z"
   },
   {
    "duration": 1,
    "start_time": "2022-05-24T16:13:45.689Z"
   },
   {
    "duration": 36,
    "start_time": "2022-05-24T16:16:07.795Z"
   },
   {
    "duration": 37,
    "start_time": "2022-05-24T16:18:04.290Z"
   },
   {
    "duration": 10,
    "start_time": "2022-05-24T16:18:57.307Z"
   },
   {
    "duration": 1701,
    "start_time": "2022-05-24T16:19:12.330Z"
   },
   {
    "duration": 86,
    "start_time": "2022-05-24T16:19:14.032Z"
   },
   {
    "duration": 4,
    "start_time": "2022-05-24T16:19:14.120Z"
   },
   {
    "duration": 121,
    "start_time": "2022-05-24T16:19:14.126Z"
   },
   {
    "duration": 73,
    "start_time": "2022-05-24T16:19:14.250Z"
   },
   {
    "duration": 26,
    "start_time": "2022-05-24T16:19:14.326Z"
   },
   {
    "duration": 31,
    "start_time": "2022-05-24T16:19:14.354Z"
   },
   {
    "duration": 52,
    "start_time": "2022-05-24T16:19:14.387Z"
   },
   {
    "duration": 10,
    "start_time": "2022-05-24T16:19:14.441Z"
   },
   {
    "duration": 22,
    "start_time": "2022-05-24T16:19:14.454Z"
   },
   {
    "duration": 69,
    "start_time": "2022-05-24T16:19:14.477Z"
   },
   {
    "duration": 30,
    "start_time": "2022-05-24T16:19:14.549Z"
   },
   {
    "duration": 79,
    "start_time": "2022-05-24T16:19:14.586Z"
   },
   {
    "duration": 88,
    "start_time": "2022-05-24T16:19:14.667Z"
   },
   {
    "duration": 70,
    "start_time": "2022-05-24T16:19:14.758Z"
   },
   {
    "duration": 14,
    "start_time": "2022-05-24T16:19:14.830Z"
   },
   {
    "duration": 12,
    "start_time": "2022-05-24T16:19:14.846Z"
   },
   {
    "duration": 9,
    "start_time": "2022-05-24T16:19:14.861Z"
   },
   {
    "duration": 59,
    "start_time": "2022-05-24T16:19:14.872Z"
   },
   {
    "duration": 62,
    "start_time": "2022-05-24T16:19:14.934Z"
   },
   {
    "duration": 16,
    "start_time": "2022-05-24T16:19:14.999Z"
   },
   {
    "duration": 173,
    "start_time": "2022-05-24T16:19:15.019Z"
   },
   {
    "duration": 85,
    "start_time": "2022-05-24T16:19:15.204Z"
   },
   {
    "duration": 1501,
    "start_time": "2022-05-24T16:19:15.305Z"
   },
   {
    "duration": 10,
    "start_time": "2022-05-24T16:19:16.812Z"
   },
   {
    "duration": 8,
    "start_time": "2022-05-24T16:19:16.825Z"
   },
   {
    "duration": 16,
    "start_time": "2022-05-24T16:19:16.835Z"
   },
   {
    "duration": 1181390,
    "start_time": "2022-05-24T16:19:16.857Z"
   },
   {
    "duration": 4187,
    "start_time": "2022-05-24T16:38:58.249Z"
   },
   {
    "duration": 3620,
    "start_time": "2022-05-24T16:39:02.438Z"
   },
   {
    "duration": 6,
    "start_time": "2022-05-24T16:39:06.060Z"
   },
   {
    "duration": 19,
    "start_time": "2022-05-24T16:39:06.068Z"
   },
   {
    "duration": 3190,
    "start_time": "2022-05-24T16:39:06.088Z"
   },
   {
    "duration": 280840,
    "start_time": "2022-05-24T16:39:09.288Z"
   },
   {
    "duration": 3876,
    "start_time": "2022-05-24T16:43:50.129Z"
   },
   {
    "duration": 69,
    "start_time": "2022-05-24T16:43:54.006Z"
   },
   {
    "duration": 134,
    "start_time": "2022-05-24T16:43:54.077Z"
   },
   {
    "duration": 3613,
    "start_time": "2022-05-24T16:43:54.213Z"
   },
   {
    "duration": 4,
    "start_time": "2022-05-24T16:43:57.828Z"
   },
   {
    "duration": 37,
    "start_time": "2022-05-24T16:43:57.834Z"
   },
   {
    "duration": 2,
    "start_time": "2022-05-24T16:43:57.881Z"
   },
   {
    "duration": 10,
    "start_time": "2022-05-24T16:43:57.885Z"
   },
   {
    "duration": 11,
    "start_time": "2022-05-24T16:43:57.897Z"
   },
   {
    "duration": 7,
    "start_time": "2022-05-24T16:43:57.910Z"
   },
   {
    "duration": 595052,
    "start_time": "2022-05-24T16:43:57.919Z"
   },
   {
    "duration": 0,
    "start_time": "2022-05-24T16:53:52.978Z"
   },
   {
    "duration": 0,
    "start_time": "2022-05-24T16:53:52.979Z"
   },
   {
    "duration": 0,
    "start_time": "2022-05-24T16:53:52.982Z"
   },
   {
    "duration": 0,
    "start_time": "2022-05-24T16:53:52.985Z"
   },
   {
    "duration": 0,
    "start_time": "2022-05-24T16:53:52.986Z"
   },
   {
    "duration": 0,
    "start_time": "2022-05-24T16:53:52.987Z"
   },
   {
    "duration": 0,
    "start_time": "2022-05-24T16:53:52.988Z"
   },
   {
    "duration": 1434313,
    "start_time": "2022-05-24T16:53:55.727Z"
   },
   {
    "duration": 0,
    "start_time": "2022-05-24T17:17:50.041Z"
   },
   {
    "duration": 0,
    "start_time": "2022-05-24T17:17:50.042Z"
   },
   {
    "duration": 0,
    "start_time": "2022-05-24T17:17:50.044Z"
   },
   {
    "duration": 1801193,
    "start_time": "2022-05-24T17:17:55.600Z"
   },
   {
    "duration": 5941,
    "start_time": "2022-05-24T17:47:56.798Z"
   },
   {
    "duration": 9076,
    "start_time": "2022-05-24T17:59:21.294Z"
   },
   {
    "duration": 7406,
    "start_time": "2022-05-24T18:03:29.491Z"
   },
   {
    "duration": 7584,
    "start_time": "2022-05-24T18:04:29.751Z"
   },
   {
    "duration": 5324,
    "start_time": "2022-05-24T18:05:04.233Z"
   },
   {
    "duration": 7336,
    "start_time": "2022-05-24T18:05:17.366Z"
   },
   {
    "duration": 8293,
    "start_time": "2022-05-24T18:05:31.226Z"
   },
   {
    "duration": 52,
    "start_time": "2022-05-24T18:07:31.998Z"
   },
   {
    "duration": 2940,
    "start_time": "2022-05-24T18:07:33.317Z"
   },
   {
    "duration": 43290,
    "start_time": "2022-05-24T18:07:59.315Z"
   },
   {
    "duration": 0,
    "start_time": "2022-05-24T18:08:42.608Z"
   },
   {
    "duration": 3862,
    "start_time": "2022-05-24T18:08:45.600Z"
   },
   {
    "duration": 3401,
    "start_time": "2022-05-24T18:09:25.291Z"
   },
   {
    "duration": 3097,
    "start_time": "2022-05-24T18:11:16.987Z"
   },
   {
    "duration": 594492,
    "start_time": "2022-05-24T18:12:48.012Z"
   },
   {
    "duration": 4479,
    "start_time": "2022-05-24T18:26:21.326Z"
   },
   {
    "duration": 1419,
    "start_time": "2022-05-25T02:25:01.758Z"
   },
   {
    "duration": 106,
    "start_time": "2022-05-25T02:25:03.179Z"
   },
   {
    "duration": 4,
    "start_time": "2022-05-25T02:25:03.287Z"
   },
   {
    "duration": 18,
    "start_time": "2022-05-25T02:25:03.293Z"
   },
   {
    "duration": 42,
    "start_time": "2022-05-25T02:25:03.313Z"
   },
   {
    "duration": 13,
    "start_time": "2022-05-25T02:25:03.357Z"
   },
   {
    "duration": 19,
    "start_time": "2022-05-25T02:25:03.371Z"
   },
   {
    "duration": 10,
    "start_time": "2022-05-25T02:25:03.392Z"
   },
   {
    "duration": 8,
    "start_time": "2022-05-25T02:25:03.403Z"
   },
   {
    "duration": 6,
    "start_time": "2022-05-25T02:25:03.426Z"
   },
   {
    "duration": 22,
    "start_time": "2022-05-25T02:25:03.434Z"
   },
   {
    "duration": 17,
    "start_time": "2022-05-25T02:25:03.458Z"
   },
   {
    "duration": 52,
    "start_time": "2022-05-25T02:25:03.476Z"
   },
   {
    "duration": 20,
    "start_time": "2022-05-25T02:25:03.530Z"
   },
   {
    "duration": 82,
    "start_time": "2022-05-25T02:25:03.552Z"
   },
   {
    "duration": 11,
    "start_time": "2022-05-25T02:25:03.636Z"
   },
   {
    "duration": 7,
    "start_time": "2022-05-25T02:25:03.649Z"
   },
   {
    "duration": 69,
    "start_time": "2022-05-25T02:25:03.658Z"
   },
   {
    "duration": 2,
    "start_time": "2022-05-25T02:25:03.729Z"
   },
   {
    "duration": 35,
    "start_time": "2022-05-25T02:25:03.733Z"
   },
   {
    "duration": 64,
    "start_time": "2022-05-25T02:25:03.769Z"
   },
   {
    "duration": 292,
    "start_time": "2022-05-25T02:25:03.835Z"
   },
   {
    "duration": 133,
    "start_time": "2022-05-25T02:25:04.130Z"
   },
   {
    "duration": 1501,
    "start_time": "2022-05-25T02:25:04.265Z"
   },
   {
    "duration": 4,
    "start_time": "2022-05-25T02:25:05.768Z"
   },
   {
    "duration": 6,
    "start_time": "2022-05-25T02:25:05.774Z"
   },
   {
    "duration": 6,
    "start_time": "2022-05-25T02:25:05.782Z"
   },
   {
    "duration": 1058136,
    "start_time": "2022-05-25T02:25:05.792Z"
   },
   {
    "duration": 3732,
    "start_time": "2022-05-25T02:42:43.930Z"
   },
   {
    "duration": 3007,
    "start_time": "2022-05-25T02:42:47.664Z"
   },
   {
    "duration": 5,
    "start_time": "2022-05-25T02:42:50.672Z"
   },
   {
    "duration": 21,
    "start_time": "2022-05-25T02:42:50.680Z"
   },
   {
    "duration": 2620,
    "start_time": "2022-05-25T02:42:50.703Z"
   },
   {
    "duration": 251313,
    "start_time": "2022-05-25T02:42:53.324Z"
   },
   {
    "duration": 3310,
    "start_time": "2022-05-25T02:47:04.639Z"
   },
   {
    "duration": 80,
    "start_time": "2022-05-25T02:47:07.950Z"
   },
   {
    "duration": 138,
    "start_time": "2022-05-25T02:47:08.033Z"
   },
   {
    "duration": 3225,
    "start_time": "2022-05-25T02:47:08.173Z"
   },
   {
    "duration": 4,
    "start_time": "2022-05-25T02:47:11.400Z"
   },
   {
    "duration": 34,
    "start_time": "2022-05-25T02:47:11.406Z"
   },
   {
    "duration": 10,
    "start_time": "2022-05-25T02:47:11.442Z"
   },
   {
    "duration": 32,
    "start_time": "2022-05-25T02:47:11.454Z"
   },
   {
    "duration": 32,
    "start_time": "2022-05-25T02:47:11.488Z"
   },
   {
    "duration": 23,
    "start_time": "2022-05-25T02:47:11.522Z"
   },
   {
    "duration": 1585557,
    "start_time": "2022-05-25T02:47:11.547Z"
   },
   {
    "duration": 6553,
    "start_time": "2022-05-25T03:13:37.106Z"
   },
   {
    "duration": 5692,
    "start_time": "2022-05-25T03:13:43.661Z"
   },
   {
    "duration": 16,
    "start_time": "2022-05-25T03:13:49.354Z"
   },
   {
    "duration": 1983,
    "start_time": "2022-05-25T03:13:49.371Z"
   },
   {
    "duration": 420531,
    "start_time": "2022-05-25T03:13:51.356Z"
   },
   {
    "duration": 3356,
    "start_time": "2022-05-25T03:20:51.890Z"
   }
  ],
  "kernelspec": {
   "display_name": "Python 3 (ipykernel)",
   "language": "python",
   "name": "python3"
  },
  "language_info": {
   "codemirror_mode": {
    "name": "ipython",
    "version": 3
   },
   "file_extension": ".py",
   "mimetype": "text/x-python",
   "name": "python",
   "nbconvert_exporter": "python",
   "pygments_lexer": "ipython3",
   "version": "3.9.5"
  },
  "toc": {
   "base_numbering": 1,
   "nav_menu": {},
   "number_sections": true,
   "sideBar": true,
   "skip_h1_title": true,
   "title_cell": "Содержание",
   "title_sidebar": "Contents",
   "toc_cell": true,
   "toc_position": {
    "height": "calc(100% - 180px)",
    "left": "10px",
    "top": "150px",
    "width": "255px"
   },
   "toc_section_display": true,
   "toc_window_display": false
  }
 },
 "nbformat": 4,
 "nbformat_minor": 2
}
