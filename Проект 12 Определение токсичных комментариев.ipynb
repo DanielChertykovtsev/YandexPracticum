{
 "cells": [
  {
   "cell_type": "markdown",
   "metadata": {},
   "source": [
    "Привет, меня зовут Дмитрий Акимов и я буду проверять твой проект.\n",
    "<br>Небольшая вступительная часть и начнем работу)\n",
    "<br> Если не против, то предлагаю общаться на «ты». Если это не удобно - дай знать, и мы перейдем на \"вы\". Моя основная цель — не указать на совершенные ошибки, а поделиться своим опытом и помочь сделать твой проект лучше. Для этого я буду использовать разный стиль оформления комментариев. \n",
    "<div class=\"alert alert-block alert-success\">\n",
    "✔️ Все хорошо.\n",
    "</div>\n",
    "\n",
    "<div class=\"alert alert-warning\">\n",
    "⚠️ Критических замечаний нет, но есть возможность сделать твою работу лучше.\n",
    "</div>\n",
    "\n",
    "<div class=\"alert alert-block alert-danger\">\n",
    "❌ Если требуются исправления. Работа не может быть принята с красными комментариями.\n",
    "</div>\n",
    "\n",
    "Давай работать над проектом в диалоге: если ты что-то меняешь в проекте по моим рекомендациям — пиши об этом.\n",
    "Будет очень хорошо, если ты будешь помечать свои действия следующим образом:\n",
    "<div class=\"alert alert-block alert-info\">\n",
    "<b>Комментарий студента:</b> ...\n",
    "</div>\n",
    "Пожалуйста, не перемещай, не изменяй и не удаляй мои комментарии. Всё это поможет выполнить повторную проверку твоего проекта оперативнее». "
   ]
  },
  {
   "cell_type": "markdown",
   "metadata": {
    "toc": true
   },
   "source": [
    "<h1>Содержание<span class=\"tocSkip\"></span></h1>\n",
    "<div class=\"toc\"><ul class=\"toc-item\"><li><span><a href=\"#Подготовка\" data-toc-modified-id=\"Подготовка-1\"><span class=\"toc-item-num\">1&nbsp;&nbsp;</span>Подготовка</a></span></li><li><span><a href=\"#Предобработка\" data-toc-modified-id=\"Предобработка-2\"><span class=\"toc-item-num\">2&nbsp;&nbsp;</span>Предобработка</a></span></li><li><span><a href=\"#Обучение\" data-toc-modified-id=\"Обучение-3\"><span class=\"toc-item-num\">3&nbsp;&nbsp;</span>Обучение</a></span><ul class=\"toc-item\"><li><span><a href=\"#Обучение-на-векторах-построенных-TF-IDF-методом\" data-toc-modified-id=\"Обучение-на-векторах-построенных-TF-IDF-методом-3.1\"><span class=\"toc-item-num\">3.1&nbsp;&nbsp;</span>Обучение на векторах построенных TF IDF методом</a></span></li><li><span><a href=\"#Spacy-lemmatizer\" data-toc-modified-id=\"Spacy-lemmatizer-3.2\"><span class=\"toc-item-num\">3.2&nbsp;&nbsp;</span>Spacy lemmatizer</a></span></li><li><span><a href=\"#Обучение-на-векторах-построенных-методом-BERT\" data-toc-modified-id=\"Обучение-на-векторах-построенных-методом-BERT-3.3\"><span class=\"toc-item-num\">3.3&nbsp;&nbsp;</span>Обучение на векторах построенных методом BERT</a></span></li></ul></li><li><span><a href=\"#Выводы\" data-toc-modified-id=\"Выводы-4\"><span class=\"toc-item-num\">4&nbsp;&nbsp;</span>Выводы</a></span></li><li><span><a href=\"#Чек-лист-проверки\" data-toc-modified-id=\"Чек-лист-проверки-5\"><span class=\"toc-item-num\">5&nbsp;&nbsp;</span>Чек-лист проверки</a></span></li></ul></div>"
   ]
  },
  {
   "cell_type": "markdown",
   "metadata": {},
   "source": [
    "# Проект для «Викишоп». Проект выполнен с BERT'ом."
   ]
  },
  {
   "cell_type": "markdown",
   "metadata": {},
   "source": [
    "Интернет-магазин «Викишоп» запускает новый сервис. Теперь пользователи могут редактировать и дополнять описания товаров, как в вики-сообществах. То есть клиенты предлагают свои правки и комментируют изменения других. Магазину нужен инструмент, который будет искать токсичные комментарии и отправлять их на модерацию. \n",
    "\n",
    "Цели и задачи проекта\n",
    "\n",
    "Заказчиком поставлена задача подготовить модель выполняющую оценку токсичности отзыва, как следствие необходимости отправки его на модерацию.\n",
    "\n",
    "Описание данных\n",
    "\n",
    "Представлены данные о порядка 160 тыс. отзывах: текст отзыва и оценка токсичности.\n",
    "\n",
    "План работы\n",
    "\n",
    "Планируется провести:\n",
    "\n",
    "Анализ представленного датасета на наличие пропусков.\n",
    "Оценка объема данных на предмет возможности их обработки с учетом доступных аппаратных ресурсов.\n",
    "Подготовка данных для обучения моделей (лемматизация, токенизация, векторизация).\n",
    "Обучение и выбор гиперпараметров используя модели Линейной регрессии, LinearSVC.\n",
    "Тестирование моделей на выбранных гиперпараметрах на тестовой выборке."
   ]
  },
  {
   "cell_type": "markdown",
   "metadata": {},
   "source": [
    "<div class=\"alert alert-block alert-success\">\n",
    "<b>Комментарий от ревьюера v1</b>\n",
    "    \n",
    "✔️ Не обязательно копировать всё описание проекта, если оставить только то, что написал ты - будет намного лучше)\n",
    "</div>\n",
    "<div class=\"alert alert-block alert-info\">\n",
    "<b>Комментарий студента:</b> поправил\n",
    "</div>"
   ]
  },
  {
   "cell_type": "markdown",
   "metadata": {},
   "source": [
    "## Подготовка"
   ]
  },
  {
   "cell_type": "code",
   "execution_count": 1,
   "metadata": {},
   "outputs": [
    {
     "data": {
      "text/plain": [
       "'%pip install transformers'"
      ]
     },
     "execution_count": 1,
     "metadata": {},
     "output_type": "execute_result"
    }
   ],
   "source": [
    "'''%pip install transformers'''"
   ]
  },
  {
   "cell_type": "code",
   "execution_count": 2,
   "metadata": {},
   "outputs": [
    {
     "data": {
      "text/plain": [
       "\"# Install spaCy (run in terminal/prompt)\\nimport sys\\n!{sys.executable} -m pip install spacy\\n# Download spaCy's  'en' Model\\n!{sys.executable} -m spacy download en\""
      ]
     },
     "execution_count": 2,
     "metadata": {},
     "output_type": "execute_result"
    }
   ],
   "source": [
    "'''# Install spaCy (run in terminal/prompt)\n",
    "import sys\n",
    "!{sys.executable} -m pip install spacy\n",
    "# Download spaCy's  'en' Model\n",
    "!{sys.executable} -m spacy download en'''"
   ]
  },
  {
   "cell_type": "code",
   "execution_count": 3,
   "metadata": {},
   "outputs": [
    {
     "name": "stderr",
     "output_type": "stream",
     "text": [
      "[nltk_data] Downloading package stopwords to\n",
      "[nltk_data]     C:\\Users\\danie\\AppData\\Roaming\\nltk_data...\n",
      "[nltk_data]   Package stopwords is already up-to-date!\n",
      "[nltk_data] Downloading package wordnet to\n",
      "[nltk_data]     C:\\Users\\danie\\AppData\\Roaming\\nltk_data...\n",
      "[nltk_data]   Package wordnet is already up-to-date!\n",
      "[nltk_data] Downloading package punkt to\n",
      "[nltk_data]     C:\\Users\\danie\\AppData\\Roaming\\nltk_data...\n",
      "[nltk_data]   Package punkt is already up-to-date!\n",
      "[nltk_data] Downloading package averaged_perceptron_tagger to\n",
      "[nltk_data]     C:\\Users\\danie\\AppData\\Roaming\\nltk_data...\n",
      "[nltk_data]   Package averaged_perceptron_tagger is already up-to-\n",
      "[nltk_data]       date!\n"
     ]
    }
   ],
   "source": [
    "#библиотеки\n",
    "import pandas as pd\n",
    "import string\n",
    "import re\n",
    "import nltk\n",
    "import numpy as np\n",
    "import torch\n",
    "import mapply\n",
    "from tqdm.auto import tqdm\n",
    "\n",
    "#датасеты/словари\n",
    "from nltk.corpus import stopwords as nltk_stopwords\n",
    "nltk.download('stopwords')\n",
    "nltk.download('wordnet')\n",
    "nltk.download('punkt')\n",
    "nltk.download('averaged_perceptron_tagger')\n",
    "\n",
    "#модели\n",
    "\n",
    "from sklearn.linear_model import LogisticRegression\n",
    "from lightgbm import LGBMClassifier\n",
    "from sklearn.svm import LinearSVC\n",
    "\n",
    "#методы\n",
    "from nltk import word_tokenize, sent_tokenize\n",
    "from nltk.corpus import wordnet\n",
    "from nltk.stem import WordNetLemmatizer\n",
    "import spacy\n",
    "import transformers as ppb\n",
    "from transformers import AutoModelForMaskedLM, AutoTokenizer\n",
    "from tqdm import notebook \n",
    "import spacy\n",
    "nlp = spacy.load('en_core_web_sm', disable=['parser', 'ner'])\n",
    "\n",
    "from sklearn.feature_extraction.text import TfidfVectorizer\n",
    "from sklearn.model_selection import train_test_split, GridSearchCV"
   ]
  },
  {
   "cell_type": "code",
   "execution_count": 4,
   "metadata": {},
   "outputs": [
    {
     "data": {
      "text/html": [
       "<div>\n",
       "<style scoped>\n",
       "    .dataframe tbody tr th:only-of-type {\n",
       "        vertical-align: middle;\n",
       "    }\n",
       "\n",
       "    .dataframe tbody tr th {\n",
       "        vertical-align: top;\n",
       "    }\n",
       "\n",
       "    .dataframe thead th {\n",
       "        text-align: right;\n",
       "    }\n",
       "</style>\n",
       "<table border=\"1\" class=\"dataframe\">\n",
       "  <thead>\n",
       "    <tr style=\"text-align: right;\">\n",
       "      <th></th>\n",
       "      <th>text</th>\n",
       "      <th>toxic</th>\n",
       "    </tr>\n",
       "  </thead>\n",
       "  <tbody>\n",
       "    <tr>\n",
       "      <th>0</th>\n",
       "      <td>Explanation\\nWhy the edits made under my usern...</td>\n",
       "      <td>0</td>\n",
       "    </tr>\n",
       "    <tr>\n",
       "      <th>1</th>\n",
       "      <td>D'aww! He matches this background colour I'm s...</td>\n",
       "      <td>0</td>\n",
       "    </tr>\n",
       "    <tr>\n",
       "      <th>2</th>\n",
       "      <td>Hey man, I'm really not trying to edit war. It...</td>\n",
       "      <td>0</td>\n",
       "    </tr>\n",
       "    <tr>\n",
       "      <th>3</th>\n",
       "      <td>\"\\nMore\\nI can't make any real suggestions on ...</td>\n",
       "      <td>0</td>\n",
       "    </tr>\n",
       "    <tr>\n",
       "      <th>4</th>\n",
       "      <td>You, sir, are my hero. Any chance you remember...</td>\n",
       "      <td>0</td>\n",
       "    </tr>\n",
       "  </tbody>\n",
       "</table>\n",
       "</div>"
      ],
      "text/plain": [
       "                                                text  toxic\n",
       "0  Explanation\\nWhy the edits made under my usern...      0\n",
       "1  D'aww! He matches this background colour I'm s...      0\n",
       "2  Hey man, I'm really not trying to edit war. It...      0\n",
       "3  \"\\nMore\\nI can't make any real suggestions on ...      0\n",
       "4  You, sir, are my hero. Any chance you remember...      0"
      ]
     },
     "execution_count": 4,
     "metadata": {},
     "output_type": "execute_result"
    }
   ],
   "source": [
    "data = pd.read_csv('/datasets/toxic_comments.csv')\n",
    "data.head()"
   ]
  },
  {
   "cell_type": "markdown",
   "metadata": {},
   "source": [
    "<div class=\"alert alert-block alert-success\">\n",
    "<b>Комментарий от ревьюера v1</b>\n",
    "\n",
    "✔️ Отлично, данные загружены, библиотеки импортированы в начале работы.\n",
    "</div>"
   ]
  },
  {
   "cell_type": "code",
   "execution_count": 5,
   "metadata": {},
   "outputs": [
    {
     "name": "stdout",
     "output_type": "stream",
     "text": [
      "<class 'pandas.core.frame.DataFrame'>\n",
      "RangeIndex: 159571 entries, 0 to 159570\n",
      "Data columns (total 2 columns):\n",
      " #   Column  Non-Null Count   Dtype \n",
      "---  ------  --------------   ----- \n",
      " 0   text    159571 non-null  object\n",
      " 1   toxic   159571 non-null  int64 \n",
      "dtypes: int64(1), object(1)\n",
      "memory usage: 2.4+ MB\n"
     ]
    }
   ],
   "source": [
    "data.info()"
   ]
  },
  {
   "cell_type": "code",
   "execution_count": 6,
   "metadata": {},
   "outputs": [
    {
     "data": {
      "text/html": [
       "<div>\n",
       "<style scoped>\n",
       "    .dataframe tbody tr th:only-of-type {\n",
       "        vertical-align: middle;\n",
       "    }\n",
       "\n",
       "    .dataframe tbody tr th {\n",
       "        vertical-align: top;\n",
       "    }\n",
       "\n",
       "    .dataframe thead th {\n",
       "        text-align: right;\n",
       "    }\n",
       "</style>\n",
       "<table border=\"1\" class=\"dataframe\">\n",
       "  <thead>\n",
       "    <tr style=\"text-align: right;\">\n",
       "      <th></th>\n",
       "      <th>toxic</th>\n",
       "    </tr>\n",
       "  </thead>\n",
       "  <tbody>\n",
       "    <tr>\n",
       "      <th>count</th>\n",
       "      <td>159571.000000</td>\n",
       "    </tr>\n",
       "    <tr>\n",
       "      <th>mean</th>\n",
       "      <td>0.101679</td>\n",
       "    </tr>\n",
       "    <tr>\n",
       "      <th>std</th>\n",
       "      <td>0.302226</td>\n",
       "    </tr>\n",
       "    <tr>\n",
       "      <th>min</th>\n",
       "      <td>0.000000</td>\n",
       "    </tr>\n",
       "    <tr>\n",
       "      <th>25%</th>\n",
       "      <td>0.000000</td>\n",
       "    </tr>\n",
       "    <tr>\n",
       "      <th>50%</th>\n",
       "      <td>0.000000</td>\n",
       "    </tr>\n",
       "    <tr>\n",
       "      <th>75%</th>\n",
       "      <td>0.000000</td>\n",
       "    </tr>\n",
       "    <tr>\n",
       "      <th>max</th>\n",
       "      <td>1.000000</td>\n",
       "    </tr>\n",
       "  </tbody>\n",
       "</table>\n",
       "</div>"
      ],
      "text/plain": [
       "               toxic\n",
       "count  159571.000000\n",
       "mean        0.101679\n",
       "std         0.302226\n",
       "min         0.000000\n",
       "25%         0.000000\n",
       "50%         0.000000\n",
       "75%         0.000000\n",
       "max         1.000000"
      ]
     },
     "execution_count": 6,
     "metadata": {},
     "output_type": "execute_result"
    }
   ],
   "source": [
    "data.describe()"
   ]
  },
  {
   "cell_type": "code",
   "execution_count": 7,
   "metadata": {},
   "outputs": [
    {
     "data": {
      "text/plain": [
       "5000"
      ]
     },
     "execution_count": 7,
     "metadata": {},
     "output_type": "execute_result"
    }
   ],
   "source": [
    "max_len = data['text'].str.len().max()\n",
    "max_len"
   ]
  },
  {
   "cell_type": "code",
   "execution_count": 8,
   "metadata": {
    "scrolled": false
   },
   "outputs": [
    {
     "data": {
      "text/plain": [
       "<AxesSubplot:>"
      ]
     },
     "execution_count": 8,
     "metadata": {},
     "output_type": "execute_result"
    },
    {
     "data": {
      "image/png": "[encoded data removed]",
      "text/plain": [
       "<Figure size 432x288 with 1 Axes>"
      ]
     },
     "metadata": {
      "needs_background": "light"
     },
     "output_type": "display_data"
    }
   ],
   "source": [
    "data['text'].str.len().hist()"
   ]
  },
  {
   "cell_type": "code",
   "execution_count": 9,
   "metadata": {},
   "outputs": [
    {
     "data": {
      "text/plain": [
       "(1.0050000000000001, 505.4]    0.789749\n",
       "(505.4, 1004.8]                0.127122\n",
       "(1004.8, 1504.2]               0.041524\n",
       "(1504.2, 2003.6]               0.016325\n",
       "(2003.6, 2503.0]               0.007551\n",
       "(2503.0, 3002.4]               0.004581\n",
       "(3002.4, 3501.8]               0.003566\n",
       "(3501.8, 4001.2]               0.003071\n",
       "(4001.2, 4500.6]               0.002488\n",
       "(4500.6, 5000.0]               0.004023\n",
       "Name: text, dtype: float64"
      ]
     },
     "execution_count": 9,
     "metadata": {},
     "output_type": "execute_result"
    }
   ],
   "source": [
    "data['text'].str.len().value_counts(normalize=True,bins=10).sort_index()"
   ]
  },
  {
   "cell_type": "code",
   "execution_count": 10,
   "metadata": {
    "scrolled": true
   },
   "outputs": [
    {
     "name": "stdout",
     "output_type": "stream",
     "text": [
      "распределение целевого признака в представленном датасете\n",
      "0    0.898321\n",
      "1    0.101679\n",
      "Name: toxic, dtype: float64\n",
      "распределение целевого признака в датасете сокращенном до комментариев длинной до 1500 символов\n"
     ]
    },
    {
     "data": {
      "text/plain": [
       "0    0.897063\n",
       "1    0.102937\n",
       "Name: toxic, dtype: float64"
      ]
     },
     "execution_count": 10,
     "metadata": {},
     "output_type": "execute_result"
    }
   ],
   "source": [
    "# распределение токсичных комментариев в общем датасете\n",
    "print('распределение целевого признака в представленном датасете')\n",
    "print(data['toxic'].value_counts(normalize=True))\n",
    "# распределение токсичных комментариев в датасете сокращенном по длине комментария до 1500 символов\n",
    "print('распределение целевого признака в датасете сокращенном до комментариев длинной до 1500 символов')\n",
    "data.loc[data['text'].str.len()<=1500,'toxic'].value_counts(normalize=True)"
   ]
  },
  {
   "cell_type": "markdown",
   "metadata": {},
   "source": [
    "<b>Вывод</b> \n",
    "\n",
    "Для анализа представлена база текстов комментариев, содержащая 159571 запись. Пропуски не установлены.\n",
    "Распределение тестов по длине показывает что 95% текстов относятся к группе длиной до 1500 символов.\n",
    "\n",
    "После токенизации, при необходимости возможно рассмотреть вопрос ограничения выборки по длинне комментария. Это существенно сократит формируемые после пэддинга массивы и снизит требования по оперативной памяти.\n",
    "\n",
    "Также в датасете имеет место дисбаланс целевого признака - токсичные комментарии составляют порядка 10%, причем как в общем датасете, так и в сокращенном по длине комментария."
   ]
  },
  {
   "cell_type": "markdown",
   "metadata": {},
   "source": [
    "<div class=\"alert alert-block alert-success\">\n",
    "<b>Комментарий от ревьюера v1</b>\n",
    "\n",
    "✔️ Хорошее исследование. Если учесть, что BERT модели ограничены по количеству токенов, то лучше, конечно, смотреть на количество слов, но в остальном - все очень круто.\n",
    "</div>\n",
    "<div class=\"alert alert-block alert-info\">\n",
    "<b>Комментарий студента:</b> поправил вывод\n",
    "</div>"
   ]
  },
  {
   "cell_type": "markdown",
   "metadata": {},
   "source": [
    "## Предобработка"
   ]
  },
  {
   "cell_type": "markdown",
   "metadata": {},
   "source": [
    "В рамках предобработки проведем следующие процедуры:\n",
    "- токенизация текста\n",
    "- очистка текста от стоп-слов\n",
    "- очистка текста от знаков препинания и ненужных символов\n",
    "- проведем лемматизацию текста (для моделей кроме BERT)\n",
    "- добавим маркеры начала и конца предложения\n",
    "- осуществим векторизацию текста средствами TF-IDF и библиотеки BERT\n"
   ]
  },
  {
   "cell_type": "code",
   "execution_count": 11,
   "metadata": {},
   "outputs": [],
   "source": [
    "#Векторизация средствами, не связанными с моделью BERT\n",
    "stop_words = set(nltk_stopwords.words('english'))\n",
    "punctuation = string.punctuation \n",
    "wordnet_lemmatizer = WordNetLemmatizer()"
   ]
  },
  {
   "cell_type": "code",
   "execution_count": 12,
   "metadata": {},
   "outputs": [],
   "source": [
    "#добавляем функция определения тега слова \n",
    "#для сохранения принадлежности к части речи (существительное, глагол и т.п.) при лемматизации\n",
    "def get_wordnet_pos(word):\n",
    "    \"\"\"Map POS tag to first character lemmatize() accepts\"\"\"\n",
    "    tag = nltk.pos_tag([word])[0][1][0].upper()\n",
    "    tag_dict = {\"J\": wordnet.ADJ,\n",
    "                \"N\": wordnet.NOUN,\n",
    "                \"V\": wordnet.VERB,\n",
    "                \"R\": wordnet.ADV}\n",
    "    return tag_dict.get(tag, wordnet.NOUN)"
   ]
  },
  {
   "cell_type": "code",
   "execution_count": 13,
   "metadata": {},
   "outputs": [],
   "source": [
    "def token_it(text):\n",
    "    elements = [ word for sent in sent_tokenize(text) for word in word_tokenize(sent)]\n",
    "    elements = list(filter(lambda t: t not in punctuation, elements)) \n",
    "    elements = list(filter(lambda t: t.lower() not in stop_words, elements))\n",
    "    final_elements = []\n",
    "    final_elements = []\n",
    "    for element in elements:\n",
    "        text_ = re.sub(r'[^a-zA-Z]',' ',element)\n",
    "        text_ = \" \".join(text_.split())\n",
    "        text_ = text_.lower()\n",
    "        final_elements.append(text_)\n",
    "    final_elements = list(\n",
    "                     map(lambda token: wordnet_lemmatizer.lemmatize(token,get_wordnet_pos(token)), final_elements))\n",
    "\n",
    "    return ' '.join(final_elements)"
   ]
  },
  {
   "cell_type": "code",
   "execution_count": 14,
   "metadata": {},
   "outputs": [],
   "source": [
    "def spacy_it(text):\n",
    "    elements = [ word for sent in sent_tokenize(text) for word in word_tokenize(sent)]\n",
    "    elements = list(filter(lambda t: t not in punctuation, elements)) \n",
    "    elements = list(filter(lambda t: t.lower() not in stop_words, elements))\n",
    "    \n",
    "    final_elements = []\n",
    "    for element in elements:\n",
    "        text_ = re.sub(r'[^a-zA-Z]',' ',element)\n",
    "        text_ = \" \".join(text_.split())\n",
    "        text_ = text_.lower()\n",
    "        final_elements.append(text_)\n",
    "    \n",
    "    sentence = \" \".join(final_elements)\n",
    "    doc = nlp(sentence)\n",
    "\n",
    "    return ' '.join([token.lemma_ for token in doc])"
   ]
  },
  {
   "cell_type": "markdown",
   "metadata": {},
   "source": [
    "<div class=\"alert alert-block alert-danger\">\n",
    "<b>Комментарий от ревьюера v1</b>\n",
    "     \n",
    "❌ Отличная предобработка данных, ты правильно выполнил очистку и удалил стоп-слова, но у тебя не совсем верно работает лемматизация. WordNetLemmatizer требует проставления POS-tag(определяет часть речи), поэтому у тебя все слова преобразовывались как существительные. https://webdevblog.ru/podhody-lemmatizacii-s-primerami-v-python/ В статье описываются варианты лемматизации и есть пример правильной лемматизации с использование WordNetLemmatizer, но я бы рекомендовал использовать spaCy - она быстрее и сама определяет часть речи.\n",
    "    \n",
    "Попробуй применить свою функцию на одном комментарии, ты очень удивишься результату. Поправь это)\n",
    "</div>\n",
    "\n",
    "<div class=\"alert alert-block alert-info\">\n",
    "<b>Комментарий студента:</b> добавил spacy, worldnet пришлось убрать. После добавления POS-tag он неприлично долго стал считать\n",
    "</div>"
   ]
  },
  {
   "cell_type": "markdown",
   "metadata": {},
   "source": [
    "<div class=\"alert alert-block alert-success\">\n",
    "<b>Комментарий от ревьюера v2</b>\n",
    "    \n",
    "✔️ Отлично, spaCy работает правильно. Да, pos-tag очень долго проставляются и виноваты в этом длинные комментарии.\n",
    "</div>"
   ]
  },
  {
   "cell_type": "code",
   "execution_count": 15,
   "metadata": {},
   "outputs": [
    {
     "data": {
      "text/html": [
       "<div>\n",
       "<style scoped>\n",
       "    .dataframe tbody tr th:only-of-type {\n",
       "        vertical-align: middle;\n",
       "    }\n",
       "\n",
       "    .dataframe tbody tr th {\n",
       "        vertical-align: top;\n",
       "    }\n",
       "\n",
       "    .dataframe thead th {\n",
       "        text-align: right;\n",
       "    }\n",
       "</style>\n",
       "<table border=\"1\" class=\"dataframe\">\n",
       "  <thead>\n",
       "    <tr style=\"text-align: right;\">\n",
       "      <th></th>\n",
       "      <th>text</th>\n",
       "      <th>toxic</th>\n",
       "    </tr>\n",
       "  </thead>\n",
       "  <tbody>\n",
       "    <tr>\n",
       "      <th>0</th>\n",
       "      <td>Explanation\\nWhy the edits made under my usern...</td>\n",
       "      <td>0</td>\n",
       "    </tr>\n",
       "    <tr>\n",
       "      <th>1</th>\n",
       "      <td>D'aww! He matches this background colour I'm s...</td>\n",
       "      <td>0</td>\n",
       "    </tr>\n",
       "    <tr>\n",
       "      <th>2</th>\n",
       "      <td>Hey man, I'm really not trying to edit war. It...</td>\n",
       "      <td>0</td>\n",
       "    </tr>\n",
       "    <tr>\n",
       "      <th>3</th>\n",
       "      <td>\"\\nMore\\nI can't make any real suggestions on ...</td>\n",
       "      <td>0</td>\n",
       "    </tr>\n",
       "    <tr>\n",
       "      <th>4</th>\n",
       "      <td>You, sir, are my hero. Any chance you remember...</td>\n",
       "      <td>0</td>\n",
       "    </tr>\n",
       "  </tbody>\n",
       "</table>\n",
       "</div>"
      ],
      "text/plain": [
       "                                                text  toxic\n",
       "0  Explanation\\nWhy the edits made under my usern...      0\n",
       "1  D'aww! He matches this background colour I'm s...      0\n",
       "2  Hey man, I'm really not trying to edit war. It...      0\n",
       "3  \"\\nMore\\nI can't make any real suggestions on ...      0\n",
       "4  You, sir, are my hero. Any chance you remember...      0"
      ]
     },
     "execution_count": 15,
     "metadata": {},
     "output_type": "execute_result"
    }
   ],
   "source": [
    "data.head()"
   ]
  },
  {
   "cell_type": "code",
   "execution_count": 22,
   "metadata": {
    "scrolled": false
   },
   "outputs": [
    {
     "data": {
      "application/vnd.jupyter.widget-view+json": {
       "model_id": "4959014ddd6c486c8b6ed9e0d7b1b2cc",
       "version_major": 2,
       "version_minor": 0
      },
      "text/plain": [
       "my bar!:   0%|          | 0/159571 [00:00<?, ?it/s]"
      ]
     },
     "metadata": {},
     "output_type": "display_data"
    },
    {
     "name": "stdout",
     "output_type": "stream",
     "text": [
      "Wall time: 17min 43s\n"
     ]
    }
   ],
   "source": [
    "%%time\n",
    "tqdm.pandas(desc='my bar!')\n",
    "data['text_spacy'] = data['text'].progress_map(spacy_it)"
   ]
  },
  {
   "cell_type": "code",
   "execution_count": 73,
   "metadata": {},
   "outputs": [
    {
     "data": {
      "text/html": [
       "<div>\n",
       "<style scoped>\n",
       "    .dataframe tbody tr th:only-of-type {\n",
       "        vertical-align: middle;\n",
       "    }\n",
       "\n",
       "    .dataframe tbody tr th {\n",
       "        vertical-align: top;\n",
       "    }\n",
       "\n",
       "    .dataframe thead th {\n",
       "        text-align: right;\n",
       "    }\n",
       "</style>\n",
       "<table border=\"1\" class=\"dataframe\">\n",
       "  <thead>\n",
       "    <tr style=\"text-align: right;\">\n",
       "      <th></th>\n",
       "      <th>text</th>\n",
       "      <th>toxic</th>\n",
       "      <th>text_spacy</th>\n",
       "    </tr>\n",
       "  </thead>\n",
       "  <tbody>\n",
       "    <tr>\n",
       "      <th>0</th>\n",
       "      <td>Explanation\\nWhy the edits made under my usern...</td>\n",
       "      <td>0</td>\n",
       "      <td>explanation edit make username hardcore metall...</td>\n",
       "    </tr>\n",
       "    <tr>\n",
       "      <th>1</th>\n",
       "      <td>D'aww! He matches this background colour I'm s...</td>\n",
       "      <td>0</td>\n",
       "      <td>d aww match background colour m seemingly stuc...</td>\n",
       "    </tr>\n",
       "    <tr>\n",
       "      <th>2</th>\n",
       "      <td>Hey man, I'm really not trying to edit war. It...</td>\n",
       "      <td>0</td>\n",
       "      <td>hey man m really try edit war s guy constantly...</td>\n",
       "    </tr>\n",
       "    <tr>\n",
       "      <th>3</th>\n",
       "      <td>\"\\nMore\\nI can't make any real suggestions on ...</td>\n",
       "      <td>0</td>\n",
       "      <td>can n t make real suggestion improvement won...</td>\n",
       "    </tr>\n",
       "    <tr>\n",
       "      <th>4</th>\n",
       "      <td>You, sir, are my hero. Any chance you remember...</td>\n",
       "      <td>0</td>\n",
       "      <td>sir hero chance remember page s</td>\n",
       "    </tr>\n",
       "  </tbody>\n",
       "</table>\n",
       "</div>"
      ],
      "text/plain": [
       "                                                text  toxic  \\\n",
       "0  Explanation\\nWhy the edits made under my usern...      0   \n",
       "1  D'aww! He matches this background colour I'm s...      0   \n",
       "2  Hey man, I'm really not trying to edit war. It...      0   \n",
       "3  \"\\nMore\\nI can't make any real suggestions on ...      0   \n",
       "4  You, sir, are my hero. Any chance you remember...      0   \n",
       "\n",
       "                                          text_spacy  \n",
       "0  explanation edit make username hardcore metall...  \n",
       "1  d aww match background colour m seemingly stuc...  \n",
       "2  hey man m really try edit war s guy constantly...  \n",
       "3    can n t make real suggestion improvement won...  \n",
       "4                    sir hero chance remember page s  "
      ]
     },
     "execution_count": 73,
     "metadata": {},
     "output_type": "execute_result"
    }
   ],
   "source": [
    "data.head()"
   ]
  },
  {
   "cell_type": "markdown",
   "metadata": {},
   "source": [
    "<div class=\"alert alert-block alert-danger\">\n",
    "<b>Комментарий от ревьюера v1</b>\n",
    "     \n",
    "❌ Мы не должны менять распределение целевого признака у тестовой и валидационной выборки, иначе мы искажаем оценку нашей модели.\n",
    "</div>\n",
    "\n",
    "<div class=\"alert alert-block alert-info\">\n",
    "<b>Комментарий студента:</b> перенес устранение баланса ниже, после разделения выборки на учебную и тестовую\n",
    "</div>"
   ]
  },
  {
   "cell_type": "code",
   "execution_count": 23,
   "metadata": {},
   "outputs": [
    {
     "name": "stdout",
     "output_type": "stream",
     "text": [
      "<class 'pandas.core.frame.DataFrame'>\n",
      "RangeIndex: 159571 entries, 0 to 159570\n",
      "Data columns (total 3 columns):\n",
      " #   Column      Non-Null Count   Dtype \n",
      "---  ------      --------------   ----- \n",
      " 0   text        159571 non-null  object\n",
      " 1   toxic       159571 non-null  int64 \n",
      " 2   text_spacy  159571 non-null  object\n",
      "dtypes: int64(1), object(2)\n",
      "memory usage: 3.7+ MB\n"
     ]
    }
   ],
   "source": [
    "data.info()"
   ]
  },
  {
   "cell_type": "code",
   "execution_count": 24,
   "metadata": {},
   "outputs": [],
   "source": [
    "data_train, data_test = train_test_split(data,test_size=0.2,random_state=12345)"
   ]
  },
  {
   "cell_type": "code",
   "execution_count": 25,
   "metadata": {
    "scrolled": true
   },
   "outputs": [
    {
     "name": "stdout",
     "output_type": "stream",
     "text": [
      "<class 'pandas.core.frame.DataFrame'>\n",
      "Int64Index: 127656 entries, 45800 to 77285\n",
      "Data columns (total 3 columns):\n",
      " #   Column      Non-Null Count   Dtype \n",
      "---  ------      --------------   ----- \n",
      " 0   text        127656 non-null  object\n",
      " 1   toxic       127656 non-null  int64 \n",
      " 2   text_spacy  127656 non-null  object\n",
      "dtypes: int64(1), object(2)\n",
      "memory usage: 3.9+ MB\n"
     ]
    }
   ],
   "source": [
    "data_train.info()"
   ]
  },
  {
   "cell_type": "code",
   "execution_count": 26,
   "metadata": {},
   "outputs": [],
   "source": [
    "train_corpus = data_train['text_spacy']\n",
    "#stopwords = set(nltk_stopwords.words('english')) \n",
    "count_tf_idf = TfidfVectorizer() # отказываемся от stopwords и не указываем такой параметр т.к. уже эта работа проведена при токенизации\n",
    "features_train_spacy = count_tf_idf.fit_transform(train_corpus)\n",
    "target_train = data_train['toxic']\n",
    "\n",
    "test_corpus = data_test['text_spacy']\n",
    "features_test_spacy = count_tf_idf.transform(test_corpus)\n",
    "target_test = data_test['toxic']"
   ]
  },
  {
   "cell_type": "markdown",
   "metadata": {},
   "source": [
    "<div class=\"alert alert-block alert-success\">\n",
    "<b>Комментарий от ревьюера v1</b>\n",
    "\n",
    "✔️ Все верно, векторные представление текстовых данных получены верно.\n",
    "</div>"
   ]
  },
  {
   "cell_type": "markdown",
   "metadata": {},
   "source": [
    "Вывод. Проведена подготовка векторизированных данных, необходимых для анализа и обучения моделей машинного обучения"
   ]
  },
  {
   "cell_type": "markdown",
   "metadata": {},
   "source": [
    "## Обучение"
   ]
  },
  {
   "cell_type": "markdown",
   "metadata": {},
   "source": [
    "При анализе данных было установлено что имеется дисбаланс классов. В связи с этим модели будут создаваться с параметром class_weight = 'balanced'"
   ]
  },
  {
   "cell_type": "code",
   "execution_count": 27,
   "metadata": {},
   "outputs": [],
   "source": [
    "#создадим таблицу для сравнения результатов обучения\n",
    "result_table = pd.DataFrame(columns=['TF_IDF/BERT','MODEL',\"F1\"])"
   ]
  },
  {
   "cell_type": "markdown",
   "metadata": {},
   "source": [
    "<div class=\"alert alert-block alert-success\">\n",
    "<b>Комментарий от ревьюера v1</b>\n",
    "\n",
    "✔️ Очень хорошо, что ты заранее создал итоговую таблицу.\n",
    "</div>"
   ]
  },
  {
   "cell_type": "markdown",
   "metadata": {},
   "source": [
    "### Обучение на векторах построенных TF IDF методом"
   ]
  },
  {
   "cell_type": "code",
   "execution_count": 30,
   "metadata": {
    "scrolled": true
   },
   "outputs": [
    {
     "name": "stdout",
     "output_type": "stream",
     "text": [
      "(127656, 135217)\n",
      "(127656,)\n"
     ]
    }
   ],
   "source": [
    "print(features_train_spacy.shape)\n",
    "print(target_train.shape)"
   ]
  },
  {
   "cell_type": "markdown",
   "metadata": {},
   "source": [
    "### Spacy lemmatizer"
   ]
  },
  {
   "cell_type": "code",
   "execution_count": 31,
   "metadata": {},
   "outputs": [
    {
     "name": "stdout",
     "output_type": "stream",
     "text": [
      "Fitting 5 folds for each of 4 candidates, totalling 20 fits\n"
     ]
    },
    {
     "data": {
      "text/plain": [
       "GridSearchCV(cv=5,\n",
       "             estimator=LogisticRegression(class_weight='balanced',\n",
       "                                          random_state=123345),\n",
       "             n_jobs=-1,\n",
       "             param_grid={'fit_intercept': [True, False],\n",
       "                         'max_iter': [1000, 2000]},\n",
       "             scoring='f1', verbose=1)"
      ]
     },
     "execution_count": 31,
     "metadata": {},
     "output_type": "execute_result"
    }
   ],
   "source": [
    "#Логистическая регрессия\n",
    "model = LogisticRegression(random_state=123345, class_weight='balanced')\n",
    "parameters = {'fit_intercept':[True,False], 'max_iter':[1000,2000]}\n",
    "searcher = GridSearchCV(model, parameters, cv=5, scoring='f1', verbose=1, n_jobs=-1)\n",
    "searcher.fit(features_train_spacy, target_train)"
   ]
  },
  {
   "cell_type": "code",
   "execution_count": 32,
   "metadata": {},
   "outputs": [
    {
     "name": "stdout",
     "output_type": "stream",
     "text": [
      "Наилучший результат для  LogisticRegression F1- 0.7535167012412882\n",
      "Наилучшие параметры для  LogisticRegression - {'fit_intercept': True, 'max_iter': 1000}\n"
     ]
    }
   ],
   "source": [
    "print(\"Наилучший результат для \",type(model).__name__,\"F1-\", searcher.best_score_)\n",
    "print(\"Наилучшие параметры для \",type(model).__name__,\"-\", searcher.best_params_)\n",
    "result_table.loc[len(result_table)]=('TF IDF_Spacy',type(model).__name__,searcher.best_score_)"
   ]
  },
  {
   "cell_type": "code",
   "execution_count": 33,
   "metadata": {},
   "outputs": [
    {
     "name": "stdout",
     "output_type": "stream",
     "text": [
      "Fitting 5 folds for each of 9 candidates, totalling 45 fits\n"
     ]
    },
    {
     "data": {
      "text/plain": [
       "GridSearchCV(cv=5,\n",
       "             estimator=LinearSVC(class_weight='balanced', random_state=12345),\n",
       "             n_jobs=-1,\n",
       "             param_grid={'C': [0.1, 0.5, 1.0], 'max_iter': [100, 150, 200]},\n",
       "             scoring='f1', verbose=1)"
      ]
     },
     "execution_count": 33,
     "metadata": {},
     "output_type": "execute_result"
    }
   ],
   "source": [
    "#LinearSVC\n",
    "model = LinearSVC(random_state =12345, class_weight='balanced')\n",
    "parameters = {'C':[0.1,0.5,1.0], 'max_iter':[100,150,200]}\n",
    "searcher = GridSearchCV(model, parameters, cv=5, scoring='f1', verbose=1, n_jobs=-1)\n",
    "searcher.fit(features_train_spacy, target_train)"
   ]
  },
  {
   "cell_type": "code",
   "execution_count": 34,
   "metadata": {},
   "outputs": [
    {
     "name": "stdout",
     "output_type": "stream",
     "text": [
      "Наилучший результат для  LinearSVC F1- 0.7621425326734103\n",
      "Наилучшие параметры для  LinearSVC - {'C': 0.5, 'max_iter': 100}\n"
     ]
    }
   ],
   "source": [
    "print(\"Наилучший результат для \",type(model).__name__,\"F1-\", searcher.best_score_)\n",
    "print(\"Наилучшие параметры для \",type(model).__name__,\"-\", searcher.best_params_)\n",
    "result_table.loc[len(result_table)]=('TF IDF_Spacy',type(model).__name__,searcher.best_score_)"
   ]
  },
  {
   "cell_type": "markdown",
   "metadata": {},
   "source": [
    "<div class=\"alert alert-block alert-success\">\n",
    "<b>Комментарий от ревьюера v1</b>\n",
    "\n",
    "✔️ Отличные результаты, но это из-за того, что в данных был изменено соотношение классов.\n",
    "</div>"
   ]
  },
  {
   "cell_type": "markdown",
   "metadata": {},
   "source": [
    "### Обучение на векторах построенных методом BERT"
   ]
  },
  {
   "cell_type": "markdown",
   "metadata": {},
   "source": [
    "<div class=\"alert alert-block alert-danger\">\n",
    "<b>Комментарий от ревьюера v1</b>\n",
    "     \n",
    "❌ Опять же, тут проблема с распределением тестовой выборки, чтобы оценить возможности нашей модели на реальных данных, мы не должны подтасовывать выборки.\n",
    "</div>\n",
    "\n",
    "\n",
    "<div class=\"alert alert-block alert-info\">\n",
    "<b>Комментарий студента:</b> исправил. дисбаланс теперь будет устраняться самой моделью\n",
    "</div>"
   ]
  },
  {
   "cell_type": "code",
   "execution_count": 35,
   "metadata": {},
   "outputs": [],
   "source": [
    "#проведем векторизацию средствами BERT, ввиду недостаточности ресурсов, сделаем пробную выборку в 10000 единиц текста \n",
    "def make_embeddings(features):\n",
    "    model_class, tokenizer_class, pretrained_weights = (ppb.DistilBertModel, ppb.DistilBertTokenizer, 'distilbert-base-uncased')\n",
    "\n",
    "\n",
    "    #tokenizer = tokenizer_class.from_pretrained(pretrained_weights)\n",
    "    tokenizer = AutoTokenizer.from_pretrained(\"distilbert-base-uncased\")\n",
    "    model = AutoModelForMaskedLM.from_pretrained(pretrained_weights)\n",
    "\n",
    "    tokenized= features.apply(lambda x: tokenizer.encode(x, add_special_tokens=True, max_length=256, truncation=True))\n",
    "\n",
    "\n",
    "    max_len = 256\n",
    "    #for i in tokenized.values:\n",
    "    #    if len(i) > max_len:\n",
    "    #        max_len = len(i)\n",
    "    #for i in tokenized.values:\n",
    "    #    print('str=',len(i))\n",
    "    padded = np.array([(list(i) + [0]*(max_len - len(i))) for i in tokenized.values], dtype=np.int64)\n",
    "    \n",
    "    #print(type(padded))\n",
    "    #print(type(padded[1:1]))\n",
    "    \n",
    "    attention_mask = np.where(padded != 0, 1, 0)\n",
    "    batch_size = 10\n",
    "    \n",
    "    embeddings=[]\n",
    "    \n",
    "    for i in range(padded.shape[0] // batch_size):\n",
    "        # преобразуем данные\n",
    "        #print(padded[batch_size*i:batch_size*(i+1)])\n",
    "        batch = torch.LongTensor(padded[batch_size*i:batch_size*(i+1)])\n",
    "        # преобразуем маску\n",
    "        attention_mask_batch = torch.LongTensor(attention_mask[batch_size*i:batch_size*(i+1)]) \n",
    "        with torch.no_grad():\n",
    "            batch_embeddings = model(batch, attention_mask=attention_mask_batch) \n",
    "            # преобразуем элементы методом numpy() к типу numpy.array\n",
    "        embeddings.append(batch_embeddings[0][:,0,:].numpy())\n",
    "    final_features = np.concatenate(embeddings) \n",
    "    return final_features"
   ]
  },
  {
   "cell_type": "markdown",
   "metadata": {},
   "source": [
    "<div class=\"alert alert-block alert-success\">\n",
    "<b>Комментарий от ревьюера v1</b>\n",
    "\n",
    "✔️ Отлично, тут все верно. Padding и attention_mask построены правильно. Кстати, помимо обычного `distilbert-base-uncased` существует много и других предобученных моделей, например https://huggingface.co/unitary/toxic-bert - модель, которая обучена на токсчиных комментариях) \n",
    "</div>"
   ]
  },
  {
   "attachments": {
    "image-2.png": {
     "image/png": "[encoded data removed]"
    }
   },
   "cell_type": "markdown",
   "metadata": {},
   "source": [
    "\n",
    "<div class=\"alert alert-block alert-info\">\n",
    "<b>Комментарий студента:</b> Далее немного странная подразбивка при исполнении BERT'a однако мне только перезагрузкой ядра при обходе выборки удалось избежать переполнения памяти.\n",
    "</div>\n",
    "\n",
    "![image-2.png](attachment:image-2.png)"
   ]
  },
  {
   "cell_type": "code",
   "execution_count": 48,
   "metadata": {
    "scrolled": true
   },
   "outputs": [
    {
     "name": "stdout",
     "output_type": "stream",
     "text": [
      "(100, 3)\n"
     ]
    },
    {
     "data": {
      "application/vnd.jupyter.widget-view+json": {
       "model_id": "b370f3b706a24fef9ad9577d6245e062",
       "version_major": 2,
       "version_minor": 0
      },
      "text/plain": [
       "  0%|          | 0/79 [00:00<?, ?it/s]"
      ]
     },
     "metadata": {},
     "output_type": "display_data"
    },
    {
     "name": "stdout",
     "output_type": "stream",
     "text": [
      "(100, 3)\n"
     ]
    },
    {
     "data": {
      "application/vnd.jupyter.widget-view+json": {
       "model_id": "9e397d78d54d494299692eb8a8782cea",
       "version_major": 2,
       "version_minor": 0
      },
      "text/plain": [
       "  0%|          | 0/19 [00:00<?, ?it/s]"
      ]
     },
     "metadata": {},
     "output_type": "display_data"
    },
    {
     "name": "stdout",
     "output_type": "stream",
     "text": [
      "Wall time: 1h 13min 27s\n"
     ]
    }
   ],
   "source": [
    "%%time\n",
    "# сформируем выборки дл BERT. устранение дисбаланса в данном случае также осуществляется средствами моделей (class_weight='balanced')\n",
    "\n",
    "data_bert_train, data_bert_test = train_test_split(data.sample(n=10000),test_size=0.2,random_state=12345)\n",
    "\n",
    "#Создаем датафрейм и заполняем вектора по тренировочной выборке, обрабатываем первые 100 текстов\n",
    "data_split_batch = data_bert_train.iloc[0:100:]\n",
    "print(data_split_batch.shape)\n",
    "features_train_bert = pd.DataFrame(make_embeddings(data_split_batch['text']))\n",
    "\n",
    "#таргеты просто сохраняем\n",
    "target_train_bert = data_bert_train['toxic']\n",
    "\n",
    "#Обходим по циклу учебную выборку по 100 текстов, начиная со второй итерации\n",
    "for i in tqdm(range(1,80)):\n",
    "    data_split_batch = data_bert_train.iloc[(100*i):(100*(i+1)):]\n",
    "    features_train_bert = features_train_bert.append(pd.DataFrame(make_embeddings(data_split_batch['text'])))\n",
    "\n",
    "#аналогично для тестовой выборки\n",
    "data_split_batch = data_bert_test.iloc[0:100:]\n",
    "print(data_split_batch.shape)\n",
    "features_test_bert = pd.DataFrame(make_embeddings(data_split_batch['text']))\n",
    "for i in tqdm(range(1,20)):\n",
    "    data_split_batch = data_bert_train.iloc[(100*i):(100*(i+1)):]\n",
    "    features_test_bert = features_test_bert.append(pd.DataFrame(make_embeddings(data_split_batch['text'])))\n",
    "\n",
    "target_test_bert = data_bert_test['toxic']"
   ]
  },
  {
   "cell_type": "markdown",
   "metadata": {},
   "source": [
    "<div class=\"alert alert-block alert-success\">\n",
    "<b>Комментарий от ревьюера v2</b>\n",
    "    \n",
    "✔️ Действительно, немного странно, но ладно, если работает, то имеет право на жизнь)\n",
    "</div>"
   ]
  },
  {
   "cell_type": "code",
   "execution_count": 51,
   "metadata": {},
   "outputs": [
    {
     "name": "stdout",
     "output_type": "stream",
     "text": [
      "      0         1         2         3         4         5         6      \\\n",
      "0 -6.881474 -6.854371 -6.775249 -6.792335 -6.853459 -6.860012 -6.859506   \n",
      "1 -6.528604 -6.500546 -6.446366 -6.425536 -6.493169 -6.508550 -6.484176   \n",
      "2 -6.761006 -6.738254 -6.698967 -6.737831 -6.740881 -6.743036 -6.761782   \n",
      "3 -6.633099 -6.646534 -6.613797 -6.560154 -6.613000 -6.680804 -6.654652   \n",
      "4 -6.260056 -6.217031 -6.231545 -6.246459 -6.239494 -6.255177 -6.274478   \n",
      "\n",
      "      7         8         9      ...     30512     30513     30514     30515  \\\n",
      "0 -6.828019 -6.795990 -6.804531  ... -6.297739 -6.307233 -6.353778 -6.240409   \n",
      "1 -6.480221 -6.459320 -6.475421  ... -5.915771 -6.028035 -5.992058 -5.991991   \n",
      "2 -6.750037 -6.717628 -6.703818  ... -6.158628 -6.388016 -6.142550 -6.177586   \n",
      "3 -6.660597 -6.601663 -6.612596  ... -6.109475 -6.188243 -6.126184 -6.019745   \n",
      "4 -6.294291 -6.290958 -6.230563  ... -5.644109 -5.829984 -5.629950 -5.733303   \n",
      "\n",
      "      30516     30517     30518     30519     30520     30521  \n",
      "0 -6.313688 -6.390311 -6.009512 -6.146127 -5.888288 -3.754048  \n",
      "1 -5.912569 -6.021194 -5.748196 -5.860054 -5.526853 -3.445302  \n",
      "2 -6.071617 -6.127295 -5.692178 -5.930171 -5.847166 -3.545173  \n",
      "3 -6.037187 -6.113796 -5.863339 -6.047143 -5.739429 -3.519180  \n",
      "4 -5.544781 -5.684249 -5.354697 -5.610734 -5.368764 -3.161266  \n",
      "\n",
      "[5 rows x 30522 columns]\n"
     ]
    }
   ],
   "source": [
    "print(features_test_bert.head())"
   ]
  },
  {
   "cell_type": "code",
   "execution_count": 52,
   "metadata": {
    "scrolled": true
   },
   "outputs": [
    {
     "name": "stdout",
     "output_type": "stream",
     "text": [
      "<class 'pandas.core.frame.DataFrame'>\n",
      "Int64Index: 8000 entries, 0 to 99\n",
      "Columns: 30522 entries, 0 to 30521\n",
      "dtypes: float32(30522)\n",
      "memory usage: 931.5 MB\n",
      "None\n",
      "<class 'pandas.core.frame.DataFrame'>\n",
      "Int64Index: 2000 entries, 0 to 99\n",
      "Columns: 30522 entries, 0 to 30521\n",
      "dtypes: float32(30522)\n",
      "memory usage: 232.9 MB\n",
      "None\n"
     ]
    }
   ],
   "source": [
    "print(features_train_bert.info())\n",
    "print(features_test_bert.info())"
   ]
  },
  {
   "cell_type": "code",
   "execution_count": 55,
   "metadata": {},
   "outputs": [],
   "source": [
    "features_train_np = features_train_bert.to_numpy()\n",
    "features_test_np = features_test_bert.to_numpy()"
   ]
  },
  {
   "cell_type": "code",
   "execution_count": 61,
   "metadata": {},
   "outputs": [
    {
     "name": "stdout",
     "output_type": "stream",
     "text": [
      "[[-6.418116  -6.3903866 -6.3658605 ... -5.738906  -5.5831256 -3.4962614]\n",
      " [-6.5032635 -6.5046616 -6.4820704 ... -5.897549  -5.5930676 -3.3764946]\n",
      " [-6.65964   -6.6684146 -6.6365347 ... -5.958721  -5.6620827 -2.9453535]\n",
      " ...\n",
      " [-6.392671  -6.383506  -6.339144  ... -5.7417192 -5.3663726 -3.4852984]\n",
      " [-6.4922395 -6.4964485 -6.420295  ... -5.9220634 -5.6576996 -3.2984145]\n",
      " [-6.5747976 -6.5663548 -6.509358  ... -5.9465427 -5.6280847 -3.5585675]]\n"
     ]
    }
   ],
   "source": [
    "print(features_train_np)"
   ]
  },
  {
   "cell_type": "code",
   "execution_count": 64,
   "metadata": {},
   "outputs": [
    {
     "name": "stdout",
     "output_type": "stream",
     "text": [
      "Fitting 3 folds for each of 4 candidates, totalling 12 fits\n",
      "Wall time: 6min 7s\n"
     ]
    },
    {
     "name": "stderr",
     "output_type": "stream",
     "text": [
      "C:\\Users\\danie\\anaconda3\\lib\\site-packages\\sklearn\\linear_model\\_logistic.py:763: ConvergenceWarning: lbfgs failed to converge (status=1):\n",
      "STOP: TOTAL NO. of ITERATIONS REACHED LIMIT.\n",
      "\n",
      "Increase the number of iterations (max_iter) or scale the data as shown in:\n",
      "    https://scikit-learn.org/stable/modules/preprocessing.html\n",
      "Please also refer to the documentation for alternative solver options:\n",
      "    https://scikit-learn.org/stable/modules/linear_model.html#logistic-regression\n",
      "  n_iter_i = _check_optimize_result(\n"
     ]
    },
    {
     "data": {
      "text/plain": [
       "GridSearchCV(cv=3,\n",
       "             estimator=LogisticRegression(class_weight='balanced',\n",
       "                                          random_state=123345),\n",
       "             n_jobs=2,\n",
       "             param_grid={'fit_intercept': [True, False],\n",
       "                         'max_iter': [100, 200]},\n",
       "             scoring='f1', verbose=5)"
      ]
     },
     "execution_count": 64,
     "metadata": {},
     "output_type": "execute_result"
    }
   ],
   "source": [
    "%%time\n",
    "#Логистическая регрессия\n",
    "model = LogisticRegression(random_state=123345, class_weight='balanced')\n",
    "parameters = {'fit_intercept':[True,False], 'max_iter':[100,200]}\n",
    "searcher = GridSearchCV(model, parameters, cv=3, scoring='f1', verbose=5, n_jobs=2)\n",
    "searcher.fit(features_train_np, target_train_bert)"
   ]
  },
  {
   "cell_type": "code",
   "execution_count": 65,
   "metadata": {},
   "outputs": [
    {
     "name": "stdout",
     "output_type": "stream",
     "text": [
      "Наилучший результат для  LogisticRegression F1- 0.6112503852673757\n",
      "Наилучшие параметры для  LogisticRegression - {'fit_intercept': False, 'max_iter': 100}\n"
     ]
    }
   ],
   "source": [
    "print(\"Наилучший результат для \",type(model).__name__,\"F1-\", searcher.best_score_)\n",
    "print(\"Наилучшие параметры для \",type(model).__name__,\"-\", searcher.best_params_)\n",
    "result_table.loc[len(result_table)]=('BERT',type(model).__name__,searcher.best_score_)"
   ]
  },
  {
   "cell_type": "code",
   "execution_count": 69,
   "metadata": {},
   "outputs": [
    {
     "name": "stdout",
     "output_type": "stream",
     "text": [
      "Fitting 3 folds for each of 4 candidates, totalling 12 fits\n"
     ]
    },
    {
     "name": "stderr",
     "output_type": "stream",
     "text": [
      "C:\\Users\\danie\\anaconda3\\lib\\site-packages\\sklearn\\svm\\_base.py:985: ConvergenceWarning: Liblinear failed to converge, increase the number of iterations.\n",
      "  warnings.warn(\"Liblinear failed to converge, increase \"\n"
     ]
    },
    {
     "name": "stdout",
     "output_type": "stream",
     "text": [
      "Wall time: 13min 57s\n"
     ]
    },
    {
     "data": {
      "text/plain": [
       "GridSearchCV(cv=3,\n",
       "             estimator=LinearSVC(class_weight='balanced', random_state=12345),\n",
       "             n_jobs=2, param_grid={'C': [0.5, 1.0], 'max_iter': [100, 200]},\n",
       "             scoring='f1', verbose=5)"
      ]
     },
     "execution_count": 69,
     "metadata": {},
     "output_type": "execute_result"
    }
   ],
   "source": [
    "%%time\n",
    "#LinearSVC\n",
    "model = LinearSVC(random_state =12345, class_weight='balanced')\n",
    "parameters = {'C':[0.5,1.0], 'max_iter':[100,200]}\n",
    "searcher = GridSearchCV(model, parameters, cv=3, scoring='f1', verbose=5, n_jobs=2)\n",
    "searcher.fit(features_train_np, target_train_bert)"
   ]
  },
  {
   "cell_type": "code",
   "execution_count": 70,
   "metadata": {},
   "outputs": [
    {
     "name": "stdout",
     "output_type": "stream",
     "text": [
      "Наилучший результат для  LinearSVC F1- 0.649391138968329\n",
      "Наилучшие параметры для  LinearSVC - {'C': 0.5, 'max_iter': 200}\n"
     ]
    }
   ],
   "source": [
    "print(\"Наилучший результат для \",type(model).__name__,\"F1-\", searcher.best_score_)\n",
    "print(\"Наилучшие параметры для \",type(model).__name__,\"-\", searcher.best_params_)\n",
    "result_table.loc[len(result_table)]=('BERT',type(model).__name__,searcher.best_score_)"
   ]
  },
  {
   "cell_type": "code",
   "execution_count": null,
   "metadata": {},
   "outputs": [],
   "source": [
    "result_table"
   ]
  },
  {
   "cell_type": "markdown",
   "metadata": {},
   "source": [
    "<div class=\"alert alert-warning\">\n",
    "<b>Комментарий от ревьюера v1</b> \n",
    "    \n",
    "⚠️ Ты обучил много моделей и попробовал несколько вариантов предобработки данных, во всех случаях ты используешь GridSearchCV - это хороший инструмент, но при использовании с кодировкой или преобразованием признаков, лучше использовать его вместе c Pipeline(позволяет объеденить предобработку признаков и обучение модели). Когда GridSearchCV разбивает выборку на тренировочную и валидационную, то он валидируется на тех же данных, на которых проходило обучение Tf-Idf кодировщика, что может привести к утечке таргета. Если передать pipeline, то он каждый раз будет заново проходить весь путь обработки признаков и отдельно обучать тренировочную и валидационную выборку. (https://scikit-learn.org/stable/tutorial/statistical_inference/putting_together.html пример)\n",
    "</div>\n",
    "\n",
    "\n",
    "<div class=\"alert alert-block alert-info\">\n",
    "<b>Комментарий студента:</b> не успеваю разобраться как разместить в pipline spacey. \n",
    "    Но я ушел от ручного устранения дисбаланса к заданию в моделях параметра class_qeight = 'balanced'. Как минимум для валидации теперь не используются данные с устраненным дисбалансом.\n",
    "</div>"
   ]
  },
  {
   "cell_type": "markdown",
   "metadata": {},
   "source": [
    "<div class=\"alert alert-block alert-success\">\n",
    "<b>Комментарий от ревьюера v2</b>\n",
    "    \n",
    "✔️ Да, теперь ошибки в этом нет. Если будет время для разбирательств, то посмотри в сторону создания своего класса предобработки, там необходимо будет реализовать методы fit и transform. \n",
    "</div>"
   ]
  },
  {
   "cell_type": "markdown",
   "metadata": {},
   "source": [
    "## Выводы"
   ]
  },
  {
   "cell_type": "code",
   "execution_count": 71,
   "metadata": {},
   "outputs": [
    {
     "data": {
      "text/plain": [
       "0.7800555941626129"
      ]
     },
     "execution_count": 71,
     "metadata": {},
     "output_type": "execute_result"
    }
   ],
   "source": [
    "from sklearn.metrics import f1_score\n",
    "best_model = LinearSVC(random_state = 12345,  C=0.5, max_iter= 100) \n",
    "\n",
    "best_model.fit(features_train_spacy, target_train)\n",
    "predicted_test = best_model.predict(features_test_spacy) \n",
    "f1 = f1_score(target_test, predicted_test) \n",
    "f1"
   ]
  },
  {
   "cell_type": "code",
   "execution_count": 72,
   "metadata": {},
   "outputs": [
    {
     "name": "stderr",
     "output_type": "stream",
     "text": [
      "C:\\Users\\danie\\anaconda3\\lib\\site-packages\\sklearn\\svm\\_base.py:985: ConvergenceWarning: Liblinear failed to converge, increase the number of iterations.\n",
      "  warnings.warn(\"Liblinear failed to converge, increase \"\n"
     ]
    },
    {
     "data": {
      "text/plain": [
       "0.1201923076923077"
      ]
     },
     "execution_count": 72,
     "metadata": {},
     "output_type": "execute_result"
    }
   ],
   "source": [
    "best_model = best_model = LinearSVC(random_state = 12345,  C=0.5, max_iter= 200) \n",
    "\n",
    "best_model.fit(features_train_np, target_train_bert)\n",
    "predicted_test = best_model.predict(features_test_np) \n",
    "f1 = f1_score(target_test_bert, predicted_test) \n",
    "f1"
   ]
  },
  {
   "cell_type": "markdown",
   "metadata": {},
   "source": [
    "Удалось достичь нужной f1 меры на тестовой выборке при помощи модели LinearSVC с параметрами max_iter = 100, C = 0.5.\n",
    "Выполнение анализа средствами BERT дало существенно худшие метрики. Не укладывающиеся в поставленную задачу. Что может быть связано с аппаратными ограничениями - на имеющихся мощностях удалось обсчитать менее 10% представленных данных. \n"
   ]
  },
  {
   "cell_type": "markdown",
   "metadata": {},
   "source": [
    "<div class=\"alert alert-block alert-success\">\n",
    "    \n",
    "<b>Комментарий от ревьюера v1</b>\n",
    "    \n",
    "# Общий вывод\n",
    "    \n",
    "✔️ Спасибо за работу, ты сделал даже больше, чем нужно было. В работе выполнен хороший анализ данных и обучено большое количество моделей, особенно хорошо получился BERT, токенизация и создание эмбэддингов произведены правильно. Несколько советов:\n",
    "- Если ты видишь, что у тебя метрика f1 равна 1, то ещё несколько раз просмотри свой проект, скорее всего ты где-то ошибся(подозреваю, что это из-за распределения тестовой выборки);\n",
    "- Чаще выводи результаты своих преобразований, проверяй данные после разделения/предобработки и любых других манипуляций, так ты быстрее отловишь все ошибки.\n",
    "</div>\n",
    "\n",
    "<div class=\"alert alert-block alert-danger\">\n",
    "\n",
    "    \n",
    "❌ Необходимо поправить:\n",
    "    \n",
    "- Нужно помнить, что upsampling или downsampling мы должны делать только на обучающей выборке, тестовая должна отражать распределение реальных данных;\n",
    "- Исправь процес лемматизации данных, проверь, свою функцию на одном предложении;\n",
    "- Аккуратней при преобразовании данных с помощью BERT, странно, что ты не получил ошибку при вызове train_test_split, так как ты преобразуешь 290 комментариев, а меток у тебя 299.\n",
    "</div>\n",
    "\n",
    "Уверен, что ты легко это исправишь, если будут вопросы - задавай) Жду твою работу, удачи!\n",
    "\n",
    "<div class=\"alert alert-block alert-info\">\n",
    "<b>Комментарий студента:</b> \n",
    "исправил. Проверку работы \"на одном предложении\" затер пока правил. Поэтому вывожу .head() уже после того как посчитал весь проект. Пересчитывать уже не успею. Придется bert тогда выкидывать или еще что. А меня уже по итогам дня в академ отправляют.\n",
    "    Просьба принять так.\n",
    "</div>\n"
   ]
  },
  {
   "cell_type": "markdown",
   "metadata": {},
   "source": [
    "<div class=\"alert alert-block alert-success\">\n",
    "<b>Комментарий от ревьюера v2</b>\n",
    "    \n",
    "✔️ Ты исправил все ошибки и получил очень хорошее качество на тесте, поэтому я принимаю проект. Не знаю, может тебе академ нужен по временным причинам, но твой проект на уровень выше остальных, поэтому мне кажется, что ты хорошо освоил программу курса. Надеюсь, что все будет хорошо, удачи)\n",
    "</div>"
   ]
  },
  {
   "cell_type": "markdown",
   "metadata": {},
   "source": [
    "## Чек-лист проверки"
   ]
  },
  {
   "cell_type": "code",
   "execution_count": null,
   "metadata": {},
   "outputs": [],
   "source": []
  },
  {
   "cell_type": "markdown",
   "metadata": {},
   "source": [
    "- [x]  Jupyter Notebook открыт\n",
    "- [ ]  Весь код выполняется без ошибок\n",
    "- [ ]  Ячейки с кодом расположены в порядке исполнения\n",
    "- [ ]  Данные загружены и подготовлены\n",
    "- [ ]  Модели обучены\n",
    "- [ ]  Значение метрики *F1* не меньше 0.75\n",
    "- [ ]  Выводы написаны"
   ]
  }
 ],
 "metadata": {
  "ExecuteTimeLog": [
   {
    "duration": 410,
    "start_time": "2022-07-26T13:54:13.611Z"
   },
   {
    "duration": 2883,
    "start_time": "2022-07-26T13:54:23.277Z"
   },
   {
    "duration": 30,
    "start_time": "2022-07-26T14:30:59.162Z"
   },
   {
    "duration": 18,
    "start_time": "2022-07-26T14:31:19.790Z"
   },
   {
    "duration": 92,
    "start_time": "2022-07-26T14:32:40.557Z"
   },
   {
    "duration": 575,
    "start_time": "2022-07-26T14:33:38.108Z"
   },
   {
    "duration": 103,
    "start_time": "2022-07-26T14:45:26.718Z"
   },
   {
    "duration": 85,
    "start_time": "2022-07-26T14:46:18.483Z"
   },
   {
    "duration": 86,
    "start_time": "2022-07-26T14:46:30.606Z"
   },
   {
    "duration": 112,
    "start_time": "2022-07-26T14:47:38.762Z"
   },
   {
    "duration": 55,
    "start_time": "2022-07-26T16:15:11.913Z"
   },
   {
    "duration": 380,
    "start_time": "2022-07-26T16:15:17.791Z"
   },
   {
    "duration": 2254,
    "start_time": "2022-07-26T16:15:18.172Z"
   },
   {
    "duration": 32,
    "start_time": "2022-07-26T16:15:20.427Z"
   },
   {
    "duration": 17,
    "start_time": "2022-07-26T16:15:20.461Z"
   },
   {
    "duration": 123,
    "start_time": "2022-07-26T16:15:20.479Z"
   },
   {
    "duration": 558,
    "start_time": "2022-07-26T16:15:20.604Z"
   },
   {
    "duration": 120,
    "start_time": "2022-07-26T16:15:21.163Z"
   },
   {
    "duration": 96,
    "start_time": "2022-07-26T16:15:21.285Z"
   },
   {
    "duration": 72,
    "start_time": "2022-07-26T16:16:17.367Z"
   },
   {
    "duration": 86,
    "start_time": "2022-07-26T16:16:24.221Z"
   },
   {
    "duration": 89,
    "start_time": "2022-07-26T16:17:32.342Z"
   },
   {
    "duration": 92,
    "start_time": "2022-07-26T16:43:56.054Z"
   },
   {
    "duration": 87,
    "start_time": "2022-07-26T16:45:02.202Z"
   },
   {
    "duration": 91,
    "start_time": "2022-07-26T16:45:14.207Z"
   },
   {
    "duration": 98,
    "start_time": "2022-07-27T21:16:56.045Z"
   },
   {
    "duration": 1194,
    "start_time": "2022-07-27T21:17:01.694Z"
   },
   {
    "duration": 2345,
    "start_time": "2022-07-27T21:17:02.890Z"
   },
   {
    "duration": 37,
    "start_time": "2022-07-27T21:17:05.240Z"
   },
   {
    "duration": 21,
    "start_time": "2022-07-27T21:17:05.279Z"
   },
   {
    "duration": 139,
    "start_time": "2022-07-27T21:17:05.302Z"
   },
   {
    "duration": 581,
    "start_time": "2022-07-27T21:17:05.443Z"
   },
   {
    "duration": 137,
    "start_time": "2022-07-27T21:17:06.026Z"
   },
   {
    "duration": 211,
    "start_time": "2022-07-27T21:17:06.165Z"
   },
   {
    "duration": 125,
    "start_time": "2022-07-27T21:17:06.378Z"
   },
   {
    "duration": 7,
    "start_time": "2022-07-27T21:17:06.505Z"
   },
   {
    "duration": 4,
    "start_time": "2022-07-27T21:17:06.514Z"
   },
   {
    "duration": 168,
    "start_time": "2022-07-27T21:17:06.520Z"
   },
   {
    "duration": 14,
    "start_time": "2022-08-01T11:41:50.561Z"
   },
   {
    "duration": 143976,
    "start_time": "2022-08-01T11:41:50.577Z"
   },
   {
    "duration": 3022,
    "start_time": "2022-08-01T11:44:14.555Z"
   },
   {
    "duration": 44,
    "start_time": "2022-08-01T11:44:17.579Z"
   },
   {
    "duration": 19,
    "start_time": "2022-08-01T11:44:17.626Z"
   },
   {
    "duration": 150,
    "start_time": "2022-08-01T11:44:17.647Z"
   },
   {
    "duration": 393,
    "start_time": "2022-08-01T11:44:17.799Z"
   },
   {
    "duration": 116,
    "start_time": "2022-08-01T11:44:18.194Z"
   },
   {
    "duration": 113,
    "start_time": "2022-08-01T11:44:18.312Z"
   },
   {
    "duration": 5,
    "start_time": "2022-08-01T11:44:18.427Z"
   },
   {
    "duration": 16,
    "start_time": "2022-08-01T11:44:18.434Z"
   },
   {
    "duration": 14,
    "start_time": "2022-08-01T11:54:12.521Z"
   },
   {
    "duration": 141843,
    "start_time": "2022-08-01T11:54:12.537Z"
   },
   {
    "duration": 2980,
    "start_time": "2022-08-01T11:56:34.381Z"
   },
   {
    "duration": 32,
    "start_time": "2022-08-01T11:56:37.362Z"
   },
   {
    "duration": 19,
    "start_time": "2022-08-01T11:56:37.396Z"
   },
   {
    "duration": 131,
    "start_time": "2022-08-01T11:56:37.416Z"
   },
   {
    "duration": 393,
    "start_time": "2022-08-01T11:56:37.549Z"
   },
   {
    "duration": 132,
    "start_time": "2022-08-01T11:56:37.944Z"
   },
   {
    "duration": 95,
    "start_time": "2022-08-01T11:56:38.078Z"
   },
   {
    "duration": 7,
    "start_time": "2022-08-01T11:56:38.174Z"
   },
   {
    "duration": 5,
    "start_time": "2022-08-01T11:56:38.183Z"
   },
   {
    "duration": 115,
    "start_time": "2022-08-01T13:51:20.275Z"
   },
   {
    "duration": 9,
    "start_time": "2022-08-01T14:05:07.443Z"
   },
   {
    "duration": 133138,
    "start_time": "2022-08-01T14:05:07.456Z"
   },
   {
    "duration": 3022,
    "start_time": "2022-08-01T14:07:20.597Z"
   },
   {
    "duration": 33,
    "start_time": "2022-08-01T14:07:23.620Z"
   },
   {
    "duration": 20,
    "start_time": "2022-08-01T14:07:23.655Z"
   },
   {
    "duration": 136,
    "start_time": "2022-08-01T14:07:23.678Z"
   },
   {
    "duration": 375,
    "start_time": "2022-08-01T14:07:23.815Z"
   },
   {
    "duration": 136,
    "start_time": "2022-08-01T14:07:24.192Z"
   },
   {
    "duration": 98,
    "start_time": "2022-08-01T14:07:24.330Z"
   },
   {
    "duration": 17,
    "start_time": "2022-08-01T14:07:24.429Z"
   },
   {
    "duration": 9,
    "start_time": "2022-08-01T14:07:24.448Z"
   },
   {
    "duration": 1588,
    "start_time": "2022-08-01T14:08:58.094Z"
   },
   {
    "duration": 153,
    "start_time": "2022-08-01T14:38:25.689Z"
   },
   {
    "duration": 4,
    "start_time": "2022-08-01T17:08:29.542Z"
   },
   {
    "duration": 220,
    "start_time": "2022-08-01T17:08:29.548Z"
   },
   {
    "duration": 818,
    "start_time": "2022-08-01T17:08:29.770Z"
   },
   {
    "duration": 31,
    "start_time": "2022-08-01T17:08:30.590Z"
   },
   {
    "duration": 17,
    "start_time": "2022-08-01T17:08:30.624Z"
   },
   {
    "duration": 133,
    "start_time": "2022-08-01T17:08:30.643Z"
   },
   {
    "duration": 236,
    "start_time": "2022-08-01T17:08:30.778Z"
   },
   {
    "duration": 105,
    "start_time": "2022-08-01T17:08:31.017Z"
   },
   {
    "duration": 103,
    "start_time": "2022-08-01T17:08:31.124Z"
   },
   {
    "duration": 4,
    "start_time": "2022-08-01T17:08:31.230Z"
   },
   {
    "duration": 19,
    "start_time": "2022-08-01T17:08:31.236Z"
   },
   {
    "duration": 47,
    "start_time": "2022-08-01T17:08:51.443Z"
   },
   {
    "duration": 5,
    "start_time": "2022-08-01T17:08:54.853Z"
   },
   {
    "duration": 136,
    "start_time": "2022-08-03T18:58:17.726Z"
   }
  ],
  "kernelspec": {
   "display_name": "Python 3 (ipykernel)",
   "language": "python",
   "name": "python3"
  },
  "language_info": {
   "codemirror_mode": {
    "name": "ipython",
    "version": 3
   },
   "file_extension": ".py",
   "mimetype": "text/x-python",
   "name": "python",
   "nbconvert_exporter": "python",
   "pygments_lexer": "ipython3",
   "version": "3.9.5"
  },
  "toc": {
   "base_numbering": 1,
   "nav_menu": {},
   "number_sections": true,
   "sideBar": true,
   "skip_h1_title": true,
   "title_cell": "Содержание",
   "title_sidebar": "Contents",
   "toc_cell": true,
   "toc_position": {
    "height": "calc(100% - 180px)",
    "left": "10px",
    "top": "150px",
    "width": "302.391px"
   },
   "toc_section_display": true,
   "toc_window_display": false
  }
 },
 "nbformat": 4,
 "nbformat_minor": 2
}
